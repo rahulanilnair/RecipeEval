{
  "nbformat": 4,
  "nbformat_minor": 0,
  "metadata": {
    "colab": {
      "provenance": [],
      "gpuType": "T4"
    },
    "kernelspec": {
      "name": "python3",
      "display_name": "Python 3"
    },
    "language_info": {
      "name": "python"
    },
    "accelerator": "GPU",
    "widgets": {
      "application/vnd.jupyter.widget-state+json": {
        "82aa23b52fc04fa9908f695ed3abf63b": {
          "model_module": "@jupyter-widgets/controls",
          "model_name": "HBoxModel",
          "model_module_version": "1.5.0",
          "state": {
            "_dom_classes": [],
            "_model_module": "@jupyter-widgets/controls",
            "_model_module_version": "1.5.0",
            "_model_name": "HBoxModel",
            "_view_count": null,
            "_view_module": "@jupyter-widgets/controls",
            "_view_module_version": "1.5.0",
            "_view_name": "HBoxView",
            "box_style": "",
            "children": [
              "IPY_MODEL_d548ff3d2b3f4ecbb5423d9505d0ac1e",
              "IPY_MODEL_fe234b92e3554e4681f08eb996dfe4cf",
              "IPY_MODEL_fce92a30ac854116966ab86f4d2933a2"
            ],
            "layout": "IPY_MODEL_3e282e0014eb4eb282d23acaf1f979de"
          }
        },
        "d548ff3d2b3f4ecbb5423d9505d0ac1e": {
          "model_module": "@jupyter-widgets/controls",
          "model_name": "HTMLModel",
          "model_module_version": "1.5.0",
          "state": {
            "_dom_classes": [],
            "_model_module": "@jupyter-widgets/controls",
            "_model_module_version": "1.5.0",
            "_model_name": "HTMLModel",
            "_view_count": null,
            "_view_module": "@jupyter-widgets/controls",
            "_view_module_version": "1.5.0",
            "_view_name": "HTMLView",
            "description": "",
            "description_tooltip": null,
            "layout": "IPY_MODEL_7caf009f1a894d2c985e7266666ca607",
            "placeholder": "​",
            "style": "IPY_MODEL_d9fcb8566a2c4eca87f46c48d393c08f",
            "value": "Loading checkpoint shards: 100%"
          }
        },
        "fe234b92e3554e4681f08eb996dfe4cf": {
          "model_module": "@jupyter-widgets/controls",
          "model_name": "FloatProgressModel",
          "model_module_version": "1.5.0",
          "state": {
            "_dom_classes": [],
            "_model_module": "@jupyter-widgets/controls",
            "_model_module_version": "1.5.0",
            "_model_name": "FloatProgressModel",
            "_view_count": null,
            "_view_module": "@jupyter-widgets/controls",
            "_view_module_version": "1.5.0",
            "_view_name": "ProgressView",
            "bar_style": "success",
            "description": "",
            "description_tooltip": null,
            "layout": "IPY_MODEL_30da7901ba17435a96a6128a77e500de",
            "max": 2,
            "min": 0,
            "orientation": "horizontal",
            "style": "IPY_MODEL_6fadaff95bb0435e8f33d5329efd57a3",
            "value": 2
          }
        },
        "fce92a30ac854116966ab86f4d2933a2": {
          "model_module": "@jupyter-widgets/controls",
          "model_name": "HTMLModel",
          "model_module_version": "1.5.0",
          "state": {
            "_dom_classes": [],
            "_model_module": "@jupyter-widgets/controls",
            "_model_module_version": "1.5.0",
            "_model_name": "HTMLModel",
            "_view_count": null,
            "_view_module": "@jupyter-widgets/controls",
            "_view_module_version": "1.5.0",
            "_view_name": "HTMLView",
            "description": "",
            "description_tooltip": null,
            "layout": "IPY_MODEL_ecf82b9fb73043dbbc30e1c29d0a49a0",
            "placeholder": "​",
            "style": "IPY_MODEL_febc69070f8246e19410abd08b81f3da",
            "value": " 2/2 [00:01&lt;00:00,  1.26it/s]"
          }
        },
        "3e282e0014eb4eb282d23acaf1f979de": {
          "model_module": "@jupyter-widgets/base",
          "model_name": "LayoutModel",
          "model_module_version": "1.2.0",
          "state": {
            "_model_module": "@jupyter-widgets/base",
            "_model_module_version": "1.2.0",
            "_model_name": "LayoutModel",
            "_view_count": null,
            "_view_module": "@jupyter-widgets/base",
            "_view_module_version": "1.2.0",
            "_view_name": "LayoutView",
            "align_content": null,
            "align_items": null,
            "align_self": null,
            "border": null,
            "bottom": null,
            "display": null,
            "flex": null,
            "flex_flow": null,
            "grid_area": null,
            "grid_auto_columns": null,
            "grid_auto_flow": null,
            "grid_auto_rows": null,
            "grid_column": null,
            "grid_gap": null,
            "grid_row": null,
            "grid_template_areas": null,
            "grid_template_columns": null,
            "grid_template_rows": null,
            "height": null,
            "justify_content": null,
            "justify_items": null,
            "left": null,
            "margin": null,
            "max_height": null,
            "max_width": null,
            "min_height": null,
            "min_width": null,
            "object_fit": null,
            "object_position": null,
            "order": null,
            "overflow": null,
            "overflow_x": null,
            "overflow_y": null,
            "padding": null,
            "right": null,
            "top": null,
            "visibility": null,
            "width": null
          }
        },
        "7caf009f1a894d2c985e7266666ca607": {
          "model_module": "@jupyter-widgets/base",
          "model_name": "LayoutModel",
          "model_module_version": "1.2.0",
          "state": {
            "_model_module": "@jupyter-widgets/base",
            "_model_module_version": "1.2.0",
            "_model_name": "LayoutModel",
            "_view_count": null,
            "_view_module": "@jupyter-widgets/base",
            "_view_module_version": "1.2.0",
            "_view_name": "LayoutView",
            "align_content": null,
            "align_items": null,
            "align_self": null,
            "border": null,
            "bottom": null,
            "display": null,
            "flex": null,
            "flex_flow": null,
            "grid_area": null,
            "grid_auto_columns": null,
            "grid_auto_flow": null,
            "grid_auto_rows": null,
            "grid_column": null,
            "grid_gap": null,
            "grid_row": null,
            "grid_template_areas": null,
            "grid_template_columns": null,
            "grid_template_rows": null,
            "height": null,
            "justify_content": null,
            "justify_items": null,
            "left": null,
            "margin": null,
            "max_height": null,
            "max_width": null,
            "min_height": null,
            "min_width": null,
            "object_fit": null,
            "object_position": null,
            "order": null,
            "overflow": null,
            "overflow_x": null,
            "overflow_y": null,
            "padding": null,
            "right": null,
            "top": null,
            "visibility": null,
            "width": null
          }
        },
        "d9fcb8566a2c4eca87f46c48d393c08f": {
          "model_module": "@jupyter-widgets/controls",
          "model_name": "DescriptionStyleModel",
          "model_module_version": "1.5.0",
          "state": {
            "_model_module": "@jupyter-widgets/controls",
            "_model_module_version": "1.5.0",
            "_model_name": "DescriptionStyleModel",
            "_view_count": null,
            "_view_module": "@jupyter-widgets/base",
            "_view_module_version": "1.2.0",
            "_view_name": "StyleView",
            "description_width": ""
          }
        },
        "30da7901ba17435a96a6128a77e500de": {
          "model_module": "@jupyter-widgets/base",
          "model_name": "LayoutModel",
          "model_module_version": "1.2.0",
          "state": {
            "_model_module": "@jupyter-widgets/base",
            "_model_module_version": "1.2.0",
            "_model_name": "LayoutModel",
            "_view_count": null,
            "_view_module": "@jupyter-widgets/base",
            "_view_module_version": "1.2.0",
            "_view_name": "LayoutView",
            "align_content": null,
            "align_items": null,
            "align_self": null,
            "border": null,
            "bottom": null,
            "display": null,
            "flex": null,
            "flex_flow": null,
            "grid_area": null,
            "grid_auto_columns": null,
            "grid_auto_flow": null,
            "grid_auto_rows": null,
            "grid_column": null,
            "grid_gap": null,
            "grid_row": null,
            "grid_template_areas": null,
            "grid_template_columns": null,
            "grid_template_rows": null,
            "height": null,
            "justify_content": null,
            "justify_items": null,
            "left": null,
            "margin": null,
            "max_height": null,
            "max_width": null,
            "min_height": null,
            "min_width": null,
            "object_fit": null,
            "object_position": null,
            "order": null,
            "overflow": null,
            "overflow_x": null,
            "overflow_y": null,
            "padding": null,
            "right": null,
            "top": null,
            "visibility": null,
            "width": null
          }
        },
        "6fadaff95bb0435e8f33d5329efd57a3": {
          "model_module": "@jupyter-widgets/controls",
          "model_name": "ProgressStyleModel",
          "model_module_version": "1.5.0",
          "state": {
            "_model_module": "@jupyter-widgets/controls",
            "_model_module_version": "1.5.0",
            "_model_name": "ProgressStyleModel",
            "_view_count": null,
            "_view_module": "@jupyter-widgets/base",
            "_view_module_version": "1.2.0",
            "_view_name": "StyleView",
            "bar_color": null,
            "description_width": ""
          }
        },
        "ecf82b9fb73043dbbc30e1c29d0a49a0": {
          "model_module": "@jupyter-widgets/base",
          "model_name": "LayoutModel",
          "model_module_version": "1.2.0",
          "state": {
            "_model_module": "@jupyter-widgets/base",
            "_model_module_version": "1.2.0",
            "_model_name": "LayoutModel",
            "_view_count": null,
            "_view_module": "@jupyter-widgets/base",
            "_view_module_version": "1.2.0",
            "_view_name": "LayoutView",
            "align_content": null,
            "align_items": null,
            "align_self": null,
            "border": null,
            "bottom": null,
            "display": null,
            "flex": null,
            "flex_flow": null,
            "grid_area": null,
            "grid_auto_columns": null,
            "grid_auto_flow": null,
            "grid_auto_rows": null,
            "grid_column": null,
            "grid_gap": null,
            "grid_row": null,
            "grid_template_areas": null,
            "grid_template_columns": null,
            "grid_template_rows": null,
            "height": null,
            "justify_content": null,
            "justify_items": null,
            "left": null,
            "margin": null,
            "max_height": null,
            "max_width": null,
            "min_height": null,
            "min_width": null,
            "object_fit": null,
            "object_position": null,
            "order": null,
            "overflow": null,
            "overflow_x": null,
            "overflow_y": null,
            "padding": null,
            "right": null,
            "top": null,
            "visibility": null,
            "width": null
          }
        },
        "febc69070f8246e19410abd08b81f3da": {
          "model_module": "@jupyter-widgets/controls",
          "model_name": "DescriptionStyleModel",
          "model_module_version": "1.5.0",
          "state": {
            "_model_module": "@jupyter-widgets/controls",
            "_model_module_version": "1.5.0",
            "_model_name": "DescriptionStyleModel",
            "_view_count": null,
            "_view_module": "@jupyter-widgets/base",
            "_view_module_version": "1.2.0",
            "_view_name": "StyleView",
            "description_width": ""
          }
        }
      }
    }
  },
  "cells": [
    {
      "cell_type": "code",
      "execution_count": null,
      "metadata": {
        "colab": {
          "base_uri": "https://localhost:8080/",
          "height": 1000,
          "referenced_widgets": [
            "82aa23b52fc04fa9908f695ed3abf63b",
            "d548ff3d2b3f4ecbb5423d9505d0ac1e",
            "fe234b92e3554e4681f08eb996dfe4cf",
            "fce92a30ac854116966ab86f4d2933a2",
            "3e282e0014eb4eb282d23acaf1f979de",
            "7caf009f1a894d2c985e7266666ca607",
            "d9fcb8566a2c4eca87f46c48d393c08f",
            "30da7901ba17435a96a6128a77e500de",
            "6fadaff95bb0435e8f33d5329efd57a3",
            "ecf82b9fb73043dbbc30e1c29d0a49a0",
            "febc69070f8246e19410abd08b81f3da"
          ]
        },
        "id": "CpOWfA3x3G4M",
        "outputId": "e262ef55-27e7-4fe6-ad5a-ca2b9b26f7aa"
      },
      "outputs": [
        {
          "output_type": "stream",
          "name": "stdout",
          "text": [
            "Using device: cuda\n",
            "Loading model and tokenizer...\n"
          ]
        },
        {
          "output_type": "display_data",
          "data": {
            "text/plain": [
              "Loading checkpoint shards:   0%|          | 0/2 [00:00<?, ?it/s]"
            ],
            "application/vnd.jupyter.widget-view+json": {
              "version_major": 2,
              "version_minor": 0,
              "model_id": "82aa23b52fc04fa9908f695ed3abf63b"
            }
          },
          "metadata": {}
        },
        {
          "output_type": "stream",
          "name": "stdout",
          "text": [
            "Loading allergen database and creating vector store...\n",
            "Loading recipe dataset...\n",
            "Generating 1 recipes with allergen substitutions...\n"
          ]
        },
        {
          "output_type": "stream",
          "name": "stderr",
          "text": [
            "\r  0%|          | 0/500 [00:00<?, ?it/s]"
          ]
        },
        {
          "output_type": "stream",
          "name": "stdout",
          "text": [
            "\n",
            "==================================================\n",
            "Generating recipe for: cottage cheese waffles\n",
            "==================================================\n"
          ]
        },
        {
          "output_type": "stream",
          "name": "stderr",
          "text": [
            "\r  0%|          | 1/500 [00:09<1:18:25,  9.43s/it]"
          ]
        },
        {
          "output_type": "stream",
          "name": "stdout",
          "text": [
            "flour, salt, eggs, milk, vegetable oil, vanilla extract, cottage cheese\n",
            "\n",
            "=== Allergen Substitutions Made ===\n",
            "Replaced 'eggs' with 'flax eggs'\n",
            "\n",
            "==================================================\n",
            "Generating recipe for: cream cheese crostata with orange marmalade\n",
            "==================================================\n"
          ]
        },
        {
          "output_type": "stream",
          "name": "stderr",
          "text": [
            "\r  0%|          | 2/500 [00:18<1:16:36,  9.23s/it]"
          ]
        },
        {
          "output_type": "stream",
          "name": "stdout",
          "text": [
            "cake flour, sugar, egg yolk, unsalted butter, cream cheese, mascarpone cheese, orange marmalade, sliced almonds\n",
            "\n",
            "==================================================\n",
            "Generating recipe for: fusilli with shrimp and arugula\n",
            "==================================================\n"
          ]
        },
        {
          "output_type": "stream",
          "name": "stderr",
          "text": [
            "\r  1%|          | 3/500 [00:27<1:16:57,  9.29s/it]"
          ]
        },
        {
          "output_type": "stream",
          "name": "stdout",
          "text": [
            "olive oil, shallot, garlic, crushed red pepper flakes, dry white wine, large shrimp, fusilli, arugula\n",
            "\n",
            "==================================================\n",
            "Generating recipe for: oven roasted prunes wrapped with pancetta\n",
            "==================================================\n"
          ]
        },
        {
          "output_type": "stream",
          "name": "stderr",
          "text": [
            "\r  1%|          | 4/500 [00:37<1:16:40,  9.28s/it]"
          ]
        },
        {
          "output_type": "stream",
          "name": "stdout",
          "text": [
            "prunes, blue cheese, pancetta\n",
            "\n",
            "=== Allergen Substitutions Made ===\n",
            "Replaced 'prunes' with 'seeds'\n",
            "Replaced 'blue cheese' with 'coconut cream'\n",
            "Replaced 'pancetta' with 'almond flour'\n",
            "\n",
            "==================================================\n",
            "Generating recipe for: strawberry crush jello with pretzels\n",
            "==================================================\n"
          ]
        },
        {
          "output_type": "stream",
          "name": "stderr",
          "text": [
            "\r  1%|          | 5/500 [00:46<1:16:06,  9.23s/it]"
          ]
        },
        {
          "output_type": "stream",
          "name": "stdout",
          "text": [
            "pretzels, margarine, sugar, cream cheese, confectioners' sugar, cool whip, strawberry jell-o gelatin dessert, boiling water, frozen strawberries\n",
            "\n",
            "==================================================\n",
            "Generating recipe for: thai sesame beef\n",
            "==================================================\n"
          ]
        },
        {
          "output_type": "stream",
          "name": "stderr",
          "text": [
            "\r  1%|          | 6/500 [00:53<1:10:51,  8.61s/it]"
          ]
        },
        {
          "output_type": "stream",
          "name": "stdout",
          "text": [
            "green onion, low sodium soy sauce, water, dry sherry, brown sugar, sesame seeds, garlic cloves, fresh ground black pepper, lean beef\n",
            "\n",
            "==================================================\n",
            "Generating recipe for: maggiano s stuffed mushrooms\n",
            "==================================================\n"
          ]
        },
        {
          "output_type": "stream",
          "name": "stderr",
          "text": [
            "\r  1%|▏         | 7/500 [00:55<51:58,  6.33s/it]  "
          ]
        },
        {
          "output_type": "stream",
          "name": "stdout",
          "text": [
            "salt, ground black pepper, granulated garlic, dried oregano, fresh basil, fresh parsley, paprika, mushrooms, garlic, extra virgin olive oil, fresh spinach, unsalted butter, fontina cheese, japanese-style bread crumbs\n",
            "\n",
            "==================================================\n",
            "Generating recipe for: tomato poached pork  4 ww pts\n",
            "==================================================\n"
          ]
        },
        {
          "output_type": "stream",
          "name": "stderr",
          "text": [
            "\r  2%|▏         | 8/500 [01:04<59:06,  7.21s/it]"
          ]
        },
        {
          "output_type": "stream",
          "name": "stdout",
          "text": [
            "tomato juice, balsamic vinegar, garlic cloves, soy sauce, honey, red pepper flakes, pork tenderloin\n",
            "\n",
            "==================================================\n",
            "Generating recipe for: bubble pizza\n",
            "==================================================\n"
          ]
        },
        {
          "output_type": "stream",
          "name": "stderr",
          "text": [
            "\r  2%|▏         | 9/500 [01:10<56:05,  6.85s/it]"
          ]
        },
        {
          "output_type": "stream",
          "name": "stdout",
          "text": [
            "ready-to-bake refrigerated buttermilk flaky biscuits, pizza sauce, mozzarella cheese, pepperoni\n",
            "\n",
            "==================================================\n",
            "Generating recipe for: slow cooker chicken fajitas\n",
            "==================================================\n"
          ]
        },
        {
          "output_type": "stream",
          "name": "stderr",
          "text": [
            "\r  2%|▏         | 10/500 [01:19<1:02:13,  7.62s/it]"
          ]
        },
        {
          "output_type": "stream",
          "name": "stdout",
          "text": [
            "boneless skinless chicken breast halves, onion, red sweet bell pepper, ground cumin, chili powder, lime juice, chicken broth, flour tortillas, guacamole, sour cream, lettuce, tomatoes\n",
            "\n",
            "==================================================\n",
            "Generating recipe for: meatloaf with tangy tomato gravy\n",
            "==================================================\n"
          ]
        },
        {
          "output_type": "stream",
          "name": "stderr",
          "text": [
            "\r  2%|▏         | 11/500 [01:28<1:05:44,  8.07s/it]"
          ]
        },
        {
          "output_type": "stream",
          "name": "stdout",
          "text": [
            "ground beef, onion, carrot, egg, salt & pepper, fresh tomato, chutney, worcestershire sauce, ketchup, mustard, cloves, bay leaf, salt, water\n",
            "\n",
            "==================================================\n",
            "Generating recipe for: asparagus  prawn and dill salad\n",
            "==================================================\n"
          ]
        },
        {
          "output_type": "stream",
          "name": "stderr",
          "text": [
            "\r  2%|▏         | 12/500 [01:38<1:09:08,  8.50s/it]"
          ]
        },
        {
          "output_type": "stream",
          "name": "stdout",
          "text": [
            "asparagus, cucumber, king prawns, olive oil, fresh dill leaves, lemon juice, coarse grain mustard, salt & fresh ground pepper\n",
            "\n",
            "=== Allergen Substitutions Made ===\n",
            "Replaced 'asparagus' with 'poppy seeds'\n",
            "\n",
            "==================================================\n",
            "Generating recipe for: pumpkin oat bran muffins\n",
            "==================================================\n"
          ]
        },
        {
          "output_type": "stream",
          "name": "stderr",
          "text": [
            "\r  3%|▎         | 13/500 [01:43<1:01:45,  7.61s/it]"
          ]
        },
        {
          "output_type": "stream",
          "name": "stdout",
          "text": [
            "oat bran, brown sugar, all-purpose flour, baking powder, pumpkin pie spice, salt, pumpkin, skim milk, egg whites, vegetable oil, vegetable oil cooking spray\n",
            "\n",
            "=== Allergen Substitutions Made ===\n",
            "Replaced 'pumpkin' with 'poppy seeds'\n",
            "\n",
            "==================================================\n",
            "Generating recipe for: ranch style salad dressing\n",
            "==================================================\n"
          ]
        },
        {
          "output_type": "stream",
          "name": "stderr",
          "text": [
            "\r  3%|▎         | 14/500 [01:53<1:06:30,  8.21s/it]"
          ]
        },
        {
          "output_type": "stream",
          "name": "stdout",
          "text": [
            "mayonnaise, buttermilk, red wine vinegar, sugar, garlic powder, onion powder, dried parsley, dried dill, fresh ground black pepper, salt, sweet paprika\n",
            "\n",
            "=== Allergen Substitutions Made ===\n",
            "Replaced 'salt' with 'coconut yogurt'\n",
            "\n",
            "==================================================\n",
            "Generating recipe for: new orleans rice batter cakes\n",
            "==================================================\n"
          ]
        },
        {
          "output_type": "stream",
          "name": "stderr",
          "text": [
            "\r  3%|▎         | 15/500 [02:02<1:09:08,  8.55s/it]"
          ]
        },
        {
          "output_type": "stream",
          "name": "stdout",
          "text": [
            "flour, baking powder, salt, egg, milk, corn syrup, cooked rice, butter\n",
            "\n",
            "=== Allergen Substitutions Made ===\n",
            "Replaced 'salt' with 'coconut yogurt'\n",
            "Replaced 'butter' with 'coconut oil'\n",
            "\n",
            "==================================================\n",
            "Generating recipe for: simple fruit salad\n",
            "==================================================\n"
          ]
        },
        {
          "output_type": "stream",
          "name": "stderr",
          "text": [
            "\r  3%|▎         | 16/500 [02:08<1:00:50,  7.54s/it]"
          ]
        },
        {
          "output_type": "stream",
          "name": "stdout",
          "text": [
            "bananas, peaches, strawberry, blueberries\n",
            "\n",
            "=== Allergen Substitutions Made ===\n",
            "Replaced 'strawberry' with 'coconut yogurt'\n",
            "\n",
            "==================================================\n",
            "Generating recipe for: ground chicken casserole\n",
            "==================================================\n"
          ]
        },
        {
          "output_type": "stream",
          "name": "stderr",
          "text": [
            "\r  3%|▎         | 17/500 [02:17<1:05:22,  8.12s/it]"
          ]
        },
        {
          "output_type": "stream",
          "name": "stdout",
          "text": [
            "macaroni & cheese dinner mix, butter, milk, olive oil, walla walla onion, sliced mushrooms, ground chicken, fresh ground pepper, stewed tomatoes, fresh basil leaf, breadcrumbs, parmesan cheese\n",
            "\n",
            "==================================================\n",
            "Generating recipe for: cream cheese dip for the lazy\n",
            "==================================================\n"
          ]
        },
        {
          "output_type": "stream",
          "name": "stderr",
          "text": [
            "\r  4%|▎         | 18/500 [02:23<1:00:05,  7.48s/it]"
          ]
        },
        {
          "output_type": "stream",
          "name": "stdout",
          "text": [
            "cream cheese, tomatoes, garlic, fresh ground pepper\n",
            "\n",
            "==================================================\n",
            "Generating recipe for: my own lasagna oamc\n",
            "==================================================\n"
          ]
        },
        {
          "output_type": "stream",
          "name": "stderr",
          "text": [
            "\r  4%|▍         | 19/500 [02:32<1:04:42,  8.07s/it]"
          ]
        },
        {
          "output_type": "stream",
          "name": "stdout",
          "text": [
            "ground beef, spaghetti sauce, ricotta cheese, mozzarella cheese, egg, no-boil lasagna noodles\n",
            "\n",
            "==================================================\n",
            "Generating recipe for: spicy chicken   sausage kabobs\n",
            "==================================================\n"
          ]
        },
        {
          "output_type": "stream",
          "name": "stderr",
          "text": [
            "\r  4%|▍         | 20/500 [02:35<50:39,  6.33s/it]  "
          ]
        },
        {
          "output_type": "stream",
          "name": "stdout",
          "text": [
            "chicken breast fillets, chorizo sausage, red bell pepper, red onion, olive oil, garlic cloves, red curry paste, honey\n",
            "\n",
            "==================================================\n",
            "Generating recipe for: mango banana cake\n",
            "==================================================\n"
          ]
        },
        {
          "output_type": "stream",
          "name": "stderr",
          "text": [
            "\r  4%|▍         | 21/500 [02:44<57:34,  7.21s/it]"
          ]
        },
        {
          "output_type": "stream",
          "name": "stdout",
          "text": [
            "flour, cornstarch, baking powder, baking soda, salt, ground nutmeg, unsalted butter, egg yolk, sugar, eggs, sour cream, vanilla extract, banana, cream cheese, powdered sugar, mangoes, fresh lemon juice, egg yolks, mango, mint sprig\n",
            "\n",
            "==================================================\n",
            "Generating recipe for: snickers fudge\n",
            "==================================================\n"
          ]
        },
        {
          "output_type": "stream",
          "name": "stderr",
          "text": [
            "\r  4%|▍         | 22/500 [02:47<46:17,  5.81s/it]"
          ]
        },
        {
          "output_type": "stream",
          "name": "stdout",
          "text": [
            "semi-sweet chocolate chips, snickers candy bars, milk chocolate frosting\n",
            "\n",
            "==================================================\n",
            "Generating recipe for: curried tuna rice salad\n",
            "==================================================\n"
          ]
        },
        {
          "output_type": "stream",
          "name": "stderr",
          "text": [
            "\r  5%|▍         | 23/500 [02:56<53:50,  6.77s/it]"
          ]
        },
        {
          "output_type": "stream",
          "name": "stdout",
          "text": [
            "canned tuna, cooked rice, carrot, celery, onions, mayonnaise, curry, lemon juice, salt\n",
            "\n",
            "=== Allergen Substitutions Made ===\n",
            "Replaced 'carrot' with 'hearts of palm'\n",
            "Replaced 'celery' with 'flax eggs'\n",
            "\n",
            "==================================================\n",
            "Generating recipe for: fabulous 2 ingredient lemon pudding   4 ww points\n",
            "==================================================\n"
          ]
        },
        {
          "output_type": "stream",
          "name": "stderr",
          "text": [
            "\r  5%|▍         | 24/500 [03:00<47:47,  6.02s/it]"
          ]
        },
        {
          "output_type": "stream",
          "name": "stdout",
          "text": [
            "sugar free fat free french vanilla pudding and pie filling mix, sugar-free lemon gelatin, water\n",
            "\n",
            "==================================================\n",
            "Generating recipe for: warm citrus bake\n",
            "==================================================\n"
          ]
        },
        {
          "output_type": "stream",
          "name": "stderr",
          "text": [
            "\r  5%|▌         | 25/500 [03:03<40:00,  5.05s/it]"
          ]
        },
        {
          "output_type": "stream",
          "name": "stdout",
          "text": [
            "grapefruits, oranges, fresh pineapple chunk, brown sugar, butter\n",
            "\n",
            "==================================================\n",
            "Generating recipe for: mini meatloaf   low carb\n",
            "==================================================\n"
          ]
        },
        {
          "output_type": "stream",
          "name": "stderr",
          "text": [
            "\r  5%|▌         | 26/500 [03:05<33:27,  4.23s/it]"
          ]
        },
        {
          "output_type": "stream",
          "name": "stdout",
          "text": [
            "low-sugar ketchup, splenda brown sugar blend, apple cider vinegar, colby-monterey jack cheese, lean ground beef, egg whites, breadcrumbs, salt, black pepper, onion powder\n",
            "\n",
            "==================================================\n",
            "Generating recipe for: cheese stuffed anaheim peppers\n",
            "==================================================\n"
          ]
        },
        {
          "output_type": "stream",
          "name": "stderr",
          "text": [
            "\r  5%|▌         | 27/500 [03:13<43:09,  5.47s/it]"
          ]
        },
        {
          "output_type": "stream",
          "name": "stdout",
          "text": [
            "anaheim chilies, hot red chili pepper, hot green chili pepper, cream cheese, feta cheese, fresh herb, fresh ground pepper\n",
            "\n",
            "==================================================\n",
            "Generating recipe for: peach tarte tatin\n",
            "==================================================\n"
          ]
        },
        {
          "output_type": "stream",
          "name": "stderr",
          "text": [
            "\r  6%|▌         | 28/500 [03:23<51:53,  6.60s/it]"
          ]
        },
        {
          "output_type": "stream",
          "name": "stdout",
          "text": [
            "all-purpose flour, sugar, orange zest, baking powder, salt, unsalted butter, ice water, apple cider vinegar, water, peaches, whipped cream\n",
            "\n",
            "=== Allergen Substitutions Made ===\n",
            "Replaced 'salt' with 'coconut yogurt'\n",
            "\n",
            "==================================================\n",
            "Generating recipe for: caperberry gravy\n",
            "==================================================\n"
          ]
        },
        {
          "output_type": "stream",
          "name": "stderr",
          "text": [
            "\r  6%|▌         | 29/500 [03:25<41:23,  5.27s/it]"
          ]
        },
        {
          "output_type": "stream",
          "name": "stdout",
          "text": [
            "caperberries, beef broth, flour, butter, salt, pepper\n",
            "\n",
            "==================================================\n",
            "Generating recipe for: sherry garlic beef and mushrooms\n",
            "==================================================\n"
          ]
        },
        {
          "output_type": "stream",
          "name": "stderr",
          "text": [
            "\r  6%|▌         | 30/500 [03:33<48:34,  6.20s/it]"
          ]
        },
        {
          "output_type": "stream",
          "name": "stdout",
          "text": [
            "fresh parsley leaves, garlic cloves, extra virgin olive oil, beef tenderloin, salt and pepper, mushroom caps, dry sherry\n",
            "\n",
            "==================================================\n",
            "Generating recipe for: strawberry rhubarb crisp\n",
            "==================================================\n"
          ]
        },
        {
          "output_type": "stream",
          "name": "stderr",
          "text": [
            "\r  6%|▌         | 31/500 [03:36<39:57,  5.11s/it]"
          ]
        },
        {
          "output_type": "stream",
          "name": "stdout",
          "text": [
            "rhubarb, strawberries, sugar, flour, cinnamon, brown sugar, old fashioned oats, nutmeg, butter\n",
            "\n",
            "==================================================\n",
            "Generating recipe for: grilled veggie pasta salad\n",
            "==================================================\n"
          ]
        },
        {
          "output_type": "stream",
          "name": "stderr",
          "text": [
            "\r  6%|▋         | 32/500 [03:40<37:31,  4.81s/it]"
          ]
        },
        {
          "output_type": "stream",
          "name": "stdout",
          "text": [
            "white wine vinegar, dijon mustard, salt, black pepper, extra virgin olive oil, garlic cloves, fresh thyme, fresh oregano, sweet red peppers, green bell peppers, zucchini, summer squash, red onion, tomatoes, linguine, fresh basil, fresh mozzarella cheese\n",
            "\n",
            "=== Allergen Substitutions Made ===\n",
            "Replaced 'tomatoes' with 'coconut aminos'\n",
            "\n",
            "==================================================\n",
            "Generating recipe for: hungarian chocolate cake  rigo jancsi\n",
            "==================================================\n"
          ]
        },
        {
          "output_type": "stream",
          "name": "stderr",
          "text": [
            "\r  7%|▋         | 33/500 [03:49<48:25,  6.22s/it]"
          ]
        },
        {
          "output_type": "stream",
          "name": "stdout",
          "text": [
            "semisweet chocolate, eggs, granulated sugar, espresso powder, water, dutch-processed cocoa powder, unsweetened cocoa, confectioners' sugar, heavy cream, raspberry preserves, apricot preserves, bittersweet chocolate, cocoa\n",
            "\n",
            "==================================================\n",
            "Generating recipe for: grapefruit bread\n",
            "==================================================\n"
          ]
        },
        {
          "output_type": "stream",
          "name": "stderr",
          "text": [
            "\r  7%|▋         | 34/500 [03:59<55:49,  7.19s/it]"
          ]
        },
        {
          "output_type": "stream",
          "name": "stdout",
          "text": [
            "butter, sugar, eggs, flour, salt, baking powder, baking soda, grapefruit, rind of, milk, grapefruit juice, confectioners' sugar\n",
            "\n",
            "=== Allergen Substitutions Made ===\n",
            "Replaced 'butter' with 'coconut oil'\n",
            "Replaced 'sugar' with 'coconut yogurt'\n",
            "Replaced 'eggs' with 'flax eggs'\n",
            "Replaced 'flour' with 'almond flour'\n",
            "\n",
            "==================================================\n",
            "Generating recipe for: cheesy chicken enchilada casserole\n",
            "==================================================\n"
          ]
        },
        {
          "output_type": "stream",
          "name": "stderr",
          "text": [
            "\r  7%|▋         | 35/500 [04:08<1:00:09,  7.76s/it]"
          ]
        },
        {
          "output_type": "stream",
          "name": "stdout",
          "text": [
            "chicken breasts, bacon, onion, corn, green bell pepper, jalapeno pepper, banana peppers, garlic, refried beans, green enchilada sauce, salsa, taco cheese, flour tortillas, salt, ground pepper, cumin, taco seasoning, lime, fresh cilantro\n",
            "\n",
            "==================================================\n",
            "Generating recipe for: champurrado  mexican chocolate beverage\n",
            "==================================================\n"
          ]
        },
        {
          "output_type": "stream",
          "name": "stderr",
          "text": [
            "\r  7%|▋         | 36/500 [04:17<1:04:11,  8.30s/it]"
          ]
        },
        {
          "output_type": "stream",
          "name": "stdout",
          "text": [
            "mexican chocolate, water, milk, masa harina, dark brown sugar\n",
            "\n",
            "==================================================\n",
            "Generating recipe for: chocolate covered espresso beans\n",
            "==================================================\n"
          ]
        },
        {
          "output_type": "stream",
          "name": "stderr",
          "text": [
            "\r  7%|▋         | 37/500 [04:21<53:26,  6.92s/it]  "
          ]
        },
        {
          "output_type": "stream",
          "name": "stdout",
          "text": [
            "dark chocolate, coffee beans, cocoa powder\n",
            "\n",
            "==================================================\n",
            "Generating recipe for: taco meatloaf with all the fixins\n",
            "==================================================\n"
          ]
        },
        {
          "output_type": "stream",
          "name": "stderr",
          "text": [
            "\r  8%|▊         | 38/500 [04:27<50:26,  6.55s/it]"
          ]
        },
        {
          "output_type": "stream",
          "name": "stdout",
          "text": [
            "ground beef, diced onion, diced tomato, taco shell, lettuce, shredded cheddar cheese, sour cream, oregano, ground cumin, salt, garlic powder, chili powder\n",
            "\n",
            "==================================================\n",
            "Generating recipe for: creamy chicken noodle soup with apples\n",
            "==================================================\n"
          ]
        },
        {
          "output_type": "stream",
          "name": "stderr",
          "text": [
            "\r  8%|▊         | 39/500 [04:36<56:08,  7.31s/it]"
          ]
        },
        {
          "output_type": "stream",
          "name": "stdout",
          "text": [
            "butter, leek, granny smith apple, calvados, cider vinegar, chicken broth, apple juice, boneless skinless chicken breasts, egg noodles, heavy cream, gruyere cheese, salt, white pepper, chives\n",
            "\n",
            "=== Allergen Substitutions Made ===\n",
            "Replaced 'butter' with 'coconut oil'\n",
            "\n",
            "==================================================\n",
            "Generating recipe for: brussels sprouts\n",
            "==================================================\n"
          ]
        },
        {
          "output_type": "stream",
          "name": "stderr",
          "text": [
            "\r  8%|▊         | 40/500 [04:42<53:39,  7.00s/it]"
          ]
        },
        {
          "output_type": "stream",
          "name": "stdout",
          "text": [
            "brussels sprouts, butter, flour, onion, homogenized milk, sharp white cheddar cheese, salt, pepper, nutmeg\n",
            "\n",
            "=== Allergen Substitutions Made ===\n",
            "Replaced 'pepper' with 'flax eggs'\n",
            "\n",
            "==================================================\n",
            "Generating recipe for: savory roast pork with apples and parsnips\n",
            "==================================================\n"
          ]
        },
        {
          "output_type": "stream",
          "name": "stderr",
          "text": [
            "\r  8%|▊         | 41/500 [04:51<58:14,  7.61s/it]"
          ]
        },
        {
          "output_type": "stream",
          "name": "stdout",
          "text": [
            "pork loin roast, apple cider, apples, parsnips, onion, garlic powder, brown sugar, ground ginger, salt and pepper, bacon, cornstarch, water\n",
            "\n",
            "=== Allergen Substitutions Made ===\n",
            "Replaced 'onion' with 'seeds'\n",
            "\n",
            "==================================================\n",
            "Generating recipe for: mushroom and spinach stuffed zucchini\n",
            "==================================================\n"
          ]
        },
        {
          "output_type": "stream",
          "name": "stderr",
          "text": [
            "\r  8%|▊         | 42/500 [05:00<1:00:28,  7.92s/it]"
          ]
        },
        {
          "output_type": "stream",
          "name": "stdout",
          "text": [
            "zucchini, onion, garlic, salt, extra virgin olive oil, portabella mushrooms, dried dill, dry sherry, soy sauce, spinach, cooked brown rice, black pepper, tomato juice, fontina cheese\n",
            "\n",
            "=== Allergen Substitutions Made ===\n",
            "Replaced 'onion' with 'seeds'\n",
            "Replaced 'garlic' with 'coconut oil'\n",
            "\n",
            "==================================================\n",
            "Generating recipe for: chocolate mascarpone brownies\n",
            "==================================================\n"
          ]
        },
        {
          "output_type": "stream",
          "name": "stderr",
          "text": [
            "\r  9%|▊         | 43/500 [05:09<1:03:36,  8.35s/it]"
          ]
        },
        {
          "output_type": "stream",
          "name": "stdout",
          "text": [
            "unsalted butter, semisweet chocolate, white sugar, cocoa powder, mascarpone cheese, eggs, pure vanilla extract, all-purpose flour, salt, whipping cream\n",
            "\n",
            "==================================================\n",
            "Generating recipe for: mirj s ultra rich sweet challah\n",
            "==================================================\n"
          ]
        },
        {
          "output_type": "stream",
          "name": "stderr",
          "text": [
            "\r  9%|▉         | 44/500 [05:18<1:05:13,  8.58s/it]"
          ]
        },
        {
          "output_type": "stream",
          "name": "stdout",
          "text": [
            "flour, dried yeast, brown sugar, eggs, salt, margarine, vanilla extract, soymilk\n",
            "\n",
            "=== Allergen Substitutions Made ===\n",
            "Replaced 'flour' with 'almond flour'\n",
            "Replaced 'eggs' with 'flax eggs'\n",
            "\n",
            "==================================================\n",
            "Generating recipe for: sweet corn tamale cakes\n",
            "==================================================\n"
          ]
        },
        {
          "output_type": "stream",
          "name": "stderr",
          "text": [
            "\r  9%|▉         | 45/500 [05:28<1:07:18,  8.88s/it]"
          ]
        },
        {
          "output_type": "stream",
          "name": "stdout",
          "text": [
            "tomatillos, mild green chilies, green onion, cilantro, ground cumin, salt & fresh ground pepper, tomatoes, spanish onion, lime juice, jalapeno, salt, fresh ground pepper, mayonnaise, white vinegar, water, granulated sugar, chili powder, paprika, cayenne pepper, onion powder, garlic powder, corn, butter, masa harina, all-purpose flour, sour cream, avocado\n",
            "\n",
            "=== Allergen Substitutions Made ===\n",
            "Replaced 'tomatoes' with 'coconut aminos'\n",
            "Replaced 'salt' with 'coconut yogurt'\n",
            "\n",
            "==================================================\n",
            "Generating recipe for: asian warm chicken cole slaw\n",
            "==================================================\n"
          ]
        },
        {
          "output_type": "stream",
          "name": "stderr",
          "text": [
            "\r  9%|▉         | 46/500 [05:37<1:07:49,  8.96s/it]"
          ]
        },
        {
          "output_type": "stream",
          "name": "stdout",
          "text": [
            "rice wine vinegar, soy sauce, light brown sugar, garlic cloves, fresh ginger, skinless chicken breast half, dark sesame oil, snow peas, sweet red pepper, chicken broth, coleslaw mix, scallions, sliced almonds\n",
            "\n",
            "==================================================\n",
            "Generating recipe for: thai pumpkin and coconut cream soup\n",
            "==================================================\n"
          ]
        },
        {
          "output_type": "stream",
          "name": "stderr",
          "text": [
            "\r  9%|▉         | 47/500 [05:46<1:08:17,  9.04s/it]"
          ]
        },
        {
          "output_type": "stream",
          "name": "stdout",
          "text": [
            "pumpkin, vegetable stock, ginger, lemongrass, scallions, coconut cream, salt, white pepper, lime, kaffir lime leaves\n",
            "\n",
            "=== Allergen Substitutions Made ===\n",
            "Replaced 'pumpkin' with 'poppy seeds'\n",
            "Replaced 'ginger' with 'poppy seeds'\n",
            "\n",
            "==================================================\n",
            "Generating recipe for: fresh apple mint salsa\n",
            "==================================================\n"
          ]
        },
        {
          "output_type": "stream",
          "name": "stderr",
          "text": [
            "\r 10%|▉         | 48/500 [05:52<1:01:11,  8.12s/it]"
          ]
        },
        {
          "output_type": "stream",
          "name": "stdout",
          "text": [
            "granny smith apples, red bell pepper, red onion, of fresh mint, fresh lime juice, honey, fresh jalapeno peppers, salt, fresh ground pepper\n",
            "\n",
            "==================================================\n",
            "Generating recipe for: instead of ketchup\n",
            "==================================================\n"
          ]
        },
        {
          "output_type": "stream",
          "name": "stderr",
          "text": [
            "\r 10%|▉         | 49/500 [06:00<59:21,  7.90s/it]  "
          ]
        },
        {
          "output_type": "stream",
          "name": "stdout",
          "text": [
            "olive oil, lime juice, fresh parsley leaves, fresh basil leaf, fresh cilantro leaves, garlic cloves, salt, black pepper\n",
            "\n",
            "=== Allergen Substitutions Made ===\n",
            "Replaced 'olive oil' with 'coconut oil'\n",
            "\n",
            "==================================================\n",
            "Generating recipe for: buffalo shrimp with fettuccine   bleu cheese sauce\n",
            "==================================================\n"
          ]
        },
        {
          "output_type": "stream",
          "name": "stderr",
          "text": [
            "\r 10%|█         | 50/500 [06:09<1:02:39,  8.35s/it]"
          ]
        },
        {
          "output_type": "stream",
          "name": "stdout",
          "text": [
            "dry fettuccine, olive oil, medium shrimp, garlic cloves, butter, hot sauce, paprika, fresh chives, onion, sugar, half-and-half, blue cheese\n",
            "\n",
            "Progress saved to generated_recipes_temp_50.json\n",
            "\n",
            "==================================================\n",
            "Generating recipe for: down home chicken   noodles\n",
            "==================================================\n"
          ]
        },
        {
          "output_type": "stream",
          "name": "stderr",
          "text": [
            "\r 10%|█         | 51/500 [06:12<51:29,  6.88s/it]  "
          ]
        },
        {
          "output_type": "stream",
          "name": "stdout",
          "text": [
            "boneless skinless chicken breast, cream of chicken soup, chicken broth, wide egg noodles, salt and pepper\n",
            "\n",
            "==================================================\n",
            "Generating recipe for: french onion grilled cheese  from the sandwich king\n",
            "==================================================\n"
          ]
        },
        {
          "output_type": "stream",
          "name": "stderr",
          "text": [
            "\r 10%|█         | 52/500 [06:22<56:55,  7.62s/it]"
          ]
        },
        {
          "output_type": "stream",
          "name": "stdout",
          "text": [
            "unsalted butter, olive oil, yellow onions, salt and pepper, dry sherry, fresh thyme, american cheese, sourdough bread, butter\n",
            "\n",
            "=== Allergen Substitutions Made ===\n",
            "Replaced 'unsalted butter' with 'coconut oil'\n",
            "Replaced 'butter' with 'coconut oil'\n",
            "\n",
            "==================================================\n",
            "Generating recipe for: shrimp dish\n",
            "==================================================\n"
          ]
        },
        {
          "output_type": "stream",
          "name": "stderr",
          "text": [
            "\r 11%|█         | 53/500 [06:27<52:06,  6.99s/it]"
          ]
        },
        {
          "output_type": "stream",
          "name": "stdout",
          "text": [
            "shrimp, garlic, salt and pepper, lemon juice, mild salsa, hot sauce\n",
            "\n",
            "=== Allergen Substitutions Made ===\n",
            "Replaced 'shrimp' with 'hearts of palm'\n",
            "\n",
            "==================================================\n",
            "Generating recipe for: spicy sriracha ramen\n",
            "==================================================\n"
          ]
        },
        {
          "output_type": "stream",
          "name": "stderr",
          "text": [
            "\r 11%|█         | 54/500 [06:30<43:08,  5.80s/it]"
          ]
        },
        {
          "output_type": "stream",
          "name": "stdout",
          "text": [
            "ramen noodles, egg, gingerroot, vegetable bouillon cube, bean sprouts, soy sauce, sriracha sauce, red pepper flakes, chives\n",
            "\n",
            "==================================================\n",
            "Generating recipe for: honey apple grilled cheese sandwich\n",
            "==================================================\n"
          ]
        },
        {
          "output_type": "stream",
          "name": "stderr",
          "text": [
            "\r 11%|█         | 55/500 [06:40<50:59,  6.87s/it]"
          ]
        },
        {
          "output_type": "stream",
          "name": "stdout",
          "text": [
            "roll, muenster cheese, apples, margarine, honey, honey mustard\n",
            "\n",
            "==================================================\n",
            "Generating recipe for: creamy salsa dip and or taco salad dressing\n",
            "==================================================\n"
          ]
        },
        {
          "output_type": "stream",
          "name": "stderr",
          "text": [
            "\r 11%|█         | 56/500 [06:45<48:11,  6.51s/it]"
          ]
        },
        {
          "output_type": "stream",
          "name": "stdout",
          "text": [
            "salsa, sour cream\n",
            "\n",
            "==================================================\n",
            "Generating recipe for: bbq cheese stuffed burgers\n",
            "==================================================\n"
          ]
        },
        {
          "output_type": "stream",
          "name": "stderr",
          "text": [
            "\r 11%|█▏        | 57/500 [06:55<54:33,  7.39s/it]"
          ]
        },
        {
          "output_type": "stream",
          "name": "stdout",
          "text": [
            "extra lean ground chuck, onion, red pepper, green pepper, fresh garlic, barbecue sauce concentrate, sugar, mccormick's montreal brand steak seasoning, cheese\n",
            "\n",
            "=== Allergen Substitutions Made ===\n",
            "Replaced 'onion' with 'seeds'\n",
            "\n",
            "==================================================\n",
            "Generating recipe for: fried mushrooms\n",
            "==================================================\n"
          ]
        },
        {
          "output_type": "stream",
          "name": "stderr",
          "text": [
            "\r 12%|█▏        | 58/500 [06:55<39:12,  5.32s/it]"
          ]
        },
        {
          "output_type": "stream",
          "name": "stdout",
          "text": [
            "fresh mushrooms, egg, dry breadcrumbs, salt and pepper, dried basil, onion, butter\n",
            "\n",
            "==================================================\n",
            "Generating recipe for: irish cream\n",
            "==================================================\n"
          ]
        },
        {
          "output_type": "stream",
          "name": "stderr",
          "text": [
            "\r 12%|█▏        | 59/500 [07:01<40:31,  5.51s/it]"
          ]
        },
        {
          "output_type": "stream",
          "name": "stdout",
          "text": [
            "brandy, eggs, chocolate syrup, sweetened condensed milk, instant coffee, vanilla extract, almond extract, coconut extract\n",
            "\n",
            "==================================================\n",
            "Generating recipe for: snowballs in a jar\n",
            "==================================================\n"
          ]
        },
        {
          "output_type": "stream",
          "name": "stderr",
          "text": [
            "\r 12%|█▏        | 60/500 [07:11<49:06,  6.70s/it]"
          ]
        },
        {
          "output_type": "stream",
          "name": "stdout",
          "text": [
            "confectioners' sugar, all-purpose flour, pecans\n",
            "\n",
            "==================================================\n",
            "Generating recipe for: raspberry celery seed dressing\n",
            "==================================================\n"
          ]
        },
        {
          "output_type": "stream",
          "name": "stderr",
          "text": [
            "\r 12%|█▏        | 61/500 [07:14<40:24,  5.52s/it]"
          ]
        },
        {
          "output_type": "stream",
          "name": "stdout",
          "text": [
            "sugar, dijon mustard, celery seed, salt, garlic cloves, onion, vegetable oil, raspberry vinegar\n",
            "\n",
            "==================================================\n",
            "Generating recipe for: weight watchers spaghetti with meat sauce 5 points\n",
            "==================================================\n"
          ]
        },
        {
          "output_type": "stream",
          "name": "stderr",
          "text": [
            "\r 12%|█▏        | 62/500 [07:23<48:55,  6.70s/it]"
          ]
        },
        {
          "output_type": "stream",
          "name": "stdout",
          "text": [
            "olive oil, onion, carrot, garlic cloves, lean ground beef, crushed tomatoes in puree, table salt, red pepper flakes, dried basil, cooked whole wheat spaghetti\n",
            "\n",
            "=== Allergen Substitutions Made ===\n",
            "Replaced 'onion' with 'seeds'\n",
            "\n",
            "==================================================\n",
            "Generating recipe for: fudgy orange zucchini cake with orange glaze\n",
            "==================================================\n"
          ]
        },
        {
          "output_type": "stream",
          "name": "stderr",
          "text": [
            "\r 13%|█▎        | 63/500 [07:26<40:32,  5.57s/it]"
          ]
        },
        {
          "output_type": "stream",
          "name": "stdout",
          "text": [
            "all-purpose flour, cocoa, baking powder, baking soda, cinnamon, salt, butter, sugar, eggs, vanilla, milk, zucchini, orange zest, nuts, powdered sugar, fresh orange juice\n",
            "\n",
            "==================================================\n",
            "Generating recipe for: peach and ginger green tea smoothie\n",
            "==================================================\n"
          ]
        },
        {
          "output_type": "stream",
          "name": "stderr",
          "text": [
            "\r 13%|█▎        | 64/500 [07:35<48:52,  6.73s/it]"
          ]
        },
        {
          "output_type": "stream",
          "name": "stdout",
          "text": [
            "peach, banana, green tea leaves, ice, ginger, honey\n",
            "\n",
            "=== Allergen Substitutions Made ===\n",
            "Replaced 'peach' with 'flax eggs'\n",
            "Replaced 'ice' with 'hearts of palm'\n",
            "\n",
            "==================================================\n",
            "Generating recipe for: diane s roasted pepper salsa\n",
            "==================================================\n"
          ]
        },
        {
          "output_type": "stream",
          "name": "stderr",
          "text": [
            "\r 13%|█▎        | 65/500 [07:42<47:33,  6.56s/it]"
          ]
        },
        {
          "output_type": "stream",
          "name": "stdout",
          "text": [
            "tomatoes, onions, bell peppers, cucumbers, lemon juice, lime juice, poblano peppers, jalapeno peppers, garlic, salt, habanero pepper\n",
            "\n",
            "==================================================\n",
            "Generating recipe for: miami margarita\n",
            "==================================================\n"
          ]
        },
        {
          "output_type": "stream",
          "name": "stderr",
          "text": [
            "\r 13%|█▎        | 66/500 [07:49<48:29,  6.70s/it]"
          ]
        },
        {
          "output_type": "stream",
          "name": "stdout",
          "text": [
            "tequila, light beer, frozen limeade concentrate, ice cube, kosher salt\n",
            "\n",
            "==================================================\n",
            "Generating recipe for: peperonta\n",
            "==================================================\n"
          ]
        },
        {
          "output_type": "stream",
          "name": "stderr",
          "text": [
            "\r 13%|█▎        | 67/500 [07:58<53:18,  7.39s/it]"
          ]
        },
        {
          "output_type": "stream",
          "name": "stdout",
          "text": [
            "olive oil, red onion, yellow bell peppers, red bell peppers, zucchini, garlic cloves, water, tomatoes, sea salt, black pepper\n",
            "\n",
            "==================================================\n",
            "Generating recipe for: pesto mayo\n",
            "==================================================\n"
          ]
        },
        {
          "output_type": "stream",
          "name": "stderr",
          "text": [
            "\r 14%|█▎        | 68/500 [08:02<47:21,  6.58s/it]"
          ]
        },
        {
          "output_type": "stream",
          "name": "stdout",
          "text": [
            "fresh basil, garlic clove, salt and pepper, olive oil, mayonnaise\n",
            "\n",
            "==================================================\n",
            "Generating recipe for: julie s pasta sauce\n",
            "==================================================\n"
          ]
        },
        {
          "output_type": "stream",
          "name": "stderr",
          "text": [
            "\r 14%|█▍        | 69/500 [08:11<52:26,  7.30s/it]"
          ]
        },
        {
          "output_type": "stream",
          "name": "stdout",
          "text": [
            "olive oil, sweet onion, garlic clove, crushed tomatoes, tomato paste, water, italian seasoning, sugar, burgundy wine, salt & pepper\n",
            "\n",
            "=== Allergen Substitutions Made ===\n",
            "Replaced 'water' with 'flax eggs'\n",
            "\n",
            "==================================================\n",
            "Generating recipe for: crunchy delicious waffles\n",
            "==================================================\n"
          ]
        },
        {
          "output_type": "stream",
          "name": "stderr",
          "text": [
            "\r 14%|█▍        | 70/500 [08:21<56:57,  7.95s/it]"
          ]
        },
        {
          "output_type": "stream",
          "name": "stdout",
          "text": [
            "flour, baking powder, sugar, salt, eggs, unsalted butter, milk\n",
            "\n",
            "==================================================\n",
            "Generating recipe for: cat s meow cocktail\n",
            "==================================================\n"
          ]
        },
        {
          "output_type": "stream",
          "name": "stderr",
          "text": [
            "\r 14%|█▍        | 71/500 [08:23<44:15,  6.19s/it]"
          ]
        },
        {
          "output_type": "stream",
          "name": "stdout",
          "text": [
            "kahlua, stolichnaya vodka, whipping cream, ice, chocolate syrup, maraschino cherry\n",
            "\n",
            "==================================================\n",
            "Generating recipe for: easy blintz souffle\n",
            "==================================================\n"
          ]
        },
        {
          "output_type": "stream",
          "name": "stderr",
          "text": [
            "\r 14%|█▍        | 72/500 [08:32<51:06,  7.17s/it]"
          ]
        },
        {
          "output_type": "stream",
          "name": "stdout",
          "text": [
            "cheese blintzes, butter, sour cream, salt, eggs, sugar, vanilla, frozen orange juice\n",
            "\n",
            "=== Allergen Substitutions Made ===\n",
            "Replaced 'butter' with 'coconut oil'\n",
            "Replaced 'salt' with 'coconut yogurt'\n",
            "\n",
            "==================================================\n",
            "Generating recipe for: deep dish pizza bundle\n",
            "==================================================\n"
          ]
        },
        {
          "output_type": "stream",
          "name": "stderr",
          "text": [
            "\r 15%|█▍        | 73/500 [08:41<54:58,  7.72s/it]"
          ]
        },
        {
          "output_type": "stream",
          "name": "stdout",
          "text": [
            "prepared pizza crust, mozzarella cheese, pizza sauce, italian seasoning, pepperoni, parmesan cheese\n",
            "\n",
            "==================================================\n",
            "Generating recipe for: a taste of summer citrus salad\n",
            "==================================================\n"
          ]
        },
        {
          "output_type": "stream",
          "name": "stderr",
          "text": [
            "\r 15%|█▍        | 74/500 [08:49<55:55,  7.88s/it]"
          ]
        },
        {
          "output_type": "stream",
          "name": "stdout",
          "text": [
            "navel oranges, red grapefruits, fresh pineapple, seedless grapes, unsweetened orange juice, sugar, fresh spearmint\n",
            "\n",
            "==================================================\n",
            "Generating recipe for: eggnog bavarians\n",
            "==================================================\n"
          ]
        },
        {
          "output_type": "stream",
          "name": "stderr",
          "text": [
            "\r 15%|█▌        | 75/500 [08:53<46:15,  6.53s/it]"
          ]
        },
        {
          "output_type": "stream",
          "name": "stdout",
          "text": [
            "eggnog, unflavored gelatin, vanilla, heavy cream\n",
            "\n",
            "==================================================\n",
            "Generating recipe for: richie s stuffed mushrooms\n",
            "==================================================\n"
          ]
        },
        {
          "output_type": "stream",
          "name": "stderr",
          "text": [
            "\r 15%|█▌        | 76/500 [09:02<52:19,  7.40s/it]"
          ]
        },
        {
          "output_type": "stream",
          "name": "stdout",
          "text": [
            "mushrooms, olive oil, italian sweet sausage, garlic clove, ricotta cheese, parmesan cheese, mozzarella cheese, egg, seasoned dry bread crumb, fresh parsley, salt and pepper\n",
            "\n",
            "==================================================\n",
            "Generating recipe for: avocado quick bread\n",
            "==================================================\n"
          ]
        },
        {
          "output_type": "stream",
          "name": "stderr",
          "text": [
            "\r 15%|█▌        | 77/500 [09:12<56:16,  7.98s/it]"
          ]
        },
        {
          "output_type": "stream",
          "name": "stdout",
          "text": [
            "all-purpose flour, baking soda, baking powder, salt, ground cinnamon, ground allspice, butter, white sugar, eggs, avocados, buttermilk, pecans, raisins, orange zest\n",
            "\n",
            "==================================================\n",
            "Generating recipe for: tropical spice cupcakes\n",
            "==================================================\n"
          ]
        },
        {
          "output_type": "stream",
          "name": "stderr",
          "text": [
            "\r 16%|█▌        | 78/500 [09:21<58:37,  8.34s/it]"
          ]
        },
        {
          "output_type": "stream",
          "name": "stdout",
          "text": [
            "cake flour, baking powder, baking soda, salt, cinnamon, ground ginger, ground nutmeg, ground cloves, butter, brown sugar, sugar, eggs, grand marnier, orange, juice and zest of, coconut milk, buttermilk, coconut, orange juice, cream cheese, confectioners' sugar\n",
            "\n",
            "==================================================\n",
            "Generating recipe for: blueberry crisp cupcakes\n",
            "==================================================\n"
          ]
        },
        {
          "output_type": "stream",
          "name": "stderr",
          "text": [
            "\r 16%|█▌        | 79/500 [09:24<46:39,  6.65s/it]"
          ]
        },
        {
          "output_type": "stream",
          "name": "stdout",
          "text": [
            "flour, baking powder, salt, sugar, butter, milk, almond extract, egg whites, blueberries, oats, light brown sugar, cinnamon, walnuts\n",
            "\n",
            "==================================================\n",
            "Generating recipe for: microwave plum orange jam\n",
            "==================================================\n"
          ]
        },
        {
          "output_type": "stream",
          "name": "stderr",
          "text": [
            "\r 16%|█▌        | 80/500 [09:29<45:03,  6.44s/it]"
          ]
        },
        {
          "output_type": "stream",
          "name": "stdout",
          "text": [
            "blue plums, orange, rind of, sugar, lemon juice, liquid fruit pectin\n",
            "\n",
            "==================================================\n",
            "Generating recipe for: tasty dip\n",
            "==================================================\n"
          ]
        },
        {
          "output_type": "stream",
          "name": "stderr",
          "text": [
            "\r 16%|█▌        | 81/500 [09:36<45:12,  6.47s/it]"
          ]
        },
        {
          "output_type": "stream",
          "name": "stdout",
          "text": [
            "cream of chicken soup, cheddar cheese, sour cream, green chilies, ham, round sourdough loaf\n",
            "\n",
            "==================================================\n",
            "Generating recipe for: cranberry thanksgiving bread\n",
            "==================================================\n"
          ]
        },
        {
          "output_type": "stream",
          "name": "stderr",
          "text": [
            "\r 16%|█▋        | 82/500 [09:45<51:10,  7.35s/it]"
          ]
        },
        {
          "output_type": "stream",
          "name": "stdout",
          "text": [
            "flour, sugar, baking powder, salt, baking soda, butter, egg, orange rind, orange juice, raisins, fresh cranberries\n",
            "\n",
            "==================================================\n",
            "Generating recipe for: dishwasher detergent\n",
            "==================================================\n"
          ]
        },
        {
          "output_type": "stream",
          "name": "stderr",
          "text": [
            "\r 17%|█▋        | 83/500 [09:50<45:02,  6.48s/it]"
          ]
        },
        {
          "output_type": "stream",
          "name": "stdout",
          "text": [
            "cleaner, baking soda, lemons\n",
            "\n",
            "=== Allergen Substitutions Made ===\n",
            "Replaced 'cleaner' with 'oat milk'\n",
            "\n",
            "==================================================\n",
            "Generating recipe for: fruit salad  ww\n",
            "==================================================\n"
          ]
        },
        {
          "output_type": "stream",
          "name": "stderr",
          "text": [
            "\r 17%|█▋        | 84/500 [09:59<50:57,  7.35s/it]"
          ]
        },
        {
          "output_type": "stream",
          "name": "stdout",
          "text": [
            "lime juice, water, orange juice, sugar, honey, ginger, lime zest, orange zest, pineapple, mangoes, blueberries, kiwi fruits\n",
            "\n",
            "==================================================\n",
            "Generating recipe for: szechuan beef or deer\n",
            "==================================================\n"
          ]
        },
        {
          "output_type": "stream",
          "name": "stderr",
          "text": [
            "\r 17%|█▋        | 85/500 [10:08<54:37,  7.90s/it]"
          ]
        },
        {
          "output_type": "stream",
          "name": "stdout",
          "text": [
            "sirloin steak, gingerroot, garlic, chinese five spice powder, tabasco sauce, soy sauce, sherry wine, vegetable oil, carrots, celery, green onions, cornstarch, cold water\n",
            "\n",
            "==================================================\n",
            "Generating recipe for: coleslaw with peanuts and raisins\n",
            "==================================================\n"
          ]
        },
        {
          "output_type": "stream",
          "name": "stderr",
          "text": [
            "\r 17%|█▋        | 86/500 [10:11<43:29,  6.30s/it]"
          ]
        },
        {
          "output_type": "stream",
          "name": "stdout",
          "text": [
            "white wine vinegar, granulated sugar, mayonnaise, celery seed, prepared horseradish, sea salt, fresh ground black pepper, green cabbage, red cabbage, carrot, golden raisin, salted peanuts, hard-boiled eggs, fresh chives\n",
            "\n",
            "=== Allergen Substitutions Made ===\n",
            "Replaced 'white wine vinegar' with 'coconut cream'\n",
            "\n",
            "==================================================\n",
            "Generating recipe for: potato tomato coconut masala\n",
            "==================================================\n"
          ]
        },
        {
          "output_type": "stream",
          "name": "stderr",
          "text": [
            "\r 17%|█▋        | 87/500 [10:15<38:21,  5.57s/it]"
          ]
        },
        {
          "output_type": "stream",
          "name": "stdout",
          "text": [
            "boiling potatoes, vegetable oil, garlic cloves, dried hot red chili pepper, cumin seed, coconut, ground turmeric, ground cumin, tomatoes, salt, sugar, red wine vinegar\n",
            "\n",
            "==================================================\n",
            "Generating recipe for: east indian inspired potatoes with mint\n",
            "==================================================\n"
          ]
        },
        {
          "output_type": "stream",
          "name": "stderr",
          "text": [
            "\r 18%|█▊        | 88/500 [10:19<34:16,  4.99s/it]"
          ]
        },
        {
          "output_type": "stream",
          "name": "stdout",
          "text": [
            "raisins, russet potatoes, olive oil, red onion, green chili peppers, fresh ginger, turmeric, garlic cloves, fennel seeds, cumin seeds, lemon juice, ground black pepper, salt, fresh spearmint, lemon wedge, spearmint, fresh cilantro\n",
            "\n",
            "==================================================\n",
            "Generating recipe for: sweet   savoury cheese cookies\n",
            "==================================================\n"
          ]
        },
        {
          "output_type": "stream",
          "name": "stderr",
          "text": [
            "\r 18%|█▊        | 89/500 [10:27<40:44,  5.95s/it]"
          ]
        },
        {
          "output_type": "stream",
          "name": "stdout",
          "text": [
            "flour, baking powder, salt, cheddar cheese, butter, apricot jam\n",
            "\n",
            "=== Allergen Substitutions Made ===\n",
            "Replaced 'salt' with 'coconut yogurt'\n",
            "Replaced 'butter' with 'coconut oil'\n",
            "\n",
            "==================================================\n",
            "Generating recipe for: chickpea salad with roasted cumin\n",
            "==================================================\n"
          ]
        },
        {
          "output_type": "stream",
          "name": "stderr",
          "text": [
            "\r 18%|█▊        | 90/500 [10:33<41:28,  6.07s/it]"
          ]
        },
        {
          "output_type": "stream",
          "name": "stdout",
          "text": [
            "cumin, lime juice, olive oil, onion, celery, tomatoes, chickpeas, fresh oregano, salt and pepper\n",
            "\n",
            "=== Allergen Substitutions Made ===\n",
            "Replaced 'olive oil' with 'coconut oil'\n",
            "\n",
            "==================================================\n",
            "Generating recipe for: dessert citrus sauce\n",
            "==================================================\n"
          ]
        },
        {
          "output_type": "stream",
          "name": "stderr",
          "text": [
            "\r 18%|█▊        | 91/500 [10:41<44:17,  6.50s/it]"
          ]
        },
        {
          "output_type": "stream",
          "name": "stdout",
          "text": [
            "sugar, cornstarch, water, butter, orange juice, orange peel, lemon juice\n",
            "\n",
            "==================================================\n",
            "Generating recipe for: broccoli with two cheese horseradish sauce\n",
            "==================================================\n"
          ]
        },
        {
          "output_type": "stream",
          "name": "stderr",
          "text": [
            "\r 18%|█▊        | 92/500 [10:50<49:19,  7.25s/it]"
          ]
        },
        {
          "output_type": "stream",
          "name": "stdout",
          "text": [
            "fresh broccoli, flour, whipping cream, colby-monterey jack cheese, parmesan cheese, prepared horseradish, salt, white pepper\n",
            "\n",
            "=== Allergen Substitutions Made ===\n",
            "Replaced 'fresh broccoli' with 'almond flour'\n",
            "\n",
            "==================================================\n",
            "Generating recipe for: heavenly chocolate espresso spread\n",
            "==================================================\n"
          ]
        },
        {
          "output_type": "stream",
          "name": "stderr",
          "text": [
            "\r 19%|█▊        | 93/500 [10:56<48:24,  7.14s/it]"
          ]
        },
        {
          "output_type": "stream",
          "name": "stdout",
          "text": [
            "cream cheese, unsweetened cocoa powder, instant espresso powder, warm water, powdered sugar, vanilla\n",
            "\n",
            "==================================================\n",
            "Generating recipe for: makeover meringue coconut brownies\n",
            "==================================================\n"
          ]
        },
        {
          "output_type": "stream",
          "name": "stderr",
          "text": [
            "\r 19%|█▉        | 94/500 [11:04<49:32,  7.32s/it]"
          ]
        },
        {
          "output_type": "stream",
          "name": "stdout",
          "text": [
            "butter, brown sugar, sugar, vanilla extract, flour, baking soda, salt, skim milk, chocolate chips, flaked coconut, walnuts, egg whites, cream of tartar\n",
            "\n",
            "=== Allergen Substitutions Made ===\n",
            "Replaced 'flour' with 'almond flour'\n",
            "\n",
            "==================================================\n",
            "Generating recipe for: chocolate macadamia nut brownies\n",
            "==================================================\n"
          ]
        },
        {
          "output_type": "stream",
          "name": "stderr",
          "text": [
            "\r 19%|█▉        | 95/500 [11:13<53:27,  7.92s/it]"
          ]
        },
        {
          "output_type": "stream",
          "name": "stdout",
          "text": [
            "butter, semisweet dark chocolate squares, milk chocolate pieces, raw brown sugar, honey, eggs, plain flour, macadamia nuts\n",
            "\n",
            "==================================================\n",
            "Generating recipe for: moroccan spiced pork tenderloin with dried plums\n",
            "==================================================\n"
          ]
        },
        {
          "output_type": "stream",
          "name": "stderr",
          "text": [
            "\r 19%|█▉        | 96/500 [11:23<56:26,  8.38s/it]"
          ]
        },
        {
          "output_type": "stream",
          "name": "stdout",
          "text": [
            "cider vinegar, ground cayenne pepper, cumin, cracked black pepper, dried thyme, pork tenderloin, olive oil, onion, shallot, fresh thyme, salt and pepper, dried plum, apple cider\n",
            "\n",
            "=== Allergen Substitutions Made ===\n",
            "Replaced 'pork tenderloin' with 'oat milk'\n",
            "Replaced 'onion' with 'seeds'\n",
            "\n",
            "==================================================\n",
            "Generating recipe for: mediterranean greek salad  good for travel and good to eat\n",
            "==================================================\n"
          ]
        },
        {
          "output_type": "stream",
          "name": "stderr",
          "text": [
            "\r 19%|█▉        | 97/500 [11:28<48:59,  7.29s/it]"
          ]
        },
        {
          "output_type": "stream",
          "name": "stdout",
          "text": [
            "cucumbers, feta cheese, black olives, roma tomatoes, sun-dried tomato packed in oil, red onion\n",
            "\n",
            "==================================================\n",
            "Generating recipe for: salmon bisque\n",
            "==================================================\n"
          ]
        },
        {
          "output_type": "stream",
          "name": "stderr",
          "text": [
            "\r 20%|█▉        | 98/500 [11:37<53:07,  7.93s/it]"
          ]
        },
        {
          "output_type": "stream",
          "name": "stdout",
          "text": [
            "salmon steaks, shiitake mushrooms, leek, butter, chicken stock, fresh dill, black pepper, half-and-half cream, cornstarch, dry sherry\n",
            "\n",
            "==================================================\n",
            "Generating recipe for: peach orange marmalade\n",
            "==================================================\n"
          ]
        },
        {
          "output_type": "stream",
          "name": "stderr",
          "text": [
            "\r 20%|█▉        | 99/500 [11:46<55:07,  8.25s/it]"
          ]
        },
        {
          "output_type": "stream",
          "name": "stdout",
          "text": [
            "peaches, orange rind, orange sections, lemon juice, sugar\n",
            "\n",
            "==================================================\n",
            "Generating recipe for: nikki s healthy but hearty double crusted chicken pot pie\n",
            "==================================================\n"
          ]
        },
        {
          "output_type": "stream",
          "name": "stderr",
          "text": [
            "\r 20%|██        | 100/500 [11:53<51:19,  7.70s/it]"
          ]
        },
        {
          "output_type": "stream",
          "name": "stdout",
          "text": [
            "all-purpose flour, cornstarch, salt, chicken bouillon cubes, pepper, nonfat milk, onion, 98% fat-free cream of chicken soup, nonfat sour cream, sweet peas, carrot, potatoes, chicken, refrigerated pie crusts, egg white\n",
            "\n",
            "Progress saved to generated_recipes_temp_100.json\n",
            "\n",
            "==================================================\n",
            "Generating recipe for: low carb chocolate angel food cake\n",
            "==================================================\n"
          ]
        },
        {
          "output_type": "stream",
          "name": "stderr",
          "text": [
            "\r 20%|██        | 101/500 [12:02<54:01,  8.12s/it]"
          ]
        },
        {
          "output_type": "stream",
          "name": "stdout",
          "text": [
            "eggs, splenda sugar substitute, cream of tartar, sugar-free hot cocoa mix, cocoa powder, chocolate protein powder, soy flour\n",
            "\n",
            "==================================================\n",
            "Generating recipe for: high fiber south beach pancakes\n",
            "==================================================\n"
          ]
        },
        {
          "output_type": "stream",
          "name": "stderr",
          "text": [
            "\r 20%|██        | 102/500 [12:11<56:03,  8.45s/it]"
          ]
        },
        {
          "output_type": "stream",
          "name": "stdout",
          "text": [
            "eggs, ground flax seeds, vanilla, cinnamon, baking powder, ricotta cheese, artificial sweetener\n",
            "\n",
            "==================================================\n",
            "Generating recipe for: barbecue cups\n",
            "==================================================\n"
          ]
        },
        {
          "output_type": "stream",
          "name": "stderr",
          "text": [
            "\r 21%|██        | 103/500 [12:20<57:46,  8.73s/it]"
          ]
        },
        {
          "output_type": "stream",
          "name": "stdout",
          "text": [
            "lean ground beef, onion, barbecue sauce, brown sugar, biscuit dough, cheddar cheese\n",
            "\n",
            "=== Allergen Substitutions Made ===\n",
            "Replaced 'onion' with 'seeds'\n",
            "\n",
            "==================================================\n",
            "Generating recipe for: sweet beet bread\n",
            "==================================================\n"
          ]
        },
        {
          "output_type": "stream",
          "name": "stderr",
          "text": [
            "\r 21%|██        | 104/500 [12:29<58:13,  8.82s/it]"
          ]
        },
        {
          "output_type": "stream",
          "name": "stdout",
          "text": [
            "flour, sugar, baking powder, cinnamon, salt, allspice, nutmeg, egg, raw beet, oil, orange juice, applesauce, pecans\n",
            "\n",
            "=== Allergen Substitutions Made ===\n",
            "Replaced 'flour' with 'almond flour'\n",
            "\n",
            "==================================================\n",
            "Generating recipe for: yellow split pea meatballs\n",
            "==================================================\n"
          ]
        },
        {
          "output_type": "stream",
          "name": "stderr",
          "text": [
            "\r 21%|██        | 105/500 [12:39<59:00,  8.96s/it]"
          ]
        },
        {
          "output_type": "stream",
          "name": "stdout",
          "text": [
            "lean ground sirloin, yellow split peas, shallots, cumin, turmeric, coriander, salt, pepper, olive oil\n",
            "\n",
            "==================================================\n",
            "Generating recipe for: curried papaya chutney\n",
            "==================================================\n"
          ]
        },
        {
          "output_type": "stream",
          "name": "stderr",
          "text": [
            "\r 21%|██        | 106/500 [12:48<59:38,  9.08s/it]"
          ]
        },
        {
          "output_type": "stream",
          "name": "stdout",
          "text": [
            "papayas, white vinegar, water, brown sugar, mustard seeds, salt, garam masala, curry powder, onion\n",
            "\n",
            "==================================================\n",
            "Generating recipe for: black sesame jewel raw smoothie\n",
            "==================================================\n"
          ]
        },
        {
          "output_type": "stream",
          "name": "stderr",
          "text": [
            "\r 21%|██▏       | 107/500 [12:57<59:18,  9.06s/it]"
          ]
        },
        {
          "output_type": "stream",
          "name": "stdout",
          "text": [
            "raw black sesame tahini, raw cashews, pitted dates, vanilla, water, ice\n",
            "\n",
            "=== Allergen Substitutions Made ===\n",
            "Replaced 'ice' with 'hearts of palm'\n",
            "\n",
            "==================================================\n",
            "Generating recipe for: my most favorite brownies\n",
            "==================================================\n"
          ]
        },
        {
          "output_type": "stream",
          "name": "stderr",
          "text": [
            "\r 22%|██▏       | 108/500 [13:06<59:42,  9.14s/it]"
          ]
        },
        {
          "output_type": "stream",
          "name": "stdout",
          "text": [
            "flour, salt, unsalted margarine, semisweet chocolate, sugar, extra large eggs, vanilla extract, semi-sweet chocolate chips, white chocolate chips\n",
            "\n",
            "=== Allergen Substitutions Made ===\n",
            "Replaced 'flour' with 'almond flour'\n",
            "Replaced 'salt' with 'coconut yogurt'\n",
            "\n",
            "==================================================\n",
            "Generating recipe for: chicken oporto\n",
            "==================================================\n"
          ]
        },
        {
          "output_type": "stream",
          "name": "stderr",
          "text": [
            "\r 22%|██▏       | 109/500 [13:16<1:00:07,  9.23s/it]"
          ]
        },
        {
          "output_type": "stream",
          "name": "stdout",
          "text": [
            "butter, fresh mushrooms, flour, salt, pepper, ground nutmeg, whole boneless skinless chicken breasts, heavy cream, white port\n",
            "\n",
            "==================================================\n",
            "Generating recipe for: soft hot pretzels\n",
            "==================================================\n"
          ]
        },
        {
          "output_type": "stream",
          "name": "stderr",
          "text": [
            "\r 22%|██▏       | 110/500 [13:20<50:24,  7.76s/it]  "
          ]
        },
        {
          "output_type": "stream",
          "name": "stdout",
          "text": [
            "active dry yeast, sugar, warm water, all-purpose flour, salt, vegetable oil, instant malted milk powder, water, baking soda, kosher salt, sesame seeds\n",
            "\n",
            "=== Allergen Substitutions Made ===\n",
            "Replaced 'water' with 'flax eggs'\n",
            "\n",
            "==================================================\n",
            "Generating recipe for: creamy spaghetti and ham bake\n",
            "==================================================\n"
          ]
        },
        {
          "output_type": "stream",
          "name": "stderr",
          "text": [
            "\r 22%|██▏       | 111/500 [13:29<53:26,  8.24s/it]"
          ]
        },
        {
          "output_type": "stream",
          "name": "stdout",
          "text": [
            "spaghetti, oil, butter, mushrooms, green onions, ham, flour, chicken broth, milk, parmesan cheese, cheddar cheese\n",
            "\n",
            "=== Allergen Substitutions Made ===\n",
            "Replaced 'butter' with 'coconut oil'\n",
            "Replaced 'flour' with 'almond flour'\n",
            "\n",
            "==================================================\n",
            "Generating recipe for: double decker fish tacos\n",
            "==================================================\n"
          ]
        },
        {
          "output_type": "stream",
          "name": "stderr",
          "text": [
            "\r 22%|██▏       | 112/500 [13:38<54:46,  8.47s/it]"
          ]
        },
        {
          "output_type": "stream",
          "name": "stdout",
          "text": [
            "plain yogurt, mayonnaise, lime juice, jalapeno peppers, capers, dried oregano, ground cumin, dried dill weed, ground cayenne pepper, fish fillets, olive oil, black beans, flour tortillas, taco shells, carrots, diced tomato, cucumber, limes\n",
            "\n",
            "==================================================\n",
            "Generating recipe for: freezer pumpkin pie with gingersnap crumb crust\n",
            "==================================================\n"
          ]
        },
        {
          "output_type": "stream",
          "name": "stderr",
          "text": [
            "\r 23%|██▎       | 113/500 [13:48<56:28,  8.76s/it]"
          ]
        },
        {
          "output_type": "stream",
          "name": "stdout",
          "text": [
            "gingersnap crumbs, powdered sugar, butter, canned pumpkin puree, brown sugar, salt, cinnamon, nutmeg, clove, vanilla ice cream, whipped cream\n",
            "\n",
            "==================================================\n",
            "Generating recipe for: whipped sweet potato and toasted walnut casserole\n",
            "==================================================\n"
          ]
        },
        {
          "output_type": "stream",
          "name": "stderr",
          "text": [
            "\r 23%|██▎       | 114/500 [13:49<42:32,  6.61s/it]"
          ]
        },
        {
          "output_type": "stream",
          "name": "stdout",
          "text": [
            "sweet potatoes, sweetened condensed milk, brown sugar, ground cinnamon, black walnut, marshmallows\n",
            "\n",
            "=== Allergen Substitutions Made ===\n",
            "Replaced 'sweet potatoes' with 'oat milk'\n",
            "\n",
            "==================================================\n",
            "Generating recipe for: greek orzo pasta salad with spinach\n",
            "==================================================\n"
          ]
        },
        {
          "output_type": "stream",
          "name": "stderr",
          "text": [
            "\r 23%|██▎       | 115/500 [13:53<37:09,  5.79s/it]"
          ]
        },
        {
          "output_type": "stream",
          "name": "stdout",
          "text": [
            "orzo pasta, chicken bouillon cube, water, cilantro, roasted red pepper, feta cheese, kalamata olives, brine, red onion, fresh spinach, pignoli nut, fresh lemon juice, light caesar salad dressing, garlic clove, salt and pepper\n",
            "\n",
            "==================================================\n",
            "Generating recipe for: cilantro garlic lime rice\n",
            "==================================================\n"
          ]
        },
        {
          "output_type": "stream",
          "name": "stderr",
          "text": [
            "\r 23%|██▎       | 116/500 [13:59<36:12,  5.66s/it]"
          ]
        },
        {
          "output_type": "stream",
          "name": "stdout",
          "text": [
            "minute rice, chicken broth, limeade, garlic, dried cilantro\n",
            "\n",
            "=== Allergen Substitutions Made ===\n",
            "Replaced 'garlic' with 'coconut oil'\n",
            "\n",
            "==================================================\n",
            "Generating recipe for: chicken with figs and lemon  crock pot\n",
            "==================================================\n"
          ]
        },
        {
          "output_type": "stream",
          "name": "stderr",
          "text": [
            "\r 23%|██▎       | 117/500 [14:05<38:09,  5.98s/it]"
          ]
        },
        {
          "output_type": "stream",
          "name": "stdout",
          "text": [
            "chicken thighs, chicken broth, lemon rind, fresh lemon juice, alfredo sauce, dijon mustard, garlic cloves, onion, dried calimyrna fig\n",
            "\n",
            "==================================================\n",
            "Generating recipe for: easy deep dish pizza\n",
            "==================================================\n"
          ]
        },
        {
          "output_type": "stream",
          "name": "stderr",
          "text": [
            "\r 24%|██▎       | 118/500 [14:12<39:05,  6.14s/it]"
          ]
        },
        {
          "output_type": "stream",
          "name": "stdout",
          "text": [
            "sausage, onion, jiffy baking mix, water, pasta sauce with mushrooms, cheddar cheese, mozzarella cheese\n",
            "\n",
            "==================================================\n",
            "Generating recipe for: bloody mary ala ina garten\n",
            "==================================================\n"
          ]
        },
        {
          "output_type": "stream",
          "name": "stderr",
          "text": [
            "\r 24%|██▍       | 119/500 [14:21<44:25,  6.99s/it]"
          ]
        },
        {
          "output_type": "stream",
          "name": "stdout",
          "text": [
            "celery ribs, tomato juice, prepared horseradish, yellow onion, lemon, juice of, worcestershire sauce, celery salt, kosher salt, tabasco sauce, vodka\n",
            "\n",
            "==================================================\n",
            "Generating recipe for: mother and child reunion\n",
            "==================================================\n"
          ]
        },
        {
          "output_type": "stream",
          "name": "stderr",
          "text": [
            "\r 24%|██▍       | 120/500 [14:30<48:50,  7.71s/it]"
          ]
        },
        {
          "output_type": "stream",
          "name": "stdout",
          "text": [
            "oil, boneless skinless chicken breast halves, ranch dressing, italian breadcrumbs, butter, eggs, bacon, american cheese, rolls\n",
            "\n",
            "=== Allergen Substitutions Made ===\n",
            "Replaced 'oil' with 'coconut oil'\n",
            "\n",
            "==================================================\n",
            "Generating recipe for: chris  burgers\n",
            "==================================================\n"
          ]
        },
        {
          "output_type": "stream",
          "name": "stderr",
          "text": [
            "\r 24%|██▍       | 121/500 [14:39<51:30,  8.16s/it]"
          ]
        },
        {
          "output_type": "stream",
          "name": "stdout",
          "text": [
            "ground beef, garlic cloves, extra virgin olive oil, salt, fresh ground black pepper, dried basil\n",
            "\n",
            "=== Allergen Substitutions Made ===\n",
            "Replaced 'salt' with 'coconut yogurt'\n",
            "\n",
            "==================================================\n",
            "Generating recipe for: deviled shrimp\n",
            "==================================================\n"
          ]
        },
        {
          "output_type": "stream",
          "name": "stderr",
          "text": [
            "\r 24%|██▍       | 122/500 [14:49<53:16,  8.46s/it]"
          ]
        },
        {
          "output_type": "stream",
          "name": "stdout",
          "text": [
            "large shrimp, lemon, red onion, chopped pimiento, olive oil, garlic cloves, dry mustard, salt, lemon juice, red wine vinegar, bay leaf, cayenne pepper, parsley\n",
            "\n",
            "==================================================\n",
            "Generating recipe for: minute garlic breadsticks\n",
            "==================================================\n"
          ]
        },
        {
          "output_type": "stream",
          "name": "stderr",
          "text": [
            "\r 25%|██▍       | 123/500 [14:51<41:12,  6.56s/it]"
          ]
        },
        {
          "output_type": "stream",
          "name": "stdout",
          "text": [
            "hot dog buns, butter, garlic powder, garlic salt\n",
            "\n",
            "==================================================\n",
            "Generating recipe for: lactose free  indian curry\n",
            "==================================================\n"
          ]
        },
        {
          "output_type": "stream",
          "name": "stderr",
          "text": [
            "\r 25%|██▍       | 124/500 [15:00<46:25,  7.41s/it]"
          ]
        },
        {
          "output_type": "stream",
          "name": "stdout",
          "text": [
            "olive oil, chicken drumsticks, soy yogurt, whole allspice, gingerroot, curry, red pepper flakes, cumin, water, cornstarch\n",
            "\n",
            "=== Allergen Substitutions Made ===\n",
            "Replaced 'water' with 'flax eggs'\n",
            "\n",
            "==================================================\n",
            "Generating recipe for: beefy stew\n",
            "==================================================\n"
          ]
        },
        {
          "output_type": "stream",
          "name": "stderr",
          "text": [
            "\r 25%|██▌       | 125/500 [15:09<49:44,  7.96s/it]"
          ]
        },
        {
          "output_type": "stream",
          "name": "stdout",
          "text": [
            "cube steaks, salt & freshly ground black pepper, flour, vegetable oil, reduced-sodium beef broth, vegetable soup, frozen puff pastry\n",
            "\n",
            "==================================================\n",
            "Generating recipe for: gluten free soft pretzel\n",
            "==================================================\n"
          ]
        },
        {
          "output_type": "stream",
          "name": "stderr",
          "text": [
            "\r 25%|██▌       | 126/500 [15:18<50:11,  8.05s/it]"
          ]
        },
        {
          "output_type": "stream",
          "name": "stdout",
          "text": [
            "active dry yeast, warm water, brown sugar, gluten-free flour, baking soda, coarse salt\n",
            "\n",
            "==================================================\n",
            "Generating recipe for: lemon ice box pie  frozen   cracker barrel copycat\n",
            "==================================================\n"
          ]
        },
        {
          "output_type": "stream",
          "name": "stderr",
          "text": [
            "\r 25%|██▌       | 127/500 [15:23<45:12,  7.27s/it]"
          ]
        },
        {
          "output_type": "stream",
          "name": "stdout",
          "text": [
            "graham cracker crust, sweetened condensed milk, lemon juice, yellow food coloring, whipped topping, vanilla wafer cookie\n",
            "\n",
            "==================================================\n",
            "Generating recipe for: chicken sandwiches with lemon mayonnaise\n",
            "==================================================\n"
          ]
        },
        {
          "output_type": "stream",
          "name": "stderr",
          "text": [
            "\r 26%|██▌       | 128/500 [15:31<45:59,  7.42s/it]"
          ]
        },
        {
          "output_type": "stream",
          "name": "stdout",
          "text": [
            "light mayonnaise, fresh lemon juice, lemon zest, capers, focaccia rolls, cucumbers, lettuce, cherry tomatoes, carrots, red onion, chicken breast fillet, dijon mustard, salt and pepper\n",
            "\n",
            "==================================================\n",
            "Generating recipe for: grilled chicken caesar on a skewer   family pleaser\n",
            "==================================================\n"
          ]
        },
        {
          "output_type": "stream",
          "name": "stderr",
          "text": [
            "\r 26%|██▌       | 129/500 [15:36<41:02,  6.64s/it]"
          ]
        },
        {
          "output_type": "stream",
          "name": "stdout",
          "text": [
            "boneless skinless chicken breast, caesar salad dressing, country bread, garlic-flavored olive oil, romaine lettuce, cracked pepper, parmesan cheese, skewers\n",
            "\n",
            "==================================================\n",
            "Generating recipe for: melon and green grape salad\n",
            "==================================================\n"
          ]
        },
        {
          "output_type": "stream",
          "name": "stderr",
          "text": [
            "\r 26%|██▌       | 130/500 [15:45<45:49,  7.43s/it]"
          ]
        },
        {
          "output_type": "stream",
          "name": "stdout",
          "text": [
            "cantaloupe, honeydew melon, watermelon, green seedless grape, fresh mint leaves, lime, juice of, honey, red leaf lettuce, mint sprig\n",
            "\n",
            "==================================================\n",
            "Generating recipe for: chicken bryan  like carrabba s\n",
            "==================================================\n"
          ]
        },
        {
          "output_type": "stream",
          "name": "stderr",
          "text": [
            "\r 26%|██▌       | 131/500 [15:52<44:20,  7.21s/it]"
          ]
        },
        {
          "output_type": "stream",
          "name": "stdout",
          "text": [
            "garlic, yellow onion, butter, dry white wine, lemon juice, sun-dried tomatoes, fresh basil, kosher salt, white pepper, boneless skinless chicken breast halves, extra virgin olive oil, salt, black pepper, caprino cheese\n",
            "\n",
            "=== Allergen Substitutions Made ===\n",
            "Replaced 'salt' with 'coconut yogurt'\n",
            "\n",
            "==================================================\n",
            "Generating recipe for: whipped minted yoghurt\n",
            "==================================================\n"
          ]
        },
        {
          "output_type": "stream",
          "name": "stderr",
          "text": [
            "\r 26%|██▋       | 132/500 [15:56<38:30,  6.28s/it]"
          ]
        },
        {
          "output_type": "stream",
          "name": "stdout",
          "text": [
            "sugar, fresh mint leaves, water, yoghurt, cream\n",
            "\n",
            "=== Allergen Substitutions Made ===\n",
            "Replaced 'sugar' with 'coconut yogurt'\n",
            "\n",
            "==================================================\n",
            "Generating recipe for: greek mushroom rissoni\n",
            "==================================================\n"
          ]
        },
        {
          "output_type": "stream",
          "name": "stderr",
          "text": [
            "\r 27%|██▋       | 133/500 [16:02<38:41,  6.33s/it]"
          ]
        },
        {
          "output_type": "stream",
          "name": "stdout",
          "text": [
            "water, orzo pasta, olive oil, tomatoes, chicken broth, mushroom, reduced-fat feta cheese\n",
            "\n",
            "=== Allergen Substitutions Made ===\n",
            "Replaced 'mushroom' with 'king oyster mushrooms'\n",
            "\n",
            "==================================================\n",
            "Generating recipe for: baked chicken with a twist\n",
            "==================================================\n"
          ]
        },
        {
          "output_type": "stream",
          "name": "stderr",
          "text": [
            "\r 27%|██▋       | 134/500 [16:08<37:57,  6.22s/it]"
          ]
        },
        {
          "output_type": "stream",
          "name": "stdout",
          "text": [
            "chicken legs, bacon, cream of chicken soup, cream of mushroom soup, sour cream, corkscrew macaroni\n",
            "\n",
            "==================================================\n",
            "Generating recipe for: red beans   sausage jambalaya\n",
            "==================================================\n"
          ]
        },
        {
          "output_type": "stream",
          "name": "stderr",
          "text": [
            "\r 27%|██▋       | 135/500 [16:13<34:33,  5.68s/it]"
          ]
        },
        {
          "output_type": "stream",
          "name": "stdout",
          "text": [
            "cooking spray, smoked sausage, onion, celery, garlic, canned tomatoes, red beans, cajun seasoning, ground paprika, cooked brown rice\n",
            "\n",
            "=== Allergen Substitutions Made ===\n",
            "Replaced 'cooking spray' with 'coconut oil'\n",
            "Replaced 'onion' with 'seeds'\n",
            "\n",
            "==================================================\n",
            "Generating recipe for: jane and michael stern s broccoli casserole\n",
            "==================================================\n"
          ]
        },
        {
          "output_type": "stream",
          "name": "stderr",
          "text": [
            "\r 27%|██▋       | 136/500 [16:22<40:54,  6.74s/it]"
          ]
        },
        {
          "output_type": "stream",
          "name": "stdout",
          "text": [
            "white bread, eggs, milk, butter, cheddar cheese, salt, sugar, broccoli\n",
            "\n",
            "==================================================\n",
            "Generating recipe for: citrus zest dessert bars\n",
            "==================================================\n"
          ]
        },
        {
          "output_type": "stream",
          "name": "stderr",
          "text": [
            "\r 27%|██▋       | 137/500 [16:31<45:07,  7.46s/it]"
          ]
        },
        {
          "output_type": "stream",
          "name": "stdout",
          "text": [
            "all-purpose flour, cornstarch, butter, sugar, raspberry jam, eggs, egg yolks, salt, sweetened condensed milk, orange juice, lemon juice, orange zest, lemon zest, orange peel\n",
            "\n",
            "=== Allergen Substitutions Made ===\n",
            "Replaced 'sugar' with 'coconut yogurt'\n",
            "Replaced 'salt' with 'coconut yogurt'\n",
            "\n",
            "==================================================\n",
            "Generating recipe for: cucumber sandwich filling\n",
            "==================================================\n"
          ]
        },
        {
          "output_type": "stream",
          "name": "stderr",
          "text": [
            "\r 28%|██▊       | 138/500 [16:40<48:20,  8.01s/it]"
          ]
        },
        {
          "output_type": "stream",
          "name": "stdout",
          "text": [
            "cream cheese, mayonnaise, cucumber, fresh dill weed, garlic salt\n",
            "\n",
            "==================================================\n",
            "Generating recipe for: rigatoni with red pepper  almonds and bread crumbs\n",
            "==================================================\n"
          ]
        },
        {
          "output_type": "stream",
          "name": "stderr",
          "text": [
            "\r 28%|██▊       | 139/500 [16:49<50:15,  8.35s/it]"
          ]
        },
        {
          "output_type": "stream",
          "name": "stdout",
          "text": [
            "rigatoni pasta, garlic-flavored croutons, slivered almonds, roasted red pepper, extra virgin olive oil, italian seasoning, fresh parsley\n",
            "\n",
            "==================================================\n",
            "Generating recipe for: bbq cheeseburger bake\n",
            "==================================================\n"
          ]
        },
        {
          "output_type": "stream",
          "name": "stderr",
          "text": [
            "\r 28%|██▊       | 140/500 [16:51<37:54,  6.32s/it]"
          ]
        },
        {
          "output_type": "stream",
          "name": "stdout",
          "text": [
            "ground chuck, tomato sauce, ketchup, brown sugar, mustard, american cheese, refrigerated biscuits\n",
            "\n",
            "==================================================\n",
            "Generating recipe for: hot pineapple casserole\n",
            "==================================================\n"
          ]
        },
        {
          "output_type": "stream",
          "name": "stderr",
          "text": [
            "\r 28%|██▊       | 141/500 [16:54<32:17,  5.40s/it]"
          ]
        },
        {
          "output_type": "stream",
          "name": "stdout",
          "text": [
            "pineapple, cheddar cheese, sugar, flour, ritz crackers, butter\n",
            "\n",
            "==================================================\n",
            "Generating recipe for: chili s guiltless grill chicken sandwiches by todd wilbur\n",
            "==================================================\n"
          ]
        },
        {
          "output_type": "stream",
          "name": "stderr",
          "text": [
            "\r 28%|██▊       | 142/500 [16:56<25:08,  4.21s/it]"
          ]
        },
        {
          "output_type": "stream",
          "name": "stdout",
          "text": [
            "water, pineapple juice, soy sauce, salt, liquid smoke, onion powder, garlic powder, grey poupon dijon mustard, honey, fat-free mayonnaise, vinegar, chicken breast fillets, whole wheat hamburger buns, lettuce, tomatoes\n",
            "\n",
            "=== Allergen Substitutions Made ===\n",
            "Replaced 'water' with 'flax eggs'\n",
            "\n",
            "==================================================\n",
            "Generating recipe for: my famous cream cheese frosting\n",
            "==================================================\n"
          ]
        },
        {
          "output_type": "stream",
          "name": "stderr",
          "text": [
            "\r 29%|██▊       | 143/500 [17:05<33:49,  5.68s/it]"
          ]
        },
        {
          "output_type": "stream",
          "name": "stdout",
          "text": [
            "cream cheese, butter, vanilla extract, icing sugar\n",
            "\n",
            "==================================================\n",
            "Generating recipe for: lemon chicken skewers\n",
            "==================================================\n"
          ]
        },
        {
          "output_type": "stream",
          "name": "stderr",
          "text": [
            "\r 29%|██▉       | 144/500 [17:11<35:01,  5.90s/it]"
          ]
        },
        {
          "output_type": "stream",
          "name": "stdout",
          "text": [
            "olive oil, fresh lemon juice, garlic cloves, dried thyme, salt, pepper, boneless skinless chicken breast, green bell pepper\n",
            "\n",
            "==================================================\n",
            "Generating recipe for: lemon drop shooter\n",
            "==================================================\n"
          ]
        },
        {
          "output_type": "stream",
          "name": "stderr",
          "text": [
            "\r 29%|██▉       | 145/500 [17:16<33:14,  5.62s/it]"
          ]
        },
        {
          "output_type": "stream",
          "name": "stdout",
          "text": [
            "absolut citron vodka, lemon, sugar\n",
            "\n",
            "==================================================\n",
            "Generating recipe for: cuban black bean patties with pineapple rice\n",
            "==================================================\n"
          ]
        },
        {
          "output_type": "stream",
          "name": "stderr",
          "text": [
            "\r 29%|██▉       | 146/500 [17:18<25:46,  4.37s/it]"
          ]
        },
        {
          "output_type": "stream",
          "name": "stdout",
          "text": [
            "long-grain rice, butter, fresh pineapple, fresh cilantro, salt, canned black beans, garlic, ground cumin, egg white, monterey jack pepper cheese, red onion, cornmeal, cooking spray, reduced-fat sour cream\n",
            "\n",
            "==================================================\n",
            "Generating recipe for: scallops with spicy tomatoes and fettuccine\n",
            "==================================================\n"
          ]
        },
        {
          "output_type": "stream",
          "name": "stderr",
          "text": [
            "\r 29%|██▉       | 147/500 [17:26<33:14,  5.65s/it]"
          ]
        },
        {
          "output_type": "stream",
          "name": "stdout",
          "text": [
            "sea scallops, olive oil, scallions, garlic, fresh tomatoes, red wine, red wine vinegar, parsley, fresh basil, salt, fresh ground pepper, fettuccine, parmesan cheese\n",
            "\n",
            "=== Allergen Substitutions Made ===\n",
            "Replaced 'olive oil' with 'coconut oil'\n",
            "Replaced 'garlic' with 'coconut oil'\n",
            "\n",
            "==================================================\n",
            "Generating recipe for: cake mix chocolate pumpkin cake\n",
            "==================================================\n"
          ]
        },
        {
          "output_type": "stream",
          "name": "stderr",
          "text": [
            "\r 30%|██▉       | 148/500 [17:36<39:35,  6.75s/it]"
          ]
        },
        {
          "output_type": "stream",
          "name": "stdout",
          "text": [
            "vegetable oil, german chocolate cake mix, pumpkin, eggs, ground cinnamon, ground nutmeg, cinnamon baking chips, pecans, cream cheese, butter, unsweetened cocoa powder, pure vanilla extract, confectioners' sugar\n",
            "\n",
            "==================================================\n",
            "Generating recipe for: lamb chops with spicy peanut sauce\n",
            "==================================================\n"
          ]
        },
        {
          "output_type": "stream",
          "name": "stderr",
          "text": [
            "\r 30%|██▉       | 149/500 [17:44<43:17,  7.40s/it]"
          ]
        },
        {
          "output_type": "stream",
          "name": "stdout",
          "text": [
            "peanut sauce, soy sauce, fresh lime juice, fresh ginger, lamb loin chops\n",
            "\n",
            "==================================================\n",
            "Generating recipe for: sausage   peppers  street fair style\n",
            "==================================================\n"
          ]
        },
        {
          "output_type": "stream",
          "name": "stderr",
          "text": [
            "\r 30%|███       | 150/500 [17:54<46:38,  8.00s/it]"
          ]
        },
        {
          "output_type": "stream",
          "name": "stdout",
          "text": [
            "italian sausage, bell peppers, crushed tomatoes, garlic, salt, pepper, oregano, oil\n",
            "\n",
            "=== Allergen Substitutions Made ===\n",
            "Replaced 'garlic' with 'coconut oil'\n",
            "Replaced 'pepper' with 'flax eggs'\n",
            "Replaced 'oil' with 'coconut oil'\n",
            "\n",
            "Progress saved to generated_recipes_temp_150.json\n",
            "\n",
            "==================================================\n",
            "Generating recipe for: tantalizing thai shrimp pasta\n",
            "==================================================\n"
          ]
        },
        {
          "output_type": "stream",
          "name": "stderr",
          "text": [
            "\r 30%|███       | 151/500 [18:03<48:55,  8.41s/it]"
          ]
        },
        {
          "output_type": "stream",
          "name": "stdout",
          "text": [
            "shrimp, rice wine, brown sugar, soy sauce, green onion, pepper, salt, unsweetened coconut milk, chinese white rice vinegar, honey, crushed red pepper flakes, gingerroot, plum tomato, oil, chili paste with garlic, fresh cilantro, whole wheat spaghetti\n",
            "\n",
            "=== Allergen Substitutions Made ===\n",
            "Replaced 'oil' with 'coconut oil'\n",
            "\n",
            "==================================================\n",
            "Generating recipe for: hi protein honey wheat bread\n",
            "==================================================\n"
          ]
        },
        {
          "output_type": "stream",
          "name": "stderr",
          "text": [
            "\r 30%|███       | 152/500 [18:06<38:52,  6.70s/it]"
          ]
        },
        {
          "output_type": "stream",
          "name": "stdout",
          "text": [
            "all-purpose flour, salt, active dry yeast, water, honey, margarine, cream-style cottage cheese, eggs, whole wheat flour, rolled oats, nuts\n",
            "\n",
            "==================================================\n",
            "Generating recipe for: seet s super rich banana nut muffins\n",
            "==================================================\n"
          ]
        },
        {
          "output_type": "stream",
          "name": "stderr",
          "text": [
            "\r 31%|███       | 153/500 [18:10<34:14,  5.92s/it]"
          ]
        },
        {
          "output_type": "stream",
          "name": "stdout",
          "text": [
            "unsalted butter, light brown sugar, bananas, egg, almond extract, real vanilla extract, whole milk, all-purpose flour, baking powder, salt, nutmeg, walnuts\n",
            "\n",
            "==================================================\n",
            "Generating recipe for: chocolate motherlode frosting\n",
            "==================================================\n"
          ]
        },
        {
          "output_type": "stream",
          "name": "stderr",
          "text": [
            "\r 31%|███       | 154/500 [18:14<31:21,  5.44s/it]"
          ]
        },
        {
          "output_type": "stream",
          "name": "stdout",
          "text": [
            "semisweet chocolate, heavy cream, sugar, light corn syrup, unsalted butter\n",
            "\n",
            "==================================================\n",
            "Generating recipe for: southwestern coleslaw\n",
            "==================================================\n"
          ]
        },
        {
          "output_type": "stream",
          "name": "stderr",
          "text": [
            "\r 31%|███       | 155/500 [18:24<37:55,  6.60s/it]"
          ]
        },
        {
          "output_type": "stream",
          "name": "stdout",
          "text": [
            "coleslaw mix, canned black beans, fresh cilantro, tomatoes, red onion, jalapeno, avocado, fresh lime juice, rice vinegar, olive oil, ground cumin\n",
            "\n",
            "==================================================\n",
            "Generating recipe for: crock pot cider braised chicken\n",
            "==================================================\n"
          ]
        },
        {
          "output_type": "stream",
          "name": "stderr",
          "text": [
            "\r 31%|███       | 156/500 [18:33<42:42,  7.45s/it]"
          ]
        },
        {
          "output_type": "stream",
          "name": "stdout",
          "text": [
            "chicken breasts, chicken legs, ground turmeric, ground ginger, ground mace, ground allspice, tomatoes, apple cider, cornstarch, cold water\n",
            "\n",
            "==================================================\n",
            "Generating recipe for: pecan crusted southern fried chicken\n",
            "==================================================\n"
          ]
        },
        {
          "output_type": "stream",
          "name": "stderr",
          "text": [
            "\r 31%|███▏      | 157/500 [18:42<45:17,  7.92s/it]"
          ]
        },
        {
          "output_type": "stream",
          "name": "stdout",
          "text": [
            "vegetable oil, pecan pieces, flour, frying chicken, salt & freshly ground black pepper, eggs, milk, paprika, salt, garlic powder, black pepper, onion powder, cayenne pepper, dried oregano leaves, dried thyme\n",
            "\n",
            "==================================================\n",
            "Generating recipe for: country pork ribs and sauerkraut\n",
            "==================================================\n"
          ]
        },
        {
          "output_type": "stream",
          "name": "stderr",
          "text": [
            "\r 32%|███▏      | 158/500 [18:51<47:35,  8.35s/it]"
          ]
        },
        {
          "output_type": "stream",
          "name": "stdout",
          "text": [
            "boneless pork ribs, flour, oil, sauerkraut, crushed pineapple, onion, garlic cloves, caraway seed, bay leaves, salt and pepper\n",
            "\n",
            "=== Allergen Substitutions Made ===\n",
            "Replaced 'flour' with 'almond flour'\n",
            "Replaced 'onion' with 'seeds'\n",
            "\n",
            "==================================================\n",
            "Generating recipe for: anything brandy cream sauce\n",
            "==================================================\n"
          ]
        },
        {
          "output_type": "stream",
          "name": "stderr",
          "text": [
            "\r 32%|███▏      | 159/500 [19:01<49:06,  8.64s/it]"
          ]
        },
        {
          "output_type": "stream",
          "name": "stdout",
          "text": [
            "butter, green onion, mushroom, broth, brandy, heavy cream, salt and black pepper\n",
            "\n",
            "==================================================\n",
            "Generating recipe for: traditional cape brandy pudding\n",
            "==================================================\n"
          ]
        },
        {
          "output_type": "stream",
          "name": "stderr",
          "text": [
            "\r 32%|███▏      | 160/500 [19:08<46:00,  8.12s/it]"
          ]
        },
        {
          "output_type": "stream",
          "name": "stdout",
          "text": [
            "dates, bicarbonate of soda, boiling water, flour, baking powder, salt, butter, sugar, eggs, nuts, brown sugar, water, vanilla essence, brandy\n",
            "\n",
            "=== Allergen Substitutions Made ===\n",
            "Replaced 'salt' with 'coconut yogurt'\n",
            "\n",
            "==================================================\n",
            "Generating recipe for: strawberry jam squares\n",
            "==================================================\n"
          ]
        },
        {
          "output_type": "stream",
          "name": "stderr",
          "text": [
            "\r 32%|███▏      | 161/500 [19:17<47:54,  8.48s/it]"
          ]
        },
        {
          "output_type": "stream",
          "name": "stdout",
          "text": [
            "butter, sugar, egg yolks, unsifted flour, walnuts, strawberry jam\n",
            "\n",
            "=== Allergen Substitutions Made ===\n",
            "Replaced 'butter' with 'coconut oil'\n",
            "\n",
            "==================================================\n",
            "Generating recipe for: cucumber only salad\n",
            "==================================================\n"
          ]
        },
        {
          "output_type": "stream",
          "name": "stderr",
          "text": [
            "\r 32%|███▏      | 162/500 [19:26<48:38,  8.63s/it]"
          ]
        },
        {
          "output_type": "stream",
          "name": "stdout",
          "text": [
            "cucumber, fat-free italian salad dressing\n",
            "\n",
            "=== Allergen Substitutions Made ===\n",
            "Replaced 'cucumber' with 'flax eggs'\n",
            "\n",
            "==================================================\n",
            "Generating recipe for: denise s cheese n onion dip\n",
            "==================================================\n"
          ]
        },
        {
          "output_type": "stream",
          "name": "stderr",
          "text": [
            "\r 33%|███▎      | 163/500 [19:35<49:32,  8.82s/it]"
          ]
        },
        {
          "output_type": "stream",
          "name": "stdout",
          "text": [
            "reduced-fat sharp cheddar cheese, onions, low-fat mayonnaise\n",
            "\n",
            "==================================================\n",
            "Generating recipe for: grilled rice  skewers  with dipping sauce\n",
            "==================================================\n"
          ]
        },
        {
          "output_type": "stream",
          "name": "stderr",
          "text": [
            "\r 33%|███▎      | 164/500 [19:45<50:17,  8.98s/it]"
          ]
        },
        {
          "output_type": "stream",
          "name": "stdout",
          "text": [
            "rice vinegar, sugar, garlic cloves, birds eye chiles, eggs, fish sauce, pepper, cooked glutinous rice, skewers\n",
            "\n",
            "==================================================\n",
            "Generating recipe for: easy cheesy pork casserole\n",
            "==================================================\n"
          ]
        },
        {
          "output_type": "stream",
          "name": "stderr",
          "text": [
            "\r 33%|███▎      | 165/500 [19:54<50:11,  8.99s/it]"
          ]
        },
        {
          "output_type": "stream",
          "name": "stdout",
          "text": [
            "boneless pork chops, russet potatoes, condensed french onion soup, condensed cheddar cheese soup\n",
            "\n",
            "==================================================\n",
            "Generating recipe for: easiest chocolate peanut butter fudge\n",
            "==================================================\n"
          ]
        },
        {
          "output_type": "stream",
          "name": "stderr",
          "text": [
            "\r 33%|███▎      | 166/500 [20:03<50:32,  9.08s/it]"
          ]
        },
        {
          "output_type": "stream",
          "name": "stdout",
          "text": [
            "sugar, cocoa, milk, peanut butter, vanilla flavoring, pecans\n",
            "\n",
            "==================================================\n",
            "Generating recipe for: shrimp and rice croquettes\n",
            "==================================================\n"
          ]
        },
        {
          "output_type": "stream",
          "name": "stderr",
          "text": [
            "\r 33%|███▎      | 167/500 [20:12<50:53,  9.17s/it]"
          ]
        },
        {
          "output_type": "stream",
          "name": "stdout",
          "text": [
            "rice, butter, eggs, cooked shrimp, cracker crumb, egg, oil\n",
            "\n",
            "=== Allergen Substitutions Made ===\n",
            "Replaced 'rice' with 'almond flour'\n",
            "\n",
            "==================================================\n",
            "Generating recipe for: baked empanadas\n",
            "==================================================\n"
          ]
        },
        {
          "output_type": "stream",
          "name": "stderr",
          "text": [
            "\r 34%|███▎      | 168/500 [20:21<50:24,  9.11s/it]"
          ]
        },
        {
          "output_type": "stream",
          "name": "stdout",
          "text": [
            "chorizo sausage, onion, green bell pepper, fresh garlic, tomatoes, oregano leaves, puff pastry sheets\n",
            "\n",
            "==================================================\n",
            "Generating recipe for: shrimp seviche   ceviche\n",
            "==================================================\n"
          ]
        },
        {
          "output_type": "stream",
          "name": "stderr",
          "text": [
            "\r 34%|███▍      | 169/500 [20:26<43:47,  7.94s/it]"
          ]
        },
        {
          "output_type": "stream",
          "name": "stdout",
          "text": [
            "fresh orange juice, fresh lime juice, fresh lemon juice, ketchup, garlic, jumbo shrimp, tomatoes, red onion, fresh cilantro, jalapenos, olive oil, kosher salt, hot sauce, avocado, limes\n",
            "\n",
            "=== Allergen Substitutions Made ===\n",
            "Replaced 'avocado' with 'hearts of palm'\n",
            "\n",
            "==================================================\n",
            "Generating recipe for: mandarin cream delight\n",
            "==================================================\n"
          ]
        },
        {
          "output_type": "stream",
          "name": "stderr",
          "text": [
            "\r 34%|███▍      | 170/500 [20:35<44:38,  8.12s/it]"
          ]
        },
        {
          "output_type": "stream",
          "name": "stdout",
          "text": [
            "butter, sugar, vanilla extract, all-purpose flour, salt, mandarin oranges in light syrup, low-fat sour cream, nonfat sour cream, vanilla instant pudding mix, reduced-calorie whipped topping, mint sprig\n",
            "\n",
            "=== Allergen Substitutions Made ===\n",
            "Replaced 'butter' with 'coconut oil'\n",
            "Replaced 'salt' with 'coconut yogurt'\n",
            "\n",
            "==================================================\n",
            "Generating recipe for: dutch meat filled pancakes  gevulde pannekoek\n",
            "==================================================\n"
          ]
        },
        {
          "output_type": "stream",
          "name": "stderr",
          "text": [
            "\r 34%|███▍      | 171/500 [20:40<39:56,  7.28s/it]"
          ]
        },
        {
          "output_type": "stream",
          "name": "stdout",
          "text": [
            "flour, eggs, milk, salt, sugar, butter, onions, mushroom, lean ground beef, chicken stock, lemon juice, ground nutmeg, pepper\n",
            "\n",
            "=== Allergen Substitutions Made ===\n",
            "Replaced 'mushroom' with 'king oyster mushrooms'\n",
            "\n",
            "==================================================\n",
            "Generating recipe for: cranberry dessert cake with butter sauce\n",
            "==================================================\n"
          ]
        },
        {
          "output_type": "stream",
          "name": "stderr",
          "text": [
            "\r 34%|███▍      | 172/500 [20:49<42:31,  7.78s/it]"
          ]
        },
        {
          "output_type": "stream",
          "name": "stdout",
          "text": [
            "flour, sugar, baking powder, baking soda, salt, sour cream, milk, oil, almond extract, eggs, fresh cranberries, butter, whipping cream, vanilla\n",
            "\n",
            "==================================================\n",
            "Generating recipe for: light orange mousse\n",
            "==================================================\n"
          ]
        },
        {
          "output_type": "stream",
          "name": "stderr",
          "text": [
            "\r 35%|███▍      | 173/500 [20:59<45:00,  8.26s/it]"
          ]
        },
        {
          "output_type": "stream",
          "name": "stdout",
          "text": [
            "frozen light whipped dessert topping, fat-free sweetened condensed milk, orange juice, orange zest, whipped topping\n",
            "\n",
            "==================================================\n",
            "Generating recipe for: pumpkin carrot cake\n",
            "==================================================\n"
          ]
        },
        {
          "output_type": "stream",
          "name": "stderr",
          "text": [
            "\r 35%|███▍      | 174/500 [21:06<43:01,  7.92s/it]"
          ]
        },
        {
          "output_type": "stream",
          "name": "stdout",
          "text": [
            "all-purpose flour, baking soda, ground cinnamon, salt, milk, lemon juice, eggs, canned pumpkin, sugar, brown sugar, vegetable oil, crushed pineapple, carrot, flaked coconut, nuts, cream cheese, butter, powdered sugar, vanilla extract, orange juice, orange zest\n",
            "\n",
            "==================================================\n",
            "Generating recipe for: louisiana style flounder\n",
            "==================================================\n"
          ]
        },
        {
          "output_type": "stream",
          "name": "stderr",
          "text": [
            "\r 35%|███▌      | 175/500 [21:15<45:04,  8.32s/it]"
          ]
        },
        {
          "output_type": "stream",
          "name": "stdout",
          "text": [
            "olive oil, onion, green bell pepper, celery, cajun seasoning, tomatoes, garlic, fresh thyme, salt, flounder fillets\n",
            "\n",
            "=== Allergen Substitutions Made ===\n",
            "Replaced 'onion' with 'seeds'\n",
            "\n",
            "==================================================\n",
            "Generating recipe for: simple chocolate sour cream cake\n",
            "==================================================\n"
          ]
        },
        {
          "output_type": "stream",
          "name": "stderr",
          "text": [
            "\r 35%|███▌      | 176/500 [21:23<44:18,  8.20s/it]"
          ]
        },
        {
          "output_type": "stream",
          "name": "stdout",
          "text": [
            "devil's food cake mix, chocolate instant pudding, eggs, sour cream, warm water, vegetable oil, semi-sweet chocolate chips\n",
            "\n",
            "==================================================\n",
            "Generating recipe for: warm goat cheese   balsamic onion personal pizzas\n",
            "==================================================\n"
          ]
        },
        {
          "output_type": "stream",
          "name": "stderr",
          "text": [
            "\r 35%|███▌      | 177/500 [21:32<45:22,  8.43s/it]"
          ]
        },
        {
          "output_type": "stream",
          "name": "stdout",
          "text": [
            "whole wheat tortillas, red onions, balsamic vinegar, goat cheese, leafy greens, fresh ground black pepper\n",
            "\n",
            "==================================================\n",
            "Generating recipe for: soft scrambled eggs with smoked salmon and avocado\n",
            "==================================================\n"
          ]
        },
        {
          "output_type": "stream",
          "name": "stderr",
          "text": [
            "\r 36%|███▌      | 178/500 [21:41<46:45,  8.71s/it]"
          ]
        },
        {
          "output_type": "stream",
          "name": "stdout",
          "text": [
            "eggs, heavy cream, unsalted butter, salt & freshly ground black pepper, avocados, smoked salmon, chives\n",
            "\n",
            "==================================================\n",
            "Generating recipe for: chocolate tunnel cake\n",
            "==================================================\n"
          ]
        },
        {
          "output_type": "stream",
          "name": "stderr",
          "text": [
            "\r 36%|███▌      | 179/500 [21:51<47:35,  8.90s/it]"
          ]
        },
        {
          "output_type": "stream",
          "name": "stdout",
          "text": [
            "sugar, brown sugar, oil, eggs, vanilla, baking soda, baking powder, salt, cocoa powder, flour, buttermilk, brewed coffee, cream cheese, egg, miniature chocolate chip, powdered sugar, unsweetened chocolate squares, unsalted butter, water\n",
            "\n",
            "==================================================\n",
            "Generating recipe for: ww shrimp with cilanto and lime   5 pts\n",
            "==================================================\n"
          ]
        },
        {
          "output_type": "stream",
          "name": "stderr",
          "text": [
            "\r 36%|███▌      | 180/500 [22:00<47:33,  8.92s/it]"
          ]
        },
        {
          "output_type": "stream",
          "name": "stdout",
          "text": [
            "large shrimp, fresh lime juice, ground cumin, ground ginger, garlic cloves, olive oil, fresh cilantro, lime zest, salt, pepper\n",
            "\n",
            "==================================================\n",
            "Generating recipe for: maple butternut squash\n",
            "==================================================\n"
          ]
        },
        {
          "output_type": "stream",
          "name": "stderr",
          "text": [
            "\r 36%|███▌      | 181/500 [22:09<48:03,  9.04s/it]"
          ]
        },
        {
          "output_type": "stream",
          "name": "stdout",
          "text": [
            "butternut squash, maple syrup, golden raisins, butter, ground cardamom, ground allspice\n",
            "\n",
            "==================================================\n",
            "Generating recipe for: soft summer lemonade cookies\n",
            "==================================================\n"
          ]
        },
        {
          "output_type": "stream",
          "name": "stderr",
          "text": [
            "\r 36%|███▋      | 182/500 [22:18<48:10,  9.09s/it]"
          ]
        },
        {
          "output_type": "stream",
          "name": "stdout",
          "text": [
            "butter, sugar, eggs, unbleached flour, baking soda, frozen lemonade concentrate\n",
            "\n",
            "=== Allergen Substitutions Made ===\n",
            "Replaced 'butter' with 'coconut oil'\n",
            "\n",
            "==================================================\n",
            "Generating recipe for: spicy turkey patties\n",
            "==================================================\n"
          ]
        },
        {
          "output_type": "stream",
          "name": "stderr",
          "text": [
            "\r 37%|███▋      | 183/500 [22:25<44:00,  8.33s/it]"
          ]
        },
        {
          "output_type": "stream",
          "name": "stdout",
          "text": [
            "ground turkey, bread, dry white wine, onion, garlic, red bell peppers, jalapeno pepper, dried oregano, salt, pepper, olive oil\n",
            "\n",
            "=== Allergen Substitutions Made ===\n",
            "Replaced 'olive oil' with 'coconut oil'\n",
            "\n",
            "==================================================\n",
            "Generating recipe for: oreo party pops\n",
            "==================================================\n"
          ]
        },
        {
          "output_type": "stream",
          "name": "stderr",
          "text": [
            "\r 37%|███▋      | 184/500 [22:34<45:28,  8.64s/it]"
          ]
        },
        {
          "output_type": "stream",
          "name": "stdout",
          "text": [
            "wooden popsicle sticks, oreo double stuff cookies, semi-sweet chocolate chips, vegetable oil, nuts, colored sprinkles, coconut, miniature m&m's chocolate candies\n",
            "\n",
            "==================================================\n",
            "Generating recipe for: iowa maid rites\n",
            "==================================================\n"
          ]
        },
        {
          "output_type": "stream",
          "name": "stderr",
          "text": [
            "\r 37%|███▋      | 185/500 [22:37<37:08,  7.08s/it]"
          ]
        },
        {
          "output_type": "stream",
          "name": "stdout",
          "text": [
            "ground beef, dry onion soup mix, french onion soup, hamburger buns, dill pickle slices, mustard\n",
            "\n",
            "=== Allergen Substitutions Made ===\n",
            "Replaced 'ground beef' with 'coconut aminos'\n",
            "\n",
            "==================================================\n",
            "Generating recipe for: southwest chicken breasts\n",
            "==================================================\n"
          ]
        },
        {
          "output_type": "stream",
          "name": "stderr",
          "text": [
            "\r 37%|███▋      | 186/500 [22:40<30:05,  5.75s/it]"
          ]
        },
        {
          "output_type": "stream",
          "name": "stdout",
          "text": [
            "boneless skinless chicken breasts, chicken broth, onion, garlic, butter, olive oil, cilantro, green onions, mexican blend cheese, flour, ranch dressing mix, salt and pepper\n",
            "\n",
            "==================================================\n",
            "Generating recipe for: fiscalini farms cheddar cheese and sierra nevada pale ale soup\n",
            "==================================================\n"
          ]
        },
        {
          "output_type": "stream",
          "name": "stderr",
          "text": [
            "\r 37%|███▋      | 187/500 [22:50<35:42,  6.85s/it]"
          ]
        },
        {
          "output_type": "stream",
          "name": "stdout",
          "text": [
            "onion, garlic, bacon, butter, all-purpose flour, vegetable broth, ale, heavy cream, worcestershire sauce, prepared horseradish, dijon mustard, bay leaves, salt, fresh ground black pepper, cheddar cheese, crouton\n",
            "\n",
            "==================================================\n",
            "Generating recipe for: crispy shrimp poppers\n",
            "==================================================\n"
          ]
        },
        {
          "output_type": "stream",
          "name": "stderr",
          "text": [
            "\r 38%|███▊      | 188/500 [22:53<31:03,  5.97s/it]"
          ]
        },
        {
          "output_type": "stream",
          "name": "stdout",
          "text": [
            "medium shrimp, cream cheese, bacon, all-purpose flour, eggs, panko breadcrumbs\n",
            "\n",
            "==================================================\n",
            "Generating recipe for: crock pot beef stroganoff\n",
            "==================================================\n"
          ]
        },
        {
          "output_type": "stream",
          "name": "stderr",
          "text": [
            "\r 38%|███▊      | 189/500 [23:03<36:13,  6.99s/it]"
          ]
        },
        {
          "output_type": "stream",
          "name": "stdout",
          "text": [
            "beef stew meat, onion, condensed golden mushroom soup, cream of onion soup, fresh mushrooms, black pepper, beef broth, sour cream, cream cheese\n",
            "\n",
            "==================================================\n",
            "Generating recipe for: fancy berry beverage\n",
            "==================================================\n"
          ]
        },
        {
          "output_type": "stream",
          "name": "stderr",
          "text": [
            "\r 38%|███▊      | 190/500 [23:12<39:13,  7.59s/it]"
          ]
        },
        {
          "output_type": "stream",
          "name": "stdout",
          "text": [
            "cranberry juice, vanilla ice cream, frozen sweetened strawberries, sugar, vanilla extract, heavy whipping cream, ginger ale\n",
            "\n",
            "==================================================\n",
            "Generating recipe for: garden fresh salsa\n",
            "==================================================\n"
          ]
        },
        {
          "output_type": "stream",
          "name": "stderr",
          "text": [
            "\r 38%|███▊      | 191/500 [23:21<41:50,  8.12s/it]"
          ]
        },
        {
          "output_type": "stream",
          "name": "stdout",
          "text": [
            "onions, green bell peppers, jalapeno peppers, fresh cilantro, tomatoes, garlic, hot peppers, salt, pepper, tabasco sauce, vinegar, lime, juice of\n",
            "\n",
            "==================================================\n",
            "Generating recipe for: veggie penne with chickpeas\n",
            "==================================================\n"
          ]
        },
        {
          "output_type": "stream",
          "name": "stderr",
          "text": [
            "\r 38%|███▊      | 192/500 [23:31<43:42,  8.52s/it]"
          ]
        },
        {
          "output_type": "stream",
          "name": "stdout",
          "text": [
            "oil, garlic, cauliflower, chickpeas, crushed tomatoes, frozen cut green beans, water, salt, dried thyme, oregano, fresh ground black pepper, penne pasta\n",
            "\n",
            "=== Allergen Substitutions Made ===\n",
            "Replaced 'oil' with 'coconut oil'\n",
            "\n",
            "==================================================\n",
            "Generating recipe for: tropical crock pot chicken\n",
            "==================================================\n"
          ]
        },
        {
          "output_type": "stream",
          "name": "stderr",
          "text": [
            "\r 39%|███▊      | 193/500 [23:35<37:28,  7.32s/it]"
          ]
        },
        {
          "output_type": "stream",
          "name": "stdout",
          "text": [
            "boneless skinless chicken breasts, pineapple tidbits, scallion, red bell pepper, dijon mustard, soy sauce, garlic cloves, tarragon, pepper, paprika, salt\n",
            "\n",
            "==================================================\n",
            "Generating recipe for: beet tomato salad\n",
            "==================================================\n"
          ]
        },
        {
          "output_type": "stream",
          "name": "stderr",
          "text": [
            "\r 39%|███▉      | 194/500 [23:45<40:38,  7.97s/it]"
          ]
        },
        {
          "output_type": "stream",
          "name": "stdout",
          "text": [
            "red beets, extra virgin olive oil, coarse salt, tomatoes, lemon, juice of, pepper, mint leaf\n",
            "\n",
            "=== Allergen Substitutions Made ===\n",
            "Replaced 'lemon' with 'coconut cream'\n",
            "Replaced 'pepper' with 'flax eggs'\n",
            "\n",
            "==================================================\n",
            "Generating recipe for: vegan sweet potato souffle\n",
            "==================================================\n"
          ]
        },
        {
          "output_type": "stream",
          "name": "stderr",
          "text": [
            "\r 39%|███▉      | 195/500 [23:46<30:43,  6.04s/it]"
          ]
        },
        {
          "output_type": "stream",
          "name": "stdout",
          "text": [
            "sweet potatoes, firm silken tofu, tofutti better-than-cream-cheese, brown sugar, soy margarine, cornstarch, pumpkin pie spice, pure vanilla extract, flour, pecans\n",
            "\n",
            "==================================================\n",
            "Generating recipe for: balsamic salmon\n",
            "==================================================\n"
          ]
        },
        {
          "output_type": "stream",
          "name": "stderr",
          "text": [
            "\r 39%|███▉      | 196/500 [23:55<34:29,  6.81s/it]"
          ]
        },
        {
          "output_type": "stream",
          "name": "stdout",
          "text": [
            "salmon fillets, balsamic vinegar, liquid honey, dijon mustard, sesame oil, sesame seeds\n",
            "\n",
            "==================================================\n",
            "Generating recipe for: jane s coconut sugar cookies\n",
            "==================================================\n"
          ]
        },
        {
          "output_type": "stream",
          "name": "stderr",
          "text": [
            "\r 39%|███▉      | 197/500 [24:01<34:10,  6.77s/it]"
          ]
        },
        {
          "output_type": "stream",
          "name": "stdout",
          "text": [
            "butter, vegetable oil, flour, sugar, coconut, baking soda, baking powder, vanilla, salt, macadamia nuts\n",
            "\n",
            "==================================================\n",
            "Generating recipe for: nutella frosting\n",
            "==================================================\n"
          ]
        },
        {
          "output_type": "stream",
          "name": "stderr",
          "text": [
            "\r 40%|███▉      | 198/500 [24:10<36:24,  7.23s/it]"
          ]
        },
        {
          "output_type": "stream",
          "name": "stdout",
          "text": [
            "butter, nutella, powdered sugar, milk\n",
            "\n",
            "==================================================\n",
            "Generating recipe for: baked fruited french toast\n",
            "==================================================\n"
          ]
        },
        {
          "output_type": "stream",
          "name": "stderr",
          "text": [
            "\r 40%|███▉      | 199/500 [24:15<33:12,  6.62s/it]"
          ]
        },
        {
          "output_type": "stream",
          "name": "stdout",
          "text": [
            "italian bread, olive oil, brown sugar, granny smith apples, pear, dried cherries, ground cinnamon, eggs, milk, almond extract, amaretto, toasted almond\n",
            "\n",
            "==================================================\n",
            "Generating recipe for: philly cheesesteak  the way i remember it\n",
            "==================================================\n"
          ]
        },
        {
          "output_type": "stream",
          "name": "stderr",
          "text": [
            "\r 40%|████      | 200/500 [24:23<34:38,  6.93s/it]"
          ]
        },
        {
          "output_type": "stream",
          "name": "stdout",
          "text": [
            "rib eye steaks, bermuda onion, american cheese, hoagie rolls, ketchup, peanut oil, salt\n",
            "\n",
            "Progress saved to generated_recipes_temp_200.json\n",
            "\n",
            "==================================================\n",
            "Generating recipe for: roasted tomatillo sauce\n",
            "==================================================\n"
          ]
        },
        {
          "output_type": "stream",
          "name": "stderr",
          "text": [
            "\r 40%|████      | 201/500 [24:24<26:26,  5.31s/it]"
          ]
        },
        {
          "output_type": "stream",
          "name": "stdout",
          "text": [
            "tomatillo, poblano chiles, onion, garlic, cilantro leaf, lime juice, ground cumin, salt, unbleached cane sugar\n",
            "\n",
            "==================================================\n",
            "Generating recipe for: chilled fruit and champagne soup\n",
            "==================================================\n"
          ]
        },
        {
          "output_type": "stream",
          "name": "stderr",
          "text": [
            "\r 40%|████      | 202/500 [24:30<27:03,  5.45s/it]"
          ]
        },
        {
          "output_type": "stream",
          "name": "stdout",
          "text": [
            "peaches, berries, champagne\n",
            "\n",
            "=== Allergen Substitutions Made ===\n",
            "Replaced 'berries' with 'coconut aminos'\n",
            "\n",
            "==================================================\n",
            "Generating recipe for: skillet pasta dinner\n",
            "==================================================\n"
          ]
        },
        {
          "output_type": "stream",
          "name": "stderr",
          "text": [
            "\r 41%|████      | 203/500 [24:34<24:36,  4.97s/it]"
          ]
        },
        {
          "output_type": "stream",
          "name": "stdout",
          "text": [
            "ground beef, pasta sauce, rotini pasta, cheddar cheese, chili powder\n",
            "\n",
            "==================================================\n",
            "Generating recipe for: mutton masala\n",
            "==================================================\n"
          ]
        },
        {
          "output_type": "stream",
          "name": "stderr",
          "text": [
            "\r 41%|████      | 204/500 [24:36<21:05,  4.28s/it]"
          ]
        },
        {
          "output_type": "stream",
          "name": "stdout",
          "text": [
            "mutton, water, turmeric powder, peppercorns, cloves, cinnamon sticks, ginger paste, garlic paste, onion, tomatoes, coriander powder, chili powder, cumin powder, garam masala, oil, salt, green coriander\n",
            "\n",
            "==================================================\n",
            "Generating recipe for: siesta fiesta salad\n",
            "==================================================\n"
          ]
        },
        {
          "output_type": "stream",
          "name": "stderr",
          "text": [
            "\r 41%|████      | 205/500 [24:46<28:31,  5.80s/it]"
          ]
        },
        {
          "output_type": "stream",
          "name": "stdout",
          "text": [
            "black beans, sweet corn, sweet red pepper, red onion, red wine vinegar, olive oil, fresh parsley, fresh cilantro, fresh dill, fresh ground black pepper\n",
            "\n",
            "==================================================\n",
            "Generating recipe for: pumpkin   gingerbread streusel cake\n",
            "==================================================\n"
          ]
        },
        {
          "output_type": "stream",
          "name": "stderr",
          "text": [
            "\r 41%|████      | 206/500 [24:55<33:28,  6.83s/it]"
          ]
        },
        {
          "output_type": "stream",
          "name": "stdout",
          "text": [
            "brown sugar, all-purpose flour, pecans, butter, sugar, canned pumpkin, milk, dark molasses, eggs, pumpkin pie spice, baking soda, baking powder, salt, caramel ice cream topping\n",
            "\n",
            "=== Allergen Substitutions Made ===\n",
            "Replaced 'brown sugar' with 'xanthan gum'\n",
            "Replaced 'butter' with 'coconut oil'\n",
            "Replaced 'sugar' with 'coconut yogurt'\n",
            "Replaced 'salt' with 'coconut yogurt'\n",
            "\n",
            "==================================================\n",
            "Generating recipe for: pumpkin and ginger soup\n",
            "==================================================\n"
          ]
        },
        {
          "output_type": "stream",
          "name": "stderr",
          "text": [
            "\r 41%|████▏     | 207/500 [25:00<31:17,  6.41s/it]"
          ]
        },
        {
          "output_type": "stream",
          "name": "stdout",
          "text": [
            "butter, sunflower oil, fresh ginger, pumpkin, parsnips, onion, carrots, celery leaves, curry powder, dried chili pepper flakes, nutmeg, cornflour, homemade chicken stock, milk, salt, black pepper, cream\n",
            "\n",
            "==================================================\n",
            "Generating recipe for: tex mex chicken n rice\n",
            "==================================================\n"
          ]
        },
        {
          "output_type": "stream",
          "name": "stderr",
          "text": [
            "\r 42%|████▏     | 208/500 [25:04<26:28,  5.44s/it]"
          ]
        },
        {
          "output_type": "stream",
          "name": "stdout",
          "text": [
            "onion, jalapenos, garlic clove, olive oil, chicken broth, lime, juice of, diced tomatoes with green chilies, long grain rice, boneless skinless chicken breasts, salt, pepper, ground cumin, cheddar cheese\n",
            "\n",
            "==================================================\n",
            "Generating recipe for: tofu parmesan\n",
            "==================================================\n"
          ]
        },
        {
          "output_type": "stream",
          "name": "stderr",
          "text": [
            "\r 42%|████▏     | 209/500 [25:11<29:19,  6.05s/it]"
          ]
        },
        {
          "output_type": "stream",
          "name": "stdout",
          "text": [
            "olive oil, firm tofu, onion, garlic, tomatoes, oregano, rosemary, low-fat cheese, parmesan cheese, salt and pepper\n",
            "\n",
            "==================================================\n",
            "Generating recipe for: hot herbed pretzels\n",
            "==================================================\n"
          ]
        },
        {
          "output_type": "stream",
          "name": "stderr",
          "text": [
            "\r 42%|████▏     | 210/500 [25:20<33:31,  6.93s/it]"
          ]
        },
        {
          "output_type": "stream",
          "name": "stdout",
          "text": [
            "butter, tarragon, parsley flakes, celery salt, onion powder, pretzels\n",
            "\n",
            "==================================================\n",
            "Generating recipe for: cape cod portuguese kale soup\n",
            "==================================================\n"
          ]
        },
        {
          "output_type": "stream",
          "name": "stderr",
          "text": [
            "\r 42%|████▏     | 211/500 [25:27<33:37,  6.98s/it]"
          ]
        },
        {
          "output_type": "stream",
          "name": "stdout",
          "text": [
            "dried red kidney beans, beef broth, water, kale, onion, chorizo sausage, linguica sausage, red wine vinegar, pepper, salt, potatoes\n",
            "\n",
            "=== Allergen Substitutions Made ===\n",
            "Replaced 'kale' with 'hearts of palm'\n",
            "Replaced 'onion' with 'seeds'\n",
            "\n",
            "==================================================\n",
            "Generating recipe for: cherry crisp   from scratch\n",
            "==================================================\n"
          ]
        },
        {
          "output_type": "stream",
          "name": "stderr",
          "text": [
            "\r 42%|████▏     | 212/500 [25:32<30:04,  6.26s/it]"
          ]
        },
        {
          "output_type": "stream",
          "name": "stdout",
          "text": [
            "sweet cherries, sugar, cornstarch, fresh lemon juice, almond extract, brown sugar, flour, granola cereal, butter, cinnamon, ground nutmeg\n",
            "\n",
            "=== Allergen Substitutions Made ===\n",
            "Replaced 'butter' with 'coconut oil'\n",
            "\n",
            "==================================================\n",
            "Generating recipe for: mr  food s pizza pasta salad\n",
            "==================================================\n"
          ]
        },
        {
          "output_type": "stream",
          "name": "stderr",
          "text": [
            "\r 43%|████▎     | 213/500 [25:35<25:41,  5.37s/it]"
          ]
        },
        {
          "output_type": "stream",
          "name": "stdout",
          "text": [
            "pasta, roma tomatoes, cheddar cheese, scallions, pepperoni, vegetable oil, red wine vinegar, parmesan cheese, italian seasoning, garlic powder, salt, pepper\n",
            "\n",
            "=== Allergen Substitutions Made ===\n",
            "Replaced 'pasta' with 'coconut aminos'\n",
            "\n",
            "==================================================\n",
            "Generating recipe for: best ever fluffy sugar cookies\n",
            "==================================================\n"
          ]
        },
        {
          "output_type": "stream",
          "name": "stderr",
          "text": [
            "\r 43%|████▎     | 214/500 [25:45<31:28,  6.60s/it]"
          ]
        },
        {
          "output_type": "stream",
          "name": "stdout",
          "text": [
            "butter, sugar, eggs, vanilla, lemon extract, almond extract, flour, cream of tartar, salt, baking soda, nutmeg\n",
            "\n",
            "=== Allergen Substitutions Made ===\n",
            "Replaced 'butter' with 'coconut oil'\n",
            "Replaced 'sugar' with 'coconut yogurt'\n",
            "Replaced 'salt' with 'coconut yogurt'\n",
            "\n",
            "==================================================\n",
            "Generating recipe for: hot artichoke   spinach spread\n",
            "==================================================\n"
          ]
        },
        {
          "output_type": "stream",
          "name": "stderr",
          "text": [
            "\r 43%|████▎     | 215/500 [25:54<35:21,  7.44s/it]"
          ]
        },
        {
          "output_type": "stream",
          "name": "stdout",
          "text": [
            "cream cheese, mayonnaise, mrs. grass homestyle vegetable recipe, frozen spinach, artichoke hearts, mozzarella cheese, parmesan cheese\n",
            "\n",
            "==================================================\n",
            "Generating recipe for: strawberry nut pinwheel cookies\n",
            "==================================================\n"
          ]
        },
        {
          "output_type": "stream",
          "name": "stderr",
          "text": [
            "\r 43%|████▎     | 216/500 [25:59<31:30,  6.66s/it]"
          ]
        },
        {
          "output_type": "stream",
          "name": "stdout",
          "text": [
            "butter, sugar, egg, vanilla extract, all-purpose flour, baking powder, strawberry jam, walnuts\n",
            "\n",
            "==================================================\n",
            "Generating recipe for: mixed seafood saute\n",
            "==================================================\n"
          ]
        },
        {
          "output_type": "stream",
          "name": "stderr",
          "text": [
            "\r 43%|████▎     | 217/500 [26:06<32:03,  6.80s/it]"
          ]
        },
        {
          "output_type": "stream",
          "name": "stdout",
          "text": [
            "butter, vegetable oil, shrimp, scallops, crabmeat, salt, garlic, thyme, red pepper flakes, basil, heavy cream, cooking sherry, parmesan cheese\n",
            "\n",
            "==================================================\n",
            "Generating recipe for: scallops and cauliflower\n",
            "==================================================\n"
          ]
        },
        {
          "output_type": "stream",
          "name": "stderr",
          "text": [
            "\r 44%|████▎     | 218/500 [26:09<26:51,  5.71s/it]"
          ]
        },
        {
          "output_type": "stream",
          "name": "stdout",
          "text": [
            "cauliflower, sea scallops, olive oil, shallots, capers, sun-dried tomato, sherry wine vinegar, parsley, pine nuts\n",
            "\n",
            "==================================================\n",
            "Generating recipe for: mushroom onion quiche\n",
            "==================================================\n"
          ]
        },
        {
          "output_type": "stream",
          "name": "stderr",
          "text": [
            "\r 44%|████▍     | 219/500 [26:13<24:54,  5.32s/it]"
          ]
        },
        {
          "output_type": "stream",
          "name": "stdout",
          "text": [
            "pie crusts, margarine, onions, mushroom, non-dairy milk substitute, egg, flour, dry wine, salt and pepper\n",
            "\n",
            "==================================================\n",
            "Generating recipe for: low fat creole style black eyed peas\n",
            "==================================================\n"
          ]
        },
        {
          "output_type": "stream",
          "name": "stderr",
          "text": [
            "\r 44%|████▍     | 220/500 [26:23<30:33,  6.55s/it]"
          ]
        },
        {
          "output_type": "stream",
          "name": "stdout",
          "text": [
            "black-eyed peas, water, low sodium chicken broth, diced tomatoes with juice, celery, onion, garlic cloves, chili powder, ginger, bay leaves, parsley, black pepper\n",
            "\n",
            "=== Allergen Substitutions Made ===\n",
            "Replaced 'water' with 'flax eggs'\n",
            "Replaced 'onion' with 'seeds'\n",
            "\n",
            "==================================================\n",
            "Generating recipe for: easiest campfire  or grill or oven  breakfast\n",
            "==================================================\n"
          ]
        },
        {
          "output_type": "stream",
          "name": "stderr",
          "text": [
            "\r 44%|████▍     | 221/500 [26:32<33:47,  7.27s/it]"
          ]
        },
        {
          "output_type": "stream",
          "name": "stdout",
          "text": [
            "baking potato, egg, butter, cheese, bacon\n",
            "\n",
            "=== Allergen Substitutions Made ===\n",
            "Replaced 'egg' with 'flax eggs'\n",
            "Replaced 'cheese' with 'nutritional yeast'\n",
            "\n",
            "==================================================\n",
            "Generating recipe for: peanut butter beef stir fry\n",
            "==================================================\n"
          ]
        },
        {
          "output_type": "stream",
          "name": "stderr",
          "text": [
            "\r 44%|████▍     | 222/500 [26:41<36:40,  7.91s/it]"
          ]
        },
        {
          "output_type": "stream",
          "name": "stdout",
          "text": [
            "cornstarch, beef broth, soy sauce, creamy peanut butter, sugar, pepper, top sirloin steak, onion, celery, canola oil, garlic\n",
            "\n",
            "=== Allergen Substitutions Made ===\n",
            "Replaced 'pepper' with 'flax eggs'\n",
            "Replaced 'onion' with 'seeds'\n",
            "\n",
            "==================================================\n",
            "Generating recipe for: thai style crab cakes\n",
            "==================================================\n"
          ]
        },
        {
          "output_type": "stream",
          "name": "stderr",
          "text": [
            "\r 45%|████▍     | 223/500 [26:51<38:34,  8.35s/it]"
          ]
        },
        {
          "output_type": "stream",
          "name": "stdout",
          "text": [
            "lump crabmeat, lemon juice, ginger, green onions, red bell pepper, garlic cloves, vegetable oil, crushed red pepper flakes, fresh parsley, mayonnaise, egg, fresh breadcrumb, sweet chili sauce\n",
            "\n",
            "==================================================\n",
            "Generating recipe for: raspberry banana mango smoothie\n",
            "==================================================\n"
          ]
        },
        {
          "output_type": "stream",
          "name": "stderr",
          "text": [
            "\r 45%|████▍     | 224/500 [26:52<28:39,  6.23s/it]"
          ]
        },
        {
          "output_type": "stream",
          "name": "stdout",
          "text": [
            "raspberries, banana, mango, yogurt\n",
            "\n",
            "=== Allergen Substitutions Made ===\n",
            "Replaced 'raspberries' with 'coconut aminos'\n",
            "\n",
            "==================================================\n",
            "Generating recipe for: apple crisp a la mode\n",
            "==================================================\n"
          ]
        },
        {
          "output_type": "stream",
          "name": "stderr",
          "text": [
            "\r 45%|████▌     | 225/500 [26:53<21:35,  4.71s/it]"
          ]
        },
        {
          "output_type": "stream",
          "name": "stdout",
          "text": [
            "apples, rolled oats, brown sugar, flour, cinnamon, nutmeg, salt, butter, whipped cream\n",
            "\n",
            "==================================================\n",
            "Generating recipe for: great garlic beer steaks\n",
            "==================================================\n"
          ]
        },
        {
          "output_type": "stream",
          "name": "stderr",
          "text": [
            "\r 45%|████▌     | 226/500 [27:01<25:41,  5.63s/it]"
          ]
        },
        {
          "output_type": "stream",
          "name": "stdout",
          "text": [
            "steaks, beer, oyster sauce, lemon, juice of, garlic cloves, black pepper, seasoning\n",
            "\n",
            "=== Allergen Substitutions Made ===\n",
            "Replaced 'seasoning' with 'oat milk'\n",
            "\n",
            "==================================================\n",
            "Generating recipe for: ofelia s apple snack\n",
            "==================================================\n"
          ]
        },
        {
          "output_type": "stream",
          "name": "stderr",
          "text": [
            "\r 45%|████▌     | 227/500 [27:04<22:42,  4.99s/it]"
          ]
        },
        {
          "output_type": "stream",
          "name": "stdout",
          "text": [
            "apple, peanut butter, raisins\n",
            "\n",
            "=== Allergen Substitutions Made ===\n",
            "Replaced 'apple' with 'coconut oil'\n",
            "\n",
            "==================================================\n",
            "Generating recipe for: zucchini cheese patties\n",
            "==================================================\n"
          ]
        },
        {
          "output_type": "stream",
          "name": "stderr",
          "text": [
            "\r 46%|████▌     | 228/500 [27:13<28:09,  6.21s/it]"
          ]
        },
        {
          "output_type": "stream",
          "name": "stdout",
          "text": [
            "bisquick baking mix, cheddar cheese, salt, pepper, eggs, carrot, onions, zucchini, vegetable oil\n",
            "\n",
            "==================================================\n",
            "Generating recipe for: bacon wrapped potato bites  sp5\n",
            "==================================================\n"
          ]
        },
        {
          "output_type": "stream",
          "name": "stderr",
          "text": [
            "\r 46%|████▌     | 229/500 [27:18<25:28,  5.64s/it]"
          ]
        },
        {
          "output_type": "stream",
          "name": "stdout",
          "text": [
            "simply potatoes red potato wedges, bacon, sour cream, hot sauce, flat leaf parsley\n",
            "\n",
            "==================================================\n",
            "Generating recipe for: zip sauce  from a very popular restaurant in michigan  excellent\n",
            "==================================================\n"
          ]
        },
        {
          "output_type": "stream",
          "name": "stderr",
          "text": [
            "\r 46%|████▌     | 230/500 [27:19<19:29,  4.33s/it]"
          ]
        },
        {
          "output_type": "stream",
          "name": "stdout",
          "text": [
            "clarified butter, maggi seasoning, fresh mushrooms\n",
            "\n",
            "==================================================\n",
            "Generating recipe for: raspberry currant jam\n",
            "==================================================\n"
          ]
        },
        {
          "output_type": "stream",
          "name": "stderr",
          "text": [
            "\r 46%|████▌     | 231/500 [27:28<25:41,  5.73s/it]"
          ]
        },
        {
          "output_type": "stream",
          "name": "stdout",
          "text": [
            "red currants, water, red raspberries, sugar\n",
            "\n",
            "=== Allergen Substitutions Made ===\n",
            "Replaced 'water' with 'flax eggs'\n",
            "\n",
            "==================================================\n",
            "Generating recipe for: roast chicken legs with basil and garlic core ww friendly\n",
            "==================================================\n"
          ]
        },
        {
          "output_type": "stream",
          "name": "stderr",
          "text": [
            "\r 46%|████▋     | 232/500 [27:37<30:38,  6.86s/it]"
          ]
        },
        {
          "output_type": "stream",
          "name": "stdout",
          "text": [
            "chicken legs, basil leaves, garlic cloves, lemon, baking potatoes, olive oil, ground black pepper, paprika\n",
            "\n",
            "==================================================\n",
            "Generating recipe for: msg free ranch dressing\n",
            "==================================================\n"
          ]
        },
        {
          "output_type": "stream",
          "name": "stderr",
          "text": [
            "\r 47%|████▋     | 233/500 [27:45<31:23,  7.05s/it]"
          ]
        },
        {
          "output_type": "stream",
          "name": "stdout",
          "text": [
            "sour cream, heavy cream, lemon juice, garlic powder, dill weed, sugar, kosher salt, fresh ground black pepper\n",
            "\n",
            "=== Allergen Substitutions Made ===\n",
            "Replaced 'sugar' with 'coconut yogurt'\n",
            "\n",
            "==================================================\n",
            "Generating recipe for: moo shu pork\n",
            "==================================================\n"
          ]
        },
        {
          "output_type": "stream",
          "name": "stderr",
          "text": [
            "\r 47%|████▋     | 234/500 [27:54<34:23,  7.76s/it]"
          ]
        },
        {
          "output_type": "stream",
          "name": "stdout",
          "text": [
            "pork, garlic, ginger, shiitake mushroom, white cabbage, bamboo shoot, wood ear mushrooms, dried lily buds, hoisin sauce, dry sherry, eggs, scallion, chinese pancakes, kosher salt, black pepper, canola oil\n",
            "\n",
            "=== Allergen Substitutions Made ===\n",
            "Replaced 'garlic' with 'coconut oil'\n",
            "Replaced 'ginger' with 'poppy seeds'\n",
            "\n",
            "==================================================\n",
            "Generating recipe for: garlic infused chicken  eggplant and roasted red peppers stacks\n",
            "==================================================\n"
          ]
        },
        {
          "output_type": "stream",
          "name": "stderr",
          "text": [
            "\r 47%|████▋     | 235/500 [28:04<36:33,  8.28s/it]"
          ]
        },
        {
          "output_type": "stream",
          "name": "stdout",
          "text": [
            "olive oil, garlic cloves, diced tomatoes, tomato paste, black olives, honey, dried oregano, dried parsley, basil leaves, red pepper flakes, black pepper, salt, eggplant, chicken breasts, roasted red peppers, fresh mozzarella cheese, parmesan cheese\n",
            "\n",
            "=== Allergen Substitutions Made ===\n",
            "Replaced 'olive oil' with 'coconut oil'\n",
            "\n",
            "==================================================\n",
            "Generating recipe for: ginger carrot soup\n",
            "==================================================\n"
          ]
        },
        {
          "output_type": "stream",
          "name": "stderr",
          "text": [
            "\r 47%|████▋     | 236/500 [28:07<29:00,  6.59s/it]"
          ]
        },
        {
          "output_type": "stream",
          "name": "stdout",
          "text": [
            "cooking oil, onions, brown sugar, black pepper, fresh ginger, carrots, sweet potato, chicken stock, sherry wine, reduced-fat half-and-half, salt and pepper\n",
            "\n",
            "==================================================\n",
            "Generating recipe for: super easy chocolatey chip cookies\n",
            "==================================================\n"
          ]
        },
        {
          "output_type": "stream",
          "name": "stderr",
          "text": [
            "\r 47%|████▋     | 237/500 [28:09<23:02,  5.26s/it]"
          ]
        },
        {
          "output_type": "stream",
          "name": "stdout",
          "text": [
            "white cake mix, water, milk chocolate chips, white chocolate chips\n",
            "\n",
            "==================================================\n",
            "Generating recipe for: get your groove on punch\n",
            "==================================================\n"
          ]
        },
        {
          "output_type": "stream",
          "name": "stderr",
          "text": [
            "\r 48%|████▊     | 238/500 [28:14<22:38,  5.19s/it]"
          ]
        },
        {
          "output_type": "stream",
          "name": "stdout",
          "text": [
            "orange juice, pineapple juice, coco lopez, seltzer water, rum\n",
            "\n",
            "==================================================\n",
            "Generating recipe for: old fashioned peach preserves\n",
            "==================================================\n"
          ]
        },
        {
          "output_type": "stream",
          "name": "stderr",
          "text": [
            "\r 48%|████▊     | 239/500 [28:19<23:18,  5.36s/it]"
          ]
        },
        {
          "output_type": "stream",
          "name": "stdout",
          "text": [
            "peaches, sugar\n",
            "\n",
            "=== Allergen Substitutions Made ===\n",
            "Replaced 'peaches' with 'seeds'\n",
            "\n",
            "==================================================\n",
            "Generating recipe for: younger  healthier you smoothieeee\n",
            "==================================================\n"
          ]
        },
        {
          "output_type": "stream",
          "name": "stderr",
          "text": [
            "\r 48%|████▊     | 240/500 [28:28<27:55,  6.45s/it]"
          ]
        },
        {
          "output_type": "stream",
          "name": "stdout",
          "text": [
            "flax seed, banana, berries, orange juice, wheat grass powder\n",
            "\n",
            "=== Allergen Substitutions Made ===\n",
            "Replaced 'banana' with 'flax eggs'\n",
            "Replaced 'berries' with 'coconut aminos'\n",
            "\n",
            "==================================================\n",
            "Generating recipe for: ramen noodle chicken seasoning packet substitute\n",
            "==================================================\n"
          ]
        },
        {
          "output_type": "stream",
          "name": "stderr",
          "text": [
            "\r 48%|████▊     | 241/500 [28:38<31:39,  7.33s/it]"
          ]
        },
        {
          "output_type": "stream",
          "name": "stdout",
          "text": [
            "onion powder, garlic powder, poultry seasoning, black pepper, chicken\n",
            "\n",
            "=== Allergen Substitutions Made ===\n",
            "Replaced 'chicken' with 'coconut aminos'\n",
            "\n",
            "==================================================\n",
            "Generating recipe for: bagels   fresh\n",
            "==================================================\n"
          ]
        },
        {
          "output_type": "stream",
          "name": "stderr",
          "text": [
            "\r 48%|████▊     | 242/500 [28:45<31:01,  7.21s/it]"
          ]
        },
        {
          "output_type": "stream",
          "name": "stdout",
          "text": [
            "active dry yeast, sugar, milk, vegetable oil, salt, eggs, white flour, egg white\n",
            "\n",
            "==================================================\n",
            "Generating recipe for: herbed lemon spareribs\n",
            "==================================================\n"
          ]
        },
        {
          "output_type": "stream",
          "name": "stderr",
          "text": [
            "\r 49%|████▊     | 243/500 [28:51<29:09,  6.81s/it]"
          ]
        },
        {
          "output_type": "stream",
          "name": "stdout",
          "text": [
            "pork spareribs, vegetable oil, garlic, fresh parsley, fresh lemon rind, lemon juice, dried thyme, dried rosemary, dried sage, savory, marjoram, black pepper, dried mint, ground allspice, ground cumin, cayenne pepper, salt, lemons, thyme\n",
            "\n",
            "==================================================\n",
            "Generating recipe for: flounder italiano\n",
            "==================================================\n"
          ]
        },
        {
          "output_type": "stream",
          "name": "stderr",
          "text": [
            "\r 49%|████▉     | 244/500 [29:00<32:16,  7.56s/it]"
          ]
        },
        {
          "output_type": "stream",
          "name": "stdout",
          "text": [
            "flounder fillets, extra virgin olive oil, diced tomatoes, thyme, black olives, parsley, fresh basil, garlic cloves, vidalia onion, fresh lemon juice, lemon slices\n",
            "\n",
            "==================================================\n",
            "Generating recipe for: copycat kit kat bars\n",
            "==================================================\n"
          ]
        },
        {
          "output_type": "stream",
          "name": "stderr",
          "text": [
            "\r 49%|████▉     | 245/500 [29:05<28:46,  6.77s/it]"
          ]
        },
        {
          "output_type": "stream",
          "name": "stdout",
          "text": [
            "club crackers, butter, graham cracker crumbs, brown sugar, whole milk, sugar, creamy peanut butter, semisweet chocolate morsel, nestl toll house butterscotch flavored morsels\n",
            "\n",
            "==================================================\n",
            "Generating recipe for: fried potatoes with onion and kielbasa\n",
            "==================================================\n"
          ]
        },
        {
          "output_type": "stream",
          "name": "stderr",
          "text": [
            "\r 49%|████▉     | 246/500 [29:10<27:04,  6.40s/it]"
          ]
        },
        {
          "output_type": "stream",
          "name": "stdout",
          "text": [
            "potatoes, onions, oil, garlic cloves, paprika, kielbasa\n",
            "\n",
            "=== Allergen Substitutions Made ===\n",
            "Replaced 'oil' with 'coconut oil'\n",
            "\n",
            "==================================================\n",
            "Generating recipe for: nana s spinach gnocchi\n",
            "==================================================\n"
          ]
        },
        {
          "output_type": "stream",
          "name": "stderr",
          "text": [
            "\r 49%|████▉     | 247/500 [29:20<30:46,  7.30s/it]"
          ]
        },
        {
          "output_type": "stream",
          "name": "stdout",
          "text": [
            "spinach, potatoes, egg yolks, parmesan cheese, salt, flour, boiling water, butter\n",
            "\n",
            "==================================================\n",
            "Generating recipe for: savory chicken and broth\n",
            "==================================================\n"
          ]
        },
        {
          "output_type": "stream",
          "name": "stderr",
          "text": [
            "\r 50%|████▉     | 248/500 [29:27<30:15,  7.20s/it]"
          ]
        },
        {
          "output_type": "stream",
          "name": "stdout",
          "text": [
            "chicken thighs, chicken broth, beer, thyme leaves, mccormick's montreal brand steak seasoning, seasoning salt, celery seed, poultry seasoning\n",
            "\n",
            "==================================================\n",
            "Generating recipe for: orange coffee topped with honey nougat chocolate and orange peel\n",
            "==================================================\n"
          ]
        },
        {
          "output_type": "stream",
          "name": "stderr",
          "text": [
            "\r 50%|████▉     | 249/500 [29:32<28:02,  6.70s/it]"
          ]
        },
        {
          "output_type": "stream",
          "name": "stdout",
          "text": [
            "cream, sugar, toblerone chocolate bars, orange, brewed coffee, orange rind\n",
            "\n",
            "==================================================\n",
            "Generating recipe for: sloppy joe s on cornbread\n",
            "==================================================\n"
          ]
        },
        {
          "output_type": "stream",
          "name": "stderr",
          "text": [
            "\r 50%|█████     | 250/500 [29:36<24:22,  5.85s/it]"
          ]
        },
        {
          "output_type": "stream",
          "name": "stdout",
          "text": [
            "ground beef, onion, sweet pepper, celery, carrot, canned whole tomatoes, tomato puree, black pepper, salt\n",
            "\n",
            "Progress saved to generated_recipes_temp_250.json\n",
            "\n",
            "==================================================\n",
            "Generating recipe for: romaine  apple  and gorgonzola salad\n",
            "==================================================\n"
          ]
        },
        {
          "output_type": "stream",
          "name": "stderr",
          "text": [
            "\r 50%|█████     | 251/500 [29:42<24:37,  5.93s/it]"
          ]
        },
        {
          "output_type": "stream",
          "name": "stdout",
          "text": [
            "sugar, white wine vinegar, red wine vinegar, dijon mustard, extra virgin olive oil, shallot, dried tarragon, salt, fresh ground black pepper, romaine lettuce, butter, walnuts, granny smith apple, gorgonzola\n",
            "\n",
            "==================================================\n",
            "Generating recipe for: tequila honey glazed chicken with jalapeno\n",
            "==================================================\n"
          ]
        },
        {
          "output_type": "stream",
          "name": "stderr",
          "text": [
            "\r 50%|█████     | 252/500 [29:47<23:02,  5.57s/it]"
          ]
        },
        {
          "output_type": "stream",
          "name": "stdout",
          "text": [
            "ground coriander, kosher salt, red pepper, boneless skinless chicken breast halves, orange juice, tequila, brown sugar, honey, jalapeno pepper, diced onion\n",
            "\n",
            "==================================================\n",
            "Generating recipe for: hot salty nuts\n",
            "==================================================\n"
          ]
        },
        {
          "output_type": "stream",
          "name": "stderr",
          "text": [
            "\r 51%|█████     | 253/500 [29:56<27:20,  6.64s/it]"
          ]
        },
        {
          "output_type": "stream",
          "name": "stdout",
          "text": [
            "unsalted nuts, egg white, kosher salt, sugar, red pepper flakes, cumin, oregano, cayenne pepper\n",
            "\n",
            "==================================================\n",
            "Generating recipe for: chicken on a warm lentil salad\n",
            "==================================================\n"
          ]
        },
        {
          "output_type": "stream",
          "name": "stderr",
          "text": [
            "\r 51%|█████     | 254/500 [30:00<23:57,  5.84s/it]"
          ]
        },
        {
          "output_type": "stream",
          "name": "stdout",
          "text": [
            "chicken breast fillets, olive oil, brown onion, rindless bacon, garlic cloves, dry white wine, chicken stock, lentils, cherry tomatoes, flat leaf parsley\n",
            "\n",
            "==================================================\n",
            "Generating recipe for: chili dog pie\n",
            "==================================================\n"
          ]
        },
        {
          "output_type": "stream",
          "name": "stderr",
          "text": [
            "\r 51%|█████     | 255/500 [30:02<18:47,  4.60s/it]"
          ]
        },
        {
          "output_type": "stream",
          "name": "stdout",
          "text": [
            "bisquick baking mix, yellow mustard, water, hot dogs, chili, cheddar cheese\n",
            "\n",
            "==================================================\n",
            "Generating recipe for: strawberry pineapple breakfast protein shake\n",
            "==================================================\n"
          ]
        },
        {
          "output_type": "stream",
          "name": "stderr",
          "text": [
            "\r 51%|█████     | 256/500 [30:11<24:21,  5.99s/it]"
          ]
        },
        {
          "output_type": "stream",
          "name": "stdout",
          "text": [
            "frozen strawberries, vanilla protein powder, flax seed oil, lemon, buttermilk, pineapple juice\n",
            "\n",
            "==================================================\n",
            "Generating recipe for: baked tomatoes w broccoli stuffing\n",
            "==================================================\n"
          ]
        },
        {
          "output_type": "stream",
          "name": "stderr",
          "text": [
            "\r 51%|█████▏    | 257/500 [30:20<27:57,  6.90s/it]"
          ]
        },
        {
          "output_type": "stream",
          "name": "stdout",
          "text": [
            "tomatoes, broccoli, cracker crumb, accent seasoning, salt, pepper, onions, cooked bacon, butter\n",
            "\n",
            "==================================================\n",
            "Generating recipe for: brothy chinese noodles\n",
            "==================================================\n"
          ]
        },
        {
          "output_type": "stream",
          "name": "stderr",
          "text": [
            "\r 52%|█████▏    | 258/500 [30:26<26:11,  6.50s/it]"
          ]
        },
        {
          "output_type": "stream",
          "name": "stdout",
          "text": [
            "sesame oil, lean ground turkey, scallion, garlic cloves, fresh ginger, reduced-sodium chicken broth, water, bok choy, chinese noodles, reduced sodium soy sauce, rice vinegar, cucumber\n",
            "\n",
            "==================================================\n",
            "Generating recipe for: the realtor s chocolate surprise\n",
            "==================================================\n"
          ]
        },
        {
          "output_type": "stream",
          "name": "stderr",
          "text": [
            "\r 52%|█████▏    | 259/500 [30:35<29:08,  7.25s/it]"
          ]
        },
        {
          "output_type": "stream",
          "name": "stdout",
          "text": [
            "butter, flour, nuts, cream cheese, powdered sugar, cool whip, chocolate instant pudding, milk\n",
            "\n",
            "=== Allergen Substitutions Made ===\n",
            "Replaced 'butter' with 'coconut oil'\n",
            "Replaced 'flour' with 'almond flour'\n",
            "\n",
            "==================================================\n",
            "Generating recipe for: african chicken in spicy red sauce\n",
            "==================================================\n"
          ]
        },
        {
          "output_type": "stream",
          "name": "stderr",
          "text": [
            "\r 52%|█████▏    | 260/500 [30:38<24:18,  6.08s/it]"
          ]
        },
        {
          "output_type": "stream",
          "name": "stdout",
          "text": [
            "boneless chicken breasts, fresh lemon juice, salt, olive oil, onions, garlic, butter, minced ginger, ground nutmeg, ground cardamom, dry red wine, chicken broth, tomato paste, fresh cilantro, lemon wedges, ground red pepper, fresh ground black pepper, ground ginger, ground cinnamon, ground cloves\n",
            "\n",
            "=== Allergen Substitutions Made ===\n",
            "Replaced 'salt' with 'coconut yogurt'\n",
            "\n",
            "==================================================\n",
            "Generating recipe for: metzger s spaghetti sauce\n",
            "==================================================\n"
          ]
        },
        {
          "output_type": "stream",
          "name": "stderr",
          "text": [
            "\r 52%|█████▏    | 261/500 [30:47<27:57,  7.02s/it]"
          ]
        },
        {
          "output_type": "stream",
          "name": "stdout",
          "text": [
            "crushed tomatoes, tomato paste, garlic cloves, extra virgin olive oil, oregano, basil, italian seasoning, bay leaves, onion, italian sausage, black pepper\n",
            "\n",
            "==================================================\n",
            "Generating recipe for: artichoke  mushroom and parma ham tart\n",
            "==================================================\n"
          ]
        },
        {
          "output_type": "stream",
          "name": "stderr",
          "text": [
            "\r 52%|█████▏    | 262/500 [30:57<30:37,  7.72s/it]"
          ]
        },
        {
          "output_type": "stream",
          "name": "stdout",
          "text": [
            "all-purpose flour, parmesan cheese, butter, egg, olive oil, fresh mushrooms, parma ham, artichoke hearts, creme fraiche, eggs, flat leaf parsley, milk, salt, ground black pepper\n",
            "\n",
            "==================================================\n",
            "Generating recipe for: navajo fry bread   traditional\n",
            "==================================================\n"
          ]
        },
        {
          "output_type": "stream",
          "name": "stderr",
          "text": [
            "\r 53%|█████▎    | 263/500 [31:06<32:05,  8.12s/it]"
          ]
        },
        {
          "output_type": "stream",
          "name": "stdout",
          "text": [
            "flour, baking powder, salt, warm water, shortening, onions, cheddar cheese, lettuce, tomatoes, chilies, hot chili beans, sour cream\n",
            "\n",
            "=== Allergen Substitutions Made ===\n",
            "Replaced 'flour' with 'almond flour'\n",
            "Replaced 'salt' with 'coconut yogurt'\n",
            "\n",
            "==================================================\n",
            "Generating recipe for: lassie\n",
            "==================================================\n"
          ]
        },
        {
          "output_type": "stream",
          "name": "stderr",
          "text": [
            "\r 53%|█████▎    | 264/500 [31:15<33:18,  8.47s/it]"
          ]
        },
        {
          "output_type": "stream",
          "name": "stdout",
          "text": [
            "mascarpone cheese, cream, saffron, banana, frozen blueberries, sparkling water, splenda sugar substitute, cardamom, lemon juice, ice cubes, puffed rice cereal\n",
            "\n",
            "==================================================\n",
            "Generating recipe for: crock pot parmesan potatoes\n",
            "==================================================\n"
          ]
        },
        {
          "output_type": "stream",
          "name": "stderr",
          "text": [
            "\r 53%|█████▎    | 265/500 [31:20<29:07,  7.44s/it]"
          ]
        },
        {
          "output_type": "stream",
          "name": "stdout",
          "text": [
            "potatoes, bacon, parmesan cheese, cream of mushroom soup, salt and pepper\n",
            "\n",
            "==================================================\n",
            "Generating recipe for: peanut butter  peanut butter chip or chocolate peanut squares\n",
            "==================================================\n"
          ]
        },
        {
          "output_type": "stream",
          "name": "stderr",
          "text": [
            "\r 53%|█████▎    | 266/500 [31:29<31:13,  8.01s/it]"
          ]
        },
        {
          "output_type": "stream",
          "name": "stdout",
          "text": [
            "shortening, peanut butter, sugar, egg, salt, vanilla, baking soda, all-purpose flour, butter, powdered sugar, milk, unsweetened chocolate, chocolate chips, chocolate wafers\n",
            "\n",
            "==================================================\n",
            "Generating recipe for: creamy cheddar vegetable sauce\n",
            "==================================================\n"
          ]
        },
        {
          "output_type": "stream",
          "name": "stderr",
          "text": [
            "\r 53%|█████▎    | 267/500 [31:39<32:41,  8.42s/it]"
          ]
        },
        {
          "output_type": "stream",
          "name": "stdout",
          "text": [
            "fresh mushrooms, butter, flour, salt, milk, sour cream, cheddar cheese, worcestershire sauce, dry mustard\n",
            "\n",
            "==================================================\n",
            "Generating recipe for: brie leek tartlets\n",
            "==================================================\n"
          ]
        },
        {
          "output_type": "stream",
          "name": "stderr",
          "text": [
            "\r 54%|█████▎    | 268/500 [31:42<26:17,  6.80s/it]"
          ]
        },
        {
          "output_type": "stream",
          "name": "stdout",
          "text": [
            "leek, garlic clove, butter, heavy whipping cream, salt, white pepper, ground nutmeg, frozen miniature phyllo tart shells, brie cheese\n",
            "\n",
            "=== Allergen Substitutions Made ===\n",
            "Replaced 'butter' with 'coconut oil'\n",
            "Replaced 'salt' with 'coconut yogurt'\n",
            "\n",
            "==================================================\n",
            "Generating recipe for: honduran mango avocado salsa\n",
            "==================================================\n"
          ]
        },
        {
          "output_type": "stream",
          "name": "stderr",
          "text": [
            "\r 54%|█████▍    | 269/500 [31:49<26:46,  6.96s/it]"
          ]
        },
        {
          "output_type": "stream",
          "name": "stdout",
          "text": [
            "mango, avocados, tomatoes, red onion, red pepper, garlic powder, lime juice\n",
            "\n",
            "=== Allergen Substitutions Made ===\n",
            "Replaced 'mango' with 'oat milk'\n",
            "\n",
            "==================================================\n",
            "Generating recipe for: deviled eggs with bacon\n",
            "==================================================\n"
          ]
        },
        {
          "output_type": "stream",
          "name": "stderr",
          "text": [
            "\r 54%|█████▍    | 270/500 [31:52<22:33,  5.89s/it]"
          ]
        },
        {
          "output_type": "stream",
          "name": "stdout",
          "text": [
            "hard-boiled eggs, bacon, green onion, prepared mustard, mayonnaise, salt, ground black pepper, paprika\n",
            "\n",
            "==================================================\n",
            "Generating recipe for: cheese and ham pockets\n",
            "==================================================\n"
          ]
        },
        {
          "output_type": "stream",
          "name": "stderr",
          "text": [
            "\r 54%|█████▍    | 271/500 [31:58<21:46,  5.70s/it]"
          ]
        },
        {
          "output_type": "stream",
          "name": "stdout",
          "text": [
            "refrigerated biscuits, cubed ham, cheese\n",
            "\n",
            "==================================================\n",
            "Generating recipe for: strawberry mango exotic smoothie\n",
            "==================================================\n"
          ]
        },
        {
          "output_type": "stream",
          "name": "stderr",
          "text": [
            "\r 54%|█████▍    | 272/500 [32:04<22:04,  5.81s/it]"
          ]
        },
        {
          "output_type": "stream",
          "name": "stdout",
          "text": [
            "mangoes, frozen strawberries, orange juice, mango sherbet, honey\n",
            "\n",
            "==================================================\n",
            "Generating recipe for: green goddess crab salad\n",
            "==================================================\n"
          ]
        },
        {
          "output_type": "stream",
          "name": "stderr",
          "text": [
            "\r 55%|█████▍    | 273/500 [32:10<22:49,  6.03s/it]"
          ]
        },
        {
          "output_type": "stream",
          "name": "stdout",
          "text": [
            "imitation crabmeat, shell pasta, grape tomatoes, cucumber, nonfat sour cream, light mayonnaise, skim milk, green goddess salad dressing mix, 2% cheddar cheese\n",
            "\n",
            "==================================================\n",
            "Generating recipe for: carrot haters casserole\n",
            "==================================================\n"
          ]
        },
        {
          "output_type": "stream",
          "name": "stderr",
          "text": [
            "\r 55%|█████▍    | 274/500 [32:12<17:48,  4.73s/it]"
          ]
        },
        {
          "output_type": "stream",
          "name": "stdout",
          "text": [
            "carrots, mayonnaise, onions, prepared horseradish, cheddar cheese, buttered bread crumbs\n",
            "\n",
            "==================================================\n",
            "Generating recipe for: kid friendly mediterranean turkey burgers\n",
            "==================================================\n"
          ]
        },
        {
          "output_type": "stream",
          "name": "stderr",
          "text": [
            "\r 55%|█████▌    | 275/500 [32:21<22:57,  6.12s/it]"
          ]
        },
        {
          "output_type": "stream",
          "name": "stdout",
          "text": [
            "ground turkey, bosc pear, egg, panko breadcrumbs, fresh flat-leaf parsley, garlic cloves, fresh sage, fresh rosemary leaves, ground allspice, coarse salt, fresh ground pepper\n",
            "\n",
            "==================================================\n",
            "Generating recipe for: super  spinach salad\n",
            "==================================================\n"
          ]
        },
        {
          "output_type": "stream",
          "name": "stderr",
          "text": [
            "\r 55%|█████▌    | 276/500 [32:25<19:30,  5.23s/it]"
          ]
        },
        {
          "output_type": "stream",
          "name": "stdout",
          "text": [
            "vegetable oil, onion, brown sugar, red wine vinegar, catsup, worcestershire sauce, dry mustard, bacon, spinach, bean sprouts, mushrooms, green onions, water chestnut, hard-boiled eggs, dry roasted sunflower seeds\n",
            "\n",
            "==================================================\n",
            "Generating recipe for: seafood dressing\n",
            "==================================================\n"
          ]
        },
        {
          "output_type": "stream",
          "name": "stderr",
          "text": [
            "\r 55%|█████▌    | 277/500 [32:32<21:30,  5.78s/it]"
          ]
        },
        {
          "output_type": "stream",
          "name": "stdout",
          "text": [
            "mayonnaise, french dressing, mango chutney, lime juice, curry powder, salt and pepper\n",
            "\n",
            "==================================================\n",
            "Generating recipe for: flaming green dragon\n",
            "==================================================\n"
          ]
        },
        {
          "output_type": "stream",
          "name": "stderr",
          "text": [
            "\r 56%|█████▌    | 278/500 [32:41<25:16,  6.83s/it]"
          ]
        },
        {
          "output_type": "stream",
          "name": "stdout",
          "text": [
            "midori melon liqueur, bacardi 151 rum\n",
            "\n",
            "==================================================\n",
            "Generating recipe for: chocolate banana muffin\n",
            "==================================================\n"
          ]
        },
        {
          "output_type": "stream",
          "name": "stderr",
          "text": [
            "\r 56%|█████▌    | 279/500 [32:47<24:10,  6.56s/it]"
          ]
        },
        {
          "output_type": "stream",
          "name": "stdout",
          "text": [
            "unsalted butter, whole milk, eggs, egg yolks, vanilla extract, all-purpose flour, brown sugar, cocoa powder, baking powder, salt, bananas\n",
            "\n",
            "==================================================\n",
            "Generating recipe for: spicy cocoa chicken\n",
            "==================================================\n"
          ]
        },
        {
          "output_type": "stream",
          "name": "stderr",
          "text": [
            "\r 56%|█████▌    | 280/500 [32:56<26:57,  7.35s/it]"
          ]
        },
        {
          "output_type": "stream",
          "name": "stdout",
          "text": [
            "chicken drumsticks, corn flakes, cayenne pepper, baking cocoa, sea salt, extra virgin olive oil, artificial sweetener\n",
            "\n",
            "==================================================\n",
            "Generating recipe for: braised leeks with mustard cream\n",
            "==================================================\n"
          ]
        },
        {
          "output_type": "stream",
          "name": "stderr",
          "text": [
            "\r 56%|█████▌    | 281/500 [33:05<29:01,  7.95s/it]"
          ]
        },
        {
          "output_type": "stream",
          "name": "stdout",
          "text": [
            "unsalted butter, olive oil, leeks, chicken stock, shallots, dry white wine, cream, dijon mustard, sea salt, fresh ground black pepper\n",
            "\n",
            "=== Allergen Substitutions Made ===\n",
            "Replaced 'olive oil' with 'coconut oil'\n",
            "\n",
            "==================================================\n",
            "Generating recipe for: marinated peppers and mozzarella\n",
            "==================================================\n"
          ]
        },
        {
          "output_type": "stream",
          "name": "stderr",
          "text": [
            "\r 56%|█████▋    | 282/500 [33:14<30:04,  8.28s/it]"
          ]
        },
        {
          "output_type": "stream",
          "name": "stdout",
          "text": [
            "sweet peppers, olive oil, garlic cloves, lemon rind, crushed red pepper flakes, salt, mozzarella cheese, basil leaves, fresh lemon juice\n",
            "\n",
            "=== Allergen Substitutions Made ===\n",
            "Replaced 'olive oil' with 'coconut oil'\n",
            "\n",
            "==================================================\n",
            "Generating recipe for: southern cornbread salad\n",
            "==================================================\n"
          ]
        },
        {
          "output_type": "stream",
          "name": "stderr",
          "text": [
            "\r 57%|█████▋    | 283/500 [33:24<31:01,  8.58s/it]"
          ]
        },
        {
          "output_type": "stream",
          "name": "stdout",
          "text": [
            "cornbread, red kidney beans, corn niblets, vidalia onion, green bell pepper, tomatoes, sharp cheddar cheese, ranch dressing, fresh parsley\n",
            "\n",
            "==================================================\n",
            "Generating recipe for: hashwe  arabian stuffed vegetables\n",
            "==================================================\n"
          ]
        },
        {
          "output_type": "stream",
          "name": "stderr",
          "text": [
            "\r 57%|█████▋    | 284/500 [33:27<25:36,  7.11s/it]"
          ]
        },
        {
          "output_type": "stream",
          "name": "stdout",
          "text": [
            "water, long-grain rice, garlic cloves, lamb, beef, ground cinnamon, nutmeg, ground allspice, salt & freshly ground black pepper, butter, tomatoes, zucchini, bell peppers, canned tomato sauce, lemon, juice of\n",
            "\n",
            "==================================================\n",
            "Generating recipe for: smores krispie treats\n",
            "==================================================\n"
          ]
        },
        {
          "output_type": "stream",
          "name": "stderr",
          "text": [
            "\r 57%|█████▋    | 285/500 [33:36<26:59,  7.53s/it]"
          ]
        },
        {
          "output_type": "stream",
          "name": "stdout",
          "text": [
            "butter, mini marshmallows, salt, pure vanilla extract, rice krispies, graham crackers, milk chocolate chips\n",
            "\n",
            "==================================================\n",
            "Generating recipe for: peanut butter cheese fudge\n",
            "==================================================\n"
          ]
        },
        {
          "output_type": "stream",
          "name": "stderr",
          "text": [
            "\r 57%|█████▋    | 286/500 [33:45<28:42,  8.05s/it]"
          ]
        },
        {
          "output_type": "stream",
          "name": "stdout",
          "text": [
            "velveeta cheese, butter, creamy peanut butter, vanilla extract, nuts, confectioners' sugar\n",
            "\n",
            "==================================================\n",
            "Generating recipe for: bacon cheeseburger dinner\n",
            "==================================================\n"
          ]
        },
        {
          "output_type": "stream",
          "name": "stderr",
          "text": [
            "\r 57%|█████▋    | 287/500 [33:47<22:06,  6.23s/it]"
          ]
        },
        {
          "output_type": "stream",
          "name": "stdout",
          "text": [
            "ground beef, onion, hot water, milk, hamburger helper cheeseburger macaroni, barbecue sauce, cheddar cheese, bacon\n",
            "\n",
            "==================================================\n",
            "Generating recipe for: fresh mushroom soup\n",
            "==================================================\n"
          ]
        },
        {
          "output_type": "stream",
          "name": "stderr",
          "text": [
            "\r 58%|█████▊    | 288/500 [33:53<21:57,  6.21s/it]"
          ]
        },
        {
          "output_type": "stream",
          "name": "stdout",
          "text": [
            "low sodium chicken broth, nonfat dry milk powder, margarine, onion, garlic cloves, mushrooms, flour, dry sherry, lemon rind, fresh parsley, fresh lemon juice\n",
            "\n",
            "=== Allergen Substitutions Made ===\n",
            "Replaced 'mushrooms' with 'king oyster mushrooms'\n",
            "\n",
            "==================================================\n",
            "Generating recipe for: humble hash browns casserole\n",
            "==================================================\n"
          ]
        },
        {
          "output_type": "stream",
          "name": "stderr",
          "text": [
            "\r 58%|█████▊    | 289/500 [33:59<21:25,  6.09s/it]"
          ]
        },
        {
          "output_type": "stream",
          "name": "stdout",
          "text": [
            "frozen hash browns, extra lean ground beef, cream of mushroom soup, beef bouillon granules, onion, milk, cheddar cheese, green beans, seasoning\n",
            "\n",
            "=== Allergen Substitutions Made ===\n",
            "Replaced 'seasoning' with 'oat milk'\n",
            "\n",
            "==================================================\n",
            "Generating recipe for: grammie bea s blueberry feather cake\n",
            "==================================================\n"
          ]
        },
        {
          "output_type": "stream",
          "name": "stderr",
          "text": [
            "\r 58%|█████▊    | 290/500 [34:08<24:31,  7.01s/it]"
          ]
        },
        {
          "output_type": "stream",
          "name": "stdout",
          "text": [
            "shortening, sugar, eggs, vanilla, cake flour, salt, baking powder, milk, blueberries\n",
            "\n",
            "=== Allergen Substitutions Made ===\n",
            "Replaced 'sugar' with 'coconut yogurt'\n",
            "\n",
            "==================================================\n",
            "Generating recipe for: triple lemon ripple cake\n",
            "==================================================\n"
          ]
        },
        {
          "output_type": "stream",
          "name": "stderr",
          "text": [
            "\r 58%|█████▊    | 291/500 [34:12<20:45,  5.96s/it]"
          ]
        },
        {
          "output_type": "stream",
          "name": "stdout",
          "text": [
            "cream cheese, sugar, egg, all-purpose flour, lemon juice, butter, eggs, baking powder, salt, milk, nonstick cooking spray, confectioners' sugar\n",
            "\n",
            "==================================================\n",
            "Generating recipe for: crab salad  imitation crab\n",
            "==================================================\n"
          ]
        },
        {
          "output_type": "stream",
          "name": "stderr",
          "text": [
            "\r 58%|█████▊    | 292/500 [34:21<24:11,  6.98s/it]"
          ]
        },
        {
          "output_type": "stream",
          "name": "stdout",
          "text": [
            "imitation crabmeat, celery, water chestnuts, olive, capers, worcestershire sauce, fresh lemon juice, mayonnaise, herb seasoning mix\n",
            "\n",
            "==================================================\n",
            "Generating recipe for: pork with braised cabbage\n",
            "==================================================\n"
          ]
        },
        {
          "output_type": "stream",
          "name": "stderr",
          "text": [
            "\r 59%|█████▊    | 293/500 [34:30<26:33,  7.70s/it]"
          ]
        },
        {
          "output_type": "stream",
          "name": "stdout",
          "text": [
            "pork, salt & fresh ground pepper, butter, canola oil, balsamic vinegar, dry sherry, homemade chicken stock, bacon, cabbage, dijon mustard, plum tomato, chives\n",
            "\n",
            "=== Allergen Substitutions Made ===\n",
            "Replaced 'pork' with 'oat milk'\n",
            "\n",
            "==================================================\n",
            "Generating recipe for: red snapper with basil vinaigrette\n",
            "==================================================\n"
          ]
        },
        {
          "output_type": "stream",
          "name": "stderr",
          "text": [
            "\r 59%|█████▉    | 294/500 [34:37<24:55,  7.26s/it]"
          ]
        },
        {
          "output_type": "stream",
          "name": "stdout",
          "text": [
            "red snapper fillets, salt, black pepper, fresh lemon juice, extra virgin olive oil, fresh basil\n",
            "\n",
            "=== Allergen Substitutions Made ===\n",
            "Replaced 'salt' with 'coconut yogurt'\n",
            "Replaced 'black pepper' with 'hearts of palm'\n",
            "\n",
            "==================================================\n",
            "Generating recipe for: ada s peanut butter fudge\n",
            "==================================================\n"
          ]
        },
        {
          "output_type": "stream",
          "name": "stderr",
          "text": [
            "\r 59%|█████▉    | 295/500 [34:46<26:54,  7.87s/it]"
          ]
        },
        {
          "output_type": "stream",
          "name": "stdout",
          "text": [
            "brown sugar, granulated sugar, butter, vanilla, evaporated milk, peanut butter, marshmallow cream\n",
            "\n",
            "==================================================\n",
            "Generating recipe for: white snowflake cookies\n",
            "==================================================\n"
          ]
        },
        {
          "output_type": "stream",
          "name": "stderr",
          "text": [
            "\r 59%|█████▉    | 296/500 [34:55<28:03,  8.25s/it]"
          ]
        },
        {
          "output_type": "stream",
          "name": "stdout",
          "text": [
            "butter, sugar, vanilla, egg, flour, baking soda, sweetened flaked coconut, white chocolate chips, powdered sugar\n",
            "\n",
            "==================================================\n",
            "Generating recipe for: cream cheese apple cake\n",
            "==================================================\n"
          ]
        },
        {
          "output_type": "stream",
          "name": "stderr",
          "text": [
            "\r 59%|█████▉    | 297/500 [35:04<28:51,  8.53s/it]"
          ]
        },
        {
          "output_type": "stream",
          "name": "stdout",
          "text": [
            "butter, eggs, vanilla, cream cheese, sugar, apples, flour, baking powder, salt, cinnamon\n",
            "\n",
            "=== Allergen Substitutions Made ===\n",
            "Replaced 'butter' with 'coconut oil'\n",
            "Replaced 'sugar' with 'coconut yogurt'\n",
            "Replaced 'salt' with 'coconut yogurt'\n",
            "\n",
            "==================================================\n",
            "Generating recipe for: crispy baked chicken made with instant potatoes\n",
            "==================================================\n"
          ]
        },
        {
          "output_type": "stream",
          "name": "stderr",
          "text": [
            "\r 60%|█████▉    | 298/500 [35:14<29:32,  8.77s/it]"
          ]
        },
        {
          "output_type": "stream",
          "name": "stdout",
          "text": [
            "instant potato flakes, parmesan cheese, garlic salt, frying chickens, butter\n",
            "\n",
            "==================================================\n",
            "Generating recipe for: mimi s  barbecue   sloppy joes\n",
            "==================================================\n"
          ]
        },
        {
          "output_type": "stream",
          "name": "stderr",
          "text": [
            "\r 60%|█████▉    | 299/500 [35:17<24:09,  7.21s/it]"
          ]
        },
        {
          "output_type": "stream",
          "name": "stdout",
          "text": [
            "ground beef, chili sauce, ketchup, yellow mustard, worcestershire sauce, hamburger buns\n",
            "\n",
            "==================================================\n",
            "Generating recipe for: green beans in tomato salsa\n",
            "==================================================\n"
          ]
        },
        {
          "output_type": "stream",
          "name": "stderr",
          "text": [
            "\r 60%|██████    | 300/500 [35:23<22:19,  6.70s/it]"
          ]
        },
        {
          "output_type": "stream",
          "name": "stdout",
          "text": [
            "olive oil, garlic, fresh green beans, tomatoes, onion, tomato paste, salt and pepper\n",
            "\n",
            "Progress saved to generated_recipes_temp_300.json\n",
            "\n",
            "==================================================\n",
            "Generating recipe for: beef roast with golden mushroom gravy\n",
            "==================================================\n"
          ]
        },
        {
          "output_type": "stream",
          "name": "stderr",
          "text": [
            "\r 60%|██████    | 301/500 [35:32<24:48,  7.48s/it]"
          ]
        },
        {
          "output_type": "stream",
          "name": "stdout",
          "text": [
            "beef eye round, campbell's golden mushroom soup, lipton onion soup mix, olive oil, garlic cloves, salt, pepper\n",
            "\n",
            "==================================================\n",
            "Generating recipe for: tangy caesar salad\n",
            "==================================================\n"
          ]
        },
        {
          "output_type": "stream",
          "name": "stderr",
          "text": [
            "\r 60%|██████    | 302/500 [35:41<26:37,  8.07s/it]"
          ]
        },
        {
          "output_type": "stream",
          "name": "stdout",
          "text": [
            "romaine lettuce, caesar salad dressing, lemon juice, black pepper, parmesan cheese, caesar-flavor croutons\n",
            "\n",
            "==================================================\n",
            "Generating recipe for: guilt free west coast cheese sauce\n",
            "==================================================\n"
          ]
        },
        {
          "output_type": "stream",
          "name": "stderr",
          "text": [
            "\r 61%|██████    | 303/500 [35:50<27:20,  8.33s/it]"
          ]
        },
        {
          "output_type": "stream",
          "name": "stdout",
          "text": [
            "nonfat sour cream, parmesan cheese, butter buds, evaporated skim milk\n",
            "\n",
            "==================================================\n",
            "Generating recipe for: louisiana roasted pecan pie\n",
            "==================================================\n"
          ]
        },
        {
          "output_type": "stream",
          "name": "stderr",
          "text": [
            "\r 61%|██████    | 304/500 [36:00<28:17,  8.66s/it]"
          ]
        },
        {
          "output_type": "stream",
          "name": "stdout",
          "text": [
            "unbaked pie shell, pecan pieces, eggs, sugar, brown sugar, corn syrup, butter, vanilla extract, bourbon, salt, pecan halves\n",
            "\n",
            "==================================================\n",
            "Generating recipe for: linda s seasoned italian baked pork chops\n",
            "==================================================\n"
          ]
        },
        {
          "output_type": "stream",
          "name": "stderr",
          "text": [
            "\r 61%|██████    | 305/500 [36:03<22:22,  6.88s/it]"
          ]
        },
        {
          "output_type": "stream",
          "name": "stdout",
          "text": [
            "lean pork chops, italian seasoned breadcrumbs, italian seasoning, garlic powder, dried rosemary, salt and pepper, pam cooking spray\n",
            "\n",
            "==================================================\n",
            "Generating recipe for: purple waldorf salad\n",
            "==================================================\n"
          ]
        },
        {
          "output_type": "stream",
          "name": "stderr",
          "text": [
            "\r 61%|██████    | 306/500 [36:12<24:37,  7.61s/it]"
          ]
        },
        {
          "output_type": "stream",
          "name": "stdout",
          "text": [
            "cabbage, pecans, raisins, apple, mayonnaise, apple cider vinegar, sugar\n",
            "\n",
            "=== Allergen Substitutions Made ===\n",
            "Replaced 'cabbage' with 'king oyster mushrooms'\n",
            "\n",
            "==================================================\n",
            "Generating recipe for: spicy yellow rice\n",
            "==================================================\n"
          ]
        },
        {
          "output_type": "stream",
          "name": "stderr",
          "text": [
            "\r 61%|██████▏   | 307/500 [36:21<25:59,  8.08s/it]"
          ]
        },
        {
          "output_type": "stream",
          "name": "stdout",
          "text": [
            "butter, onion, green pepper, garlic cloves, long grain rice, water, bouillon cube, bay leaf, hot sauce, turmeric, oregano, salt, pepper\n",
            "\n",
            "=== Allergen Substitutions Made ===\n",
            "Replaced 'onion' with 'seeds'\n",
            "Replaced 'pepper' with 'flax eggs'\n",
            "\n",
            "==================================================\n",
            "Generating recipe for: mahogany chicken wings\n",
            "==================================================\n"
          ]
        },
        {
          "output_type": "stream",
          "name": "stderr",
          "text": [
            "\r 62%|██████▏   | 308/500 [36:29<25:50,  8.08s/it]"
          ]
        },
        {
          "output_type": "stream",
          "name": "stdout",
          "text": [
            "plum sauce, hoisin sauce, soy sauce, apple cider vinegar, dry sherry, honey, scallions, garlic cloves, chicken wings\n",
            "\n",
            "==================================================\n",
            "Generating recipe for: the realtor s party potatoes\n",
            "==================================================\n"
          ]
        },
        {
          "output_type": "stream",
          "name": "stderr",
          "text": [
            "\r 62%|██████▏   | 309/500 [36:32<20:39,  6.49s/it]"
          ]
        },
        {
          "output_type": "stream",
          "name": "stdout",
          "text": [
            "potatoes, butter, cream cheese, sour cream, parmesan cheese, green onions, salt, pepper\n",
            "\n",
            "==================================================\n",
            "Generating recipe for: broccoli ritz casserole\n",
            "==================================================\n"
          ]
        },
        {
          "output_type": "stream",
          "name": "stderr",
          "text": [
            "\r 62%|██████▏   | 310/500 [36:41<23:16,  7.35s/it]"
          ]
        },
        {
          "output_type": "stream",
          "name": "stdout",
          "text": [
            "broccoli, fresh mushrooms, cheddar cheese, sliced water chestnuts, ritz cracker, butter\n",
            "\n",
            "==================================================\n",
            "Generating recipe for: lentil soup with andouille sausage\n",
            "==================================================\n"
          ]
        },
        {
          "output_type": "stream",
          "name": "stderr",
          "text": [
            "\r 62%|██████▏   | 311/500 [36:51<24:54,  7.91s/it]"
          ]
        },
        {
          "output_type": "stream",
          "name": "stdout",
          "text": [
            "chicken stock, beef stock, dried lentils, fennel seeds, olive oil, celery, carrot, onion, andouille sausage, dried thyme, creole seasoning, salt and pepper\n",
            "\n",
            "=== Allergen Substitutions Made ===\n",
            "Replaced 'olive oil' with 'coconut oil'\n",
            "Replaced 'carrot' with 'hearts of palm'\n",
            "\n",
            "==================================================\n",
            "Generating recipe for: mini quiche\n",
            "==================================================\n"
          ]
        },
        {
          "output_type": "stream",
          "name": "stderr",
          "text": [
            "\r 62%|██████▏   | 312/500 [36:53<19:43,  6.30s/it]"
          ]
        },
        {
          "output_type": "stream",
          "name": "stdout",
          "text": [
            "eggs, milk, cream, nutmeg, plain flour, frozen puff pastry, dried chives, bacon, mozzarella cheese\n",
            "\n",
            "==================================================\n",
            "Generating recipe for: paula dean s ooey gooey chocolate chip cake\n",
            "==================================================\n"
          ]
        },
        {
          "output_type": "stream",
          "name": "stderr",
          "text": [
            "\r 63%|██████▎   | 313/500 [37:02<22:08,  7.10s/it]"
          ]
        },
        {
          "output_type": "stream",
          "name": "stdout",
          "text": [
            "yellow cake mix, egg, butter, cream cheese, eggs, pure vanilla extract, confectioners' sugar, chocolate chips\n",
            "\n",
            "==================================================\n",
            "Generating recipe for: cinnamon basmati rice with raisins\n",
            "==================================================\n"
          ]
        },
        {
          "output_type": "stream",
          "name": "stderr",
          "text": [
            "\r 63%|██████▎   | 314/500 [37:11<23:30,  7.58s/it]"
          ]
        },
        {
          "output_type": "stream",
          "name": "stdout",
          "text": [
            "butter, onion, ground cloves, cinnamon, basmati rice, golden raisin, salt, pepper\n",
            "\n",
            "=== Allergen Substitutions Made ===\n",
            "Replaced 'pepper' with 'flax eggs'\n",
            "\n",
            "==================================================\n",
            "Generating recipe for: mix and match bundt cake\n",
            "==================================================\n"
          ]
        },
        {
          "output_type": "stream",
          "name": "stderr",
          "text": [
            "\r 63%|██████▎   | 315/500 [37:17<21:46,  7.06s/it]"
          ]
        },
        {
          "output_type": "stream",
          "name": "stdout",
          "text": [
            "cake mix, extract, eggs, pie filling\n",
            "\n",
            "==================================================\n",
            "Generating recipe for: xochipilli s carne guisada\n",
            "==================================================\n"
          ]
        },
        {
          "output_type": "stream",
          "name": "stderr",
          "text": [
            "\r 63%|██████▎   | 316/500 [37:19<17:04,  5.57s/it]"
          ]
        },
        {
          "output_type": "stream",
          "name": "stdout",
          "text": [
            "beef, green bell pepper, onion, tomatoes, garlic, whole cumin seeds, fresh ground black pepper, water, cornstarch, salt\n",
            "\n",
            "==================================================\n",
            "Generating recipe for: oven pancake puff\n",
            "==================================================\n"
          ]
        },
        {
          "output_type": "stream",
          "name": "stderr",
          "text": [
            "\r 63%|██████▎   | 317/500 [37:22<14:51,  4.87s/it]"
          ]
        },
        {
          "output_type": "stream",
          "name": "stdout",
          "text": [
            "eggs, flour, milk, salt, butter\n",
            "\n",
            "=== Allergen Substitutions Made ===\n",
            "Replaced 'eggs' with 'flax eggs'\n",
            "Replaced 'flour' with 'almond flour'\n",
            "\n",
            "==================================================\n",
            "Generating recipe for: green tomato casserole\n",
            "==================================================\n"
          ]
        },
        {
          "output_type": "stream",
          "name": "stderr",
          "text": [
            "\r 64%|██████▎   | 318/500 [37:27<15:12,  5.02s/it]"
          ]
        },
        {
          "output_type": "stream",
          "name": "stdout",
          "text": [
            "green tomatoes, sugar, salt, pepper, soft breadcrumbs, sharp cheddar cheese, butter\n",
            "\n",
            "=== Allergen Substitutions Made ===\n",
            "Replaced 'pepper' with 'flax eggs'\n",
            "\n",
            "==================================================\n",
            "Generating recipe for: mandelbroit\n",
            "==================================================\n"
          ]
        },
        {
          "output_type": "stream",
          "name": "stderr",
          "text": [
            "\r 64%|██████▍   | 319/500 [37:37<19:06,  6.33s/it]"
          ]
        },
        {
          "output_type": "stream",
          "name": "stdout",
          "text": [
            "eggs, oil, sugar, vanilla, salt, flour, baking powder, natural almonds, lemons, zest of, cocoa, nuts, almond extract, cinnamon sugar\n",
            "\n",
            "=== Allergen Substitutions Made ===\n",
            "Replaced 'salt' with 'coconut yogurt'\n",
            "\n",
            "==================================================\n",
            "Generating recipe for: moroccan chicken stew  crock pot\n",
            "==================================================\n"
          ]
        },
        {
          "output_type": "stream",
          "name": "stderr",
          "text": [
            "\r 64%|██████▍   | 320/500 [37:40<16:04,  5.36s/it]"
          ]
        },
        {
          "output_type": "stream",
          "name": "stdout",
          "text": [
            "carrots, onions, skinless chicken pieces, raisins, dried apricot, chicken broth, tomato paste, all-purpose flour, lemon juice, garlic cloves, ground cumin, ground ginger, ground cinnamon, ground black pepper, cooked couscous, pine nuts, fresh cilantro\n",
            "\n",
            "==================================================\n",
            "Generating recipe for: maple salad dressing\n",
            "==================================================\n"
          ]
        },
        {
          "output_type": "stream",
          "name": "stderr",
          "text": [
            "\r 64%|██████▍   | 321/500 [37:46<16:42,  5.60s/it]"
          ]
        },
        {
          "output_type": "stream",
          "name": "stdout",
          "text": [
            "pure maple syrup, vegetable oil, lemon juice, paprika, celery seed, salt, onion powder, mustard\n",
            "\n",
            "==================================================\n",
            "Generating recipe for: chinese bourbon tofu\n",
            "==================================================\n"
          ]
        },
        {
          "output_type": "stream",
          "name": "stderr",
          "text": [
            "\r 64%|██████▍   | 322/500 [37:52<17:02,  5.75s/it]"
          ]
        },
        {
          "output_type": "stream",
          "name": "stdout",
          "text": [
            "extra firm tofu, garlic, ground ginger, crushed red pepper flakes, apple juice, brown sugar, ketchup, apple cider vinegar, water, low sodium soy sauce, flour, olive oil\n",
            "\n",
            "==================================================\n",
            "Generating recipe for: jjs ultimate sloppy joes\n",
            "==================================================\n"
          ]
        },
        {
          "output_type": "stream",
          "name": "stderr",
          "text": [
            "\r 65%|██████▍   | 323/500 [37:58<16:55,  5.74s/it]"
          ]
        },
        {
          "output_type": "stream",
          "name": "stdout",
          "text": [
            "ground beef, yellow sweet onion, red bell pepper, tomato sauce, garlic cloves, dried ancho chile powder, sweet hungarian paprika, unsweetened cocoa, dry mustard, apple cider vinegar, worcestershire sauce, molasses, honey, celery salt, kosher salt, ground black pepper\n",
            "\n",
            "==================================================\n",
            "Generating recipe for: cheddar baked potato slices\n",
            "==================================================\n"
          ]
        },
        {
          "output_type": "stream",
          "name": "stderr",
          "text": [
            "\r 65%|██████▍   | 324/500 [38:01<15:00,  5.12s/it]"
          ]
        },
        {
          "output_type": "stream",
          "name": "stdout",
          "text": [
            "campbell's cream of mushroom soup, paprika, pepper, potatoes, cheddar cheese\n",
            "\n",
            "=== Allergen Substitutions Made ===\n",
            "Replaced 'potatoes' with 'hearts of palm'\n",
            "\n",
            "==================================================\n",
            "Generating recipe for: homestyle meatloaf\n",
            "==================================================\n"
          ]
        },
        {
          "output_type": "stream",
          "name": "stderr",
          "text": [
            "\r 65%|██████▌   | 325/500 [38:04<13:05,  4.49s/it]"
          ]
        },
        {
          "output_type": "stream",
          "name": "stdout",
          "text": [
            "cooked ground beef, eggs, plain breadcrumbs, parmesan cheese, onion, italian seasoning, marinara sauce\n",
            "\n",
            "==================================================\n",
            "Generating recipe for: greek cookies with confectioners  sugar  kourabiedes\n",
            "==================================================\n"
          ]
        },
        {
          "output_type": "stream",
          "name": "stderr",
          "text": [
            "\r 65%|██████▌   | 326/500 [38:12<15:36,  5.38s/it]"
          ]
        },
        {
          "output_type": "stream",
          "name": "stdout",
          "text": [
            "whipped butter, confectioners' sugar, vanilla extract, brandy, all-purpose flour, almonds\n",
            "\n",
            "==================================================\n",
            "Generating recipe for: banana graham cracker pudding\n",
            "==================================================\n"
          ]
        },
        {
          "output_type": "stream",
          "name": "stderr",
          "text": [
            "\r 65%|██████▌   | 327/500 [38:21<18:55,  6.57s/it]"
          ]
        },
        {
          "output_type": "stream",
          "name": "stdout",
          "text": [
            "sugar, cornstarch, salt, milk, egg yolks, butter, vanilla, bananas, graham crackers\n",
            "\n",
            "=== Allergen Substitutions Made ===\n",
            "Replaced 'sugar' with 'coconut yogurt'\n",
            "\n",
            "==================================================\n",
            "Generating recipe for: chicken breast stuffed with feta cheese  sun dried tomato\n",
            "==================================================\n"
          ]
        },
        {
          "output_type": "stream",
          "name": "stderr",
          "text": [
            "\r 66%|██████▌   | 328/500 [38:31<21:12,  7.40s/it]"
          ]
        },
        {
          "output_type": "stream",
          "name": "stdout",
          "text": [
            "boneless skinless chicken breasts, red bell pepper, garlic cloves, sun-dried tomatoes, thyme, feta cheese, breadcrumbs, olive oil, salt, pepper, toothpick, green onion\n",
            "\n",
            "==================================================\n",
            "Generating recipe for: pastry puffs w sweet cheese filling\n",
            "==================================================\n"
          ]
        },
        {
          "output_type": "stream",
          "name": "stderr",
          "text": [
            "\r 66%|██████▌   | 329/500 [38:40<22:25,  7.87s/it]"
          ]
        },
        {
          "output_type": "stream",
          "name": "stdout",
          "text": [
            "flour, butter, sour cream, egg yolk, powdered sugar, cream cheese, egg, sugar, vanilla extract, lemon juice\n",
            "\n",
            "=== Allergen Substitutions Made ===\n",
            "Replaced 'flour' with 'almond flour'\n",
            "Replaced 'butter' with 'coconut oil'\n",
            "\n",
            "==================================================\n",
            "Generating recipe for: breakfast bake oamc\n",
            "==================================================\n"
          ]
        },
        {
          "output_type": "stream",
          "name": "stderr",
          "text": [
            "\r 66%|██████▌   | 330/500 [38:49<23:34,  8.32s/it]"
          ]
        },
        {
          "output_type": "stream",
          "name": "stdout",
          "text": [
            "seasoned croutons, cheddar cheese, onion, sweet red pepper, green pepper, sliced mushrooms, eggs, milk, salt, ground mustard, pepper, cooked bacon\n",
            "\n",
            "=== Allergen Substitutions Made ===\n",
            "Replaced 'onion' with 'seeds'\n",
            "Replaced 'pepper' with 'flax eggs'\n",
            "\n",
            "==================================================\n",
            "Generating recipe for: fluffy maple frosting\n",
            "==================================================\n"
          ]
        },
        {
          "output_type": "stream",
          "name": "stderr",
          "text": [
            "\r 66%|██████▌   | 331/500 [38:54<20:47,  7.38s/it]"
          ]
        },
        {
          "output_type": "stream",
          "name": "stdout",
          "text": [
            "pure maple syrup, granulated sugar, egg whites, salt, vanilla extract\n",
            "\n",
            "==================================================\n",
            "Generating recipe for: easy gingerbread\n",
            "==================================================\n"
          ]
        },
        {
          "output_type": "stream",
          "name": "stderr",
          "text": [
            "\r 66%|██████▋   | 332/500 [39:03<22:20,  7.98s/it]"
          ]
        },
        {
          "output_type": "stream",
          "name": "stdout",
          "text": [
            "flour, baking soda, ginger powder, cinnamon, allspice, salt, vegetable oil, sugar, egg, molasses, hot water, whipped cream\n",
            "\n",
            "=== Allergen Substitutions Made ===\n",
            "Replaced 'flour' with 'almond flour'\n",
            "Replaced 'sugar' with 'coconut yogurt'\n",
            "\n",
            "==================================================\n",
            "Generating recipe for: dad s clam dip\n",
            "==================================================\n"
          ]
        },
        {
          "output_type": "stream",
          "name": "stderr",
          "text": [
            "\r 67%|██████▋   | 333/500 [39:09<20:00,  7.19s/it]"
          ]
        },
        {
          "output_type": "stream",
          "name": "stdout",
          "text": [
            "minced clams, cream cheese, onions, horseradish, worcestershire sauce, tabasco sauce, garlic salt, pepper, potato chips\n",
            "\n",
            "==================================================\n",
            "Generating recipe for: easy turtle snack cake\n",
            "==================================================\n"
          ]
        },
        {
          "output_type": "stream",
          "name": "stderr",
          "text": [
            "\r 67%|██████▋   | 334/500 [39:18<21:37,  7.82s/it]"
          ]
        },
        {
          "output_type": "stream",
          "name": "stdout",
          "text": [
            "fudge cake mix, water, eggs, vegetable oil, pecans, chocolate chips, vanilla, caramel ice cream topping\n",
            "\n",
            "==================================================\n",
            "Generating recipe for: curry barbecued chicken\n",
            "==================================================\n"
          ]
        },
        {
          "output_type": "stream",
          "name": "stderr",
          "text": [
            "\r 67%|██████▋   | 335/500 [39:27<22:45,  8.28s/it]"
          ]
        },
        {
          "output_type": "stream",
          "name": "stdout",
          "text": [
            "broiler-fryer chickens, cooking oil, lime zest, lime juice, onion, garlic clove, curry powder, salt, ground cumin, ground coriander, cinnamon, pepper, lime slice, parsley\n",
            "\n",
            "==================================================\n",
            "Generating recipe for: la becasse celery seed dressing\n",
            "==================================================\n"
          ]
        },
        {
          "output_type": "stream",
          "name": "stderr",
          "text": [
            "\r 67%|██████▋   | 336/500 [39:36<23:11,  8.48s/it]"
          ]
        },
        {
          "output_type": "stream",
          "name": "stdout",
          "text": [
            "sugar, celery seeds, salt, mayonnaise, garlic, dijon mustard, cider vinegar, vegetable oil\n",
            "\n",
            "==================================================\n",
            "Generating recipe for: lamb   potato stew\n",
            "==================================================\n"
          ]
        },
        {
          "output_type": "stream",
          "name": "stderr",
          "text": [
            "\r 67%|██████▋   | 337/500 [39:38<17:47,  6.55s/it]"
          ]
        },
        {
          "output_type": "stream",
          "name": "stdout",
          "text": [
            "vegetable oil, lamb stew meat, onions, green pepper, garlic cloves, paprika, ground cumin, tomatoes, potatoes, parsley, salt, pepper, green beans\n",
            "\n",
            "==================================================\n",
            "Generating recipe for: market day casserole revisited\n",
            "==================================================\n"
          ]
        },
        {
          "output_type": "stream",
          "name": "stderr",
          "text": [
            "\r 68%|██████▊   | 338/500 [39:41<14:35,  5.41s/it]"
          ]
        },
        {
          "output_type": "stream",
          "name": "stdout",
          "text": [
            "hamburger patties, frozen mixed vegetables, onion, fat free beef gravy, roma tomatoes, tater tots, reduced-fat cheddar cheese\n",
            "\n",
            "==================================================\n",
            "Generating recipe for: pecan classic cookies\n",
            "==================================================\n"
          ]
        },
        {
          "output_type": "stream",
          "name": "stderr",
          "text": [
            "\r 68%|██████▊   | 339/500 [39:50<17:20,  6.46s/it]"
          ]
        },
        {
          "output_type": "stream",
          "name": "stdout",
          "text": [
            "shortening, sugar, brown sugar, eggs, vanilla extract, all-purpose flour, baking soda, salt, oats, pecans, sour cream\n",
            "\n",
            "==================================================\n",
            "Generating recipe for: oat rolls\n",
            "==================================================\n"
          ]
        },
        {
          "output_type": "stream",
          "name": "stderr",
          "text": [
            "\r 68%|██████▊   | 340/500 [39:57<17:40,  6.63s/it]"
          ]
        },
        {
          "output_type": "stream",
          "name": "stdout",
          "text": [
            "water, orange juice, canola oil, honey, old fashioned oats, whole wheat flour, unbleached all-purpose flour, salt, potato flour, oat bran, nonfat dry milk powder, instant yeast\n",
            "\n",
            "==================================================\n",
            "Generating recipe for: chicken simmered in beer\n",
            "==================================================\n"
          ]
        },
        {
          "output_type": "stream",
          "name": "stderr",
          "text": [
            "\r 68%|██████▊   | 341/500 [40:06<19:27,  7.34s/it]"
          ]
        },
        {
          "output_type": "stream",
          "name": "stdout",
          "text": [
            "whole chicken, beer, lipton onion soup mix, olive oil, garlic cloves, fresh ground pepper, fresh parsley, fresh mushrooms\n",
            "\n",
            "==================================================\n",
            "Generating recipe for: the best mocha buttercream frosting   icing\n",
            "==================================================\n"
          ]
        },
        {
          "output_type": "stream",
          "name": "stderr",
          "text": [
            "\r 68%|██████▊   | 342/500 [40:15<20:53,  7.94s/it]"
          ]
        },
        {
          "output_type": "stream",
          "name": "stdout",
          "text": [
            "butter, powdered sugar, cocoa powder, vanilla extract, instant coffee\n",
            "\n",
            "=== Allergen Substitutions Made ===\n",
            "Replaced 'butter' with 'coconut oil'\n",
            "Replaced 'vanilla extract' with 'coconut cream'\n",
            "\n",
            "==================================================\n",
            "Generating recipe for: peanut butter rocky road fudge\n",
            "==================================================\n"
          ]
        },
        {
          "output_type": "stream",
          "name": "stderr",
          "text": [
            "\r 69%|██████▊   | 343/500 [40:25<21:49,  8.34s/it]"
          ]
        },
        {
          "output_type": "stream",
          "name": "stdout",
          "text": [
            "mini marshmallows, semi-sweet chocolate chips, peanuts, smooth peanut butter\n",
            "\n",
            "==================================================\n",
            "Generating recipe for: walley s shrimp scampi\n",
            "==================================================\n"
          ]
        },
        {
          "output_type": "stream",
          "name": "stderr",
          "text": [
            "\r 69%|██████▉   | 344/500 [40:34<22:11,  8.53s/it]"
          ]
        },
        {
          "output_type": "stream",
          "name": "stdout",
          "text": [
            "shrimp, olive oil, cajun-louisiana seasoning blend, unsalted butter, garlic cloves, shallots, dry white wine, fresh lemon juice, linguine, scallion\n",
            "\n",
            "==================================================\n",
            "Generating recipe for: parmesan  grapes\n",
            "==================================================\n"
          ]
        },
        {
          "output_type": "stream",
          "name": "stderr",
          "text": [
            "\r 69%|██████▉   | 345/500 [40:37<18:20,  7.10s/it]"
          ]
        },
        {
          "output_type": "stream",
          "name": "stdout",
          "text": [
            "whipping cream, garlic, ground nutmeg, ground pepper, parmesan cheese\n",
            "\n",
            "==================================================\n",
            "Generating recipe for: cheesy garlic parmesan chicken\n",
            "==================================================\n"
          ]
        },
        {
          "output_type": "stream",
          "name": "stderr",
          "text": [
            "\r 69%|██████▉   | 346/500 [40:46<19:42,  7.68s/it]"
          ]
        },
        {
          "output_type": "stream",
          "name": "stdout",
          "text": [
            "chicken breasts, parmesan cheese, garlic powder, dried italian salad dressing mix, mozzarella cheese\n",
            "\n",
            "==================================================\n",
            "Generating recipe for: crock pot dressing\n",
            "==================================================\n"
          ]
        },
        {
          "output_type": "stream",
          "name": "stderr",
          "text": [
            "\r 69%|██████▉   | 347/500 [40:55<20:04,  7.87s/it]"
          ]
        },
        {
          "output_type": "stream",
          "name": "stdout",
          "text": [
            "dry bread, celery, onion, butter, eggs, chicken broth, cream of chicken soup, salt\n",
            "\n",
            "==================================================\n",
            "Generating recipe for: grilled zucchini   fig salad with a yogurt dressing\n",
            "==================================================\n"
          ]
        },
        {
          "output_type": "stream",
          "name": "stderr",
          "text": [
            "\r 70%|██████▉   | 348/500 [41:01<18:39,  7.36s/it]"
          ]
        },
        {
          "output_type": "stream",
          "name": "stdout",
          "text": [
            "zucchini, olive oil, figs, greek yogurt, sugar, milk, spring onion, baby spinach, lemon juice, mint\n",
            "\n",
            "=== Allergen Substitutions Made ===\n",
            "Replaced 'olive oil' with 'coconut oil'\n",
            "\n",
            "==================================================\n",
            "Generating recipe for: roquefort cheesecake with pecans\n",
            "==================================================\n"
          ]
        },
        {
          "output_type": "stream",
          "name": "stderr",
          "text": [
            "\r 70%|██████▉   | 349/500 [41:10<20:02,  7.96s/it]"
          ]
        },
        {
          "output_type": "stream",
          "name": "stdout",
          "text": [
            "unsalted butter, fresh breadcrumb, parmesan cheese, low-fat cream cheese, low-fat sour cream, eggs, tabasco sauce, pecans, roquefort cheese\n",
            "\n",
            "=== Allergen Substitutions Made ===\n",
            "Replaced 'unsalted butter' with 'coconut oil'\n",
            "\n",
            "==================================================\n",
            "Generating recipe for: reduced fat   doesn t taste like it  shrimp   rice casserole\n",
            "==================================================\n"
          ]
        },
        {
          "output_type": "stream",
          "name": "stderr",
          "text": [
            "\r 70%|███████   | 350/500 [41:20<20:51,  8.34s/it]"
          ]
        },
        {
          "output_type": "stream",
          "name": "stdout",
          "text": [
            "shrimp, butter, mushrooms, green pepper, onion, flour, salt, cayenne pepper, skim milk, cooked brown rice, reduced-fat cheddar cheese\n",
            "\n",
            "=== Allergen Substitutions Made ===\n",
            "Replaced 'shrimp' with 'hearts of palm'\n",
            "\n",
            "Progress saved to generated_recipes_temp_350.json\n",
            "\n",
            "==================================================\n",
            "Generating recipe for: souper fast ham and bean soup\n",
            "==================================================\n"
          ]
        },
        {
          "output_type": "stream",
          "name": "stderr",
          "text": [
            "\r 70%|███████   | 351/500 [41:29<21:18,  8.58s/it]"
          ]
        },
        {
          "output_type": "stream",
          "name": "stdout",
          "text": [
            "cannellini beans, mixed vegetables, diced tomatoes, water, tomato sauce, onion, cooked ham, salt, bay leaf, garlic salt, celery salt, thyme, black pepper\n",
            "\n",
            "==================================================\n",
            "Generating recipe for: pizza meatballs\n",
            "==================================================\n"
          ]
        },
        {
          "output_type": "stream",
          "name": "stderr",
          "text": [
            "\r 70%|███████   | 352/500 [41:38<21:45,  8.82s/it]"
          ]
        },
        {
          "output_type": "stream",
          "name": "stdout",
          "text": [
            "ground beef, onion powder, egg, seasoned bread crumbs, garlic, worcestershire sauce, salt and pepper, italian seasoning, mozzarella cheese, tomato sauce, crushed tomatoes, onion\n",
            "\n",
            "==================================================\n",
            "Generating recipe for: honey mustard dressing dip for one\n",
            "==================================================\n"
          ]
        },
        {
          "output_type": "stream",
          "name": "stderr",
          "text": [
            "\r 71%|███████   | 353/500 [41:44<19:35,  8.00s/it]"
          ]
        },
        {
          "output_type": "stream",
          "name": "stdout",
          "text": [
            "mayonnaise, dijon mustard, honey\n",
            "\n",
            "==================================================\n",
            "Generating recipe for: forty clove dutch oven brisket\n",
            "==================================================\n"
          ]
        },
        {
          "output_type": "stream",
          "name": "stderr",
          "text": [
            "\r 71%|███████   | 354/500 [41:54<20:26,  8.40s/it]"
          ]
        },
        {
          "output_type": "stream",
          "name": "stdout",
          "text": [
            "beef brisket, salt, fresh ground pepper, olive oil, garlic cloves, sweet onion, red wine, beef stock, tomato paste, bay leaves, dried basil, oregano\n",
            "\n",
            "==================================================\n",
            "Generating recipe for: grammy s apple pie\n",
            "==================================================\n"
          ]
        },
        {
          "output_type": "stream",
          "name": "stderr",
          "text": [
            "\r 71%|███████   | 355/500 [41:59<18:08,  7.51s/it]"
          ]
        },
        {
          "output_type": "stream",
          "name": "stdout",
          "text": [
            "double crust pie crust, red apples, granny smith apples, sugar, butter, cinnamon\n",
            "\n",
            "==================================================\n",
            "Generating recipe for: kenny rogers  country chicken salad\n",
            "==================================================\n"
          ]
        },
        {
          "output_type": "stream",
          "name": "stderr",
          "text": [
            "\r 71%|███████   | 356/500 [42:07<18:04,  7.53s/it]"
          ]
        },
        {
          "output_type": "stream",
          "name": "stdout",
          "text": [
            "chicken, apple, eggs, mayonnaise, sweet pickle relish, slivered almonds\n",
            "\n",
            "=== Allergen Substitutions Made ===\n",
            "Replaced 'chicken' with 'coconut aminos'\n",
            "Replaced 'apple' with 'coconut oil'\n",
            "\n",
            "==================================================\n",
            "Generating recipe for: miss a s pulled pork shoulder\n",
            "==================================================\n"
          ]
        },
        {
          "output_type": "stream",
          "name": "stderr",
          "text": [
            "\r 71%|███████▏  | 357/500 [42:08<13:49,  5.80s/it]"
          ]
        },
        {
          "output_type": "stream",
          "name": "stdout",
          "text": [
            "apple cider vinegar, shallots, yellow mustard seeds, fresh ground black pepper, cayenne pepper, fresh sage, garlic, pork shoulder\n",
            "\n",
            "==================================================\n",
            "Generating recipe for: apricot   blueberry crumble cake\n",
            "==================================================\n"
          ]
        },
        {
          "output_type": "stream",
          "name": "stderr",
          "text": [
            "\r 72%|███████▏  | 358/500 [42:16<15:05,  6.38s/it]"
          ]
        },
        {
          "output_type": "stream",
          "name": "stdout",
          "text": [
            "butter, superfine sugar, self-raising flour, baking powder, eggs, milk, vanilla yogurt, apricots, blueberries, brown sugar, ground cinnamon\n",
            "\n",
            "==================================================\n",
            "Generating recipe for: aunt agnes  chewies\n",
            "==================================================\n"
          ]
        },
        {
          "output_type": "stream",
          "name": "stderr",
          "text": [
            "\r 72%|███████▏  | 359/500 [42:25<16:51,  7.18s/it]"
          ]
        },
        {
          "output_type": "stream",
          "name": "stdout",
          "text": [
            "special k cereal, sugar, karo syrup, peanut butter\n",
            "\n",
            "==================================================\n",
            "Generating recipe for: crock pot creamy new orleans chicken\n",
            "==================================================\n"
          ]
        },
        {
          "output_type": "stream",
          "name": "stderr",
          "text": [
            "\r 72%|███████▏  | 360/500 [42:34<18:18,  7.84s/it]"
          ]
        },
        {
          "output_type": "stream",
          "name": "stdout",
          "text": [
            "boneless skinless chicken breasts, water, cream cheese, cream of chicken soup, sliced mushrooms, chili powder, paprika, cayenne, cumin, ground coriander, garlic powder, cracked black pepper\n",
            "\n",
            "==================================================\n",
            "Generating recipe for: onion squares\n",
            "==================================================\n"
          ]
        },
        {
          "output_type": "stream",
          "name": "stderr",
          "text": [
            "\r 72%|███████▏  | 361/500 [42:44<19:00,  8.20s/it]"
          ]
        },
        {
          "output_type": "stream",
          "name": "stdout",
          "text": [
            "sweet onion, low-fat yogurt, dill weed, salt, whole wheat pastry flour, cornmeal, sugar, baking powder, oil, nonfat milk, eggs, creamed corn, tabasco sauce, parmesan cheese\n",
            "\n",
            "==================================================\n",
            "Generating recipe for: easy jello salad\n",
            "==================================================\n"
          ]
        },
        {
          "output_type": "stream",
          "name": "stderr",
          "text": [
            "\r 72%|███████▏  | 362/500 [42:53<19:36,  8.52s/it]"
          ]
        },
        {
          "output_type": "stream",
          "name": "stdout",
          "text": [
            "strawberry-banana gelatin, banana, mixed fruit, cool whip, pecans, coconut\n",
            "\n",
            "==================================================\n",
            "Generating recipe for: two layered birthday cake\n",
            "==================================================\n"
          ]
        },
        {
          "output_type": "stream",
          "name": "stderr",
          "text": [
            "\r 73%|███████▎  | 363/500 [43:02<20:02,  8.78s/it]"
          ]
        },
        {
          "output_type": "stream",
          "name": "stdout",
          "text": [
            "all-purpose flour, sugar, butter, baking cocoa, water, baking soda, salt, vanilla, baking powder, eggs, strawberry, chocolate fudge frosting, chocolate\n",
            "\n",
            "==================================================\n",
            "Generating recipe for: poinsettia cocktail\n",
            "==================================================\n"
          ]
        },
        {
          "output_type": "stream",
          "name": "stderr",
          "text": [
            "\r 73%|███████▎  | 364/500 [43:11<19:59,  8.82s/it]"
          ]
        },
        {
          "output_type": "stream",
          "name": "stdout",
          "text": [
            "cranberry juice, simple syrup, orange liqueur, champagne, fresh cranberries\n",
            "\n",
            "==================================================\n",
            "Generating recipe for: ginger peach freeze\n",
            "==================================================\n"
          ]
        },
        {
          "output_type": "stream",
          "name": "stderr",
          "text": [
            "\r 73%|███████▎  | 365/500 [43:20<19:49,  8.81s/it]"
          ]
        },
        {
          "output_type": "stream",
          "name": "stdout",
          "text": [
            "water, sugar, lemon juice, ground ginger, unsweetened frozen sliced peaches, peach slices\n",
            "\n",
            "=== Allergen Substitutions Made ===\n",
            "Replaced 'water' with 'flax eggs'\n",
            "Replaced 'sugar' with 'coconut yogurt'\n",
            "\n",
            "==================================================\n",
            "Generating recipe for: black   white bean   corn salad\n",
            "==================================================\n"
          ]
        },
        {
          "output_type": "stream",
          "name": "stderr",
          "text": [
            "\r 73%|███████▎  | 366/500 [43:29<19:58,  8.94s/it]"
          ]
        },
        {
          "output_type": "stream",
          "name": "stdout",
          "text": [
            "great northern beans, black beans, whole kernel corn, tomatoes, onions, celery, fresh parsley, yellow pepper, extra virgin olive oil, salt, pepper, sugar, balsamic vinegar, onion powder\n",
            "\n",
            "=== Allergen Substitutions Made ===\n",
            "Replaced 'pepper' with 'flax eggs'\n",
            "\n",
            "==================================================\n",
            "Generating recipe for: spicy pork stir fry\n",
            "==================================================\n"
          ]
        },
        {
          "output_type": "stream",
          "name": "stderr",
          "text": [
            "\r 73%|███████▎  | 367/500 [43:38<19:55,  8.99s/it]"
          ]
        },
        {
          "output_type": "stream",
          "name": "stdout",
          "text": [
            "soy sauce, cornstarch, water, pork tenderloin, lime, rice vinegar, dark sesame oil, peanut oil, fresh gingerroot, green chili peppers, carrot, sugar snap pea, chili oil, green onion, peanuts\n",
            "\n",
            "=== Allergen Substitutions Made ===\n",
            "Replaced 'water' with 'flax eggs'\n",
            "Replaced 'carrot' with 'hearts of palm'\n",
            "\n",
            "==================================================\n",
            "Generating recipe for: bread machine brown bread\n",
            "==================================================\n"
          ]
        },
        {
          "output_type": "stream",
          "name": "stderr",
          "text": [
            "\r 74%|███████▎  | 368/500 [43:45<18:11,  8.27s/it]"
          ]
        },
        {
          "output_type": "stream",
          "name": "stdout",
          "text": [
            "water, powdered milk, salt, molasses, oats, flour, butter, yeast\n",
            "\n",
            "==================================================\n",
            "Generating recipe for: super simple clam chowder\n",
            "==================================================\n"
          ]
        },
        {
          "output_type": "stream",
          "name": "stderr",
          "text": [
            "\r 74%|███████▍  | 369/500 [43:49<15:11,  6.96s/it]"
          ]
        },
        {
          "output_type": "stream",
          "name": "stdout",
          "text": [
            "butter, garlic, onion, chicken broth, clams, cream of potato soup, pepper, half-and-half\n",
            "\n",
            "=== Allergen Substitutions Made ===\n",
            "Replaced 'pepper' with 'flax eggs'\n",
            "\n",
            "==================================================\n",
            "Generating recipe for: this is gluten free   our favorite pizza crust\n",
            "==================================================\n"
          ]
        },
        {
          "output_type": "stream",
          "name": "stderr",
          "text": [
            "\r 74%|███████▍  | 370/500 [43:58<16:34,  7.65s/it]"
          ]
        },
        {
          "output_type": "stream",
          "name": "stdout",
          "text": [
            "yeast, milk, sugar, brown rice flour, cornstarch, xanthan gum, salt, rosemary, garlic powder, oregano, olive oil, cider vinegar\n",
            "\n",
            "=== Allergen Substitutions Made ===\n",
            "Replaced 'yeast' with 'nutritional yeast'\n",
            "Replaced 'milk' with 'oat milk'\n",
            "Replaced 'salt' with 'coconut yogurt'\n",
            "\n",
            "==================================================\n",
            "Generating recipe for: asian style crab cakes with wasabi caper sauce\n",
            "==================================================\n"
          ]
        },
        {
          "output_type": "stream",
          "name": "stderr",
          "text": [
            "\r 74%|███████▍  | 371/500 [44:07<17:23,  8.09s/it]"
          ]
        },
        {
          "output_type": "stream",
          "name": "stdout",
          "text": [
            "mayonnaise, capers, wasabi paste, leeks, egg, egg yolk, chinese mustard, red bell pepper, fresh ginger, panko breadcrumbs, lump crabmeat, vegetable oil\n",
            "\n",
            "=== Allergen Substitutions Made ===\n",
            "Replaced 'egg' with 'flax eggs'\n",
            "\n",
            "==================================================\n",
            "Generating recipe for: beet risotto\n",
            "==================================================\n"
          ]
        },
        {
          "output_type": "stream",
          "name": "stderr",
          "text": [
            "\r 74%|███████▍  | 372/500 [44:08<12:23,  5.81s/it]"
          ]
        },
        {
          "output_type": "stream",
          "name": "stdout",
          "text": [
            "chicken broth, extra virgin olive oil, arborio rice, red beets, onion, garlic, dry red wine, salt and pepper\n",
            "\n",
            "==================================================\n",
            "Generating recipe for: aubergines in a spicy honey sauce\n",
            "==================================================\n"
          ]
        },
        {
          "output_type": "stream",
          "name": "stderr",
          "text": [
            "\r 75%|███████▍  | 373/500 [44:17<14:35,  6.89s/it]"
          ]
        },
        {
          "output_type": "stream",
          "name": "stdout",
          "text": [
            "aubergines, olive oil, garlic cloves, fresh gingerroot, ground cumin, cayenne, liquid honey, lemon, juice of, water\n",
            "\n",
            "=== Allergen Substitutions Made ===\n",
            "Replaced 'water' with 'flax eggs'\n",
            "\n",
            "==================================================\n",
            "Generating recipe for: sarah season s sandwich for a crowd\n",
            "==================================================\n"
          ]
        },
        {
          "output_type": "stream",
          "name": "stderr",
          "text": [
            "\r 75%|███████▍  | 374/500 [44:26<15:55,  7.58s/it]"
          ]
        },
        {
          "output_type": "stream",
          "name": "stdout",
          "text": [
            "french bread, cream cheese, cheddar cheese, green onion, mayonnaise, worcestershire sauce, ham, roast beef, dill pickle\n",
            "\n",
            "==================================================\n",
            "Generating recipe for: pioneer woman chicken parmigiana\n",
            "==================================================\n"
          ]
        },
        {
          "output_type": "stream",
          "name": "stderr",
          "text": [
            "\r 75%|███████▌  | 375/500 [44:28<12:09,  5.84s/it]"
          ]
        },
        {
          "output_type": "stream",
          "name": "stdout",
          "text": [
            "skinless chicken breast, all-purpose flour, salt & pepper, olive oil, butter, onion, garlic cloves, white wine, crushed tomatoes, sugar, fresh parsley, parmesan cheese\n",
            "\n",
            "==================================================\n",
            "Generating recipe for: continental chicken\n",
            "==================================================\n"
          ]
        },
        {
          "output_type": "stream",
          "name": "stderr",
          "text": [
            "\r 75%|███████▌  | 376/500 [44:36<13:12,  6.39s/it]"
          ]
        },
        {
          "output_type": "stream",
          "name": "stdout",
          "text": [
            "dried beef, boneless skinless chicken breasts, lean bacon, all-purpose flour, cream of chicken soup, sliced mushrooms, red onion, sour cream, cooked pasta\n",
            "\n",
            "==================================================\n",
            "Generating recipe for: korean salad\n",
            "==================================================\n"
          ]
        },
        {
          "output_type": "stream",
          "name": "stderr",
          "text": [
            "\r 75%|███████▌  | 377/500 [44:45<14:56,  7.29s/it]"
          ]
        },
        {
          "output_type": "stream",
          "name": "stdout",
          "text": [
            "spinach, sliced water chestnuts, bean sprouts, bacon, hard-boiled eggs, oil, sugar, vinegar, worcestershire sauce, onion, ketchup\n",
            "\n",
            "==================================================\n",
            "Generating recipe for: smooth and creamy apple treat\n",
            "==================================================\n"
          ]
        },
        {
          "output_type": "stream",
          "name": "stderr",
          "text": [
            "\r 76%|███████▌  | 378/500 [44:48<12:01,  5.91s/it]"
          ]
        },
        {
          "output_type": "stream",
          "name": "stdout",
          "text": [
            "applesauce, non-fat vanilla yogurt\n",
            "\n",
            "==================================================\n",
            "Generating recipe for: pappardelle with lemon  baby artichokes  and asparagus\n",
            "==================================================\n"
          ]
        },
        {
          "output_type": "stream",
          "name": "stderr",
          "text": [
            "\r 76%|███████▌  | 379/500 [44:57<14:00,  6.95s/it]"
          ]
        },
        {
          "output_type": "stream",
          "name": "stdout",
          "text": [
            "pappardelle pasta, cold water, fresh lemon juice, baby artichokes, extra virgin olive oil, asparagus, fresh flat-leaf parsley, lemon rind, fresh thyme, salt, black pepper, parmigiano-reggiano cheese\n",
            "\n",
            "=== Allergen Substitutions Made ===\n",
            "Replaced 'salt' with 'coconut yogurt'\n",
            "\n",
            "==================================================\n",
            "Generating recipe for: cake mix cake that tastes homemade\n",
            "==================================================\n"
          ]
        },
        {
          "output_type": "stream",
          "name": "stderr",
          "text": [
            "\r 76%|███████▌  | 380/500 [44:59<10:57,  5.48s/it]"
          ]
        },
        {
          "output_type": "stream",
          "name": "stdout",
          "text": [
            "cake mix, water, butter, eggs\n",
            "\n",
            "==================================================\n",
            "Generating recipe for: eggplant  aubergine  patties\n",
            "==================================================\n"
          ]
        },
        {
          "output_type": "stream",
          "name": "stderr",
          "text": [
            "\r 76%|███████▌  | 381/500 [45:08<13:02,  6.57s/it]"
          ]
        },
        {
          "output_type": "stream",
          "name": "stdout",
          "text": [
            "eggplants, eggs, pepper, salt, oregano, fresh mint leaves, breadcrumbs, cheese, garlic, onion, flour\n",
            "\n",
            "==================================================\n",
            "Generating recipe for: paneer   indian cottage cheese\n",
            "==================================================\n"
          ]
        },
        {
          "output_type": "stream",
          "name": "stderr",
          "text": [
            "\r 76%|███████▋  | 382/500 [45:17<14:20,  7.29s/it]"
          ]
        },
        {
          "output_type": "stream",
          "name": "stdout",
          "text": [
            "milk, vinegar\n",
            "\n",
            "=== Allergen Substitutions Made ===\n",
            "Replaced 'milk' with 'oat milk'\n",
            "\n",
            "==================================================\n",
            "Generating recipe for: cream cheese scrambled eggs in toast cups\n",
            "==================================================\n"
          ]
        },
        {
          "output_type": "stream",
          "name": "stderr",
          "text": [
            "\r 77%|███████▋  | 383/500 [45:27<15:24,  7.90s/it]"
          ]
        },
        {
          "output_type": "stream",
          "name": "stdout",
          "text": [
            "cream cheese, milk, eggs, chives, salt, butter, bread\n",
            "\n",
            "==================================================\n",
            "Generating recipe for: baked chicken drumsticks\n",
            "==================================================\n"
          ]
        },
        {
          "output_type": "stream",
          "name": "stderr",
          "text": [
            "\r 77%|███████▋  | 384/500 [45:29<12:19,  6.38s/it]"
          ]
        },
        {
          "output_type": "stream",
          "name": "stdout",
          "text": [
            "chicken drumsticks, salt, ground pepper, hot sauce, mayonnaise\n",
            "\n",
            "==================================================\n",
            "Generating recipe for: peanut butter fantasy brownies\n",
            "==================================================\n"
          ]
        },
        {
          "output_type": "stream",
          "name": "stderr",
          "text": [
            "\r 77%|███████▋  | 385/500 [45:34<11:12,  5.85s/it]"
          ]
        },
        {
          "output_type": "stream",
          "name": "stdout",
          "text": [
            "pillsbury fudge brownie mix, extra large egg, applesauce, walnuts, milk chocolate chips, cream cheese, powdered sugar, creamy peanut butter, chocolate chips\n",
            "\n",
            "==================================================\n",
            "Generating recipe for: barbecue ham\n",
            "==================================================\n"
          ]
        },
        {
          "output_type": "stream",
          "name": "stderr",
          "text": [
            "\r 77%|███████▋  | 386/500 [45:43<13:05,  6.89s/it]"
          ]
        },
        {
          "output_type": "stream",
          "name": "stdout",
          "text": [
            "onions, ketchup, water, vinegar, prepared mustard, brown sugar, worcestershire sauce, cooked ham\n",
            "\n",
            "==================================================\n",
            "Generating recipe for: garlic   horseradish crusted steaks\n",
            "==================================================\n"
          ]
        },
        {
          "output_type": "stream",
          "name": "stderr",
          "text": [
            "\r 77%|███████▋  | 387/500 [45:46<10:44,  5.70s/it]"
          ]
        },
        {
          "output_type": "stream",
          "name": "stdout",
          "text": [
            "prepared non-creamy horseradish, creole mustard, garlic, olive oil, cracked black pepper, new york strip steaks, kosher salt\n",
            "\n",
            "==================================================\n",
            "Generating recipe for: japanese stir fry\n",
            "==================================================\n"
          ]
        },
        {
          "output_type": "stream",
          "name": "stderr",
          "text": [
            "\r 78%|███████▊  | 388/500 [45:47<07:48,  4.18s/it]"
          ]
        },
        {
          "output_type": "stream",
          "name": "stdout",
          "text": [
            "boneless skinless chicken breasts, green bell pepper, white onion, carrots, red bell pepper, broccoli, sesame oil, shoyu, rice vinegar, mirin, sugar, ginger, garlic cloves\n",
            "\n",
            "==================================================\n",
            "Generating recipe for: pastry cheesecake crust\n",
            "==================================================\n"
          ]
        },
        {
          "output_type": "stream",
          "name": "stderr",
          "text": [
            "\r 78%|███████▊  | 389/500 [45:48<05:55,  3.20s/it]"
          ]
        },
        {
          "output_type": "stream",
          "name": "stdout",
          "text": [
            "butter, egg, sugar, flour, salt\n",
            "\n",
            "==================================================\n",
            "Generating recipe for: ww 5 points   fajita salad with salsa vinaigrette\n",
            "==================================================\n"
          ]
        },
        {
          "output_type": "stream",
          "name": "stderr",
          "text": [
            "\r 78%|███████▊  | 390/500 [45:57<09:16,  5.06s/it]"
          ]
        },
        {
          "output_type": "stream",
          "name": "stdout",
          "text": [
            "salsa, red onion, fresh cilantro, fresh lime juice, balsamic vinegar, dijon mustard, salt, boneless skinless chicken breast, cajun seasoning, olive oil, mixed salad greens, red bell pepper, tomatoes, avocado\n",
            "\n",
            "==================================================\n",
            "Generating recipe for: chicharrones de pollo\n",
            "==================================================\n"
          ]
        },
        {
          "output_type": "stream",
          "name": "stderr",
          "text": [
            "\r 78%|███████▊  | 391/500 [46:06<11:13,  6.18s/it]"
          ]
        },
        {
          "output_type": "stream",
          "name": "stdout",
          "text": [
            "dark rum, fresh lime juice, soy sauce, sugar, boneless skinless chicken thighs, oil, flour, paprika\n",
            "\n",
            "==================================================\n",
            "Generating recipe for: cerino s italian pie  5fix\n",
            "==================================================\n"
          ]
        },
        {
          "output_type": "stream",
          "name": "stderr",
          "text": [
            "\r 78%|███████▊  | 392/500 [46:15<12:43,  7.07s/it]"
          ]
        },
        {
          "output_type": "stream",
          "name": "stdout",
          "text": [
            "simply potatoes traditional mashed potatoes, egg, mozzarella cheese, prosciutto ham, ready-made pie crust\n",
            "\n",
            "=== Allergen Substitutions Made ===\n",
            "Replaced 'egg' with 'flax eggs'\n",
            "\n",
            "==================================================\n",
            "Generating recipe for: yogurt vanilla cupcakes w  chocolate frosting\n",
            "==================================================\n"
          ]
        },
        {
          "output_type": "stream",
          "name": "stderr",
          "text": [
            "\r 79%|███████▊  | 393/500 [46:24<13:50,  7.76s/it]"
          ]
        },
        {
          "output_type": "stream",
          "name": "stdout",
          "text": [
            "sugar, unsweetened cocoa, skim milk, vanilla extract, chocolate chips, flour, baking powder, baking soda, salt, butter, eggs, nonfat yogurt\n",
            "\n",
            "==================================================\n",
            "Generating recipe for: fried pies\n",
            "==================================================\n"
          ]
        },
        {
          "output_type": "stream",
          "name": "stderr",
          "text": [
            "\r 79%|███████▉  | 394/500 [46:33<13:55,  7.88s/it]"
          ]
        },
        {
          "output_type": "stream",
          "name": "stdout",
          "text": [
            "butter, flour, milk, egg yolk, oil, powdered sugar\n",
            "\n",
            "==================================================\n",
            "Generating recipe for: grilled cheese with bacon  apple and mustard\n",
            "==================================================\n"
          ]
        },
        {
          "output_type": "stream",
          "name": "stderr",
          "text": [
            "\r 79%|███████▉  | 395/500 [46:42<14:24,  8.24s/it]"
          ]
        },
        {
          "output_type": "stream",
          "name": "stdout",
          "text": [
            "white bread, old cheddar cheese, dijon mustard, granny smith apples, cooked bacon, butter\n",
            "\n",
            "==================================================\n",
            "Generating recipe for: vegan veggie lasagna\n",
            "==================================================\n"
          ]
        },
        {
          "output_type": "stream",
          "name": "stderr",
          "text": [
            "\r 79%|███████▉  | 396/500 [46:51<14:51,  8.57s/it]"
          ]
        },
        {
          "output_type": "stream",
          "name": "stdout",
          "text": [
            "lasagna noodles, tomato sauce, extra firm tofu, soymilk, dried oregano, dried basil, salt, lemon juice, garlic cloves, onion, spinach, olive oil, sweet red pepper, fresh mushrooms, zucchini, carrots, water\n",
            "\n",
            "=== Allergen Substitutions Made ===\n",
            "Replaced 'water' with 'flax eggs'\n",
            "\n",
            "==================================================\n",
            "Generating recipe for: can can canaps  boursin baguette bruschetta\n",
            "==================================================\n"
          ]
        },
        {
          "output_type": "stream",
          "name": "stderr",
          "text": [
            "\r 79%|███████▉  | 397/500 [46:54<11:40,  6.81s/it]"
          ]
        },
        {
          "output_type": "stream",
          "name": "stdout",
          "text": [
            "baguette, garlic clove, extra virgin olive oil, cream cheese with herbs, cherry tomatoes, fresh basil leaf, salt and pepper\n",
            "\n",
            "==================================================\n",
            "Generating recipe for: sweet potato pancakes with caramel sauce\n",
            "==================================================\n"
          ]
        },
        {
          "output_type": "stream",
          "name": "stderr",
          "text": [
            "\r 80%|███████▉  | 398/500 [46:56<09:29,  5.59s/it]"
          ]
        },
        {
          "output_type": "stream",
          "name": "stdout",
          "text": [
            "all-purpose flour, brown sugar, baking powder, salt, ground ginger, ground allspice, ground cinnamon, ground nutmeg, egg, 2% low-fat milk, canned sweet potatoes, butter, caramel ice cream topping, unsalted cashews, whipped butter\n",
            "\n",
            "=== Allergen Substitutions Made ===\n",
            "Replaced 'egg' with 'flax eggs'\n",
            "\n",
            "==================================================\n",
            "Generating recipe for: high fiber prune bread\n",
            "==================================================\n"
          ]
        },
        {
          "output_type": "stream",
          "name": "stderr",
          "text": [
            "\r 80%|███████▉  | 399/500 [47:06<11:17,  6.71s/it]"
          ]
        },
        {
          "output_type": "stream",
          "name": "stdout",
          "text": [
            "all-bran cereal, prune juice, buttermilk, sugar, prune, egg, flour, salt, baking soda, butter, nuts\n",
            "\n",
            "=== Allergen Substitutions Made ===\n",
            "Replaced 'sugar' with 'coconut yogurt'\n",
            "\n",
            "==================================================\n",
            "Generating recipe for: simple tapioca pudding\n",
            "==================================================\n"
          ]
        },
        {
          "output_type": "stream",
          "name": "stderr",
          "text": [
            "\r 80%|████████  | 400/500 [47:09<09:27,  5.68s/it]"
          ]
        },
        {
          "output_type": "stream",
          "name": "stdout",
          "text": [
            "tapioca, 2% low-fat milk, salt, sugar, eggs, vanilla\n",
            "\n",
            "=== Allergen Substitutions Made ===\n",
            "Replaced 'sugar' with 'coconut yogurt'\n",
            "Replaced 'vanilla' with 'coconut cream'\n",
            "\n",
            "Progress saved to generated_recipes_temp_400.json\n",
            "\n",
            "==================================================\n",
            "Generating recipe for: diabetic  low fat jalapeno pepper spread\n",
            "==================================================\n"
          ]
        },
        {
          "output_type": "stream",
          "name": "stderr",
          "text": [
            "\r 80%|████████  | 401/500 [47:18<11:09,  6.77s/it]"
          ]
        },
        {
          "output_type": "stream",
          "name": "stdout",
          "text": [
            "low-fat cream cheese, jalapeno jelly\n",
            "\n",
            "==================================================\n",
            "Generating recipe for: deceptively delicious blueberry oatmeal bars  with spinach\n",
            "==================================================\n"
          ]
        },
        {
          "output_type": "stream",
          "name": "stderr",
          "text": [
            "\r 80%|████████  | 402/500 [47:27<12:07,  7.42s/it]"
          ]
        },
        {
          "output_type": "stream",
          "name": "stdout",
          "text": [
            "nonstick cooking spray, old fashioned oats, all-purpose flour, sugar, cinnamon, baking powder, salt, pure vanilla extract, trans-fat free margarine, no-sugar-added blueberry spread, spinach\n",
            "\n",
            "==================================================\n",
            "Generating recipe for: tangy bang n mango salsa\n",
            "==================================================\n"
          ]
        },
        {
          "output_type": "stream",
          "name": "stderr",
          "text": [
            "\r 81%|████████  | 403/500 [47:32<10:31,  6.51s/it]"
          ]
        },
        {
          "output_type": "stream",
          "name": "stdout",
          "text": [
            "mango, roma tomatoes, jalapeno pepper, red onion, spinach leaves, cilantro, garlic clove, lemon juice, vinegar, salt\n",
            "\n",
            "=== Allergen Substitutions Made ===\n",
            "Replaced 'mango' with 'oat milk'\n",
            "\n",
            "==================================================\n",
            "Generating recipe for: tex mex spice\n",
            "==================================================\n"
          ]
        },
        {
          "output_type": "stream",
          "name": "stderr",
          "text": [
            "\r 81%|████████  | 404/500 [47:39<10:34,  6.61s/it]"
          ]
        },
        {
          "output_type": "stream",
          "name": "stdout",
          "text": [
            "chili powder, paprika, salt, ground ginger, black pepper, ground cumin, onion powder, garlic powder, ground thyme, cayenne pepper\n",
            "\n",
            "==================================================\n",
            "Generating recipe for: corn lightbread\n",
            "==================================================\n"
          ]
        },
        {
          "output_type": "stream",
          "name": "stderr",
          "text": [
            "\r 81%|████████  | 405/500 [47:48<11:44,  7.41s/it]"
          ]
        },
        {
          "output_type": "stream",
          "name": "stdout",
          "text": [
            "cornmeal, all-purpose flour, sugar, baking soda, salt, buttermilk, oil\n",
            "\n",
            "==================================================\n",
            "Generating recipe for: toms oven made chicken jerky\n",
            "==================================================\n"
          ]
        },
        {
          "output_type": "stream",
          "name": "stderr",
          "text": [
            "\r 81%|████████  | 406/500 [47:54<11:06,  7.09s/it]"
          ]
        },
        {
          "output_type": "stream",
          "name": "stdout",
          "text": [
            "boneless skinless chicken breast, salt, pickling salt, garlic powder, pepper, onion powder, seasoning salt, cayenne pepper\n",
            "\n",
            "==================================================\n",
            "Generating recipe for: moonstruck eggs\n",
            "==================================================\n"
          ]
        },
        {
          "output_type": "stream",
          "name": "stderr",
          "text": [
            "\r 81%|████████▏ | 407/500 [48:04<12:03,  7.78s/it]"
          ]
        },
        {
          "output_type": "stream",
          "name": "stdout",
          "text": [
            "italian bread, eggs, red bell pepper, onion, salt, fresh ground pepper, extra virgin olive oil, garlic\n",
            "\n",
            "=== Allergen Substitutions Made ===\n",
            "Replaced 'eggs' with 'flax eggs'\n",
            "\n",
            "==================================================\n",
            "Generating recipe for: red cabbage coleslaw  rotkohlsalat\n",
            "==================================================\n"
          ]
        },
        {
          "output_type": "stream",
          "name": "stderr",
          "text": [
            "\r 82%|████████▏ | 408/500 [48:05<09:05,  5.93s/it]"
          ]
        },
        {
          "output_type": "stream",
          "name": "stdout",
          "text": [
            "red cabbage, salt, white balsamic vinegar, apple, sugar, oil\n",
            "\n",
            "==================================================\n",
            "Generating recipe for: texas homemade bbq sauce\n",
            "==================================================\n"
          ]
        },
        {
          "output_type": "stream",
          "name": "stderr",
          "text": [
            "\r 82%|████████▏ | 409/500 [48:08<07:31,  4.96s/it]"
          ]
        },
        {
          "output_type": "stream",
          "name": "stdout",
          "text": [
            "butter, onion, ketchup, tomato sauce, salt, seasoning salt, pepper, garlic cloves, sugar, chili powder, worcestershire sauce, lemon juice, jalapeno\n",
            "\n",
            "==================================================\n",
            "Generating recipe for: oxtail bourguignonne\n",
            "==================================================\n"
          ]
        },
        {
          "output_type": "stream",
          "name": "stderr",
          "text": [
            "\r 82%|████████▏ | 410/500 [48:17<09:27,  6.30s/it]"
          ]
        },
        {
          "output_type": "stream",
          "name": "stdout",
          "text": [
            "fatty bacon, olive oil, parsley sprigs, fresh thyme sprigs, fresh bay leaves, all-purpose flour, butter, ground nutmeg, fat, onions, carrot, garlic cloves, beef broth, red burgundy wine, cremini mushroom, shallots\n",
            "\n",
            "==================================================\n",
            "Generating recipe for: old mexican inn dip  serve with tortilla chips\n",
            "==================================================\n"
          ]
        },
        {
          "output_type": "stream",
          "name": "stderr",
          "text": [
            "\r 82%|████████▏ | 411/500 [48:26<10:33,  7.11s/it]"
          ]
        },
        {
          "output_type": "stream",
          "name": "stdout",
          "text": [
            "mayonnaise, vinegar, garlic powder, paprika, lemon juice\n",
            "\n",
            "==================================================\n",
            "Generating recipe for: sarah s choco peanut cheesecake\n",
            "==================================================\n"
          ]
        },
        {
          "output_type": "stream",
          "name": "stderr",
          "text": [
            "\r 82%|████████▏ | 412/500 [48:36<11:24,  7.78s/it]"
          ]
        },
        {
          "output_type": "stream",
          "name": "stdout",
          "text": [
            "graham cracker crumbs, peanuts, ground cinnamon, butter, cream cheese, peanut butter, white sugar, all-purpose flour, vanilla extract, eggs, egg yolk, half-and-half cream, semi-sweet chocolate chips\n",
            "\n",
            "==================================================\n",
            "Generating recipe for: bhutanese cheese curry  ema daji\n",
            "==================================================\n"
          ]
        },
        {
          "output_type": "stream",
          "name": "stderr",
          "text": [
            "\r 83%|████████▎ | 413/500 [48:45<11:57,  8.24s/it]"
          ]
        },
        {
          "output_type": "stream",
          "name": "stdout",
          "text": [
            "chilies, onion, vegetable oil, tomatoes, garlic cloves, feta cheese, coriander leaves\n",
            "\n",
            "=== Allergen Substitutions Made ===\n",
            "Replaced 'onion' with 'seeds'\n",
            "\n",
            "==================================================\n",
            "Generating recipe for: spanish style clams\n",
            "==================================================\n"
          ]
        },
        {
          "output_type": "stream",
          "name": "stderr",
          "text": [
            "\r 83%|████████▎ | 414/500 [48:54<12:08,  8.47s/it]"
          ]
        },
        {
          "output_type": "stream",
          "name": "stdout",
          "text": [
            "olive oil, sweet onions, green bell peppers, red bell peppers, garlic cloves, bay leaves, crushed tomatoes in puree, dry white wine, littleneck clams, hot pepper\n",
            "\n",
            "==================================================\n",
            "Generating recipe for: orange chili chicken with black beans\n",
            "==================================================\n"
          ]
        },
        {
          "output_type": "stream",
          "name": "stderr",
          "text": [
            "\r 83%|████████▎ | 415/500 [49:03<12:22,  8.73s/it]"
          ]
        },
        {
          "output_type": "stream",
          "name": "stdout",
          "text": [
            "boneless skinless chicken thighs, red onion, red bell pepper, garlic cloves, orange juice, chili sauce, black beans, dark rum, cumin, black pepper, salt, fresh cilantro\n",
            "\n",
            "==================================================\n",
            "Generating recipe for: mae mortensen s butter pecan cookies\n",
            "==================================================\n"
          ]
        },
        {
          "output_type": "stream",
          "name": "stderr",
          "text": [
            "\r 83%|████████▎ | 416/500 [49:13<12:28,  8.91s/it]"
          ]
        },
        {
          "output_type": "stream",
          "name": "stdout",
          "text": [
            "butter, margarine, sugar, cold water, vanilla extract, all-purpose flour, ground pecans\n",
            "\n",
            "==================================================\n",
            "Generating recipe for: sweet   sticky chicken breasts\n",
            "==================================================\n"
          ]
        },
        {
          "output_type": "stream",
          "name": "stderr",
          "text": [
            "\r 83%|████████▎ | 417/500 [49:22<12:20,  8.92s/it]"
          ]
        },
        {
          "output_type": "stream",
          "name": "stdout",
          "text": [
            "balsamic vinegar, honey, light brown sugar, soy sauce, rosemary sprigs, garlic cloves, chicken breasts, sesame seeds, parsley\n",
            "\n",
            "==================================================\n",
            "Generating recipe for: easy creamy chicken ole\n",
            "==================================================\n"
          ]
        },
        {
          "output_type": "stream",
          "name": "stderr",
          "text": [
            "\r 84%|████████▎ | 418/500 [49:31<12:11,  8.92s/it]"
          ]
        },
        {
          "output_type": "stream",
          "name": "stdout",
          "text": [
            "boneless skinless chicken breasts, enchilada sauce, heavy cream, fresh cilantro, garlic cloves\n",
            "\n",
            "==================================================\n",
            "Generating recipe for: mint and cottage cheese samosas\n",
            "==================================================\n"
          ]
        },
        {
          "output_type": "stream",
          "name": "stderr",
          "text": [
            "\r 84%|████████▍ | 419/500 [49:37<11:07,  8.24s/it]"
          ]
        },
        {
          "output_type": "stream",
          "name": "stdout",
          "text": [
            "cottage cheese, green chili, egg yolk, mint, salt, black pepper\n",
            "\n",
            "=== Allergen Substitutions Made ===\n",
            "Replaced 'mint' with 'flax eggs'\n",
            "\n",
            "==================================================\n",
            "Generating recipe for: hawaiian chicken cordon bleu pizza\n",
            "==================================================\n"
          ]
        },
        {
          "output_type": "stream",
          "name": "stderr",
          "text": [
            "\r 84%|████████▍ | 420/500 [49:43<10:04,  7.55s/it]"
          ]
        },
        {
          "output_type": "stream",
          "name": "stdout",
          "text": [
            "pineapple chunks, honey, boneless skinless chicken breasts, crescent rolls, laughing cow cheese, deli ham, salt & fresh ground pepper\n",
            "\n",
            "==================================================\n",
            "Generating recipe for: rib roast au jus\n",
            "==================================================\n"
          ]
        },
        {
          "output_type": "stream",
          "name": "stderr",
          "text": [
            "\r 84%|████████▍ | 421/500 [49:52<10:33,  8.02s/it]"
          ]
        },
        {
          "output_type": "stream",
          "name": "stdout",
          "text": [
            "rib roast, garlic cloves, salt, fresh ground black pepper, red wine, beef broth\n",
            "\n",
            "==================================================\n",
            "Generating recipe for: sticky rice with mango thai dessert\n",
            "==================================================\n"
          ]
        },
        {
          "output_type": "stream",
          "name": "stderr",
          "text": [
            "\r 84%|████████▍ | 422/500 [50:01<10:32,  8.11s/it]"
          ]
        },
        {
          "output_type": "stream",
          "name": "stdout",
          "text": [
            "glutinous rice, water, coconut milk, sugar, salt, cornstarch, mangoes\n",
            "\n",
            "==================================================\n",
            "Generating recipe for: cinnamon twigs\n",
            "==================================================\n"
          ]
        },
        {
          "output_type": "stream",
          "name": "stderr",
          "text": [
            "\r 85%|████████▍ | 423/500 [50:10<10:51,  8.46s/it]"
          ]
        },
        {
          "output_type": "stream",
          "name": "stdout",
          "text": [
            "caster sugar, ground cinnamon, puff pastry, egg white\n",
            "\n",
            "==================================================\n",
            "Generating recipe for: grapefruit  orange and avocado salad\n",
            "==================================================\n"
          ]
        },
        {
          "output_type": "stream",
          "name": "stderr",
          "text": [
            "\r 85%|████████▍ | 424/500 [50:14<09:12,  7.28s/it]"
          ]
        },
        {
          "output_type": "stream",
          "name": "stdout",
          "text": [
            "ruby grapefruits, navel oranges, avocados, butter lettuce leaves\n",
            "\n",
            "==================================================\n",
            "Generating recipe for: home style pear sauce\n",
            "==================================================\n"
          ]
        },
        {
          "output_type": "stream",
          "name": "stderr",
          "text": [
            "\r 85%|████████▌ | 425/500 [50:24<09:50,  7.87s/it]"
          ]
        },
        {
          "output_type": "stream",
          "name": "stdout",
          "text": [
            "bartlett pears, water, sugar, lemon juice, ground cinnamon\n",
            "\n",
            "==================================================\n",
            "Generating recipe for: puff pastry chicken bundles\n",
            "==================================================\n"
          ]
        },
        {
          "output_type": "stream",
          "name": "stderr",
          "text": [
            "\r 85%|████████▌ | 426/500 [50:33<10:06,  8.19s/it]"
          ]
        },
        {
          "output_type": "stream",
          "name": "stdout",
          "text": [
            "boneless skinless chicken breasts, salt, pepper, spinach leaves, chive & onion cream cheese, walnuts, frozen puff pastry, egg, cold water\n",
            "\n",
            "==================================================\n",
            "Generating recipe for: christmas cherry chews\n",
            "==================================================\n"
          ]
        },
        {
          "output_type": "stream",
          "name": "stderr",
          "text": [
            "\r 85%|████████▌ | 427/500 [50:37<08:27,  6.95s/it]"
          ]
        },
        {
          "output_type": "stream",
          "name": "stdout",
          "text": [
            "rolled oats, flour, brown sugar, baking soda, salt, butter, eggs, baking powder, almond extract, coconut, red maraschino cherry, pecan halves\n",
            "\n",
            "=== Allergen Substitutions Made ===\n",
            "Replaced 'flour' with 'almond flour'\n",
            "Replaced 'salt' with 'coconut yogurt'\n",
            "Replaced 'butter' with 'coconut oil'\n",
            "\n",
            "==================================================\n",
            "Generating recipe for: lightly spiced vegetable couscous\n",
            "==================================================\n"
          ]
        },
        {
          "output_type": "stream",
          "name": "stderr",
          "text": [
            "\r 86%|████████▌ | 428/500 [50:45<08:50,  7.36s/it]"
          ]
        },
        {
          "output_type": "stream",
          "name": "stdout",
          "text": [
            "vegetable stock, shallots, carrot, garlic powder, ground cumin, couscous, low-fat margarine\n",
            "\n",
            "==================================================\n",
            "Generating recipe for: spinach  garlic and rosemary griddlecakes\n",
            "==================================================\n"
          ]
        },
        {
          "output_type": "stream",
          "name": "stderr",
          "text": [
            "\r 86%|████████▌ | 429/500 [50:54<09:26,  7.98s/it]"
          ]
        },
        {
          "output_type": "stream",
          "name": "stdout",
          "text": [
            "idaho potato, olive oil, onion, garlic cloves, fresh rosemary, frozen chopped spinach, feta cheese, parmesan cheese, egg, dried oregano, salt, fresh ground pepper, dried breadcrumbs\n",
            "\n",
            "=== Allergen Substitutions Made ===\n",
            "Replaced 'egg' with 'flax eggs'\n",
            "\n",
            "==================================================\n",
            "Generating recipe for: pink lassies\n",
            "==================================================\n"
          ]
        },
        {
          "output_type": "stream",
          "name": "stderr",
          "text": [
            "\r 86%|████████▌ | 430/500 [51:03<09:38,  8.27s/it]"
          ]
        },
        {
          "output_type": "stream",
          "name": "stdout",
          "text": [
            "cranberry juice, orange juice, vanilla ice cream\n",
            "\n",
            "==================================================\n",
            "Generating recipe for: 100  authentic vietnamese dipping sauce  nuoc cham\n",
            "==================================================\n"
          ]
        },
        {
          "output_type": "stream",
          "name": "stderr",
          "text": [
            "\r 86%|████████▌ | 431/500 [51:05<07:14,  6.30s/it]"
          ]
        },
        {
          "output_type": "stream",
          "name": "stdout",
          "text": [
            "garlic, limes, juice of, white vinegar, fish sauce, white sugar, chili-garlic sauce, cold water\n",
            "\n",
            "==================================================\n",
            "Generating recipe for: prize nut cookies  ice box cookies\n",
            "==================================================\n"
          ]
        },
        {
          "output_type": "stream",
          "name": "stderr",
          "text": [
            "\r 86%|████████▋ | 432/500 [51:13<07:37,  6.73s/it]"
          ]
        },
        {
          "output_type": "stream",
          "name": "stdout",
          "text": [
            "brown sugar, eggs, white sugar, cinnamon, crisco, salt, flour, walnuts\n",
            "\n",
            "=== Allergen Substitutions Made ===\n",
            "Replaced 'flour' with 'almond flour'\n",
            "\n",
            "==================================================\n",
            "Generating recipe for: buttermilk mac  n  cheese\n",
            "==================================================\n"
          ]
        },
        {
          "output_type": "stream",
          "name": "stderr",
          "text": [
            "\r 87%|████████▋ | 433/500 [51:22<08:17,  7.42s/it]"
          ]
        },
        {
          "output_type": "stream",
          "name": "stdout",
          "text": [
            "eggs, cheddar cheese, buttermilk, butter, salt, elbow macaroni\n",
            "\n",
            "=== Allergen Substitutions Made ===\n",
            "Replaced 'butter' with 'coconut oil'\n",
            "\n",
            "==================================================\n",
            "Generating recipe for: saucy fudge pudding cake\n",
            "==================================================\n"
          ]
        },
        {
          "output_type": "stream",
          "name": "stderr",
          "text": [
            "\r 87%|████████▋ | 434/500 [51:31<08:40,  7.89s/it]"
          ]
        },
        {
          "output_type": "stream",
          "name": "stdout",
          "text": [
            "spelt flour, cocoa, baking powder, salt, milk, vegetable oil, honey, nuts, demerara sugar, hot water\n",
            "\n",
            "==================================================\n",
            "Generating recipe for: whole wheat pasta arrabbiata with arugula\n",
            "==================================================\n"
          ]
        },
        {
          "output_type": "stream",
          "name": "stderr",
          "text": [
            "\r 87%|████████▋ | 435/500 [51:35<07:12,  6.65s/it]"
          ]
        },
        {
          "output_type": "stream",
          "name": "stdout",
          "text": [
            "salt, whole wheat penne rigate, extra virgin olive oil, red onion, garlic cloves, crushed red pepper flakes, balsamic vinegar, diced fire-roasted tomatoes, black pepper, pecorino romano cheese, arugula\n",
            "\n",
            "=== Allergen Substitutions Made ===\n",
            "Replaced 'salt' with 'coconut yogurt'\n",
            "\n",
            "==================================================\n",
            "Generating recipe for: easy chicken broccoli casserole\n",
            "==================================================\n"
          ]
        },
        {
          "output_type": "stream",
          "name": "stderr",
          "text": [
            "\r 87%|████████▋ | 436/500 [51:43<07:50,  7.35s/it]"
          ]
        },
        {
          "output_type": "stream",
          "name": "stdout",
          "text": [
            "chicken breasts, frozen broccoli, cream of chicken soup, cream of mushroom soup, cream of celery soup, milk, dried onion flakes, mushrooms, sliced water chestnuts, cheddar cheese\n",
            "\n",
            "==================================================\n",
            "Generating recipe for: moroccan chicken and raisins for 2\n",
            "==================================================\n"
          ]
        },
        {
          "output_type": "stream",
          "name": "stderr",
          "text": [
            "\r 87%|████████▋ | 437/500 [51:53<08:22,  7.97s/it]"
          ]
        },
        {
          "output_type": "stream",
          "name": "stdout",
          "text": [
            "oil, onion, garlic clove, salt and pepper, ground ginger, coriander, cumin, cinnamon, nutmeg, cayenne, vanilla extract, tomatoes, raisins, almonds, chickpeas, boneless skinless chicken breast\n",
            "\n",
            "=== Allergen Substitutions Made ===\n",
            "Replaced 'onion' with 'seeds'\n",
            "\n",
            "==================================================\n",
            "Generating recipe for: tropical passion\n",
            "==================================================\n"
          ]
        },
        {
          "output_type": "stream",
          "name": "stderr",
          "text": [
            "\r 88%|████████▊ | 438/500 [51:56<06:49,  6.61s/it]"
          ]
        },
        {
          "output_type": "stream",
          "name": "stdout",
          "text": [
            "peach schnapps, rum, sloe gin, triple sec, orange juice\n",
            "\n",
            "==================================================\n",
            "Generating recipe for: persian butter cookies\n",
            "==================================================\n"
          ]
        },
        {
          "output_type": "stream",
          "name": "stderr",
          "text": [
            "\r 88%|████████▊ | 439/500 [52:03<06:34,  6.47s/it]"
          ]
        },
        {
          "output_type": "stream",
          "name": "stdout",
          "text": [
            "butter, egg yolks, lemon juice, sugar, lemon, rind of, vanilla, flour\n",
            "\n",
            "=== Allergen Substitutions Made ===\n",
            "Replaced 'flour' with 'almond flour'\n",
            "\n",
            "==================================================\n",
            "Generating recipe for: pollo asado\n",
            "==================================================\n"
          ]
        },
        {
          "output_type": "stream",
          "name": "stderr",
          "text": [
            "\r 88%|████████▊ | 440/500 [52:11<07:13,  7.22s/it]"
          ]
        },
        {
          "output_type": "stream",
          "name": "stdout",
          "text": [
            "olive oil, ground cumin, salt, dried oregano, garlic, lime juice, orange juice, achiote powder, whole boneless chicken breasts\n",
            "\n",
            "=== Allergen Substitutions Made ===\n",
            "Replaced 'salt' with 'coconut yogurt'\n",
            "\n",
            "==================================================\n",
            "Generating recipe for: jammin  vegetable jambalaya\n",
            "==================================================\n"
          ]
        },
        {
          "output_type": "stream",
          "name": "stderr",
          "text": [
            "\r 88%|████████▊ | 441/500 [52:21<07:45,  7.89s/it]"
          ]
        },
        {
          "output_type": "stream",
          "name": "stdout",
          "text": [
            "olive oil, yellow onion, celery, red bell pepper, garlic cloves, diced tomatoes, fresh thyme leaves, fresh marjoram, tabasco sauce, salt, water, vegetarian sausage links, dark red kidney beans, fresh parsley, cooked long-grain rice\n",
            "\n",
            "=== Allergen Substitutions Made ===\n",
            "Replaced 'olive oil' with 'coconut oil'\n",
            "Replaced 'celery' with 'flax eggs'\n",
            "\n",
            "==================================================\n",
            "Generating recipe for: ranch cupcake meatloaf with hidden gems  rsc\n",
            "==================================================\n"
          ]
        },
        {
          "output_type": "stream",
          "name": "stderr",
          "text": [
            "\r 88%|████████▊ | 442/500 [52:23<05:57,  6.16s/it]"
          ]
        },
        {
          "output_type": "stream",
          "name": "stdout",
          "text": [
            "butter, baby carrots, button mushrooms, onions, garlic cloves, tomato paste, fresh thyme leave, frozen corn, ground pork, ground beef, eggs, breadcrumbs, worcestershire sauce, hot sauce, hidden valley original ranch dressing and seasoning mix, mozzarella cheese, shallot, brown sugar\n",
            "\n",
            "==================================================\n",
            "Generating recipe for: crispy jalapeno popper dip\n",
            "==================================================\n"
          ]
        },
        {
          "output_type": "stream",
          "name": "stderr",
          "text": [
            "\r 89%|████████▊ | 443/500 [52:26<04:48,  5.07s/it]"
          ]
        },
        {
          "output_type": "stream",
          "name": "stdout",
          "text": [
            "cream cheese, mayonnaise, green chilies, jalapeno peppers, mexican blend cheese, mozzarella cheese, panko breadcrumbs, parmesan cheese\n",
            "\n",
            "==================================================\n",
            "Generating recipe for: chicken  shrimp  and sausage stew\n",
            "==================================================\n"
          ]
        },
        {
          "output_type": "stream",
          "name": "stderr",
          "text": [
            "\r 89%|████████▉ | 444/500 [52:35<05:55,  6.34s/it]"
          ]
        },
        {
          "output_type": "stream",
          "name": "stdout",
          "text": [
            "andouille sausage, chicken thighs, onions, green bell peppers, red bell peppers, garlic, dried oregano, dried thyme, paprika, diced tomatoes with juice, chicken broth, dry white wine, large shrimp, salt and pepper\n",
            "\n",
            "=== Allergen Substitutions Made ===\n",
            "Replaced 'garlic' with 'coconut oil'\n",
            "\n",
            "==================================================\n",
            "Generating recipe for: chicken paprika with egg noodles\n",
            "==================================================\n"
          ]
        },
        {
          "output_type": "stream",
          "name": "stderr",
          "text": [
            "\r 89%|████████▉ | 445/500 [52:41<05:46,  6.30s/it]"
          ]
        },
        {
          "output_type": "stream",
          "name": "stdout",
          "text": [
            "chicken legs, seasoning salt, black pepper, onions, garlic, dried chili pepper flakes, oil, paprika, tomato sauce, water, sour cream, red bell pepper, egg noodles\n",
            "\n",
            "=== Allergen Substitutions Made ===\n",
            "Replaced 'oil' with 'coconut oil'\n",
            "\n",
            "==================================================\n",
            "Generating recipe for: italian chicken\n",
            "==================================================\n"
          ]
        },
        {
          "output_type": "stream",
          "name": "stderr",
          "text": [
            "\r 89%|████████▉ | 446/500 [52:47<05:31,  6.13s/it]"
          ]
        },
        {
          "output_type": "stream",
          "name": "stdout",
          "text": [
            "boneless chicken breasts, italian dressing, breadcrumbs\n",
            "\n",
            "==================================================\n",
            "Generating recipe for: homemade texas chips with guacamole spread\n",
            "==================================================\n"
          ]
        },
        {
          "output_type": "stream",
          "name": "stderr",
          "text": [
            "\r 89%|████████▉ | 447/500 [52:54<05:46,  6.53s/it]"
          ]
        },
        {
          "output_type": "stream",
          "name": "stdout",
          "text": [
            "biscuit mix, water, cornmeal, vegetable oil, avocado, lime juice, mayonnaise, green chilies, onion, worcestershire sauce, ground cumin, hot sauce, tomatoes, garlic clove, bacon bits\n",
            "\n",
            "==================================================\n",
            "Generating recipe for: corn and coriander soup\n",
            "==================================================\n"
          ]
        },
        {
          "output_type": "stream",
          "name": "stderr",
          "text": [
            "\r 90%|████████▉ | 448/500 [53:04<06:22,  7.36s/it]"
          ]
        },
        {
          "output_type": "stream",
          "name": "stdout",
          "text": [
            "corn on the cob, red capsicum, oil, onion, garlic cloves, chicken stock, lime juice, fresh coriander leaves\n",
            "\n",
            "=== Allergen Substitutions Made ===\n",
            "Replaced 'oil' with 'coconut oil'\n",
            "Replaced 'onion' with 'seeds'\n",
            "\n",
            "==================================================\n",
            "Generating recipe for: chicken and mushroom bake\n",
            "==================================================\n"
          ]
        },
        {
          "output_type": "stream",
          "name": "stderr",
          "text": [
            "\r 90%|████████▉ | 449/500 [53:10<05:58,  7.02s/it]"
          ]
        },
        {
          "output_type": "stream",
          "name": "stdout",
          "text": [
            "boneless skinless chicken breasts, olive oil, onion, red bell pepper, green bell pepper, garlic cloves, mushroom, ketchup, chicken broth, worcestershire sauce, ground black pepper, salt\n",
            "\n",
            "=== Allergen Substitutions Made ===\n",
            "Replaced 'onion' with 'seeds'\n",
            "Replaced 'mushroom' with 'king oyster mushrooms'\n",
            "\n",
            "==================================================\n",
            "Generating recipe for: potato chive dip\n",
            "==================================================\n"
          ]
        },
        {
          "output_type": "stream",
          "name": "stderr",
          "text": [
            "\r 90%|█████████ | 450/500 [53:15<05:25,  6.50s/it]"
          ]
        },
        {
          "output_type": "stream",
          "name": "stdout",
          "text": [
            "sour cream, mayonnaise, potato, fresh chives, worcestershire sauce, salt, pepper\n",
            "\n",
            "=== Allergen Substitutions Made ===\n",
            "Replaced 'potato' with 'hearts of palm'\n",
            "Replaced 'salt' with 'coconut yogurt'\n",
            "Replaced 'pepper' with 'flax eggs'\n",
            "\n",
            "Progress saved to generated_recipes_temp_450.json\n",
            "\n",
            "==================================================\n",
            "Generating recipe for: roasted green beans with shallots   asiago cheese\n",
            "==================================================\n"
          ]
        },
        {
          "output_type": "stream",
          "name": "stderr",
          "text": [
            "\r 90%|█████████ | 451/500 [53:22<05:24,  6.63s/it]"
          ]
        },
        {
          "output_type": "stream",
          "name": "stdout",
          "text": [
            "green beans, shallot, oil, flavored oil, asiago cheese, sea salt, black pepper\n",
            "\n",
            "=== Allergen Substitutions Made ===\n",
            "Replaced 'oil' with 'coconut oil'\n",
            "\n",
            "==================================================\n",
            "Generating recipe for: butternut squash creme flan  with caramel sauce\n",
            "==================================================\n"
          ]
        },
        {
          "output_type": "stream",
          "name": "stderr",
          "text": [
            "\r 90%|█████████ | 452/500 [53:30<05:38,  7.06s/it]"
          ]
        },
        {
          "output_type": "stream",
          "name": "stdout",
          "text": [
            "sugar, water, butternut squash, eggs, egg yolks, brown sugar, salt, ginger, cinnamon, milk, whipping cream\n",
            "\n",
            "==================================================\n",
            "Generating recipe for: avocado gelatin\n",
            "==================================================\n"
          ]
        },
        {
          "output_type": "stream",
          "name": "stderr",
          "text": [
            "\r 91%|█████████ | 453/500 [53:35<05:01,  6.42s/it]"
          ]
        },
        {
          "output_type": "stream",
          "name": "stdout",
          "text": [
            "avocado, mayonnaise, cream, sugar, lime jell-o gelatin, gelatin, water, hot water\n",
            "\n",
            "==================================================\n",
            "Generating recipe for: south carolina smoked pork shoulder with mustard sauce\n",
            "==================================================\n"
          ]
        },
        {
          "output_type": "stream",
          "name": "stderr",
          "text": [
            "\r 91%|█████████ | 454/500 [53:36<03:37,  4.74s/it]"
          ]
        },
        {
          "output_type": "stream",
          "name": "stdout",
          "text": [
            "dry mustard, sweet paprika, salt, fresh ground black pepper, white pepper, garlic powder, onion powder, cayenne pepper, boston butt, distilled white vinegar, dijon mustard, butter, onion, garlic clove, brown sugar, hot sauce, coarse salt, hamburger buns, sweet pickles, wood chips\n",
            "\n",
            "==================================================\n",
            "Generating recipe for: apple and pear bundt cake\n",
            "==================================================\n"
          ]
        },
        {
          "output_type": "stream",
          "name": "stderr",
          "text": [
            "\r 91%|█████████ | 455/500 [53:42<03:46,  5.04s/it]"
          ]
        },
        {
          "output_type": "stream",
          "name": "stdout",
          "text": [
            "apples, pears, raisins, white sugar, all-purpose flour, baking powder, salt, cinnamon, clove, nutmeg, eggs, vegetable oil, vanilla, pecans, powdered sugar\n",
            "\n",
            "=== Allergen Substitutions Made ===\n",
            "Replaced 'white sugar' with 'coconut yogurt'\n",
            "\n",
            "==================================================\n",
            "Generating recipe for: soy delicious strawberry banana shake or smoothie\n",
            "==================================================\n"
          ]
        },
        {
          "output_type": "stream",
          "name": "stderr",
          "text": [
            "\r 91%|█████████ | 456/500 [53:49<04:16,  5.83s/it]"
          ]
        },
        {
          "output_type": "stream",
          "name": "stdout",
          "text": [
            "vanilla-flavored soymilk, strawberries, banana, splenda sugar substitute, ice cubes\n",
            "\n",
            "==================================================\n",
            "Generating recipe for: slow cooker  tangy steak supper\n",
            "==================================================\n"
          ]
        },
        {
          "output_type": "stream",
          "name": "stderr",
          "text": [
            "\r 91%|█████████▏| 457/500 [53:59<04:56,  6.90s/it]"
          ]
        },
        {
          "output_type": "stream",
          "name": "stdout",
          "text": [
            "beef round steak, all-purpose flour, french dressing, salt and pepper, onion, green pepper, pineapple chunks, cooked rice\n",
            "\n",
            "=== Allergen Substitutions Made ===\n",
            "Replaced 'onion' with 'seeds'\n",
            "\n",
            "==================================================\n",
            "Generating recipe for: cheesy bacon dip\n",
            "==================================================\n"
          ]
        },
        {
          "output_type": "stream",
          "name": "stderr",
          "text": [
            "\r 92%|█████████▏| 458/500 [54:01<03:52,  5.55s/it]"
          ]
        },
        {
          "output_type": "stream",
          "name": "stdout",
          "text": [
            "cream cheese, colby cheese, prepared mustard, white worcestershire sauce, green onions with tops, salt, bacon\n",
            "\n",
            "==================================================\n",
            "Generating recipe for: raisin pecan pie   diabetic\n",
            "==================================================\n"
          ]
        },
        {
          "output_type": "stream",
          "name": "stderr",
          "text": [
            "\r 92%|█████████▏| 459/500 [54:10<04:31,  6.63s/it]"
          ]
        },
        {
          "output_type": "stream",
          "name": "stdout",
          "text": [
            "unbaked pie shell, evaporated skim milk, sugar substitute, butter, eggs, cornstarch, salt, pecans, vanilla, raisins\n",
            "\n",
            "==================================================\n",
            "Generating recipe for: vegetable lasagna rolls\n",
            "==================================================\n"
          ]
        },
        {
          "output_type": "stream",
          "name": "stderr",
          "text": [
            "\r 92%|█████████▏| 460/500 [54:19<04:55,  7.39s/it]"
          ]
        },
        {
          "output_type": "stream",
          "name": "stdout",
          "text": [
            "olive oil, carrots, onion, frozen broccoli, salt, pepper, lasagna noodles, provolone cheese, ricotta cheese, egg\n",
            "\n",
            "==================================================\n",
            "Generating recipe for: greek chickens in togas\n",
            "==================================================\n"
          ]
        },
        {
          "output_type": "stream",
          "name": "stderr",
          "text": [
            "\r 92%|█████████▏| 461/500 [54:23<03:59,  6.15s/it]"
          ]
        },
        {
          "output_type": "stream",
          "name": "stdout",
          "text": [
            "boneless skinless chicken breasts, feta cheese, yellow onion, black olives, ricotta cheese, all purpose greek seasoning, crescent rolls\n",
            "\n",
            "==================================================\n",
            "Generating recipe for: hash browns breakfast  quiche\n",
            "==================================================\n"
          ]
        },
        {
          "output_type": "stream",
          "name": "stderr",
          "text": [
            "\r 92%|█████████▏| 462/500 [54:32<04:29,  7.09s/it]"
          ]
        },
        {
          "output_type": "stream",
          "name": "stdout",
          "text": [
            "hash brown patties, butter, breakfast sausage, monterey jack cheese, eggs, milk, cream, salt, pepper\n",
            "\n",
            "=== Allergen Substitutions Made ===\n",
            "Replaced 'butter' with 'coconut oil'\n",
            "Replaced 'salt' with 'coconut yogurt'\n",
            "\n",
            "==================================================\n",
            "Generating recipe for: oven style pizza fries\n",
            "==================================================\n"
          ]
        },
        {
          "output_type": "stream",
          "name": "stderr",
          "text": [
            "\r 93%|█████████▎| 463/500 [54:37<04:00,  6.50s/it]"
          ]
        },
        {
          "output_type": "stream",
          "name": "stdout",
          "text": [
            "potatoes, tomato paste, vegetable oil, dried oregano, fennel seeds, mild paprika, dried basil, garlic powder, salt, sugar, parmesan cheese\n",
            "\n",
            "=== Allergen Substitutions Made ===\n",
            "Replaced 'potatoes' with 'hearts of palm'\n",
            "\n",
            "==================================================\n",
            "Generating recipe for: sour cream fruit dip\n",
            "==================================================\n"
          ]
        },
        {
          "output_type": "stream",
          "name": "stderr",
          "text": [
            "\r 93%|█████████▎| 464/500 [54:46<04:23,  7.33s/it]"
          ]
        },
        {
          "output_type": "stream",
          "name": "stdout",
          "text": [
            "sour cream, brown sugar, vanilla extract\n",
            "\n",
            "==================================================\n",
            "Generating recipe for: peanutty rainbow cookies  gift mix in a jar\n",
            "==================================================\n"
          ]
        },
        {
          "output_type": "stream",
          "name": "stderr",
          "text": [
            "\r 93%|█████████▎| 465/500 [54:56<04:38,  7.94s/it]"
          ]
        },
        {
          "output_type": "stream",
          "name": "stdout",
          "text": [
            "flour, baking soda, salt, oatmeal, miniature m&m's chocolate candies, brown sugar, sugar, salted peanuts, butter, egg, vanilla extract\n",
            "\n",
            "=== Allergen Substitutions Made ===\n",
            "Replaced 'flour' with 'almond flour'\n",
            "\n",
            "==================================================\n",
            "Generating recipe for: chocolate pillows\n",
            "==================================================\n"
          ]
        },
        {
          "output_type": "stream",
          "name": "stderr",
          "text": [
            "\r 93%|█████████▎| 466/500 [54:59<03:44,  6.60s/it]"
          ]
        },
        {
          "output_type": "stream",
          "name": "stdout",
          "text": [
            "port wine, sugar, dried tart cherry, butter, oil, wonton wrappers, egg, chocolate\n",
            "\n",
            "==================================================\n",
            "Generating recipe for: buttery red bliss potatoes\n",
            "==================================================\n"
          ]
        },
        {
          "output_type": "stream",
          "name": "stderr",
          "text": [
            "\r 93%|█████████▎| 467/500 [55:01<02:48,  5.10s/it]"
          ]
        },
        {
          "output_type": "stream",
          "name": "stdout",
          "text": [
            "red bliss potatoes, butter, fresh marjoram, salt, black pepper\n",
            "\n",
            "==================================================\n",
            "Generating recipe for: chilled peach pie\n",
            "==================================================\n"
          ]
        },
        {
          "output_type": "stream",
          "name": "stderr",
          "text": [
            "\r 94%|█████████▎| 468/500 [55:10<03:23,  6.37s/it]"
          ]
        },
        {
          "output_type": "stream",
          "name": "stdout",
          "text": [
            "graham crackers, butter, peaches, fresh lime juice, unflavored gelatin, low-fat cream cheese, fat free cream cheese, fat-free sweetened condensed milk\n",
            "\n",
            "==================================================\n",
            "Generating recipe for: feta dill bread\n",
            "==================================================\n"
          ]
        },
        {
          "output_type": "stream",
          "name": "stderr",
          "text": [
            "\r 94%|█████████▍| 469/500 [55:13<02:46,  5.36s/it]"
          ]
        },
        {
          "output_type": "stream",
          "name": "stdout",
          "text": [
            "water, feta cheese, egg, butter, bread flour, instant potato flakes, nonfat dry milk powder, sugar, dried dill, salt, active dry yeast\n",
            "\n",
            "=== Allergen Substitutions Made ===\n",
            "Replaced 'egg' with 'flax eggs'\n",
            "Replaced 'salt' with 'coconut yogurt'\n",
            "\n",
            "==================================================\n",
            "Generating recipe for: lighter guacamole\n",
            "==================================================\n"
          ]
        },
        {
          "output_type": "stream",
          "name": "stderr",
          "text": [
            "\r 94%|█████████▍| 470/500 [55:19<02:44,  5.49s/it]"
          ]
        },
        {
          "output_type": "stream",
          "name": "stdout",
          "text": [
            "green peas, water, hass avocadoes, green onions, cilantro, lime juice, garlic clove, hot red pepper sauce, salt\n",
            "\n",
            "==================================================\n",
            "Generating recipe for: make ahead breakfast sandwiches\n",
            "==================================================\n"
          ]
        },
        {
          "output_type": "stream",
          "name": "stderr",
          "text": [
            "\r 94%|█████████▍| 471/500 [55:27<03:04,  6.35s/it]"
          ]
        },
        {
          "output_type": "stream",
          "name": "stdout",
          "text": [
            "refrigerated buttermilk biscuits, eggs, ground sausage, sharp cheddar cheese, dry mustard, pepper, garlic salt, butter\n",
            "\n",
            "=== Allergen Substitutions Made ===\n",
            "Replaced 'eggs' with 'flax eggs'\n",
            "\n",
            "==================================================\n",
            "Generating recipe for: peanut butter chocolate no bake bars\n",
            "==================================================\n"
          ]
        },
        {
          "output_type": "stream",
          "name": "stderr",
          "text": [
            "\r 94%|█████████▍| 472/500 [55:32<02:48,  6.01s/it]"
          ]
        },
        {
          "output_type": "stream",
          "name": "stdout",
          "text": [
            "peanut butter, light corn syrup, powdered sugar, margarine, quaker oats, semisweet chocolate piece, peanuts\n",
            "\n",
            "==================================================\n",
            "Generating recipe for: scrumptious lemon bars\n",
            "==================================================\n"
          ]
        },
        {
          "output_type": "stream",
          "name": "stderr",
          "text": [
            "\r 95%|█████████▍| 473/500 [55:41<03:04,  6.84s/it]"
          ]
        },
        {
          "output_type": "stream",
          "name": "stdout",
          "text": [
            "all-purpose flour, powdered sugar, butter, eggs, sugar, lemon juice, baking powder\n",
            "\n",
            "==================================================\n",
            "Generating recipe for: blackberry grunt\n",
            "==================================================\n"
          ]
        },
        {
          "output_type": "stream",
          "name": "stderr",
          "text": [
            "\r 95%|█████████▍| 474/500 [55:50<03:16,  7.55s/it]"
          ]
        },
        {
          "output_type": "stream",
          "name": "stdout",
          "text": [
            "all-purpose flour, baking powder, kosher salt, baking soda, unsalted butter, buttermilk, blackberries, sugar, water, ground ginger\n",
            "\n",
            "==================================================\n",
            "Generating recipe for: healthy peanut butter banana muffins\n",
            "==================================================\n"
          ]
        },
        {
          "output_type": "stream",
          "name": "stderr",
          "text": [
            "\r 95%|█████████▌| 475/500 [56:00<03:20,  8.01s/it]"
          ]
        },
        {
          "output_type": "stream",
          "name": "stdout",
          "text": [
            "wheat bran, milk, all-purpose flour, sugar, baking powder, salt, banana, crunchy peanut butter, vegetable oil, egg, light brown sugar, butter, peanut butter\n",
            "\n",
            "=== Allergen Substitutions Made ===\n",
            "Replaced 'wheat bran' with 'almond flour'\n",
            "\n",
            "==================================================\n",
            "Generating recipe for: swedish meatballs  or kottbullar\n",
            "==================================================\n"
          ]
        },
        {
          "output_type": "stream",
          "name": "stderr",
          "text": [
            "\r 95%|█████████▌| 476/500 [56:09<03:22,  8.42s/it]"
          ]
        },
        {
          "output_type": "stream",
          "name": "stdout",
          "text": [
            "90% lean ground beef, ground pork, white bread, yellow onion, egg, worcestershire sauce, butter, canola oil, lemon, nutmeg, allspice, beef stock, campbell's cream of mushroom soup, button mushroom, heavy cream\n",
            "\n",
            "==================================================\n",
            "Generating recipe for: gourmet zucchini fritters  no cheese\n",
            "==================================================\n"
          ]
        },
        {
          "output_type": "stream",
          "name": "stderr",
          "text": [
            "\r 95%|█████████▌| 477/500 [56:18<03:18,  8.64s/it]"
          ]
        },
        {
          "output_type": "stream",
          "name": "stdout",
          "text": [
            "yellow zucchini, kosher salt, water, fresh parsley, fresh garlic clove, lemon zest, table salt, black peppercorns, eggs, all-purpose flour, olive oil, lemon wedges\n",
            "\n",
            "==================================================\n",
            "Generating recipe for: healthy pork on the bbq\n",
            "==================================================\n"
          ]
        },
        {
          "output_type": "stream",
          "name": "stderr",
          "text": [
            "\r 96%|█████████▌| 478/500 [56:21<02:30,  6.85s/it]"
          ]
        },
        {
          "output_type": "stream",
          "name": "stdout",
          "text": [
            "soy sauce, olive oil, garlic powder, brown sugar, powdered ginger, pepper, boneless pork chops\n",
            "\n",
            "==================================================\n",
            "Generating recipe for: tasty fried apples\n",
            "==================================================\n"
          ]
        },
        {
          "output_type": "stream",
          "name": "stderr",
          "text": [
            "\r 96%|█████████▌| 479/500 [56:30<02:36,  7.45s/it]"
          ]
        },
        {
          "output_type": "stream",
          "name": "stdout",
          "text": [
            "tart cooking apples, sugar, margarine\n",
            "\n",
            "==================================================\n",
            "Generating recipe for: frozen bloody mary\n",
            "==================================================\n"
          ]
        },
        {
          "output_type": "stream",
          "name": "stderr",
          "text": [
            "\r 96%|█████████▌| 480/500 [56:37<02:30,  7.52s/it]"
          ]
        },
        {
          "output_type": "stream",
          "name": "stdout",
          "text": [
            "tomato juice, fresh lemon juice, fresh tomato, worcestershire sauce, hot pepper sauce, vodka, salt, ice cubes, fresh ground black pepper\n",
            "\n",
            "==================================================\n",
            "Generating recipe for: mini hot dogs\n",
            "==================================================\n"
          ]
        },
        {
          "output_type": "stream",
          "name": "stderr",
          "text": [
            "\r 96%|█████████▌| 481/500 [56:40<01:53,  6.00s/it]"
          ]
        },
        {
          "output_type": "stream",
          "name": "stdout",
          "text": [
            "rolls, cocktail frankfurters, cheese, tomato sauce\n",
            "\n",
            "==================================================\n",
            "Generating recipe for: mashed garlic carrots\n",
            "==================================================\n"
          ]
        },
        {
          "output_type": "stream",
          "name": "stderr",
          "text": [
            "\r 96%|█████████▋| 482/500 [56:49<02:04,  6.94s/it]"
          ]
        },
        {
          "output_type": "stream",
          "name": "stdout",
          "text": [
            "carrots, garlic, vegetable stock, dried thyme, salt and pepper\n",
            "\n",
            "==================================================\n",
            "Generating recipe for: sour cream and apple coffee cake\n",
            "==================================================\n"
          ]
        },
        {
          "output_type": "stream",
          "name": "stderr",
          "text": [
            "\r 97%|█████████▋| 483/500 [56:56<02:00,  7.06s/it]"
          ]
        },
        {
          "output_type": "stream",
          "name": "stdout",
          "text": [
            "walnuts, brown sugar, all-purpose flour, cinnamon, unsalted butter, granny smith apples, sugar, lemon juice, sour cream, buttermilk, baking powder, baking soda, salt, butter, eggs, vanilla extract\n",
            "\n",
            "=== Allergen Substitutions Made ===\n",
            "Replaced 'sugar' with 'coconut yogurt'\n",
            "Replaced 'salt' with 'coconut yogurt'\n",
            "\n",
            "==================================================\n",
            "Generating recipe for: sweet tamarind chutney\n",
            "==================================================\n"
          ]
        },
        {
          "output_type": "stream",
          "name": "stderr",
          "text": [
            "\r 97%|█████████▋| 484/500 [56:57<01:23,  5.22s/it]"
          ]
        },
        {
          "output_type": "stream",
          "name": "stdout",
          "text": [
            "tamarind pulp, hot water, cumin seed, coriander seed, red chili powder, sea salt, sugar, dates\n",
            "\n",
            "==================================================\n",
            "Generating recipe for: slow cooker chive and onion creamed corn\n",
            "==================================================\n"
          ]
        },
        {
          "output_type": "stream",
          "name": "stderr",
          "text": [
            "\r 97%|█████████▋| 485/500 [57:01<01:14,  4.94s/it]"
          ]
        },
        {
          "output_type": "stream",
          "name": "stdout",
          "text": [
            "bacon, frozen whole kernel corn, red bell pepper, milk, butter, sugar, salt, pepper, philadelphia chive & onion 1/3 less fat than cream cheese\n",
            "\n",
            "==================================================\n",
            "Generating recipe for: easy no knead bread\n",
            "==================================================\n"
          ]
        },
        {
          "output_type": "stream",
          "name": "stderr",
          "text": [
            "\r 97%|█████████▋| 486/500 [57:08<01:15,  5.42s/it]"
          ]
        },
        {
          "output_type": "stream",
          "name": "stdout",
          "text": [
            "flour, sugar, salt, dry yeast, warm water\n",
            "\n",
            "=== Allergen Substitutions Made ===\n",
            "Replaced 'flour' with 'almond flour'\n",
            "Replaced 'sugar' with 'coconut yogurt'\n",
            "\n",
            "==================================================\n",
            "Generating recipe for: rosemary satin dinner rolls\n",
            "==================================================\n"
          ]
        },
        {
          "output_type": "stream",
          "name": "stderr",
          "text": [
            "\r 97%|█████████▋| 487/500 [57:17<01:25,  6.57s/it]"
          ]
        },
        {
          "output_type": "stream",
          "name": "stdout",
          "text": [
            "all-purpose flour, active dry yeast, cream-style cottage cheese, water, butter, onions, salt, dried rosemary, egg, egg yolk\n",
            "\n",
            "==================================================\n",
            "Generating recipe for: ocean perch with white  wine sauce\n",
            "==================================================\n"
          ]
        },
        {
          "output_type": "stream",
          "name": "stderr",
          "text": [
            "\r 98%|█████████▊| 488/500 [57:20<01:03,  5.32s/it]"
          ]
        },
        {
          "output_type": "stream",
          "name": "stdout",
          "text": [
            "ocean perch fillets, flour, eggs, butter, onion, shallots, dry white wine, lemon juice, ground ginger, chives\n",
            "\n",
            "==================================================\n",
            "Generating recipe for: ancho chile and citrus ketchup\n",
            "==================================================\n"
          ]
        },
        {
          "output_type": "stream",
          "name": "stderr",
          "text": [
            "\r 98%|█████████▊| 489/500 [57:23<00:53,  4.86s/it]"
          ]
        },
        {
          "output_type": "stream",
          "name": "stdout",
          "text": [
            "ketchup, dried ancho chile powder, lemon, zest of, orange zest\n",
            "\n",
            "==================================================\n",
            "Generating recipe for: jello salad\n",
            "==================================================\n"
          ]
        },
        {
          "output_type": "stream",
          "name": "stderr",
          "text": [
            "\r 98%|█████████▊| 490/500 [57:33<01:02,  6.21s/it]"
          ]
        },
        {
          "output_type": "stream",
          "name": "stdout",
          "text": [
            "sugar-free strawberry gelatin, water, light non-dairy whipped topping, canned pineapple, banana\n",
            "\n",
            "=== Allergen Substitutions Made ===\n",
            "Replaced 'banana' with 'flax eggs'\n",
            "\n",
            "==================================================\n",
            "Generating recipe for: sausage potato bake\n",
            "==================================================\n"
          ]
        },
        {
          "output_type": "stream",
          "name": "stderr",
          "text": [
            "\r 98%|█████████▊| 491/500 [57:42<01:03,  7.01s/it]"
          ]
        },
        {
          "output_type": "stream",
          "name": "stdout",
          "text": [
            "pork sausage, potatoes, apples, sugar, flour, cinnamon, salt, water\n",
            "\n",
            "==================================================\n",
            "Generating recipe for: million dollar fudge\n",
            "==================================================\n"
          ]
        },
        {
          "output_type": "stream",
          "name": "stderr",
          "text": [
            "\r 98%|█████████▊| 492/500 [57:51<01:01,  7.72s/it]"
          ]
        },
        {
          "output_type": "stream",
          "name": "stdout",
          "text": [
            "white sugar, salt, butter, evaporated milk, nuts, semi-sweet chocolate chips, chocolate bars, marshmallow cream\n",
            "\n",
            "==================================================\n",
            "Generating recipe for: world s fastest tomato sauce pasta\n",
            "==================================================\n"
          ]
        },
        {
          "output_type": "stream",
          "name": "stderr",
          "text": [
            "\r 99%|█████████▊| 493/500 [58:00<00:57,  8.17s/it]"
          ]
        },
        {
          "output_type": "stream",
          "name": "stdout",
          "text": [
            "tomato sauce, unsalted butter, dried oregano, salt, crushed red pepper flakes, parmesan cheese, pasta, basil leaves\n",
            "\n",
            "==================================================\n",
            "Generating recipe for: honey whole wheat rolls\n",
            "==================================================\n"
          ]
        },
        {
          "output_type": "stream",
          "name": "stderr",
          "text": [
            "\r 99%|█████████▉| 494/500 [58:09<00:50,  8.42s/it]"
          ]
        },
        {
          "output_type": "stream",
          "name": "stdout",
          "text": [
            "warm water, yeast, salt, honey, spelt flour, olive oil\n",
            "\n",
            "==================================================\n",
            "Generating recipe for: rosie s spiked wedding punch\n",
            "==================================================\n"
          ]
        },
        {
          "output_type": "stream",
          "name": "stderr",
          "text": [
            "\r 99%|█████████▉| 495/500 [58:19<00:43,  8.72s/it]"
          ]
        },
        {
          "output_type": "stream",
          "name": "stdout",
          "text": [
            "pineapple juice, iced tea, apple juice, vodka, lemonade concentrate, orange juice concentrate, ginger ale, mixed fruit\n",
            "\n",
            "==================================================\n",
            "Generating recipe for: maple   mustard glazed pork roast\n",
            "==================================================\n"
          ]
        },
        {
          "output_type": "stream",
          "name": "stderr",
          "text": [
            "\r 99%|█████████▉| 496/500 [58:26<00:33,  8.29s/it]"
          ]
        },
        {
          "output_type": "stream",
          "name": "stdout",
          "text": [
            "boneless pork loin roast, maple syrup, dijon mustard, cider vinegar, soy sauce\n",
            "\n",
            "==================================================\n",
            "Generating recipe for: garlic and egg fried rice\n",
            "==================================================\n"
          ]
        },
        {
          "output_type": "stream",
          "name": "stderr",
          "text": [
            "\r 99%|█████████▉| 497/500 [58:35<00:25,  8.58s/it]"
          ]
        },
        {
          "output_type": "stream",
          "name": "stdout",
          "text": [
            "eggs, fish sauce, sesame oil, vegetable oil, garlic cloves, cooked rice, oyster sauce\n",
            "\n",
            "==================================================\n",
            "Generating recipe for: tropical rice pudding\n",
            "==================================================\n"
          ]
        },
        {
          "output_type": "stream",
          "name": "stderr",
          "text": [
            "\r100%|█████████▉| 498/500 [58:45<00:17,  8.82s/it]"
          ]
        },
        {
          "output_type": "stream",
          "name": "stdout",
          "text": [
            "light rum, currants, cooked white rice, milk, coconut milk, turbinado sugar, crystallized ginger, salt, fresh mango, papaya, shredded coconut\n",
            "\n",
            "=== Allergen Substitutions Made ===\n",
            "Replaced 'milk' with 'oat milk'\n",
            "Replaced 'coconut milk' with 'oat milk'\n",
            "\n",
            "==================================================\n",
            "Generating recipe for: catfish or any firm white fish with pecan sauce\n",
            "==================================================\n"
          ]
        },
        {
          "output_type": "stream",
          "name": "stderr",
          "text": [
            "\r100%|█████████▉| 499/500 [58:49<00:07,  7.47s/it]"
          ]
        },
        {
          "output_type": "stream",
          "name": "stdout",
          "text": [
            "catfish fillets, milk, pecans, butter, green onion, all-purpose flour, paprika, salt, garlic powder, onion powder, ground red pepper, white pepper, black pepper, dried thyme, dried oregano, fresh lime juice\n",
            "\n",
            "=== Allergen Substitutions Made ===\n",
            "Replaced 'butter' with 'coconut oil'\n",
            "Replaced 'salt' with 'coconut yogurt'\n",
            "\n",
            "==================================================\n",
            "Generating recipe for: rosemary polenta pound cake\n",
            "==================================================\n"
          ]
        },
        {
          "output_type": "stream",
          "name": "stderr",
          "text": [
            "100%|██████████| 500/500 [58:58<00:00,  7.08s/it]"
          ]
        },
        {
          "output_type": "stream",
          "name": "stdout",
          "text": [
            "buttermilk, polenta, flour, baking powder, baking soda, salt, fresh rosemary leaves, unsalted butter, sugar, eggs\n",
            "\n",
            "=== Allergen Substitutions Made ===\n",
            "Replaced 'flour' with 'almond flour'\n",
            "\n",
            "Progress saved to generated_recipes_temp_500.json\n",
            "\n",
            "All recipes generated and saved to generated_recipes_500.json\n"
          ]
        },
        {
          "output_type": "stream",
          "name": "stderr",
          "text": [
            "\n"
          ]
        }
      ],
      "source": [
        "import torch\n",
        "import json\n",
        "import pandas as pd\n",
        "import ast\n",
        "from transformers import AutoModelForCausalLM, AutoTokenizer\n",
        "from tqdm import tqdm\n",
        "from langchain_community.vectorstores import FAISS\n",
        "from langchain.text_splitter import RecursiveCharacterTextSplitter\n",
        "from langchain_community.embeddings import HuggingFaceEmbeddings\n",
        "from langchain.chains import LLMChain\n",
        "from langchain_community.llms import HuggingFaceEndpoint\n",
        "import re\n",
        "import logging\n",
        "from sklearn.model_selection import train_test_split\n",
        "\n",
        "MODEL_NAME = \"HuggingFaceTB/SmolLM-1.7B\"\n",
        "MAX_LENGTH = 512\n",
        "NUM_SAMPLES = 1\n",
        "EMBEDDINGS_MODEL = \"sentence-transformers/all-MiniLM-L6-v2\"\n",
        "ALLERGEN_DB_PATH = \"allergen_substitutes.json\"\n",
        "CHUNK_SIZE = 1000\n",
        "CHUNK_OVERLAP = 200\n",
        "\n",
        "def load_recipes():\n",
        "    print(\"Loading recipe dataset...\")\n",
        "    recipes = pd.read_csv('RAW_recipes.csv', encoding='utf8')\n",
        "    recipes = recipes[['name', 'ingredients', 'steps']]\n",
        "    recipes['name'] = recipes['name'].apply(lambda x: [x] if isinstance(x, str) else x)\n",
        "    recipes['steps'] = recipes['steps'].apply(ast.literal_eval)\n",
        "    recipes['ingredients'] = recipes['ingredients'].apply(ast.literal_eval)\n",
        "    subsample_size = len(recipes)\n",
        "    recipes = recipes.sample(n=subsample_size, random_state=42)\n",
        "    logging.info(f\"Using a subsample of {len(recipes)} recipes\")\n",
        "\n",
        "    def format_recipe(row):\n",
        "        try:\n",
        "            name = row['name']\n",
        "            if isinstance(name, list):\n",
        "                name = ' '.join(map(str, name))  # Join list elements into a single string\n",
        "            else:\n",
        "                name = str(name)  # If it's not a list, just convert it to a string\n",
        "\n",
        "            # Handle 'ingredients' field (ensure it's a list or convert to a string if it's not)\n",
        "            ingredients = row['ingredients']\n",
        "            if isinstance(ingredients, list):\n",
        "                ingredients = ', '.join(map(str, ingredients))  # Join list elements into a single string\n",
        "            else:\n",
        "                ingredients = str(ingredients)  # If it's not a list, just convert it to a string\n",
        "\n",
        "            # Handle 'steps' field (ensure it's a list or convert to a string if it's not)\n",
        "            steps = row['steps']\n",
        "            if isinstance(steps, list):\n",
        "                steps = '\\n'.join(map(str, steps))  # Join list elements into a single string with newlines\n",
        "            else:\n",
        "                steps = str(steps)  # If it's not a list, just convert it to a string\n",
        "\n",
        "            # Format the recipe as a string\n",
        "            prompt = f\"Name: {name}\\nIngredients: {ingredients}\\nInstructions:\"\n",
        "            completion = steps  # Instructions are joined by newlines\n",
        "\n",
        "            return prompt + completion\n",
        "        except Exception as e:\n",
        "            logging.warning(f\"Error processing recipe: {str(e)}\")\n",
        "            return None\n",
        "\n",
        "    formatted_data = recipes.apply(format_recipe, axis=1)\n",
        "    formatted_data = formatted_data[formatted_data.notna()].tolist()\n",
        "    copy_formatted_data = formatted_data.copy()\n",
        "    train_val_text, test_texts = train_test_split(copy_formatted_data, test_size=0.1, random_state=42)\n",
        "    train_texts, val_texts = train_test_split(train_val_text, test_size=1/9, random_state=42)\n",
        "\n",
        "    logging.info(f\"Split dataset into {len(train_texts)} training, {len(val_texts)} validation samples and {len(test_texts)} test samples\")\n",
        "    return train_texts, val_texts, test_texts\n",
        "\n",
        "def load_allergen_database():\n",
        "    \"\"\"Load and prepare the allergen substitution database for RAG\"\"\"\n",
        "    with open(ALLERGEN_DB_PATH, 'r') as f:\n",
        "        allergen_data = json.load(f)\n",
        "\n",
        "    documents = []\n",
        "    for allergen, info in allergen_data.items():\n",
        "        doc = f\"Allergen: {allergen}\\nSubstitutes: {', '.join(info['substitutes'])}\\nNotes: {info['notes']}\"\n",
        "        documents.append(doc)\n",
        "\n",
        "    text_splitter = RecursiveCharacterTextSplitter(\n",
        "        chunk_size=CHUNK_SIZE,\n",
        "        chunk_overlap=CHUNK_OVERLAP\n",
        "    )\n",
        "    texts = text_splitter.create_documents(documents)\n",
        "\n",
        "    embeddings = HuggingFaceEmbeddings(model_name=EMBEDDINGS_MODEL)\n",
        "    vectorstore = FAISS.from_documents(texts, embeddings)\n",
        "\n",
        "    return vectorstore\n",
        "\n",
        "def substitute_allergens(recipe_text, vectorstore,ingredients):\n",
        "    \"\"\"Use RAG to identify and substitute allergens in the recipe\"\"\"\n",
        "    #ingredients_match = re.search(r\"Ingredients:(.*?)Instructions:\", recipe_text, re.DOTALL)\n",
        "    ingredients_list=ingredients.split(', ')\n",
        "    ingredients_match=[]\n",
        "    for ingredient in ingredients_list:\n",
        "      if ingredient in recipe_text:\n",
        "        ingredients_match.append(ingredient)\n",
        "    #ingredients_text = ingredients_match.group(1).strip()\n",
        "    #ingredients_list = [i.strip() for i in ingredients_text.split('\\n') if i.strip()]\n",
        "    if not ingredients_match:\n",
        "      return recipe_text,[]\n",
        "\n",
        "    substitutions_made = []\n",
        "    modified_recipe = recipe_text\n",
        "\n",
        "    for ingredient in ingredients_match:\n",
        "        results = vectorstore.similarity_search(\n",
        "            f\"What are substitutes for {ingredient}?\",\n",
        "            k=1\n",
        "        )\n",
        "\n",
        "        if results and \"Substitutes:\" in results[0].page_content:\n",
        "            substitute_info = results[0].page_content.split(\"Substitutes:\")[1].split(\"Notes:\")[0].strip()\n",
        "            substitutes = substitute_info.split(', ')[0]\n",
        "\n",
        "            modified_recipe = modified_recipe.replace(ingredient, f\"{substitutes} (substitute for {ingredient})\")\n",
        "            substitutions_made.append({\n",
        "                \"original\": ingredient,\n",
        "                \"substitute\": substitutes\n",
        "            })\n",
        "\n",
        "    return modified_recipe, substitutions_made\n",
        "\n",
        "def generate_recipe(model, tokenizer, ingredients, name, vectorstore):\n",
        "    prompt = f\"\"\"You are an expert chef and recipe writer. Given a recipe name and a list of ingredients, create a high-quality, detailed recipe.\n",
        "\n",
        "Create a detailed recipe for: {name}\n",
        "Using these ingredients: {ingredients}\n",
        "\n",
        "Recipe:\"\"\"\n",
        "\n",
        "    inputs = tokenizer(prompt, return_tensors=\"pt\", truncation=True, max_length=MAX_LENGTH)\n",
        "    inputs = {k: v.to(device=model.device) for k, v in inputs.items()}\n",
        "\n",
        "    outputs = model.generate(\n",
        "        **inputs,\n",
        "        max_new_tokens=256,\n",
        "        temperature=0.75,\n",
        "        top_p=0.8,\n",
        "        do_sample=True,\n",
        "        no_repeat_ngram_size=4,\n",
        "        repetition_penalty=1.3,\n",
        "        pad_token_id=tokenizer.pad_token_id\n",
        "    )\n",
        "\n",
        "    generated_recipe = tokenizer.decode(outputs[0], skip_special_tokens=True)\n",
        "    original_recipe = generated_recipe.replace(prompt, \"\").strip()\n",
        "\n",
        "    #print(\"\\n=== Original Recipe ===\")\n",
        "    #print(original_recipe)\n",
        "\n",
        "    modified_recipe, substitutions = substitute_allergens(original_recipe, vectorstore,ingredients)\n",
        "\n",
        "    if substitutions:\n",
        "        print(\"\\n=== Allergen Substitutions Made ===\")\n",
        "        for sub in substitutions:\n",
        "            print(f\"Replaced '{sub['original']}' with '{sub['substitute']}'\")\n",
        "\n",
        "    #print(\"\\n=== Modified Recipe ===\")\n",
        "    #print(modified_recipe)\n",
        "\n",
        "    return {\n",
        "        \"original_recipe\": original_recipe,\n",
        "        \"modified_recipe\": modified_recipe,\n",
        "        \"substitutions\": substitutions\n",
        "    }\n",
        "\n",
        "def main():\n",
        "    device = torch.device(\"cuda\" if torch.cuda.is_available() else \"cpu\")\n",
        "    print(f\"Using device: {device}\")\n",
        "\n",
        "    print(\"Loading model and tokenizer...\")\n",
        "    tokenizer = AutoTokenizer.from_pretrained(MODEL_NAME)\n",
        "    model = AutoModelForCausalLM.from_pretrained(MODEL_NAME)\n",
        "    model.to(device)\n",
        "\n",
        "    if tokenizer.pad_token is None:\n",
        "        tokenizer.pad_token = tokenizer.eos_token\n",
        "        model.config.pad_token_id = tokenizer.pad_token_id\n",
        "\n",
        "    print(\"Loading allergen database and creating vector store...\")\n",
        "    vectorstore = load_allergen_database()\n",
        "    train_text,val_text,test_text=load_recipes()\n",
        "    recipe_data =test_text[:5]\n",
        "\n",
        "    print(f\"Generating {NUM_SAMPLES} recipes with allergen substitutions...\")\n",
        "    recipes = []\n",
        "    for recipe in tqdm(recipe_data):\n",
        "        parts = recipe.split(\"\\nInstructions:\")\n",
        "        header = parts[0].split(\"\\nIngredients: \")\n",
        "        name = header[0].replace(\"Name: \", \"\")\n",
        "        ingredients = header[1]\n",
        "        reference_instructions = parts[1] if len(parts) > 1 else \"\"\n",
        "        print(\"\\n\" + \"=\"*50)\n",
        "        print(f\"Generating recipe for: {name}\")\n",
        "        print(\"=\"*50)\n",
        "        generated_recipe = generate_recipe(model, tokenizer, ingredients,name,vectorstore)\n",
        "        #print(\"\\n=== Complete Recipe Information ===\")\n",
        "        #print(\"Original Recipe:\", generated_recipe['original_recipe'])\n",
        "        #print(\"\\nSubstitutions Made:\", generated_recipe['substitutions'])\n",
        "        #print(\"\\nModified Recipe:\", generated_recipe['modified_recipe'])\n",
        "        recipe_dict = {\n",
        "            \"name\": name,\n",
        "            \"ingredients\": ingredients,\n",
        "            \"modified\": generated_recipe['modified_recipe'],\n",
        "            \"reference_instructions\": reference_instructions\n",
        "\n",
        "        }\n",
        "        recipes.append(recipe_dict)\n",
        "        if len(recipes) % 50 == 0:\n",
        "            temp_file = f\"generated_recipes_temp_{len(recipes)}.json\"\n",
        "            with open(temp_file, \"w\") as f:\n",
        "                json.dump(recipes, f, indent=4)\n",
        "            print(f\"\\nProgress saved to {temp_file}\")\n",
        "\n",
        "    output_file = \"generated_recipes_500.json\"\n",
        "    with open(output_file, \"w\") as f:\n",
        "        json.dump(recipes, f, indent=4)\n",
        "\n",
        "    print(f\"\\nAll recipes generated and saved to {output_file}\")\n",
        "\n",
        "if __name__ == \"__main__\":\n",
        "    main()"
      ]
    },
    {
      "cell_type": "code",
      "source": [],
      "metadata": {
        "id": "4jjBoN0y5Zbu"
      },
      "execution_count": null,
      "outputs": []
    }
  ]
}