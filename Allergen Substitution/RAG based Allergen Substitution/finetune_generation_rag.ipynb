{
  "nbformat": 4,
  "nbformat_minor": 0,
  "metadata": {
    "colab": {
      "provenance": [],
      "gpuType": "T4"
    },
    "kernelspec": {
      "name": "python3",
      "display_name": "Python 3"
    },
    "language_info": {
      "name": "python"
    },
    "accelerator": "GPU",
    "widgets": {
      "application/vnd.jupyter.widget-state+json": {
        "b05cf614706646059d9d9d1b0006fdea": {
          "model_module": "@jupyter-widgets/controls",
          "model_name": "HBoxModel",
          "model_module_version": "1.5.0",
          "state": {
            "_dom_classes": [],
            "_model_module": "@jupyter-widgets/controls",
            "_model_module_version": "1.5.0",
            "_model_name": "HBoxModel",
            "_view_count": null,
            "_view_module": "@jupyter-widgets/controls",
            "_view_module_version": "1.5.0",
            "_view_name": "HBoxView",
            "box_style": "",
            "children": [
              "IPY_MODEL_5ef5bd8f8f9446b196dae60c5ea8cee8",
              "IPY_MODEL_b7c7b25858004792972bb6f36a9471a7",
              "IPY_MODEL_b9f61ed2dedd4f6bb9e3557b4ecd0798"
            ],
            "layout": "IPY_MODEL_2e545cc537fd43119fba5a830363206d"
          }
        },
        "5ef5bd8f8f9446b196dae60c5ea8cee8": {
          "model_module": "@jupyter-widgets/controls",
          "model_name": "HTMLModel",
          "model_module_version": "1.5.0",
          "state": {
            "_dom_classes": [],
            "_model_module": "@jupyter-widgets/controls",
            "_model_module_version": "1.5.0",
            "_model_name": "HTMLModel",
            "_view_count": null,
            "_view_module": "@jupyter-widgets/controls",
            "_view_module_version": "1.5.0",
            "_view_name": "HTMLView",
            "description": "",
            "description_tooltip": null,
            "layout": "IPY_MODEL_cae7835c2a454c72ac460aa53cdb7d90",
            "placeholder": "​",
            "style": "IPY_MODEL_471dd769fb224555a1ba4ae3136de02e",
            "value": "merges.txt: 100%"
          }
        },
        "b7c7b25858004792972bb6f36a9471a7": {
          "model_module": "@jupyter-widgets/controls",
          "model_name": "FloatProgressModel",
          "model_module_version": "1.5.0",
          "state": {
            "_dom_classes": [],
            "_model_module": "@jupyter-widgets/controls",
            "_model_module_version": "1.5.0",
            "_model_name": "FloatProgressModel",
            "_view_count": null,
            "_view_module": "@jupyter-widgets/controls",
            "_view_module_version": "1.5.0",
            "_view_name": "ProgressView",
            "bar_style": "success",
            "description": "",
            "description_tooltip": null,
            "layout": "IPY_MODEL_f9dd615e75cf49a4a0a1b6134e4e4909",
            "max": 456318,
            "min": 0,
            "orientation": "horizontal",
            "style": "IPY_MODEL_e4537e11a81b431abad9ad3328d52199",
            "value": 456318
          }
        },
        "b9f61ed2dedd4f6bb9e3557b4ecd0798": {
          "model_module": "@jupyter-widgets/controls",
          "model_name": "HTMLModel",
          "model_module_version": "1.5.0",
          "state": {
            "_dom_classes": [],
            "_model_module": "@jupyter-widgets/controls",
            "_model_module_version": "1.5.0",
            "_model_name": "HTMLModel",
            "_view_count": null,
            "_view_module": "@jupyter-widgets/controls",
            "_view_module_version": "1.5.0",
            "_view_name": "HTMLView",
            "description": "",
            "description_tooltip": null,
            "layout": "IPY_MODEL_fcea6099328543d8b6c22f19e51ebfdd",
            "placeholder": "​",
            "style": "IPY_MODEL_33b43ebf88d24b65ac638621ad33e71a",
            "value": " 456k/456k [00:00&lt;00:00, 3.35MB/s]"
          }
        },
        "2e545cc537fd43119fba5a830363206d": {
          "model_module": "@jupyter-widgets/base",
          "model_name": "LayoutModel",
          "model_module_version": "1.2.0",
          "state": {
            "_model_module": "@jupyter-widgets/base",
            "_model_module_version": "1.2.0",
            "_model_name": "LayoutModel",
            "_view_count": null,
            "_view_module": "@jupyter-widgets/base",
            "_view_module_version": "1.2.0",
            "_view_name": "LayoutView",
            "align_content": null,
            "align_items": null,
            "align_self": null,
            "border": null,
            "bottom": null,
            "display": null,
            "flex": null,
            "flex_flow": null,
            "grid_area": null,
            "grid_auto_columns": null,
            "grid_auto_flow": null,
            "grid_auto_rows": null,
            "grid_column": null,
            "grid_gap": null,
            "grid_row": null,
            "grid_template_areas": null,
            "grid_template_columns": null,
            "grid_template_rows": null,
            "height": null,
            "justify_content": null,
            "justify_items": null,
            "left": null,
            "margin": null,
            "max_height": null,
            "max_width": null,
            "min_height": null,
            "min_width": null,
            "object_fit": null,
            "object_position": null,
            "order": null,
            "overflow": null,
            "overflow_x": null,
            "overflow_y": null,
            "padding": null,
            "right": null,
            "top": null,
            "visibility": null,
            "width": null
          }
        },
        "cae7835c2a454c72ac460aa53cdb7d90": {
          "model_module": "@jupyter-widgets/base",
          "model_name": "LayoutModel",
          "model_module_version": "1.2.0",
          "state": {
            "_model_module": "@jupyter-widgets/base",
            "_model_module_version": "1.2.0",
            "_model_name": "LayoutModel",
            "_view_count": null,
            "_view_module": "@jupyter-widgets/base",
            "_view_module_version": "1.2.0",
            "_view_name": "LayoutView",
            "align_content": null,
            "align_items": null,
            "align_self": null,
            "border": null,
            "bottom": null,
            "display": null,
            "flex": null,
            "flex_flow": null,
            "grid_area": null,
            "grid_auto_columns": null,
            "grid_auto_flow": null,
            "grid_auto_rows": null,
            "grid_column": null,
            "grid_gap": null,
            "grid_row": null,
            "grid_template_areas": null,
            "grid_template_columns": null,
            "grid_template_rows": null,
            "height": null,
            "justify_content": null,
            "justify_items": null,
            "left": null,
            "margin": null,
            "max_height": null,
            "max_width": null,
            "min_height": null,
            "min_width": null,
            "object_fit": null,
            "object_position": null,
            "order": null,
            "overflow": null,
            "overflow_x": null,
            "overflow_y": null,
            "padding": null,
            "right": null,
            "top": null,
            "visibility": null,
            "width": null
          }
        },
        "471dd769fb224555a1ba4ae3136de02e": {
          "model_module": "@jupyter-widgets/controls",
          "model_name": "DescriptionStyleModel",
          "model_module_version": "1.5.0",
          "state": {
            "_model_module": "@jupyter-widgets/controls",
            "_model_module_version": "1.5.0",
            "_model_name": "DescriptionStyleModel",
            "_view_count": null,
            "_view_module": "@jupyter-widgets/base",
            "_view_module_version": "1.2.0",
            "_view_name": "StyleView",
            "description_width": ""
          }
        },
        "f9dd615e75cf49a4a0a1b6134e4e4909": {
          "model_module": "@jupyter-widgets/base",
          "model_name": "LayoutModel",
          "model_module_version": "1.2.0",
          "state": {
            "_model_module": "@jupyter-widgets/base",
            "_model_module_version": "1.2.0",
            "_model_name": "LayoutModel",
            "_view_count": null,
            "_view_module": "@jupyter-widgets/base",
            "_view_module_version": "1.2.0",
            "_view_name": "LayoutView",
            "align_content": null,
            "align_items": null,
            "align_self": null,
            "border": null,
            "bottom": null,
            "display": null,
            "flex": null,
            "flex_flow": null,
            "grid_area": null,
            "grid_auto_columns": null,
            "grid_auto_flow": null,
            "grid_auto_rows": null,
            "grid_column": null,
            "grid_gap": null,
            "grid_row": null,
            "grid_template_areas": null,
            "grid_template_columns": null,
            "grid_template_rows": null,
            "height": null,
            "justify_content": null,
            "justify_items": null,
            "left": null,
            "margin": null,
            "max_height": null,
            "max_width": null,
            "min_height": null,
            "min_width": null,
            "object_fit": null,
            "object_position": null,
            "order": null,
            "overflow": null,
            "overflow_x": null,
            "overflow_y": null,
            "padding": null,
            "right": null,
            "top": null,
            "visibility": null,
            "width": null
          }
        },
        "e4537e11a81b431abad9ad3328d52199": {
          "model_module": "@jupyter-widgets/controls",
          "model_name": "ProgressStyleModel",
          "model_module_version": "1.5.0",
          "state": {
            "_model_module": "@jupyter-widgets/controls",
            "_model_module_version": "1.5.0",
            "_model_name": "ProgressStyleModel",
            "_view_count": null,
            "_view_module": "@jupyter-widgets/base",
            "_view_module_version": "1.2.0",
            "_view_name": "StyleView",
            "bar_color": null,
            "description_width": ""
          }
        },
        "fcea6099328543d8b6c22f19e51ebfdd": {
          "model_module": "@jupyter-widgets/base",
          "model_name": "LayoutModel",
          "model_module_version": "1.2.0",
          "state": {
            "_model_module": "@jupyter-widgets/base",
            "_model_module_version": "1.2.0",
            "_model_name": "LayoutModel",
            "_view_count": null,
            "_view_module": "@jupyter-widgets/base",
            "_view_module_version": "1.2.0",
            "_view_name": "LayoutView",
            "align_content": null,
            "align_items": null,
            "align_self": null,
            "border": null,
            "bottom": null,
            "display": null,
            "flex": null,
            "flex_flow": null,
            "grid_area": null,
            "grid_auto_columns": null,
            "grid_auto_flow": null,
            "grid_auto_rows": null,
            "grid_column": null,
            "grid_gap": null,
            "grid_row": null,
            "grid_template_areas": null,
            "grid_template_columns": null,
            "grid_template_rows": null,
            "height": null,
            "justify_content": null,
            "justify_items": null,
            "left": null,
            "margin": null,
            "max_height": null,
            "max_width": null,
            "min_height": null,
            "min_width": null,
            "object_fit": null,
            "object_position": null,
            "order": null,
            "overflow": null,
            "overflow_x": null,
            "overflow_y": null,
            "padding": null,
            "right": null,
            "top": null,
            "visibility": null,
            "width": null
          }
        },
        "33b43ebf88d24b65ac638621ad33e71a": {
          "model_module": "@jupyter-widgets/controls",
          "model_name": "DescriptionStyleModel",
          "model_module_version": "1.5.0",
          "state": {
            "_model_module": "@jupyter-widgets/controls",
            "_model_module_version": "1.5.0",
            "_model_name": "DescriptionStyleModel",
            "_view_count": null,
            "_view_module": "@jupyter-widgets/base",
            "_view_module_version": "1.2.0",
            "_view_name": "StyleView",
            "description_width": ""
          }
        },
        "cdfda798f92e48359728f060670ada43": {
          "model_module": "@jupyter-widgets/controls",
          "model_name": "HBoxModel",
          "model_module_version": "1.5.0",
          "state": {
            "_dom_classes": [],
            "_model_module": "@jupyter-widgets/controls",
            "_model_module_version": "1.5.0",
            "_model_name": "HBoxModel",
            "_view_count": null,
            "_view_module": "@jupyter-widgets/controls",
            "_view_module_version": "1.5.0",
            "_view_name": "HBoxView",
            "box_style": "",
            "children": [
              "IPY_MODEL_6b1903fcecbd4a4290c2ad13bafc4724",
              "IPY_MODEL_496967cfbbde4464b056a68e912191a6",
              "IPY_MODEL_8843adea4120404f97422620d2acb259"
            ],
            "layout": "IPY_MODEL_570ad1eaa05e4d42855772586e17883d"
          }
        },
        "6b1903fcecbd4a4290c2ad13bafc4724": {
          "model_module": "@jupyter-widgets/controls",
          "model_name": "HTMLModel",
          "model_module_version": "1.5.0",
          "state": {
            "_dom_classes": [],
            "_model_module": "@jupyter-widgets/controls",
            "_model_module_version": "1.5.0",
            "_model_name": "HTMLModel",
            "_view_count": null,
            "_view_module": "@jupyter-widgets/controls",
            "_view_module_version": "1.5.0",
            "_view_name": "HTMLView",
            "description": "",
            "description_tooltip": null,
            "layout": "IPY_MODEL_bf7d2c633e0840d1901395927d12cb7a",
            "placeholder": "​",
            "style": "IPY_MODEL_2bd4d90c353b457c8950daf379ffecf1",
            "value": "tokenizer.json: 100%"
          }
        },
        "496967cfbbde4464b056a68e912191a6": {
          "model_module": "@jupyter-widgets/controls",
          "model_name": "FloatProgressModel",
          "model_module_version": "1.5.0",
          "state": {
            "_dom_classes": [],
            "_model_module": "@jupyter-widgets/controls",
            "_model_module_version": "1.5.0",
            "_model_name": "FloatProgressModel",
            "_view_count": null,
            "_view_module": "@jupyter-widgets/controls",
            "_view_module_version": "1.5.0",
            "_view_name": "ProgressView",
            "bar_style": "success",
            "description": "",
            "description_tooltip": null,
            "layout": "IPY_MODEL_ec517ef98ef94491ad3c0ad0c0b79f7f",
            "max": 2114924,
            "min": 0,
            "orientation": "horizontal",
            "style": "IPY_MODEL_dea7e92dc80a4b62a77aaf6aa14c92af",
            "value": 2114924
          }
        },
        "8843adea4120404f97422620d2acb259": {
          "model_module": "@jupyter-widgets/controls",
          "model_name": "HTMLModel",
          "model_module_version": "1.5.0",
          "state": {
            "_dom_classes": [],
            "_model_module": "@jupyter-widgets/controls",
            "_model_module_version": "1.5.0",
            "_model_name": "HTMLModel",
            "_view_count": null,
            "_view_module": "@jupyter-widgets/controls",
            "_view_module_version": "1.5.0",
            "_view_name": "HTMLView",
            "description": "",
            "description_tooltip": null,
            "layout": "IPY_MODEL_68c0ab59cbfa46278029190c1843424b",
            "placeholder": "​",
            "style": "IPY_MODEL_4733eef1a7d041a29e1d671519d8f67c",
            "value": " 2.11M/2.11M [00:00&lt;00:00, 8.00MB/s]"
          }
        },
        "570ad1eaa05e4d42855772586e17883d": {
          "model_module": "@jupyter-widgets/base",
          "model_name": "LayoutModel",
          "model_module_version": "1.2.0",
          "state": {
            "_model_module": "@jupyter-widgets/base",
            "_model_module_version": "1.2.0",
            "_model_name": "LayoutModel",
            "_view_count": null,
            "_view_module": "@jupyter-widgets/base",
            "_view_module_version": "1.2.0",
            "_view_name": "LayoutView",
            "align_content": null,
            "align_items": null,
            "align_self": null,
            "border": null,
            "bottom": null,
            "display": null,
            "flex": null,
            "flex_flow": null,
            "grid_area": null,
            "grid_auto_columns": null,
            "grid_auto_flow": null,
            "grid_auto_rows": null,
            "grid_column": null,
            "grid_gap": null,
            "grid_row": null,
            "grid_template_areas": null,
            "grid_template_columns": null,
            "grid_template_rows": null,
            "height": null,
            "justify_content": null,
            "justify_items": null,
            "left": null,
            "margin": null,
            "max_height": null,
            "max_width": null,
            "min_height": null,
            "min_width": null,
            "object_fit": null,
            "object_position": null,
            "order": null,
            "overflow": null,
            "overflow_x": null,
            "overflow_y": null,
            "padding": null,
            "right": null,
            "top": null,
            "visibility": null,
            "width": null
          }
        },
        "bf7d2c633e0840d1901395927d12cb7a": {
          "model_module": "@jupyter-widgets/base",
          "model_name": "LayoutModel",
          "model_module_version": "1.2.0",
          "state": {
            "_model_module": "@jupyter-widgets/base",
            "_model_module_version": "1.2.0",
            "_model_name": "LayoutModel",
            "_view_count": null,
            "_view_module": "@jupyter-widgets/base",
            "_view_module_version": "1.2.0",
            "_view_name": "LayoutView",
            "align_content": null,
            "align_items": null,
            "align_self": null,
            "border": null,
            "bottom": null,
            "display": null,
            "flex": null,
            "flex_flow": null,
            "grid_area": null,
            "grid_auto_columns": null,
            "grid_auto_flow": null,
            "grid_auto_rows": null,
            "grid_column": null,
            "grid_gap": null,
            "grid_row": null,
            "grid_template_areas": null,
            "grid_template_columns": null,
            "grid_template_rows": null,
            "height": null,
            "justify_content": null,
            "justify_items": null,
            "left": null,
            "margin": null,
            "max_height": null,
            "max_width": null,
            "min_height": null,
            "min_width": null,
            "object_fit": null,
            "object_position": null,
            "order": null,
            "overflow": null,
            "overflow_x": null,
            "overflow_y": null,
            "padding": null,
            "right": null,
            "top": null,
            "visibility": null,
            "width": null
          }
        },
        "2bd4d90c353b457c8950daf379ffecf1": {
          "model_module": "@jupyter-widgets/controls",
          "model_name": "DescriptionStyleModel",
          "model_module_version": "1.5.0",
          "state": {
            "_model_module": "@jupyter-widgets/controls",
            "_model_module_version": "1.5.0",
            "_model_name": "DescriptionStyleModel",
            "_view_count": null,
            "_view_module": "@jupyter-widgets/base",
            "_view_module_version": "1.2.0",
            "_view_name": "StyleView",
            "description_width": ""
          }
        },
        "ec517ef98ef94491ad3c0ad0c0b79f7f": {
          "model_module": "@jupyter-widgets/base",
          "model_name": "LayoutModel",
          "model_module_version": "1.2.0",
          "state": {
            "_model_module": "@jupyter-widgets/base",
            "_model_module_version": "1.2.0",
            "_model_name": "LayoutModel",
            "_view_count": null,
            "_view_module": "@jupyter-widgets/base",
            "_view_module_version": "1.2.0",
            "_view_name": "LayoutView",
            "align_content": null,
            "align_items": null,
            "align_self": null,
            "border": null,
            "bottom": null,
            "display": null,
            "flex": null,
            "flex_flow": null,
            "grid_area": null,
            "grid_auto_columns": null,
            "grid_auto_flow": null,
            "grid_auto_rows": null,
            "grid_column": null,
            "grid_gap": null,
            "grid_row": null,
            "grid_template_areas": null,
            "grid_template_columns": null,
            "grid_template_rows": null,
            "height": null,
            "justify_content": null,
            "justify_items": null,
            "left": null,
            "margin": null,
            "max_height": null,
            "max_width": null,
            "min_height": null,
            "min_width": null,
            "object_fit": null,
            "object_position": null,
            "order": null,
            "overflow": null,
            "overflow_x": null,
            "overflow_y": null,
            "padding": null,
            "right": null,
            "top": null,
            "visibility": null,
            "width": null
          }
        },
        "dea7e92dc80a4b62a77aaf6aa14c92af": {
          "model_module": "@jupyter-widgets/controls",
          "model_name": "ProgressStyleModel",
          "model_module_version": "1.5.0",
          "state": {
            "_model_module": "@jupyter-widgets/controls",
            "_model_module_version": "1.5.0",
            "_model_name": "ProgressStyleModel",
            "_view_count": null,
            "_view_module": "@jupyter-widgets/base",
            "_view_module_version": "1.2.0",
            "_view_name": "StyleView",
            "bar_color": null,
            "description_width": ""
          }
        },
        "68c0ab59cbfa46278029190c1843424b": {
          "model_module": "@jupyter-widgets/base",
          "model_name": "LayoutModel",
          "model_module_version": "1.2.0",
          "state": {
            "_model_module": "@jupyter-widgets/base",
            "_model_module_version": "1.2.0",
            "_model_name": "LayoutModel",
            "_view_count": null,
            "_view_module": "@jupyter-widgets/base",
            "_view_module_version": "1.2.0",
            "_view_name": "LayoutView",
            "align_content": null,
            "align_items": null,
            "align_self": null,
            "border": null,
            "bottom": null,
            "display": null,
            "flex": null,
            "flex_flow": null,
            "grid_area": null,
            "grid_auto_columns": null,
            "grid_auto_flow": null,
            "grid_auto_rows": null,
            "grid_column": null,
            "grid_gap": null,
            "grid_row": null,
            "grid_template_areas": null,
            "grid_template_columns": null,
            "grid_template_rows": null,
            "height": null,
            "justify_content": null,
            "justify_items": null,
            "left": null,
            "margin": null,
            "max_height": null,
            "max_width": null,
            "min_height": null,
            "min_width": null,
            "object_fit": null,
            "object_position": null,
            "order": null,
            "overflow": null,
            "overflow_x": null,
            "overflow_y": null,
            "padding": null,
            "right": null,
            "top": null,
            "visibility": null,
            "width": null
          }
        },
        "4733eef1a7d041a29e1d671519d8f67c": {
          "model_module": "@jupyter-widgets/controls",
          "model_name": "DescriptionStyleModel",
          "model_module_version": "1.5.0",
          "state": {
            "_model_module": "@jupyter-widgets/controls",
            "_model_module_version": "1.5.0",
            "_model_name": "DescriptionStyleModel",
            "_view_count": null,
            "_view_module": "@jupyter-widgets/base",
            "_view_module_version": "1.2.0",
            "_view_name": "StyleView",
            "description_width": ""
          }
        },
        "33f1d3f376094b18a7a7d29ad9edc05a": {
          "model_module": "@jupyter-widgets/controls",
          "model_name": "HBoxModel",
          "model_module_version": "1.5.0",
          "state": {
            "_dom_classes": [],
            "_model_module": "@jupyter-widgets/controls",
            "_model_module_version": "1.5.0",
            "_model_name": "HBoxModel",
            "_view_count": null,
            "_view_module": "@jupyter-widgets/controls",
            "_view_module_version": "1.5.0",
            "_view_name": "HBoxView",
            "box_style": "",
            "children": [
              "IPY_MODEL_7c4ac54361d14c0fb1d64c93bbacdc7b",
              "IPY_MODEL_7a69f1473a9a4d0581ab573b24bce0a5",
              "IPY_MODEL_ac1dba2d0ec44897946220cdfb10c379"
            ],
            "layout": "IPY_MODEL_9bea26c4ca234723a1acf133483fd0f3"
          }
        },
        "7c4ac54361d14c0fb1d64c93bbacdc7b": {
          "model_module": "@jupyter-widgets/controls",
          "model_name": "HTMLModel",
          "model_module_version": "1.5.0",
          "state": {
            "_dom_classes": [],
            "_model_module": "@jupyter-widgets/controls",
            "_model_module_version": "1.5.0",
            "_model_name": "HTMLModel",
            "_view_count": null,
            "_view_module": "@jupyter-widgets/controls",
            "_view_module_version": "1.5.0",
            "_view_name": "HTMLView",
            "description": "",
            "description_tooltip": null,
            "layout": "IPY_MODEL_242331e1742a466894588fa27b9004e9",
            "placeholder": "​",
            "style": "IPY_MODEL_51d0e69213ae475fb98ad3168e5fbd01",
            "value": "added_tokens.json: 100%"
          }
        },
        "7a69f1473a9a4d0581ab573b24bce0a5": {
          "model_module": "@jupyter-widgets/controls",
          "model_name": "FloatProgressModel",
          "model_module_version": "1.5.0",
          "state": {
            "_dom_classes": [],
            "_model_module": "@jupyter-widgets/controls",
            "_model_module_version": "1.5.0",
            "_model_name": "FloatProgressModel",
            "_view_count": null,
            "_view_module": "@jupyter-widgets/controls",
            "_view_module_version": "1.5.0",
            "_view_name": "ProgressView",
            "bar_style": "success",
            "description": "",
            "description_tooltip": null,
            "layout": "IPY_MODEL_eac8be869fd3415aac3b931d4677d3c5",
            "max": 1080,
            "min": 0,
            "orientation": "horizontal",
            "style": "IPY_MODEL_ae4bb40064164e4f9896c58a10ca9007",
            "value": 1080
          }
        },
        "ac1dba2d0ec44897946220cdfb10c379": {
          "model_module": "@jupyter-widgets/controls",
          "model_name": "HTMLModel",
          "model_module_version": "1.5.0",
          "state": {
            "_dom_classes": [],
            "_model_module": "@jupyter-widgets/controls",
            "_model_module_version": "1.5.0",
            "_model_name": "HTMLModel",
            "_view_count": null,
            "_view_module": "@jupyter-widgets/controls",
            "_view_module_version": "1.5.0",
            "_view_name": "HTMLView",
            "description": "",
            "description_tooltip": null,
            "layout": "IPY_MODEL_da0ac20ea72644cfa251c8759313380e",
            "placeholder": "​",
            "style": "IPY_MODEL_8fc09e087ab945c78e29b72603187d53",
            "value": " 1.08k/1.08k [00:00&lt;00:00, 67.6kB/s]"
          }
        },
        "9bea26c4ca234723a1acf133483fd0f3": {
          "model_module": "@jupyter-widgets/base",
          "model_name": "LayoutModel",
          "model_module_version": "1.2.0",
          "state": {
            "_model_module": "@jupyter-widgets/base",
            "_model_module_version": "1.2.0",
            "_model_name": "LayoutModel",
            "_view_count": null,
            "_view_module": "@jupyter-widgets/base",
            "_view_module_version": "1.2.0",
            "_view_name": "LayoutView",
            "align_content": null,
            "align_items": null,
            "align_self": null,
            "border": null,
            "bottom": null,
            "display": null,
            "flex": null,
            "flex_flow": null,
            "grid_area": null,
            "grid_auto_columns": null,
            "grid_auto_flow": null,
            "grid_auto_rows": null,
            "grid_column": null,
            "grid_gap": null,
            "grid_row": null,
            "grid_template_areas": null,
            "grid_template_columns": null,
            "grid_template_rows": null,
            "height": null,
            "justify_content": null,
            "justify_items": null,
            "left": null,
            "margin": null,
            "max_height": null,
            "max_width": null,
            "min_height": null,
            "min_width": null,
            "object_fit": null,
            "object_position": null,
            "order": null,
            "overflow": null,
            "overflow_x": null,
            "overflow_y": null,
            "padding": null,
            "right": null,
            "top": null,
            "visibility": null,
            "width": null
          }
        },
        "242331e1742a466894588fa27b9004e9": {
          "model_module": "@jupyter-widgets/base",
          "model_name": "LayoutModel",
          "model_module_version": "1.2.0",
          "state": {
            "_model_module": "@jupyter-widgets/base",
            "_model_module_version": "1.2.0",
            "_model_name": "LayoutModel",
            "_view_count": null,
            "_view_module": "@jupyter-widgets/base",
            "_view_module_version": "1.2.0",
            "_view_name": "LayoutView",
            "align_content": null,
            "align_items": null,
            "align_self": null,
            "border": null,
            "bottom": null,
            "display": null,
            "flex": null,
            "flex_flow": null,
            "grid_area": null,
            "grid_auto_columns": null,
            "grid_auto_flow": null,
            "grid_auto_rows": null,
            "grid_column": null,
            "grid_gap": null,
            "grid_row": null,
            "grid_template_areas": null,
            "grid_template_columns": null,
            "grid_template_rows": null,
            "height": null,
            "justify_content": null,
            "justify_items": null,
            "left": null,
            "margin": null,
            "max_height": null,
            "max_width": null,
            "min_height": null,
            "min_width": null,
            "object_fit": null,
            "object_position": null,
            "order": null,
            "overflow": null,
            "overflow_x": null,
            "overflow_y": null,
            "padding": null,
            "right": null,
            "top": null,
            "visibility": null,
            "width": null
          }
        },
        "51d0e69213ae475fb98ad3168e5fbd01": {
          "model_module": "@jupyter-widgets/controls",
          "model_name": "DescriptionStyleModel",
          "model_module_version": "1.5.0",
          "state": {
            "_model_module": "@jupyter-widgets/controls",
            "_model_module_version": "1.5.0",
            "_model_name": "DescriptionStyleModel",
            "_view_count": null,
            "_view_module": "@jupyter-widgets/base",
            "_view_module_version": "1.2.0",
            "_view_name": "StyleView",
            "description_width": ""
          }
        },
        "eac8be869fd3415aac3b931d4677d3c5": {
          "model_module": "@jupyter-widgets/base",
          "model_name": "LayoutModel",
          "model_module_version": "1.2.0",
          "state": {
            "_model_module": "@jupyter-widgets/base",
            "_model_module_version": "1.2.0",
            "_model_name": "LayoutModel",
            "_view_count": null,
            "_view_module": "@jupyter-widgets/base",
            "_view_module_version": "1.2.0",
            "_view_name": "LayoutView",
            "align_content": null,
            "align_items": null,
            "align_self": null,
            "border": null,
            "bottom": null,
            "display": null,
            "flex": null,
            "flex_flow": null,
            "grid_area": null,
            "grid_auto_columns": null,
            "grid_auto_flow": null,
            "grid_auto_rows": null,
            "grid_column": null,
            "grid_gap": null,
            "grid_row": null,
            "grid_template_areas": null,
            "grid_template_columns": null,
            "grid_template_rows": null,
            "height": null,
            "justify_content": null,
            "justify_items": null,
            "left": null,
            "margin": null,
            "max_height": null,
            "max_width": null,
            "min_height": null,
            "min_width": null,
            "object_fit": null,
            "object_position": null,
            "order": null,
            "overflow": null,
            "overflow_x": null,
            "overflow_y": null,
            "padding": null,
            "right": null,
            "top": null,
            "visibility": null,
            "width": null
          }
        },
        "ae4bb40064164e4f9896c58a10ca9007": {
          "model_module": "@jupyter-widgets/controls",
          "model_name": "ProgressStyleModel",
          "model_module_version": "1.5.0",
          "state": {
            "_model_module": "@jupyter-widgets/controls",
            "_model_module_version": "1.5.0",
            "_model_name": "ProgressStyleModel",
            "_view_count": null,
            "_view_module": "@jupyter-widgets/base",
            "_view_module_version": "1.2.0",
            "_view_name": "StyleView",
            "bar_color": null,
            "description_width": ""
          }
        },
        "da0ac20ea72644cfa251c8759313380e": {
          "model_module": "@jupyter-widgets/base",
          "model_name": "LayoutModel",
          "model_module_version": "1.2.0",
          "state": {
            "_model_module": "@jupyter-widgets/base",
            "_model_module_version": "1.2.0",
            "_model_name": "LayoutModel",
            "_view_count": null,
            "_view_module": "@jupyter-widgets/base",
            "_view_module_version": "1.2.0",
            "_view_name": "LayoutView",
            "align_content": null,
            "align_items": null,
            "align_self": null,
            "border": null,
            "bottom": null,
            "display": null,
            "flex": null,
            "flex_flow": null,
            "grid_area": null,
            "grid_auto_columns": null,
            "grid_auto_flow": null,
            "grid_auto_rows": null,
            "grid_column": null,
            "grid_gap": null,
            "grid_row": null,
            "grid_template_areas": null,
            "grid_template_columns": null,
            "grid_template_rows": null,
            "height": null,
            "justify_content": null,
            "justify_items": null,
            "left": null,
            "margin": null,
            "max_height": null,
            "max_width": null,
            "min_height": null,
            "min_width": null,
            "object_fit": null,
            "object_position": null,
            "order": null,
            "overflow": null,
            "overflow_x": null,
            "overflow_y": null,
            "padding": null,
            "right": null,
            "top": null,
            "visibility": null,
            "width": null
          }
        },
        "8fc09e087ab945c78e29b72603187d53": {
          "model_module": "@jupyter-widgets/controls",
          "model_name": "DescriptionStyleModel",
          "model_module_version": "1.5.0",
          "state": {
            "_model_module": "@jupyter-widgets/controls",
            "_model_module_version": "1.5.0",
            "_model_name": "DescriptionStyleModel",
            "_view_count": null,
            "_view_module": "@jupyter-widgets/base",
            "_view_module_version": "1.2.0",
            "_view_name": "StyleView",
            "description_width": ""
          }
        },
        "ce64af7045264724adf9936e3d8d1de7": {
          "model_module": "@jupyter-widgets/controls",
          "model_name": "HBoxModel",
          "model_module_version": "1.5.0",
          "state": {
            "_dom_classes": [],
            "_model_module": "@jupyter-widgets/controls",
            "_model_module_version": "1.5.0",
            "_model_name": "HBoxModel",
            "_view_count": null,
            "_view_module": "@jupyter-widgets/controls",
            "_view_module_version": "1.5.0",
            "_view_name": "HBoxView",
            "box_style": "",
            "children": [
              "IPY_MODEL_f5f56f19d0e24980ac310587d4609f93",
              "IPY_MODEL_8cbdafc3c46a4dd29c7d71019e020324",
              "IPY_MODEL_920a04a33dd54d3fb3265e6b36c8403f"
            ],
            "layout": "IPY_MODEL_e710607933fd4cd2b95686b2c92e1585"
          }
        },
        "f5f56f19d0e24980ac310587d4609f93": {
          "model_module": "@jupyter-widgets/controls",
          "model_name": "HTMLModel",
          "model_module_version": "1.5.0",
          "state": {
            "_dom_classes": [],
            "_model_module": "@jupyter-widgets/controls",
            "_model_module_version": "1.5.0",
            "_model_name": "HTMLModel",
            "_view_count": null,
            "_view_module": "@jupyter-widgets/controls",
            "_view_module_version": "1.5.0",
            "_view_name": "HTMLView",
            "description": "",
            "description_tooltip": null,
            "layout": "IPY_MODEL_e834200c74764af5838cb1b4e6f368ba",
            "placeholder": "​",
            "style": "IPY_MODEL_882031f96f984d2392101dba2da21903",
            "value": "special_tokens_map.json: 100%"
          }
        },
        "8cbdafc3c46a4dd29c7d71019e020324": {
          "model_module": "@jupyter-widgets/controls",
          "model_name": "FloatProgressModel",
          "model_module_version": "1.5.0",
          "state": {
            "_dom_classes": [],
            "_model_module": "@jupyter-widgets/controls",
            "_model_module_version": "1.5.0",
            "_model_name": "FloatProgressModel",
            "_view_count": null,
            "_view_module": "@jupyter-widgets/controls",
            "_view_module_version": "1.5.0",
            "_view_name": "ProgressView",
            "bar_style": "success",
            "description": "",
            "description_tooltip": null,
            "layout": "IPY_MODEL_f5a46f57f980463a94e60933746ab3ed",
            "max": 99,
            "min": 0,
            "orientation": "horizontal",
            "style": "IPY_MODEL_0f48d54392134f3d87c560fb146ba3ad",
            "value": 99
          }
        },
        "920a04a33dd54d3fb3265e6b36c8403f": {
          "model_module": "@jupyter-widgets/controls",
          "model_name": "HTMLModel",
          "model_module_version": "1.5.0",
          "state": {
            "_dom_classes": [],
            "_model_module": "@jupyter-widgets/controls",
            "_model_module_version": "1.5.0",
            "_model_name": "HTMLModel",
            "_view_count": null,
            "_view_module": "@jupyter-widgets/controls",
            "_view_module_version": "1.5.0",
            "_view_name": "HTMLView",
            "description": "",
            "description_tooltip": null,
            "layout": "IPY_MODEL_502ce10e5f6f4721850347700b2a11a6",
            "placeholder": "​",
            "style": "IPY_MODEL_eb80f82114c44376917be11c038635d8",
            "value": " 99.0/99.0 [00:00&lt;00:00, 6.22kB/s]"
          }
        },
        "e710607933fd4cd2b95686b2c92e1585": {
          "model_module": "@jupyter-widgets/base",
          "model_name": "LayoutModel",
          "model_module_version": "1.2.0",
          "state": {
            "_model_module": "@jupyter-widgets/base",
            "_model_module_version": "1.2.0",
            "_model_name": "LayoutModel",
            "_view_count": null,
            "_view_module": "@jupyter-widgets/base",
            "_view_module_version": "1.2.0",
            "_view_name": "LayoutView",
            "align_content": null,
            "align_items": null,
            "align_self": null,
            "border": null,
            "bottom": null,
            "display": null,
            "flex": null,
            "flex_flow": null,
            "grid_area": null,
            "grid_auto_columns": null,
            "grid_auto_flow": null,
            "grid_auto_rows": null,
            "grid_column": null,
            "grid_gap": null,
            "grid_row": null,
            "grid_template_areas": null,
            "grid_template_columns": null,
            "grid_template_rows": null,
            "height": null,
            "justify_content": null,
            "justify_items": null,
            "left": null,
            "margin": null,
            "max_height": null,
            "max_width": null,
            "min_height": null,
            "min_width": null,
            "object_fit": null,
            "object_position": null,
            "order": null,
            "overflow": null,
            "overflow_x": null,
            "overflow_y": null,
            "padding": null,
            "right": null,
            "top": null,
            "visibility": null,
            "width": null
          }
        },
        "e834200c74764af5838cb1b4e6f368ba": {
          "model_module": "@jupyter-widgets/base",
          "model_name": "LayoutModel",
          "model_module_version": "1.2.0",
          "state": {
            "_model_module": "@jupyter-widgets/base",
            "_model_module_version": "1.2.0",
            "_model_name": "LayoutModel",
            "_view_count": null,
            "_view_module": "@jupyter-widgets/base",
            "_view_module_version": "1.2.0",
            "_view_name": "LayoutView",
            "align_content": null,
            "align_items": null,
            "align_self": null,
            "border": null,
            "bottom": null,
            "display": null,
            "flex": null,
            "flex_flow": null,
            "grid_area": null,
            "grid_auto_columns": null,
            "grid_auto_flow": null,
            "grid_auto_rows": null,
            "grid_column": null,
            "grid_gap": null,
            "grid_row": null,
            "grid_template_areas": null,
            "grid_template_columns": null,
            "grid_template_rows": null,
            "height": null,
            "justify_content": null,
            "justify_items": null,
            "left": null,
            "margin": null,
            "max_height": null,
            "max_width": null,
            "min_height": null,
            "min_width": null,
            "object_fit": null,
            "object_position": null,
            "order": null,
            "overflow": null,
            "overflow_x": null,
            "overflow_y": null,
            "padding": null,
            "right": null,
            "top": null,
            "visibility": null,
            "width": null
          }
        },
        "882031f96f984d2392101dba2da21903": {
          "model_module": "@jupyter-widgets/controls",
          "model_name": "DescriptionStyleModel",
          "model_module_version": "1.5.0",
          "state": {
            "_model_module": "@jupyter-widgets/controls",
            "_model_module_version": "1.5.0",
            "_model_name": "DescriptionStyleModel",
            "_view_count": null,
            "_view_module": "@jupyter-widgets/base",
            "_view_module_version": "1.2.0",
            "_view_name": "StyleView",
            "description_width": ""
          }
        },
        "f5a46f57f980463a94e60933746ab3ed": {
          "model_module": "@jupyter-widgets/base",
          "model_name": "LayoutModel",
          "model_module_version": "1.2.0",
          "state": {
            "_model_module": "@jupyter-widgets/base",
            "_model_module_version": "1.2.0",
            "_model_name": "LayoutModel",
            "_view_count": null,
            "_view_module": "@jupyter-widgets/base",
            "_view_module_version": "1.2.0",
            "_view_name": "LayoutView",
            "align_content": null,
            "align_items": null,
            "align_self": null,
            "border": null,
            "bottom": null,
            "display": null,
            "flex": null,
            "flex_flow": null,
            "grid_area": null,
            "grid_auto_columns": null,
            "grid_auto_flow": null,
            "grid_auto_rows": null,
            "grid_column": null,
            "grid_gap": null,
            "grid_row": null,
            "grid_template_areas": null,
            "grid_template_columns": null,
            "grid_template_rows": null,
            "height": null,
            "justify_content": null,
            "justify_items": null,
            "left": null,
            "margin": null,
            "max_height": null,
            "max_width": null,
            "min_height": null,
            "min_width": null,
            "object_fit": null,
            "object_position": null,
            "order": null,
            "overflow": null,
            "overflow_x": null,
            "overflow_y": null,
            "padding": null,
            "right": null,
            "top": null,
            "visibility": null,
            "width": null
          }
        },
        "0f48d54392134f3d87c560fb146ba3ad": {
          "model_module": "@jupyter-widgets/controls",
          "model_name": "ProgressStyleModel",
          "model_module_version": "1.5.0",
          "state": {
            "_model_module": "@jupyter-widgets/controls",
            "_model_module_version": "1.5.0",
            "_model_name": "ProgressStyleModel",
            "_view_count": null,
            "_view_module": "@jupyter-widgets/base",
            "_view_module_version": "1.2.0",
            "_view_name": "StyleView",
            "bar_color": null,
            "description_width": ""
          }
        },
        "502ce10e5f6f4721850347700b2a11a6": {
          "model_module": "@jupyter-widgets/base",
          "model_name": "LayoutModel",
          "model_module_version": "1.2.0",
          "state": {
            "_model_module": "@jupyter-widgets/base",
            "_model_module_version": "1.2.0",
            "_model_name": "LayoutModel",
            "_view_count": null,
            "_view_module": "@jupyter-widgets/base",
            "_view_module_version": "1.2.0",
            "_view_name": "LayoutView",
            "align_content": null,
            "align_items": null,
            "align_self": null,
            "border": null,
            "bottom": null,
            "display": null,
            "flex": null,
            "flex_flow": null,
            "grid_area": null,
            "grid_auto_columns": null,
            "grid_auto_flow": null,
            "grid_auto_rows": null,
            "grid_column": null,
            "grid_gap": null,
            "grid_row": null,
            "grid_template_areas": null,
            "grid_template_columns": null,
            "grid_template_rows": null,
            "height": null,
            "justify_content": null,
            "justify_items": null,
            "left": null,
            "margin": null,
            "max_height": null,
            "max_width": null,
            "min_height": null,
            "min_width": null,
            "object_fit": null,
            "object_position": null,
            "order": null,
            "overflow": null,
            "overflow_x": null,
            "overflow_y": null,
            "padding": null,
            "right": null,
            "top": null,
            "visibility": null,
            "width": null
          }
        },
        "eb80f82114c44376917be11c038635d8": {
          "model_module": "@jupyter-widgets/controls",
          "model_name": "DescriptionStyleModel",
          "model_module_version": "1.5.0",
          "state": {
            "_model_module": "@jupyter-widgets/controls",
            "_model_module_version": "1.5.0",
            "_model_name": "DescriptionStyleModel",
            "_view_count": null,
            "_view_module": "@jupyter-widgets/base",
            "_view_module_version": "1.2.0",
            "_view_name": "StyleView",
            "description_width": ""
          }
        },
        "cb5fe39f6f734d5c90c9610ca96d94be": {
          "model_module": "@jupyter-widgets/controls",
          "model_name": "HBoxModel",
          "model_module_version": "1.5.0",
          "state": {
            "_dom_classes": [],
            "_model_module": "@jupyter-widgets/controls",
            "_model_module_version": "1.5.0",
            "_model_name": "HBoxModel",
            "_view_count": null,
            "_view_module": "@jupyter-widgets/controls",
            "_view_module_version": "1.5.0",
            "_view_name": "HBoxView",
            "box_style": "",
            "children": [
              "IPY_MODEL_d79ef78491b1413e911e879128bd3117",
              "IPY_MODEL_ff18ecdb8cd84b3e95099646f78991ab",
              "IPY_MODEL_af0107038c9a4bec96e4f1a1f57a4b38"
            ],
            "layout": "IPY_MODEL_3d6b6f44c6a84036a40c8eabb0e3d839"
          }
        },
        "d79ef78491b1413e911e879128bd3117": {
          "model_module": "@jupyter-widgets/controls",
          "model_name": "HTMLModel",
          "model_module_version": "1.5.0",
          "state": {
            "_dom_classes": [],
            "_model_module": "@jupyter-widgets/controls",
            "_model_module_version": "1.5.0",
            "_model_name": "HTMLModel",
            "_view_count": null,
            "_view_module": "@jupyter-widgets/controls",
            "_view_module_version": "1.5.0",
            "_view_name": "HTMLView",
            "description": "",
            "description_tooltip": null,
            "layout": "IPY_MODEL_ce9af4ba6ecf480fb6de5f4825501e48",
            "placeholder": "​",
            "style": "IPY_MODEL_652c77413ad2437b82ac8d7d6c6b8526",
            "value": "config.json: 100%"
          }
        },
        "ff18ecdb8cd84b3e95099646f78991ab": {
          "model_module": "@jupyter-widgets/controls",
          "model_name": "FloatProgressModel",
          "model_module_version": "1.5.0",
          "state": {
            "_dom_classes": [],
            "_model_module": "@jupyter-widgets/controls",
            "_model_module_version": "1.5.0",
            "_model_name": "FloatProgressModel",
            "_view_count": null,
            "_view_module": "@jupyter-widgets/controls",
            "_view_module_version": "1.5.0",
            "_view_name": "ProgressView",
            "bar_style": "success",
            "description": "",
            "description_tooltip": null,
            "layout": "IPY_MODEL_36d938ff8b314beebeabc63faeccda08",
            "max": 735,
            "min": 0,
            "orientation": "horizontal",
            "style": "IPY_MODEL_80a9fb34a8d94b1ea43fbfcc40bdc25e",
            "value": 735
          }
        },
        "af0107038c9a4bec96e4f1a1f57a4b38": {
          "model_module": "@jupyter-widgets/controls",
          "model_name": "HTMLModel",
          "model_module_version": "1.5.0",
          "state": {
            "_dom_classes": [],
            "_model_module": "@jupyter-widgets/controls",
            "_model_module_version": "1.5.0",
            "_model_name": "HTMLModel",
            "_view_count": null,
            "_view_module": "@jupyter-widgets/controls",
            "_view_module_version": "1.5.0",
            "_view_name": "HTMLView",
            "description": "",
            "description_tooltip": null,
            "layout": "IPY_MODEL_ba07a1a5db2d41d6ae571a49d97c55a4",
            "placeholder": "​",
            "style": "IPY_MODEL_5b85eb0f86734bef8b52d3d3bf300e02",
            "value": " 735/735 [00:00&lt;00:00, 63.6kB/s]"
          }
        },
        "3d6b6f44c6a84036a40c8eabb0e3d839": {
          "model_module": "@jupyter-widgets/base",
          "model_name": "LayoutModel",
          "model_module_version": "1.2.0",
          "state": {
            "_model_module": "@jupyter-widgets/base",
            "_model_module_version": "1.2.0",
            "_model_name": "LayoutModel",
            "_view_count": null,
            "_view_module": "@jupyter-widgets/base",
            "_view_module_version": "1.2.0",
            "_view_name": "LayoutView",
            "align_content": null,
            "align_items": null,
            "align_self": null,
            "border": null,
            "bottom": null,
            "display": null,
            "flex": null,
            "flex_flow": null,
            "grid_area": null,
            "grid_auto_columns": null,
            "grid_auto_flow": null,
            "grid_auto_rows": null,
            "grid_column": null,
            "grid_gap": null,
            "grid_row": null,
            "grid_template_areas": null,
            "grid_template_columns": null,
            "grid_template_rows": null,
            "height": null,
            "justify_content": null,
            "justify_items": null,
            "left": null,
            "margin": null,
            "max_height": null,
            "max_width": null,
            "min_height": null,
            "min_width": null,
            "object_fit": null,
            "object_position": null,
            "order": null,
            "overflow": null,
            "overflow_x": null,
            "overflow_y": null,
            "padding": null,
            "right": null,
            "top": null,
            "visibility": null,
            "width": null
          }
        },
        "ce9af4ba6ecf480fb6de5f4825501e48": {
          "model_module": "@jupyter-widgets/base",
          "model_name": "LayoutModel",
          "model_module_version": "1.2.0",
          "state": {
            "_model_module": "@jupyter-widgets/base",
            "_model_module_version": "1.2.0",
            "_model_name": "LayoutModel",
            "_view_count": null,
            "_view_module": "@jupyter-widgets/base",
            "_view_module_version": "1.2.0",
            "_view_name": "LayoutView",
            "align_content": null,
            "align_items": null,
            "align_self": null,
            "border": null,
            "bottom": null,
            "display": null,
            "flex": null,
            "flex_flow": null,
            "grid_area": null,
            "grid_auto_columns": null,
            "grid_auto_flow": null,
            "grid_auto_rows": null,
            "grid_column": null,
            "grid_gap": null,
            "grid_row": null,
            "grid_template_areas": null,
            "grid_template_columns": null,
            "grid_template_rows": null,
            "height": null,
            "justify_content": null,
            "justify_items": null,
            "left": null,
            "margin": null,
            "max_height": null,
            "max_width": null,
            "min_height": null,
            "min_width": null,
            "object_fit": null,
            "object_position": null,
            "order": null,
            "overflow": null,
            "overflow_x": null,
            "overflow_y": null,
            "padding": null,
            "right": null,
            "top": null,
            "visibility": null,
            "width": null
          }
        },
        "652c77413ad2437b82ac8d7d6c6b8526": {
          "model_module": "@jupyter-widgets/controls",
          "model_name": "DescriptionStyleModel",
          "model_module_version": "1.5.0",
          "state": {
            "_model_module": "@jupyter-widgets/controls",
            "_model_module_version": "1.5.0",
            "_model_name": "DescriptionStyleModel",
            "_view_count": null,
            "_view_module": "@jupyter-widgets/base",
            "_view_module_version": "1.2.0",
            "_view_name": "StyleView",
            "description_width": ""
          }
        },
        "36d938ff8b314beebeabc63faeccda08": {
          "model_module": "@jupyter-widgets/base",
          "model_name": "LayoutModel",
          "model_module_version": "1.2.0",
          "state": {
            "_model_module": "@jupyter-widgets/base",
            "_model_module_version": "1.2.0",
            "_model_name": "LayoutModel",
            "_view_count": null,
            "_view_module": "@jupyter-widgets/base",
            "_view_module_version": "1.2.0",
            "_view_name": "LayoutView",
            "align_content": null,
            "align_items": null,
            "align_self": null,
            "border": null,
            "bottom": null,
            "display": null,
            "flex": null,
            "flex_flow": null,
            "grid_area": null,
            "grid_auto_columns": null,
            "grid_auto_flow": null,
            "grid_auto_rows": null,
            "grid_column": null,
            "grid_gap": null,
            "grid_row": null,
            "grid_template_areas": null,
            "grid_template_columns": null,
            "grid_template_rows": null,
            "height": null,
            "justify_content": null,
            "justify_items": null,
            "left": null,
            "margin": null,
            "max_height": null,
            "max_width": null,
            "min_height": null,
            "min_width": null,
            "object_fit": null,
            "object_position": null,
            "order": null,
            "overflow": null,
            "overflow_x": null,
            "overflow_y": null,
            "padding": null,
            "right": null,
            "top": null,
            "visibility": null,
            "width": null
          }
        },
        "80a9fb34a8d94b1ea43fbfcc40bdc25e": {
          "model_module": "@jupyter-widgets/controls",
          "model_name": "ProgressStyleModel",
          "model_module_version": "1.5.0",
          "state": {
            "_model_module": "@jupyter-widgets/controls",
            "_model_module_version": "1.5.0",
            "_model_name": "ProgressStyleModel",
            "_view_count": null,
            "_view_module": "@jupyter-widgets/base",
            "_view_module_version": "1.2.0",
            "_view_name": "StyleView",
            "bar_color": null,
            "description_width": ""
          }
        },
        "ba07a1a5db2d41d6ae571a49d97c55a4": {
          "model_module": "@jupyter-widgets/base",
          "model_name": "LayoutModel",
          "model_module_version": "1.2.0",
          "state": {
            "_model_module": "@jupyter-widgets/base",
            "_model_module_version": "1.2.0",
            "_model_name": "LayoutModel",
            "_view_count": null,
            "_view_module": "@jupyter-widgets/base",
            "_view_module_version": "1.2.0",
            "_view_name": "LayoutView",
            "align_content": null,
            "align_items": null,
            "align_self": null,
            "border": null,
            "bottom": null,
            "display": null,
            "flex": null,
            "flex_flow": null,
            "grid_area": null,
            "grid_auto_columns": null,
            "grid_auto_flow": null,
            "grid_auto_rows": null,
            "grid_column": null,
            "grid_gap": null,
            "grid_row": null,
            "grid_template_areas": null,
            "grid_template_columns": null,
            "grid_template_rows": null,
            "height": null,
            "justify_content": null,
            "justify_items": null,
            "left": null,
            "margin": null,
            "max_height": null,
            "max_width": null,
            "min_height": null,
            "min_width": null,
            "object_fit": null,
            "object_position": null,
            "order": null,
            "overflow": null,
            "overflow_x": null,
            "overflow_y": null,
            "padding": null,
            "right": null,
            "top": null,
            "visibility": null,
            "width": null
          }
        },
        "5b85eb0f86734bef8b52d3d3bf300e02": {
          "model_module": "@jupyter-widgets/controls",
          "model_name": "DescriptionStyleModel",
          "model_module_version": "1.5.0",
          "state": {
            "_model_module": "@jupyter-widgets/controls",
            "_model_module_version": "1.5.0",
            "_model_name": "DescriptionStyleModel",
            "_view_count": null,
            "_view_module": "@jupyter-widgets/base",
            "_view_module_version": "1.2.0",
            "_view_name": "StyleView",
            "description_width": ""
          }
        },
        "3f2b3405ec1d457c88896f376afe38dd": {
          "model_module": "@jupyter-widgets/controls",
          "model_name": "HBoxModel",
          "model_module_version": "1.5.0",
          "state": {
            "_dom_classes": [],
            "_model_module": "@jupyter-widgets/controls",
            "_model_module_version": "1.5.0",
            "_model_name": "HBoxModel",
            "_view_count": null,
            "_view_module": "@jupyter-widgets/controls",
            "_view_module_version": "1.5.0",
            "_view_name": "HBoxView",
            "box_style": "",
            "children": [
              "IPY_MODEL_32bff8a15bf348508c4a5de8d4c33fdd",
              "IPY_MODEL_5091884edc394526a961b6aaf37f76d2",
              "IPY_MODEL_1fcef847c1bd4cfc8e6bef4c9eef190b"
            ],
            "layout": "IPY_MODEL_5d582aba6b7d4e4ba82210be0264ef1c"
          }
        },
        "32bff8a15bf348508c4a5de8d4c33fdd": {
          "model_module": "@jupyter-widgets/controls",
          "model_name": "HTMLModel",
          "model_module_version": "1.5.0",
          "state": {
            "_dom_classes": [],
            "_model_module": "@jupyter-widgets/controls",
            "_model_module_version": "1.5.0",
            "_model_name": "HTMLModel",
            "_view_count": null,
            "_view_module": "@jupyter-widgets/controls",
            "_view_module_version": "1.5.0",
            "_view_name": "HTMLView",
            "description": "",
            "description_tooltip": null,
            "layout": "IPY_MODEL_2a3697dde22e40be9f9b85578dd37a51",
            "placeholder": "​",
            "style": "IPY_MODEL_ac888ad4d01146ff8c362e134158d03a",
            "value": "model.safetensors.index.json: 100%"
          }
        },
        "5091884edc394526a961b6aaf37f76d2": {
          "model_module": "@jupyter-widgets/controls",
          "model_name": "FloatProgressModel",
          "model_module_version": "1.5.0",
          "state": {
            "_dom_classes": [],
            "_model_module": "@jupyter-widgets/controls",
            "_model_module_version": "1.5.0",
            "_model_name": "FloatProgressModel",
            "_view_count": null,
            "_view_module": "@jupyter-widgets/controls",
            "_view_module_version": "1.5.0",
            "_view_name": "ProgressView",
            "bar_style": "success",
            "description": "",
            "description_tooltip": null,
            "layout": "IPY_MODEL_7605ba2ef96c45ec8630f819f8504c56",
            "max": 35716,
            "min": 0,
            "orientation": "horizontal",
            "style": "IPY_MODEL_1b213d0a35dc4cafbbbf91c9f8d7c62f",
            "value": 35716
          }
        },
        "1fcef847c1bd4cfc8e6bef4c9eef190b": {
          "model_module": "@jupyter-widgets/controls",
          "model_name": "HTMLModel",
          "model_module_version": "1.5.0",
          "state": {
            "_dom_classes": [],
            "_model_module": "@jupyter-widgets/controls",
            "_model_module_version": "1.5.0",
            "_model_name": "HTMLModel",
            "_view_count": null,
            "_view_module": "@jupyter-widgets/controls",
            "_view_module_version": "1.5.0",
            "_view_name": "HTMLView",
            "description": "",
            "description_tooltip": null,
            "layout": "IPY_MODEL_0b19496f35224eac939041191bfb327a",
            "placeholder": "​",
            "style": "IPY_MODEL_68c418a584cb4898832136a8604f4740",
            "value": " 35.7k/35.7k [00:00&lt;00:00, 1.72MB/s]"
          }
        },
        "5d582aba6b7d4e4ba82210be0264ef1c": {
          "model_module": "@jupyter-widgets/base",
          "model_name": "LayoutModel",
          "model_module_version": "1.2.0",
          "state": {
            "_model_module": "@jupyter-widgets/base",
            "_model_module_version": "1.2.0",
            "_model_name": "LayoutModel",
            "_view_count": null,
            "_view_module": "@jupyter-widgets/base",
            "_view_module_version": "1.2.0",
            "_view_name": "LayoutView",
            "align_content": null,
            "align_items": null,
            "align_self": null,
            "border": null,
            "bottom": null,
            "display": null,
            "flex": null,
            "flex_flow": null,
            "grid_area": null,
            "grid_auto_columns": null,
            "grid_auto_flow": null,
            "grid_auto_rows": null,
            "grid_column": null,
            "grid_gap": null,
            "grid_row": null,
            "grid_template_areas": null,
            "grid_template_columns": null,
            "grid_template_rows": null,
            "height": null,
            "justify_content": null,
            "justify_items": null,
            "left": null,
            "margin": null,
            "max_height": null,
            "max_width": null,
            "min_height": null,
            "min_width": null,
            "object_fit": null,
            "object_position": null,
            "order": null,
            "overflow": null,
            "overflow_x": null,
            "overflow_y": null,
            "padding": null,
            "right": null,
            "top": null,
            "visibility": null,
            "width": null
          }
        },
        "2a3697dde22e40be9f9b85578dd37a51": {
          "model_module": "@jupyter-widgets/base",
          "model_name": "LayoutModel",
          "model_module_version": "1.2.0",
          "state": {
            "_model_module": "@jupyter-widgets/base",
            "_model_module_version": "1.2.0",
            "_model_name": "LayoutModel",
            "_view_count": null,
            "_view_module": "@jupyter-widgets/base",
            "_view_module_version": "1.2.0",
            "_view_name": "LayoutView",
            "align_content": null,
            "align_items": null,
            "align_self": null,
            "border": null,
            "bottom": null,
            "display": null,
            "flex": null,
            "flex_flow": null,
            "grid_area": null,
            "grid_auto_columns": null,
            "grid_auto_flow": null,
            "grid_auto_rows": null,
            "grid_column": null,
            "grid_gap": null,
            "grid_row": null,
            "grid_template_areas": null,
            "grid_template_columns": null,
            "grid_template_rows": null,
            "height": null,
            "justify_content": null,
            "justify_items": null,
            "left": null,
            "margin": null,
            "max_height": null,
            "max_width": null,
            "min_height": null,
            "min_width": null,
            "object_fit": null,
            "object_position": null,
            "order": null,
            "overflow": null,
            "overflow_x": null,
            "overflow_y": null,
            "padding": null,
            "right": null,
            "top": null,
            "visibility": null,
            "width": null
          }
        },
        "ac888ad4d01146ff8c362e134158d03a": {
          "model_module": "@jupyter-widgets/controls",
          "model_name": "DescriptionStyleModel",
          "model_module_version": "1.5.0",
          "state": {
            "_model_module": "@jupyter-widgets/controls",
            "_model_module_version": "1.5.0",
            "_model_name": "DescriptionStyleModel",
            "_view_count": null,
            "_view_module": "@jupyter-widgets/base",
            "_view_module_version": "1.2.0",
            "_view_name": "StyleView",
            "description_width": ""
          }
        },
        "7605ba2ef96c45ec8630f819f8504c56": {
          "model_module": "@jupyter-widgets/base",
          "model_name": "LayoutModel",
          "model_module_version": "1.2.0",
          "state": {
            "_model_module": "@jupyter-widgets/base",
            "_model_module_version": "1.2.0",
            "_model_name": "LayoutModel",
            "_view_count": null,
            "_view_module": "@jupyter-widgets/base",
            "_view_module_version": "1.2.0",
            "_view_name": "LayoutView",
            "align_content": null,
            "align_items": null,
            "align_self": null,
            "border": null,
            "bottom": null,
            "display": null,
            "flex": null,
            "flex_flow": null,
            "grid_area": null,
            "grid_auto_columns": null,
            "grid_auto_flow": null,
            "grid_auto_rows": null,
            "grid_column": null,
            "grid_gap": null,
            "grid_row": null,
            "grid_template_areas": null,
            "grid_template_columns": null,
            "grid_template_rows": null,
            "height": null,
            "justify_content": null,
            "justify_items": null,
            "left": null,
            "margin": null,
            "max_height": null,
            "max_width": null,
            "min_height": null,
            "min_width": null,
            "object_fit": null,
            "object_position": null,
            "order": null,
            "overflow": null,
            "overflow_x": null,
            "overflow_y": null,
            "padding": null,
            "right": null,
            "top": null,
            "visibility": null,
            "width": null
          }
        },
        "1b213d0a35dc4cafbbbf91c9f8d7c62f": {
          "model_module": "@jupyter-widgets/controls",
          "model_name": "ProgressStyleModel",
          "model_module_version": "1.5.0",
          "state": {
            "_model_module": "@jupyter-widgets/controls",
            "_model_module_version": "1.5.0",
            "_model_name": "ProgressStyleModel",
            "_view_count": null,
            "_view_module": "@jupyter-widgets/base",
            "_view_module_version": "1.2.0",
            "_view_name": "StyleView",
            "bar_color": null,
            "description_width": ""
          }
        },
        "0b19496f35224eac939041191bfb327a": {
          "model_module": "@jupyter-widgets/base",
          "model_name": "LayoutModel",
          "model_module_version": "1.2.0",
          "state": {
            "_model_module": "@jupyter-widgets/base",
            "_model_module_version": "1.2.0",
            "_model_name": "LayoutModel",
            "_view_count": null,
            "_view_module": "@jupyter-widgets/base",
            "_view_module_version": "1.2.0",
            "_view_name": "LayoutView",
            "align_content": null,
            "align_items": null,
            "align_self": null,
            "border": null,
            "bottom": null,
            "display": null,
            "flex": null,
            "flex_flow": null,
            "grid_area": null,
            "grid_auto_columns": null,
            "grid_auto_flow": null,
            "grid_auto_rows": null,
            "grid_column": null,
            "grid_gap": null,
            "grid_row": null,
            "grid_template_areas": null,
            "grid_template_columns": null,
            "grid_template_rows": null,
            "height": null,
            "justify_content": null,
            "justify_items": null,
            "left": null,
            "margin": null,
            "max_height": null,
            "max_width": null,
            "min_height": null,
            "min_width": null,
            "object_fit": null,
            "object_position": null,
            "order": null,
            "overflow": null,
            "overflow_x": null,
            "overflow_y": null,
            "padding": null,
            "right": null,
            "top": null,
            "visibility": null,
            "width": null
          }
        },
        "68c418a584cb4898832136a8604f4740": {
          "model_module": "@jupyter-widgets/controls",
          "model_name": "DescriptionStyleModel",
          "model_module_version": "1.5.0",
          "state": {
            "_model_module": "@jupyter-widgets/controls",
            "_model_module_version": "1.5.0",
            "_model_name": "DescriptionStyleModel",
            "_view_count": null,
            "_view_module": "@jupyter-widgets/base",
            "_view_module_version": "1.2.0",
            "_view_name": "StyleView",
            "description_width": ""
          }
        },
        "479dc7483f3d49d487b8f1472a5080b4": {
          "model_module": "@jupyter-widgets/controls",
          "model_name": "HBoxModel",
          "model_module_version": "1.5.0",
          "state": {
            "_dom_classes": [],
            "_model_module": "@jupyter-widgets/controls",
            "_model_module_version": "1.5.0",
            "_model_name": "HBoxModel",
            "_view_count": null,
            "_view_module": "@jupyter-widgets/controls",
            "_view_module_version": "1.5.0",
            "_view_name": "HBoxView",
            "box_style": "",
            "children": [
              "IPY_MODEL_bfd55a70b7f04adc9cdfe7991ce67eb5",
              "IPY_MODEL_7d702782280d4a48834a7619bcf176b3",
              "IPY_MODEL_8ccea8ed9c4948fc851db0bb0a856989"
            ],
            "layout": "IPY_MODEL_7bbb2c19a4484d2585c832d8fc7beec3"
          }
        },
        "bfd55a70b7f04adc9cdfe7991ce67eb5": {
          "model_module": "@jupyter-widgets/controls",
          "model_name": "HTMLModel",
          "model_module_version": "1.5.0",
          "state": {
            "_dom_classes": [],
            "_model_module": "@jupyter-widgets/controls",
            "_model_module_version": "1.5.0",
            "_model_name": "HTMLModel",
            "_view_count": null,
            "_view_module": "@jupyter-widgets/controls",
            "_view_module_version": "1.5.0",
            "_view_name": "HTMLView",
            "description": "",
            "description_tooltip": null,
            "layout": "IPY_MODEL_3b28250cbb724bccb390f3a4842d4476",
            "placeholder": "​",
            "style": "IPY_MODEL_cd435297fa734b08a3b12e3fccf3caff",
            "value": "Downloading shards: 100%"
          }
        },
        "7d702782280d4a48834a7619bcf176b3": {
          "model_module": "@jupyter-widgets/controls",
          "model_name": "FloatProgressModel",
          "model_module_version": "1.5.0",
          "state": {
            "_dom_classes": [],
            "_model_module": "@jupyter-widgets/controls",
            "_model_module_version": "1.5.0",
            "_model_name": "FloatProgressModel",
            "_view_count": null,
            "_view_module": "@jupyter-widgets/controls",
            "_view_module_version": "1.5.0",
            "_view_name": "ProgressView",
            "bar_style": "success",
            "description": "",
            "description_tooltip": null,
            "layout": "IPY_MODEL_ebdfde2891744777830ff59b48aa320e",
            "max": 2,
            "min": 0,
            "orientation": "horizontal",
            "style": "IPY_MODEL_e2c635e07efa4aad827e012caa65a1a6",
            "value": 2
          }
        },
        "8ccea8ed9c4948fc851db0bb0a856989": {
          "model_module": "@jupyter-widgets/controls",
          "model_name": "HTMLModel",
          "model_module_version": "1.5.0",
          "state": {
            "_dom_classes": [],
            "_model_module": "@jupyter-widgets/controls",
            "_model_module_version": "1.5.0",
            "_model_name": "HTMLModel",
            "_view_count": null,
            "_view_module": "@jupyter-widgets/controls",
            "_view_module_version": "1.5.0",
            "_view_name": "HTMLView",
            "description": "",
            "description_tooltip": null,
            "layout": "IPY_MODEL_4d1499c884584a629a0a7d509cae5cea",
            "placeholder": "​",
            "style": "IPY_MODEL_849ca6e950664aaf90305cfef9e38410",
            "value": " 2/2 [02:11&lt;00:00, 56.62s/it]"
          }
        },
        "7bbb2c19a4484d2585c832d8fc7beec3": {
          "model_module": "@jupyter-widgets/base",
          "model_name": "LayoutModel",
          "model_module_version": "1.2.0",
          "state": {
            "_model_module": "@jupyter-widgets/base",
            "_model_module_version": "1.2.0",
            "_model_name": "LayoutModel",
            "_view_count": null,
            "_view_module": "@jupyter-widgets/base",
            "_view_module_version": "1.2.0",
            "_view_name": "LayoutView",
            "align_content": null,
            "align_items": null,
            "align_self": null,
            "border": null,
            "bottom": null,
            "display": null,
            "flex": null,
            "flex_flow": null,
            "grid_area": null,
            "grid_auto_columns": null,
            "grid_auto_flow": null,
            "grid_auto_rows": null,
            "grid_column": null,
            "grid_gap": null,
            "grid_row": null,
            "grid_template_areas": null,
            "grid_template_columns": null,
            "grid_template_rows": null,
            "height": null,
            "justify_content": null,
            "justify_items": null,
            "left": null,
            "margin": null,
            "max_height": null,
            "max_width": null,
            "min_height": null,
            "min_width": null,
            "object_fit": null,
            "object_position": null,
            "order": null,
            "overflow": null,
            "overflow_x": null,
            "overflow_y": null,
            "padding": null,
            "right": null,
            "top": null,
            "visibility": null,
            "width": null
          }
        },
        "3b28250cbb724bccb390f3a4842d4476": {
          "model_module": "@jupyter-widgets/base",
          "model_name": "LayoutModel",
          "model_module_version": "1.2.0",
          "state": {
            "_model_module": "@jupyter-widgets/base",
            "_model_module_version": "1.2.0",
            "_model_name": "LayoutModel",
            "_view_count": null,
            "_view_module": "@jupyter-widgets/base",
            "_view_module_version": "1.2.0",
            "_view_name": "LayoutView",
            "align_content": null,
            "align_items": null,
            "align_self": null,
            "border": null,
            "bottom": null,
            "display": null,
            "flex": null,
            "flex_flow": null,
            "grid_area": null,
            "grid_auto_columns": null,
            "grid_auto_flow": null,
            "grid_auto_rows": null,
            "grid_column": null,
            "grid_gap": null,
            "grid_row": null,
            "grid_template_areas": null,
            "grid_template_columns": null,
            "grid_template_rows": null,
            "height": null,
            "justify_content": null,
            "justify_items": null,
            "left": null,
            "margin": null,
            "max_height": null,
            "max_width": null,
            "min_height": null,
            "min_width": null,
            "object_fit": null,
            "object_position": null,
            "order": null,
            "overflow": null,
            "overflow_x": null,
            "overflow_y": null,
            "padding": null,
            "right": null,
            "top": null,
            "visibility": null,
            "width": null
          }
        },
        "cd435297fa734b08a3b12e3fccf3caff": {
          "model_module": "@jupyter-widgets/controls",
          "model_name": "DescriptionStyleModel",
          "model_module_version": "1.5.0",
          "state": {
            "_model_module": "@jupyter-widgets/controls",
            "_model_module_version": "1.5.0",
            "_model_name": "DescriptionStyleModel",
            "_view_count": null,
            "_view_module": "@jupyter-widgets/base",
            "_view_module_version": "1.2.0",
            "_view_name": "StyleView",
            "description_width": ""
          }
        },
        "ebdfde2891744777830ff59b48aa320e": {
          "model_module": "@jupyter-widgets/base",
          "model_name": "LayoutModel",
          "model_module_version": "1.2.0",
          "state": {
            "_model_module": "@jupyter-widgets/base",
            "_model_module_version": "1.2.0",
            "_model_name": "LayoutModel",
            "_view_count": null,
            "_view_module": "@jupyter-widgets/base",
            "_view_module_version": "1.2.0",
            "_view_name": "LayoutView",
            "align_content": null,
            "align_items": null,
            "align_self": null,
            "border": null,
            "bottom": null,
            "display": null,
            "flex": null,
            "flex_flow": null,
            "grid_area": null,
            "grid_auto_columns": null,
            "grid_auto_flow": null,
            "grid_auto_rows": null,
            "grid_column": null,
            "grid_gap": null,
            "grid_row": null,
            "grid_template_areas": null,
            "grid_template_columns": null,
            "grid_template_rows": null,
            "height": null,
            "justify_content": null,
            "justify_items": null,
            "left": null,
            "margin": null,
            "max_height": null,
            "max_width": null,
            "min_height": null,
            "min_width": null,
            "object_fit": null,
            "object_position": null,
            "order": null,
            "overflow": null,
            "overflow_x": null,
            "overflow_y": null,
            "padding": null,
            "right": null,
            "top": null,
            "visibility": null,
            "width": null
          }
        },
        "e2c635e07efa4aad827e012caa65a1a6": {
          "model_module": "@jupyter-widgets/controls",
          "model_name": "ProgressStyleModel",
          "model_module_version": "1.5.0",
          "state": {
            "_model_module": "@jupyter-widgets/controls",
            "_model_module_version": "1.5.0",
            "_model_name": "ProgressStyleModel",
            "_view_count": null,
            "_view_module": "@jupyter-widgets/base",
            "_view_module_version": "1.2.0",
            "_view_name": "StyleView",
            "bar_color": null,
            "description_width": ""
          }
        },
        "4d1499c884584a629a0a7d509cae5cea": {
          "model_module": "@jupyter-widgets/base",
          "model_name": "LayoutModel",
          "model_module_version": "1.2.0",
          "state": {
            "_model_module": "@jupyter-widgets/base",
            "_model_module_version": "1.2.0",
            "_model_name": "LayoutModel",
            "_view_count": null,
            "_view_module": "@jupyter-widgets/base",
            "_view_module_version": "1.2.0",
            "_view_name": "LayoutView",
            "align_content": null,
            "align_items": null,
            "align_self": null,
            "border": null,
            "bottom": null,
            "display": null,
            "flex": null,
            "flex_flow": null,
            "grid_area": null,
            "grid_auto_columns": null,
            "grid_auto_flow": null,
            "grid_auto_rows": null,
            "grid_column": null,
            "grid_gap": null,
            "grid_row": null,
            "grid_template_areas": null,
            "grid_template_columns": null,
            "grid_template_rows": null,
            "height": null,
            "justify_content": null,
            "justify_items": null,
            "left": null,
            "margin": null,
            "max_height": null,
            "max_width": null,
            "min_height": null,
            "min_width": null,
            "object_fit": null,
            "object_position": null,
            "order": null,
            "overflow": null,
            "overflow_x": null,
            "overflow_y": null,
            "padding": null,
            "right": null,
            "top": null,
            "visibility": null,
            "width": null
          }
        },
        "849ca6e950664aaf90305cfef9e38410": {
          "model_module": "@jupyter-widgets/controls",
          "model_name": "DescriptionStyleModel",
          "model_module_version": "1.5.0",
          "state": {
            "_model_module": "@jupyter-widgets/controls",
            "_model_module_version": "1.5.0",
            "_model_name": "DescriptionStyleModel",
            "_view_count": null,
            "_view_module": "@jupyter-widgets/base",
            "_view_module_version": "1.2.0",
            "_view_name": "StyleView",
            "description_width": ""
          }
        },
        "7402277ef9674d3c8411182b5d060f8e": {
          "model_module": "@jupyter-widgets/controls",
          "model_name": "HBoxModel",
          "model_module_version": "1.5.0",
          "state": {
            "_dom_classes": [],
            "_model_module": "@jupyter-widgets/controls",
            "_model_module_version": "1.5.0",
            "_model_name": "HBoxModel",
            "_view_count": null,
            "_view_module": "@jupyter-widgets/controls",
            "_view_module_version": "1.5.0",
            "_view_name": "HBoxView",
            "box_style": "",
            "children": [
              "IPY_MODEL_5c26c97ced154df4ae7d13fff7fd3565",
              "IPY_MODEL_49a4a55c48534968a262a0c0eb042e37",
              "IPY_MODEL_4ded8836edc94f9f8543eeda88a75d65"
            ],
            "layout": "IPY_MODEL_7b929bf8c5344c67894c8c05fd8e5767"
          }
        },
        "5c26c97ced154df4ae7d13fff7fd3565": {
          "model_module": "@jupyter-widgets/controls",
          "model_name": "HTMLModel",
          "model_module_version": "1.5.0",
          "state": {
            "_dom_classes": [],
            "_model_module": "@jupyter-widgets/controls",
            "_model_module_version": "1.5.0",
            "_model_name": "HTMLModel",
            "_view_count": null,
            "_view_module": "@jupyter-widgets/controls",
            "_view_module_version": "1.5.0",
            "_view_name": "HTMLView",
            "description": "",
            "description_tooltip": null,
            "layout": "IPY_MODEL_c3d35da17ea9405da1503b1ffbbc5280",
            "placeholder": "​",
            "style": "IPY_MODEL_7f98e0238d9244f095e456c0f70aef9b",
            "value": "model-00001-of-00002.safetensors: 100%"
          }
        },
        "49a4a55c48534968a262a0c0eb042e37": {
          "model_module": "@jupyter-widgets/controls",
          "model_name": "FloatProgressModel",
          "model_module_version": "1.5.0",
          "state": {
            "_dom_classes": [],
            "_model_module": "@jupyter-widgets/controls",
            "_model_module_version": "1.5.0",
            "_model_name": "FloatProgressModel",
            "_view_count": null,
            "_view_module": "@jupyter-widgets/controls",
            "_view_module_version": "1.5.0",
            "_view_name": "ProgressView",
            "bar_style": "success",
            "description": "",
            "description_tooltip": null,
            "layout": "IPY_MODEL_831f7d053d5043f191af80081544d26b",
            "max": 4995584424,
            "min": 0,
            "orientation": "horizontal",
            "style": "IPY_MODEL_b4abaac047a74ca69ba972d7a6fdd71d",
            "value": 4995584424
          }
        },
        "4ded8836edc94f9f8543eeda88a75d65": {
          "model_module": "@jupyter-widgets/controls",
          "model_name": "HTMLModel",
          "model_module_version": "1.5.0",
          "state": {
            "_dom_classes": [],
            "_model_module": "@jupyter-widgets/controls",
            "_model_module_version": "1.5.0",
            "_model_name": "HTMLModel",
            "_view_count": null,
            "_view_module": "@jupyter-widgets/controls",
            "_view_module_version": "1.5.0",
            "_view_name": "HTMLView",
            "description": "",
            "description_tooltip": null,
            "layout": "IPY_MODEL_ac763c9cec854aeba9b4e2e157f76cbf",
            "placeholder": "​",
            "style": "IPY_MODEL_69d3838f334646ed98c3d977f08246c4",
            "value": " 5.00G/5.00G [01:58&lt;00:00, 41.4MB/s]"
          }
        },
        "7b929bf8c5344c67894c8c05fd8e5767": {
          "model_module": "@jupyter-widgets/base",
          "model_name": "LayoutModel",
          "model_module_version": "1.2.0",
          "state": {
            "_model_module": "@jupyter-widgets/base",
            "_model_module_version": "1.2.0",
            "_model_name": "LayoutModel",
            "_view_count": null,
            "_view_module": "@jupyter-widgets/base",
            "_view_module_version": "1.2.0",
            "_view_name": "LayoutView",
            "align_content": null,
            "align_items": null,
            "align_self": null,
            "border": null,
            "bottom": null,
            "display": null,
            "flex": null,
            "flex_flow": null,
            "grid_area": null,
            "grid_auto_columns": null,
            "grid_auto_flow": null,
            "grid_auto_rows": null,
            "grid_column": null,
            "grid_gap": null,
            "grid_row": null,
            "grid_template_areas": null,
            "grid_template_columns": null,
            "grid_template_rows": null,
            "height": null,
            "justify_content": null,
            "justify_items": null,
            "left": null,
            "margin": null,
            "max_height": null,
            "max_width": null,
            "min_height": null,
            "min_width": null,
            "object_fit": null,
            "object_position": null,
            "order": null,
            "overflow": null,
            "overflow_x": null,
            "overflow_y": null,
            "padding": null,
            "right": null,
            "top": null,
            "visibility": null,
            "width": null
          }
        },
        "c3d35da17ea9405da1503b1ffbbc5280": {
          "model_module": "@jupyter-widgets/base",
          "model_name": "LayoutModel",
          "model_module_version": "1.2.0",
          "state": {
            "_model_module": "@jupyter-widgets/base",
            "_model_module_version": "1.2.0",
            "_model_name": "LayoutModel",
            "_view_count": null,
            "_view_module": "@jupyter-widgets/base",
            "_view_module_version": "1.2.0",
            "_view_name": "LayoutView",
            "align_content": null,
            "align_items": null,
            "align_self": null,
            "border": null,
            "bottom": null,
            "display": null,
            "flex": null,
            "flex_flow": null,
            "grid_area": null,
            "grid_auto_columns": null,
            "grid_auto_flow": null,
            "grid_auto_rows": null,
            "grid_column": null,
            "grid_gap": null,
            "grid_row": null,
            "grid_template_areas": null,
            "grid_template_columns": null,
            "grid_template_rows": null,
            "height": null,
            "justify_content": null,
            "justify_items": null,
            "left": null,
            "margin": null,
            "max_height": null,
            "max_width": null,
            "min_height": null,
            "min_width": null,
            "object_fit": null,
            "object_position": null,
            "order": null,
            "overflow": null,
            "overflow_x": null,
            "overflow_y": null,
            "padding": null,
            "right": null,
            "top": null,
            "visibility": null,
            "width": null
          }
        },
        "7f98e0238d9244f095e456c0f70aef9b": {
          "model_module": "@jupyter-widgets/controls",
          "model_name": "DescriptionStyleModel",
          "model_module_version": "1.5.0",
          "state": {
            "_model_module": "@jupyter-widgets/controls",
            "_model_module_version": "1.5.0",
            "_model_name": "DescriptionStyleModel",
            "_view_count": null,
            "_view_module": "@jupyter-widgets/base",
            "_view_module_version": "1.2.0",
            "_view_name": "StyleView",
            "description_width": ""
          }
        },
        "831f7d053d5043f191af80081544d26b": {
          "model_module": "@jupyter-widgets/base",
          "model_name": "LayoutModel",
          "model_module_version": "1.2.0",
          "state": {
            "_model_module": "@jupyter-widgets/base",
            "_model_module_version": "1.2.0",
            "_model_name": "LayoutModel",
            "_view_count": null,
            "_view_module": "@jupyter-widgets/base",
            "_view_module_version": "1.2.0",
            "_view_name": "LayoutView",
            "align_content": null,
            "align_items": null,
            "align_self": null,
            "border": null,
            "bottom": null,
            "display": null,
            "flex": null,
            "flex_flow": null,
            "grid_area": null,
            "grid_auto_columns": null,
            "grid_auto_flow": null,
            "grid_auto_rows": null,
            "grid_column": null,
            "grid_gap": null,
            "grid_row": null,
            "grid_template_areas": null,
            "grid_template_columns": null,
            "grid_template_rows": null,
            "height": null,
            "justify_content": null,
            "justify_items": null,
            "left": null,
            "margin": null,
            "max_height": null,
            "max_width": null,
            "min_height": null,
            "min_width": null,
            "object_fit": null,
            "object_position": null,
            "order": null,
            "overflow": null,
            "overflow_x": null,
            "overflow_y": null,
            "padding": null,
            "right": null,
            "top": null,
            "visibility": null,
            "width": null
          }
        },
        "b4abaac047a74ca69ba972d7a6fdd71d": {
          "model_module": "@jupyter-widgets/controls",
          "model_name": "ProgressStyleModel",
          "model_module_version": "1.5.0",
          "state": {
            "_model_module": "@jupyter-widgets/controls",
            "_model_module_version": "1.5.0",
            "_model_name": "ProgressStyleModel",
            "_view_count": null,
            "_view_module": "@jupyter-widgets/base",
            "_view_module_version": "1.2.0",
            "_view_name": "StyleView",
            "bar_color": null,
            "description_width": ""
          }
        },
        "ac763c9cec854aeba9b4e2e157f76cbf": {
          "model_module": "@jupyter-widgets/base",
          "model_name": "LayoutModel",
          "model_module_version": "1.2.0",
          "state": {
            "_model_module": "@jupyter-widgets/base",
            "_model_module_version": "1.2.0",
            "_model_name": "LayoutModel",
            "_view_count": null,
            "_view_module": "@jupyter-widgets/base",
            "_view_module_version": "1.2.0",
            "_view_name": "LayoutView",
            "align_content": null,
            "align_items": null,
            "align_self": null,
            "border": null,
            "bottom": null,
            "display": null,
            "flex": null,
            "flex_flow": null,
            "grid_area": null,
            "grid_auto_columns": null,
            "grid_auto_flow": null,
            "grid_auto_rows": null,
            "grid_column": null,
            "grid_gap": null,
            "grid_row": null,
            "grid_template_areas": null,
            "grid_template_columns": null,
            "grid_template_rows": null,
            "height": null,
            "justify_content": null,
            "justify_items": null,
            "left": null,
            "margin": null,
            "max_height": null,
            "max_width": null,
            "min_height": null,
            "min_width": null,
            "object_fit": null,
            "object_position": null,
            "order": null,
            "overflow": null,
            "overflow_x": null,
            "overflow_y": null,
            "padding": null,
            "right": null,
            "top": null,
            "visibility": null,
            "width": null
          }
        },
        "69d3838f334646ed98c3d977f08246c4": {
          "model_module": "@jupyter-widgets/controls",
          "model_name": "DescriptionStyleModel",
          "model_module_version": "1.5.0",
          "state": {
            "_model_module": "@jupyter-widgets/controls",
            "_model_module_version": "1.5.0",
            "_model_name": "DescriptionStyleModel",
            "_view_count": null,
            "_view_module": "@jupyter-widgets/base",
            "_view_module_version": "1.2.0",
            "_view_name": "StyleView",
            "description_width": ""
          }
        },
        "b38c7444a18d47448dbc78242c13bdbd": {
          "model_module": "@jupyter-widgets/controls",
          "model_name": "HBoxModel",
          "model_module_version": "1.5.0",
          "state": {
            "_dom_classes": [],
            "_model_module": "@jupyter-widgets/controls",
            "_model_module_version": "1.5.0",
            "_model_name": "HBoxModel",
            "_view_count": null,
            "_view_module": "@jupyter-widgets/controls",
            "_view_module_version": "1.5.0",
            "_view_name": "HBoxView",
            "box_style": "",
            "children": [
              "IPY_MODEL_5506446687944d4cb1325011eeff4b53",
              "IPY_MODEL_bb5aff9f003e482eadddb452f983a41c",
              "IPY_MODEL_865c2c3ce4ee4cc08440f4f27beb346c"
            ],
            "layout": "IPY_MODEL_fa55723ec3db452fad6c7ae5accc6866"
          }
        },
        "5506446687944d4cb1325011eeff4b53": {
          "model_module": "@jupyter-widgets/controls",
          "model_name": "HTMLModel",
          "model_module_version": "1.5.0",
          "state": {
            "_dom_classes": [],
            "_model_module": "@jupyter-widgets/controls",
            "_model_module_version": "1.5.0",
            "_model_name": "HTMLModel",
            "_view_count": null,
            "_view_module": "@jupyter-widgets/controls",
            "_view_module_version": "1.5.0",
            "_view_name": "HTMLView",
            "description": "",
            "description_tooltip": null,
            "layout": "IPY_MODEL_049929f0509b46e6ad28a9875aabb701",
            "placeholder": "​",
            "style": "IPY_MODEL_02c88a542a214da5be33cf788f64fe30",
            "value": "model-00002-of-00002.safetensors: 100%"
          }
        },
        "bb5aff9f003e482eadddb452f983a41c": {
          "model_module": "@jupyter-widgets/controls",
          "model_name": "FloatProgressModel",
          "model_module_version": "1.5.0",
          "state": {
            "_dom_classes": [],
            "_model_module": "@jupyter-widgets/controls",
            "_model_module_version": "1.5.0",
            "_model_name": "FloatProgressModel",
            "_view_count": null,
            "_view_module": "@jupyter-widgets/controls",
            "_view_module_version": "1.5.0",
            "_view_name": "ProgressView",
            "bar_style": "success",
            "description": "",
            "description_tooltip": null,
            "layout": "IPY_MODEL_27caeb28ec504bd389458ac4742d9dd9",
            "max": 563832976,
            "min": 0,
            "orientation": "horizontal",
            "style": "IPY_MODEL_2d568543257b4de2a857b57fe3cbc0af",
            "value": 563832976
          }
        },
        "865c2c3ce4ee4cc08440f4f27beb346c": {
          "model_module": "@jupyter-widgets/controls",
          "model_name": "HTMLModel",
          "model_module_version": "1.5.0",
          "state": {
            "_dom_classes": [],
            "_model_module": "@jupyter-widgets/controls",
            "_model_module_version": "1.5.0",
            "_model_name": "HTMLModel",
            "_view_count": null,
            "_view_module": "@jupyter-widgets/controls",
            "_view_module_version": "1.5.0",
            "_view_name": "HTMLView",
            "description": "",
            "description_tooltip": null,
            "layout": "IPY_MODEL_43f095d239fb45b7ac9cb929fe3556a2",
            "placeholder": "​",
            "style": "IPY_MODEL_a590c7dd668941cb8519486728bd0704",
            "value": " 564M/564M [00:13&lt;00:00, 42.1MB/s]"
          }
        },
        "fa55723ec3db452fad6c7ae5accc6866": {
          "model_module": "@jupyter-widgets/base",
          "model_name": "LayoutModel",
          "model_module_version": "1.2.0",
          "state": {
            "_model_module": "@jupyter-widgets/base",
            "_model_module_version": "1.2.0",
            "_model_name": "LayoutModel",
            "_view_count": null,
            "_view_module": "@jupyter-widgets/base",
            "_view_module_version": "1.2.0",
            "_view_name": "LayoutView",
            "align_content": null,
            "align_items": null,
            "align_self": null,
            "border": null,
            "bottom": null,
            "display": null,
            "flex": null,
            "flex_flow": null,
            "grid_area": null,
            "grid_auto_columns": null,
            "grid_auto_flow": null,
            "grid_auto_rows": null,
            "grid_column": null,
            "grid_gap": null,
            "grid_row": null,
            "grid_template_areas": null,
            "grid_template_columns": null,
            "grid_template_rows": null,
            "height": null,
            "justify_content": null,
            "justify_items": null,
            "left": null,
            "margin": null,
            "max_height": null,
            "max_width": null,
            "min_height": null,
            "min_width": null,
            "object_fit": null,
            "object_position": null,
            "order": null,
            "overflow": null,
            "overflow_x": null,
            "overflow_y": null,
            "padding": null,
            "right": null,
            "top": null,
            "visibility": null,
            "width": null
          }
        },
        "049929f0509b46e6ad28a9875aabb701": {
          "model_module": "@jupyter-widgets/base",
          "model_name": "LayoutModel",
          "model_module_version": "1.2.0",
          "state": {
            "_model_module": "@jupyter-widgets/base",
            "_model_module_version": "1.2.0",
            "_model_name": "LayoutModel",
            "_view_count": null,
            "_view_module": "@jupyter-widgets/base",
            "_view_module_version": "1.2.0",
            "_view_name": "LayoutView",
            "align_content": null,
            "align_items": null,
            "align_self": null,
            "border": null,
            "bottom": null,
            "display": null,
            "flex": null,
            "flex_flow": null,
            "grid_area": null,
            "grid_auto_columns": null,
            "grid_auto_flow": null,
            "grid_auto_rows": null,
            "grid_column": null,
            "grid_gap": null,
            "grid_row": null,
            "grid_template_areas": null,
            "grid_template_columns": null,
            "grid_template_rows": null,
            "height": null,
            "justify_content": null,
            "justify_items": null,
            "left": null,
            "margin": null,
            "max_height": null,
            "max_width": null,
            "min_height": null,
            "min_width": null,
            "object_fit": null,
            "object_position": null,
            "order": null,
            "overflow": null,
            "overflow_x": null,
            "overflow_y": null,
            "padding": null,
            "right": null,
            "top": null,
            "visibility": null,
            "width": null
          }
        },
        "02c88a542a214da5be33cf788f64fe30": {
          "model_module": "@jupyter-widgets/controls",
          "model_name": "DescriptionStyleModel",
          "model_module_version": "1.5.0",
          "state": {
            "_model_module": "@jupyter-widgets/controls",
            "_model_module_version": "1.5.0",
            "_model_name": "DescriptionStyleModel",
            "_view_count": null,
            "_view_module": "@jupyter-widgets/base",
            "_view_module_version": "1.2.0",
            "_view_name": "StyleView",
            "description_width": ""
          }
        },
        "27caeb28ec504bd389458ac4742d9dd9": {
          "model_module": "@jupyter-widgets/base",
          "model_name": "LayoutModel",
          "model_module_version": "1.2.0",
          "state": {
            "_model_module": "@jupyter-widgets/base",
            "_model_module_version": "1.2.0",
            "_model_name": "LayoutModel",
            "_view_count": null,
            "_view_module": "@jupyter-widgets/base",
            "_view_module_version": "1.2.0",
            "_view_name": "LayoutView",
            "align_content": null,
            "align_items": null,
            "align_self": null,
            "border": null,
            "bottom": null,
            "display": null,
            "flex": null,
            "flex_flow": null,
            "grid_area": null,
            "grid_auto_columns": null,
            "grid_auto_flow": null,
            "grid_auto_rows": null,
            "grid_column": null,
            "grid_gap": null,
            "grid_row": null,
            "grid_template_areas": null,
            "grid_template_columns": null,
            "grid_template_rows": null,
            "height": null,
            "justify_content": null,
            "justify_items": null,
            "left": null,
            "margin": null,
            "max_height": null,
            "max_width": null,
            "min_height": null,
            "min_width": null,
            "object_fit": null,
            "object_position": null,
            "order": null,
            "overflow": null,
            "overflow_x": null,
            "overflow_y": null,
            "padding": null,
            "right": null,
            "top": null,
            "visibility": null,
            "width": null
          }
        },
        "2d568543257b4de2a857b57fe3cbc0af": {
          "model_module": "@jupyter-widgets/controls",
          "model_name": "ProgressStyleModel",
          "model_module_version": "1.5.0",
          "state": {
            "_model_module": "@jupyter-widgets/controls",
            "_model_module_version": "1.5.0",
            "_model_name": "ProgressStyleModel",
            "_view_count": null,
            "_view_module": "@jupyter-widgets/base",
            "_view_module_version": "1.2.0",
            "_view_name": "StyleView",
            "bar_color": null,
            "description_width": ""
          }
        },
        "43f095d239fb45b7ac9cb929fe3556a2": {
          "model_module": "@jupyter-widgets/base",
          "model_name": "LayoutModel",
          "model_module_version": "1.2.0",
          "state": {
            "_model_module": "@jupyter-widgets/base",
            "_model_module_version": "1.2.0",
            "_model_name": "LayoutModel",
            "_view_count": null,
            "_view_module": "@jupyter-widgets/base",
            "_view_module_version": "1.2.0",
            "_view_name": "LayoutView",
            "align_content": null,
            "align_items": null,
            "align_self": null,
            "border": null,
            "bottom": null,
            "display": null,
            "flex": null,
            "flex_flow": null,
            "grid_area": null,
            "grid_auto_columns": null,
            "grid_auto_flow": null,
            "grid_auto_rows": null,
            "grid_column": null,
            "grid_gap": null,
            "grid_row": null,
            "grid_template_areas": null,
            "grid_template_columns": null,
            "grid_template_rows": null,
            "height": null,
            "justify_content": null,
            "justify_items": null,
            "left": null,
            "margin": null,
            "max_height": null,
            "max_width": null,
            "min_height": null,
            "min_width": null,
            "object_fit": null,
            "object_position": null,
            "order": null,
            "overflow": null,
            "overflow_x": null,
            "overflow_y": null,
            "padding": null,
            "right": null,
            "top": null,
            "visibility": null,
            "width": null
          }
        },
        "a590c7dd668941cb8519486728bd0704": {
          "model_module": "@jupyter-widgets/controls",
          "model_name": "DescriptionStyleModel",
          "model_module_version": "1.5.0",
          "state": {
            "_model_module": "@jupyter-widgets/controls",
            "_model_module_version": "1.5.0",
            "_model_name": "DescriptionStyleModel",
            "_view_count": null,
            "_view_module": "@jupyter-widgets/base",
            "_view_module_version": "1.2.0",
            "_view_name": "StyleView",
            "description_width": ""
          }
        },
        "f2281c97358e4821bae4791411e7d4f9": {
          "model_module": "@jupyter-widgets/controls",
          "model_name": "HBoxModel",
          "model_module_version": "1.5.0",
          "state": {
            "_dom_classes": [],
            "_model_module": "@jupyter-widgets/controls",
            "_model_module_version": "1.5.0",
            "_model_name": "HBoxModel",
            "_view_count": null,
            "_view_module": "@jupyter-widgets/controls",
            "_view_module_version": "1.5.0",
            "_view_name": "HBoxView",
            "box_style": "",
            "children": [
              "IPY_MODEL_2e60285b1b5646b5a401cf9d1be8daef",
              "IPY_MODEL_5fb95b5abed8421d972027292fe040de",
              "IPY_MODEL_7d6d5ab9c64e4881a5ac0c2a4f83dc4f"
            ],
            "layout": "IPY_MODEL_7ca982bb8066451d98f64f98c94626ad"
          }
        },
        "2e60285b1b5646b5a401cf9d1be8daef": {
          "model_module": "@jupyter-widgets/controls",
          "model_name": "HTMLModel",
          "model_module_version": "1.5.0",
          "state": {
            "_dom_classes": [],
            "_model_module": "@jupyter-widgets/controls",
            "_model_module_version": "1.5.0",
            "_model_name": "HTMLModel",
            "_view_count": null,
            "_view_module": "@jupyter-widgets/controls",
            "_view_module_version": "1.5.0",
            "_view_name": "HTMLView",
            "description": "",
            "description_tooltip": null,
            "layout": "IPY_MODEL_fec2829e084c4669a33be3dfd9a4ffbd",
            "placeholder": "​",
            "style": "IPY_MODEL_172ba0fa751d44f29cf1c4a60da235f3",
            "value": "Loading checkpoint shards: 100%"
          }
        },
        "5fb95b5abed8421d972027292fe040de": {
          "model_module": "@jupyter-widgets/controls",
          "model_name": "FloatProgressModel",
          "model_module_version": "1.5.0",
          "state": {
            "_dom_classes": [],
            "_model_module": "@jupyter-widgets/controls",
            "_model_module_version": "1.5.0",
            "_model_name": "FloatProgressModel",
            "_view_count": null,
            "_view_module": "@jupyter-widgets/controls",
            "_view_module_version": "1.5.0",
            "_view_name": "ProgressView",
            "bar_style": "success",
            "description": "",
            "description_tooltip": null,
            "layout": "IPY_MODEL_876d50a68cdb4c7a8c458527e26e1209",
            "max": 2,
            "min": 0,
            "orientation": "horizontal",
            "style": "IPY_MODEL_2f8e15c36418411fba63c4aeffbb6924",
            "value": 2
          }
        },
        "7d6d5ab9c64e4881a5ac0c2a4f83dc4f": {
          "model_module": "@jupyter-widgets/controls",
          "model_name": "HTMLModel",
          "model_module_version": "1.5.0",
          "state": {
            "_dom_classes": [],
            "_model_module": "@jupyter-widgets/controls",
            "_model_module_version": "1.5.0",
            "_model_name": "HTMLModel",
            "_view_count": null,
            "_view_module": "@jupyter-widgets/controls",
            "_view_module_version": "1.5.0",
            "_view_name": "HTMLView",
            "description": "",
            "description_tooltip": null,
            "layout": "IPY_MODEL_7b452957415b4c4caaa985ef6e29939e",
            "placeholder": "​",
            "style": "IPY_MODEL_e7e9c1c308834204941836ad6df2556a",
            "value": " 2/2 [00:28&lt;00:00, 12.77s/it]"
          }
        },
        "7ca982bb8066451d98f64f98c94626ad": {
          "model_module": "@jupyter-widgets/base",
          "model_name": "LayoutModel",
          "model_module_version": "1.2.0",
          "state": {
            "_model_module": "@jupyter-widgets/base",
            "_model_module_version": "1.2.0",
            "_model_name": "LayoutModel",
            "_view_count": null,
            "_view_module": "@jupyter-widgets/base",
            "_view_module_version": "1.2.0",
            "_view_name": "LayoutView",
            "align_content": null,
            "align_items": null,
            "align_self": null,
            "border": null,
            "bottom": null,
            "display": null,
            "flex": null,
            "flex_flow": null,
            "grid_area": null,
            "grid_auto_columns": null,
            "grid_auto_flow": null,
            "grid_auto_rows": null,
            "grid_column": null,
            "grid_gap": null,
            "grid_row": null,
            "grid_template_areas": null,
            "grid_template_columns": null,
            "grid_template_rows": null,
            "height": null,
            "justify_content": null,
            "justify_items": null,
            "left": null,
            "margin": null,
            "max_height": null,
            "max_width": null,
            "min_height": null,
            "min_width": null,
            "object_fit": null,
            "object_position": null,
            "order": null,
            "overflow": null,
            "overflow_x": null,
            "overflow_y": null,
            "padding": null,
            "right": null,
            "top": null,
            "visibility": null,
            "width": null
          }
        },
        "fec2829e084c4669a33be3dfd9a4ffbd": {
          "model_module": "@jupyter-widgets/base",
          "model_name": "LayoutModel",
          "model_module_version": "1.2.0",
          "state": {
            "_model_module": "@jupyter-widgets/base",
            "_model_module_version": "1.2.0",
            "_model_name": "LayoutModel",
            "_view_count": null,
            "_view_module": "@jupyter-widgets/base",
            "_view_module_version": "1.2.0",
            "_view_name": "LayoutView",
            "align_content": null,
            "align_items": null,
            "align_self": null,
            "border": null,
            "bottom": null,
            "display": null,
            "flex": null,
            "flex_flow": null,
            "grid_area": null,
            "grid_auto_columns": null,
            "grid_auto_flow": null,
            "grid_auto_rows": null,
            "grid_column": null,
            "grid_gap": null,
            "grid_row": null,
            "grid_template_areas": null,
            "grid_template_columns": null,
            "grid_template_rows": null,
            "height": null,
            "justify_content": null,
            "justify_items": null,
            "left": null,
            "margin": null,
            "max_height": null,
            "max_width": null,
            "min_height": null,
            "min_width": null,
            "object_fit": null,
            "object_position": null,
            "order": null,
            "overflow": null,
            "overflow_x": null,
            "overflow_y": null,
            "padding": null,
            "right": null,
            "top": null,
            "visibility": null,
            "width": null
          }
        },
        "172ba0fa751d44f29cf1c4a60da235f3": {
          "model_module": "@jupyter-widgets/controls",
          "model_name": "DescriptionStyleModel",
          "model_module_version": "1.5.0",
          "state": {
            "_model_module": "@jupyter-widgets/controls",
            "_model_module_version": "1.5.0",
            "_model_name": "DescriptionStyleModel",
            "_view_count": null,
            "_view_module": "@jupyter-widgets/base",
            "_view_module_version": "1.2.0",
            "_view_name": "StyleView",
            "description_width": ""
          }
        },
        "876d50a68cdb4c7a8c458527e26e1209": {
          "model_module": "@jupyter-widgets/base",
          "model_name": "LayoutModel",
          "model_module_version": "1.2.0",
          "state": {
            "_model_module": "@jupyter-widgets/base",
            "_model_module_version": "1.2.0",
            "_model_name": "LayoutModel",
            "_view_count": null,
            "_view_module": "@jupyter-widgets/base",
            "_view_module_version": "1.2.0",
            "_view_name": "LayoutView",
            "align_content": null,
            "align_items": null,
            "align_self": null,
            "border": null,
            "bottom": null,
            "display": null,
            "flex": null,
            "flex_flow": null,
            "grid_area": null,
            "grid_auto_columns": null,
            "grid_auto_flow": null,
            "grid_auto_rows": null,
            "grid_column": null,
            "grid_gap": null,
            "grid_row": null,
            "grid_template_areas": null,
            "grid_template_columns": null,
            "grid_template_rows": null,
            "height": null,
            "justify_content": null,
            "justify_items": null,
            "left": null,
            "margin": null,
            "max_height": null,
            "max_width": null,
            "min_height": null,
            "min_width": null,
            "object_fit": null,
            "object_position": null,
            "order": null,
            "overflow": null,
            "overflow_x": null,
            "overflow_y": null,
            "padding": null,
            "right": null,
            "top": null,
            "visibility": null,
            "width": null
          }
        },
        "2f8e15c36418411fba63c4aeffbb6924": {
          "model_module": "@jupyter-widgets/controls",
          "model_name": "ProgressStyleModel",
          "model_module_version": "1.5.0",
          "state": {
            "_model_module": "@jupyter-widgets/controls",
            "_model_module_version": "1.5.0",
            "_model_name": "ProgressStyleModel",
            "_view_count": null,
            "_view_module": "@jupyter-widgets/base",
            "_view_module_version": "1.2.0",
            "_view_name": "StyleView",
            "bar_color": null,
            "description_width": ""
          }
        },
        "7b452957415b4c4caaa985ef6e29939e": {
          "model_module": "@jupyter-widgets/base",
          "model_name": "LayoutModel",
          "model_module_version": "1.2.0",
          "state": {
            "_model_module": "@jupyter-widgets/base",
            "_model_module_version": "1.2.0",
            "_model_name": "LayoutModel",
            "_view_count": null,
            "_view_module": "@jupyter-widgets/base",
            "_view_module_version": "1.2.0",
            "_view_name": "LayoutView",
            "align_content": null,
            "align_items": null,
            "align_self": null,
            "border": null,
            "bottom": null,
            "display": null,
            "flex": null,
            "flex_flow": null,
            "grid_area": null,
            "grid_auto_columns": null,
            "grid_auto_flow": null,
            "grid_auto_rows": null,
            "grid_column": null,
            "grid_gap": null,
            "grid_row": null,
            "grid_template_areas": null,
            "grid_template_columns": null,
            "grid_template_rows": null,
            "height": null,
            "justify_content": null,
            "justify_items": null,
            "left": null,
            "margin": null,
            "max_height": null,
            "max_width": null,
            "min_height": null,
            "min_width": null,
            "object_fit": null,
            "object_position": null,
            "order": null,
            "overflow": null,
            "overflow_x": null,
            "overflow_y": null,
            "padding": null,
            "right": null,
            "top": null,
            "visibility": null,
            "width": null
          }
        },
        "e7e9c1c308834204941836ad6df2556a": {
          "model_module": "@jupyter-widgets/controls",
          "model_name": "DescriptionStyleModel",
          "model_module_version": "1.5.0",
          "state": {
            "_model_module": "@jupyter-widgets/controls",
            "_model_module_version": "1.5.0",
            "_model_name": "DescriptionStyleModel",
            "_view_count": null,
            "_view_module": "@jupyter-widgets/base",
            "_view_module_version": "1.2.0",
            "_view_name": "StyleView",
            "description_width": ""
          }
        },
        "8addca6454d5473abe075b5ee96c5266": {
          "model_module": "@jupyter-widgets/controls",
          "model_name": "HBoxModel",
          "model_module_version": "1.5.0",
          "state": {
            "_dom_classes": [],
            "_model_module": "@jupyter-widgets/controls",
            "_model_module_version": "1.5.0",
            "_model_name": "HBoxModel",
            "_view_count": null,
            "_view_module": "@jupyter-widgets/controls",
            "_view_module_version": "1.5.0",
            "_view_name": "HBoxView",
            "box_style": "",
            "children": [
              "IPY_MODEL_a603ef6452ab4f948392cf5a528057b3",
              "IPY_MODEL_6d6df89281f34c9b802c995a26455fe5",
              "IPY_MODEL_62187d36a64d47d4bd7067ebc6bba9ea"
            ],
            "layout": "IPY_MODEL_1e1c8a54c9294aab8cdea3e6f753f6ea"
          }
        },
        "a603ef6452ab4f948392cf5a528057b3": {
          "model_module": "@jupyter-widgets/controls",
          "model_name": "HTMLModel",
          "model_module_version": "1.5.0",
          "state": {
            "_dom_classes": [],
            "_model_module": "@jupyter-widgets/controls",
            "_model_module_version": "1.5.0",
            "_model_name": "HTMLModel",
            "_view_count": null,
            "_view_module": "@jupyter-widgets/controls",
            "_view_module_version": "1.5.0",
            "_view_name": "HTMLView",
            "description": "",
            "description_tooltip": null,
            "layout": "IPY_MODEL_644a3f0c93da479da7605907cfbe9e9b",
            "placeholder": "​",
            "style": "IPY_MODEL_9a4bb564f629455aa24fc34d01516df2",
            "value": "generation_config.json: 100%"
          }
        },
        "6d6df89281f34c9b802c995a26455fe5": {
          "model_module": "@jupyter-widgets/controls",
          "model_name": "FloatProgressModel",
          "model_module_version": "1.5.0",
          "state": {
            "_dom_classes": [],
            "_model_module": "@jupyter-widgets/controls",
            "_model_module_version": "1.5.0",
            "_model_name": "FloatProgressModel",
            "_view_count": null,
            "_view_module": "@jupyter-widgets/controls",
            "_view_module_version": "1.5.0",
            "_view_name": "ProgressView",
            "bar_style": "success",
            "description": "",
            "description_tooltip": null,
            "layout": "IPY_MODEL_4d68d5a635ca48c4836c4b87bc21fc69",
            "max": 124,
            "min": 0,
            "orientation": "horizontal",
            "style": "IPY_MODEL_95e6b21899f9407a92e924a46de27068",
            "value": 124
          }
        },
        "62187d36a64d47d4bd7067ebc6bba9ea": {
          "model_module": "@jupyter-widgets/controls",
          "model_name": "HTMLModel",
          "model_module_version": "1.5.0",
          "state": {
            "_dom_classes": [],
            "_model_module": "@jupyter-widgets/controls",
            "_model_module_version": "1.5.0",
            "_model_name": "HTMLModel",
            "_view_count": null,
            "_view_module": "@jupyter-widgets/controls",
            "_view_module_version": "1.5.0",
            "_view_name": "HTMLView",
            "description": "",
            "description_tooltip": null,
            "layout": "IPY_MODEL_36a9b5b467ef4aadb739b712924e5203",
            "placeholder": "​",
            "style": "IPY_MODEL_03ceb1768d4e4ddea6e4ec87ad2836db",
            "value": " 124/124 [00:00&lt;00:00, 10.4kB/s]"
          }
        },
        "1e1c8a54c9294aab8cdea3e6f753f6ea": {
          "model_module": "@jupyter-widgets/base",
          "model_name": "LayoutModel",
          "model_module_version": "1.2.0",
          "state": {
            "_model_module": "@jupyter-widgets/base",
            "_model_module_version": "1.2.0",
            "_model_name": "LayoutModel",
            "_view_count": null,
            "_view_module": "@jupyter-widgets/base",
            "_view_module_version": "1.2.0",
            "_view_name": "LayoutView",
            "align_content": null,
            "align_items": null,
            "align_self": null,
            "border": null,
            "bottom": null,
            "display": null,
            "flex": null,
            "flex_flow": null,
            "grid_area": null,
            "grid_auto_columns": null,
            "grid_auto_flow": null,
            "grid_auto_rows": null,
            "grid_column": null,
            "grid_gap": null,
            "grid_row": null,
            "grid_template_areas": null,
            "grid_template_columns": null,
            "grid_template_rows": null,
            "height": null,
            "justify_content": null,
            "justify_items": null,
            "left": null,
            "margin": null,
            "max_height": null,
            "max_width": null,
            "min_height": null,
            "min_width": null,
            "object_fit": null,
            "object_position": null,
            "order": null,
            "overflow": null,
            "overflow_x": null,
            "overflow_y": null,
            "padding": null,
            "right": null,
            "top": null,
            "visibility": null,
            "width": null
          }
        },
        "644a3f0c93da479da7605907cfbe9e9b": {
          "model_module": "@jupyter-widgets/base",
          "model_name": "LayoutModel",
          "model_module_version": "1.2.0",
          "state": {
            "_model_module": "@jupyter-widgets/base",
            "_model_module_version": "1.2.0",
            "_model_name": "LayoutModel",
            "_view_count": null,
            "_view_module": "@jupyter-widgets/base",
            "_view_module_version": "1.2.0",
            "_view_name": "LayoutView",
            "align_content": null,
            "align_items": null,
            "align_self": null,
            "border": null,
            "bottom": null,
            "display": null,
            "flex": null,
            "flex_flow": null,
            "grid_area": null,
            "grid_auto_columns": null,
            "grid_auto_flow": null,
            "grid_auto_rows": null,
            "grid_column": null,
            "grid_gap": null,
            "grid_row": null,
            "grid_template_areas": null,
            "grid_template_columns": null,
            "grid_template_rows": null,
            "height": null,
            "justify_content": null,
            "justify_items": null,
            "left": null,
            "margin": null,
            "max_height": null,
            "max_width": null,
            "min_height": null,
            "min_width": null,
            "object_fit": null,
            "object_position": null,
            "order": null,
            "overflow": null,
            "overflow_x": null,
            "overflow_y": null,
            "padding": null,
            "right": null,
            "top": null,
            "visibility": null,
            "width": null
          }
        },
        "9a4bb564f629455aa24fc34d01516df2": {
          "model_module": "@jupyter-widgets/controls",
          "model_name": "DescriptionStyleModel",
          "model_module_version": "1.5.0",
          "state": {
            "_model_module": "@jupyter-widgets/controls",
            "_model_module_version": "1.5.0",
            "_model_name": "DescriptionStyleModel",
            "_view_count": null,
            "_view_module": "@jupyter-widgets/base",
            "_view_module_version": "1.2.0",
            "_view_name": "StyleView",
            "description_width": ""
          }
        },
        "4d68d5a635ca48c4836c4b87bc21fc69": {
          "model_module": "@jupyter-widgets/base",
          "model_name": "LayoutModel",
          "model_module_version": "1.2.0",
          "state": {
            "_model_module": "@jupyter-widgets/base",
            "_model_module_version": "1.2.0",
            "_model_name": "LayoutModel",
            "_view_count": null,
            "_view_module": "@jupyter-widgets/base",
            "_view_module_version": "1.2.0",
            "_view_name": "LayoutView",
            "align_content": null,
            "align_items": null,
            "align_self": null,
            "border": null,
            "bottom": null,
            "display": null,
            "flex": null,
            "flex_flow": null,
            "grid_area": null,
            "grid_auto_columns": null,
            "grid_auto_flow": null,
            "grid_auto_rows": null,
            "grid_column": null,
            "grid_gap": null,
            "grid_row": null,
            "grid_template_areas": null,
            "grid_template_columns": null,
            "grid_template_rows": null,
            "height": null,
            "justify_content": null,
            "justify_items": null,
            "left": null,
            "margin": null,
            "max_height": null,
            "max_width": null,
            "min_height": null,
            "min_width": null,
            "object_fit": null,
            "object_position": null,
            "order": null,
            "overflow": null,
            "overflow_x": null,
            "overflow_y": null,
            "padding": null,
            "right": null,
            "top": null,
            "visibility": null,
            "width": null
          }
        },
        "95e6b21899f9407a92e924a46de27068": {
          "model_module": "@jupyter-widgets/controls",
          "model_name": "ProgressStyleModel",
          "model_module_version": "1.5.0",
          "state": {
            "_model_module": "@jupyter-widgets/controls",
            "_model_module_version": "1.5.0",
            "_model_name": "ProgressStyleModel",
            "_view_count": null,
            "_view_module": "@jupyter-widgets/base",
            "_view_module_version": "1.2.0",
            "_view_name": "StyleView",
            "bar_color": null,
            "description_width": ""
          }
        },
        "36a9b5b467ef4aadb739b712924e5203": {
          "model_module": "@jupyter-widgets/base",
          "model_name": "LayoutModel",
          "model_module_version": "1.2.0",
          "state": {
            "_model_module": "@jupyter-widgets/base",
            "_model_module_version": "1.2.0",
            "_model_name": "LayoutModel",
            "_view_count": null,
            "_view_module": "@jupyter-widgets/base",
            "_view_module_version": "1.2.0",
            "_view_name": "LayoutView",
            "align_content": null,
            "align_items": null,
            "align_self": null,
            "border": null,
            "bottom": null,
            "display": null,
            "flex": null,
            "flex_flow": null,
            "grid_area": null,
            "grid_auto_columns": null,
            "grid_auto_flow": null,
            "grid_auto_rows": null,
            "grid_column": null,
            "grid_gap": null,
            "grid_row": null,
            "grid_template_areas": null,
            "grid_template_columns": null,
            "grid_template_rows": null,
            "height": null,
            "justify_content": null,
            "justify_items": null,
            "left": null,
            "margin": null,
            "max_height": null,
            "max_width": null,
            "min_height": null,
            "min_width": null,
            "object_fit": null,
            "object_position": null,
            "order": null,
            "overflow": null,
            "overflow_x": null,
            "overflow_y": null,
            "padding": null,
            "right": null,
            "top": null,
            "visibility": null,
            "width": null
          }
        },
        "03ceb1768d4e4ddea6e4ec87ad2836db": {
          "model_module": "@jupyter-widgets/controls",
          "model_name": "DescriptionStyleModel",
          "model_module_version": "1.5.0",
          "state": {
            "_model_module": "@jupyter-widgets/controls",
            "_model_module_version": "1.5.0",
            "_model_name": "DescriptionStyleModel",
            "_view_count": null,
            "_view_module": "@jupyter-widgets/base",
            "_view_module_version": "1.2.0",
            "_view_name": "StyleView",
            "description_width": ""
          }
        },
        "237a54afd11148f99d7e319296192b4e": {
          "model_module": "@jupyter-widgets/controls",
          "model_name": "HBoxModel",
          "model_module_version": "1.5.0",
          "state": {
            "_dom_classes": [],
            "_model_module": "@jupyter-widgets/controls",
            "_model_module_version": "1.5.0",
            "_model_name": "HBoxModel",
            "_view_count": null,
            "_view_module": "@jupyter-widgets/controls",
            "_view_module_version": "1.5.0",
            "_view_name": "HBoxView",
            "box_style": "",
            "children": [
              "IPY_MODEL_a9219a3353ae43198e9311d6937ce2c1",
              "IPY_MODEL_4ddf4b0030854d3c97134948b58f6e82",
              "IPY_MODEL_2b5e723bd2574537b7feb1069e7e7dd5"
            ],
            "layout": "IPY_MODEL_150d2fa3d6204828a69cdfc37e8ff486"
          }
        },
        "a9219a3353ae43198e9311d6937ce2c1": {
          "model_module": "@jupyter-widgets/controls",
          "model_name": "HTMLModel",
          "model_module_version": "1.5.0",
          "state": {
            "_dom_classes": [],
            "_model_module": "@jupyter-widgets/controls",
            "_model_module_version": "1.5.0",
            "_model_name": "HTMLModel",
            "_view_count": null,
            "_view_module": "@jupyter-widgets/controls",
            "_view_module_version": "1.5.0",
            "_view_name": "HTMLView",
            "description": "",
            "description_tooltip": null,
            "layout": "IPY_MODEL_57698274a2ff4c63b041b7956157b708",
            "placeholder": "​",
            "style": "IPY_MODEL_91791120eb6d49dcb2112f209803f3c4",
            "value": "modules.json: 100%"
          }
        },
        "4ddf4b0030854d3c97134948b58f6e82": {
          "model_module": "@jupyter-widgets/controls",
          "model_name": "FloatProgressModel",
          "model_module_version": "1.5.0",
          "state": {
            "_dom_classes": [],
            "_model_module": "@jupyter-widgets/controls",
            "_model_module_version": "1.5.0",
            "_model_name": "FloatProgressModel",
            "_view_count": null,
            "_view_module": "@jupyter-widgets/controls",
            "_view_module_version": "1.5.0",
            "_view_name": "ProgressView",
            "bar_style": "success",
            "description": "",
            "description_tooltip": null,
            "layout": "IPY_MODEL_7c308c0510864b54b764939531df5ae7",
            "max": 349,
            "min": 0,
            "orientation": "horizontal",
            "style": "IPY_MODEL_bac36d7e98b8475fb97c8a7ed39cf6a0",
            "value": 349
          }
        },
        "2b5e723bd2574537b7feb1069e7e7dd5": {
          "model_module": "@jupyter-widgets/controls",
          "model_name": "HTMLModel",
          "model_module_version": "1.5.0",
          "state": {
            "_dom_classes": [],
            "_model_module": "@jupyter-widgets/controls",
            "_model_module_version": "1.5.0",
            "_model_name": "HTMLModel",
            "_view_count": null,
            "_view_module": "@jupyter-widgets/controls",
            "_view_module_version": "1.5.0",
            "_view_name": "HTMLView",
            "description": "",
            "description_tooltip": null,
            "layout": "IPY_MODEL_9b6ce02938ec4067bd6ecc81194e9c77",
            "placeholder": "​",
            "style": "IPY_MODEL_1e81321ce49541159dbe0e17f0c1c373",
            "value": " 349/349 [00:00&lt;00:00, 18.9kB/s]"
          }
        },
        "150d2fa3d6204828a69cdfc37e8ff486": {
          "model_module": "@jupyter-widgets/base",
          "model_name": "LayoutModel",
          "model_module_version": "1.2.0",
          "state": {
            "_model_module": "@jupyter-widgets/base",
            "_model_module_version": "1.2.0",
            "_model_name": "LayoutModel",
            "_view_count": null,
            "_view_module": "@jupyter-widgets/base",
            "_view_module_version": "1.2.0",
            "_view_name": "LayoutView",
            "align_content": null,
            "align_items": null,
            "align_self": null,
            "border": null,
            "bottom": null,
            "display": null,
            "flex": null,
            "flex_flow": null,
            "grid_area": null,
            "grid_auto_columns": null,
            "grid_auto_flow": null,
            "grid_auto_rows": null,
            "grid_column": null,
            "grid_gap": null,
            "grid_row": null,
            "grid_template_areas": null,
            "grid_template_columns": null,
            "grid_template_rows": null,
            "height": null,
            "justify_content": null,
            "justify_items": null,
            "left": null,
            "margin": null,
            "max_height": null,
            "max_width": null,
            "min_height": null,
            "min_width": null,
            "object_fit": null,
            "object_position": null,
            "order": null,
            "overflow": null,
            "overflow_x": null,
            "overflow_y": null,
            "padding": null,
            "right": null,
            "top": null,
            "visibility": null,
            "width": null
          }
        },
        "57698274a2ff4c63b041b7956157b708": {
          "model_module": "@jupyter-widgets/base",
          "model_name": "LayoutModel",
          "model_module_version": "1.2.0",
          "state": {
            "_model_module": "@jupyter-widgets/base",
            "_model_module_version": "1.2.0",
            "_model_name": "LayoutModel",
            "_view_count": null,
            "_view_module": "@jupyter-widgets/base",
            "_view_module_version": "1.2.0",
            "_view_name": "LayoutView",
            "align_content": null,
            "align_items": null,
            "align_self": null,
            "border": null,
            "bottom": null,
            "display": null,
            "flex": null,
            "flex_flow": null,
            "grid_area": null,
            "grid_auto_columns": null,
            "grid_auto_flow": null,
            "grid_auto_rows": null,
            "grid_column": null,
            "grid_gap": null,
            "grid_row": null,
            "grid_template_areas": null,
            "grid_template_columns": null,
            "grid_template_rows": null,
            "height": null,
            "justify_content": null,
            "justify_items": null,
            "left": null,
            "margin": null,
            "max_height": null,
            "max_width": null,
            "min_height": null,
            "min_width": null,
            "object_fit": null,
            "object_position": null,
            "order": null,
            "overflow": null,
            "overflow_x": null,
            "overflow_y": null,
            "padding": null,
            "right": null,
            "top": null,
            "visibility": null,
            "width": null
          }
        },
        "91791120eb6d49dcb2112f209803f3c4": {
          "model_module": "@jupyter-widgets/controls",
          "model_name": "DescriptionStyleModel",
          "model_module_version": "1.5.0",
          "state": {
            "_model_module": "@jupyter-widgets/controls",
            "_model_module_version": "1.5.0",
            "_model_name": "DescriptionStyleModel",
            "_view_count": null,
            "_view_module": "@jupyter-widgets/base",
            "_view_module_version": "1.2.0",
            "_view_name": "StyleView",
            "description_width": ""
          }
        },
        "7c308c0510864b54b764939531df5ae7": {
          "model_module": "@jupyter-widgets/base",
          "model_name": "LayoutModel",
          "model_module_version": "1.2.0",
          "state": {
            "_model_module": "@jupyter-widgets/base",
            "_model_module_version": "1.2.0",
            "_model_name": "LayoutModel",
            "_view_count": null,
            "_view_module": "@jupyter-widgets/base",
            "_view_module_version": "1.2.0",
            "_view_name": "LayoutView",
            "align_content": null,
            "align_items": null,
            "align_self": null,
            "border": null,
            "bottom": null,
            "display": null,
            "flex": null,
            "flex_flow": null,
            "grid_area": null,
            "grid_auto_columns": null,
            "grid_auto_flow": null,
            "grid_auto_rows": null,
            "grid_column": null,
            "grid_gap": null,
            "grid_row": null,
            "grid_template_areas": null,
            "grid_template_columns": null,
            "grid_template_rows": null,
            "height": null,
            "justify_content": null,
            "justify_items": null,
            "left": null,
            "margin": null,
            "max_height": null,
            "max_width": null,
            "min_height": null,
            "min_width": null,
            "object_fit": null,
            "object_position": null,
            "order": null,
            "overflow": null,
            "overflow_x": null,
            "overflow_y": null,
            "padding": null,
            "right": null,
            "top": null,
            "visibility": null,
            "width": null
          }
        },
        "bac36d7e98b8475fb97c8a7ed39cf6a0": {
          "model_module": "@jupyter-widgets/controls",
          "model_name": "ProgressStyleModel",
          "model_module_version": "1.5.0",
          "state": {
            "_model_module": "@jupyter-widgets/controls",
            "_model_module_version": "1.5.0",
            "_model_name": "ProgressStyleModel",
            "_view_count": null,
            "_view_module": "@jupyter-widgets/base",
            "_view_module_version": "1.2.0",
            "_view_name": "StyleView",
            "bar_color": null,
            "description_width": ""
          }
        },
        "9b6ce02938ec4067bd6ecc81194e9c77": {
          "model_module": "@jupyter-widgets/base",
          "model_name": "LayoutModel",
          "model_module_version": "1.2.0",
          "state": {
            "_model_module": "@jupyter-widgets/base",
            "_model_module_version": "1.2.0",
            "_model_name": "LayoutModel",
            "_view_count": null,
            "_view_module": "@jupyter-widgets/base",
            "_view_module_version": "1.2.0",
            "_view_name": "LayoutView",
            "align_content": null,
            "align_items": null,
            "align_self": null,
            "border": null,
            "bottom": null,
            "display": null,
            "flex": null,
            "flex_flow": null,
            "grid_area": null,
            "grid_auto_columns": null,
            "grid_auto_flow": null,
            "grid_auto_rows": null,
            "grid_column": null,
            "grid_gap": null,
            "grid_row": null,
            "grid_template_areas": null,
            "grid_template_columns": null,
            "grid_template_rows": null,
            "height": null,
            "justify_content": null,
            "justify_items": null,
            "left": null,
            "margin": null,
            "max_height": null,
            "max_width": null,
            "min_height": null,
            "min_width": null,
            "object_fit": null,
            "object_position": null,
            "order": null,
            "overflow": null,
            "overflow_x": null,
            "overflow_y": null,
            "padding": null,
            "right": null,
            "top": null,
            "visibility": null,
            "width": null
          }
        },
        "1e81321ce49541159dbe0e17f0c1c373": {
          "model_module": "@jupyter-widgets/controls",
          "model_name": "DescriptionStyleModel",
          "model_module_version": "1.5.0",
          "state": {
            "_model_module": "@jupyter-widgets/controls",
            "_model_module_version": "1.5.0",
            "_model_name": "DescriptionStyleModel",
            "_view_count": null,
            "_view_module": "@jupyter-widgets/base",
            "_view_module_version": "1.2.0",
            "_view_name": "StyleView",
            "description_width": ""
          }
        },
        "1574de9fab2f48f8bba57a0d66d68c12": {
          "model_module": "@jupyter-widgets/controls",
          "model_name": "HBoxModel",
          "model_module_version": "1.5.0",
          "state": {
            "_dom_classes": [],
            "_model_module": "@jupyter-widgets/controls",
            "_model_module_version": "1.5.0",
            "_model_name": "HBoxModel",
            "_view_count": null,
            "_view_module": "@jupyter-widgets/controls",
            "_view_module_version": "1.5.0",
            "_view_name": "HBoxView",
            "box_style": "",
            "children": [
              "IPY_MODEL_3c4062e45cee440b90f2a3cdafec8db6",
              "IPY_MODEL_d2a7ad07ca104393a53e3a838fcc8999",
              "IPY_MODEL_384719e61ab04ca4b186e7663886b86d"
            ],
            "layout": "IPY_MODEL_8e1ad464ebf145d39d6238b4cafbf138"
          }
        },
        "3c4062e45cee440b90f2a3cdafec8db6": {
          "model_module": "@jupyter-widgets/controls",
          "model_name": "HTMLModel",
          "model_module_version": "1.5.0",
          "state": {
            "_dom_classes": [],
            "_model_module": "@jupyter-widgets/controls",
            "_model_module_version": "1.5.0",
            "_model_name": "HTMLModel",
            "_view_count": null,
            "_view_module": "@jupyter-widgets/controls",
            "_view_module_version": "1.5.0",
            "_view_name": "HTMLView",
            "description": "",
            "description_tooltip": null,
            "layout": "IPY_MODEL_015f475fda3c4cd3a2a56b9e40d02214",
            "placeholder": "​",
            "style": "IPY_MODEL_8edd61cc146c48acad8112b4bea725fd",
            "value": "config_sentence_transformers.json: 100%"
          }
        },
        "d2a7ad07ca104393a53e3a838fcc8999": {
          "model_module": "@jupyter-widgets/controls",
          "model_name": "FloatProgressModel",
          "model_module_version": "1.5.0",
          "state": {
            "_dom_classes": [],
            "_model_module": "@jupyter-widgets/controls",
            "_model_module_version": "1.5.0",
            "_model_name": "FloatProgressModel",
            "_view_count": null,
            "_view_module": "@jupyter-widgets/controls",
            "_view_module_version": "1.5.0",
            "_view_name": "ProgressView",
            "bar_style": "success",
            "description": "",
            "description_tooltip": null,
            "layout": "IPY_MODEL_7879bd2917b44a458ca5d602cf6e022c",
            "max": 116,
            "min": 0,
            "orientation": "horizontal",
            "style": "IPY_MODEL_01de3c648b634e18888697b0edf26215",
            "value": 116
          }
        },
        "384719e61ab04ca4b186e7663886b86d": {
          "model_module": "@jupyter-widgets/controls",
          "model_name": "HTMLModel",
          "model_module_version": "1.5.0",
          "state": {
            "_dom_classes": [],
            "_model_module": "@jupyter-widgets/controls",
            "_model_module_version": "1.5.0",
            "_model_name": "HTMLModel",
            "_view_count": null,
            "_view_module": "@jupyter-widgets/controls",
            "_view_module_version": "1.5.0",
            "_view_name": "HTMLView",
            "description": "",
            "description_tooltip": null,
            "layout": "IPY_MODEL_1ff7814ca4f14e8fa7ade57b79f39926",
            "placeholder": "​",
            "style": "IPY_MODEL_f1df16ccd90c4537b4f102b4059e2ae5",
            "value": " 116/116 [00:00&lt;00:00, 8.10kB/s]"
          }
        },
        "8e1ad464ebf145d39d6238b4cafbf138": {
          "model_module": "@jupyter-widgets/base",
          "model_name": "LayoutModel",
          "model_module_version": "1.2.0",
          "state": {
            "_model_module": "@jupyter-widgets/base",
            "_model_module_version": "1.2.0",
            "_model_name": "LayoutModel",
            "_view_count": null,
            "_view_module": "@jupyter-widgets/base",
            "_view_module_version": "1.2.0",
            "_view_name": "LayoutView",
            "align_content": null,
            "align_items": null,
            "align_self": null,
            "border": null,
            "bottom": null,
            "display": null,
            "flex": null,
            "flex_flow": null,
            "grid_area": null,
            "grid_auto_columns": null,
            "grid_auto_flow": null,
            "grid_auto_rows": null,
            "grid_column": null,
            "grid_gap": null,
            "grid_row": null,
            "grid_template_areas": null,
            "grid_template_columns": null,
            "grid_template_rows": null,
            "height": null,
            "justify_content": null,
            "justify_items": null,
            "left": null,
            "margin": null,
            "max_height": null,
            "max_width": null,
            "min_height": null,
            "min_width": null,
            "object_fit": null,
            "object_position": null,
            "order": null,
            "overflow": null,
            "overflow_x": null,
            "overflow_y": null,
            "padding": null,
            "right": null,
            "top": null,
            "visibility": null,
            "width": null
          }
        },
        "015f475fda3c4cd3a2a56b9e40d02214": {
          "model_module": "@jupyter-widgets/base",
          "model_name": "LayoutModel",
          "model_module_version": "1.2.0",
          "state": {
            "_model_module": "@jupyter-widgets/base",
            "_model_module_version": "1.2.0",
            "_model_name": "LayoutModel",
            "_view_count": null,
            "_view_module": "@jupyter-widgets/base",
            "_view_module_version": "1.2.0",
            "_view_name": "LayoutView",
            "align_content": null,
            "align_items": null,
            "align_self": null,
            "border": null,
            "bottom": null,
            "display": null,
            "flex": null,
            "flex_flow": null,
            "grid_area": null,
            "grid_auto_columns": null,
            "grid_auto_flow": null,
            "grid_auto_rows": null,
            "grid_column": null,
            "grid_gap": null,
            "grid_row": null,
            "grid_template_areas": null,
            "grid_template_columns": null,
            "grid_template_rows": null,
            "height": null,
            "justify_content": null,
            "justify_items": null,
            "left": null,
            "margin": null,
            "max_height": null,
            "max_width": null,
            "min_height": null,
            "min_width": null,
            "object_fit": null,
            "object_position": null,
            "order": null,
            "overflow": null,
            "overflow_x": null,
            "overflow_y": null,
            "padding": null,
            "right": null,
            "top": null,
            "visibility": null,
            "width": null
          }
        },
        "8edd61cc146c48acad8112b4bea725fd": {
          "model_module": "@jupyter-widgets/controls",
          "model_name": "DescriptionStyleModel",
          "model_module_version": "1.5.0",
          "state": {
            "_model_module": "@jupyter-widgets/controls",
            "_model_module_version": "1.5.0",
            "_model_name": "DescriptionStyleModel",
            "_view_count": null,
            "_view_module": "@jupyter-widgets/base",
            "_view_module_version": "1.2.0",
            "_view_name": "StyleView",
            "description_width": ""
          }
        },
        "7879bd2917b44a458ca5d602cf6e022c": {
          "model_module": "@jupyter-widgets/base",
          "model_name": "LayoutModel",
          "model_module_version": "1.2.0",
          "state": {
            "_model_module": "@jupyter-widgets/base",
            "_model_module_version": "1.2.0",
            "_model_name": "LayoutModel",
            "_view_count": null,
            "_view_module": "@jupyter-widgets/base",
            "_view_module_version": "1.2.0",
            "_view_name": "LayoutView",
            "align_content": null,
            "align_items": null,
            "align_self": null,
            "border": null,
            "bottom": null,
            "display": null,
            "flex": null,
            "flex_flow": null,
            "grid_area": null,
            "grid_auto_columns": null,
            "grid_auto_flow": null,
            "grid_auto_rows": null,
            "grid_column": null,
            "grid_gap": null,
            "grid_row": null,
            "grid_template_areas": null,
            "grid_template_columns": null,
            "grid_template_rows": null,
            "height": null,
            "justify_content": null,
            "justify_items": null,
            "left": null,
            "margin": null,
            "max_height": null,
            "max_width": null,
            "min_height": null,
            "min_width": null,
            "object_fit": null,
            "object_position": null,
            "order": null,
            "overflow": null,
            "overflow_x": null,
            "overflow_y": null,
            "padding": null,
            "right": null,
            "top": null,
            "visibility": null,
            "width": null
          }
        },
        "01de3c648b634e18888697b0edf26215": {
          "model_module": "@jupyter-widgets/controls",
          "model_name": "ProgressStyleModel",
          "model_module_version": "1.5.0",
          "state": {
            "_model_module": "@jupyter-widgets/controls",
            "_model_module_version": "1.5.0",
            "_model_name": "ProgressStyleModel",
            "_view_count": null,
            "_view_module": "@jupyter-widgets/base",
            "_view_module_version": "1.2.0",
            "_view_name": "StyleView",
            "bar_color": null,
            "description_width": ""
          }
        },
        "1ff7814ca4f14e8fa7ade57b79f39926": {
          "model_module": "@jupyter-widgets/base",
          "model_name": "LayoutModel",
          "model_module_version": "1.2.0",
          "state": {
            "_model_module": "@jupyter-widgets/base",
            "_model_module_version": "1.2.0",
            "_model_name": "LayoutModel",
            "_view_count": null,
            "_view_module": "@jupyter-widgets/base",
            "_view_module_version": "1.2.0",
            "_view_name": "LayoutView",
            "align_content": null,
            "align_items": null,
            "align_self": null,
            "border": null,
            "bottom": null,
            "display": null,
            "flex": null,
            "flex_flow": null,
            "grid_area": null,
            "grid_auto_columns": null,
            "grid_auto_flow": null,
            "grid_auto_rows": null,
            "grid_column": null,
            "grid_gap": null,
            "grid_row": null,
            "grid_template_areas": null,
            "grid_template_columns": null,
            "grid_template_rows": null,
            "height": null,
            "justify_content": null,
            "justify_items": null,
            "left": null,
            "margin": null,
            "max_height": null,
            "max_width": null,
            "min_height": null,
            "min_width": null,
            "object_fit": null,
            "object_position": null,
            "order": null,
            "overflow": null,
            "overflow_x": null,
            "overflow_y": null,
            "padding": null,
            "right": null,
            "top": null,
            "visibility": null,
            "width": null
          }
        },
        "f1df16ccd90c4537b4f102b4059e2ae5": {
          "model_module": "@jupyter-widgets/controls",
          "model_name": "DescriptionStyleModel",
          "model_module_version": "1.5.0",
          "state": {
            "_model_module": "@jupyter-widgets/controls",
            "_model_module_version": "1.5.0",
            "_model_name": "DescriptionStyleModel",
            "_view_count": null,
            "_view_module": "@jupyter-widgets/base",
            "_view_module_version": "1.2.0",
            "_view_name": "StyleView",
            "description_width": ""
          }
        },
        "eadb5e7ca37f426995a930df1a5359c2": {
          "model_module": "@jupyter-widgets/controls",
          "model_name": "HBoxModel",
          "model_module_version": "1.5.0",
          "state": {
            "_dom_classes": [],
            "_model_module": "@jupyter-widgets/controls",
            "_model_module_version": "1.5.0",
            "_model_name": "HBoxModel",
            "_view_count": null,
            "_view_module": "@jupyter-widgets/controls",
            "_view_module_version": "1.5.0",
            "_view_name": "HBoxView",
            "box_style": "",
            "children": [
              "IPY_MODEL_d3799cf51ad84e01aa1b5a31c8b768eb",
              "IPY_MODEL_71870a0c4eb74edb85b16c8824d54be0",
              "IPY_MODEL_60a8135afdfe4cafbe92c35a0a6f556f"
            ],
            "layout": "IPY_MODEL_6f07bd77ed7d4f519661975c2c96e20e"
          }
        },
        "d3799cf51ad84e01aa1b5a31c8b768eb": {
          "model_module": "@jupyter-widgets/controls",
          "model_name": "HTMLModel",
          "model_module_version": "1.5.0",
          "state": {
            "_dom_classes": [],
            "_model_module": "@jupyter-widgets/controls",
            "_model_module_version": "1.5.0",
            "_model_name": "HTMLModel",
            "_view_count": null,
            "_view_module": "@jupyter-widgets/controls",
            "_view_module_version": "1.5.0",
            "_view_name": "HTMLView",
            "description": "",
            "description_tooltip": null,
            "layout": "IPY_MODEL_abd08c3492804158ba4880d154b950d1",
            "placeholder": "​",
            "style": "IPY_MODEL_46a195284d2f48109d83bfb53d16d7f8",
            "value": "README.md: 100%"
          }
        },
        "71870a0c4eb74edb85b16c8824d54be0": {
          "model_module": "@jupyter-widgets/controls",
          "model_name": "FloatProgressModel",
          "model_module_version": "1.5.0",
          "state": {
            "_dom_classes": [],
            "_model_module": "@jupyter-widgets/controls",
            "_model_module_version": "1.5.0",
            "_model_name": "FloatProgressModel",
            "_view_count": null,
            "_view_module": "@jupyter-widgets/controls",
            "_view_module_version": "1.5.0",
            "_view_name": "ProgressView",
            "bar_style": "success",
            "description": "",
            "description_tooltip": null,
            "layout": "IPY_MODEL_5bd8d95f6b814cea8e49caf7879b7091",
            "max": 10659,
            "min": 0,
            "orientation": "horizontal",
            "style": "IPY_MODEL_3c6d2ef8ea2148ecb35a3047d4c5b77a",
            "value": 10659
          }
        },
        "60a8135afdfe4cafbe92c35a0a6f556f": {
          "model_module": "@jupyter-widgets/controls",
          "model_name": "HTMLModel",
          "model_module_version": "1.5.0",
          "state": {
            "_dom_classes": [],
            "_model_module": "@jupyter-widgets/controls",
            "_model_module_version": "1.5.0",
            "_model_name": "HTMLModel",
            "_view_count": null,
            "_view_module": "@jupyter-widgets/controls",
            "_view_module_version": "1.5.0",
            "_view_name": "HTMLView",
            "description": "",
            "description_tooltip": null,
            "layout": "IPY_MODEL_fb3a6c9d73e745318cd75037f2eb955c",
            "placeholder": "​",
            "style": "IPY_MODEL_7ae80cf53bf74d3485496f150f8fd36f",
            "value": " 10.7k/10.7k [00:00&lt;00:00, 861kB/s]"
          }
        },
        "6f07bd77ed7d4f519661975c2c96e20e": {
          "model_module": "@jupyter-widgets/base",
          "model_name": "LayoutModel",
          "model_module_version": "1.2.0",
          "state": {
            "_model_module": "@jupyter-widgets/base",
            "_model_module_version": "1.2.0",
            "_model_name": "LayoutModel",
            "_view_count": null,
            "_view_module": "@jupyter-widgets/base",
            "_view_module_version": "1.2.0",
            "_view_name": "LayoutView",
            "align_content": null,
            "align_items": null,
            "align_self": null,
            "border": null,
            "bottom": null,
            "display": null,
            "flex": null,
            "flex_flow": null,
            "grid_area": null,
            "grid_auto_columns": null,
            "grid_auto_flow": null,
            "grid_auto_rows": null,
            "grid_column": null,
            "grid_gap": null,
            "grid_row": null,
            "grid_template_areas": null,
            "grid_template_columns": null,
            "grid_template_rows": null,
            "height": null,
            "justify_content": null,
            "justify_items": null,
            "left": null,
            "margin": null,
            "max_height": null,
            "max_width": null,
            "min_height": null,
            "min_width": null,
            "object_fit": null,
            "object_position": null,
            "order": null,
            "overflow": null,
            "overflow_x": null,
            "overflow_y": null,
            "padding": null,
            "right": null,
            "top": null,
            "visibility": null,
            "width": null
          }
        },
        "abd08c3492804158ba4880d154b950d1": {
          "model_module": "@jupyter-widgets/base",
          "model_name": "LayoutModel",
          "model_module_version": "1.2.0",
          "state": {
            "_model_module": "@jupyter-widgets/base",
            "_model_module_version": "1.2.0",
            "_model_name": "LayoutModel",
            "_view_count": null,
            "_view_module": "@jupyter-widgets/base",
            "_view_module_version": "1.2.0",
            "_view_name": "LayoutView",
            "align_content": null,
            "align_items": null,
            "align_self": null,
            "border": null,
            "bottom": null,
            "display": null,
            "flex": null,
            "flex_flow": null,
            "grid_area": null,
            "grid_auto_columns": null,
            "grid_auto_flow": null,
            "grid_auto_rows": null,
            "grid_column": null,
            "grid_gap": null,
            "grid_row": null,
            "grid_template_areas": null,
            "grid_template_columns": null,
            "grid_template_rows": null,
            "height": null,
            "justify_content": null,
            "justify_items": null,
            "left": null,
            "margin": null,
            "max_height": null,
            "max_width": null,
            "min_height": null,
            "min_width": null,
            "object_fit": null,
            "object_position": null,
            "order": null,
            "overflow": null,
            "overflow_x": null,
            "overflow_y": null,
            "padding": null,
            "right": null,
            "top": null,
            "visibility": null,
            "width": null
          }
        },
        "46a195284d2f48109d83bfb53d16d7f8": {
          "model_module": "@jupyter-widgets/controls",
          "model_name": "DescriptionStyleModel",
          "model_module_version": "1.5.0",
          "state": {
            "_model_module": "@jupyter-widgets/controls",
            "_model_module_version": "1.5.0",
            "_model_name": "DescriptionStyleModel",
            "_view_count": null,
            "_view_module": "@jupyter-widgets/base",
            "_view_module_version": "1.2.0",
            "_view_name": "StyleView",
            "description_width": ""
          }
        },
        "5bd8d95f6b814cea8e49caf7879b7091": {
          "model_module": "@jupyter-widgets/base",
          "model_name": "LayoutModel",
          "model_module_version": "1.2.0",
          "state": {
            "_model_module": "@jupyter-widgets/base",
            "_model_module_version": "1.2.0",
            "_model_name": "LayoutModel",
            "_view_count": null,
            "_view_module": "@jupyter-widgets/base",
            "_view_module_version": "1.2.0",
            "_view_name": "LayoutView",
            "align_content": null,
            "align_items": null,
            "align_self": null,
            "border": null,
            "bottom": null,
            "display": null,
            "flex": null,
            "flex_flow": null,
            "grid_area": null,
            "grid_auto_columns": null,
            "grid_auto_flow": null,
            "grid_auto_rows": null,
            "grid_column": null,
            "grid_gap": null,
            "grid_row": null,
            "grid_template_areas": null,
            "grid_template_columns": null,
            "grid_template_rows": null,
            "height": null,
            "justify_content": null,
            "justify_items": null,
            "left": null,
            "margin": null,
            "max_height": null,
            "max_width": null,
            "min_height": null,
            "min_width": null,
            "object_fit": null,
            "object_position": null,
            "order": null,
            "overflow": null,
            "overflow_x": null,
            "overflow_y": null,
            "padding": null,
            "right": null,
            "top": null,
            "visibility": null,
            "width": null
          }
        },
        "3c6d2ef8ea2148ecb35a3047d4c5b77a": {
          "model_module": "@jupyter-widgets/controls",
          "model_name": "ProgressStyleModel",
          "model_module_version": "1.5.0",
          "state": {
            "_model_module": "@jupyter-widgets/controls",
            "_model_module_version": "1.5.0",
            "_model_name": "ProgressStyleModel",
            "_view_count": null,
            "_view_module": "@jupyter-widgets/base",
            "_view_module_version": "1.2.0",
            "_view_name": "StyleView",
            "bar_color": null,
            "description_width": ""
          }
        },
        "fb3a6c9d73e745318cd75037f2eb955c": {
          "model_module": "@jupyter-widgets/base",
          "model_name": "LayoutModel",
          "model_module_version": "1.2.0",
          "state": {
            "_model_module": "@jupyter-widgets/base",
            "_model_module_version": "1.2.0",
            "_model_name": "LayoutModel",
            "_view_count": null,
            "_view_module": "@jupyter-widgets/base",
            "_view_module_version": "1.2.0",
            "_view_name": "LayoutView",
            "align_content": null,
            "align_items": null,
            "align_self": null,
            "border": null,
            "bottom": null,
            "display": null,
            "flex": null,
            "flex_flow": null,
            "grid_area": null,
            "grid_auto_columns": null,
            "grid_auto_flow": null,
            "grid_auto_rows": null,
            "grid_column": null,
            "grid_gap": null,
            "grid_row": null,
            "grid_template_areas": null,
            "grid_template_columns": null,
            "grid_template_rows": null,
            "height": null,
            "justify_content": null,
            "justify_items": null,
            "left": null,
            "margin": null,
            "max_height": null,
            "max_width": null,
            "min_height": null,
            "min_width": null,
            "object_fit": null,
            "object_position": null,
            "order": null,
            "overflow": null,
            "overflow_x": null,
            "overflow_y": null,
            "padding": null,
            "right": null,
            "top": null,
            "visibility": null,
            "width": null
          }
        },
        "7ae80cf53bf74d3485496f150f8fd36f": {
          "model_module": "@jupyter-widgets/controls",
          "model_name": "DescriptionStyleModel",
          "model_module_version": "1.5.0",
          "state": {
            "_model_module": "@jupyter-widgets/controls",
            "_model_module_version": "1.5.0",
            "_model_name": "DescriptionStyleModel",
            "_view_count": null,
            "_view_module": "@jupyter-widgets/base",
            "_view_module_version": "1.2.0",
            "_view_name": "StyleView",
            "description_width": ""
          }
        },
        "f27ce418055e4024bd28e4b6ab88e726": {
          "model_module": "@jupyter-widgets/controls",
          "model_name": "HBoxModel",
          "model_module_version": "1.5.0",
          "state": {
            "_dom_classes": [],
            "_model_module": "@jupyter-widgets/controls",
            "_model_module_version": "1.5.0",
            "_model_name": "HBoxModel",
            "_view_count": null,
            "_view_module": "@jupyter-widgets/controls",
            "_view_module_version": "1.5.0",
            "_view_name": "HBoxView",
            "box_style": "",
            "children": [
              "IPY_MODEL_4fb1e70d882840e38db4ca1cd637b8e3",
              "IPY_MODEL_b64cfec8a34d4a8abb2bcfbebba7628e",
              "IPY_MODEL_3ad90c1f235e4227bd4d1ac1dd670d90"
            ],
            "layout": "IPY_MODEL_973652b6b9da47898c48a5f28658ec49"
          }
        },
        "4fb1e70d882840e38db4ca1cd637b8e3": {
          "model_module": "@jupyter-widgets/controls",
          "model_name": "HTMLModel",
          "model_module_version": "1.5.0",
          "state": {
            "_dom_classes": [],
            "_model_module": "@jupyter-widgets/controls",
            "_model_module_version": "1.5.0",
            "_model_name": "HTMLModel",
            "_view_count": null,
            "_view_module": "@jupyter-widgets/controls",
            "_view_module_version": "1.5.0",
            "_view_name": "HTMLView",
            "description": "",
            "description_tooltip": null,
            "layout": "IPY_MODEL_46acda69a2c445218227e772f7c26a90",
            "placeholder": "​",
            "style": "IPY_MODEL_b405716b8c1f4e4b95a15bd2399f3dfc",
            "value": "sentence_bert_config.json: 100%"
          }
        },
        "b64cfec8a34d4a8abb2bcfbebba7628e": {
          "model_module": "@jupyter-widgets/controls",
          "model_name": "FloatProgressModel",
          "model_module_version": "1.5.0",
          "state": {
            "_dom_classes": [],
            "_model_module": "@jupyter-widgets/controls",
            "_model_module_version": "1.5.0",
            "_model_name": "FloatProgressModel",
            "_view_count": null,
            "_view_module": "@jupyter-widgets/controls",
            "_view_module_version": "1.5.0",
            "_view_name": "ProgressView",
            "bar_style": "success",
            "description": "",
            "description_tooltip": null,
            "layout": "IPY_MODEL_ef9af8d087644065a3f351d888ceee03",
            "max": 53,
            "min": 0,
            "orientation": "horizontal",
            "style": "IPY_MODEL_4af35b709e464c079441a9549be0c81e",
            "value": 53
          }
        },
        "3ad90c1f235e4227bd4d1ac1dd670d90": {
          "model_module": "@jupyter-widgets/controls",
          "model_name": "HTMLModel",
          "model_module_version": "1.5.0",
          "state": {
            "_dom_classes": [],
            "_model_module": "@jupyter-widgets/controls",
            "_model_module_version": "1.5.0",
            "_model_name": "HTMLModel",
            "_view_count": null,
            "_view_module": "@jupyter-widgets/controls",
            "_view_module_version": "1.5.0",
            "_view_name": "HTMLView",
            "description": "",
            "description_tooltip": null,
            "layout": "IPY_MODEL_8ff406bf080f41119e269b86d8ea65f3",
            "placeholder": "​",
            "style": "IPY_MODEL_9699b6b2467745c598ef6ba1e6738e26",
            "value": " 53.0/53.0 [00:00&lt;00:00, 4.65kB/s]"
          }
        },
        "973652b6b9da47898c48a5f28658ec49": {
          "model_module": "@jupyter-widgets/base",
          "model_name": "LayoutModel",
          "model_module_version": "1.2.0",
          "state": {
            "_model_module": "@jupyter-widgets/base",
            "_model_module_version": "1.2.0",
            "_model_name": "LayoutModel",
            "_view_count": null,
            "_view_module": "@jupyter-widgets/base",
            "_view_module_version": "1.2.0",
            "_view_name": "LayoutView",
            "align_content": null,
            "align_items": null,
            "align_self": null,
            "border": null,
            "bottom": null,
            "display": null,
            "flex": null,
            "flex_flow": null,
            "grid_area": null,
            "grid_auto_columns": null,
            "grid_auto_flow": null,
            "grid_auto_rows": null,
            "grid_column": null,
            "grid_gap": null,
            "grid_row": null,
            "grid_template_areas": null,
            "grid_template_columns": null,
            "grid_template_rows": null,
            "height": null,
            "justify_content": null,
            "justify_items": null,
            "left": null,
            "margin": null,
            "max_height": null,
            "max_width": null,
            "min_height": null,
            "min_width": null,
            "object_fit": null,
            "object_position": null,
            "order": null,
            "overflow": null,
            "overflow_x": null,
            "overflow_y": null,
            "padding": null,
            "right": null,
            "top": null,
            "visibility": null,
            "width": null
          }
        },
        "46acda69a2c445218227e772f7c26a90": {
          "model_module": "@jupyter-widgets/base",
          "model_name": "LayoutModel",
          "model_module_version": "1.2.0",
          "state": {
            "_model_module": "@jupyter-widgets/base",
            "_model_module_version": "1.2.0",
            "_model_name": "LayoutModel",
            "_view_count": null,
            "_view_module": "@jupyter-widgets/base",
            "_view_module_version": "1.2.0",
            "_view_name": "LayoutView",
            "align_content": null,
            "align_items": null,
            "align_self": null,
            "border": null,
            "bottom": null,
            "display": null,
            "flex": null,
            "flex_flow": null,
            "grid_area": null,
            "grid_auto_columns": null,
            "grid_auto_flow": null,
            "grid_auto_rows": null,
            "grid_column": null,
            "grid_gap": null,
            "grid_row": null,
            "grid_template_areas": null,
            "grid_template_columns": null,
            "grid_template_rows": null,
            "height": null,
            "justify_content": null,
            "justify_items": null,
            "left": null,
            "margin": null,
            "max_height": null,
            "max_width": null,
            "min_height": null,
            "min_width": null,
            "object_fit": null,
            "object_position": null,
            "order": null,
            "overflow": null,
            "overflow_x": null,
            "overflow_y": null,
            "padding": null,
            "right": null,
            "top": null,
            "visibility": null,
            "width": null
          }
        },
        "b405716b8c1f4e4b95a15bd2399f3dfc": {
          "model_module": "@jupyter-widgets/controls",
          "model_name": "DescriptionStyleModel",
          "model_module_version": "1.5.0",
          "state": {
            "_model_module": "@jupyter-widgets/controls",
            "_model_module_version": "1.5.0",
            "_model_name": "DescriptionStyleModel",
            "_view_count": null,
            "_view_module": "@jupyter-widgets/base",
            "_view_module_version": "1.2.0",
            "_view_name": "StyleView",
            "description_width": ""
          }
        },
        "ef9af8d087644065a3f351d888ceee03": {
          "model_module": "@jupyter-widgets/base",
          "model_name": "LayoutModel",
          "model_module_version": "1.2.0",
          "state": {
            "_model_module": "@jupyter-widgets/base",
            "_model_module_version": "1.2.0",
            "_model_name": "LayoutModel",
            "_view_count": null,
            "_view_module": "@jupyter-widgets/base",
            "_view_module_version": "1.2.0",
            "_view_name": "LayoutView",
            "align_content": null,
            "align_items": null,
            "align_self": null,
            "border": null,
            "bottom": null,
            "display": null,
            "flex": null,
            "flex_flow": null,
            "grid_area": null,
            "grid_auto_columns": null,
            "grid_auto_flow": null,
            "grid_auto_rows": null,
            "grid_column": null,
            "grid_gap": null,
            "grid_row": null,
            "grid_template_areas": null,
            "grid_template_columns": null,
            "grid_template_rows": null,
            "height": null,
            "justify_content": null,
            "justify_items": null,
            "left": null,
            "margin": null,
            "max_height": null,
            "max_width": null,
            "min_height": null,
            "min_width": null,
            "object_fit": null,
            "object_position": null,
            "order": null,
            "overflow": null,
            "overflow_x": null,
            "overflow_y": null,
            "padding": null,
            "right": null,
            "top": null,
            "visibility": null,
            "width": null
          }
        },
        "4af35b709e464c079441a9549be0c81e": {
          "model_module": "@jupyter-widgets/controls",
          "model_name": "ProgressStyleModel",
          "model_module_version": "1.5.0",
          "state": {
            "_model_module": "@jupyter-widgets/controls",
            "_model_module_version": "1.5.0",
            "_model_name": "ProgressStyleModel",
            "_view_count": null,
            "_view_module": "@jupyter-widgets/base",
            "_view_module_version": "1.2.0",
            "_view_name": "StyleView",
            "bar_color": null,
            "description_width": ""
          }
        },
        "8ff406bf080f41119e269b86d8ea65f3": {
          "model_module": "@jupyter-widgets/base",
          "model_name": "LayoutModel",
          "model_module_version": "1.2.0",
          "state": {
            "_model_module": "@jupyter-widgets/base",
            "_model_module_version": "1.2.0",
            "_model_name": "LayoutModel",
            "_view_count": null,
            "_view_module": "@jupyter-widgets/base",
            "_view_module_version": "1.2.0",
            "_view_name": "LayoutView",
            "align_content": null,
            "align_items": null,
            "align_self": null,
            "border": null,
            "bottom": null,
            "display": null,
            "flex": null,
            "flex_flow": null,
            "grid_area": null,
            "grid_auto_columns": null,
            "grid_auto_flow": null,
            "grid_auto_rows": null,
            "grid_column": null,
            "grid_gap": null,
            "grid_row": null,
            "grid_template_areas": null,
            "grid_template_columns": null,
            "grid_template_rows": null,
            "height": null,
            "justify_content": null,
            "justify_items": null,
            "left": null,
            "margin": null,
            "max_height": null,
            "max_width": null,
            "min_height": null,
            "min_width": null,
            "object_fit": null,
            "object_position": null,
            "order": null,
            "overflow": null,
            "overflow_x": null,
            "overflow_y": null,
            "padding": null,
            "right": null,
            "top": null,
            "visibility": null,
            "width": null
          }
        },
        "9699b6b2467745c598ef6ba1e6738e26": {
          "model_module": "@jupyter-widgets/controls",
          "model_name": "DescriptionStyleModel",
          "model_module_version": "1.5.0",
          "state": {
            "_model_module": "@jupyter-widgets/controls",
            "_model_module_version": "1.5.0",
            "_model_name": "DescriptionStyleModel",
            "_view_count": null,
            "_view_module": "@jupyter-widgets/base",
            "_view_module_version": "1.2.0",
            "_view_name": "StyleView",
            "description_width": ""
          }
        },
        "f0187ad2e9b64d33901da6fe35582d6d": {
          "model_module": "@jupyter-widgets/controls",
          "model_name": "HBoxModel",
          "model_module_version": "1.5.0",
          "state": {
            "_dom_classes": [],
            "_model_module": "@jupyter-widgets/controls",
            "_model_module_version": "1.5.0",
            "_model_name": "HBoxModel",
            "_view_count": null,
            "_view_module": "@jupyter-widgets/controls",
            "_view_module_version": "1.5.0",
            "_view_name": "HBoxView",
            "box_style": "",
            "children": [
              "IPY_MODEL_5910a780680a42b6b20ac82466d43a65",
              "IPY_MODEL_5788af898cc041ca8aae4eca834b1429",
              "IPY_MODEL_a249b5f7893b4707aa9957390f530e5f"
            ],
            "layout": "IPY_MODEL_a6c1d87e1fb34cdba3dac1d3989e7a27"
          }
        },
        "5910a780680a42b6b20ac82466d43a65": {
          "model_module": "@jupyter-widgets/controls",
          "model_name": "HTMLModel",
          "model_module_version": "1.5.0",
          "state": {
            "_dom_classes": [],
            "_model_module": "@jupyter-widgets/controls",
            "_model_module_version": "1.5.0",
            "_model_name": "HTMLModel",
            "_view_count": null,
            "_view_module": "@jupyter-widgets/controls",
            "_view_module_version": "1.5.0",
            "_view_name": "HTMLView",
            "description": "",
            "description_tooltip": null,
            "layout": "IPY_MODEL_e53e9dfe58ae4073ad60b1780a52059d",
            "placeholder": "​",
            "style": "IPY_MODEL_e3fc7e360f394dca814711c04bb8655f",
            "value": "config.json: 100%"
          }
        },
        "5788af898cc041ca8aae4eca834b1429": {
          "model_module": "@jupyter-widgets/controls",
          "model_name": "FloatProgressModel",
          "model_module_version": "1.5.0",
          "state": {
            "_dom_classes": [],
            "_model_module": "@jupyter-widgets/controls",
            "_model_module_version": "1.5.0",
            "_model_name": "FloatProgressModel",
            "_view_count": null,
            "_view_module": "@jupyter-widgets/controls",
            "_view_module_version": "1.5.0",
            "_view_name": "ProgressView",
            "bar_style": "success",
            "description": "",
            "description_tooltip": null,
            "layout": "IPY_MODEL_78eb5a8a31544144b453bd1150fab225",
            "max": 612,
            "min": 0,
            "orientation": "horizontal",
            "style": "IPY_MODEL_9833433ebf2641b3b5a275b738f78871",
            "value": 612
          }
        },
        "a249b5f7893b4707aa9957390f530e5f": {
          "model_module": "@jupyter-widgets/controls",
          "model_name": "HTMLModel",
          "model_module_version": "1.5.0",
          "state": {
            "_dom_classes": [],
            "_model_module": "@jupyter-widgets/controls",
            "_model_module_version": "1.5.0",
            "_model_name": "HTMLModel",
            "_view_count": null,
            "_view_module": "@jupyter-widgets/controls",
            "_view_module_version": "1.5.0",
            "_view_name": "HTMLView",
            "description": "",
            "description_tooltip": null,
            "layout": "IPY_MODEL_60977729d67d48ebb7438f970f748256",
            "placeholder": "​",
            "style": "IPY_MODEL_b1dc114885e14f7f972e98a9f19eda81",
            "value": " 612/612 [00:00&lt;00:00, 51.2kB/s]"
          }
        },
        "a6c1d87e1fb34cdba3dac1d3989e7a27": {
          "model_module": "@jupyter-widgets/base",
          "model_name": "LayoutModel",
          "model_module_version": "1.2.0",
          "state": {
            "_model_module": "@jupyter-widgets/base",
            "_model_module_version": "1.2.0",
            "_model_name": "LayoutModel",
            "_view_count": null,
            "_view_module": "@jupyter-widgets/base",
            "_view_module_version": "1.2.0",
            "_view_name": "LayoutView",
            "align_content": null,
            "align_items": null,
            "align_self": null,
            "border": null,
            "bottom": null,
            "display": null,
            "flex": null,
            "flex_flow": null,
            "grid_area": null,
            "grid_auto_columns": null,
            "grid_auto_flow": null,
            "grid_auto_rows": null,
            "grid_column": null,
            "grid_gap": null,
            "grid_row": null,
            "grid_template_areas": null,
            "grid_template_columns": null,
            "grid_template_rows": null,
            "height": null,
            "justify_content": null,
            "justify_items": null,
            "left": null,
            "margin": null,
            "max_height": null,
            "max_width": null,
            "min_height": null,
            "min_width": null,
            "object_fit": null,
            "object_position": null,
            "order": null,
            "overflow": null,
            "overflow_x": null,
            "overflow_y": null,
            "padding": null,
            "right": null,
            "top": null,
            "visibility": null,
            "width": null
          }
        },
        "e53e9dfe58ae4073ad60b1780a52059d": {
          "model_module": "@jupyter-widgets/base",
          "model_name": "LayoutModel",
          "model_module_version": "1.2.0",
          "state": {
            "_model_module": "@jupyter-widgets/base",
            "_model_module_version": "1.2.0",
            "_model_name": "LayoutModel",
            "_view_count": null,
            "_view_module": "@jupyter-widgets/base",
            "_view_module_version": "1.2.0",
            "_view_name": "LayoutView",
            "align_content": null,
            "align_items": null,
            "align_self": null,
            "border": null,
            "bottom": null,
            "display": null,
            "flex": null,
            "flex_flow": null,
            "grid_area": null,
            "grid_auto_columns": null,
            "grid_auto_flow": null,
            "grid_auto_rows": null,
            "grid_column": null,
            "grid_gap": null,
            "grid_row": null,
            "grid_template_areas": null,
            "grid_template_columns": null,
            "grid_template_rows": null,
            "height": null,
            "justify_content": null,
            "justify_items": null,
            "left": null,
            "margin": null,
            "max_height": null,
            "max_width": null,
            "min_height": null,
            "min_width": null,
            "object_fit": null,
            "object_position": null,
            "order": null,
            "overflow": null,
            "overflow_x": null,
            "overflow_y": null,
            "padding": null,
            "right": null,
            "top": null,
            "visibility": null,
            "width": null
          }
        },
        "e3fc7e360f394dca814711c04bb8655f": {
          "model_module": "@jupyter-widgets/controls",
          "model_name": "DescriptionStyleModel",
          "model_module_version": "1.5.0",
          "state": {
            "_model_module": "@jupyter-widgets/controls",
            "_model_module_version": "1.5.0",
            "_model_name": "DescriptionStyleModel",
            "_view_count": null,
            "_view_module": "@jupyter-widgets/base",
            "_view_module_version": "1.2.0",
            "_view_name": "StyleView",
            "description_width": ""
          }
        },
        "78eb5a8a31544144b453bd1150fab225": {
          "model_module": "@jupyter-widgets/base",
          "model_name": "LayoutModel",
          "model_module_version": "1.2.0",
          "state": {
            "_model_module": "@jupyter-widgets/base",
            "_model_module_version": "1.2.0",
            "_model_name": "LayoutModel",
            "_view_count": null,
            "_view_module": "@jupyter-widgets/base",
            "_view_module_version": "1.2.0",
            "_view_name": "LayoutView",
            "align_content": null,
            "align_items": null,
            "align_self": null,
            "border": null,
            "bottom": null,
            "display": null,
            "flex": null,
            "flex_flow": null,
            "grid_area": null,
            "grid_auto_columns": null,
            "grid_auto_flow": null,
            "grid_auto_rows": null,
            "grid_column": null,
            "grid_gap": null,
            "grid_row": null,
            "grid_template_areas": null,
            "grid_template_columns": null,
            "grid_template_rows": null,
            "height": null,
            "justify_content": null,
            "justify_items": null,
            "left": null,
            "margin": null,
            "max_height": null,
            "max_width": null,
            "min_height": null,
            "min_width": null,
            "object_fit": null,
            "object_position": null,
            "order": null,
            "overflow": null,
            "overflow_x": null,
            "overflow_y": null,
            "padding": null,
            "right": null,
            "top": null,
            "visibility": null,
            "width": null
          }
        },
        "9833433ebf2641b3b5a275b738f78871": {
          "model_module": "@jupyter-widgets/controls",
          "model_name": "ProgressStyleModel",
          "model_module_version": "1.5.0",
          "state": {
            "_model_module": "@jupyter-widgets/controls",
            "_model_module_version": "1.5.0",
            "_model_name": "ProgressStyleModel",
            "_view_count": null,
            "_view_module": "@jupyter-widgets/base",
            "_view_module_version": "1.2.0",
            "_view_name": "StyleView",
            "bar_color": null,
            "description_width": ""
          }
        },
        "60977729d67d48ebb7438f970f748256": {
          "model_module": "@jupyter-widgets/base",
          "model_name": "LayoutModel",
          "model_module_version": "1.2.0",
          "state": {
            "_model_module": "@jupyter-widgets/base",
            "_model_module_version": "1.2.0",
            "_model_name": "LayoutModel",
            "_view_count": null,
            "_view_module": "@jupyter-widgets/base",
            "_view_module_version": "1.2.0",
            "_view_name": "LayoutView",
            "align_content": null,
            "align_items": null,
            "align_self": null,
            "border": null,
            "bottom": null,
            "display": null,
            "flex": null,
            "flex_flow": null,
            "grid_area": null,
            "grid_auto_columns": null,
            "grid_auto_flow": null,
            "grid_auto_rows": null,
            "grid_column": null,
            "grid_gap": null,
            "grid_row": null,
            "grid_template_areas": null,
            "grid_template_columns": null,
            "grid_template_rows": null,
            "height": null,
            "justify_content": null,
            "justify_items": null,
            "left": null,
            "margin": null,
            "max_height": null,
            "max_width": null,
            "min_height": null,
            "min_width": null,
            "object_fit": null,
            "object_position": null,
            "order": null,
            "overflow": null,
            "overflow_x": null,
            "overflow_y": null,
            "padding": null,
            "right": null,
            "top": null,
            "visibility": null,
            "width": null
          }
        },
        "b1dc114885e14f7f972e98a9f19eda81": {
          "model_module": "@jupyter-widgets/controls",
          "model_name": "DescriptionStyleModel",
          "model_module_version": "1.5.0",
          "state": {
            "_model_module": "@jupyter-widgets/controls",
            "_model_module_version": "1.5.0",
            "_model_name": "DescriptionStyleModel",
            "_view_count": null,
            "_view_module": "@jupyter-widgets/base",
            "_view_module_version": "1.2.0",
            "_view_name": "StyleView",
            "description_width": ""
          }
        },
        "20d550ac80b144f694a2c7f8c55cb9ad": {
          "model_module": "@jupyter-widgets/controls",
          "model_name": "HBoxModel",
          "model_module_version": "1.5.0",
          "state": {
            "_dom_classes": [],
            "_model_module": "@jupyter-widgets/controls",
            "_model_module_version": "1.5.0",
            "_model_name": "HBoxModel",
            "_view_count": null,
            "_view_module": "@jupyter-widgets/controls",
            "_view_module_version": "1.5.0",
            "_view_name": "HBoxView",
            "box_style": "",
            "children": [
              "IPY_MODEL_32c3e219da5f4689bba99b76518d54fd",
              "IPY_MODEL_06580268e08e4e1a83e8c65e4c788bb4",
              "IPY_MODEL_87a10a86683045e0892816b73b0072c4"
            ],
            "layout": "IPY_MODEL_2521b13d0599463c80995a30c2d81515"
          }
        },
        "32c3e219da5f4689bba99b76518d54fd": {
          "model_module": "@jupyter-widgets/controls",
          "model_name": "HTMLModel",
          "model_module_version": "1.5.0",
          "state": {
            "_dom_classes": [],
            "_model_module": "@jupyter-widgets/controls",
            "_model_module_version": "1.5.0",
            "_model_name": "HTMLModel",
            "_view_count": null,
            "_view_module": "@jupyter-widgets/controls",
            "_view_module_version": "1.5.0",
            "_view_name": "HTMLView",
            "description": "",
            "description_tooltip": null,
            "layout": "IPY_MODEL_9cdc78f0b92943f788e8bbcf6fb6444b",
            "placeholder": "​",
            "style": "IPY_MODEL_48afc236efd54e54a6c5410aa568a779",
            "value": "model.safetensors: 100%"
          }
        },
        "06580268e08e4e1a83e8c65e4c788bb4": {
          "model_module": "@jupyter-widgets/controls",
          "model_name": "FloatProgressModel",
          "model_module_version": "1.5.0",
          "state": {
            "_dom_classes": [],
            "_model_module": "@jupyter-widgets/controls",
            "_model_module_version": "1.5.0",
            "_model_name": "FloatProgressModel",
            "_view_count": null,
            "_view_module": "@jupyter-widgets/controls",
            "_view_module_version": "1.5.0",
            "_view_name": "ProgressView",
            "bar_style": "success",
            "description": "",
            "description_tooltip": null,
            "layout": "IPY_MODEL_2855b9cb3f754e7eb07bb0e8d43dd89f",
            "max": 90868376,
            "min": 0,
            "orientation": "horizontal",
            "style": "IPY_MODEL_0da3928b8ffc4e8aac5216e19ef0bc5c",
            "value": 90868376
          }
        },
        "87a10a86683045e0892816b73b0072c4": {
          "model_module": "@jupyter-widgets/controls",
          "model_name": "HTMLModel",
          "model_module_version": "1.5.0",
          "state": {
            "_dom_classes": [],
            "_model_module": "@jupyter-widgets/controls",
            "_model_module_version": "1.5.0",
            "_model_name": "HTMLModel",
            "_view_count": null,
            "_view_module": "@jupyter-widgets/controls",
            "_view_module_version": "1.5.0",
            "_view_name": "HTMLView",
            "description": "",
            "description_tooltip": null,
            "layout": "IPY_MODEL_13910c1ce80a48c7bfa8984b0255b82f",
            "placeholder": "​",
            "style": "IPY_MODEL_8eac5a18dd4b40a39e35bb0576cc86a6",
            "value": " 90.9M/90.9M [00:00&lt;00:00, 168MB/s]"
          }
        },
        "2521b13d0599463c80995a30c2d81515": {
          "model_module": "@jupyter-widgets/base",
          "model_name": "LayoutModel",
          "model_module_version": "1.2.0",
          "state": {
            "_model_module": "@jupyter-widgets/base",
            "_model_module_version": "1.2.0",
            "_model_name": "LayoutModel",
            "_view_count": null,
            "_view_module": "@jupyter-widgets/base",
            "_view_module_version": "1.2.0",
            "_view_name": "LayoutView",
            "align_content": null,
            "align_items": null,
            "align_self": null,
            "border": null,
            "bottom": null,
            "display": null,
            "flex": null,
            "flex_flow": null,
            "grid_area": null,
            "grid_auto_columns": null,
            "grid_auto_flow": null,
            "grid_auto_rows": null,
            "grid_column": null,
            "grid_gap": null,
            "grid_row": null,
            "grid_template_areas": null,
            "grid_template_columns": null,
            "grid_template_rows": null,
            "height": null,
            "justify_content": null,
            "justify_items": null,
            "left": null,
            "margin": null,
            "max_height": null,
            "max_width": null,
            "min_height": null,
            "min_width": null,
            "object_fit": null,
            "object_position": null,
            "order": null,
            "overflow": null,
            "overflow_x": null,
            "overflow_y": null,
            "padding": null,
            "right": null,
            "top": null,
            "visibility": null,
            "width": null
          }
        },
        "9cdc78f0b92943f788e8bbcf6fb6444b": {
          "model_module": "@jupyter-widgets/base",
          "model_name": "LayoutModel",
          "model_module_version": "1.2.0",
          "state": {
            "_model_module": "@jupyter-widgets/base",
            "_model_module_version": "1.2.0",
            "_model_name": "LayoutModel",
            "_view_count": null,
            "_view_module": "@jupyter-widgets/base",
            "_view_module_version": "1.2.0",
            "_view_name": "LayoutView",
            "align_content": null,
            "align_items": null,
            "align_self": null,
            "border": null,
            "bottom": null,
            "display": null,
            "flex": null,
            "flex_flow": null,
            "grid_area": null,
            "grid_auto_columns": null,
            "grid_auto_flow": null,
            "grid_auto_rows": null,
            "grid_column": null,
            "grid_gap": null,
            "grid_row": null,
            "grid_template_areas": null,
            "grid_template_columns": null,
            "grid_template_rows": null,
            "height": null,
            "justify_content": null,
            "justify_items": null,
            "left": null,
            "margin": null,
            "max_height": null,
            "max_width": null,
            "min_height": null,
            "min_width": null,
            "object_fit": null,
            "object_position": null,
            "order": null,
            "overflow": null,
            "overflow_x": null,
            "overflow_y": null,
            "padding": null,
            "right": null,
            "top": null,
            "visibility": null,
            "width": null
          }
        },
        "48afc236efd54e54a6c5410aa568a779": {
          "model_module": "@jupyter-widgets/controls",
          "model_name": "DescriptionStyleModel",
          "model_module_version": "1.5.0",
          "state": {
            "_model_module": "@jupyter-widgets/controls",
            "_model_module_version": "1.5.0",
            "_model_name": "DescriptionStyleModel",
            "_view_count": null,
            "_view_module": "@jupyter-widgets/base",
            "_view_module_version": "1.2.0",
            "_view_name": "StyleView",
            "description_width": ""
          }
        },
        "2855b9cb3f754e7eb07bb0e8d43dd89f": {
          "model_module": "@jupyter-widgets/base",
          "model_name": "LayoutModel",
          "model_module_version": "1.2.0",
          "state": {
            "_model_module": "@jupyter-widgets/base",
            "_model_module_version": "1.2.0",
            "_model_name": "LayoutModel",
            "_view_count": null,
            "_view_module": "@jupyter-widgets/base",
            "_view_module_version": "1.2.0",
            "_view_name": "LayoutView",
            "align_content": null,
            "align_items": null,
            "align_self": null,
            "border": null,
            "bottom": null,
            "display": null,
            "flex": null,
            "flex_flow": null,
            "grid_area": null,
            "grid_auto_columns": null,
            "grid_auto_flow": null,
            "grid_auto_rows": null,
            "grid_column": null,
            "grid_gap": null,
            "grid_row": null,
            "grid_template_areas": null,
            "grid_template_columns": null,
            "grid_template_rows": null,
            "height": null,
            "justify_content": null,
            "justify_items": null,
            "left": null,
            "margin": null,
            "max_height": null,
            "max_width": null,
            "min_height": null,
            "min_width": null,
            "object_fit": null,
            "object_position": null,
            "order": null,
            "overflow": null,
            "overflow_x": null,
            "overflow_y": null,
            "padding": null,
            "right": null,
            "top": null,
            "visibility": null,
            "width": null
          }
        },
        "0da3928b8ffc4e8aac5216e19ef0bc5c": {
          "model_module": "@jupyter-widgets/controls",
          "model_name": "ProgressStyleModel",
          "model_module_version": "1.5.0",
          "state": {
            "_model_module": "@jupyter-widgets/controls",
            "_model_module_version": "1.5.0",
            "_model_name": "ProgressStyleModel",
            "_view_count": null,
            "_view_module": "@jupyter-widgets/base",
            "_view_module_version": "1.2.0",
            "_view_name": "StyleView",
            "bar_color": null,
            "description_width": ""
          }
        },
        "13910c1ce80a48c7bfa8984b0255b82f": {
          "model_module": "@jupyter-widgets/base",
          "model_name": "LayoutModel",
          "model_module_version": "1.2.0",
          "state": {
            "_model_module": "@jupyter-widgets/base",
            "_model_module_version": "1.2.0",
            "_model_name": "LayoutModel",
            "_view_count": null,
            "_view_module": "@jupyter-widgets/base",
            "_view_module_version": "1.2.0",
            "_view_name": "LayoutView",
            "align_content": null,
            "align_items": null,
            "align_self": null,
            "border": null,
            "bottom": null,
            "display": null,
            "flex": null,
            "flex_flow": null,
            "grid_area": null,
            "grid_auto_columns": null,
            "grid_auto_flow": null,
            "grid_auto_rows": null,
            "grid_column": null,
            "grid_gap": null,
            "grid_row": null,
            "grid_template_areas": null,
            "grid_template_columns": null,
            "grid_template_rows": null,
            "height": null,
            "justify_content": null,
            "justify_items": null,
            "left": null,
            "margin": null,
            "max_height": null,
            "max_width": null,
            "min_height": null,
            "min_width": null,
            "object_fit": null,
            "object_position": null,
            "order": null,
            "overflow": null,
            "overflow_x": null,
            "overflow_y": null,
            "padding": null,
            "right": null,
            "top": null,
            "visibility": null,
            "width": null
          }
        },
        "8eac5a18dd4b40a39e35bb0576cc86a6": {
          "model_module": "@jupyter-widgets/controls",
          "model_name": "DescriptionStyleModel",
          "model_module_version": "1.5.0",
          "state": {
            "_model_module": "@jupyter-widgets/controls",
            "_model_module_version": "1.5.0",
            "_model_name": "DescriptionStyleModel",
            "_view_count": null,
            "_view_module": "@jupyter-widgets/base",
            "_view_module_version": "1.2.0",
            "_view_name": "StyleView",
            "description_width": ""
          }
        },
        "7521ad79027d42f0b7b627a72f84d297": {
          "model_module": "@jupyter-widgets/controls",
          "model_name": "HBoxModel",
          "model_module_version": "1.5.0",
          "state": {
            "_dom_classes": [],
            "_model_module": "@jupyter-widgets/controls",
            "_model_module_version": "1.5.0",
            "_model_name": "HBoxModel",
            "_view_count": null,
            "_view_module": "@jupyter-widgets/controls",
            "_view_module_version": "1.5.0",
            "_view_name": "HBoxView",
            "box_style": "",
            "children": [
              "IPY_MODEL_a8eb93ea48e24489948b922c9434b77f",
              "IPY_MODEL_dd81dc3b9d03486892b3f4a50fecf37b",
              "IPY_MODEL_aba0cce3b13643118f904e51117a642f"
            ],
            "layout": "IPY_MODEL_d379d475b17a479a9d105982e55f84ba"
          }
        },
        "a8eb93ea48e24489948b922c9434b77f": {
          "model_module": "@jupyter-widgets/controls",
          "model_name": "HTMLModel",
          "model_module_version": "1.5.0",
          "state": {
            "_dom_classes": [],
            "_model_module": "@jupyter-widgets/controls",
            "_model_module_version": "1.5.0",
            "_model_name": "HTMLModel",
            "_view_count": null,
            "_view_module": "@jupyter-widgets/controls",
            "_view_module_version": "1.5.0",
            "_view_name": "HTMLView",
            "description": "",
            "description_tooltip": null,
            "layout": "IPY_MODEL_15b338c5cb814ea082980fcd535717a6",
            "placeholder": "​",
            "style": "IPY_MODEL_2defd3793bb340fa9180b80252a03977",
            "value": "tokenizer_config.json: 100%"
          }
        },
        "dd81dc3b9d03486892b3f4a50fecf37b": {
          "model_module": "@jupyter-widgets/controls",
          "model_name": "FloatProgressModel",
          "model_module_version": "1.5.0",
          "state": {
            "_dom_classes": [],
            "_model_module": "@jupyter-widgets/controls",
            "_model_module_version": "1.5.0",
            "_model_name": "FloatProgressModel",
            "_view_count": null,
            "_view_module": "@jupyter-widgets/controls",
            "_view_module_version": "1.5.0",
            "_view_name": "ProgressView",
            "bar_style": "success",
            "description": "",
            "description_tooltip": null,
            "layout": "IPY_MODEL_0fcdd1a9476443a29511ad2e9cd8f532",
            "max": 350,
            "min": 0,
            "orientation": "horizontal",
            "style": "IPY_MODEL_276df030cbcc4c4698cf76c4554f6983",
            "value": 350
          }
        },
        "aba0cce3b13643118f904e51117a642f": {
          "model_module": "@jupyter-widgets/controls",
          "model_name": "HTMLModel",
          "model_module_version": "1.5.0",
          "state": {
            "_dom_classes": [],
            "_model_module": "@jupyter-widgets/controls",
            "_model_module_version": "1.5.0",
            "_model_name": "HTMLModel",
            "_view_count": null,
            "_view_module": "@jupyter-widgets/controls",
            "_view_module_version": "1.5.0",
            "_view_name": "HTMLView",
            "description": "",
            "description_tooltip": null,
            "layout": "IPY_MODEL_ef638328c1c84c95bed4910433c5a35e",
            "placeholder": "​",
            "style": "IPY_MODEL_06b6a5c349ef46a5b51eb56e05da0c36",
            "value": " 350/350 [00:00&lt;00:00, 30.5kB/s]"
          }
        },
        "d379d475b17a479a9d105982e55f84ba": {
          "model_module": "@jupyter-widgets/base",
          "model_name": "LayoutModel",
          "model_module_version": "1.2.0",
          "state": {
            "_model_module": "@jupyter-widgets/base",
            "_model_module_version": "1.2.0",
            "_model_name": "LayoutModel",
            "_view_count": null,
            "_view_module": "@jupyter-widgets/base",
            "_view_module_version": "1.2.0",
            "_view_name": "LayoutView",
            "align_content": null,
            "align_items": null,
            "align_self": null,
            "border": null,
            "bottom": null,
            "display": null,
            "flex": null,
            "flex_flow": null,
            "grid_area": null,
            "grid_auto_columns": null,
            "grid_auto_flow": null,
            "grid_auto_rows": null,
            "grid_column": null,
            "grid_gap": null,
            "grid_row": null,
            "grid_template_areas": null,
            "grid_template_columns": null,
            "grid_template_rows": null,
            "height": null,
            "justify_content": null,
            "justify_items": null,
            "left": null,
            "margin": null,
            "max_height": null,
            "max_width": null,
            "min_height": null,
            "min_width": null,
            "object_fit": null,
            "object_position": null,
            "order": null,
            "overflow": null,
            "overflow_x": null,
            "overflow_y": null,
            "padding": null,
            "right": null,
            "top": null,
            "visibility": null,
            "width": null
          }
        },
        "15b338c5cb814ea082980fcd535717a6": {
          "model_module": "@jupyter-widgets/base",
          "model_name": "LayoutModel",
          "model_module_version": "1.2.0",
          "state": {
            "_model_module": "@jupyter-widgets/base",
            "_model_module_version": "1.2.0",
            "_model_name": "LayoutModel",
            "_view_count": null,
            "_view_module": "@jupyter-widgets/base",
            "_view_module_version": "1.2.0",
            "_view_name": "LayoutView",
            "align_content": null,
            "align_items": null,
            "align_self": null,
            "border": null,
            "bottom": null,
            "display": null,
            "flex": null,
            "flex_flow": null,
            "grid_area": null,
            "grid_auto_columns": null,
            "grid_auto_flow": null,
            "grid_auto_rows": null,
            "grid_column": null,
            "grid_gap": null,
            "grid_row": null,
            "grid_template_areas": null,
            "grid_template_columns": null,
            "grid_template_rows": null,
            "height": null,
            "justify_content": null,
            "justify_items": null,
            "left": null,
            "margin": null,
            "max_height": null,
            "max_width": null,
            "min_height": null,
            "min_width": null,
            "object_fit": null,
            "object_position": null,
            "order": null,
            "overflow": null,
            "overflow_x": null,
            "overflow_y": null,
            "padding": null,
            "right": null,
            "top": null,
            "visibility": null,
            "width": null
          }
        },
        "2defd3793bb340fa9180b80252a03977": {
          "model_module": "@jupyter-widgets/controls",
          "model_name": "DescriptionStyleModel",
          "model_module_version": "1.5.0",
          "state": {
            "_model_module": "@jupyter-widgets/controls",
            "_model_module_version": "1.5.0",
            "_model_name": "DescriptionStyleModel",
            "_view_count": null,
            "_view_module": "@jupyter-widgets/base",
            "_view_module_version": "1.2.0",
            "_view_name": "StyleView",
            "description_width": ""
          }
        },
        "0fcdd1a9476443a29511ad2e9cd8f532": {
          "model_module": "@jupyter-widgets/base",
          "model_name": "LayoutModel",
          "model_module_version": "1.2.0",
          "state": {
            "_model_module": "@jupyter-widgets/base",
            "_model_module_version": "1.2.0",
            "_model_name": "LayoutModel",
            "_view_count": null,
            "_view_module": "@jupyter-widgets/base",
            "_view_module_version": "1.2.0",
            "_view_name": "LayoutView",
            "align_content": null,
            "align_items": null,
            "align_self": null,
            "border": null,
            "bottom": null,
            "display": null,
            "flex": null,
            "flex_flow": null,
            "grid_area": null,
            "grid_auto_columns": null,
            "grid_auto_flow": null,
            "grid_auto_rows": null,
            "grid_column": null,
            "grid_gap": null,
            "grid_row": null,
            "grid_template_areas": null,
            "grid_template_columns": null,
            "grid_template_rows": null,
            "height": null,
            "justify_content": null,
            "justify_items": null,
            "left": null,
            "margin": null,
            "max_height": null,
            "max_width": null,
            "min_height": null,
            "min_width": null,
            "object_fit": null,
            "object_position": null,
            "order": null,
            "overflow": null,
            "overflow_x": null,
            "overflow_y": null,
            "padding": null,
            "right": null,
            "top": null,
            "visibility": null,
            "width": null
          }
        },
        "276df030cbcc4c4698cf76c4554f6983": {
          "model_module": "@jupyter-widgets/controls",
          "model_name": "ProgressStyleModel",
          "model_module_version": "1.5.0",
          "state": {
            "_model_module": "@jupyter-widgets/controls",
            "_model_module_version": "1.5.0",
            "_model_name": "ProgressStyleModel",
            "_view_count": null,
            "_view_module": "@jupyter-widgets/base",
            "_view_module_version": "1.2.0",
            "_view_name": "StyleView",
            "bar_color": null,
            "description_width": ""
          }
        },
        "ef638328c1c84c95bed4910433c5a35e": {
          "model_module": "@jupyter-widgets/base",
          "model_name": "LayoutModel",
          "model_module_version": "1.2.0",
          "state": {
            "_model_module": "@jupyter-widgets/base",
            "_model_module_version": "1.2.0",
            "_model_name": "LayoutModel",
            "_view_count": null,
            "_view_module": "@jupyter-widgets/base",
            "_view_module_version": "1.2.0",
            "_view_name": "LayoutView",
            "align_content": null,
            "align_items": null,
            "align_self": null,
            "border": null,
            "bottom": null,
            "display": null,
            "flex": null,
            "flex_flow": null,
            "grid_area": null,
            "grid_auto_columns": null,
            "grid_auto_flow": null,
            "grid_auto_rows": null,
            "grid_column": null,
            "grid_gap": null,
            "grid_row": null,
            "grid_template_areas": null,
            "grid_template_columns": null,
            "grid_template_rows": null,
            "height": null,
            "justify_content": null,
            "justify_items": null,
            "left": null,
            "margin": null,
            "max_height": null,
            "max_width": null,
            "min_height": null,
            "min_width": null,
            "object_fit": null,
            "object_position": null,
            "order": null,
            "overflow": null,
            "overflow_x": null,
            "overflow_y": null,
            "padding": null,
            "right": null,
            "top": null,
            "visibility": null,
            "width": null
          }
        },
        "06b6a5c349ef46a5b51eb56e05da0c36": {
          "model_module": "@jupyter-widgets/controls",
          "model_name": "DescriptionStyleModel",
          "model_module_version": "1.5.0",
          "state": {
            "_model_module": "@jupyter-widgets/controls",
            "_model_module_version": "1.5.0",
            "_model_name": "DescriptionStyleModel",
            "_view_count": null,
            "_view_module": "@jupyter-widgets/base",
            "_view_module_version": "1.2.0",
            "_view_name": "StyleView",
            "description_width": ""
          }
        },
        "a6949b3fcf324ed9aee388f98fc5b007": {
          "model_module": "@jupyter-widgets/controls",
          "model_name": "HBoxModel",
          "model_module_version": "1.5.0",
          "state": {
            "_dom_classes": [],
            "_model_module": "@jupyter-widgets/controls",
            "_model_module_version": "1.5.0",
            "_model_name": "HBoxModel",
            "_view_count": null,
            "_view_module": "@jupyter-widgets/controls",
            "_view_module_version": "1.5.0",
            "_view_name": "HBoxView",
            "box_style": "",
            "children": [
              "IPY_MODEL_701d6160b42b4d969d0d3784c0e07b95",
              "IPY_MODEL_36206b009d2b4bc49019574f8635e059",
              "IPY_MODEL_6831ab765b8f4596a780ac3449e8afa1"
            ],
            "layout": "IPY_MODEL_83b15b5204b042a5add07398d62c6e19"
          }
        },
        "701d6160b42b4d969d0d3784c0e07b95": {
          "model_module": "@jupyter-widgets/controls",
          "model_name": "HTMLModel",
          "model_module_version": "1.5.0",
          "state": {
            "_dom_classes": [],
            "_model_module": "@jupyter-widgets/controls",
            "_model_module_version": "1.5.0",
            "_model_name": "HTMLModel",
            "_view_count": null,
            "_view_module": "@jupyter-widgets/controls",
            "_view_module_version": "1.5.0",
            "_view_name": "HTMLView",
            "description": "",
            "description_tooltip": null,
            "layout": "IPY_MODEL_e0ffc5476c4d40818a562c3980be4686",
            "placeholder": "​",
            "style": "IPY_MODEL_5637a6f3812146dcb040bef35cdddc54",
            "value": "vocab.txt: 100%"
          }
        },
        "36206b009d2b4bc49019574f8635e059": {
          "model_module": "@jupyter-widgets/controls",
          "model_name": "FloatProgressModel",
          "model_module_version": "1.5.0",
          "state": {
            "_dom_classes": [],
            "_model_module": "@jupyter-widgets/controls",
            "_model_module_version": "1.5.0",
            "_model_name": "FloatProgressModel",
            "_view_count": null,
            "_view_module": "@jupyter-widgets/controls",
            "_view_module_version": "1.5.0",
            "_view_name": "ProgressView",
            "bar_style": "success",
            "description": "",
            "description_tooltip": null,
            "layout": "IPY_MODEL_287c11eb6e72446a814d0f3fad4aba8f",
            "max": 231508,
            "min": 0,
            "orientation": "horizontal",
            "style": "IPY_MODEL_dbe27e34dde249b7987e7dab669276f0",
            "value": 231508
          }
        },
        "6831ab765b8f4596a780ac3449e8afa1": {
          "model_module": "@jupyter-widgets/controls",
          "model_name": "HTMLModel",
          "model_module_version": "1.5.0",
          "state": {
            "_dom_classes": [],
            "_model_module": "@jupyter-widgets/controls",
            "_model_module_version": "1.5.0",
            "_model_name": "HTMLModel",
            "_view_count": null,
            "_view_module": "@jupyter-widgets/controls",
            "_view_module_version": "1.5.0",
            "_view_name": "HTMLView",
            "description": "",
            "description_tooltip": null,
            "layout": "IPY_MODEL_0f1fa798f62b44548a5d5d4af9a33b75",
            "placeholder": "​",
            "style": "IPY_MODEL_d44ed59be7bb48e29bfac7ca755f0df0",
            "value": " 232k/232k [00:00&lt;00:00, 3.58MB/s]"
          }
        },
        "83b15b5204b042a5add07398d62c6e19": {
          "model_module": "@jupyter-widgets/base",
          "model_name": "LayoutModel",
          "model_module_version": "1.2.0",
          "state": {
            "_model_module": "@jupyter-widgets/base",
            "_model_module_version": "1.2.0",
            "_model_name": "LayoutModel",
            "_view_count": null,
            "_view_module": "@jupyter-widgets/base",
            "_view_module_version": "1.2.0",
            "_view_name": "LayoutView",
            "align_content": null,
            "align_items": null,
            "align_self": null,
            "border": null,
            "bottom": null,
            "display": null,
            "flex": null,
            "flex_flow": null,
            "grid_area": null,
            "grid_auto_columns": null,
            "grid_auto_flow": null,
            "grid_auto_rows": null,
            "grid_column": null,
            "grid_gap": null,
            "grid_row": null,
            "grid_template_areas": null,
            "grid_template_columns": null,
            "grid_template_rows": null,
            "height": null,
            "justify_content": null,
            "justify_items": null,
            "left": null,
            "margin": null,
            "max_height": null,
            "max_width": null,
            "min_height": null,
            "min_width": null,
            "object_fit": null,
            "object_position": null,
            "order": null,
            "overflow": null,
            "overflow_x": null,
            "overflow_y": null,
            "padding": null,
            "right": null,
            "top": null,
            "visibility": null,
            "width": null
          }
        },
        "e0ffc5476c4d40818a562c3980be4686": {
          "model_module": "@jupyter-widgets/base",
          "model_name": "LayoutModel",
          "model_module_version": "1.2.0",
          "state": {
            "_model_module": "@jupyter-widgets/base",
            "_model_module_version": "1.2.0",
            "_model_name": "LayoutModel",
            "_view_count": null,
            "_view_module": "@jupyter-widgets/base",
            "_view_module_version": "1.2.0",
            "_view_name": "LayoutView",
            "align_content": null,
            "align_items": null,
            "align_self": null,
            "border": null,
            "bottom": null,
            "display": null,
            "flex": null,
            "flex_flow": null,
            "grid_area": null,
            "grid_auto_columns": null,
            "grid_auto_flow": null,
            "grid_auto_rows": null,
            "grid_column": null,
            "grid_gap": null,
            "grid_row": null,
            "grid_template_areas": null,
            "grid_template_columns": null,
            "grid_template_rows": null,
            "height": null,
            "justify_content": null,
            "justify_items": null,
            "left": null,
            "margin": null,
            "max_height": null,
            "max_width": null,
            "min_height": null,
            "min_width": null,
            "object_fit": null,
            "object_position": null,
            "order": null,
            "overflow": null,
            "overflow_x": null,
            "overflow_y": null,
            "padding": null,
            "right": null,
            "top": null,
            "visibility": null,
            "width": null
          }
        },
        "5637a6f3812146dcb040bef35cdddc54": {
          "model_module": "@jupyter-widgets/controls",
          "model_name": "DescriptionStyleModel",
          "model_module_version": "1.5.0",
          "state": {
            "_model_module": "@jupyter-widgets/controls",
            "_model_module_version": "1.5.0",
            "_model_name": "DescriptionStyleModel",
            "_view_count": null,
            "_view_module": "@jupyter-widgets/base",
            "_view_module_version": "1.2.0",
            "_view_name": "StyleView",
            "description_width": ""
          }
        },
        "287c11eb6e72446a814d0f3fad4aba8f": {
          "model_module": "@jupyter-widgets/base",
          "model_name": "LayoutModel",
          "model_module_version": "1.2.0",
          "state": {
            "_model_module": "@jupyter-widgets/base",
            "_model_module_version": "1.2.0",
            "_model_name": "LayoutModel",
            "_view_count": null,
            "_view_module": "@jupyter-widgets/base",
            "_view_module_version": "1.2.0",
            "_view_name": "LayoutView",
            "align_content": null,
            "align_items": null,
            "align_self": null,
            "border": null,
            "bottom": null,
            "display": null,
            "flex": null,
            "flex_flow": null,
            "grid_area": null,
            "grid_auto_columns": null,
            "grid_auto_flow": null,
            "grid_auto_rows": null,
            "grid_column": null,
            "grid_gap": null,
            "grid_row": null,
            "grid_template_areas": null,
            "grid_template_columns": null,
            "grid_template_rows": null,
            "height": null,
            "justify_content": null,
            "justify_items": null,
            "left": null,
            "margin": null,
            "max_height": null,
            "max_width": null,
            "min_height": null,
            "min_width": null,
            "object_fit": null,
            "object_position": null,
            "order": null,
            "overflow": null,
            "overflow_x": null,
            "overflow_y": null,
            "padding": null,
            "right": null,
            "top": null,
            "visibility": null,
            "width": null
          }
        },
        "dbe27e34dde249b7987e7dab669276f0": {
          "model_module": "@jupyter-widgets/controls",
          "model_name": "ProgressStyleModel",
          "model_module_version": "1.5.0",
          "state": {
            "_model_module": "@jupyter-widgets/controls",
            "_model_module_version": "1.5.0",
            "_model_name": "ProgressStyleModel",
            "_view_count": null,
            "_view_module": "@jupyter-widgets/base",
            "_view_module_version": "1.2.0",
            "_view_name": "StyleView",
            "bar_color": null,
            "description_width": ""
          }
        },
        "0f1fa798f62b44548a5d5d4af9a33b75": {
          "model_module": "@jupyter-widgets/base",
          "model_name": "LayoutModel",
          "model_module_version": "1.2.0",
          "state": {
            "_model_module": "@jupyter-widgets/base",
            "_model_module_version": "1.2.0",
            "_model_name": "LayoutModel",
            "_view_count": null,
            "_view_module": "@jupyter-widgets/base",
            "_view_module_version": "1.2.0",
            "_view_name": "LayoutView",
            "align_content": null,
            "align_items": null,
            "align_self": null,
            "border": null,
            "bottom": null,
            "display": null,
            "flex": null,
            "flex_flow": null,
            "grid_area": null,
            "grid_auto_columns": null,
            "grid_auto_flow": null,
            "grid_auto_rows": null,
            "grid_column": null,
            "grid_gap": null,
            "grid_row": null,
            "grid_template_areas": null,
            "grid_template_columns": null,
            "grid_template_rows": null,
            "height": null,
            "justify_content": null,
            "justify_items": null,
            "left": null,
            "margin": null,
            "max_height": null,
            "max_width": null,
            "min_height": null,
            "min_width": null,
            "object_fit": null,
            "object_position": null,
            "order": null,
            "overflow": null,
            "overflow_x": null,
            "overflow_y": null,
            "padding": null,
            "right": null,
            "top": null,
            "visibility": null,
            "width": null
          }
        },
        "d44ed59be7bb48e29bfac7ca755f0df0": {
          "model_module": "@jupyter-widgets/controls",
          "model_name": "DescriptionStyleModel",
          "model_module_version": "1.5.0",
          "state": {
            "_model_module": "@jupyter-widgets/controls",
            "_model_module_version": "1.5.0",
            "_model_name": "DescriptionStyleModel",
            "_view_count": null,
            "_view_module": "@jupyter-widgets/base",
            "_view_module_version": "1.2.0",
            "_view_name": "StyleView",
            "description_width": ""
          }
        },
        "f0d7d015bbed4cc78781c5d55b4a64a9": {
          "model_module": "@jupyter-widgets/controls",
          "model_name": "HBoxModel",
          "model_module_version": "1.5.0",
          "state": {
            "_dom_classes": [],
            "_model_module": "@jupyter-widgets/controls",
            "_model_module_version": "1.5.0",
            "_model_name": "HBoxModel",
            "_view_count": null,
            "_view_module": "@jupyter-widgets/controls",
            "_view_module_version": "1.5.0",
            "_view_name": "HBoxView",
            "box_style": "",
            "children": [
              "IPY_MODEL_e2000bf5dad841a09f8c5f1cecce3b72",
              "IPY_MODEL_eb362586df2546cf8859ec6372bd7f9f",
              "IPY_MODEL_bb6fe62e6d174f828143b1c70e4f21de"
            ],
            "layout": "IPY_MODEL_415fe70473304344a060307d7ee5893c"
          }
        },
        "e2000bf5dad841a09f8c5f1cecce3b72": {
          "model_module": "@jupyter-widgets/controls",
          "model_name": "HTMLModel",
          "model_module_version": "1.5.0",
          "state": {
            "_dom_classes": [],
            "_model_module": "@jupyter-widgets/controls",
            "_model_module_version": "1.5.0",
            "_model_name": "HTMLModel",
            "_view_count": null,
            "_view_module": "@jupyter-widgets/controls",
            "_view_module_version": "1.5.0",
            "_view_name": "HTMLView",
            "description": "",
            "description_tooltip": null,
            "layout": "IPY_MODEL_a58b0f920336450cb55cec2f711dc45e",
            "placeholder": "​",
            "style": "IPY_MODEL_5045c95500514d51bca12c937bcaf10e",
            "value": "tokenizer.json: 100%"
          }
        },
        "eb362586df2546cf8859ec6372bd7f9f": {
          "model_module": "@jupyter-widgets/controls",
          "model_name": "FloatProgressModel",
          "model_module_version": "1.5.0",
          "state": {
            "_dom_classes": [],
            "_model_module": "@jupyter-widgets/controls",
            "_model_module_version": "1.5.0",
            "_model_name": "FloatProgressModel",
            "_view_count": null,
            "_view_module": "@jupyter-widgets/controls",
            "_view_module_version": "1.5.0",
            "_view_name": "ProgressView",
            "bar_style": "success",
            "description": "",
            "description_tooltip": null,
            "layout": "IPY_MODEL_8ff246c1cb2d452b9fb051b684d176e1",
            "max": 466247,
            "min": 0,
            "orientation": "horizontal",
            "style": "IPY_MODEL_b6d7b6d0fe6a423e96c31094a9e66666",
            "value": 466247
          }
        },
        "bb6fe62e6d174f828143b1c70e4f21de": {
          "model_module": "@jupyter-widgets/controls",
          "model_name": "HTMLModel",
          "model_module_version": "1.5.0",
          "state": {
            "_dom_classes": [],
            "_model_module": "@jupyter-widgets/controls",
            "_model_module_version": "1.5.0",
            "_model_name": "HTMLModel",
            "_view_count": null,
            "_view_module": "@jupyter-widgets/controls",
            "_view_module_version": "1.5.0",
            "_view_name": "HTMLView",
            "description": "",
            "description_tooltip": null,
            "layout": "IPY_MODEL_9ca1456c68814fc7986a453371b5cf6b",
            "placeholder": "​",
            "style": "IPY_MODEL_31ec98d5993b443cbe78776723089b66",
            "value": " 466k/466k [00:00&lt;00:00, 7.13MB/s]"
          }
        },
        "415fe70473304344a060307d7ee5893c": {
          "model_module": "@jupyter-widgets/base",
          "model_name": "LayoutModel",
          "model_module_version": "1.2.0",
          "state": {
            "_model_module": "@jupyter-widgets/base",
            "_model_module_version": "1.2.0",
            "_model_name": "LayoutModel",
            "_view_count": null,
            "_view_module": "@jupyter-widgets/base",
            "_view_module_version": "1.2.0",
            "_view_name": "LayoutView",
            "align_content": null,
            "align_items": null,
            "align_self": null,
            "border": null,
            "bottom": null,
            "display": null,
            "flex": null,
            "flex_flow": null,
            "grid_area": null,
            "grid_auto_columns": null,
            "grid_auto_flow": null,
            "grid_auto_rows": null,
            "grid_column": null,
            "grid_gap": null,
            "grid_row": null,
            "grid_template_areas": null,
            "grid_template_columns": null,
            "grid_template_rows": null,
            "height": null,
            "justify_content": null,
            "justify_items": null,
            "left": null,
            "margin": null,
            "max_height": null,
            "max_width": null,
            "min_height": null,
            "min_width": null,
            "object_fit": null,
            "object_position": null,
            "order": null,
            "overflow": null,
            "overflow_x": null,
            "overflow_y": null,
            "padding": null,
            "right": null,
            "top": null,
            "visibility": null,
            "width": null
          }
        },
        "a58b0f920336450cb55cec2f711dc45e": {
          "model_module": "@jupyter-widgets/base",
          "model_name": "LayoutModel",
          "model_module_version": "1.2.0",
          "state": {
            "_model_module": "@jupyter-widgets/base",
            "_model_module_version": "1.2.0",
            "_model_name": "LayoutModel",
            "_view_count": null,
            "_view_module": "@jupyter-widgets/base",
            "_view_module_version": "1.2.0",
            "_view_name": "LayoutView",
            "align_content": null,
            "align_items": null,
            "align_self": null,
            "border": null,
            "bottom": null,
            "display": null,
            "flex": null,
            "flex_flow": null,
            "grid_area": null,
            "grid_auto_columns": null,
            "grid_auto_flow": null,
            "grid_auto_rows": null,
            "grid_column": null,
            "grid_gap": null,
            "grid_row": null,
            "grid_template_areas": null,
            "grid_template_columns": null,
            "grid_template_rows": null,
            "height": null,
            "justify_content": null,
            "justify_items": null,
            "left": null,
            "margin": null,
            "max_height": null,
            "max_width": null,
            "min_height": null,
            "min_width": null,
            "object_fit": null,
            "object_position": null,
            "order": null,
            "overflow": null,
            "overflow_x": null,
            "overflow_y": null,
            "padding": null,
            "right": null,
            "top": null,
            "visibility": null,
            "width": null
          }
        },
        "5045c95500514d51bca12c937bcaf10e": {
          "model_module": "@jupyter-widgets/controls",
          "model_name": "DescriptionStyleModel",
          "model_module_version": "1.5.0",
          "state": {
            "_model_module": "@jupyter-widgets/controls",
            "_model_module_version": "1.5.0",
            "_model_name": "DescriptionStyleModel",
            "_view_count": null,
            "_view_module": "@jupyter-widgets/base",
            "_view_module_version": "1.2.0",
            "_view_name": "StyleView",
            "description_width": ""
          }
        },
        "8ff246c1cb2d452b9fb051b684d176e1": {
          "model_module": "@jupyter-widgets/base",
          "model_name": "LayoutModel",
          "model_module_version": "1.2.0",
          "state": {
            "_model_module": "@jupyter-widgets/base",
            "_model_module_version": "1.2.0",
            "_model_name": "LayoutModel",
            "_view_count": null,
            "_view_module": "@jupyter-widgets/base",
            "_view_module_version": "1.2.0",
            "_view_name": "LayoutView",
            "align_content": null,
            "align_items": null,
            "align_self": null,
            "border": null,
            "bottom": null,
            "display": null,
            "flex": null,
            "flex_flow": null,
            "grid_area": null,
            "grid_auto_columns": null,
            "grid_auto_flow": null,
            "grid_auto_rows": null,
            "grid_column": null,
            "grid_gap": null,
            "grid_row": null,
            "grid_template_areas": null,
            "grid_template_columns": null,
            "grid_template_rows": null,
            "height": null,
            "justify_content": null,
            "justify_items": null,
            "left": null,
            "margin": null,
            "max_height": null,
            "max_width": null,
            "min_height": null,
            "min_width": null,
            "object_fit": null,
            "object_position": null,
            "order": null,
            "overflow": null,
            "overflow_x": null,
            "overflow_y": null,
            "padding": null,
            "right": null,
            "top": null,
            "visibility": null,
            "width": null
          }
        },
        "b6d7b6d0fe6a423e96c31094a9e66666": {
          "model_module": "@jupyter-widgets/controls",
          "model_name": "ProgressStyleModel",
          "model_module_version": "1.5.0",
          "state": {
            "_model_module": "@jupyter-widgets/controls",
            "_model_module_version": "1.5.0",
            "_model_name": "ProgressStyleModel",
            "_view_count": null,
            "_view_module": "@jupyter-widgets/base",
            "_view_module_version": "1.2.0",
            "_view_name": "StyleView",
            "bar_color": null,
            "description_width": ""
          }
        },
        "9ca1456c68814fc7986a453371b5cf6b": {
          "model_module": "@jupyter-widgets/base",
          "model_name": "LayoutModel",
          "model_module_version": "1.2.0",
          "state": {
            "_model_module": "@jupyter-widgets/base",
            "_model_module_version": "1.2.0",
            "_model_name": "LayoutModel",
            "_view_count": null,
            "_view_module": "@jupyter-widgets/base",
            "_view_module_version": "1.2.0",
            "_view_name": "LayoutView",
            "align_content": null,
            "align_items": null,
            "align_self": null,
            "border": null,
            "bottom": null,
            "display": null,
            "flex": null,
            "flex_flow": null,
            "grid_area": null,
            "grid_auto_columns": null,
            "grid_auto_flow": null,
            "grid_auto_rows": null,
            "grid_column": null,
            "grid_gap": null,
            "grid_row": null,
            "grid_template_areas": null,
            "grid_template_columns": null,
            "grid_template_rows": null,
            "height": null,
            "justify_content": null,
            "justify_items": null,
            "left": null,
            "margin": null,
            "max_height": null,
            "max_width": null,
            "min_height": null,
            "min_width": null,
            "object_fit": null,
            "object_position": null,
            "order": null,
            "overflow": null,
            "overflow_x": null,
            "overflow_y": null,
            "padding": null,
            "right": null,
            "top": null,
            "visibility": null,
            "width": null
          }
        },
        "31ec98d5993b443cbe78776723089b66": {
          "model_module": "@jupyter-widgets/controls",
          "model_name": "DescriptionStyleModel",
          "model_module_version": "1.5.0",
          "state": {
            "_model_module": "@jupyter-widgets/controls",
            "_model_module_version": "1.5.0",
            "_model_name": "DescriptionStyleModel",
            "_view_count": null,
            "_view_module": "@jupyter-widgets/base",
            "_view_module_version": "1.2.0",
            "_view_name": "StyleView",
            "description_width": ""
          }
        },
        "c61defc7a77a4d61a8be5ee7c4ed8f35": {
          "model_module": "@jupyter-widgets/controls",
          "model_name": "HBoxModel",
          "model_module_version": "1.5.0",
          "state": {
            "_dom_classes": [],
            "_model_module": "@jupyter-widgets/controls",
            "_model_module_version": "1.5.0",
            "_model_name": "HBoxModel",
            "_view_count": null,
            "_view_module": "@jupyter-widgets/controls",
            "_view_module_version": "1.5.0",
            "_view_name": "HBoxView",
            "box_style": "",
            "children": [
              "IPY_MODEL_15a85c81319a4e6bb92fb403ed0abcb8",
              "IPY_MODEL_0954bec70a004f189fda7d7c50944585",
              "IPY_MODEL_543fc59b11ab4ee0bda109c8f88709ee"
            ],
            "layout": "IPY_MODEL_b980b964ad93488680465e4ee7276198"
          }
        },
        "15a85c81319a4e6bb92fb403ed0abcb8": {
          "model_module": "@jupyter-widgets/controls",
          "model_name": "HTMLModel",
          "model_module_version": "1.5.0",
          "state": {
            "_dom_classes": [],
            "_model_module": "@jupyter-widgets/controls",
            "_model_module_version": "1.5.0",
            "_model_name": "HTMLModel",
            "_view_count": null,
            "_view_module": "@jupyter-widgets/controls",
            "_view_module_version": "1.5.0",
            "_view_name": "HTMLView",
            "description": "",
            "description_tooltip": null,
            "layout": "IPY_MODEL_30662c6a8bfd404fbd67000b06ff5031",
            "placeholder": "​",
            "style": "IPY_MODEL_1ff370e3cd314065829b3f974fa1d68a",
            "value": "special_tokens_map.json: 100%"
          }
        },
        "0954bec70a004f189fda7d7c50944585": {
          "model_module": "@jupyter-widgets/controls",
          "model_name": "FloatProgressModel",
          "model_module_version": "1.5.0",
          "state": {
            "_dom_classes": [],
            "_model_module": "@jupyter-widgets/controls",
            "_model_module_version": "1.5.0",
            "_model_name": "FloatProgressModel",
            "_view_count": null,
            "_view_module": "@jupyter-widgets/controls",
            "_view_module_version": "1.5.0",
            "_view_name": "ProgressView",
            "bar_style": "success",
            "description": "",
            "description_tooltip": null,
            "layout": "IPY_MODEL_9d7b77cf7ac44fce9935b8eaa61f42fc",
            "max": 112,
            "min": 0,
            "orientation": "horizontal",
            "style": "IPY_MODEL_0b4d925874e040b88cc98c6e5432b660",
            "value": 112
          }
        },
        "543fc59b11ab4ee0bda109c8f88709ee": {
          "model_module": "@jupyter-widgets/controls",
          "model_name": "HTMLModel",
          "model_module_version": "1.5.0",
          "state": {
            "_dom_classes": [],
            "_model_module": "@jupyter-widgets/controls",
            "_model_module_version": "1.5.0",
            "_model_name": "HTMLModel",
            "_view_count": null,
            "_view_module": "@jupyter-widgets/controls",
            "_view_module_version": "1.5.0",
            "_view_name": "HTMLView",
            "description": "",
            "description_tooltip": null,
            "layout": "IPY_MODEL_f1c2962d3cf1423b8a1a7954472f6248",
            "placeholder": "​",
            "style": "IPY_MODEL_aeeea10b25334d28b8381c0ac5ae7cde",
            "value": " 112/112 [00:00&lt;00:00, 9.16kB/s]"
          }
        },
        "b980b964ad93488680465e4ee7276198": {
          "model_module": "@jupyter-widgets/base",
          "model_name": "LayoutModel",
          "model_module_version": "1.2.0",
          "state": {
            "_model_module": "@jupyter-widgets/base",
            "_model_module_version": "1.2.0",
            "_model_name": "LayoutModel",
            "_view_count": null,
            "_view_module": "@jupyter-widgets/base",
            "_view_module_version": "1.2.0",
            "_view_name": "LayoutView",
            "align_content": null,
            "align_items": null,
            "align_self": null,
            "border": null,
            "bottom": null,
            "display": null,
            "flex": null,
            "flex_flow": null,
            "grid_area": null,
            "grid_auto_columns": null,
            "grid_auto_flow": null,
            "grid_auto_rows": null,
            "grid_column": null,
            "grid_gap": null,
            "grid_row": null,
            "grid_template_areas": null,
            "grid_template_columns": null,
            "grid_template_rows": null,
            "height": null,
            "justify_content": null,
            "justify_items": null,
            "left": null,
            "margin": null,
            "max_height": null,
            "max_width": null,
            "min_height": null,
            "min_width": null,
            "object_fit": null,
            "object_position": null,
            "order": null,
            "overflow": null,
            "overflow_x": null,
            "overflow_y": null,
            "padding": null,
            "right": null,
            "top": null,
            "visibility": null,
            "width": null
          }
        },
        "30662c6a8bfd404fbd67000b06ff5031": {
          "model_module": "@jupyter-widgets/base",
          "model_name": "LayoutModel",
          "model_module_version": "1.2.0",
          "state": {
            "_model_module": "@jupyter-widgets/base",
            "_model_module_version": "1.2.0",
            "_model_name": "LayoutModel",
            "_view_count": null,
            "_view_module": "@jupyter-widgets/base",
            "_view_module_version": "1.2.0",
            "_view_name": "LayoutView",
            "align_content": null,
            "align_items": null,
            "align_self": null,
            "border": null,
            "bottom": null,
            "display": null,
            "flex": null,
            "flex_flow": null,
            "grid_area": null,
            "grid_auto_columns": null,
            "grid_auto_flow": null,
            "grid_auto_rows": null,
            "grid_column": null,
            "grid_gap": null,
            "grid_row": null,
            "grid_template_areas": null,
            "grid_template_columns": null,
            "grid_template_rows": null,
            "height": null,
            "justify_content": null,
            "justify_items": null,
            "left": null,
            "margin": null,
            "max_height": null,
            "max_width": null,
            "min_height": null,
            "min_width": null,
            "object_fit": null,
            "object_position": null,
            "order": null,
            "overflow": null,
            "overflow_x": null,
            "overflow_y": null,
            "padding": null,
            "right": null,
            "top": null,
            "visibility": null,
            "width": null
          }
        },
        "1ff370e3cd314065829b3f974fa1d68a": {
          "model_module": "@jupyter-widgets/controls",
          "model_name": "DescriptionStyleModel",
          "model_module_version": "1.5.0",
          "state": {
            "_model_module": "@jupyter-widgets/controls",
            "_model_module_version": "1.5.0",
            "_model_name": "DescriptionStyleModel",
            "_view_count": null,
            "_view_module": "@jupyter-widgets/base",
            "_view_module_version": "1.2.0",
            "_view_name": "StyleView",
            "description_width": ""
          }
        },
        "9d7b77cf7ac44fce9935b8eaa61f42fc": {
          "model_module": "@jupyter-widgets/base",
          "model_name": "LayoutModel",
          "model_module_version": "1.2.0",
          "state": {
            "_model_module": "@jupyter-widgets/base",
            "_model_module_version": "1.2.0",
            "_model_name": "LayoutModel",
            "_view_count": null,
            "_view_module": "@jupyter-widgets/base",
            "_view_module_version": "1.2.0",
            "_view_name": "LayoutView",
            "align_content": null,
            "align_items": null,
            "align_self": null,
            "border": null,
            "bottom": null,
            "display": null,
            "flex": null,
            "flex_flow": null,
            "grid_area": null,
            "grid_auto_columns": null,
            "grid_auto_flow": null,
            "grid_auto_rows": null,
            "grid_column": null,
            "grid_gap": null,
            "grid_row": null,
            "grid_template_areas": null,
            "grid_template_columns": null,
            "grid_template_rows": null,
            "height": null,
            "justify_content": null,
            "justify_items": null,
            "left": null,
            "margin": null,
            "max_height": null,
            "max_width": null,
            "min_height": null,
            "min_width": null,
            "object_fit": null,
            "object_position": null,
            "order": null,
            "overflow": null,
            "overflow_x": null,
            "overflow_y": null,
            "padding": null,
            "right": null,
            "top": null,
            "visibility": null,
            "width": null
          }
        },
        "0b4d925874e040b88cc98c6e5432b660": {
          "model_module": "@jupyter-widgets/controls",
          "model_name": "ProgressStyleModel",
          "model_module_version": "1.5.0",
          "state": {
            "_model_module": "@jupyter-widgets/controls",
            "_model_module_version": "1.5.0",
            "_model_name": "ProgressStyleModel",
            "_view_count": null,
            "_view_module": "@jupyter-widgets/base",
            "_view_module_version": "1.2.0",
            "_view_name": "StyleView",
            "bar_color": null,
            "description_width": ""
          }
        },
        "f1c2962d3cf1423b8a1a7954472f6248": {
          "model_module": "@jupyter-widgets/base",
          "model_name": "LayoutModel",
          "model_module_version": "1.2.0",
          "state": {
            "_model_module": "@jupyter-widgets/base",
            "_model_module_version": "1.2.0",
            "_model_name": "LayoutModel",
            "_view_count": null,
            "_view_module": "@jupyter-widgets/base",
            "_view_module_version": "1.2.0",
            "_view_name": "LayoutView",
            "align_content": null,
            "align_items": null,
            "align_self": null,
            "border": null,
            "bottom": null,
            "display": null,
            "flex": null,
            "flex_flow": null,
            "grid_area": null,
            "grid_auto_columns": null,
            "grid_auto_flow": null,
            "grid_auto_rows": null,
            "grid_column": null,
            "grid_gap": null,
            "grid_row": null,
            "grid_template_areas": null,
            "grid_template_columns": null,
            "grid_template_rows": null,
            "height": null,
            "justify_content": null,
            "justify_items": null,
            "left": null,
            "margin": null,
            "max_height": null,
            "max_width": null,
            "min_height": null,
            "min_width": null,
            "object_fit": null,
            "object_position": null,
            "order": null,
            "overflow": null,
            "overflow_x": null,
            "overflow_y": null,
            "padding": null,
            "right": null,
            "top": null,
            "visibility": null,
            "width": null
          }
        },
        "aeeea10b25334d28b8381c0ac5ae7cde": {
          "model_module": "@jupyter-widgets/controls",
          "model_name": "DescriptionStyleModel",
          "model_module_version": "1.5.0",
          "state": {
            "_model_module": "@jupyter-widgets/controls",
            "_model_module_version": "1.5.0",
            "_model_name": "DescriptionStyleModel",
            "_view_count": null,
            "_view_module": "@jupyter-widgets/base",
            "_view_module_version": "1.2.0",
            "_view_name": "StyleView",
            "description_width": ""
          }
        },
        "d1665f85226643a0a9426c380dcac544": {
          "model_module": "@jupyter-widgets/controls",
          "model_name": "HBoxModel",
          "model_module_version": "1.5.0",
          "state": {
            "_dom_classes": [],
            "_model_module": "@jupyter-widgets/controls",
            "_model_module_version": "1.5.0",
            "_model_name": "HBoxModel",
            "_view_count": null,
            "_view_module": "@jupyter-widgets/controls",
            "_view_module_version": "1.5.0",
            "_view_name": "HBoxView",
            "box_style": "",
            "children": [
              "IPY_MODEL_e5e957ad3e354ace898f30c5f6b76696",
              "IPY_MODEL_8b74a2baa68c4636991124b2803fca2e",
              "IPY_MODEL_838d2c6222064bc58b07b61dbf0346dc"
            ],
            "layout": "IPY_MODEL_1a76d83599f74c3ea10ed2f059178af2"
          }
        },
        "e5e957ad3e354ace898f30c5f6b76696": {
          "model_module": "@jupyter-widgets/controls",
          "model_name": "HTMLModel",
          "model_module_version": "1.5.0",
          "state": {
            "_dom_classes": [],
            "_model_module": "@jupyter-widgets/controls",
            "_model_module_version": "1.5.0",
            "_model_name": "HTMLModel",
            "_view_count": null,
            "_view_module": "@jupyter-widgets/controls",
            "_view_module_version": "1.5.0",
            "_view_name": "HTMLView",
            "description": "",
            "description_tooltip": null,
            "layout": "IPY_MODEL_dabc7d87171f41748e673737b062f340",
            "placeholder": "​",
            "style": "IPY_MODEL_297dd172e1944d8882b775e881696408",
            "value": "1_Pooling/config.json: 100%"
          }
        },
        "8b74a2baa68c4636991124b2803fca2e": {
          "model_module": "@jupyter-widgets/controls",
          "model_name": "FloatProgressModel",
          "model_module_version": "1.5.0",
          "state": {
            "_dom_classes": [],
            "_model_module": "@jupyter-widgets/controls",
            "_model_module_version": "1.5.0",
            "_model_name": "FloatProgressModel",
            "_view_count": null,
            "_view_module": "@jupyter-widgets/controls",
            "_view_module_version": "1.5.0",
            "_view_name": "ProgressView",
            "bar_style": "success",
            "description": "",
            "description_tooltip": null,
            "layout": "IPY_MODEL_8ac8455b21c0435eb3232bda8216391d",
            "max": 190,
            "min": 0,
            "orientation": "horizontal",
            "style": "IPY_MODEL_d1ad5b80c4ae4892b82612b5570136ac",
            "value": 190
          }
        },
        "838d2c6222064bc58b07b61dbf0346dc": {
          "model_module": "@jupyter-widgets/controls",
          "model_name": "HTMLModel",
          "model_module_version": "1.5.0",
          "state": {
            "_dom_classes": [],
            "_model_module": "@jupyter-widgets/controls",
            "_model_module_version": "1.5.0",
            "_model_name": "HTMLModel",
            "_view_count": null,
            "_view_module": "@jupyter-widgets/controls",
            "_view_module_version": "1.5.0",
            "_view_name": "HTMLView",
            "description": "",
            "description_tooltip": null,
            "layout": "IPY_MODEL_490b27a2ce61487d81d8d1546f932005",
            "placeholder": "​",
            "style": "IPY_MODEL_57be802b5b8d411aa2c8f6b9f06b5a40",
            "value": " 190/190 [00:00&lt;00:00, 9.20kB/s]"
          }
        },
        "1a76d83599f74c3ea10ed2f059178af2": {
          "model_module": "@jupyter-widgets/base",
          "model_name": "LayoutModel",
          "model_module_version": "1.2.0",
          "state": {
            "_model_module": "@jupyter-widgets/base",
            "_model_module_version": "1.2.0",
            "_model_name": "LayoutModel",
            "_view_count": null,
            "_view_module": "@jupyter-widgets/base",
            "_view_module_version": "1.2.0",
            "_view_name": "LayoutView",
            "align_content": null,
            "align_items": null,
            "align_self": null,
            "border": null,
            "bottom": null,
            "display": null,
            "flex": null,
            "flex_flow": null,
            "grid_area": null,
            "grid_auto_columns": null,
            "grid_auto_flow": null,
            "grid_auto_rows": null,
            "grid_column": null,
            "grid_gap": null,
            "grid_row": null,
            "grid_template_areas": null,
            "grid_template_columns": null,
            "grid_template_rows": null,
            "height": null,
            "justify_content": null,
            "justify_items": null,
            "left": null,
            "margin": null,
            "max_height": null,
            "max_width": null,
            "min_height": null,
            "min_width": null,
            "object_fit": null,
            "object_position": null,
            "order": null,
            "overflow": null,
            "overflow_x": null,
            "overflow_y": null,
            "padding": null,
            "right": null,
            "top": null,
            "visibility": null,
            "width": null
          }
        },
        "dabc7d87171f41748e673737b062f340": {
          "model_module": "@jupyter-widgets/base",
          "model_name": "LayoutModel",
          "model_module_version": "1.2.0",
          "state": {
            "_model_module": "@jupyter-widgets/base",
            "_model_module_version": "1.2.0",
            "_model_name": "LayoutModel",
            "_view_count": null,
            "_view_module": "@jupyter-widgets/base",
            "_view_module_version": "1.2.0",
            "_view_name": "LayoutView",
            "align_content": null,
            "align_items": null,
            "align_self": null,
            "border": null,
            "bottom": null,
            "display": null,
            "flex": null,
            "flex_flow": null,
            "grid_area": null,
            "grid_auto_columns": null,
            "grid_auto_flow": null,
            "grid_auto_rows": null,
            "grid_column": null,
            "grid_gap": null,
            "grid_row": null,
            "grid_template_areas": null,
            "grid_template_columns": null,
            "grid_template_rows": null,
            "height": null,
            "justify_content": null,
            "justify_items": null,
            "left": null,
            "margin": null,
            "max_height": null,
            "max_width": null,
            "min_height": null,
            "min_width": null,
            "object_fit": null,
            "object_position": null,
            "order": null,
            "overflow": null,
            "overflow_x": null,
            "overflow_y": null,
            "padding": null,
            "right": null,
            "top": null,
            "visibility": null,
            "width": null
          }
        },
        "297dd172e1944d8882b775e881696408": {
          "model_module": "@jupyter-widgets/controls",
          "model_name": "DescriptionStyleModel",
          "model_module_version": "1.5.0",
          "state": {
            "_model_module": "@jupyter-widgets/controls",
            "_model_module_version": "1.5.0",
            "_model_name": "DescriptionStyleModel",
            "_view_count": null,
            "_view_module": "@jupyter-widgets/base",
            "_view_module_version": "1.2.0",
            "_view_name": "StyleView",
            "description_width": ""
          }
        },
        "8ac8455b21c0435eb3232bda8216391d": {
          "model_module": "@jupyter-widgets/base",
          "model_name": "LayoutModel",
          "model_module_version": "1.2.0",
          "state": {
            "_model_module": "@jupyter-widgets/base",
            "_model_module_version": "1.2.0",
            "_model_name": "LayoutModel",
            "_view_count": null,
            "_view_module": "@jupyter-widgets/base",
            "_view_module_version": "1.2.0",
            "_view_name": "LayoutView",
            "align_content": null,
            "align_items": null,
            "align_self": null,
            "border": null,
            "bottom": null,
            "display": null,
            "flex": null,
            "flex_flow": null,
            "grid_area": null,
            "grid_auto_columns": null,
            "grid_auto_flow": null,
            "grid_auto_rows": null,
            "grid_column": null,
            "grid_gap": null,
            "grid_row": null,
            "grid_template_areas": null,
            "grid_template_columns": null,
            "grid_template_rows": null,
            "height": null,
            "justify_content": null,
            "justify_items": null,
            "left": null,
            "margin": null,
            "max_height": null,
            "max_width": null,
            "min_height": null,
            "min_width": null,
            "object_fit": null,
            "object_position": null,
            "order": null,
            "overflow": null,
            "overflow_x": null,
            "overflow_y": null,
            "padding": null,
            "right": null,
            "top": null,
            "visibility": null,
            "width": null
          }
        },
        "d1ad5b80c4ae4892b82612b5570136ac": {
          "model_module": "@jupyter-widgets/controls",
          "model_name": "ProgressStyleModel",
          "model_module_version": "1.5.0",
          "state": {
            "_model_module": "@jupyter-widgets/controls",
            "_model_module_version": "1.5.0",
            "_model_name": "ProgressStyleModel",
            "_view_count": null,
            "_view_module": "@jupyter-widgets/base",
            "_view_module_version": "1.2.0",
            "_view_name": "StyleView",
            "bar_color": null,
            "description_width": ""
          }
        },
        "490b27a2ce61487d81d8d1546f932005": {
          "model_module": "@jupyter-widgets/base",
          "model_name": "LayoutModel",
          "model_module_version": "1.2.0",
          "state": {
            "_model_module": "@jupyter-widgets/base",
            "_model_module_version": "1.2.0",
            "_model_name": "LayoutModel",
            "_view_count": null,
            "_view_module": "@jupyter-widgets/base",
            "_view_module_version": "1.2.0",
            "_view_name": "LayoutView",
            "align_content": null,
            "align_items": null,
            "align_self": null,
            "border": null,
            "bottom": null,
            "display": null,
            "flex": null,
            "flex_flow": null,
            "grid_area": null,
            "grid_auto_columns": null,
            "grid_auto_flow": null,
            "grid_auto_rows": null,
            "grid_column": null,
            "grid_gap": null,
            "grid_row": null,
            "grid_template_areas": null,
            "grid_template_columns": null,
            "grid_template_rows": null,
            "height": null,
            "justify_content": null,
            "justify_items": null,
            "left": null,
            "margin": null,
            "max_height": null,
            "max_width": null,
            "min_height": null,
            "min_width": null,
            "object_fit": null,
            "object_position": null,
            "order": null,
            "overflow": null,
            "overflow_x": null,
            "overflow_y": null,
            "padding": null,
            "right": null,
            "top": null,
            "visibility": null,
            "width": null
          }
        },
        "57be802b5b8d411aa2c8f6b9f06b5a40": {
          "model_module": "@jupyter-widgets/controls",
          "model_name": "DescriptionStyleModel",
          "model_module_version": "1.5.0",
          "state": {
            "_model_module": "@jupyter-widgets/controls",
            "_model_module_version": "1.5.0",
            "_model_name": "DescriptionStyleModel",
            "_view_count": null,
            "_view_module": "@jupyter-widgets/base",
            "_view_module_version": "1.2.0",
            "_view_name": "StyleView",
            "description_width": ""
          }
        }
      }
    }
  },
  "cells": [
    {
      "cell_type": "code",
      "source": [
        "pip install -r requirements.txt"
      ],
      "metadata": {
        "colab": {
          "base_uri": "https://localhost:8080/"
        },
        "id": "N4aQcG2WGezk",
        "outputId": "70c7f78e-441a-412a-839a-bdd36e41a387"
      },
      "execution_count": null,
      "outputs": [
        {
          "output_type": "stream",
          "name": "stdout",
          "text": [
            "Requirement already satisfied: torch>=2.0.0 in /usr/local/lib/python3.11/dist-packages (from -r requirements.txt (line 1)) (2.5.1+cu124)\n",
            "Requirement already satisfied: transformers>=4.36.0 in /usr/local/lib/python3.11/dist-packages (from -r requirements.txt (line 2)) (4.48.2)\n",
            "Requirement already satisfied: pandas>=2.0.0 in /usr/local/lib/python3.11/dist-packages (from -r requirements.txt (line 3)) (2.2.2)\n",
            "Requirement already satisfied: tqdm>=4.65.0 in /usr/local/lib/python3.11/dist-packages (from -r requirements.txt (line 4)) (4.67.1)\n",
            "Requirement already satisfied: langchain>=0.1.0 in /usr/local/lib/python3.11/dist-packages (from -r requirements.txt (line 5)) (0.3.17)\n",
            "Collecting langchain-community>=0.0.10 (from -r requirements.txt (line 6))\n",
            "  Downloading langchain_community-0.3.17-py3-none-any.whl.metadata (2.4 kB)\n",
            "Collecting faiss-cpu>=1.7.4 (from -r requirements.txt (line 7))\n",
            "  Downloading faiss_cpu-1.10.0-cp311-cp311-manylinux_2_28_x86_64.whl.metadata (4.4 kB)\n",
            "Requirement already satisfied: sentence-transformers>=2.2.2 in /usr/local/lib/python3.11/dist-packages (from -r requirements.txt (line 8)) (3.4.1)\n",
            "Requirement already satisfied: scikit-learn>=1.2.2 in /usr/local/lib/python3.11/dist-packages (from -r requirements.txt (line 9)) (1.6.1)\n",
            "Requirement already satisfied: numpy>=1.24.0 in /usr/local/lib/python3.11/dist-packages (from -r requirements.txt (line 10)) (1.26.4)\n",
            "Collecting bitsandbytes>=0.41.1 (from -r requirements.txt (line 11))\n",
            "  Downloading bitsandbytes-0.45.2-py3-none-manylinux_2_24_x86_64.whl.metadata (5.8 kB)\n",
            "Requirement already satisfied: peft>=0.7.0 in /usr/local/lib/python3.11/dist-packages (from -r requirements.txt (line 12)) (0.14.0)\n",
            "Collecting datasets>=2.14.0 (from -r requirements.txt (line 13))\n",
            "  Downloading datasets-3.2.0-py3-none-any.whl.metadata (20 kB)\n",
            "Collecting rouge_score>=0.1.2 (from -r requirements.txt (line 14))\n",
            "  Downloading rouge_score-0.1.2.tar.gz (17 kB)\n",
            "  Preparing metadata (setup.py) ... \u001b[?25l\u001b[?25hdone\n",
            "Requirement already satisfied: nltk>=3.8.1 in /usr/local/lib/python3.11/dist-packages (from -r requirements.txt (line 15)) (3.9.1)\n",
            "Requirement already satisfied: tabulate>=0.9.0 in /usr/local/lib/python3.11/dist-packages (from -r requirements.txt (line 16)) (0.9.0)\n",
            "Requirement already satisfied: matplotlib>=3.7.1 in /usr/local/lib/python3.11/dist-packages (from -r requirements.txt (line 17)) (3.10.0)\n",
            "Requirement already satisfied: seaborn>=0.12.2 in /usr/local/lib/python3.11/dist-packages (from -r requirements.txt (line 18)) (0.13.2)\n",
            "Requirement already satisfied: accelerate>=0.24.1 in /usr/local/lib/python3.11/dist-packages (from -r requirements.txt (line 19)) (1.3.0)\n",
            "Requirement already satisfied: filelock in /usr/local/lib/python3.11/dist-packages (from torch>=2.0.0->-r requirements.txt (line 1)) (3.17.0)\n",
            "Requirement already satisfied: typing-extensions>=4.8.0 in /usr/local/lib/python3.11/dist-packages (from torch>=2.0.0->-r requirements.txt (line 1)) (4.12.2)\n",
            "Requirement already satisfied: networkx in /usr/local/lib/python3.11/dist-packages (from torch>=2.0.0->-r requirements.txt (line 1)) (3.4.2)\n",
            "Requirement already satisfied: jinja2 in /usr/local/lib/python3.11/dist-packages (from torch>=2.0.0->-r requirements.txt (line 1)) (3.1.5)\n",
            "Requirement already satisfied: fsspec in /usr/local/lib/python3.11/dist-packages (from torch>=2.0.0->-r requirements.txt (line 1)) (2024.10.0)\n",
            "Collecting nvidia-cuda-nvrtc-cu12==12.4.127 (from torch>=2.0.0->-r requirements.txt (line 1))\n",
            "  Downloading nvidia_cuda_nvrtc_cu12-12.4.127-py3-none-manylinux2014_x86_64.whl.metadata (1.5 kB)\n",
            "Collecting nvidia-cuda-runtime-cu12==12.4.127 (from torch>=2.0.0->-r requirements.txt (line 1))\n",
            "  Downloading nvidia_cuda_runtime_cu12-12.4.127-py3-none-manylinux2014_x86_64.whl.metadata (1.5 kB)\n",
            "Collecting nvidia-cuda-cupti-cu12==12.4.127 (from torch>=2.0.0->-r requirements.txt (line 1))\n",
            "  Downloading nvidia_cuda_cupti_cu12-12.4.127-py3-none-manylinux2014_x86_64.whl.metadata (1.6 kB)\n",
            "Collecting nvidia-cudnn-cu12==9.1.0.70 (from torch>=2.0.0->-r requirements.txt (line 1))\n",
            "  Downloading nvidia_cudnn_cu12-9.1.0.70-py3-none-manylinux2014_x86_64.whl.metadata (1.6 kB)\n",
            "Collecting nvidia-cublas-cu12==12.4.5.8 (from torch>=2.0.0->-r requirements.txt (line 1))\n",
            "  Downloading nvidia_cublas_cu12-12.4.5.8-py3-none-manylinux2014_x86_64.whl.metadata (1.5 kB)\n",
            "Collecting nvidia-cufft-cu12==11.2.1.3 (from torch>=2.0.0->-r requirements.txt (line 1))\n",
            "  Downloading nvidia_cufft_cu12-11.2.1.3-py3-none-manylinux2014_x86_64.whl.metadata (1.5 kB)\n",
            "Collecting nvidia-curand-cu12==10.3.5.147 (from torch>=2.0.0->-r requirements.txt (line 1))\n",
            "  Downloading nvidia_curand_cu12-10.3.5.147-py3-none-manylinux2014_x86_64.whl.metadata (1.5 kB)\n",
            "Collecting nvidia-cusolver-cu12==11.6.1.9 (from torch>=2.0.0->-r requirements.txt (line 1))\n",
            "  Downloading nvidia_cusolver_cu12-11.6.1.9-py3-none-manylinux2014_x86_64.whl.metadata (1.6 kB)\n",
            "Collecting nvidia-cusparse-cu12==12.3.1.170 (from torch>=2.0.0->-r requirements.txt (line 1))\n",
            "  Downloading nvidia_cusparse_cu12-12.3.1.170-py3-none-manylinux2014_x86_64.whl.metadata (1.6 kB)\n",
            "Requirement already satisfied: nvidia-nccl-cu12==2.21.5 in /usr/local/lib/python3.11/dist-packages (from torch>=2.0.0->-r requirements.txt (line 1)) (2.21.5)\n",
            "Requirement already satisfied: nvidia-nvtx-cu12==12.4.127 in /usr/local/lib/python3.11/dist-packages (from torch>=2.0.0->-r requirements.txt (line 1)) (12.4.127)\n",
            "Collecting nvidia-nvjitlink-cu12==12.4.127 (from torch>=2.0.0->-r requirements.txt (line 1))\n",
            "  Downloading nvidia_nvjitlink_cu12-12.4.127-py3-none-manylinux2014_x86_64.whl.metadata (1.5 kB)\n",
            "Requirement already satisfied: triton==3.1.0 in /usr/local/lib/python3.11/dist-packages (from torch>=2.0.0->-r requirements.txt (line 1)) (3.1.0)\n",
            "Requirement already satisfied: sympy==1.13.1 in /usr/local/lib/python3.11/dist-packages (from torch>=2.0.0->-r requirements.txt (line 1)) (1.13.1)\n",
            "Requirement already satisfied: mpmath<1.4,>=1.1.0 in /usr/local/lib/python3.11/dist-packages (from sympy==1.13.1->torch>=2.0.0->-r requirements.txt (line 1)) (1.3.0)\n",
            "Requirement already satisfied: huggingface-hub<1.0,>=0.24.0 in /usr/local/lib/python3.11/dist-packages (from transformers>=4.36.0->-r requirements.txt (line 2)) (0.28.1)\n",
            "Requirement already satisfied: packaging>=20.0 in /usr/local/lib/python3.11/dist-packages (from transformers>=4.36.0->-r requirements.txt (line 2)) (24.2)\n",
            "Requirement already satisfied: pyyaml>=5.1 in /usr/local/lib/python3.11/dist-packages (from transformers>=4.36.0->-r requirements.txt (line 2)) (6.0.2)\n",
            "Requirement already satisfied: regex!=2019.12.17 in /usr/local/lib/python3.11/dist-packages (from transformers>=4.36.0->-r requirements.txt (line 2)) (2024.11.6)\n",
            "Requirement already satisfied: requests in /usr/local/lib/python3.11/dist-packages (from transformers>=4.36.0->-r requirements.txt (line 2)) (2.32.3)\n",
            "Requirement already satisfied: tokenizers<0.22,>=0.21 in /usr/local/lib/python3.11/dist-packages (from transformers>=4.36.0->-r requirements.txt (line 2)) (0.21.0)\n",
            "Requirement already satisfied: safetensors>=0.4.1 in /usr/local/lib/python3.11/dist-packages (from transformers>=4.36.0->-r requirements.txt (line 2)) (0.5.2)\n",
            "Requirement already satisfied: python-dateutil>=2.8.2 in /usr/local/lib/python3.11/dist-packages (from pandas>=2.0.0->-r requirements.txt (line 3)) (2.8.2)\n",
            "Requirement already satisfied: pytz>=2020.1 in /usr/local/lib/python3.11/dist-packages (from pandas>=2.0.0->-r requirements.txt (line 3)) (2025.1)\n",
            "Requirement already satisfied: tzdata>=2022.7 in /usr/local/lib/python3.11/dist-packages (from pandas>=2.0.0->-r requirements.txt (line 3)) (2025.1)\n",
            "Requirement already satisfied: SQLAlchemy<3,>=1.4 in /usr/local/lib/python3.11/dist-packages (from langchain>=0.1.0->-r requirements.txt (line 5)) (2.0.37)\n",
            "Requirement already satisfied: aiohttp<4.0.0,>=3.8.3 in /usr/local/lib/python3.11/dist-packages (from langchain>=0.1.0->-r requirements.txt (line 5)) (3.11.11)\n",
            "Requirement already satisfied: langchain-core<0.4.0,>=0.3.33 in /usr/local/lib/python3.11/dist-packages (from langchain>=0.1.0->-r requirements.txt (line 5)) (0.3.33)\n",
            "Requirement already satisfied: langchain-text-splitters<0.4.0,>=0.3.3 in /usr/local/lib/python3.11/dist-packages (from langchain>=0.1.0->-r requirements.txt (line 5)) (0.3.5)\n",
            "Requirement already satisfied: langsmith<0.4,>=0.1.17 in /usr/local/lib/python3.11/dist-packages (from langchain>=0.1.0->-r requirements.txt (line 5)) (0.3.5)\n",
            "Requirement already satisfied: pydantic<3.0.0,>=2.7.4 in /usr/local/lib/python3.11/dist-packages (from langchain>=0.1.0->-r requirements.txt (line 5)) (2.10.6)\n",
            "Requirement already satisfied: tenacity!=8.4.0,<10,>=8.1.0 in /usr/local/lib/python3.11/dist-packages (from langchain>=0.1.0->-r requirements.txt (line 5)) (9.0.0)\n",
            "Collecting langchain-core<0.4.0,>=0.3.33 (from langchain>=0.1.0->-r requirements.txt (line 5))\n",
            "  Downloading langchain_core-0.3.34-py3-none-any.whl.metadata (5.9 kB)\n",
            "Collecting langchain>=0.1.0 (from -r requirements.txt (line 5))\n",
            "  Downloading langchain-0.3.18-py3-none-any.whl.metadata (7.8 kB)\n",
            "Collecting dataclasses-json<0.7,>=0.5.7 (from langchain-community>=0.0.10->-r requirements.txt (line 6))\n",
            "  Downloading dataclasses_json-0.6.7-py3-none-any.whl.metadata (25 kB)\n",
            "Collecting pydantic-settings<3.0.0,>=2.4.0 (from langchain-community>=0.0.10->-r requirements.txt (line 6))\n",
            "  Downloading pydantic_settings-2.7.1-py3-none-any.whl.metadata (3.5 kB)\n",
            "Collecting httpx-sse<1.0.0,>=0.4.0 (from langchain-community>=0.0.10->-r requirements.txt (line 6))\n",
            "  Downloading httpx_sse-0.4.0-py3-none-any.whl.metadata (9.0 kB)\n",
            "Collecting langchain-text-splitters<1.0.0,>=0.3.6 (from langchain>=0.1.0->-r requirements.txt (line 5))\n",
            "  Downloading langchain_text_splitters-0.3.6-py3-none-any.whl.metadata (1.9 kB)\n",
            "Requirement already satisfied: scipy in /usr/local/lib/python3.11/dist-packages (from sentence-transformers>=2.2.2->-r requirements.txt (line 8)) (1.13.1)\n",
            "Requirement already satisfied: Pillow in /usr/local/lib/python3.11/dist-packages (from sentence-transformers>=2.2.2->-r requirements.txt (line 8)) (11.1.0)\n",
            "Requirement already satisfied: joblib>=1.2.0 in /usr/local/lib/python3.11/dist-packages (from scikit-learn>=1.2.2->-r requirements.txt (line 9)) (1.4.2)\n",
            "Requirement already satisfied: threadpoolctl>=3.1.0 in /usr/local/lib/python3.11/dist-packages (from scikit-learn>=1.2.2->-r requirements.txt (line 9)) (3.5.0)\n",
            "Requirement already satisfied: psutil in /usr/local/lib/python3.11/dist-packages (from peft>=0.7.0->-r requirements.txt (line 12)) (5.9.5)\n",
            "Requirement already satisfied: pyarrow>=15.0.0 in /usr/local/lib/python3.11/dist-packages (from datasets>=2.14.0->-r requirements.txt (line 13)) (17.0.0)\n",
            "Collecting dill<0.3.9,>=0.3.0 (from datasets>=2.14.0->-r requirements.txt (line 13))\n",
            "  Downloading dill-0.3.8-py3-none-any.whl.metadata (10 kB)\n",
            "Collecting xxhash (from datasets>=2.14.0->-r requirements.txt (line 13))\n",
            "  Downloading xxhash-3.5.0-cp311-cp311-manylinux_2_17_x86_64.manylinux2014_x86_64.whl.metadata (12 kB)\n",
            "Collecting multiprocess<0.70.17 (from datasets>=2.14.0->-r requirements.txt (line 13))\n",
            "  Downloading multiprocess-0.70.16-py311-none-any.whl.metadata (7.2 kB)\n",
            "Collecting fsspec (from torch>=2.0.0->-r requirements.txt (line 1))\n",
            "  Downloading fsspec-2024.9.0-py3-none-any.whl.metadata (11 kB)\n",
            "Requirement already satisfied: absl-py in /usr/local/lib/python3.11/dist-packages (from rouge_score>=0.1.2->-r requirements.txt (line 14)) (1.4.0)\n",
            "Requirement already satisfied: six>=1.14.0 in /usr/local/lib/python3.11/dist-packages (from rouge_score>=0.1.2->-r requirements.txt (line 14)) (1.17.0)\n",
            "Requirement already satisfied: click in /usr/local/lib/python3.11/dist-packages (from nltk>=3.8.1->-r requirements.txt (line 15)) (8.1.8)\n",
            "Requirement already satisfied: contourpy>=1.0.1 in /usr/local/lib/python3.11/dist-packages (from matplotlib>=3.7.1->-r requirements.txt (line 17)) (1.3.1)\n",
            "Requirement already satisfied: cycler>=0.10 in /usr/local/lib/python3.11/dist-packages (from matplotlib>=3.7.1->-r requirements.txt (line 17)) (0.12.1)\n",
            "Requirement already satisfied: fonttools>=4.22.0 in /usr/local/lib/python3.11/dist-packages (from matplotlib>=3.7.1->-r requirements.txt (line 17)) (4.55.8)\n",
            "Requirement already satisfied: kiwisolver>=1.3.1 in /usr/local/lib/python3.11/dist-packages (from matplotlib>=3.7.1->-r requirements.txt (line 17)) (1.4.8)\n",
            "Requirement already satisfied: pyparsing>=2.3.1 in /usr/local/lib/python3.11/dist-packages (from matplotlib>=3.7.1->-r requirements.txt (line 17)) (3.2.1)\n",
            "Requirement already satisfied: aiohappyeyeballs>=2.3.0 in /usr/local/lib/python3.11/dist-packages (from aiohttp<4.0.0,>=3.8.3->langchain>=0.1.0->-r requirements.txt (line 5)) (2.4.4)\n",
            "Requirement already satisfied: aiosignal>=1.1.2 in /usr/local/lib/python3.11/dist-packages (from aiohttp<4.0.0,>=3.8.3->langchain>=0.1.0->-r requirements.txt (line 5)) (1.3.2)\n",
            "Requirement already satisfied: attrs>=17.3.0 in /usr/local/lib/python3.11/dist-packages (from aiohttp<4.0.0,>=3.8.3->langchain>=0.1.0->-r requirements.txt (line 5)) (25.1.0)\n",
            "Requirement already satisfied: frozenlist>=1.1.1 in /usr/local/lib/python3.11/dist-packages (from aiohttp<4.0.0,>=3.8.3->langchain>=0.1.0->-r requirements.txt (line 5)) (1.5.0)\n",
            "Requirement already satisfied: multidict<7.0,>=4.5 in /usr/local/lib/python3.11/dist-packages (from aiohttp<4.0.0,>=3.8.3->langchain>=0.1.0->-r requirements.txt (line 5)) (6.1.0)\n",
            "Requirement already satisfied: propcache>=0.2.0 in /usr/local/lib/python3.11/dist-packages (from aiohttp<4.0.0,>=3.8.3->langchain>=0.1.0->-r requirements.txt (line 5)) (0.2.1)\n",
            "Requirement already satisfied: yarl<2.0,>=1.17.0 in /usr/local/lib/python3.11/dist-packages (from aiohttp<4.0.0,>=3.8.3->langchain>=0.1.0->-r requirements.txt (line 5)) (1.18.3)\n",
            "Collecting marshmallow<4.0.0,>=3.18.0 (from dataclasses-json<0.7,>=0.5.7->langchain-community>=0.0.10->-r requirements.txt (line 6))\n",
            "  Downloading marshmallow-3.26.1-py3-none-any.whl.metadata (7.3 kB)\n",
            "Collecting typing-inspect<1,>=0.4.0 (from dataclasses-json<0.7,>=0.5.7->langchain-community>=0.0.10->-r requirements.txt (line 6))\n",
            "  Downloading typing_inspect-0.9.0-py3-none-any.whl.metadata (1.5 kB)\n",
            "Requirement already satisfied: jsonpatch<2.0,>=1.33 in /usr/local/lib/python3.11/dist-packages (from langchain-core<0.4.0,>=0.3.33->langchain>=0.1.0->-r requirements.txt (line 5)) (1.33)\n",
            "Requirement already satisfied: httpx<1,>=0.23.0 in /usr/local/lib/python3.11/dist-packages (from langsmith<0.4,>=0.1.17->langchain>=0.1.0->-r requirements.txt (line 5)) (0.28.1)\n",
            "Requirement already satisfied: orjson<4.0.0,>=3.9.14 in /usr/local/lib/python3.11/dist-packages (from langsmith<0.4,>=0.1.17->langchain>=0.1.0->-r requirements.txt (line 5)) (3.10.15)\n",
            "Requirement already satisfied: requests-toolbelt<2.0.0,>=1.0.0 in /usr/local/lib/python3.11/dist-packages (from langsmith<0.4,>=0.1.17->langchain>=0.1.0->-r requirements.txt (line 5)) (1.0.0)\n",
            "Requirement already satisfied: zstandard<0.24.0,>=0.23.0 in /usr/local/lib/python3.11/dist-packages (from langsmith<0.4,>=0.1.17->langchain>=0.1.0->-r requirements.txt (line 5)) (0.23.0)\n",
            "Requirement already satisfied: annotated-types>=0.6.0 in /usr/local/lib/python3.11/dist-packages (from pydantic<3.0.0,>=2.7.4->langchain>=0.1.0->-r requirements.txt (line 5)) (0.7.0)\n",
            "Requirement already satisfied: pydantic-core==2.27.2 in /usr/local/lib/python3.11/dist-packages (from pydantic<3.0.0,>=2.7.4->langchain>=0.1.0->-r requirements.txt (line 5)) (2.27.2)\n",
            "Collecting python-dotenv>=0.21.0 (from pydantic-settings<3.0.0,>=2.4.0->langchain-community>=0.0.10->-r requirements.txt (line 6))\n",
            "  Downloading python_dotenv-1.0.1-py3-none-any.whl.metadata (23 kB)\n",
            "Requirement already satisfied: charset-normalizer<4,>=2 in /usr/local/lib/python3.11/dist-packages (from requests->transformers>=4.36.0->-r requirements.txt (line 2)) (3.4.1)\n",
            "Requirement already satisfied: idna<4,>=2.5 in /usr/local/lib/python3.11/dist-packages (from requests->transformers>=4.36.0->-r requirements.txt (line 2)) (3.10)\n",
            "Requirement already satisfied: urllib3<3,>=1.21.1 in /usr/local/lib/python3.11/dist-packages (from requests->transformers>=4.36.0->-r requirements.txt (line 2)) (2.3.0)\n",
            "Requirement already satisfied: certifi>=2017.4.17 in /usr/local/lib/python3.11/dist-packages (from requests->transformers>=4.36.0->-r requirements.txt (line 2)) (2025.1.31)\n",
            "Requirement already satisfied: greenlet!=0.4.17 in /usr/local/lib/python3.11/dist-packages (from SQLAlchemy<3,>=1.4->langchain>=0.1.0->-r requirements.txt (line 5)) (3.1.1)\n",
            "Requirement already satisfied: MarkupSafe>=2.0 in /usr/local/lib/python3.11/dist-packages (from jinja2->torch>=2.0.0->-r requirements.txt (line 1)) (3.0.2)\n",
            "Requirement already satisfied: anyio in /usr/local/lib/python3.11/dist-packages (from httpx<1,>=0.23.0->langsmith<0.4,>=0.1.17->langchain>=0.1.0->-r requirements.txt (line 5)) (3.7.1)\n",
            "Requirement already satisfied: httpcore==1.* in /usr/local/lib/python3.11/dist-packages (from httpx<1,>=0.23.0->langsmith<0.4,>=0.1.17->langchain>=0.1.0->-r requirements.txt (line 5)) (1.0.7)\n",
            "Requirement already satisfied: h11<0.15,>=0.13 in /usr/local/lib/python3.11/dist-packages (from httpcore==1.*->httpx<1,>=0.23.0->langsmith<0.4,>=0.1.17->langchain>=0.1.0->-r requirements.txt (line 5)) (0.14.0)\n",
            "Requirement already satisfied: jsonpointer>=1.9 in /usr/local/lib/python3.11/dist-packages (from jsonpatch<2.0,>=1.33->langchain-core<0.4.0,>=0.3.33->langchain>=0.1.0->-r requirements.txt (line 5)) (3.0.0)\n",
            "Collecting mypy-extensions>=0.3.0 (from typing-inspect<1,>=0.4.0->dataclasses-json<0.7,>=0.5.7->langchain-community>=0.0.10->-r requirements.txt (line 6))\n",
            "  Downloading mypy_extensions-1.0.0-py3-none-any.whl.metadata (1.1 kB)\n",
            "Requirement already satisfied: sniffio>=1.1 in /usr/local/lib/python3.11/dist-packages (from anyio->httpx<1,>=0.23.0->langsmith<0.4,>=0.1.17->langchain>=0.1.0->-r requirements.txt (line 5)) (1.3.1)\n",
            "Downloading nvidia_cublas_cu12-12.4.5.8-py3-none-manylinux2014_x86_64.whl (363.4 MB)\n",
            "\u001b[2K   \u001b[90m━━━━━━━━━━━━━━━━━━━━━━━━━━━━━━━━━━━━━━━━\u001b[0m \u001b[32m363.4/363.4 MB\u001b[0m \u001b[31m1.4 MB/s\u001b[0m eta \u001b[36m0:00:00\u001b[0m\n",
            "\u001b[?25hDownloading nvidia_cuda_cupti_cu12-12.4.127-py3-none-manylinux2014_x86_64.whl (13.8 MB)\n",
            "\u001b[2K   \u001b[90m━━━━━━━━━━━━━━━━━━━━━━━━━━━━━━━━━━━━━━━━\u001b[0m \u001b[32m13.8/13.8 MB\u001b[0m \u001b[31m98.8 MB/s\u001b[0m eta \u001b[36m0:00:00\u001b[0m\n",
            "\u001b[?25hDownloading nvidia_cuda_nvrtc_cu12-12.4.127-py3-none-manylinux2014_x86_64.whl (24.6 MB)\n",
            "\u001b[2K   \u001b[90m━━━━━━━━━━━━━━━━━━━━━━━━━━━━━━━━━━━━━━━━\u001b[0m \u001b[32m24.6/24.6 MB\u001b[0m \u001b[31m88.4 MB/s\u001b[0m eta \u001b[36m0:00:00\u001b[0m\n",
            "\u001b[?25hDownloading nvidia_cuda_runtime_cu12-12.4.127-py3-none-manylinux2014_x86_64.whl (883 kB)\n",
            "\u001b[2K   \u001b[90m━━━━━━━━━━━━━━━━━━━━━━━━━━━━━━━━━━━━━━━━\u001b[0m \u001b[32m883.7/883.7 kB\u001b[0m \u001b[31m54.3 MB/s\u001b[0m eta \u001b[36m0:00:00\u001b[0m\n",
            "\u001b[?25hDownloading nvidia_cudnn_cu12-9.1.0.70-py3-none-manylinux2014_x86_64.whl (664.8 MB)\n",
            "\u001b[2K   \u001b[90m━━━━━━━━━━━━━━━━━━━━━━━━━━━━━━━━━━━━━━━━\u001b[0m \u001b[32m664.8/664.8 MB\u001b[0m \u001b[31m2.1 MB/s\u001b[0m eta \u001b[36m0:00:00\u001b[0m\n",
            "\u001b[?25hDownloading nvidia_cufft_cu12-11.2.1.3-py3-none-manylinux2014_x86_64.whl (211.5 MB)\n",
            "\u001b[2K   \u001b[90m━━━━━━━━━━━━━━━━━━━━━━━━━━━━━━━━━━━━━━━━\u001b[0m \u001b[32m211.5/211.5 MB\u001b[0m \u001b[31m6.2 MB/s\u001b[0m eta \u001b[36m0:00:00\u001b[0m\n",
            "\u001b[?25hDownloading nvidia_curand_cu12-10.3.5.147-py3-none-manylinux2014_x86_64.whl (56.3 MB)\n",
            "\u001b[2K   \u001b[90m━━━━━━━━━━━━━━━━━━━━━━━━━━━━━━━━━━━━━━━━\u001b[0m \u001b[32m56.3/56.3 MB\u001b[0m \u001b[31m13.4 MB/s\u001b[0m eta \u001b[36m0:00:00\u001b[0m\n",
            "\u001b[?25hDownloading nvidia_cusolver_cu12-11.6.1.9-py3-none-manylinux2014_x86_64.whl (127.9 MB)\n",
            "\u001b[2K   \u001b[90m━━━━━━━━━━━━━━━━━━━━━━━━━━━━━━━━━━━━━━━━\u001b[0m \u001b[32m127.9/127.9 MB\u001b[0m \u001b[31m7.8 MB/s\u001b[0m eta \u001b[36m0:00:00\u001b[0m\n",
            "\u001b[?25hDownloading nvidia_cusparse_cu12-12.3.1.170-py3-none-manylinux2014_x86_64.whl (207.5 MB)\n",
            "\u001b[2K   \u001b[90m━━━━━━━━━━━━━━━━━━━━━━━━━━━━━━━━━━━━━━━━\u001b[0m \u001b[32m207.5/207.5 MB\u001b[0m \u001b[31m7.4 MB/s\u001b[0m eta \u001b[36m0:00:00\u001b[0m\n",
            "\u001b[?25hDownloading nvidia_nvjitlink_cu12-12.4.127-py3-none-manylinux2014_x86_64.whl (21.1 MB)\n",
            "\u001b[2K   \u001b[90m━━━━━━━━━━━━━━━━━━━━━━━━━━━━━━━━━━━━━━━━\u001b[0m \u001b[32m21.1/21.1 MB\u001b[0m \u001b[31m69.3 MB/s\u001b[0m eta \u001b[36m0:00:00\u001b[0m\n",
            "\u001b[?25hDownloading langchain_community-0.3.17-py3-none-any.whl (2.5 MB)\n",
            "\u001b[2K   \u001b[90m━━━━━━━━━━━━━━━━━━━━━━━━━━━━━━━━━━━━━━━━\u001b[0m \u001b[32m2.5/2.5 MB\u001b[0m \u001b[31m70.4 MB/s\u001b[0m eta \u001b[36m0:00:00\u001b[0m\n",
            "\u001b[?25hDownloading langchain-0.3.18-py3-none-any.whl (1.0 MB)\n",
            "\u001b[2K   \u001b[90m━━━━━━━━━━━━━━━━━━━━━━━━━━━━━━━━━━━━━━━━\u001b[0m \u001b[32m1.0/1.0 MB\u001b[0m \u001b[31m51.8 MB/s\u001b[0m eta \u001b[36m0:00:00\u001b[0m\n",
            "\u001b[?25hDownloading faiss_cpu-1.10.0-cp311-cp311-manylinux_2_28_x86_64.whl (30.7 MB)\n",
            "\u001b[2K   \u001b[90m━━━━━━━━━━━━━━━━━━━━━━━━━━━━━━━━━━━━━━━━\u001b[0m \u001b[32m30.7/30.7 MB\u001b[0m \u001b[31m17.8 MB/s\u001b[0m eta \u001b[36m0:00:00\u001b[0m\n",
            "\u001b[?25hDownloading bitsandbytes-0.45.2-py3-none-manylinux_2_24_x86_64.whl (69.7 MB)\n",
            "\u001b[2K   \u001b[90m━━━━━━━━━━━━━━━━━━━━━━━━━━━━━━━━━━━━━━━━\u001b[0m \u001b[32m69.7/69.7 MB\u001b[0m \u001b[31m10.7 MB/s\u001b[0m eta \u001b[36m0:00:00\u001b[0m\n",
            "\u001b[?25hDownloading datasets-3.2.0-py3-none-any.whl (480 kB)\n",
            "\u001b[2K   \u001b[90m━━━━━━━━━━━━━━━━━━━━━━━━━━━━━━━━━━━━━━━━\u001b[0m \u001b[32m480.6/480.6 kB\u001b[0m \u001b[31m39.2 MB/s\u001b[0m eta \u001b[36m0:00:00\u001b[0m\n",
            "\u001b[?25hDownloading dataclasses_json-0.6.7-py3-none-any.whl (28 kB)\n",
            "Downloading dill-0.3.8-py3-none-any.whl (116 kB)\n",
            "\u001b[2K   \u001b[90m━━━━━━━━━━━━━━━━━━━━━━━━━━━━━━━━━━━━━━━━\u001b[0m \u001b[32m116.3/116.3 kB\u001b[0m \u001b[31m12.9 MB/s\u001b[0m eta \u001b[36m0:00:00\u001b[0m\n",
            "\u001b[?25hDownloading fsspec-2024.9.0-py3-none-any.whl (179 kB)\n",
            "\u001b[2K   \u001b[90m━━━━━━━━━━━━━━━━━━━━━━━━━━━━━━━━━━━━━━━━\u001b[0m \u001b[32m179.3/179.3 kB\u001b[0m \u001b[31m19.4 MB/s\u001b[0m eta \u001b[36m0:00:00\u001b[0m\n",
            "\u001b[?25hDownloading httpx_sse-0.4.0-py3-none-any.whl (7.8 kB)\n",
            "Downloading langchain_core-0.3.34-py3-none-any.whl (412 kB)\n",
            "\u001b[2K   \u001b[90m━━━━━━━━━━━━━━━━━━━━━━━━━━━━━━━━━━━━━━━━\u001b[0m \u001b[32m413.0/413.0 kB\u001b[0m \u001b[31m36.7 MB/s\u001b[0m eta \u001b[36m0:00:00\u001b[0m\n",
            "\u001b[?25hDownloading langchain_text_splitters-0.3.6-py3-none-any.whl (31 kB)\n",
            "Downloading multiprocess-0.70.16-py311-none-any.whl (143 kB)\n",
            "\u001b[2K   \u001b[90m━━━━━━━━━━━━━━━━━━━━━━━━━━━━━━━━━━━━━━━━\u001b[0m \u001b[32m143.5/143.5 kB\u001b[0m \u001b[31m17.2 MB/s\u001b[0m eta \u001b[36m0:00:00\u001b[0m\n",
            "\u001b[?25hDownloading pydantic_settings-2.7.1-py3-none-any.whl (29 kB)\n",
            "Downloading xxhash-3.5.0-cp311-cp311-manylinux_2_17_x86_64.manylinux2014_x86_64.whl (194 kB)\n",
            "\u001b[2K   \u001b[90m━━━━━━━━━━━━━━━━━━━━━━━━━━━━━━━━━━━━━━━━\u001b[0m \u001b[32m194.8/194.8 kB\u001b[0m \u001b[31m17.5 MB/s\u001b[0m eta \u001b[36m0:00:00\u001b[0m\n",
            "\u001b[?25hDownloading marshmallow-3.26.1-py3-none-any.whl (50 kB)\n",
            "\u001b[2K   \u001b[90m━━━━━━━━━━━━━━━━━━━━━━━━━━━━━━━━━━━━━━━━\u001b[0m \u001b[32m50.9/50.9 kB\u001b[0m \u001b[31m5.8 MB/s\u001b[0m eta \u001b[36m0:00:00\u001b[0m\n",
            "\u001b[?25hDownloading python_dotenv-1.0.1-py3-none-any.whl (19 kB)\n",
            "Downloading typing_inspect-0.9.0-py3-none-any.whl (8.8 kB)\n",
            "Downloading mypy_extensions-1.0.0-py3-none-any.whl (4.7 kB)\n",
            "Building wheels for collected packages: rouge_score\n",
            "  Building wheel for rouge_score (setup.py) ... \u001b[?25l\u001b[?25hdone\n",
            "  Created wheel for rouge_score: filename=rouge_score-0.1.2-py3-none-any.whl size=24935 sha256=c7aa761c479ca85e65b6b20bbac9f39b668dc45d985e5374e90e6747d6d226ac\n",
            "  Stored in directory: /root/.cache/pip/wheels/1e/19/43/8a442dc83660ca25e163e1bd1f89919284ab0d0c1475475148\n",
            "Successfully built rouge_score\n",
            "Installing collected packages: xxhash, python-dotenv, nvidia-nvjitlink-cu12, nvidia-curand-cu12, nvidia-cufft-cu12, nvidia-cuda-runtime-cu12, nvidia-cuda-nvrtc-cu12, nvidia-cuda-cupti-cu12, nvidia-cublas-cu12, mypy-extensions, marshmallow, httpx-sse, fsspec, faiss-cpu, dill, typing-inspect, rouge_score, nvidia-cusparse-cu12, nvidia-cudnn-cu12, multiprocess, pydantic-settings, nvidia-cusolver-cu12, dataclasses-json, langchain-core, datasets, langchain-text-splitters, bitsandbytes, langchain, langchain-community\n",
            "  Attempting uninstall: nvidia-nvjitlink-cu12\n",
            "    Found existing installation: nvidia-nvjitlink-cu12 12.5.82\n",
            "    Uninstalling nvidia-nvjitlink-cu12-12.5.82:\n",
            "      Successfully uninstalled nvidia-nvjitlink-cu12-12.5.82\n",
            "  Attempting uninstall: nvidia-curand-cu12\n",
            "    Found existing installation: nvidia-curand-cu12 10.3.6.82\n",
            "    Uninstalling nvidia-curand-cu12-10.3.6.82:\n",
            "      Successfully uninstalled nvidia-curand-cu12-10.3.6.82\n",
            "  Attempting uninstall: nvidia-cufft-cu12\n",
            "    Found existing installation: nvidia-cufft-cu12 11.2.3.61\n",
            "    Uninstalling nvidia-cufft-cu12-11.2.3.61:\n",
            "      Successfully uninstalled nvidia-cufft-cu12-11.2.3.61\n",
            "  Attempting uninstall: nvidia-cuda-runtime-cu12\n",
            "    Found existing installation: nvidia-cuda-runtime-cu12 12.5.82\n",
            "    Uninstalling nvidia-cuda-runtime-cu12-12.5.82:\n",
            "      Successfully uninstalled nvidia-cuda-runtime-cu12-12.5.82\n",
            "  Attempting uninstall: nvidia-cuda-nvrtc-cu12\n",
            "    Found existing installation: nvidia-cuda-nvrtc-cu12 12.5.82\n",
            "    Uninstalling nvidia-cuda-nvrtc-cu12-12.5.82:\n",
            "      Successfully uninstalled nvidia-cuda-nvrtc-cu12-12.5.82\n",
            "  Attempting uninstall: nvidia-cuda-cupti-cu12\n",
            "    Found existing installation: nvidia-cuda-cupti-cu12 12.5.82\n",
            "    Uninstalling nvidia-cuda-cupti-cu12-12.5.82:\n",
            "      Successfully uninstalled nvidia-cuda-cupti-cu12-12.5.82\n",
            "  Attempting uninstall: nvidia-cublas-cu12\n",
            "    Found existing installation: nvidia-cublas-cu12 12.5.3.2\n",
            "    Uninstalling nvidia-cublas-cu12-12.5.3.2:\n",
            "      Successfully uninstalled nvidia-cublas-cu12-12.5.3.2\n",
            "  Attempting uninstall: fsspec\n",
            "    Found existing installation: fsspec 2024.10.0\n",
            "    Uninstalling fsspec-2024.10.0:\n",
            "      Successfully uninstalled fsspec-2024.10.0\n",
            "  Attempting uninstall: nvidia-cusparse-cu12\n",
            "    Found existing installation: nvidia-cusparse-cu12 12.5.1.3\n",
            "    Uninstalling nvidia-cusparse-cu12-12.5.1.3:\n",
            "      Successfully uninstalled nvidia-cusparse-cu12-12.5.1.3\n",
            "  Attempting uninstall: nvidia-cudnn-cu12\n",
            "    Found existing installation: nvidia-cudnn-cu12 9.3.0.75\n",
            "    Uninstalling nvidia-cudnn-cu12-9.3.0.75:\n",
            "      Successfully uninstalled nvidia-cudnn-cu12-9.3.0.75\n",
            "  Attempting uninstall: nvidia-cusolver-cu12\n",
            "    Found existing installation: nvidia-cusolver-cu12 11.6.3.83\n",
            "    Uninstalling nvidia-cusolver-cu12-11.6.3.83:\n",
            "      Successfully uninstalled nvidia-cusolver-cu12-11.6.3.83\n",
            "  Attempting uninstall: langchain-core\n",
            "    Found existing installation: langchain-core 0.3.33\n",
            "    Uninstalling langchain-core-0.3.33:\n",
            "      Successfully uninstalled langchain-core-0.3.33\n",
            "  Attempting uninstall: langchain-text-splitters\n",
            "    Found existing installation: langchain-text-splitters 0.3.5\n",
            "    Uninstalling langchain-text-splitters-0.3.5:\n",
            "      Successfully uninstalled langchain-text-splitters-0.3.5\n",
            "  Attempting uninstall: langchain\n",
            "    Found existing installation: langchain 0.3.17\n",
            "    Uninstalling langchain-0.3.17:\n",
            "      Successfully uninstalled langchain-0.3.17\n",
            "\u001b[31mERROR: pip's dependency resolver does not currently take into account all the packages that are installed. This behaviour is the source of the following dependency conflicts.\n",
            "gcsfs 2024.10.0 requires fsspec==2024.10.0, but you have fsspec 2024.9.0 which is incompatible.\u001b[0m\u001b[31m\n",
            "\u001b[0mSuccessfully installed bitsandbytes-0.45.2 dataclasses-json-0.6.7 datasets-3.2.0 dill-0.3.8 faiss-cpu-1.10.0 fsspec-2024.9.0 httpx-sse-0.4.0 langchain-0.3.18 langchain-community-0.3.17 langchain-core-0.3.34 langchain-text-splitters-0.3.6 marshmallow-3.26.1 multiprocess-0.70.16 mypy-extensions-1.0.0 nvidia-cublas-cu12-12.4.5.8 nvidia-cuda-cupti-cu12-12.4.127 nvidia-cuda-nvrtc-cu12-12.4.127 nvidia-cuda-runtime-cu12-12.4.127 nvidia-cudnn-cu12-9.1.0.70 nvidia-cufft-cu12-11.2.1.3 nvidia-curand-cu12-10.3.5.147 nvidia-cusolver-cu12-11.6.1.9 nvidia-cusparse-cu12-12.3.1.170 nvidia-nvjitlink-cu12-12.4.127 pydantic-settings-2.7.1 python-dotenv-1.0.1 rouge_score-0.1.2 typing-inspect-0.9.0 xxhash-3.5.0\n"
          ]
        }
      ]
    },
    {
      "cell_type": "code",
      "source": [
        "!unzip recipe_model_output_phi2.zip"
      ],
      "metadata": {
        "colab": {
          "base_uri": "https://localhost:8080/"
        },
        "id": "9E2RlBkBGf-z",
        "outputId": "150744cb-e60b-4b8a-e3df-a7b21f0ff0c9"
      },
      "execution_count": null,
      "outputs": [
        {
          "output_type": "stream",
          "name": "stdout",
          "text": [
            "Archive:  recipe_model_output_phi2.zip\n",
            "Written using ZipTricks 5.6.0\n",
            "   creating: checkpoint-1200/\n",
            "  inflating: checkpoint-1200/README.md  \n",
            "  inflating: checkpoint-1200/adapter_config.json  \n",
            "  inflating: checkpoint-1200/adapter_model.safetensors  \n",
            "  inflating: checkpoint-1200/optimizer.pt  \n",
            "  inflating: checkpoint-1200/rng_state.pth  \n",
            "  inflating: checkpoint-1200/scheduler.pt  \n",
            "  inflating: checkpoint-1200/trainer_state.json  \n",
            "  inflating: checkpoint-1200/training_args.bin  \n",
            "   creating: checkpoint-1447/\n",
            "  inflating: checkpoint-1447/README.md  \n",
            "  inflating: checkpoint-1447/adapter_config.json  \n",
            "  inflating: checkpoint-1447/adapter_model.safetensors  \n",
            "  inflating: checkpoint-1447/optimizer.pt  \n",
            "  inflating: checkpoint-1447/rng_state.pth  \n",
            "  inflating: checkpoint-1447/scheduler.pt  \n",
            "  inflating: checkpoint-1447/trainer_state.json  \n",
            "  inflating: checkpoint-1447/training_args.bin  \n",
            "   creating: checkpoint-400/\n",
            "  inflating: checkpoint-400/README.md  \n",
            "  inflating: checkpoint-400/adapter_config.json  \n",
            "  inflating: checkpoint-400/adapter_model.safetensors  \n",
            "  inflating: checkpoint-400/optimizer.pt  \n",
            "  inflating: checkpoint-400/rng_state.pth  \n",
            "  inflating: checkpoint-400/scheduler.pt  \n",
            "  inflating: checkpoint-400/trainer_state.json  \n",
            "  inflating: checkpoint-400/training_args.bin  \n",
            "   creating: checkpoint-800/\n",
            "  inflating: checkpoint-800/README.md  \n",
            "  inflating: checkpoint-800/adapter_config.json  \n",
            "  inflating: checkpoint-800/adapter_model.safetensors  \n",
            "  inflating: checkpoint-800/optimizer.pt  \n",
            "  inflating: checkpoint-800/rng_state.pth  \n",
            "  inflating: checkpoint-800/scheduler.pt  \n",
            "  inflating: checkpoint-800/trainer_state.json  \n",
            "  inflating: checkpoint-800/training_args.bin  \n",
            "   creating: final_model/\n",
            "  inflating: final_model/README.md   \n",
            "  inflating: final_model/adapter_config.json  \n",
            "  inflating: final_model/adapter_model.safetensors  \n",
            "  inflating: final_model/added_tokens.json  \n",
            "  inflating: final_model/merges.txt  \n",
            "  inflating: final_model/special_tokens_map.json  \n",
            "  inflating: final_model/tokenizer.json  \n",
            "  inflating: final_model/tokenizer_config.json  \n",
            "  inflating: final_model/training_args.bin  \n",
            "  inflating: final_model/vocab.json  \n"
          ]
        }
      ]
    },
    {
      "cell_type": "code",
      "execution_count": null,
      "metadata": {
        "colab": {
          "base_uri": "https://localhost:8080/",
          "height": 1000,
          "referenced_widgets": [
            "b05cf614706646059d9d9d1b0006fdea",
            "5ef5bd8f8f9446b196dae60c5ea8cee8",
            "b7c7b25858004792972bb6f36a9471a7",
            "b9f61ed2dedd4f6bb9e3557b4ecd0798",
            "2e545cc537fd43119fba5a830363206d",
            "cae7835c2a454c72ac460aa53cdb7d90",
            "471dd769fb224555a1ba4ae3136de02e",
            "f9dd615e75cf49a4a0a1b6134e4e4909",
            "e4537e11a81b431abad9ad3328d52199",
            "fcea6099328543d8b6c22f19e51ebfdd",
            "33b43ebf88d24b65ac638621ad33e71a",
            "cdfda798f92e48359728f060670ada43",
            "6b1903fcecbd4a4290c2ad13bafc4724",
            "496967cfbbde4464b056a68e912191a6",
            "8843adea4120404f97422620d2acb259",
            "570ad1eaa05e4d42855772586e17883d",
            "bf7d2c633e0840d1901395927d12cb7a",
            "2bd4d90c353b457c8950daf379ffecf1",
            "ec517ef98ef94491ad3c0ad0c0b79f7f",
            "dea7e92dc80a4b62a77aaf6aa14c92af",
            "68c0ab59cbfa46278029190c1843424b",
            "4733eef1a7d041a29e1d671519d8f67c",
            "33f1d3f376094b18a7a7d29ad9edc05a",
            "7c4ac54361d14c0fb1d64c93bbacdc7b",
            "7a69f1473a9a4d0581ab573b24bce0a5",
            "ac1dba2d0ec44897946220cdfb10c379",
            "9bea26c4ca234723a1acf133483fd0f3",
            "242331e1742a466894588fa27b9004e9",
            "51d0e69213ae475fb98ad3168e5fbd01",
            "eac8be869fd3415aac3b931d4677d3c5",
            "ae4bb40064164e4f9896c58a10ca9007",
            "da0ac20ea72644cfa251c8759313380e",
            "8fc09e087ab945c78e29b72603187d53",
            "ce64af7045264724adf9936e3d8d1de7",
            "f5f56f19d0e24980ac310587d4609f93",
            "8cbdafc3c46a4dd29c7d71019e020324",
            "920a04a33dd54d3fb3265e6b36c8403f",
            "e710607933fd4cd2b95686b2c92e1585",
            "e834200c74764af5838cb1b4e6f368ba",
            "882031f96f984d2392101dba2da21903",
            "f5a46f57f980463a94e60933746ab3ed",
            "0f48d54392134f3d87c560fb146ba3ad",
            "502ce10e5f6f4721850347700b2a11a6",
            "eb80f82114c44376917be11c038635d8",
            "cb5fe39f6f734d5c90c9610ca96d94be",
            "d79ef78491b1413e911e879128bd3117",
            "ff18ecdb8cd84b3e95099646f78991ab",
            "af0107038c9a4bec96e4f1a1f57a4b38",
            "3d6b6f44c6a84036a40c8eabb0e3d839",
            "ce9af4ba6ecf480fb6de5f4825501e48",
            "652c77413ad2437b82ac8d7d6c6b8526",
            "36d938ff8b314beebeabc63faeccda08",
            "80a9fb34a8d94b1ea43fbfcc40bdc25e",
            "ba07a1a5db2d41d6ae571a49d97c55a4",
            "5b85eb0f86734bef8b52d3d3bf300e02",
            "3f2b3405ec1d457c88896f376afe38dd",
            "32bff8a15bf348508c4a5de8d4c33fdd",
            "5091884edc394526a961b6aaf37f76d2",
            "1fcef847c1bd4cfc8e6bef4c9eef190b",
            "5d582aba6b7d4e4ba82210be0264ef1c",
            "2a3697dde22e40be9f9b85578dd37a51",
            "ac888ad4d01146ff8c362e134158d03a",
            "7605ba2ef96c45ec8630f819f8504c56",
            "1b213d0a35dc4cafbbbf91c9f8d7c62f",
            "0b19496f35224eac939041191bfb327a",
            "68c418a584cb4898832136a8604f4740",
            "479dc7483f3d49d487b8f1472a5080b4",
            "bfd55a70b7f04adc9cdfe7991ce67eb5",
            "7d702782280d4a48834a7619bcf176b3",
            "8ccea8ed9c4948fc851db0bb0a856989",
            "7bbb2c19a4484d2585c832d8fc7beec3",
            "3b28250cbb724bccb390f3a4842d4476",
            "cd435297fa734b08a3b12e3fccf3caff",
            "ebdfde2891744777830ff59b48aa320e",
            "e2c635e07efa4aad827e012caa65a1a6",
            "4d1499c884584a629a0a7d509cae5cea",
            "849ca6e950664aaf90305cfef9e38410",
            "7402277ef9674d3c8411182b5d060f8e",
            "5c26c97ced154df4ae7d13fff7fd3565",
            "49a4a55c48534968a262a0c0eb042e37",
            "4ded8836edc94f9f8543eeda88a75d65",
            "7b929bf8c5344c67894c8c05fd8e5767",
            "c3d35da17ea9405da1503b1ffbbc5280",
            "7f98e0238d9244f095e456c0f70aef9b",
            "831f7d053d5043f191af80081544d26b",
            "b4abaac047a74ca69ba972d7a6fdd71d",
            "ac763c9cec854aeba9b4e2e157f76cbf",
            "69d3838f334646ed98c3d977f08246c4",
            "b38c7444a18d47448dbc78242c13bdbd",
            "5506446687944d4cb1325011eeff4b53",
            "bb5aff9f003e482eadddb452f983a41c",
            "865c2c3ce4ee4cc08440f4f27beb346c",
            "fa55723ec3db452fad6c7ae5accc6866",
            "049929f0509b46e6ad28a9875aabb701",
            "02c88a542a214da5be33cf788f64fe30",
            "27caeb28ec504bd389458ac4742d9dd9",
            "2d568543257b4de2a857b57fe3cbc0af",
            "43f095d239fb45b7ac9cb929fe3556a2",
            "a590c7dd668941cb8519486728bd0704",
            "f2281c97358e4821bae4791411e7d4f9",
            "2e60285b1b5646b5a401cf9d1be8daef",
            "5fb95b5abed8421d972027292fe040de",
            "7d6d5ab9c64e4881a5ac0c2a4f83dc4f",
            "7ca982bb8066451d98f64f98c94626ad",
            "fec2829e084c4669a33be3dfd9a4ffbd",
            "172ba0fa751d44f29cf1c4a60da235f3",
            "876d50a68cdb4c7a8c458527e26e1209",
            "2f8e15c36418411fba63c4aeffbb6924",
            "7b452957415b4c4caaa985ef6e29939e",
            "e7e9c1c308834204941836ad6df2556a",
            "8addca6454d5473abe075b5ee96c5266",
            "a603ef6452ab4f948392cf5a528057b3",
            "6d6df89281f34c9b802c995a26455fe5",
            "62187d36a64d47d4bd7067ebc6bba9ea",
            "1e1c8a54c9294aab8cdea3e6f753f6ea",
            "644a3f0c93da479da7605907cfbe9e9b",
            "9a4bb564f629455aa24fc34d01516df2",
            "4d68d5a635ca48c4836c4b87bc21fc69",
            "95e6b21899f9407a92e924a46de27068",
            "36a9b5b467ef4aadb739b712924e5203",
            "03ceb1768d4e4ddea6e4ec87ad2836db",
            "237a54afd11148f99d7e319296192b4e",
            "a9219a3353ae43198e9311d6937ce2c1",
            "4ddf4b0030854d3c97134948b58f6e82",
            "2b5e723bd2574537b7feb1069e7e7dd5",
            "150d2fa3d6204828a69cdfc37e8ff486",
            "57698274a2ff4c63b041b7956157b708",
            "91791120eb6d49dcb2112f209803f3c4",
            "7c308c0510864b54b764939531df5ae7",
            "bac36d7e98b8475fb97c8a7ed39cf6a0",
            "9b6ce02938ec4067bd6ecc81194e9c77",
            "1e81321ce49541159dbe0e17f0c1c373",
            "1574de9fab2f48f8bba57a0d66d68c12",
            "3c4062e45cee440b90f2a3cdafec8db6",
            "d2a7ad07ca104393a53e3a838fcc8999",
            "384719e61ab04ca4b186e7663886b86d",
            "8e1ad464ebf145d39d6238b4cafbf138",
            "015f475fda3c4cd3a2a56b9e40d02214",
            "8edd61cc146c48acad8112b4bea725fd",
            "7879bd2917b44a458ca5d602cf6e022c",
            "01de3c648b634e18888697b0edf26215",
            "1ff7814ca4f14e8fa7ade57b79f39926",
            "f1df16ccd90c4537b4f102b4059e2ae5",
            "eadb5e7ca37f426995a930df1a5359c2",
            "d3799cf51ad84e01aa1b5a31c8b768eb",
            "71870a0c4eb74edb85b16c8824d54be0",
            "60a8135afdfe4cafbe92c35a0a6f556f",
            "6f07bd77ed7d4f519661975c2c96e20e",
            "abd08c3492804158ba4880d154b950d1",
            "46a195284d2f48109d83bfb53d16d7f8",
            "5bd8d95f6b814cea8e49caf7879b7091",
            "3c6d2ef8ea2148ecb35a3047d4c5b77a",
            "fb3a6c9d73e745318cd75037f2eb955c",
            "7ae80cf53bf74d3485496f150f8fd36f",
            "f27ce418055e4024bd28e4b6ab88e726",
            "4fb1e70d882840e38db4ca1cd637b8e3",
            "b64cfec8a34d4a8abb2bcfbebba7628e",
            "3ad90c1f235e4227bd4d1ac1dd670d90",
            "973652b6b9da47898c48a5f28658ec49",
            "46acda69a2c445218227e772f7c26a90",
            "b405716b8c1f4e4b95a15bd2399f3dfc",
            "ef9af8d087644065a3f351d888ceee03",
            "4af35b709e464c079441a9549be0c81e",
            "8ff406bf080f41119e269b86d8ea65f3",
            "9699b6b2467745c598ef6ba1e6738e26",
            "f0187ad2e9b64d33901da6fe35582d6d",
            "5910a780680a42b6b20ac82466d43a65",
            "5788af898cc041ca8aae4eca834b1429",
            "a249b5f7893b4707aa9957390f530e5f",
            "a6c1d87e1fb34cdba3dac1d3989e7a27",
            "e53e9dfe58ae4073ad60b1780a52059d",
            "e3fc7e360f394dca814711c04bb8655f",
            "78eb5a8a31544144b453bd1150fab225",
            "9833433ebf2641b3b5a275b738f78871",
            "60977729d67d48ebb7438f970f748256",
            "b1dc114885e14f7f972e98a9f19eda81",
            "20d550ac80b144f694a2c7f8c55cb9ad",
            "32c3e219da5f4689bba99b76518d54fd",
            "06580268e08e4e1a83e8c65e4c788bb4",
            "87a10a86683045e0892816b73b0072c4",
            "2521b13d0599463c80995a30c2d81515",
            "9cdc78f0b92943f788e8bbcf6fb6444b",
            "48afc236efd54e54a6c5410aa568a779",
            "2855b9cb3f754e7eb07bb0e8d43dd89f",
            "0da3928b8ffc4e8aac5216e19ef0bc5c",
            "13910c1ce80a48c7bfa8984b0255b82f",
            "8eac5a18dd4b40a39e35bb0576cc86a6",
            "7521ad79027d42f0b7b627a72f84d297",
            "a8eb93ea48e24489948b922c9434b77f",
            "dd81dc3b9d03486892b3f4a50fecf37b",
            "aba0cce3b13643118f904e51117a642f",
            "d379d475b17a479a9d105982e55f84ba",
            "15b338c5cb814ea082980fcd535717a6",
            "2defd3793bb340fa9180b80252a03977",
            "0fcdd1a9476443a29511ad2e9cd8f532",
            "276df030cbcc4c4698cf76c4554f6983",
            "ef638328c1c84c95bed4910433c5a35e",
            "06b6a5c349ef46a5b51eb56e05da0c36",
            "a6949b3fcf324ed9aee388f98fc5b007",
            "701d6160b42b4d969d0d3784c0e07b95",
            "36206b009d2b4bc49019574f8635e059",
            "6831ab765b8f4596a780ac3449e8afa1",
            "83b15b5204b042a5add07398d62c6e19",
            "e0ffc5476c4d40818a562c3980be4686",
            "5637a6f3812146dcb040bef35cdddc54",
            "287c11eb6e72446a814d0f3fad4aba8f",
            "dbe27e34dde249b7987e7dab669276f0",
            "0f1fa798f62b44548a5d5d4af9a33b75",
            "d44ed59be7bb48e29bfac7ca755f0df0",
            "f0d7d015bbed4cc78781c5d55b4a64a9",
            "e2000bf5dad841a09f8c5f1cecce3b72",
            "eb362586df2546cf8859ec6372bd7f9f",
            "bb6fe62e6d174f828143b1c70e4f21de",
            "415fe70473304344a060307d7ee5893c",
            "a58b0f920336450cb55cec2f711dc45e",
            "5045c95500514d51bca12c937bcaf10e",
            "8ff246c1cb2d452b9fb051b684d176e1",
            "b6d7b6d0fe6a423e96c31094a9e66666",
            "9ca1456c68814fc7986a453371b5cf6b",
            "31ec98d5993b443cbe78776723089b66",
            "c61defc7a77a4d61a8be5ee7c4ed8f35",
            "15a85c81319a4e6bb92fb403ed0abcb8",
            "0954bec70a004f189fda7d7c50944585",
            "543fc59b11ab4ee0bda109c8f88709ee",
            "b980b964ad93488680465e4ee7276198",
            "30662c6a8bfd404fbd67000b06ff5031",
            "1ff370e3cd314065829b3f974fa1d68a",
            "9d7b77cf7ac44fce9935b8eaa61f42fc",
            "0b4d925874e040b88cc98c6e5432b660",
            "f1c2962d3cf1423b8a1a7954472f6248",
            "aeeea10b25334d28b8381c0ac5ae7cde",
            "d1665f85226643a0a9426c380dcac544",
            "e5e957ad3e354ace898f30c5f6b76696",
            "8b74a2baa68c4636991124b2803fca2e",
            "838d2c6222064bc58b07b61dbf0346dc",
            "1a76d83599f74c3ea10ed2f059178af2",
            "dabc7d87171f41748e673737b062f340",
            "297dd172e1944d8882b775e881696408",
            "8ac8455b21c0435eb3232bda8216391d",
            "d1ad5b80c4ae4892b82612b5570136ac",
            "490b27a2ce61487d81d8d1546f932005",
            "57be802b5b8d411aa2c8f6b9f06b5a40"
          ]
        },
        "id": "juj1f_xnDTyG",
        "outputId": "f087bd59-719b-44dc-b640-12546fb22125"
      },
      "outputs": [
        {
          "output_type": "stream",
          "name": "stdout",
          "text": [
            "Using device: cuda\n",
            "Loading model and tokenizer...\n"
          ]
        },
        {
          "output_type": "display_data",
          "data": {
            "text/plain": [
              "merges.txt:   0%|          | 0.00/456k [00:00<?, ?B/s]"
            ],
            "application/vnd.jupyter.widget-view+json": {
              "version_major": 2,
              "version_minor": 0,
              "model_id": "b05cf614706646059d9d9d1b0006fdea"
            }
          },
          "metadata": {}
        },
        {
          "output_type": "display_data",
          "data": {
            "text/plain": [
              "tokenizer.json:   0%|          | 0.00/2.11M [00:00<?, ?B/s]"
            ],
            "application/vnd.jupyter.widget-view+json": {
              "version_major": 2,
              "version_minor": 0,
              "model_id": "cdfda798f92e48359728f060670ada43"
            }
          },
          "metadata": {}
        },
        {
          "output_type": "display_data",
          "data": {
            "text/plain": [
              "added_tokens.json:   0%|          | 0.00/1.08k [00:00<?, ?B/s]"
            ],
            "application/vnd.jupyter.widget-view+json": {
              "version_major": 2,
              "version_minor": 0,
              "model_id": "33f1d3f376094b18a7a7d29ad9edc05a"
            }
          },
          "metadata": {}
        },
        {
          "output_type": "display_data",
          "data": {
            "text/plain": [
              "special_tokens_map.json:   0%|          | 0.00/99.0 [00:00<?, ?B/s]"
            ],
            "application/vnd.jupyter.widget-view+json": {
              "version_major": 2,
              "version_minor": 0,
              "model_id": "ce64af7045264724adf9936e3d8d1de7"
            }
          },
          "metadata": {}
        },
        {
          "output_type": "display_data",
          "data": {
            "text/plain": [
              "config.json:   0%|          | 0.00/735 [00:00<?, ?B/s]"
            ],
            "application/vnd.jupyter.widget-view+json": {
              "version_major": 2,
              "version_minor": 0,
              "model_id": "cb5fe39f6f734d5c90c9610ca96d94be"
            }
          },
          "metadata": {}
        },
        {
          "output_type": "display_data",
          "data": {
            "text/plain": [
              "model.safetensors.index.json:   0%|          | 0.00/35.7k [00:00<?, ?B/s]"
            ],
            "application/vnd.jupyter.widget-view+json": {
              "version_major": 2,
              "version_minor": 0,
              "model_id": "3f2b3405ec1d457c88896f376afe38dd"
            }
          },
          "metadata": {}
        },
        {
          "output_type": "display_data",
          "data": {
            "text/plain": [
              "Downloading shards:   0%|          | 0/2 [00:00<?, ?it/s]"
            ],
            "application/vnd.jupyter.widget-view+json": {
              "version_major": 2,
              "version_minor": 0,
              "model_id": "479dc7483f3d49d487b8f1472a5080b4"
            }
          },
          "metadata": {}
        },
        {
          "output_type": "display_data",
          "data": {
            "text/plain": [
              "model-00001-of-00002.safetensors:   0%|          | 0.00/5.00G [00:00<?, ?B/s]"
            ],
            "application/vnd.jupyter.widget-view+json": {
              "version_major": 2,
              "version_minor": 0,
              "model_id": "7402277ef9674d3c8411182b5d060f8e"
            }
          },
          "metadata": {}
        },
        {
          "output_type": "display_data",
          "data": {
            "text/plain": [
              "model-00002-of-00002.safetensors:   0%|          | 0.00/564M [00:00<?, ?B/s]"
            ],
            "application/vnd.jupyter.widget-view+json": {
              "version_major": 2,
              "version_minor": 0,
              "model_id": "b38c7444a18d47448dbc78242c13bdbd"
            }
          },
          "metadata": {}
        },
        {
          "output_type": "display_data",
          "data": {
            "text/plain": [
              "Loading checkpoint shards:   0%|          | 0/2 [00:00<?, ?it/s]"
            ],
            "application/vnd.jupyter.widget-view+json": {
              "version_major": 2,
              "version_minor": 0,
              "model_id": "f2281c97358e4821bae4791411e7d4f9"
            }
          },
          "metadata": {}
        },
        {
          "output_type": "display_data",
          "data": {
            "text/plain": [
              "generation_config.json:   0%|          | 0.00/124 [00:00<?, ?B/s]"
            ],
            "application/vnd.jupyter.widget-view+json": {
              "version_major": 2,
              "version_minor": 0,
              "model_id": "8addca6454d5473abe075b5ee96c5266"
            }
          },
          "metadata": {}
        },
        {
          "output_type": "stream",
          "name": "stdout",
          "text": [
            "Loading PEFT model...\n",
            "Loading allergen database and creating vector store...\n"
          ]
        },
        {
          "output_type": "stream",
          "name": "stderr",
          "text": [
            "<ipython-input-4-48da344201db>:93: LangChainDeprecationWarning: The class `HuggingFaceEmbeddings` was deprecated in LangChain 0.2.2 and will be removed in 1.0. An updated version of the class exists in the :class:`~langchain-huggingface package and should be used instead. To use it run `pip install -U :class:`~langchain-huggingface` and import as `from :class:`~langchain_huggingface import HuggingFaceEmbeddings``.\n",
            "  embeddings = HuggingFaceEmbeddings(model_name=EMBEDDINGS_MODEL)\n"
          ]
        },
        {
          "output_type": "display_data",
          "data": {
            "text/plain": [
              "modules.json:   0%|          | 0.00/349 [00:00<?, ?B/s]"
            ],
            "application/vnd.jupyter.widget-view+json": {
              "version_major": 2,
              "version_minor": 0,
              "model_id": "237a54afd11148f99d7e319296192b4e"
            }
          },
          "metadata": {}
        },
        {
          "output_type": "display_data",
          "data": {
            "text/plain": [
              "config_sentence_transformers.json:   0%|          | 0.00/116 [00:00<?, ?B/s]"
            ],
            "application/vnd.jupyter.widget-view+json": {
              "version_major": 2,
              "version_minor": 0,
              "model_id": "1574de9fab2f48f8bba57a0d66d68c12"
            }
          },
          "metadata": {}
        },
        {
          "output_type": "display_data",
          "data": {
            "text/plain": [
              "README.md:   0%|          | 0.00/10.7k [00:00<?, ?B/s]"
            ],
            "application/vnd.jupyter.widget-view+json": {
              "version_major": 2,
              "version_minor": 0,
              "model_id": "eadb5e7ca37f426995a930df1a5359c2"
            }
          },
          "metadata": {}
        },
        {
          "output_type": "display_data",
          "data": {
            "text/plain": [
              "sentence_bert_config.json:   0%|          | 0.00/53.0 [00:00<?, ?B/s]"
            ],
            "application/vnd.jupyter.widget-view+json": {
              "version_major": 2,
              "version_minor": 0,
              "model_id": "f27ce418055e4024bd28e4b6ab88e726"
            }
          },
          "metadata": {}
        },
        {
          "output_type": "display_data",
          "data": {
            "text/plain": [
              "config.json:   0%|          | 0.00/612 [00:00<?, ?B/s]"
            ],
            "application/vnd.jupyter.widget-view+json": {
              "version_major": 2,
              "version_minor": 0,
              "model_id": "f0187ad2e9b64d33901da6fe35582d6d"
            }
          },
          "metadata": {}
        },
        {
          "output_type": "display_data",
          "data": {
            "text/plain": [
              "model.safetensors:   0%|          | 0.00/90.9M [00:00<?, ?B/s]"
            ],
            "application/vnd.jupyter.widget-view+json": {
              "version_major": 2,
              "version_minor": 0,
              "model_id": "20d550ac80b144f694a2c7f8c55cb9ad"
            }
          },
          "metadata": {}
        },
        {
          "output_type": "display_data",
          "data": {
            "text/plain": [
              "tokenizer_config.json:   0%|          | 0.00/350 [00:00<?, ?B/s]"
            ],
            "application/vnd.jupyter.widget-view+json": {
              "version_major": 2,
              "version_minor": 0,
              "model_id": "7521ad79027d42f0b7b627a72f84d297"
            }
          },
          "metadata": {}
        },
        {
          "output_type": "display_data",
          "data": {
            "text/plain": [
              "vocab.txt:   0%|          | 0.00/232k [00:00<?, ?B/s]"
            ],
            "application/vnd.jupyter.widget-view+json": {
              "version_major": 2,
              "version_minor": 0,
              "model_id": "a6949b3fcf324ed9aee388f98fc5b007"
            }
          },
          "metadata": {}
        },
        {
          "output_type": "display_data",
          "data": {
            "text/plain": [
              "tokenizer.json:   0%|          | 0.00/466k [00:00<?, ?B/s]"
            ],
            "application/vnd.jupyter.widget-view+json": {
              "version_major": 2,
              "version_minor": 0,
              "model_id": "f0d7d015bbed4cc78781c5d55b4a64a9"
            }
          },
          "metadata": {}
        },
        {
          "output_type": "display_data",
          "data": {
            "text/plain": [
              "special_tokens_map.json:   0%|          | 0.00/112 [00:00<?, ?B/s]"
            ],
            "application/vnd.jupyter.widget-view+json": {
              "version_major": 2,
              "version_minor": 0,
              "model_id": "c61defc7a77a4d61a8be5ee7c4ed8f35"
            }
          },
          "metadata": {}
        },
        {
          "output_type": "display_data",
          "data": {
            "text/plain": [
              "1_Pooling/config.json:   0%|          | 0.00/190 [00:00<?, ?B/s]"
            ],
            "application/vnd.jupyter.widget-view+json": {
              "version_major": 2,
              "version_minor": 0,
              "model_id": "d1665f85226643a0a9426c380dcac544"
            }
          },
          "metadata": {}
        },
        {
          "output_type": "stream",
          "name": "stdout",
          "text": [
            "Loading recipe dataset...\n",
            "Generating 1 recipes with allergen substitutions...\n"
          ]
        },
        {
          "output_type": "stream",
          "name": "stderr",
          "text": [
            "\r  0%|          | 0/500 [00:00<?, ?it/s]"
          ]
        },
        {
          "output_type": "stream",
          "name": "stdout",
          "text": [
            "\n",
            "==================================================\n",
            "Generating recipe for: cottage cheese waffles\n",
            "==================================================\n"
          ]
        },
        {
          "output_type": "stream",
          "name": "stderr",
          "text": [
            "\r  0%|          | 1/500 [00:14<2:03:29, 14.85s/it]"
          ]
        },
        {
          "output_type": "stream",
          "name": "stdout",
          "text": [
            "flour, salt, eggs, milk, vegetable oil, vanilla extract, cottage cheese\n",
            "\n",
            "==================================================\n",
            "Generating recipe for: cream cheese crostata with orange marmalade\n",
            "==================================================\n"
          ]
        },
        {
          "output_type": "stream",
          "name": "stderr",
          "text": [
            "\r  0%|          | 2/500 [00:28<1:59:11, 14.36s/it]"
          ]
        },
        {
          "output_type": "stream",
          "name": "stdout",
          "text": [
            "cake flour, sugar, egg yolk, unsalted butter, cream cheese, mascarpone cheese, orange marmalade, sliced almonds\n",
            "\n",
            "=== Allergen Substitutions Made ===\n",
            "Replaced 'sugar' with 'coconut yogurt'\n",
            "\n",
            "==================================================\n",
            "Generating recipe for: fusilli with shrimp and arugula\n",
            "==================================================\n"
          ]
        },
        {
          "output_type": "stream",
          "name": "stderr",
          "text": [
            "\r  1%|          | 3/500 [00:42<1:57:48, 14.22s/it]"
          ]
        },
        {
          "output_type": "stream",
          "name": "stdout",
          "text": [
            "olive oil, shallot, garlic, crushed red pepper flakes, dry white wine, large shrimp, fusilli, arugula\n",
            "\n",
            "=== Allergen Substitutions Made ===\n",
            "Replaced 'olive oil' with 'coconut oil'\n",
            "Replaced 'shallot' with 'coconut cream'\n",
            "Replaced 'garlic' with 'coconut oil'\n",
            "\n",
            "==================================================\n",
            "Generating recipe for: oven roasted prunes wrapped with pancetta\n",
            "==================================================\n"
          ]
        },
        {
          "output_type": "stream",
          "name": "stderr",
          "text": [
            "\r  1%|          | 4/500 [00:56<1:56:51, 14.14s/it]"
          ]
        },
        {
          "output_type": "stream",
          "name": "stdout",
          "text": [
            "prunes, blue cheese, pancetta\n",
            "\n",
            "=== Allergen Substitutions Made ===\n",
            "Replaced 'prunes' with 'seeds'\n",
            "Replaced 'blue cheese' with 'coconut cream'\n",
            "\n",
            "==================================================\n",
            "Generating recipe for: strawberry crush jello with pretzels\n",
            "==================================================\n"
          ]
        },
        {
          "output_type": "stream",
          "name": "stderr",
          "text": [
            "\r  1%|          | 5/500 [01:10<1:56:23, 14.11s/it]"
          ]
        },
        {
          "output_type": "stream",
          "name": "stdout",
          "text": [
            "pretzels, margarine, sugar, cream cheese, confectioners' sugar, cool whip, strawberry jell-o gelatin dessert, boiling water, frozen strawberries\n",
            "\n",
            "=== Allergen Substitutions Made ===\n",
            "Replaced 'sugar' with 'coconut yogurt'\n",
            "\n",
            "==================================================\n",
            "Generating recipe for: thai sesame beef\n",
            "==================================================\n"
          ]
        },
        {
          "output_type": "stream",
          "name": "stderr",
          "text": [
            "\r  1%|          | 6/500 [01:26<1:58:56, 14.45s/it]"
          ]
        },
        {
          "output_type": "stream",
          "name": "stdout",
          "text": [
            "green onion, low sodium soy sauce, water, dry sherry, brown sugar, sesame seeds, garlic cloves, fresh ground black pepper, lean beef\n",
            "\n",
            "==================================================\n",
            "Generating recipe for: maggiano s stuffed mushrooms\n",
            "==================================================\n"
          ]
        },
        {
          "output_type": "stream",
          "name": "stderr",
          "text": [
            "\r  1%|▏         | 7/500 [01:40<1:57:58, 14.36s/it]"
          ]
        },
        {
          "output_type": "stream",
          "name": "stdout",
          "text": [
            "salt, ground black pepper, granulated garlic, dried oregano, fresh basil, fresh parsley, paprika, mushrooms, garlic, extra virgin olive oil, fresh spinach, unsalted butter, fontina cheese, japanese-style bread crumbs\n",
            "\n",
            "==================================================\n",
            "Generating recipe for: tomato poached pork  4 ww pts\n",
            "==================================================\n"
          ]
        },
        {
          "output_type": "stream",
          "name": "stderr",
          "text": [
            "\r  2%|▏         | 8/500 [01:54<1:57:09, 14.29s/it]"
          ]
        },
        {
          "output_type": "stream",
          "name": "stdout",
          "text": [
            "tomato juice, balsamic vinegar, garlic cloves, soy sauce, honey, red pepper flakes, pork tenderloin\n",
            "\n",
            "==================================================\n",
            "Generating recipe for: bubble pizza\n",
            "==================================================\n"
          ]
        },
        {
          "output_type": "stream",
          "name": "stderr",
          "text": [
            "\r  2%|▏         | 9/500 [02:08<1:56:35, 14.25s/it]"
          ]
        },
        {
          "output_type": "stream",
          "name": "stdout",
          "text": [
            "ready-to-bake refrigerated buttermilk flaky biscuits, pizza sauce, mozzarella cheese, pepperoni\n",
            "\n",
            "==================================================\n",
            "Generating recipe for: slow cooker chicken fajitas\n",
            "==================================================\n"
          ]
        },
        {
          "output_type": "stream",
          "name": "stderr",
          "text": [
            "\r  2%|▏         | 10/500 [02:20<1:51:43, 13.68s/it]"
          ]
        },
        {
          "output_type": "stream",
          "name": "stdout",
          "text": [
            "boneless skinless chicken breast halves, onion, red sweet bell pepper, ground cumin, chili powder, lime juice, chicken broth, flour tortillas, guacamole, sour cream, lettuce, tomatoes\n",
            "\n",
            "=== Allergen Substitutions Made ===\n",
            "Replaced 'onion' with 'seeds'\n",
            "\n",
            "==================================================\n",
            "Generating recipe for: meatloaf with tangy tomato gravy\n",
            "==================================================\n"
          ]
        },
        {
          "output_type": "stream",
          "name": "stderr",
          "text": [
            "\r  2%|▏         | 11/500 [02:35<1:53:11, 13.89s/it]"
          ]
        },
        {
          "output_type": "stream",
          "name": "stdout",
          "text": [
            "ground beef, onion, carrot, egg, salt & pepper, fresh tomato, chutney, worcestershire sauce, ketchup, mustard, cloves, bay leaf, salt, water\n",
            "\n",
            "=== Allergen Substitutions Made ===\n",
            "Replaced 'onion' with 'seeds'\n",
            "Replaced 'carrot' with 'hearts of palm'\n",
            "Replaced 'egg' with 'flax eggs'\n",
            "Replaced 'salt' with 'coconut yogurt'\n",
            "\n",
            "==================================================\n",
            "Generating recipe for: asparagus  prawn and dill salad\n",
            "==================================================\n"
          ]
        },
        {
          "output_type": "stream",
          "name": "stderr",
          "text": [
            "\r  2%|▏         | 12/500 [02:49<1:54:06, 14.03s/it]"
          ]
        },
        {
          "output_type": "stream",
          "name": "stdout",
          "text": [
            "asparagus, cucumber, king prawns, olive oil, fresh dill leaves, lemon juice, coarse grain mustard, salt & fresh ground pepper\n",
            "\n",
            "=== Allergen Substitutions Made ===\n",
            "Replaced 'asparagus' with 'poppy seeds'\n",
            "Replaced 'olive oil' with 'coconut oil'\n",
            "\n",
            "==================================================\n",
            "Generating recipe for: pumpkin oat bran muffins\n",
            "==================================================\n"
          ]
        },
        {
          "output_type": "stream",
          "name": "stderr",
          "text": [
            "\r  3%|▎         | 13/500 [03:04<1:54:44, 14.14s/it]"
          ]
        },
        {
          "output_type": "stream",
          "name": "stdout",
          "text": [
            "oat bran, brown sugar, all-purpose flour, baking powder, pumpkin pie spice, salt, pumpkin, skim milk, egg whites, vegetable oil, vegetable oil cooking spray\n",
            "\n",
            "==================================================\n",
            "Generating recipe for: ranch style salad dressing\n",
            "==================================================\n"
          ]
        },
        {
          "output_type": "stream",
          "name": "stderr",
          "text": [
            "\r  3%|▎         | 14/500 [03:11<1:37:22, 12.02s/it]"
          ]
        },
        {
          "output_type": "stream",
          "name": "stdout",
          "text": [
            "mayonnaise, buttermilk, red wine vinegar, sugar, garlic powder, onion powder, dried parsley, dried dill, fresh ground black pepper, salt, sweet paprika\n",
            "\n",
            "=== Allergen Substitutions Made ===\n",
            "Replaced 'salt' with 'coconut yogurt'\n",
            "\n",
            "==================================================\n",
            "Generating recipe for: new orleans rice batter cakes\n",
            "==================================================\n"
          ]
        },
        {
          "output_type": "stream",
          "name": "stderr",
          "text": [
            "\r  3%|▎         | 15/500 [03:25<1:42:25, 12.67s/it]"
          ]
        },
        {
          "output_type": "stream",
          "name": "stdout",
          "text": [
            "flour, baking powder, salt, egg, milk, corn syrup, cooked rice, butter\n",
            "\n",
            "=== Allergen Substitutions Made ===\n",
            "Replaced 'salt' with 'coconut yogurt'\n",
            "Replaced 'egg' with 'flax eggs'\n",
            "Replaced 'milk' with 'oat milk'\n",
            "Replaced 'butter' with 'coconut oil'\n",
            "\n",
            "==================================================\n",
            "Generating recipe for: simple fruit salad\n",
            "==================================================\n"
          ]
        },
        {
          "output_type": "stream",
          "name": "stderr",
          "text": [
            "\r  3%|▎         | 16/500 [03:39<1:45:36, 13.09s/it]"
          ]
        },
        {
          "output_type": "stream",
          "name": "stdout",
          "text": [
            "bananas, peaches, strawberry, blueberries\n",
            "\n",
            "==================================================\n",
            "Generating recipe for: ground chicken casserole\n",
            "==================================================\n"
          ]
        },
        {
          "output_type": "stream",
          "name": "stderr",
          "text": [
            "\r  3%|▎         | 17/500 [03:54<1:49:53, 13.65s/it]"
          ]
        },
        {
          "output_type": "stream",
          "name": "stdout",
          "text": [
            "macaroni & cheese dinner mix, butter, milk, olive oil, walla walla onion, sliced mushrooms, ground chicken, fresh ground pepper, stewed tomatoes, fresh basil leaf, breadcrumbs, parmesan cheese\n",
            "\n",
            "=== Allergen Substitutions Made ===\n",
            "Replaced 'butter' with 'coconut oil'\n",
            "\n",
            "==================================================\n",
            "Generating recipe for: cream cheese dip for the lazy\n",
            "==================================================\n"
          ]
        },
        {
          "output_type": "stream",
          "name": "stderr",
          "text": [
            "\r  4%|▎         | 18/500 [04:08<1:51:00, 13.82s/it]"
          ]
        },
        {
          "output_type": "stream",
          "name": "stdout",
          "text": [
            "cream cheese, tomatoes, garlic, fresh ground pepper\n",
            "\n",
            "=== Allergen Substitutions Made ===\n",
            "Replaced 'tomatoes' with 'coconut aminos'\n",
            "Replaced 'garlic' with 'coconut oil'\n",
            "\n",
            "==================================================\n",
            "Generating recipe for: my own lasagna oamc\n",
            "==================================================\n"
          ]
        },
        {
          "output_type": "stream",
          "name": "stderr",
          "text": [
            "\r  4%|▍         | 19/500 [04:22<1:51:57, 13.97s/it]"
          ]
        },
        {
          "output_type": "stream",
          "name": "stdout",
          "text": [
            "ground beef, spaghetti sauce, ricotta cheese, mozzarella cheese, egg, no-boil lasagna noodles\n",
            "\n",
            "==================================================\n",
            "Generating recipe for: spicy chicken   sausage kabobs\n",
            "==================================================\n"
          ]
        },
        {
          "output_type": "stream",
          "name": "stderr",
          "text": [
            "\r  4%|▍         | 20/500 [04:37<1:52:41, 14.09s/it]"
          ]
        },
        {
          "output_type": "stream",
          "name": "stdout",
          "text": [
            "chicken breast fillets, chorizo sausage, red bell pepper, red onion, olive oil, garlic cloves, red curry paste, honey\n",
            "\n",
            "=== Allergen Substitutions Made ===\n",
            "Replaced 'olive oil' with 'coconut oil'\n",
            "\n",
            "==================================================\n",
            "Generating recipe for: mango banana cake\n",
            "==================================================\n"
          ]
        },
        {
          "output_type": "stream",
          "name": "stderr",
          "text": [
            "\r  4%|▍         | 21/500 [04:51<1:52:51, 14.14s/it]"
          ]
        },
        {
          "output_type": "stream",
          "name": "stdout",
          "text": [
            "flour, cornstarch, baking powder, baking soda, salt, ground nutmeg, unsalted butter, egg yolk, sugar, eggs, sour cream, vanilla extract, banana, cream cheese, powdered sugar, mangoes, fresh lemon juice, egg yolks, mango, mint sprig\n",
            "\n",
            "=== Allergen Substitutions Made ===\n",
            "Replaced 'flour' with 'almond flour'\n",
            "Replaced 'salt' with 'coconut yogurt'\n",
            "Replaced 'banana' with 'flax eggs'\n",
            "\n",
            "==================================================\n",
            "Generating recipe for: snickers fudge\n",
            "==================================================\n"
          ]
        },
        {
          "output_type": "stream",
          "name": "stderr",
          "text": [
            "\r  4%|▍         | 22/500 [05:03<1:48:23, 13.61s/it]"
          ]
        },
        {
          "output_type": "stream",
          "name": "stdout",
          "text": [
            "semi-sweet chocolate chips, snickers candy bars, milk chocolate frosting\n",
            "\n",
            "==================================================\n",
            "Generating recipe for: curried tuna rice salad\n",
            "==================================================\n"
          ]
        },
        {
          "output_type": "stream",
          "name": "stderr",
          "text": [
            "\r  5%|▍         | 23/500 [05:18<1:49:50, 13.82s/it]"
          ]
        },
        {
          "output_type": "stream",
          "name": "stdout",
          "text": [
            "canned tuna, cooked rice, carrot, celery, onions, mayonnaise, curry, lemon juice, salt\n",
            "\n",
            "=== Allergen Substitutions Made ===\n",
            "Replaced 'carrot' with 'hearts of palm'\n",
            "Replaced 'salt' with 'coconut yogurt'\n",
            "\n",
            "==================================================\n",
            "Generating recipe for: fabulous 2 ingredient lemon pudding   4 ww points\n",
            "==================================================\n"
          ]
        },
        {
          "output_type": "stream",
          "name": "stderr",
          "text": [
            "\r  5%|▍         | 24/500 [05:32<1:50:32, 13.93s/it]"
          ]
        },
        {
          "output_type": "stream",
          "name": "stdout",
          "text": [
            "sugar free fat free french vanilla pudding and pie filling mix, sugar-free lemon gelatin, water\n",
            "\n",
            "=== Allergen Substitutions Made ===\n",
            "Replaced 'water' with 'flax eggs'\n",
            "\n",
            "==================================================\n",
            "Generating recipe for: warm citrus bake\n",
            "==================================================\n"
          ]
        },
        {
          "output_type": "stream",
          "name": "stderr",
          "text": [
            "\r  5%|▌         | 25/500 [05:46<1:50:42, 13.98s/it]"
          ]
        },
        {
          "output_type": "stream",
          "name": "stdout",
          "text": [
            "grapefruits, oranges, fresh pineapple chunk, brown sugar, butter\n",
            "\n",
            "==================================================\n",
            "Generating recipe for: mini meatloaf   low carb\n",
            "==================================================\n"
          ]
        },
        {
          "output_type": "stream",
          "name": "stderr",
          "text": [
            "\r  5%|▌         | 26/500 [06:00<1:51:02, 14.06s/it]"
          ]
        },
        {
          "output_type": "stream",
          "name": "stdout",
          "text": [
            "low-sugar ketchup, splenda brown sugar blend, apple cider vinegar, colby-monterey jack cheese, lean ground beef, egg whites, breadcrumbs, salt, black pepper, onion powder\n",
            "\n",
            "=== Allergen Substitutions Made ===\n",
            "Replaced 'salt' with 'coconut yogurt'\n",
            "\n",
            "==================================================\n",
            "Generating recipe for: cheese stuffed anaheim peppers\n",
            "==================================================\n"
          ]
        },
        {
          "output_type": "stream",
          "name": "stderr",
          "text": [
            "\r  5%|▌         | 27/500 [06:14<1:51:02, 14.09s/it]"
          ]
        },
        {
          "output_type": "stream",
          "name": "stdout",
          "text": [
            "anaheim chilies, hot red chili pepper, hot green chili pepper, cream cheese, feta cheese, fresh herb, fresh ground pepper\n",
            "\n",
            "==================================================\n",
            "Generating recipe for: peach tarte tatin\n",
            "==================================================\n"
          ]
        },
        {
          "output_type": "stream",
          "name": "stderr",
          "text": [
            "\r  6%|▌         | 28/500 [06:30<1:53:19, 14.41s/it]"
          ]
        },
        {
          "output_type": "stream",
          "name": "stdout",
          "text": [
            "all-purpose flour, sugar, orange zest, baking powder, salt, unsalted butter, ice water, apple cider vinegar, water, peaches, whipped cream\n",
            "\n",
            "=== Allergen Substitutions Made ===\n",
            "Replaced 'sugar' with 'coconut yogurt'\n",
            "Replaced 'salt' with 'coconut yogurt'\n",
            "Replaced 'water' with 'flax eggs'\n",
            "\n",
            "==================================================\n",
            "Generating recipe for: caperberry gravy\n",
            "==================================================\n"
          ]
        },
        {
          "output_type": "stream",
          "name": "stderr",
          "text": [
            "\r  6%|▌         | 29/500 [06:38<1:38:47, 12.59s/it]"
          ]
        },
        {
          "output_type": "stream",
          "name": "stdout",
          "text": [
            "caperberries, beef broth, flour, butter, salt, pepper\n",
            "\n",
            "==================================================\n",
            "Generating recipe for: sherry garlic beef and mushrooms\n",
            "==================================================\n"
          ]
        },
        {
          "output_type": "stream",
          "name": "stderr",
          "text": [
            "\r  6%|▌         | 30/500 [06:52<1:42:28, 13.08s/it]"
          ]
        },
        {
          "output_type": "stream",
          "name": "stdout",
          "text": [
            "fresh parsley leaves, garlic cloves, extra virgin olive oil, beef tenderloin, salt and pepper, mushroom caps, dry sherry\n",
            "\n",
            "==================================================\n",
            "Generating recipe for: strawberry rhubarb crisp\n",
            "==================================================\n"
          ]
        },
        {
          "output_type": "stream",
          "name": "stderr",
          "text": [
            "\r  6%|▌         | 31/500 [07:06<1:44:58, 13.43s/it]"
          ]
        },
        {
          "output_type": "stream",
          "name": "stdout",
          "text": [
            "rhubarb, strawberries, sugar, flour, cinnamon, brown sugar, old fashioned oats, nutmeg, butter\n",
            "\n",
            "=== Allergen Substitutions Made ===\n",
            "Replaced 'strawberries' with 'coconut aminos'\n",
            "Replaced 'sugar' with 'coconut yogurt'\n",
            "\n",
            "==================================================\n",
            "Generating recipe for: grilled veggie pasta salad\n",
            "==================================================\n"
          ]
        },
        {
          "output_type": "stream",
          "name": "stderr",
          "text": [
            "\r  6%|▋         | 32/500 [07:21<1:46:36, 13.67s/it]"
          ]
        },
        {
          "output_type": "stream",
          "name": "stdout",
          "text": [
            "white wine vinegar, dijon mustard, salt, black pepper, extra virgin olive oil, garlic cloves, fresh thyme, fresh oregano, sweet red peppers, green bell peppers, zucchini, summer squash, red onion, tomatoes, linguine, fresh basil, fresh mozzarella cheese\n",
            "\n",
            "=== Allergen Substitutions Made ===\n",
            "Replaced 'salt' with 'coconut yogurt'\n",
            "Replaced 'black pepper' with 'hearts of palm'\n",
            "Replaced 'tomatoes' with 'coconut aminos'\n",
            "\n",
            "==================================================\n",
            "Generating recipe for: hungarian chocolate cake  rigo jancsi\n",
            "==================================================\n"
          ]
        },
        {
          "output_type": "stream",
          "name": "stderr",
          "text": [
            "\r  7%|▋         | 33/500 [07:35<1:47:52, 13.86s/it]"
          ]
        },
        {
          "output_type": "stream",
          "name": "stdout",
          "text": [
            "semisweet chocolate, eggs, granulated sugar, espresso powder, water, dutch-processed cocoa powder, unsweetened cocoa, confectioners' sugar, heavy cream, raspberry preserves, apricot preserves, bittersweet chocolate, cocoa\n",
            "\n",
            "=== Allergen Substitutions Made ===\n",
            "Replaced 'water' with 'flax eggs'\n",
            "\n",
            "==================================================\n",
            "Generating recipe for: grapefruit bread\n",
            "==================================================\n"
          ]
        },
        {
          "output_type": "stream",
          "name": "stderr",
          "text": [
            "\r  7%|▋         | 34/500 [07:49<1:48:37, 13.99s/it]"
          ]
        },
        {
          "output_type": "stream",
          "name": "stdout",
          "text": [
            "butter, sugar, eggs, flour, salt, baking powder, baking soda, grapefruit, rind of, milk, grapefruit juice, confectioners' sugar\n",
            "\n",
            "=== Allergen Substitutions Made ===\n",
            "Replaced 'butter' with 'coconut oil'\n",
            "Replaced 'sugar' with 'coconut yogurt'\n",
            "Replaced 'salt' with 'coconut yogurt'\n",
            "\n",
            "==================================================\n",
            "Generating recipe for: cheesy chicken enchilada casserole\n",
            "==================================================\n"
          ]
        },
        {
          "output_type": "stream",
          "name": "stderr",
          "text": [
            "\r  7%|▋         | 35/500 [08:04<1:49:12, 14.09s/it]"
          ]
        },
        {
          "output_type": "stream",
          "name": "stdout",
          "text": [
            "chicken breasts, bacon, onion, corn, green bell pepper, jalapeno pepper, banana peppers, garlic, refried beans, green enchilada sauce, salsa, taco cheese, flour tortillas, salt, ground pepper, cumin, taco seasoning, lime, fresh cilantro\n",
            "\n",
            "==================================================\n",
            "Generating recipe for: champurrado  mexican chocolate beverage\n",
            "==================================================\n"
          ]
        },
        {
          "output_type": "stream",
          "name": "stderr",
          "text": [
            "\r  7%|▋         | 36/500 [08:18<1:49:09, 14.12s/it]"
          ]
        },
        {
          "output_type": "stream",
          "name": "stdout",
          "text": [
            "mexican chocolate, water, milk, masa harina, dark brown sugar\n",
            "\n",
            "=== Allergen Substitutions Made ===\n",
            "Replaced 'water' with 'flax eggs'\n",
            "\n",
            "==================================================\n",
            "Generating recipe for: chocolate covered espresso beans\n",
            "==================================================\n"
          ]
        },
        {
          "output_type": "stream",
          "name": "stderr",
          "text": [
            "\r  7%|▋         | 37/500 [08:32<1:49:08, 14.14s/it]"
          ]
        },
        {
          "output_type": "stream",
          "name": "stdout",
          "text": [
            "dark chocolate, coffee beans, cocoa powder\n",
            "\n",
            "==================================================\n",
            "Generating recipe for: taco meatloaf with all the fixins\n",
            "==================================================\n"
          ]
        },
        {
          "output_type": "stream",
          "name": "stderr",
          "text": [
            "\r  8%|▊         | 38/500 [08:46<1:49:09, 14.18s/it]"
          ]
        },
        {
          "output_type": "stream",
          "name": "stdout",
          "text": [
            "ground beef, diced onion, diced tomato, taco shell, lettuce, shredded cheddar cheese, sour cream, oregano, ground cumin, salt, garlic powder, chili powder\n",
            "\n",
            "==================================================\n",
            "Generating recipe for: creamy chicken noodle soup with apples\n",
            "==================================================\n"
          ]
        },
        {
          "output_type": "stream",
          "name": "stderr",
          "text": [
            "\r  8%|▊         | 39/500 [09:01<1:50:35, 14.39s/it]"
          ]
        },
        {
          "output_type": "stream",
          "name": "stdout",
          "text": [
            "butter, leek, granny smith apple, calvados, cider vinegar, chicken broth, apple juice, boneless skinless chicken breasts, egg noodles, heavy cream, gruyere cheese, salt, white pepper, chives\n",
            "\n",
            "=== Allergen Substitutions Made ===\n",
            "Replaced 'butter' with 'coconut oil'\n",
            "Replaced 'leek' with 'hearts of palm'\n",
            "Replaced 'salt' with 'coconut yogurt'\n",
            "\n",
            "==================================================\n",
            "Generating recipe for: brussels sprouts\n",
            "==================================================\n"
          ]
        },
        {
          "output_type": "stream",
          "name": "stderr",
          "text": [
            "\r  8%|▊         | 40/500 [09:15<1:49:53, 14.33s/it]"
          ]
        },
        {
          "output_type": "stream",
          "name": "stdout",
          "text": [
            "brussels sprouts, butter, flour, onion, homogenized milk, sharp white cheddar cheese, salt, pepper, nutmeg\n",
            "\n",
            "==================================================\n",
            "Generating recipe for: savory roast pork with apples and parsnips\n",
            "==================================================\n"
          ]
        },
        {
          "output_type": "stream",
          "name": "stderr",
          "text": [
            "\r  8%|▊         | 41/500 [09:30<1:49:27, 14.31s/it]"
          ]
        },
        {
          "output_type": "stream",
          "name": "stdout",
          "text": [
            "pork loin roast, apple cider, apples, parsnips, onion, garlic powder, brown sugar, ground ginger, salt and pepper, bacon, cornstarch, water\n",
            "\n",
            "=== Allergen Substitutions Made ===\n",
            "Replaced 'onion' with 'seeds'\n",
            "\n",
            "==================================================\n",
            "Generating recipe for: mushroom and spinach stuffed zucchini\n",
            "==================================================\n"
          ]
        },
        {
          "output_type": "stream",
          "name": "stderr",
          "text": [
            "\r  8%|▊         | 42/500 [09:44<1:49:15, 14.31s/it]"
          ]
        },
        {
          "output_type": "stream",
          "name": "stdout",
          "text": [
            "zucchini, onion, garlic, salt, extra virgin olive oil, portabella mushrooms, dried dill, dry sherry, soy sauce, spinach, cooked brown rice, black pepper, tomato juice, fontina cheese\n",
            "\n",
            "=== Allergen Substitutions Made ===\n",
            "Replaced 'salt' with 'coconut yogurt'\n",
            "Replaced 'black pepper' with 'hearts of palm'\n",
            "\n",
            "==================================================\n",
            "Generating recipe for: chocolate mascarpone brownies\n",
            "==================================================\n"
          ]
        },
        {
          "output_type": "stream",
          "name": "stderr",
          "text": [
            "\r  9%|▊         | 43/500 [09:58<1:48:56, 14.30s/it]"
          ]
        },
        {
          "output_type": "stream",
          "name": "stdout",
          "text": [
            "unsalted butter, semisweet chocolate, white sugar, cocoa powder, mascarpone cheese, eggs, pure vanilla extract, all-purpose flour, salt, whipping cream\n",
            "\n",
            "==================================================\n",
            "Generating recipe for: mirj s ultra rich sweet challah\n",
            "==================================================\n"
          ]
        },
        {
          "output_type": "stream",
          "name": "stderr",
          "text": [
            "\r  9%|▉         | 44/500 [10:12<1:48:39, 14.30s/it]"
          ]
        },
        {
          "output_type": "stream",
          "name": "stdout",
          "text": [
            "flour, dried yeast, brown sugar, eggs, salt, margarine, vanilla extract, soymilk\n",
            "\n",
            "==================================================\n",
            "Generating recipe for: sweet corn tamale cakes\n",
            "==================================================\n"
          ]
        },
        {
          "output_type": "stream",
          "name": "stderr",
          "text": [
            "\r  9%|▉         | 45/500 [10:27<1:48:43, 14.34s/it]"
          ]
        },
        {
          "output_type": "stream",
          "name": "stdout",
          "text": [
            "tomatillos, mild green chilies, green onion, cilantro, ground cumin, salt & fresh ground pepper, tomatoes, spanish onion, lime juice, jalapeno, salt, fresh ground pepper, mayonnaise, white vinegar, water, granulated sugar, chili powder, paprika, cayenne pepper, onion powder, garlic powder, corn, butter, masa harina, all-purpose flour, sour cream, avocado\n",
            "\n",
            "=== Allergen Substitutions Made ===\n",
            "Replaced 'tomatillos' with 'king oyster mushrooms'\n",
            "Replaced 'water' with 'flax eggs'\n",
            "Replaced 'corn' with 'almond flour'\n",
            "\n",
            "==================================================\n",
            "Generating recipe for: asian warm chicken cole slaw\n",
            "==================================================\n"
          ]
        },
        {
          "output_type": "stream",
          "name": "stderr",
          "text": [
            "\r  9%|▉         | 46/500 [10:41<1:48:23, 14.33s/it]"
          ]
        },
        {
          "output_type": "stream",
          "name": "stdout",
          "text": [
            "rice wine vinegar, soy sauce, light brown sugar, garlic cloves, fresh ginger, skinless chicken breast half, dark sesame oil, snow peas, sweet red pepper, chicken broth, coleslaw mix, scallions, sliced almonds\n",
            "\n",
            "=== Allergen Substitutions Made ===\n",
            "Replaced 'soy sauce' with 'coconut aminos'\n",
            "\n",
            "==================================================\n",
            "Generating recipe for: thai pumpkin and coconut cream soup\n",
            "==================================================\n"
          ]
        },
        {
          "output_type": "stream",
          "name": "stderr",
          "text": [
            "\r  9%|▉         | 47/500 [10:55<1:48:02, 14.31s/it]"
          ]
        },
        {
          "output_type": "stream",
          "name": "stdout",
          "text": [
            "pumpkin, vegetable stock, ginger, lemongrass, scallions, coconut cream, salt, white pepper, lime, kaffir lime leaves\n",
            "\n",
            "=== Allergen Substitutions Made ===\n",
            "Replaced 'pumpkin' with 'poppy seeds'\n",
            "Replaced 'salt' with 'coconut yogurt'\n",
            "\n",
            "==================================================\n",
            "Generating recipe for: fresh apple mint salsa\n",
            "==================================================\n"
          ]
        },
        {
          "output_type": "stream",
          "name": "stderr",
          "text": [
            "\r 10%|▉         | 48/500 [11:10<1:47:34, 14.28s/it]"
          ]
        },
        {
          "output_type": "stream",
          "name": "stdout",
          "text": [
            "granny smith apples, red bell pepper, red onion, of fresh mint, fresh lime juice, honey, fresh jalapeno peppers, salt, fresh ground pepper\n",
            "\n",
            "=== Allergen Substitutions Made ===\n",
            "Replaced 'salt' with 'coconut yogurt'\n",
            "\n",
            "==================================================\n",
            "Generating recipe for: instead of ketchup\n",
            "==================================================\n"
          ]
        },
        {
          "output_type": "stream",
          "name": "stderr",
          "text": [
            "\r 10%|▉         | 49/500 [11:25<1:48:53, 14.49s/it]"
          ]
        },
        {
          "output_type": "stream",
          "name": "stdout",
          "text": [
            "olive oil, lime juice, fresh parsley leaves, fresh basil leaf, fresh cilantro leaves, garlic cloves, salt, black pepper\n",
            "\n",
            "==================================================\n",
            "Generating recipe for: buffalo shrimp with fettuccine   bleu cheese sauce\n",
            "==================================================\n"
          ]
        },
        {
          "output_type": "stream",
          "name": "stderr",
          "text": [
            "\r 10%|█         | 50/500 [11:39<1:48:13, 14.43s/it]"
          ]
        },
        {
          "output_type": "stream",
          "name": "stdout",
          "text": [
            "dry fettuccine, olive oil, medium shrimp, garlic cloves, butter, hot sauce, paprika, fresh chives, onion, sugar, half-and-half, blue cheese\n",
            "\n",
            "=== Allergen Substitutions Made ===\n",
            "Replaced 'olive oil' with 'coconut oil'\n",
            "Replaced 'onion' with 'seeds'\n",
            "\n",
            "Progress saved to generated_recipes_temp_50.json\n",
            "\n",
            "==================================================\n",
            "Generating recipe for: down home chicken   noodles\n",
            "==================================================\n"
          ]
        },
        {
          "output_type": "stream",
          "name": "stderr",
          "text": [
            "\r 10%|█         | 51/500 [11:53<1:47:13, 14.33s/it]"
          ]
        },
        {
          "output_type": "stream",
          "name": "stdout",
          "text": [
            "boneless skinless chicken breast, cream of chicken soup, chicken broth, wide egg noodles, salt and pepper\n",
            "\n",
            "==================================================\n",
            "Generating recipe for: french onion grilled cheese  from the sandwich king\n",
            "==================================================\n"
          ]
        },
        {
          "output_type": "stream",
          "name": "stderr",
          "text": [
            "\r 10%|█         | 52/500 [12:07<1:46:51, 14.31s/it]"
          ]
        },
        {
          "output_type": "stream",
          "name": "stdout",
          "text": [
            "unsalted butter, olive oil, yellow onions, salt and pepper, dry sherry, fresh thyme, american cheese, sourdough bread, butter\n",
            "\n",
            "=== Allergen Substitutions Made ===\n",
            "Replaced 'olive oil' with 'coconut oil'\n",
            "Replaced 'butter' with 'coconut oil'\n",
            "\n",
            "==================================================\n",
            "Generating recipe for: shrimp dish\n",
            "==================================================\n"
          ]
        },
        {
          "output_type": "stream",
          "name": "stderr",
          "text": [
            "\r 11%|█         | 53/500 [12:21<1:45:57, 14.22s/it]"
          ]
        },
        {
          "output_type": "stream",
          "name": "stdout",
          "text": [
            "shrimp, garlic, salt and pepper, lemon juice, mild salsa, hot sauce\n",
            "\n",
            "=== Allergen Substitutions Made ===\n",
            "Replaced 'shrimp' with 'hearts of palm'\n",
            "Replaced 'garlic' with 'coconut oil'\n",
            "\n",
            "==================================================\n",
            "Generating recipe for: spicy sriracha ramen\n",
            "==================================================\n"
          ]
        },
        {
          "output_type": "stream",
          "name": "stderr",
          "text": [
            "\r 11%|█         | 54/500 [12:35<1:45:42, 14.22s/it]"
          ]
        },
        {
          "output_type": "stream",
          "name": "stdout",
          "text": [
            "ramen noodles, egg, gingerroot, vegetable bouillon cube, bean sprouts, soy sauce, sriracha sauce, red pepper flakes, chives\n",
            "\n",
            "==================================================\n",
            "Generating recipe for: honey apple grilled cheese sandwich\n",
            "==================================================\n"
          ]
        },
        {
          "output_type": "stream",
          "name": "stderr",
          "text": [
            "\r 11%|█         | 55/500 [12:50<1:45:12, 14.18s/it]"
          ]
        },
        {
          "output_type": "stream",
          "name": "stdout",
          "text": [
            "roll, muenster cheese, apples, margarine, honey, honey mustard\n",
            "\n",
            "=== Allergen Substitutions Made ===\n",
            "Replaced 'apples' with 'flax eggs'\n",
            "Replaced 'honey' with 'coconut cream'\n",
            "\n",
            "==================================================\n",
            "Generating recipe for: creamy salsa dip and or taco salad dressing\n",
            "==================================================\n"
          ]
        },
        {
          "output_type": "stream",
          "name": "stderr",
          "text": [
            "\r 11%|█         | 56/500 [13:04<1:44:40, 14.15s/it]"
          ]
        },
        {
          "output_type": "stream",
          "name": "stdout",
          "text": [
            "salsa, sour cream\n",
            "\n",
            "==================================================\n",
            "Generating recipe for: bbq cheese stuffed burgers\n",
            "==================================================\n"
          ]
        },
        {
          "output_type": "stream",
          "name": "stderr",
          "text": [
            "\r 11%|█▏        | 57/500 [13:18<1:44:34, 14.16s/it]"
          ]
        },
        {
          "output_type": "stream",
          "name": "stdout",
          "text": [
            "extra lean ground chuck, onion, red pepper, green pepper, fresh garlic, barbecue sauce concentrate, sugar, mccormick's montreal brand steak seasoning, cheese\n",
            "\n",
            "=== Allergen Substitutions Made ===\n",
            "Replaced 'onion' with 'seeds'\n",
            "Replaced 'cheese' with 'nutritional yeast'\n",
            "\n",
            "==================================================\n",
            "Generating recipe for: fried mushrooms\n",
            "==================================================\n"
          ]
        },
        {
          "output_type": "stream",
          "name": "stderr",
          "text": [
            "\r 12%|█▏        | 58/500 [13:29<1:37:58, 13.30s/it]"
          ]
        },
        {
          "output_type": "stream",
          "name": "stdout",
          "text": [
            "fresh mushrooms, egg, dry breadcrumbs, salt and pepper, dried basil, onion, butter\n",
            "\n",
            "=== Allergen Substitutions Made ===\n",
            "Replaced 'egg' with 'flax eggs'\n",
            "\n",
            "==================================================\n",
            "Generating recipe for: irish cream\n",
            "==================================================\n"
          ]
        },
        {
          "output_type": "stream",
          "name": "stderr",
          "text": [
            "\r 12%|█▏        | 59/500 [13:43<1:39:21, 13.52s/it]"
          ]
        },
        {
          "output_type": "stream",
          "name": "stdout",
          "text": [
            "brandy, eggs, chocolate syrup, sweetened condensed milk, instant coffee, vanilla extract, almond extract, coconut extract\n",
            "\n",
            "==================================================\n",
            "Generating recipe for: snowballs in a jar\n",
            "==================================================\n"
          ]
        },
        {
          "output_type": "stream",
          "name": "stderr",
          "text": [
            "\r 12%|█▏        | 60/500 [13:58<1:41:45, 13.88s/it]"
          ]
        },
        {
          "output_type": "stream",
          "name": "stdout",
          "text": [
            "confectioners' sugar, all-purpose flour, pecans\n",
            "\n",
            "==================================================\n",
            "Generating recipe for: raspberry celery seed dressing\n",
            "==================================================\n"
          ]
        },
        {
          "output_type": "stream",
          "name": "stderr",
          "text": [
            "\r 12%|█▏        | 61/500 [14:12<1:41:54, 13.93s/it]"
          ]
        },
        {
          "output_type": "stream",
          "name": "stdout",
          "text": [
            "sugar, dijon mustard, celery seed, salt, garlic cloves, onion, vegetable oil, raspberry vinegar\n",
            "\n",
            "==================================================\n",
            "Generating recipe for: weight watchers spaghetti with meat sauce 5 points\n",
            "==================================================\n"
          ]
        },
        {
          "output_type": "stream",
          "name": "stderr",
          "text": [
            "\r 12%|█▏        | 62/500 [14:26<1:42:08, 13.99s/it]"
          ]
        },
        {
          "output_type": "stream",
          "name": "stdout",
          "text": [
            "olive oil, onion, carrot, garlic cloves, lean ground beef, crushed tomatoes in puree, table salt, red pepper flakes, dried basil, cooked whole wheat spaghetti\n",
            "\n",
            "=== Allergen Substitutions Made ===\n",
            "Replaced 'olive oil' with 'coconut oil'\n",
            "Replaced 'onion' with 'seeds'\n",
            "\n",
            "==================================================\n",
            "Generating recipe for: fudgy orange zucchini cake with orange glaze\n",
            "==================================================\n"
          ]
        },
        {
          "output_type": "stream",
          "name": "stderr",
          "text": [
            "\r 13%|█▎        | 63/500 [14:40<1:42:08, 14.03s/it]"
          ]
        },
        {
          "output_type": "stream",
          "name": "stdout",
          "text": [
            "all-purpose flour, cocoa, baking powder, baking soda, cinnamon, salt, butter, sugar, eggs, vanilla, milk, zucchini, orange zest, nuts, powdered sugar, fresh orange juice\n",
            "\n",
            "=== Allergen Substitutions Made ===\n",
            "Replaced 'salt' with 'coconut yogurt'\n",
            "Replaced 'butter' with 'coconut oil'\n",
            "Replaced 'sugar' with 'coconut yogurt'\n",
            "Replaced 'nuts' with 'seeds'\n",
            "\n",
            "==================================================\n",
            "Generating recipe for: peach and ginger green tea smoothie\n",
            "==================================================\n"
          ]
        },
        {
          "output_type": "stream",
          "name": "stderr",
          "text": [
            "\r 13%|█▎        | 64/500 [14:54<1:42:01, 14.04s/it]"
          ]
        },
        {
          "output_type": "stream",
          "name": "stdout",
          "text": [
            "peach, banana, green tea leaves, ice, ginger, honey\n",
            "\n",
            "=== Allergen Substitutions Made ===\n",
            "Replaced 'peach' with 'flax eggs'\n",
            "Replaced 'banana' with 'flax eggs'\n",
            "Replaced 'ice' with 'hearts of palm'\n",
            "Replaced 'ginger' with 'poppy seeds'\n",
            "Replaced 'honey' with 'coconut cream'\n",
            "\n",
            "==================================================\n",
            "Generating recipe for: diane s roasted pepper salsa\n",
            "==================================================\n"
          ]
        },
        {
          "output_type": "stream",
          "name": "stderr",
          "text": [
            "\r 13%|█▎        | 65/500 [15:08<1:42:05, 14.08s/it]"
          ]
        },
        {
          "output_type": "stream",
          "name": "stdout",
          "text": [
            "tomatoes, onions, bell peppers, cucumbers, lemon juice, lime juice, poblano peppers, jalapeno peppers, garlic, salt, habanero pepper\n",
            "\n",
            "=== Allergen Substitutions Made ===\n",
            "Replaced 'garlic' with 'coconut oil'\n",
            "Replaced 'salt' with 'coconut yogurt'\n",
            "\n",
            "==================================================\n",
            "Generating recipe for: miami margarita\n",
            "==================================================\n"
          ]
        },
        {
          "output_type": "stream",
          "name": "stderr",
          "text": [
            "\r 13%|█▎        | 66/500 [15:23<1:42:11, 14.13s/it]"
          ]
        },
        {
          "output_type": "stream",
          "name": "stdout",
          "text": [
            "tequila, light beer, frozen limeade concentrate, ice cube, kosher salt\n",
            "\n",
            "=== Allergen Substitutions Made ===\n",
            "Replaced 'tequila' with 'poppy seeds'\n",
            "Replaced 'ice cube' with 'hearts of palm'\n",
            "\n",
            "==================================================\n",
            "Generating recipe for: peperonta\n",
            "==================================================\n"
          ]
        },
        {
          "output_type": "stream",
          "name": "stderr",
          "text": [
            "\r 13%|█▎        | 67/500 [15:37<1:42:03, 14.14s/it]"
          ]
        },
        {
          "output_type": "stream",
          "name": "stdout",
          "text": [
            "olive oil, red onion, yellow bell peppers, red bell peppers, zucchini, garlic cloves, water, tomatoes, sea salt, black pepper\n",
            "\n",
            "=== Allergen Substitutions Made ===\n",
            "Replaced 'olive oil' with 'coconut oil'\n",
            "\n",
            "==================================================\n",
            "Generating recipe for: pesto mayo\n",
            "==================================================\n"
          ]
        },
        {
          "output_type": "stream",
          "name": "stderr",
          "text": [
            "\r 14%|█▎        | 68/500 [15:51<1:42:02, 14.17s/it]"
          ]
        },
        {
          "output_type": "stream",
          "name": "stdout",
          "text": [
            "fresh basil, garlic clove, salt and pepper, olive oil, mayonnaise\n",
            "\n",
            "=== Allergen Substitutions Made ===\n",
            "Replaced 'olive oil' with 'coconut oil'\n",
            "\n",
            "==================================================\n",
            "Generating recipe for: julie s pasta sauce\n",
            "==================================================\n"
          ]
        },
        {
          "output_type": "stream",
          "name": "stderr",
          "text": [
            "\r 14%|█▍        | 69/500 [16:05<1:41:47, 14.17s/it]"
          ]
        },
        {
          "output_type": "stream",
          "name": "stdout",
          "text": [
            "olive oil, sweet onion, garlic clove, crushed tomatoes, tomato paste, water, italian seasoning, sugar, burgundy wine, salt & pepper\n",
            "\n",
            "==================================================\n",
            "Generating recipe for: crunchy delicious waffles\n",
            "==================================================\n"
          ]
        },
        {
          "output_type": "stream",
          "name": "stderr",
          "text": [
            "\r 14%|█▍        | 70/500 [16:19<1:41:32, 14.17s/it]"
          ]
        },
        {
          "output_type": "stream",
          "name": "stdout",
          "text": [
            "flour, baking powder, sugar, salt, eggs, unsalted butter, milk\n",
            "\n",
            "==================================================\n",
            "Generating recipe for: cat s meow cocktail\n",
            "==================================================\n"
          ]
        },
        {
          "output_type": "stream",
          "name": "stderr",
          "text": [
            "\r 14%|█▍        | 71/500 [16:27<1:27:04, 12.18s/it]"
          ]
        },
        {
          "output_type": "stream",
          "name": "stdout",
          "text": [
            "kahlua, stolichnaya vodka, whipping cream, ice, chocolate syrup, maraschino cherry\n",
            "\n",
            "=== Allergen Substitutions Made ===\n",
            "Replaced 'ice' with 'hearts of palm'\n",
            "\n",
            "==================================================\n",
            "Generating recipe for: easy blintz souffle\n",
            "==================================================\n"
          ]
        },
        {
          "output_type": "stream",
          "name": "stderr",
          "text": [
            "\r 14%|█▍        | 72/500 [16:41<1:31:13, 12.79s/it]"
          ]
        },
        {
          "output_type": "stream",
          "name": "stdout",
          "text": [
            "cheese blintzes, butter, sour cream, salt, eggs, sugar, vanilla, frozen orange juice\n",
            "\n",
            "==================================================\n",
            "Generating recipe for: deep dish pizza bundle\n",
            "==================================================\n"
          ]
        },
        {
          "output_type": "stream",
          "name": "stderr",
          "text": [
            "\r 15%|█▍        | 73/500 [16:55<1:33:47, 13.18s/it]"
          ]
        },
        {
          "output_type": "stream",
          "name": "stdout",
          "text": [
            "prepared pizza crust, mozzarella cheese, pizza sauce, italian seasoning, pepperoni, parmesan cheese\n",
            "\n",
            "==================================================\n",
            "Generating recipe for: a taste of summer citrus salad\n",
            "==================================================\n"
          ]
        },
        {
          "output_type": "stream",
          "name": "stderr",
          "text": [
            "\r 15%|█▍        | 74/500 [17:08<1:33:10, 13.12s/it]"
          ]
        },
        {
          "output_type": "stream",
          "name": "stdout",
          "text": [
            "navel oranges, red grapefruits, fresh pineapple, seedless grapes, unsweetened orange juice, sugar, fresh spearmint\n",
            "\n",
            "==================================================\n",
            "Generating recipe for: eggnog bavarians\n",
            "==================================================\n"
          ]
        },
        {
          "output_type": "stream",
          "name": "stderr",
          "text": [
            "\r 15%|█▌        | 75/500 [17:22<1:34:46, 13.38s/it]"
          ]
        },
        {
          "output_type": "stream",
          "name": "stdout",
          "text": [
            "eggnog, unflavored gelatin, vanilla, heavy cream\n",
            "\n",
            "==================================================\n",
            "Generating recipe for: richie s stuffed mushrooms\n",
            "==================================================\n"
          ]
        },
        {
          "output_type": "stream",
          "name": "stderr",
          "text": [
            "\r 15%|█▌        | 76/500 [17:36<1:36:13, 13.62s/it]"
          ]
        },
        {
          "output_type": "stream",
          "name": "stdout",
          "text": [
            "mushrooms, olive oil, italian sweet sausage, garlic clove, ricotta cheese, parmesan cheese, mozzarella cheese, egg, seasoned dry bread crumb, fresh parsley, salt and pepper\n",
            "\n",
            "=== Allergen Substitutions Made ===\n",
            "Replaced 'mushrooms' with 'king oyster mushrooms'\n",
            "\n",
            "==================================================\n",
            "Generating recipe for: avocado quick bread\n",
            "==================================================\n"
          ]
        },
        {
          "output_type": "stream",
          "name": "stderr",
          "text": [
            "\r 15%|█▌        | 77/500 [17:50<1:36:57, 13.75s/it]"
          ]
        },
        {
          "output_type": "stream",
          "name": "stdout",
          "text": [
            "all-purpose flour, baking soda, baking powder, salt, ground cinnamon, ground allspice, butter, white sugar, eggs, avocados, buttermilk, pecans, raisins, orange zest\n",
            "\n",
            "=== Allergen Substitutions Made ===\n",
            "Replaced 'butter' with 'coconut oil'\n",
            "\n",
            "==================================================\n",
            "Generating recipe for: tropical spice cupcakes\n",
            "==================================================\n"
          ]
        },
        {
          "output_type": "stream",
          "name": "stderr",
          "text": [
            "\r 16%|█▌        | 78/500 [18:05<1:37:55, 13.92s/it]"
          ]
        },
        {
          "output_type": "stream",
          "name": "stdout",
          "text": [
            "cake flour, baking powder, baking soda, salt, cinnamon, ground ginger, ground nutmeg, ground cloves, butter, brown sugar, sugar, eggs, grand marnier, orange, juice and zest of, coconut milk, buttermilk, coconut, orange juice, cream cheese, confectioners' sugar\n",
            "\n",
            "=== Allergen Substitutions Made ===\n",
            "Replaced 'salt' with 'coconut yogurt'\n",
            "Replaced 'butter' with 'coconut oil'\n",
            "Replaced 'sugar' with 'coconut yogurt'\n",
            "\n",
            "==================================================\n",
            "Generating recipe for: blueberry crisp cupcakes\n",
            "==================================================\n"
          ]
        },
        {
          "output_type": "stream",
          "name": "stderr",
          "text": [
            "\r 16%|█▌        | 79/500 [18:19<1:38:13, 14.00s/it]"
          ]
        },
        {
          "output_type": "stream",
          "name": "stdout",
          "text": [
            "flour, baking powder, salt, sugar, butter, milk, almond extract, egg whites, blueberries, oats, light brown sugar, cinnamon, walnuts\n",
            "\n",
            "=== Allergen Substitutions Made ===\n",
            "Replaced 'flour' with 'almond flour'\n",
            "Replaced 'salt' with 'coconut yogurt'\n",
            "Replaced 'sugar' with 'coconut yogurt'\n",
            "Replaced 'cinnamon' with 'almond flour'\n",
            "\n",
            "==================================================\n",
            "Generating recipe for: microwave plum orange jam\n",
            "==================================================\n"
          ]
        },
        {
          "output_type": "stream",
          "name": "stderr",
          "text": [
            "\r 16%|█▌        | 80/500 [18:33<1:38:16, 14.04s/it]"
          ]
        },
        {
          "output_type": "stream",
          "name": "stdout",
          "text": [
            "blue plums, orange, rind of, sugar, lemon juice, liquid fruit pectin\n",
            "\n",
            "==================================================\n",
            "Generating recipe for: tasty dip\n",
            "==================================================\n"
          ]
        },
        {
          "output_type": "stream",
          "name": "stderr",
          "text": [
            "\r 16%|█▌        | 81/500 [18:47<1:38:09, 14.06s/it]"
          ]
        },
        {
          "output_type": "stream",
          "name": "stdout",
          "text": [
            "cream of chicken soup, cheddar cheese, sour cream, green chilies, ham, round sourdough loaf\n",
            "\n",
            "=== Allergen Substitutions Made ===\n",
            "Replaced 'sour cream' with 'coconut cream'\n",
            "\n",
            "==================================================\n",
            "Generating recipe for: cranberry thanksgiving bread\n",
            "==================================================\n"
          ]
        },
        {
          "output_type": "stream",
          "name": "stderr",
          "text": [
            "\r 16%|█▋        | 82/500 [19:02<1:39:46, 14.32s/it]"
          ]
        },
        {
          "output_type": "stream",
          "name": "stdout",
          "text": [
            "flour, sugar, baking powder, salt, baking soda, butter, egg, orange rind, orange juice, raisins, fresh cranberries\n",
            "\n",
            "=== Allergen Substitutions Made ===\n",
            "Replaced 'flour' with 'almond flour'\n",
            "Replaced 'sugar' with 'coconut yogurt'\n",
            "Replaced 'salt' with 'coconut yogurt'\n",
            "Replaced 'butter' with 'coconut oil'\n",
            "Replaced 'egg' with 'flax eggs'\n",
            "\n",
            "==================================================\n",
            "Generating recipe for: dishwasher detergent\n",
            "==================================================\n"
          ]
        },
        {
          "output_type": "stream",
          "name": "stderr",
          "text": [
            "\r 17%|█▋        | 83/500 [19:16<1:38:45, 14.21s/it]"
          ]
        },
        {
          "output_type": "stream",
          "name": "stdout",
          "text": [
            "cleaner, baking soda, lemons\n",
            "\n",
            "=== Allergen Substitutions Made ===\n",
            "Replaced 'baking soda' with 'oat milk'\n",
            "\n",
            "==================================================\n",
            "Generating recipe for: fruit salad  ww\n",
            "==================================================\n"
          ]
        },
        {
          "output_type": "stream",
          "name": "stderr",
          "text": [
            "\r 17%|█▋        | 84/500 [19:30<1:38:18, 14.18s/it]"
          ]
        },
        {
          "output_type": "stream",
          "name": "stdout",
          "text": [
            "lime juice, water, orange juice, sugar, honey, ginger, lime zest, orange zest, pineapple, mangoes, blueberries, kiwi fruits\n",
            "\n",
            "=== Allergen Substitutions Made ===\n",
            "Replaced 'water' with 'flax eggs'\n",
            "Replaced 'sugar' with 'coconut yogurt'\n",
            "Replaced 'pineapple' with 'coconut yogurt'\n",
            "\n",
            "==================================================\n",
            "Generating recipe for: szechuan beef or deer\n",
            "==================================================\n"
          ]
        },
        {
          "output_type": "stream",
          "name": "stderr",
          "text": [
            "\r 17%|█▋        | 85/500 [19:44<1:38:11, 14.20s/it]"
          ]
        },
        {
          "output_type": "stream",
          "name": "stdout",
          "text": [
            "sirloin steak, gingerroot, garlic, chinese five spice powder, tabasco sauce, soy sauce, sherry wine, vegetable oil, carrots, celery, green onions, cornstarch, cold water\n",
            "\n",
            "=== Allergen Substitutions Made ===\n",
            "Replaced 'soy sauce' with 'coconut aminos'\n",
            "\n",
            "==================================================\n",
            "Generating recipe for: coleslaw with peanuts and raisins\n",
            "==================================================\n"
          ]
        },
        {
          "output_type": "stream",
          "name": "stderr",
          "text": [
            "\r 17%|█▋        | 86/500 [19:59<1:38:04, 14.21s/it]"
          ]
        },
        {
          "output_type": "stream",
          "name": "stdout",
          "text": [
            "white wine vinegar, granulated sugar, mayonnaise, celery seed, prepared horseradish, sea salt, fresh ground black pepper, green cabbage, red cabbage, carrot, golden raisin, salted peanuts, hard-boiled eggs, fresh chives\n",
            "\n",
            "==================================================\n",
            "Generating recipe for: potato tomato coconut masala\n",
            "==================================================\n"
          ]
        },
        {
          "output_type": "stream",
          "name": "stderr",
          "text": [
            "\r 17%|█▋        | 87/500 [20:13<1:37:50, 14.21s/it]"
          ]
        },
        {
          "output_type": "stream",
          "name": "stdout",
          "text": [
            "boiling potatoes, vegetable oil, garlic cloves, dried hot red chili pepper, cumin seed, coconut, ground turmeric, ground cumin, tomatoes, salt, sugar, red wine vinegar\n",
            "\n",
            "==================================================\n",
            "Generating recipe for: east indian inspired potatoes with mint\n",
            "==================================================\n"
          ]
        },
        {
          "output_type": "stream",
          "name": "stderr",
          "text": [
            "\r 18%|█▊        | 88/500 [20:27<1:37:26, 14.19s/it]"
          ]
        },
        {
          "output_type": "stream",
          "name": "stdout",
          "text": [
            "raisins, russet potatoes, olive oil, red onion, green chili peppers, fresh ginger, turmeric, garlic cloves, fennel seeds, cumin seeds, lemon juice, ground black pepper, salt, fresh spearmint, lemon wedge, spearmint, fresh cilantro\n",
            "\n",
            "=== Allergen Substitutions Made ===\n",
            "Replaced 'salt' with 'coconut yogurt'\n",
            "\n",
            "==================================================\n",
            "Generating recipe for: sweet   savoury cheese cookies\n",
            "==================================================\n"
          ]
        },
        {
          "output_type": "stream",
          "name": "stderr",
          "text": [
            "\r 18%|█▊        | 89/500 [20:41<1:37:16, 14.20s/it]"
          ]
        },
        {
          "output_type": "stream",
          "name": "stdout",
          "text": [
            "flour, baking powder, salt, cheddar cheese, butter, apricot jam\n",
            "\n",
            "=== Allergen Substitutions Made ===\n",
            "Replaced 'flour' with 'almond flour'\n",
            "Replaced 'salt' with 'coconut yogurt'\n",
            "\n",
            "==================================================\n",
            "Generating recipe for: chickpea salad with roasted cumin\n",
            "==================================================\n"
          ]
        },
        {
          "output_type": "stream",
          "name": "stderr",
          "text": [
            "\r 18%|█▊        | 90/500 [20:55<1:37:07, 14.21s/it]"
          ]
        },
        {
          "output_type": "stream",
          "name": "stdout",
          "text": [
            "cumin, lime juice, olive oil, onion, celery, tomatoes, chickpeas, fresh oregano, salt and pepper\n",
            "\n",
            "=== Allergen Substitutions Made ===\n",
            "Replaced 'olive oil' with 'coconut oil'\n",
            "\n",
            "==================================================\n",
            "Generating recipe for: dessert citrus sauce\n",
            "==================================================\n"
          ]
        },
        {
          "output_type": "stream",
          "name": "stderr",
          "text": [
            "\r 18%|█▊        | 91/500 [21:07<1:31:50, 13.47s/it]"
          ]
        },
        {
          "output_type": "stream",
          "name": "stdout",
          "text": [
            "sugar, cornstarch, water, butter, orange juice, orange peel, lemon juice\n",
            "\n",
            "=== Allergen Substitutions Made ===\n",
            "Replaced 'sugar' with 'coconut yogurt'\n",
            "Replaced 'water' with 'flax eggs'\n",
            "Replaced 'butter' with 'coconut oil'\n",
            "\n",
            "==================================================\n",
            "Generating recipe for: broccoli with two cheese horseradish sauce\n",
            "==================================================\n"
          ]
        },
        {
          "output_type": "stream",
          "name": "stderr",
          "text": [
            "\r 18%|█▊        | 92/500 [21:21<1:33:04, 13.69s/it]"
          ]
        },
        {
          "output_type": "stream",
          "name": "stdout",
          "text": [
            "fresh broccoli, flour, whipping cream, colby-monterey jack cheese, parmesan cheese, prepared horseradish, salt, white pepper\n",
            "\n",
            "=== Allergen Substitutions Made ===\n",
            "Replaced 'whipping cream' with 'coconut cream'\n",
            "Replaced 'salt' with 'coconut yogurt'\n",
            "\n",
            "==================================================\n",
            "Generating recipe for: heavenly chocolate espresso spread\n",
            "==================================================\n"
          ]
        },
        {
          "output_type": "stream",
          "name": "stderr",
          "text": [
            "\r 19%|█▊        | 93/500 [21:36<1:35:43, 14.11s/it]"
          ]
        },
        {
          "output_type": "stream",
          "name": "stdout",
          "text": [
            "cream cheese, unsweetened cocoa powder, instant espresso powder, warm water, powdered sugar, vanilla\n",
            "\n",
            "==================================================\n",
            "Generating recipe for: makeover meringue coconut brownies\n",
            "==================================================\n"
          ]
        },
        {
          "output_type": "stream",
          "name": "stderr",
          "text": [
            "\r 19%|█▉        | 94/500 [21:51<1:35:43, 14.15s/it]"
          ]
        },
        {
          "output_type": "stream",
          "name": "stdout",
          "text": [
            "butter, brown sugar, sugar, vanilla extract, flour, baking soda, salt, skim milk, chocolate chips, flaked coconut, walnuts, egg whites, cream of tartar\n",
            "\n",
            "=== Allergen Substitutions Made ===\n",
            "Replaced 'butter' with 'coconut oil'\n",
            "Replaced 'sugar' with 'coconut yogurt'\n",
            "\n",
            "==================================================\n",
            "Generating recipe for: chocolate macadamia nut brownies\n",
            "==================================================\n"
          ]
        },
        {
          "output_type": "stream",
          "name": "stderr",
          "text": [
            "\r 19%|█▉        | 95/500 [22:05<1:35:31, 14.15s/it]"
          ]
        },
        {
          "output_type": "stream",
          "name": "stdout",
          "text": [
            "butter, semisweet dark chocolate squares, milk chocolate pieces, raw brown sugar, honey, eggs, plain flour, macadamia nuts\n",
            "\n",
            "=== Allergen Substitutions Made ===\n",
            "Replaced 'butter' with 'coconut oil'\n",
            "\n",
            "==================================================\n",
            "Generating recipe for: moroccan spiced pork tenderloin with dried plums\n",
            "==================================================\n"
          ]
        },
        {
          "output_type": "stream",
          "name": "stderr",
          "text": [
            "\r 19%|█▉        | 96/500 [22:19<1:35:16, 14.15s/it]"
          ]
        },
        {
          "output_type": "stream",
          "name": "stdout",
          "text": [
            "cider vinegar, ground cayenne pepper, cumin, cracked black pepper, dried thyme, pork tenderloin, olive oil, onion, shallot, fresh thyme, salt and pepper, dried plum, apple cider\n",
            "\n",
            "=== Allergen Substitutions Made ===\n",
            "Replaced 'olive oil' with 'coconut oil'\n",
            "Replaced 'onion' with 'seeds'\n",
            "\n",
            "==================================================\n",
            "Generating recipe for: mediterranean greek salad  good for travel and good to eat\n",
            "==================================================\n"
          ]
        },
        {
          "output_type": "stream",
          "name": "stderr",
          "text": [
            "\r 19%|█▉        | 97/500 [22:33<1:34:51, 14.12s/it]"
          ]
        },
        {
          "output_type": "stream",
          "name": "stdout",
          "text": [
            "cucumbers, feta cheese, black olives, roma tomatoes, sun-dried tomato packed in oil, red onion\n",
            "\n",
            "==================================================\n",
            "Generating recipe for: salmon bisque\n",
            "==================================================\n"
          ]
        },
        {
          "output_type": "stream",
          "name": "stderr",
          "text": [
            "\r 20%|█▉        | 98/500 [22:47<1:34:38, 14.13s/it]"
          ]
        },
        {
          "output_type": "stream",
          "name": "stdout",
          "text": [
            "salmon steaks, shiitake mushrooms, leek, butter, chicken stock, fresh dill, black pepper, half-and-half cream, cornstarch, dry sherry\n",
            "\n",
            "=== Allergen Substitutions Made ===\n",
            "Replaced 'butter' with 'coconut oil'\n",
            "\n",
            "==================================================\n",
            "Generating recipe for: peach orange marmalade\n",
            "==================================================\n"
          ]
        },
        {
          "output_type": "stream",
          "name": "stderr",
          "text": [
            "\r 20%|█▉        | 99/500 [23:01<1:34:09, 14.09s/it]"
          ]
        },
        {
          "output_type": "stream",
          "name": "stdout",
          "text": [
            "peaches, orange rind, orange sections, lemon juice, sugar\n",
            "\n",
            "=== Allergen Substitutions Made ===\n",
            "Replaced 'peaches' with 'seeds'\n",
            "Replaced 'sugar' with 'coconut yogurt'\n",
            "\n",
            "==================================================\n",
            "Generating recipe for: nikki s healthy but hearty double crusted chicken pot pie\n",
            "==================================================\n"
          ]
        },
        {
          "output_type": "stream",
          "name": "stderr",
          "text": [
            "\r 20%|██        | 100/500 [23:15<1:34:08, 14.12s/it]"
          ]
        },
        {
          "output_type": "stream",
          "name": "stdout",
          "text": [
            "all-purpose flour, cornstarch, salt, chicken bouillon cubes, pepper, nonfat milk, onion, 98% fat-free cream of chicken soup, nonfat sour cream, sweet peas, carrot, potatoes, chicken, refrigerated pie crusts, egg white\n",
            "\n",
            "=== Allergen Substitutions Made ===\n",
            "Replaced 'salt' with 'coconut yogurt'\n",
            "Replaced 'pepper' with 'flax eggs'\n",
            "Replaced 'onion' with 'seeds'\n",
            "Replaced 'carrot' with 'hearts of palm'\n",
            "Replaced 'chicken' with 'coconut aminos'\n",
            "\n",
            "Progress saved to generated_recipes_temp_100.json\n",
            "\n",
            "==================================================\n",
            "Generating recipe for: low carb chocolate angel food cake\n",
            "==================================================\n"
          ]
        },
        {
          "output_type": "stream",
          "name": "stderr",
          "text": [
            "\r 20%|██        | 101/500 [23:30<1:34:03, 14.14s/it]"
          ]
        },
        {
          "output_type": "stream",
          "name": "stdout",
          "text": [
            "eggs, splenda sugar substitute, cream of tartar, sugar-free hot cocoa mix, cocoa powder, chocolate protein powder, soy flour\n",
            "\n",
            "==================================================\n",
            "Generating recipe for: high fiber south beach pancakes\n",
            "==================================================\n"
          ]
        },
        {
          "output_type": "stream",
          "name": "stderr",
          "text": [
            "\r 20%|██        | 102/500 [23:44<1:33:57, 14.16s/it]"
          ]
        },
        {
          "output_type": "stream",
          "name": "stdout",
          "text": [
            "eggs, ground flax seeds, vanilla, cinnamon, baking powder, ricotta cheese, artificial sweetener\n",
            "\n",
            "==================================================\n",
            "Generating recipe for: barbecue cups\n",
            "==================================================\n"
          ]
        },
        {
          "output_type": "stream",
          "name": "stderr",
          "text": [
            "\r 21%|██        | 103/500 [23:58<1:33:35, 14.15s/it]"
          ]
        },
        {
          "output_type": "stream",
          "name": "stdout",
          "text": [
            "lean ground beef, onion, barbecue sauce, brown sugar, biscuit dough, cheddar cheese\n",
            "\n",
            "=== Allergen Substitutions Made ===\n",
            "Replaced 'onion' with 'seeds'\n",
            "Replaced 'cheddar cheese' with 'coconut cream'\n",
            "\n",
            "==================================================\n",
            "Generating recipe for: sweet beet bread\n",
            "==================================================\n"
          ]
        },
        {
          "output_type": "stream",
          "name": "stderr",
          "text": [
            "\r 21%|██        | 104/500 [24:13<1:34:27, 14.31s/it]"
          ]
        },
        {
          "output_type": "stream",
          "name": "stdout",
          "text": [
            "flour, sugar, baking powder, cinnamon, salt, allspice, nutmeg, egg, raw beet, oil, orange juice, applesauce, pecans\n",
            "\n",
            "=== Allergen Substitutions Made ===\n",
            "Replaced 'egg' with 'flax eggs'\n",
            "\n",
            "==================================================\n",
            "Generating recipe for: yellow split pea meatballs\n",
            "==================================================\n"
          ]
        },
        {
          "output_type": "stream",
          "name": "stderr",
          "text": [
            "\r 21%|██        | 105/500 [24:27<1:33:44, 14.24s/it]"
          ]
        },
        {
          "output_type": "stream",
          "name": "stdout",
          "text": [
            "lean ground sirloin, yellow split peas, shallots, cumin, turmeric, coriander, salt, pepper, olive oil\n",
            "\n",
            "=== Allergen Substitutions Made ===\n",
            "Replaced 'salt' with 'coconut yogurt'\n",
            "Replaced 'pepper' with 'flax eggs'\n",
            "Replaced 'olive oil' with 'coconut oil'\n",
            "\n",
            "==================================================\n",
            "Generating recipe for: curried papaya chutney\n",
            "==================================================\n"
          ]
        },
        {
          "output_type": "stream",
          "name": "stderr",
          "text": [
            "\r 21%|██        | 106/500 [24:41<1:33:19, 14.21s/it]"
          ]
        },
        {
          "output_type": "stream",
          "name": "stdout",
          "text": [
            "papayas, white vinegar, water, brown sugar, mustard seeds, salt, garam masala, curry powder, onion\n",
            "\n",
            "==================================================\n",
            "Generating recipe for: black sesame jewel raw smoothie\n",
            "==================================================\n"
          ]
        },
        {
          "output_type": "stream",
          "name": "stderr",
          "text": [
            "\r 21%|██▏       | 107/500 [24:55<1:33:30, 14.28s/it]"
          ]
        },
        {
          "output_type": "stream",
          "name": "stdout",
          "text": [
            "raw black sesame tahini, raw cashews, pitted dates, vanilla, water, ice\n",
            "\n",
            "=== Allergen Substitutions Made ===\n",
            "Replaced 'ice' with 'hearts of palm'\n",
            "\n",
            "==================================================\n",
            "Generating recipe for: my most favorite brownies\n",
            "==================================================\n"
          ]
        },
        {
          "output_type": "stream",
          "name": "stderr",
          "text": [
            "\r 22%|██▏       | 108/500 [25:10<1:33:21, 14.29s/it]"
          ]
        },
        {
          "output_type": "stream",
          "name": "stdout",
          "text": [
            "flour, salt, unsalted margarine, semisweet chocolate, sugar, extra large eggs, vanilla extract, semi-sweet chocolate chips, white chocolate chips\n",
            "\n",
            "==================================================\n",
            "Generating recipe for: chicken oporto\n",
            "==================================================\n"
          ]
        },
        {
          "output_type": "stream",
          "name": "stderr",
          "text": [
            "\r 22%|██▏       | 109/500 [25:24<1:32:59, 14.27s/it]"
          ]
        },
        {
          "output_type": "stream",
          "name": "stdout",
          "text": [
            "butter, fresh mushrooms, flour, salt, pepper, ground nutmeg, whole boneless skinless chicken breasts, heavy cream, white port\n",
            "\n",
            "=== Allergen Substitutions Made ===\n",
            "Replaced 'butter' with 'coconut oil'\n",
            "Replaced 'flour' with 'almond flour'\n",
            "Replaced 'salt' with 'coconut yogurt'\n",
            "Replaced 'pepper' with 'flax eggs'\n",
            "\n",
            "==================================================\n",
            "Generating recipe for: soft hot pretzels\n",
            "==================================================\n"
          ]
        },
        {
          "output_type": "stream",
          "name": "stderr",
          "text": [
            "\r 22%|██▏       | 110/500 [25:38<1:32:44, 14.27s/it]"
          ]
        },
        {
          "output_type": "stream",
          "name": "stdout",
          "text": [
            "active dry yeast, sugar, warm water, all-purpose flour, salt, vegetable oil, instant malted milk powder, water, baking soda, kosher salt, sesame seeds\n",
            "\n",
            "==================================================\n",
            "Generating recipe for: creamy spaghetti and ham bake\n",
            "==================================================\n"
          ]
        },
        {
          "output_type": "stream",
          "name": "stderr",
          "text": [
            "\r 22%|██▏       | 111/500 [25:52<1:32:11, 14.22s/it]"
          ]
        },
        {
          "output_type": "stream",
          "name": "stdout",
          "text": [
            "spaghetti, oil, butter, mushrooms, green onions, ham, flour, chicken broth, milk, parmesan cheese, cheddar cheese\n",
            "\n",
            "=== Allergen Substitutions Made ===\n",
            "Replaced 'oil' with 'coconut oil'\n",
            "\n",
            "==================================================\n",
            "Generating recipe for: double decker fish tacos\n",
            "==================================================\n"
          ]
        },
        {
          "output_type": "stream",
          "name": "stderr",
          "text": [
            "\r 22%|██▏       | 112/500 [26:06<1:31:56, 14.22s/it]"
          ]
        },
        {
          "output_type": "stream",
          "name": "stdout",
          "text": [
            "plain yogurt, mayonnaise, lime juice, jalapeno peppers, capers, dried oregano, ground cumin, dried dill weed, ground cayenne pepper, fish fillets, olive oil, black beans, flour tortillas, taco shells, carrots, diced tomato, cucumber, limes\n",
            "\n",
            "==================================================\n",
            "Generating recipe for: freezer pumpkin pie with gingersnap crumb crust\n",
            "==================================================\n"
          ]
        },
        {
          "output_type": "stream",
          "name": "stderr",
          "text": [
            "\r 23%|██▎       | 113/500 [26:21<1:31:38, 14.21s/it]"
          ]
        },
        {
          "output_type": "stream",
          "name": "stdout",
          "text": [
            "gingersnap crumbs, powdered sugar, butter, canned pumpkin puree, brown sugar, salt, cinnamon, nutmeg, clove, vanilla ice cream, whipped cream\n",
            "\n",
            "==================================================\n",
            "Generating recipe for: whipped sweet potato and toasted walnut casserole\n",
            "==================================================\n"
          ]
        },
        {
          "output_type": "stream",
          "name": "stderr",
          "text": [
            "\r 23%|██▎       | 114/500 [26:34<1:30:12, 14.02s/it]"
          ]
        },
        {
          "output_type": "stream",
          "name": "stdout",
          "text": [
            "sweet potatoes, sweetened condensed milk, brown sugar, ground cinnamon, black walnut, marshmallows\n",
            "\n",
            "==================================================\n",
            "Generating recipe for: greek orzo pasta salad with spinach\n",
            "==================================================\n"
          ]
        },
        {
          "output_type": "stream",
          "name": "stderr",
          "text": [
            "\r 23%|██▎       | 115/500 [26:49<1:31:01, 14.19s/it]"
          ]
        },
        {
          "output_type": "stream",
          "name": "stdout",
          "text": [
            "orzo pasta, chicken bouillon cube, water, cilantro, roasted red pepper, feta cheese, kalamata olives, brine, red onion, fresh spinach, pignoli nut, fresh lemon juice, light caesar salad dressing, garlic clove, salt and pepper\n",
            "\n",
            "=== Allergen Substitutions Made ===\n",
            "Replaced 'orzo pasta' with 'coconut aminos'\n",
            "Replaced 'feta cheese' with 'nutritional yeast'\n",
            "Replaced 'garlic clove' with 'coconut oil'\n",
            "\n",
            "==================================================\n",
            "Generating recipe for: cilantro garlic lime rice\n",
            "==================================================\n"
          ]
        },
        {
          "output_type": "stream",
          "name": "stderr",
          "text": [
            "\r 23%|██▎       | 116/500 [27:03<1:30:21, 14.12s/it]"
          ]
        },
        {
          "output_type": "stream",
          "name": "stdout",
          "text": [
            "minute rice, chicken broth, limeade, garlic, dried cilantro\n",
            "\n",
            "=== Allergen Substitutions Made ===\n",
            "Replaced 'garlic' with 'coconut oil'\n",
            "\n",
            "==================================================\n",
            "Generating recipe for: chicken with figs and lemon  crock pot\n",
            "==================================================\n"
          ]
        },
        {
          "output_type": "stream",
          "name": "stderr",
          "text": [
            "\r 23%|██▎       | 117/500 [27:17<1:30:04, 14.11s/it]"
          ]
        },
        {
          "output_type": "stream",
          "name": "stdout",
          "text": [
            "chicken thighs, chicken broth, lemon rind, fresh lemon juice, alfredo sauce, dijon mustard, garlic cloves, onion, dried calimyrna fig\n",
            "\n",
            "=== Allergen Substitutions Made ===\n",
            "Replaced 'onion' with 'seeds'\n",
            "\n",
            "==================================================\n",
            "Generating recipe for: easy deep dish pizza\n",
            "==================================================\n"
          ]
        },
        {
          "output_type": "stream",
          "name": "stderr",
          "text": [
            "\r 24%|██▎       | 118/500 [27:31<1:29:52, 14.12s/it]"
          ]
        },
        {
          "output_type": "stream",
          "name": "stdout",
          "text": [
            "sausage, onion, jiffy baking mix, water, pasta sauce with mushrooms, cheddar cheese, mozzarella cheese\n",
            "\n",
            "=== Allergen Substitutions Made ===\n",
            "Replaced 'sausage' with 'nutritional yeast'\n",
            "Replaced 'onion' with 'seeds'\n",
            "Replaced 'water' with 'flax eggs'\n",
            "\n",
            "==================================================\n",
            "Generating recipe for: bloody mary ala ina garten\n",
            "==================================================\n"
          ]
        },
        {
          "output_type": "stream",
          "name": "stderr",
          "text": [
            "\r 24%|██▍       | 119/500 [27:42<1:23:24, 13.13s/it]"
          ]
        },
        {
          "output_type": "stream",
          "name": "stdout",
          "text": [
            "celery ribs, tomato juice, prepared horseradish, yellow onion, lemon, juice of, worcestershire sauce, celery salt, kosher salt, tabasco sauce, vodka\n",
            "\n",
            "==================================================\n",
            "Generating recipe for: mother and child reunion\n",
            "==================================================\n"
          ]
        },
        {
          "output_type": "stream",
          "name": "stderr",
          "text": [
            "\r 24%|██▍       | 120/500 [27:56<1:25:10, 13.45s/it]"
          ]
        },
        {
          "output_type": "stream",
          "name": "stdout",
          "text": [
            "oil, boneless skinless chicken breast halves, ranch dressing, italian breadcrumbs, butter, eggs, bacon, american cheese, rolls\n",
            "\n",
            "=== Allergen Substitutions Made ===\n",
            "Replaced 'oil' with 'coconut oil'\n",
            "Replaced 'butter' with 'coconut oil'\n",
            "\n",
            "==================================================\n",
            "Generating recipe for: chris  burgers\n",
            "==================================================\n"
          ]
        },
        {
          "output_type": "stream",
          "name": "stderr",
          "text": [
            "\r 24%|██▍       | 121/500 [28:10<1:26:17, 13.66s/it]"
          ]
        },
        {
          "output_type": "stream",
          "name": "stdout",
          "text": [
            "ground beef, garlic cloves, extra virgin olive oil, salt, fresh ground black pepper, dried basil\n",
            "\n",
            "==================================================\n",
            "Generating recipe for: deviled shrimp\n",
            "==================================================\n"
          ]
        },
        {
          "output_type": "stream",
          "name": "stderr",
          "text": [
            "\r 24%|██▍       | 122/500 [28:24<1:27:07, 13.83s/it]"
          ]
        },
        {
          "output_type": "stream",
          "name": "stdout",
          "text": [
            "large shrimp, lemon, red onion, chopped pimiento, olive oil, garlic cloves, dry mustard, salt, lemon juice, red wine vinegar, bay leaf, cayenne pepper, parsley\n",
            "\n",
            "=== Allergen Substitutions Made ===\n",
            "Replaced 'lemon' with 'coconut cream'\n",
            "\n",
            "==================================================\n",
            "Generating recipe for: minute garlic breadsticks\n",
            "==================================================\n"
          ]
        },
        {
          "output_type": "stream",
          "name": "stderr",
          "text": [
            "\r 25%|██▍       | 123/500 [28:38<1:27:19, 13.90s/it]"
          ]
        },
        {
          "output_type": "stream",
          "name": "stdout",
          "text": [
            "hot dog buns, butter, garlic powder, garlic salt\n",
            "\n",
            "=== Allergen Substitutions Made ===\n",
            "Replaced 'butter' with 'coconut oil'\n",
            "\n",
            "==================================================\n",
            "Generating recipe for: lactose free  indian curry\n",
            "==================================================\n"
          ]
        },
        {
          "output_type": "stream",
          "name": "stderr",
          "text": [
            "\r 25%|██▍       | 124/500 [28:53<1:27:31, 13.97s/it]"
          ]
        },
        {
          "output_type": "stream",
          "name": "stdout",
          "text": [
            "olive oil, chicken drumsticks, soy yogurt, whole allspice, gingerroot, curry, red pepper flakes, cumin, water, cornstarch\n",
            "\n",
            "=== Allergen Substitutions Made ===\n",
            "Replaced 'olive oil' with 'coconut oil'\n",
            "\n",
            "==================================================\n",
            "Generating recipe for: beefy stew\n",
            "==================================================\n"
          ]
        },
        {
          "output_type": "stream",
          "name": "stderr",
          "text": [
            "\r 25%|██▌       | 125/500 [29:07<1:28:10, 14.11s/it]"
          ]
        },
        {
          "output_type": "stream",
          "name": "stdout",
          "text": [
            "cube steaks, salt & freshly ground black pepper, flour, vegetable oil, reduced-sodium beef broth, vegetable soup, frozen puff pastry\n",
            "\n",
            "==================================================\n",
            "Generating recipe for: gluten free soft pretzel\n",
            "==================================================\n"
          ]
        },
        {
          "output_type": "stream",
          "name": "stderr",
          "text": [
            "\r 25%|██▌       | 126/500 [29:21<1:28:42, 14.23s/it]"
          ]
        },
        {
          "output_type": "stream",
          "name": "stdout",
          "text": [
            "active dry yeast, warm water, brown sugar, gluten-free flour, baking soda, coarse salt\n",
            "\n",
            "==================================================\n",
            "Generating recipe for: lemon ice box pie  frozen   cracker barrel copycat\n",
            "==================================================\n"
          ]
        },
        {
          "output_type": "stream",
          "name": "stderr",
          "text": [
            "\r 25%|██▌       | 127/500 [29:36<1:28:17, 14.20s/it]"
          ]
        },
        {
          "output_type": "stream",
          "name": "stdout",
          "text": [
            "graham cracker crust, sweetened condensed milk, lemon juice, yellow food coloring, whipped topping, vanilla wafer cookie\n",
            "\n",
            "==================================================\n",
            "Generating recipe for: chicken sandwiches with lemon mayonnaise\n",
            "==================================================\n"
          ]
        },
        {
          "output_type": "stream",
          "name": "stderr",
          "text": [
            "\r 26%|██▌       | 128/500 [29:42<1:12:42, 11.73s/it]"
          ]
        },
        {
          "output_type": "stream",
          "name": "stdout",
          "text": [
            "light mayonnaise, fresh lemon juice, lemon zest, capers, focaccia rolls, cucumbers, lettuce, cherry tomatoes, carrots, red onion, chicken breast fillet, dijon mustard, salt and pepper\n",
            "\n",
            "==================================================\n",
            "Generating recipe for: grilled chicken caesar on a skewer   family pleaser\n",
            "==================================================\n"
          ]
        },
        {
          "output_type": "stream",
          "name": "stderr",
          "text": [
            "\r 26%|██▌       | 129/500 [29:56<1:16:57, 12.45s/it]"
          ]
        },
        {
          "output_type": "stream",
          "name": "stdout",
          "text": [
            "boneless skinless chicken breast, caesar salad dressing, country bread, garlic-flavored olive oil, romaine lettuce, cracked pepper, parmesan cheese, skewers\n",
            "\n",
            "==================================================\n",
            "Generating recipe for: melon and green grape salad\n",
            "==================================================\n"
          ]
        },
        {
          "output_type": "stream",
          "name": "stderr",
          "text": [
            "\r 26%|██▌       | 130/500 [30:10<1:19:51, 12.95s/it]"
          ]
        },
        {
          "output_type": "stream",
          "name": "stdout",
          "text": [
            "cantaloupe, honeydew melon, watermelon, green seedless grape, fresh mint leaves, lime, juice of, honey, red leaf lettuce, mint sprig\n",
            "\n",
            "=== Allergen Substitutions Made ===\n",
            "Replaced 'honey' with 'coconut cream'\n",
            "\n",
            "==================================================\n",
            "Generating recipe for: chicken bryan  like carrabba s\n",
            "==================================================\n"
          ]
        },
        {
          "output_type": "stream",
          "name": "stderr",
          "text": [
            "\r 26%|██▌       | 131/500 [30:24<1:21:45, 13.29s/it]"
          ]
        },
        {
          "output_type": "stream",
          "name": "stdout",
          "text": [
            "garlic, yellow onion, butter, dry white wine, lemon juice, sun-dried tomatoes, fresh basil, kosher salt, white pepper, boneless skinless chicken breast halves, extra virgin olive oil, salt, black pepper, caprino cheese\n",
            "\n",
            "==================================================\n",
            "Generating recipe for: whipped minted yoghurt\n",
            "==================================================\n"
          ]
        },
        {
          "output_type": "stream",
          "name": "stderr",
          "text": [
            "\r 26%|██▋       | 132/500 [30:38<1:22:55, 13.52s/it]"
          ]
        },
        {
          "output_type": "stream",
          "name": "stdout",
          "text": [
            "sugar, fresh mint leaves, water, yoghurt, cream\n",
            "\n",
            "=== Allergen Substitutions Made ===\n",
            "Replaced 'sugar' with 'coconut yogurt'\n",
            "Replaced 'water' with 'flax eggs'\n",
            "Replaced 'cream' with 'coconut cream'\n",
            "\n",
            "==================================================\n",
            "Generating recipe for: greek mushroom rissoni\n",
            "==================================================\n"
          ]
        },
        {
          "output_type": "stream",
          "name": "stderr",
          "text": [
            "\r 27%|██▋       | 133/500 [30:52<1:23:48, 13.70s/it]"
          ]
        },
        {
          "output_type": "stream",
          "name": "stdout",
          "text": [
            "water, orzo pasta, olive oil, tomatoes, chicken broth, mushroom, reduced-fat feta cheese\n",
            "\n",
            "=== Allergen Substitutions Made ===\n",
            "Replaced 'olive oil' with 'coconut oil'\n",
            "Replaced 'tomatoes' with 'coconut aminos'\n",
            "Replaced 'mushroom' with 'king oyster mushrooms'\n",
            "\n",
            "==================================================\n",
            "Generating recipe for: baked chicken with a twist\n",
            "==================================================\n"
          ]
        },
        {
          "output_type": "stream",
          "name": "stderr",
          "text": [
            "\r 27%|██▋       | 134/500 [31:06<1:24:23, 13.84s/it]"
          ]
        },
        {
          "output_type": "stream",
          "name": "stdout",
          "text": [
            "chicken legs, bacon, cream of chicken soup, cream of mushroom soup, sour cream, corkscrew macaroni\n",
            "\n",
            "=== Allergen Substitutions Made ===\n",
            "Replaced 'bacon' with 'oat milk'\n",
            "\n",
            "==================================================\n",
            "Generating recipe for: red beans   sausage jambalaya\n",
            "==================================================\n"
          ]
        },
        {
          "output_type": "stream",
          "name": "stderr",
          "text": [
            "\r 27%|██▋       | 135/500 [31:21<1:24:58, 13.97s/it]"
          ]
        },
        {
          "output_type": "stream",
          "name": "stdout",
          "text": [
            "cooking spray, smoked sausage, onion, celery, garlic, canned tomatoes, red beans, cajun seasoning, ground paprika, cooked brown rice\n",
            "\n",
            "=== Allergen Substitutions Made ===\n",
            "Replaced 'onion' with 'seeds'\n",
            "Replaced 'garlic' with 'coconut oil'\n",
            "\n",
            "==================================================\n",
            "Generating recipe for: jane and michael stern s broccoli casserole\n",
            "==================================================\n"
          ]
        },
        {
          "output_type": "stream",
          "name": "stderr",
          "text": [
            "\r 27%|██▋       | 136/500 [31:35<1:25:07, 14.03s/it]"
          ]
        },
        {
          "output_type": "stream",
          "name": "stdout",
          "text": [
            "white bread, eggs, milk, butter, cheddar cheese, salt, sugar, broccoli\n",
            "\n",
            "=== Allergen Substitutions Made ===\n",
            "Replaced 'salt' with 'coconut yogurt'\n",
            "Replaced 'broccoli' with 'almond flour'\n",
            "\n",
            "==================================================\n",
            "Generating recipe for: citrus zest dessert bars\n",
            "==================================================\n"
          ]
        },
        {
          "output_type": "stream",
          "name": "stderr",
          "text": [
            "\r 27%|██▋       | 137/500 [31:50<1:27:47, 14.51s/it]"
          ]
        },
        {
          "output_type": "stream",
          "name": "stdout",
          "text": [
            "all-purpose flour, cornstarch, butter, sugar, raspberry jam, eggs, egg yolks, salt, sweetened condensed milk, orange juice, lemon juice, orange zest, lemon zest, orange peel\n",
            "\n",
            "=== Allergen Substitutions Made ===\n",
            "Replaced 'salt' with 'coconut yogurt'\n",
            "\n",
            "==================================================\n",
            "Generating recipe for: cucumber sandwich filling\n",
            "==================================================\n"
          ]
        },
        {
          "output_type": "stream",
          "name": "stderr",
          "text": [
            "\r 28%|██▊       | 138/500 [32:05<1:26:57, 14.41s/it]"
          ]
        },
        {
          "output_type": "stream",
          "name": "stdout",
          "text": [
            "cream cheese, mayonnaise, cucumber, fresh dill weed, garlic salt\n",
            "\n",
            "=== Allergen Substitutions Made ===\n",
            "Replaced 'cream cheese' with 'coconut cream'\n",
            "\n",
            "==================================================\n",
            "Generating recipe for: rigatoni with red pepper  almonds and bread crumbs\n",
            "==================================================\n"
          ]
        },
        {
          "output_type": "stream",
          "name": "stderr",
          "text": [
            "\r 28%|██▊       | 139/500 [32:19<1:26:19, 14.35s/it]"
          ]
        },
        {
          "output_type": "stream",
          "name": "stdout",
          "text": [
            "rigatoni pasta, garlic-flavored croutons, slivered almonds, roasted red pepper, extra virgin olive oil, italian seasoning, fresh parsley\n",
            "\n",
            "==================================================\n",
            "Generating recipe for: bbq cheeseburger bake\n",
            "==================================================\n"
          ]
        },
        {
          "output_type": "stream",
          "name": "stderr",
          "text": [
            "\r 28%|██▊       | 140/500 [32:33<1:25:43, 14.29s/it]"
          ]
        },
        {
          "output_type": "stream",
          "name": "stdout",
          "text": [
            "ground chuck, tomato sauce, ketchup, brown sugar, mustard, american cheese, refrigerated biscuits\n",
            "\n",
            "==================================================\n",
            "Generating recipe for: hot pineapple casserole\n",
            "==================================================\n"
          ]
        },
        {
          "output_type": "stream",
          "name": "stderr",
          "text": [
            "\r 28%|██▊       | 141/500 [32:47<1:25:15, 14.25s/it]"
          ]
        },
        {
          "output_type": "stream",
          "name": "stdout",
          "text": [
            "pineapple, cheddar cheese, sugar, flour, ritz crackers, butter\n",
            "\n",
            "=== Allergen Substitutions Made ===\n",
            "Replaced 'pineapple' with 'coconut yogurt'\n",
            "Replaced 'sugar' with 'coconut yogurt'\n",
            "Replaced 'butter' with 'coconut oil'\n",
            "\n",
            "==================================================\n",
            "Generating recipe for: chili s guiltless grill chicken sandwiches by todd wilbur\n",
            "==================================================\n"
          ]
        },
        {
          "output_type": "stream",
          "name": "stderr",
          "text": [
            "\r 28%|██▊       | 142/500 [33:01<1:25:03, 14.26s/it]"
          ]
        },
        {
          "output_type": "stream",
          "name": "stdout",
          "text": [
            "water, pineapple juice, soy sauce, salt, liquid smoke, onion powder, garlic powder, grey poupon dijon mustard, honey, fat-free mayonnaise, vinegar, chicken breast fillets, whole wheat hamburger buns, lettuce, tomatoes\n",
            "\n",
            "=== Allergen Substitutions Made ===\n",
            "Replaced 'water' with 'flax eggs'\n",
            "Replaced 'salt' with 'coconut yogurt'\n",
            "\n",
            "==================================================\n",
            "Generating recipe for: my famous cream cheese frosting\n",
            "==================================================\n"
          ]
        },
        {
          "output_type": "stream",
          "name": "stderr",
          "text": [
            "\r 29%|██▊       | 143/500 [33:15<1:24:26, 14.19s/it]"
          ]
        },
        {
          "output_type": "stream",
          "name": "stdout",
          "text": [
            "cream cheese, butter, vanilla extract, icing sugar\n",
            "\n",
            "=== Allergen Substitutions Made ===\n",
            "Replaced 'cream cheese' with 'coconut cream'\n",
            "Replaced 'butter' with 'coconut oil'\n",
            "Replaced 'vanilla extract' with 'coconut cream'\n",
            "Replaced 'icing sugar' with 'xanthan gum'\n",
            "\n",
            "==================================================\n",
            "Generating recipe for: lemon chicken skewers\n",
            "==================================================\n"
          ]
        },
        {
          "output_type": "stream",
          "name": "stderr",
          "text": [
            "\r 29%|██▉       | 144/500 [33:29<1:24:11, 14.19s/it]"
          ]
        },
        {
          "output_type": "stream",
          "name": "stdout",
          "text": [
            "olive oil, fresh lemon juice, garlic cloves, dried thyme, salt, pepper, boneless skinless chicken breast, green bell pepper\n",
            "\n",
            "=== Allergen Substitutions Made ===\n",
            "Replaced 'olive oil' with 'coconut oil'\n",
            "Replaced 'salt' with 'coconut yogurt'\n",
            "Replaced 'pepper' with 'flax eggs'\n",
            "\n",
            "==================================================\n",
            "Generating recipe for: lemon drop shooter\n",
            "==================================================\n"
          ]
        },
        {
          "output_type": "stream",
          "name": "stderr",
          "text": [
            "\r 29%|██▉       | 145/500 [33:44<1:24:00, 14.20s/it]"
          ]
        },
        {
          "output_type": "stream",
          "name": "stdout",
          "text": [
            "absolut citron vodka, lemon, sugar\n",
            "\n",
            "=== Allergen Substitutions Made ===\n",
            "Replaced 'lemon' with 'coconut cream'\n",
            "Replaced 'sugar' with 'coconut yogurt'\n",
            "\n",
            "==================================================\n",
            "Generating recipe for: cuban black bean patties with pineapple rice\n",
            "==================================================\n"
          ]
        },
        {
          "output_type": "stream",
          "name": "stderr",
          "text": [
            "\r 29%|██▉       | 146/500 [33:58<1:23:54, 14.22s/it]"
          ]
        },
        {
          "output_type": "stream",
          "name": "stdout",
          "text": [
            "long-grain rice, butter, fresh pineapple, fresh cilantro, salt, canned black beans, garlic, ground cumin, egg white, monterey jack pepper cheese, red onion, cornmeal, cooking spray, reduced-fat sour cream\n",
            "\n",
            "=== Allergen Substitutions Made ===\n",
            "Replaced 'butter' with 'coconut oil'\n",
            "Replaced 'salt' with 'coconut yogurt'\n",
            "\n",
            "==================================================\n",
            "Generating recipe for: scallops with spicy tomatoes and fettuccine\n",
            "==================================================\n"
          ]
        },
        {
          "output_type": "stream",
          "name": "stderr",
          "text": [
            "\r 29%|██▉       | 147/500 [34:13<1:24:36, 14.38s/it]"
          ]
        },
        {
          "output_type": "stream",
          "name": "stdout",
          "text": [
            "sea scallops, olive oil, scallions, garlic, fresh tomatoes, red wine, red wine vinegar, parsley, fresh basil, salt, fresh ground pepper, fettuccine, parmesan cheese\n",
            "\n",
            "=== Allergen Substitutions Made ===\n",
            "Replaced 'olive oil' with 'coconut oil'\n",
            "Replaced 'garlic' with 'coconut oil'\n",
            "\n",
            "==================================================\n",
            "Generating recipe for: cake mix chocolate pumpkin cake\n",
            "==================================================\n"
          ]
        },
        {
          "output_type": "stream",
          "name": "stderr",
          "text": [
            "\r 30%|██▉       | 148/500 [34:27<1:24:03, 14.33s/it]"
          ]
        },
        {
          "output_type": "stream",
          "name": "stdout",
          "text": [
            "vegetable oil, german chocolate cake mix, pumpkin, eggs, ground cinnamon, ground nutmeg, cinnamon baking chips, pecans, cream cheese, butter, unsweetened cocoa powder, pure vanilla extract, confectioners' sugar\n",
            "\n",
            "=== Allergen Substitutions Made ===\n",
            "Replaced 'butter' with 'coconut oil'\n",
            "\n",
            "==================================================\n",
            "Generating recipe for: lamb chops with spicy peanut sauce\n",
            "==================================================\n"
          ]
        },
        {
          "output_type": "stream",
          "name": "stderr",
          "text": [
            "\r 30%|██▉       | 149/500 [34:41<1:23:38, 14.30s/it]"
          ]
        },
        {
          "output_type": "stream",
          "name": "stdout",
          "text": [
            "peanut sauce, soy sauce, fresh lime juice, fresh ginger, lamb loin chops\n",
            "\n",
            "=== Allergen Substitutions Made ===\n",
            "Replaced 'peanut sauce' with 'coconut aminos'\n",
            "\n",
            "==================================================\n",
            "Generating recipe for: sausage   peppers  street fair style\n",
            "==================================================\n"
          ]
        },
        {
          "output_type": "stream",
          "name": "stderr",
          "text": [
            "\r 30%|███       | 150/500 [34:55<1:23:12, 14.26s/it]"
          ]
        },
        {
          "output_type": "stream",
          "name": "stdout",
          "text": [
            "italian sausage, bell peppers, crushed tomatoes, garlic, salt, pepper, oregano, oil\n",
            "\n",
            "=== Allergen Substitutions Made ===\n",
            "Replaced 'garlic' with 'coconut oil'\n",
            "Replaced 'pepper' with 'flax eggs'\n",
            "Replaced 'oil' with 'coconut oil'\n",
            "\n",
            "Progress saved to generated_recipes_temp_150.json\n",
            "\n",
            "==================================================\n",
            "Generating recipe for: tantalizing thai shrimp pasta\n",
            "==================================================\n"
          ]
        },
        {
          "output_type": "stream",
          "name": "stderr",
          "text": [
            "\r 30%|███       | 151/500 [35:10<1:23:07, 14.29s/it]"
          ]
        },
        {
          "output_type": "stream",
          "name": "stdout",
          "text": [
            "shrimp, rice wine, brown sugar, soy sauce, green onion, pepper, salt, unsweetened coconut milk, chinese white rice vinegar, honey, crushed red pepper flakes, gingerroot, plum tomato, oil, chili paste with garlic, fresh cilantro, whole wheat spaghetti\n",
            "\n",
            "=== Allergen Substitutions Made ===\n",
            "Replaced 'pepper' with 'flax eggs'\n",
            "Replaced 'salt' with 'coconut yogurt'\n",
            "Replaced 'oil' with 'coconut oil'\n",
            "\n",
            "==================================================\n",
            "Generating recipe for: hi protein honey wheat bread\n",
            "==================================================\n"
          ]
        },
        {
          "output_type": "stream",
          "name": "stderr",
          "text": [
            "\r 30%|███       | 152/500 [35:24<1:22:45, 14.27s/it]"
          ]
        },
        {
          "output_type": "stream",
          "name": "stdout",
          "text": [
            "all-purpose flour, salt, active dry yeast, water, honey, margarine, cream-style cottage cheese, eggs, whole wheat flour, rolled oats, nuts\n",
            "\n",
            "=== Allergen Substitutions Made ===\n",
            "Replaced 'water' with 'flax eggs'\n",
            "\n",
            "==================================================\n",
            "Generating recipe for: seet s super rich banana nut muffins\n",
            "==================================================\n"
          ]
        },
        {
          "output_type": "stream",
          "name": "stderr",
          "text": [
            "\r 31%|███       | 153/500 [35:38<1:22:37, 14.29s/it]"
          ]
        },
        {
          "output_type": "stream",
          "name": "stdout",
          "text": [
            "unsalted butter, light brown sugar, bananas, egg, almond extract, real vanilla extract, whole milk, all-purpose flour, baking powder, salt, nutmeg, walnuts\n",
            "\n",
            "=== Allergen Substitutions Made ===\n",
            "Replaced 'bananas' with 'flax eggs'\n",
            "Replaced 'egg' with 'flax eggs'\n",
            "Replaced 'salt' with 'coconut yogurt'\n",
            "\n",
            "==================================================\n",
            "Generating recipe for: chocolate motherlode frosting\n",
            "==================================================\n"
          ]
        },
        {
          "output_type": "stream",
          "name": "stderr",
          "text": [
            "\r 31%|███       | 154/500 [35:52<1:22:00, 14.22s/it]"
          ]
        },
        {
          "output_type": "stream",
          "name": "stdout",
          "text": [
            "semisweet chocolate, heavy cream, sugar, light corn syrup, unsalted butter\n",
            "\n",
            "==================================================\n",
            "Generating recipe for: southwestern coleslaw\n",
            "==================================================\n"
          ]
        },
        {
          "output_type": "stream",
          "name": "stderr",
          "text": [
            "\r 31%|███       | 155/500 [36:04<1:17:35, 13.50s/it]"
          ]
        },
        {
          "output_type": "stream",
          "name": "stdout",
          "text": [
            "coleslaw mix, canned black beans, fresh cilantro, tomatoes, red onion, jalapeno, avocado, fresh lime juice, rice vinegar, olive oil, ground cumin\n",
            "\n",
            "==================================================\n",
            "Generating recipe for: crock pot cider braised chicken\n",
            "==================================================\n"
          ]
        },
        {
          "output_type": "stream",
          "name": "stderr",
          "text": [
            "\r 31%|███       | 156/500 [36:18<1:18:29, 13.69s/it]"
          ]
        },
        {
          "output_type": "stream",
          "name": "stdout",
          "text": [
            "chicken breasts, chicken legs, ground turmeric, ground ginger, ground mace, ground allspice, tomatoes, apple cider, cornstarch, cold water\n",
            "\n",
            "==================================================\n",
            "Generating recipe for: pecan crusted southern fried chicken\n",
            "==================================================\n"
          ]
        },
        {
          "output_type": "stream",
          "name": "stderr",
          "text": [
            "\r 31%|███▏      | 157/500 [36:33<1:19:18, 13.87s/it]"
          ]
        },
        {
          "output_type": "stream",
          "name": "stdout",
          "text": [
            "vegetable oil, pecan pieces, flour, frying chicken, salt & freshly ground black pepper, eggs, milk, paprika, salt, garlic powder, black pepper, onion powder, cayenne pepper, dried oregano leaves, dried thyme\n",
            "\n",
            "=== Allergen Substitutions Made ===\n",
            "Replaced 'paprika' with 'hearts of palm'\n",
            "Replaced 'salt' with 'coconut yogurt'\n",
            "\n",
            "==================================================\n",
            "Generating recipe for: country pork ribs and sauerkraut\n",
            "==================================================\n"
          ]
        },
        {
          "output_type": "stream",
          "name": "stderr",
          "text": [
            "\r 32%|███▏      | 158/500 [36:47<1:20:41, 14.16s/it]"
          ]
        },
        {
          "output_type": "stream",
          "name": "stdout",
          "text": [
            "boneless pork ribs, flour, oil, sauerkraut, crushed pineapple, onion, garlic cloves, caraway seed, bay leaves, salt and pepper\n",
            "\n",
            "=== Allergen Substitutions Made ===\n",
            "Replaced 'flour' with 'almond flour'\n",
            "Replaced 'oil' with 'coconut oil'\n",
            "\n",
            "==================================================\n",
            "Generating recipe for: anything brandy cream sauce\n",
            "==================================================\n"
          ]
        },
        {
          "output_type": "stream",
          "name": "stderr",
          "text": [
            "\r 32%|███▏      | 159/500 [37:01<1:20:15, 14.12s/it]"
          ]
        },
        {
          "output_type": "stream",
          "name": "stdout",
          "text": [
            "butter, green onion, mushroom, broth, brandy, heavy cream, salt and black pepper\n",
            "\n",
            "=== Allergen Substitutions Made ===\n",
            "Replaced 'butter' with 'coconut oil'\n",
            "\n",
            "==================================================\n",
            "Generating recipe for: traditional cape brandy pudding\n",
            "==================================================\n"
          ]
        },
        {
          "output_type": "stream",
          "name": "stderr",
          "text": [
            "\r 32%|███▏      | 160/500 [37:16<1:20:08, 14.14s/it]"
          ]
        },
        {
          "output_type": "stream",
          "name": "stdout",
          "text": [
            "dates, bicarbonate of soda, boiling water, flour, baking powder, salt, butter, sugar, eggs, nuts, brown sugar, water, vanilla essence, brandy\n",
            "\n",
            "=== Allergen Substitutions Made ===\n",
            "Replaced 'flour' with 'almond flour'\n",
            "Replaced 'sugar' with 'coconut yogurt'\n",
            "\n",
            "==================================================\n",
            "Generating recipe for: strawberry jam squares\n",
            "==================================================\n"
          ]
        },
        {
          "output_type": "stream",
          "name": "stderr",
          "text": [
            "\r 32%|███▏      | 161/500 [37:30<1:19:54, 14.14s/it]"
          ]
        },
        {
          "output_type": "stream",
          "name": "stdout",
          "text": [
            "butter, sugar, egg yolks, unsifted flour, walnuts, strawberry jam\n",
            "\n",
            "=== Allergen Substitutions Made ===\n",
            "Replaced 'butter' with 'coconut oil'\n",
            "Replaced 'sugar' with 'coconut yogurt'\n",
            "\n",
            "==================================================\n",
            "Generating recipe for: cucumber only salad\n",
            "==================================================\n"
          ]
        },
        {
          "output_type": "stream",
          "name": "stderr",
          "text": [
            "\r 32%|███▏      | 162/500 [37:44<1:19:31, 14.12s/it]"
          ]
        },
        {
          "output_type": "stream",
          "name": "stdout",
          "text": [
            "cucumber, fat-free italian salad dressing\n",
            "\n",
            "==================================================\n",
            "Generating recipe for: denise s cheese n onion dip\n",
            "==================================================\n"
          ]
        },
        {
          "output_type": "stream",
          "name": "stderr",
          "text": [
            "\r 33%|███▎      | 163/500 [37:58<1:19:18, 14.12s/it]"
          ]
        },
        {
          "output_type": "stream",
          "name": "stdout",
          "text": [
            "reduced-fat sharp cheddar cheese, onions, low-fat mayonnaise\n",
            "\n",
            "==================================================\n",
            "Generating recipe for: grilled rice  skewers  with dipping sauce\n",
            "==================================================\n"
          ]
        },
        {
          "output_type": "stream",
          "name": "stderr",
          "text": [
            "\r 33%|███▎      | 164/500 [38:12<1:19:00, 14.11s/it]"
          ]
        },
        {
          "output_type": "stream",
          "name": "stdout",
          "text": [
            "rice vinegar, sugar, garlic cloves, birds eye chiles, eggs, fish sauce, pepper, cooked glutinous rice, skewers\n",
            "\n",
            "=== Allergen Substitutions Made ===\n",
            "Replaced 'pepper' with 'flax eggs'\n",
            "\n",
            "==================================================\n",
            "Generating recipe for: easy cheesy pork casserole\n",
            "==================================================\n"
          ]
        },
        {
          "output_type": "stream",
          "name": "stderr",
          "text": [
            "\r 33%|███▎      | 165/500 [38:26<1:18:40, 14.09s/it]"
          ]
        },
        {
          "output_type": "stream",
          "name": "stdout",
          "text": [
            "boneless pork chops, russet potatoes, condensed french onion soup, condensed cheddar cheese soup\n",
            "\n",
            "==================================================\n",
            "Generating recipe for: easiest chocolate peanut butter fudge\n",
            "==================================================\n"
          ]
        },
        {
          "output_type": "stream",
          "name": "stderr",
          "text": [
            "\r 33%|███▎      | 166/500 [38:40<1:18:29, 14.10s/it]"
          ]
        },
        {
          "output_type": "stream",
          "name": "stdout",
          "text": [
            "sugar, cocoa, milk, peanut butter, vanilla flavoring, pecans\n",
            "\n",
            "=== Allergen Substitutions Made ===\n",
            "Replaced 'sugar' with 'coconut yogurt'\n",
            "\n",
            "==================================================\n",
            "Generating recipe for: shrimp and rice croquettes\n",
            "==================================================\n"
          ]
        },
        {
          "output_type": "stream",
          "name": "stderr",
          "text": [
            "\r 33%|███▎      | 167/500 [38:54<1:18:14, 14.10s/it]"
          ]
        },
        {
          "output_type": "stream",
          "name": "stdout",
          "text": [
            "rice, butter, eggs, cooked shrimp, cracker crumb, egg, oil\n",
            "\n",
            "=== Allergen Substitutions Made ===\n",
            "Replaced 'rice' with 'almond flour'\n",
            "Replaced 'butter' with 'coconut oil'\n",
            "Replaced 'egg' with 'flax eggs'\n",
            "\n",
            "==================================================\n",
            "Generating recipe for: baked empanadas\n",
            "==================================================\n"
          ]
        },
        {
          "output_type": "stream",
          "name": "stderr",
          "text": [
            "\r 34%|███▎      | 168/500 [39:08<1:17:57, 14.09s/it]"
          ]
        },
        {
          "output_type": "stream",
          "name": "stdout",
          "text": [
            "chorizo sausage, onion, green bell pepper, fresh garlic, tomatoes, oregano leaves, puff pastry sheets\n",
            "\n",
            "=== Allergen Substitutions Made ===\n",
            "Replaced 'onion' with 'seeds'\n",
            "\n",
            "==================================================\n",
            "Generating recipe for: shrimp seviche   ceviche\n",
            "==================================================\n"
          ]
        },
        {
          "output_type": "stream",
          "name": "stderr",
          "text": [
            "\r 34%|███▍      | 169/500 [39:23<1:18:46, 14.28s/it]"
          ]
        },
        {
          "output_type": "stream",
          "name": "stdout",
          "text": [
            "fresh orange juice, fresh lime juice, fresh lemon juice, ketchup, garlic, jumbo shrimp, tomatoes, red onion, fresh cilantro, jalapenos, olive oil, kosher salt, hot sauce, avocado, limes\n",
            "\n",
            "=== Allergen Substitutions Made ===\n",
            "Replaced 'avocado' with 'hearts of palm'\n",
            "\n",
            "==================================================\n",
            "Generating recipe for: mandarin cream delight\n",
            "==================================================\n"
          ]
        },
        {
          "output_type": "stream",
          "name": "stderr",
          "text": [
            "\r 34%|███▍      | 170/500 [39:37<1:18:16, 14.23s/it]"
          ]
        },
        {
          "output_type": "stream",
          "name": "stdout",
          "text": [
            "butter, sugar, vanilla extract, all-purpose flour, salt, mandarin oranges in light syrup, low-fat sour cream, nonfat sour cream, vanilla instant pudding mix, reduced-calorie whipped topping, mint sprig\n",
            "\n",
            "==================================================\n",
            "Generating recipe for: dutch meat filled pancakes  gevulde pannekoek\n",
            "==================================================\n"
          ]
        },
        {
          "output_type": "stream",
          "name": "stderr",
          "text": [
            "\r 34%|███▍      | 171/500 [39:51<1:17:48, 14.19s/it]"
          ]
        },
        {
          "output_type": "stream",
          "name": "stdout",
          "text": [
            "flour, eggs, milk, salt, sugar, butter, onions, mushroom, lean ground beef, chicken stock, lemon juice, ground nutmeg, pepper\n",
            "\n",
            "=== Allergen Substitutions Made ===\n",
            "Replaced 'salt' with 'coconut yogurt'\n",
            "Replaced 'butter' with 'coconut oil'\n",
            "\n",
            "==================================================\n",
            "Generating recipe for: cranberry dessert cake with butter sauce\n",
            "==================================================\n"
          ]
        },
        {
          "output_type": "stream",
          "name": "stderr",
          "text": [
            "\r 34%|███▍      | 172/500 [40:05<1:17:24, 14.16s/it]"
          ]
        },
        {
          "output_type": "stream",
          "name": "stdout",
          "text": [
            "flour, sugar, baking powder, baking soda, salt, sour cream, milk, oil, almond extract, eggs, fresh cranberries, butter, whipping cream, vanilla\n",
            "\n",
            "=== Allergen Substitutions Made ===\n",
            "Replaced 'flour' with 'almond flour'\n",
            "Replaced 'sugar' with 'coconut yogurt'\n",
            "Replaced 'salt' with 'coconut yogurt'\n",
            "Replaced 'butter' with 'coconut oil'\n",
            "\n",
            "==================================================\n",
            "Generating recipe for: light orange mousse\n",
            "==================================================\n"
          ]
        },
        {
          "output_type": "stream",
          "name": "stderr",
          "text": [
            "\r 35%|███▍      | 173/500 [40:19<1:16:58, 14.12s/it]"
          ]
        },
        {
          "output_type": "stream",
          "name": "stdout",
          "text": [
            "frozen light whipped dessert topping, fat-free sweetened condensed milk, orange juice, orange zest, whipped topping\n",
            "\n",
            "==================================================\n",
            "Generating recipe for: pumpkin carrot cake\n",
            "==================================================\n"
          ]
        },
        {
          "output_type": "stream",
          "name": "stderr",
          "text": [
            "\r 35%|███▍      | 174/500 [40:34<1:16:58, 14.17s/it]"
          ]
        },
        {
          "output_type": "stream",
          "name": "stdout",
          "text": [
            "all-purpose flour, baking soda, ground cinnamon, salt, milk, lemon juice, eggs, canned pumpkin, sugar, brown sugar, vegetable oil, crushed pineapple, carrot, flaked coconut, nuts, cream cheese, butter, powdered sugar, vanilla extract, orange juice, orange zest\n",
            "\n",
            "=== Allergen Substitutions Made ===\n",
            "Replaced 'salt' with 'coconut yogurt'\n",
            "Replaced 'sugar' with 'coconut yogurt'\n",
            "Replaced 'carrot' with 'hearts of palm'\n",
            "Replaced 'butter' with 'coconut oil'\n",
            "\n",
            "==================================================\n",
            "Generating recipe for: louisiana style flounder\n",
            "==================================================\n"
          ]
        },
        {
          "output_type": "stream",
          "name": "stderr",
          "text": [
            "\r 35%|███▌      | 175/500 [40:48<1:16:50, 14.19s/it]"
          ]
        },
        {
          "output_type": "stream",
          "name": "stdout",
          "text": [
            "olive oil, onion, green bell pepper, celery, cajun seasoning, tomatoes, garlic, fresh thyme, salt, flounder fillets\n",
            "\n",
            "=== Allergen Substitutions Made ===\n",
            "Replaced 'salt' with 'coconut yogurt'\n",
            "\n",
            "==================================================\n",
            "Generating recipe for: simple chocolate sour cream cake\n",
            "==================================================\n"
          ]
        },
        {
          "output_type": "stream",
          "name": "stderr",
          "text": [
            "\r 35%|███▌      | 176/500 [41:02<1:16:33, 14.18s/it]"
          ]
        },
        {
          "output_type": "stream",
          "name": "stdout",
          "text": [
            "devil's food cake mix, chocolate instant pudding, eggs, sour cream, warm water, vegetable oil, semi-sweet chocolate chips\n",
            "\n",
            "==================================================\n",
            "Generating recipe for: warm goat cheese   balsamic onion personal pizzas\n",
            "==================================================\n"
          ]
        },
        {
          "output_type": "stream",
          "name": "stderr",
          "text": [
            "\r 35%|███▌      | 177/500 [41:16<1:16:22, 14.19s/it]"
          ]
        },
        {
          "output_type": "stream",
          "name": "stdout",
          "text": [
            "whole wheat tortillas, red onions, balsamic vinegar, goat cheese, leafy greens, fresh ground black pepper\n",
            "\n",
            "==================================================\n",
            "Generating recipe for: soft scrambled eggs with smoked salmon and avocado\n",
            "==================================================\n"
          ]
        },
        {
          "output_type": "stream",
          "name": "stderr",
          "text": [
            "\r 36%|███▌      | 178/500 [41:30<1:16:00, 14.16s/it]"
          ]
        },
        {
          "output_type": "stream",
          "name": "stdout",
          "text": [
            "eggs, heavy cream, unsalted butter, salt & freshly ground black pepper, avocados, smoked salmon, chives\n",
            "\n",
            "==================================================\n",
            "Generating recipe for: chocolate tunnel cake\n",
            "==================================================\n"
          ]
        },
        {
          "output_type": "stream",
          "name": "stderr",
          "text": [
            "\r 36%|███▌      | 179/500 [41:45<1:15:52, 14.18s/it]"
          ]
        },
        {
          "output_type": "stream",
          "name": "stdout",
          "text": [
            "sugar, brown sugar, oil, eggs, vanilla, baking soda, baking powder, salt, cocoa powder, flour, buttermilk, brewed coffee, cream cheese, egg, miniature chocolate chip, powdered sugar, unsweetened chocolate squares, unsalted butter, water\n",
            "\n",
            "==================================================\n",
            "Generating recipe for: ww shrimp with cilanto and lime   5 pts\n",
            "==================================================\n"
          ]
        },
        {
          "output_type": "stream",
          "name": "stderr",
          "text": [
            "\r 36%|███▌      | 180/500 [42:00<1:17:05, 14.45s/it]"
          ]
        },
        {
          "output_type": "stream",
          "name": "stdout",
          "text": [
            "large shrimp, fresh lime juice, ground cumin, ground ginger, garlic cloves, olive oil, fresh cilantro, lime zest, salt, pepper\n",
            "\n",
            "=== Allergen Substitutions Made ===\n",
            "Replaced 'olive oil' with 'coconut oil'\n",
            "Replaced 'salt' with 'coconut yogurt'\n",
            "Replaced 'pepper' with 'flax eggs'\n",
            "\n",
            "==================================================\n",
            "Generating recipe for: maple butternut squash\n",
            "==================================================\n"
          ]
        },
        {
          "output_type": "stream",
          "name": "stderr",
          "text": [
            "\r 36%|███▌      | 181/500 [42:14<1:16:15, 14.34s/it]"
          ]
        },
        {
          "output_type": "stream",
          "name": "stdout",
          "text": [
            "butternut squash, maple syrup, golden raisins, butter, ground cardamom, ground allspice\n",
            "\n",
            "==================================================\n",
            "Generating recipe for: soft summer lemonade cookies\n",
            "==================================================\n"
          ]
        },
        {
          "output_type": "stream",
          "name": "stderr",
          "text": [
            "\r 36%|███▋      | 182/500 [42:28<1:15:38, 14.27s/it]"
          ]
        },
        {
          "output_type": "stream",
          "name": "stdout",
          "text": [
            "butter, sugar, eggs, unbleached flour, baking soda, frozen lemonade concentrate\n",
            "\n",
            "=== Allergen Substitutions Made ===\n",
            "Replaced 'butter' with 'coconut oil'\n",
            "Replaced 'sugar' with 'coconut yogurt'\n",
            "\n",
            "==================================================\n",
            "Generating recipe for: spicy turkey patties\n",
            "==================================================\n"
          ]
        },
        {
          "output_type": "stream",
          "name": "stderr",
          "text": [
            "\r 37%|███▋      | 183/500 [42:42<1:15:14, 14.24s/it]"
          ]
        },
        {
          "output_type": "stream",
          "name": "stdout",
          "text": [
            "ground turkey, bread, dry white wine, onion, garlic, red bell peppers, jalapeno pepper, dried oregano, salt, pepper, olive oil\n",
            "\n",
            "==================================================\n",
            "Generating recipe for: oreo party pops\n",
            "==================================================\n"
          ]
        },
        {
          "output_type": "stream",
          "name": "stderr",
          "text": [
            "\r 37%|███▋      | 184/500 [42:56<1:14:55, 14.23s/it]"
          ]
        },
        {
          "output_type": "stream",
          "name": "stdout",
          "text": [
            "wooden popsicle sticks, oreo double stuff cookies, semi-sweet chocolate chips, vegetable oil, nuts, colored sprinkles, coconut, miniature m&m's chocolate candies\n",
            "\n",
            "=== Allergen Substitutions Made ===\n",
            "Replaced 'nuts' with 'seeds'\n",
            "Replaced 'coconut' with 'oat milk'\n",
            "\n",
            "==================================================\n",
            "Generating recipe for: iowa maid rites\n",
            "==================================================\n"
          ]
        },
        {
          "output_type": "stream",
          "name": "stderr",
          "text": [
            "\r 37%|███▋      | 185/500 [43:10<1:14:31, 14.19s/it]"
          ]
        },
        {
          "output_type": "stream",
          "name": "stdout",
          "text": [
            "ground beef, dry onion soup mix, french onion soup, hamburger buns, dill pickle slices, mustard\n",
            "\n",
            "==================================================\n",
            "Generating recipe for: southwest chicken breasts\n",
            "==================================================\n"
          ]
        },
        {
          "output_type": "stream",
          "name": "stderr",
          "text": [
            "\r 37%|███▋      | 186/500 [43:25<1:14:10, 14.17s/it]"
          ]
        },
        {
          "output_type": "stream",
          "name": "stdout",
          "text": [
            "boneless skinless chicken breasts, chicken broth, onion, garlic, butter, olive oil, cilantro, green onions, mexican blend cheese, flour, ranch dressing mix, salt and pepper\n",
            "\n",
            "=== Allergen Substitutions Made ===\n",
            "Replaced 'onion' with 'seeds'\n",
            "Replaced 'butter' with 'coconut oil'\n",
            "\n",
            "==================================================\n",
            "Generating recipe for: fiscalini farms cheddar cheese and sierra nevada pale ale soup\n",
            "==================================================\n"
          ]
        },
        {
          "output_type": "stream",
          "name": "stderr",
          "text": [
            "\r 37%|███▋      | 187/500 [43:39<1:13:59, 14.18s/it]"
          ]
        },
        {
          "output_type": "stream",
          "name": "stdout",
          "text": [
            "onion, garlic, bacon, butter, all-purpose flour, vegetable broth, ale, heavy cream, worcestershire sauce, prepared horseradish, dijon mustard, bay leaves, salt, fresh ground black pepper, cheddar cheese, crouton\n",
            "\n",
            "=== Allergen Substitutions Made ===\n",
            "Replaced 'ale' with 'coconut cream'\n",
            "\n",
            "==================================================\n",
            "Generating recipe for: crispy shrimp poppers\n",
            "==================================================\n"
          ]
        },
        {
          "output_type": "stream",
          "name": "stderr",
          "text": [
            "\r 38%|███▊      | 188/500 [43:53<1:13:37, 14.16s/it]"
          ]
        },
        {
          "output_type": "stream",
          "name": "stdout",
          "text": [
            "medium shrimp, cream cheese, bacon, all-purpose flour, eggs, panko breadcrumbs\n",
            "\n",
            "==================================================\n",
            "Generating recipe for: crock pot beef stroganoff\n",
            "==================================================\n"
          ]
        },
        {
          "output_type": "stream",
          "name": "stderr",
          "text": [
            "\r 38%|███▊      | 189/500 [44:07<1:13:21, 14.15s/it]"
          ]
        },
        {
          "output_type": "stream",
          "name": "stdout",
          "text": [
            "beef stew meat, onion, condensed golden mushroom soup, cream of onion soup, fresh mushrooms, black pepper, beef broth, sour cream, cream cheese\n",
            "\n",
            "=== Allergen Substitutions Made ===\n",
            "Replaced 'onion' with 'seeds'\n",
            "Replaced 'black pepper' with 'hearts of palm'\n",
            "\n",
            "==================================================\n",
            "Generating recipe for: fancy berry beverage\n",
            "==================================================\n"
          ]
        },
        {
          "output_type": "stream",
          "name": "stderr",
          "text": [
            "\r 38%|███▊      | 190/500 [44:21<1:13:12, 14.17s/it]"
          ]
        },
        {
          "output_type": "stream",
          "name": "stdout",
          "text": [
            "cranberry juice, vanilla ice cream, frozen sweetened strawberries, sugar, vanilla extract, heavy whipping cream, ginger ale\n",
            "\n",
            "=== Allergen Substitutions Made ===\n",
            "Replaced 'sugar' with 'coconut yogurt'\n",
            "\n",
            "==================================================\n",
            "Generating recipe for: garden fresh salsa\n",
            "==================================================\n"
          ]
        },
        {
          "output_type": "stream",
          "name": "stderr",
          "text": [
            "\r 38%|███▊      | 191/500 [44:36<1:14:35, 14.48s/it]"
          ]
        },
        {
          "output_type": "stream",
          "name": "stdout",
          "text": [
            "onions, green bell peppers, jalapeno peppers, fresh cilantro, tomatoes, garlic, hot peppers, salt, pepper, tabasco sauce, vinegar, lime, juice of\n",
            "\n",
            "=== Allergen Substitutions Made ===\n",
            "Replaced 'garlic' with 'coconut oil'\n",
            "Replaced 'salt' with 'coconut yogurt'\n",
            "Replaced 'pepper' with 'flax eggs'\n",
            "Replaced 'vinegar' with 'coconut oil'\n",
            "Replaced 'lime' with 'hearts of palm'\n",
            "\n",
            "==================================================\n",
            "Generating recipe for: veggie penne with chickpeas\n",
            "==================================================\n"
          ]
        },
        {
          "output_type": "stream",
          "name": "stderr",
          "text": [
            "\r 38%|███▊      | 192/500 [44:51<1:13:51, 14.39s/it]"
          ]
        },
        {
          "output_type": "stream",
          "name": "stdout",
          "text": [
            "oil, garlic, cauliflower, chickpeas, crushed tomatoes, frozen cut green beans, water, salt, dried thyme, oregano, fresh ground black pepper, penne pasta\n",
            "\n",
            "=== Allergen Substitutions Made ===\n",
            "Replaced 'oil' with 'coconut oil'\n",
            "Replaced 'garlic' with 'coconut oil'\n",
            "Replaced 'cauliflower' with 'flax eggs'\n",
            "Replaced 'water' with 'flax eggs'\n",
            "Replaced 'salt' with 'coconut yogurt'\n",
            "\n",
            "==================================================\n",
            "Generating recipe for: tropical crock pot chicken\n",
            "==================================================\n"
          ]
        },
        {
          "output_type": "stream",
          "name": "stderr",
          "text": [
            "\r 39%|███▊      | 193/500 [45:05<1:13:06, 14.29s/it]"
          ]
        },
        {
          "output_type": "stream",
          "name": "stdout",
          "text": [
            "boneless skinless chicken breasts, pineapple tidbits, scallion, red bell pepper, dijon mustard, soy sauce, garlic cloves, tarragon, pepper, paprika, salt\n",
            "\n",
            "=== Allergen Substitutions Made ===\n",
            "Replaced 'pepper' with 'flax eggs'\n",
            "Replaced 'salt' with 'coconut yogurt'\n",
            "\n",
            "==================================================\n",
            "Generating recipe for: beet tomato salad\n",
            "==================================================\n"
          ]
        },
        {
          "output_type": "stream",
          "name": "stderr",
          "text": [
            "\r 39%|███▉      | 194/500 [45:19<1:12:43, 14.26s/it]"
          ]
        },
        {
          "output_type": "stream",
          "name": "stdout",
          "text": [
            "red beets, extra virgin olive oil, coarse salt, tomatoes, lemon, juice of, pepper, mint leaf\n",
            "\n",
            "=== Allergen Substitutions Made ===\n",
            "Replaced 'red beets' with 'seeds'\n",
            "Replaced 'tomatoes' with 'coconut aminos'\n",
            "Replaced 'lemon' with 'coconut cream'\n",
            "Replaced 'pepper' with 'flax eggs'\n",
            "\n",
            "==================================================\n",
            "Generating recipe for: vegan sweet potato souffle\n",
            "==================================================\n"
          ]
        },
        {
          "output_type": "stream",
          "name": "stderr",
          "text": [
            "\r 39%|███▉      | 195/500 [45:33<1:12:17, 14.22s/it]"
          ]
        },
        {
          "output_type": "stream",
          "name": "stdout",
          "text": [
            "sweet potatoes, firm silken tofu, tofutti better-than-cream-cheese, brown sugar, soy margarine, cornstarch, pumpkin pie spice, pure vanilla extract, flour, pecans\n",
            "\n",
            "=== Allergen Substitutions Made ===\n",
            "Replaced 'flour' with 'almond flour'\n",
            "\n",
            "==================================================\n",
            "Generating recipe for: balsamic salmon\n",
            "==================================================\n"
          ]
        },
        {
          "output_type": "stream",
          "name": "stderr",
          "text": [
            "\r 39%|███▉      | 196/500 [45:47<1:11:54, 14.19s/it]"
          ]
        },
        {
          "output_type": "stream",
          "name": "stdout",
          "text": [
            "salmon fillets, balsamic vinegar, liquid honey, dijon mustard, sesame oil, sesame seeds\n",
            "\n",
            "==================================================\n",
            "Generating recipe for: jane s coconut sugar cookies\n",
            "==================================================\n"
          ]
        },
        {
          "output_type": "stream",
          "name": "stderr",
          "text": [
            "\r 39%|███▉      | 197/500 [46:01<1:11:31, 14.16s/it]"
          ]
        },
        {
          "output_type": "stream",
          "name": "stdout",
          "text": [
            "butter, vegetable oil, flour, sugar, coconut, baking soda, baking powder, vanilla, salt, macadamia nuts\n",
            "\n",
            "=== Allergen Substitutions Made ===\n",
            "Replaced 'coconut' with 'oat milk'\n",
            "\n",
            "==================================================\n",
            "Generating recipe for: nutella frosting\n",
            "==================================================\n"
          ]
        },
        {
          "output_type": "stream",
          "name": "stderr",
          "text": [
            "\r 40%|███▉      | 198/500 [46:15<1:11:06, 14.13s/it]"
          ]
        },
        {
          "output_type": "stream",
          "name": "stdout",
          "text": [
            "butter, nutella, powdered sugar, milk\n",
            "\n",
            "=== Allergen Substitutions Made ===\n",
            "Replaced 'butter' with 'coconut oil'\n",
            "Replaced 'milk' with 'oat milk'\n",
            "\n",
            "==================================================\n",
            "Generating recipe for: baked fruited french toast\n",
            "==================================================\n"
          ]
        },
        {
          "output_type": "stream",
          "name": "stderr",
          "text": [
            "\r 40%|███▉      | 199/500 [46:29<1:10:48, 14.12s/it]"
          ]
        },
        {
          "output_type": "stream",
          "name": "stdout",
          "text": [
            "italian bread, olive oil, brown sugar, granny smith apples, pear, dried cherries, ground cinnamon, eggs, milk, almond extract, amaretto, toasted almond\n",
            "\n",
            "=== Allergen Substitutions Made ===\n",
            "Replaced 'milk' with 'oat milk'\n",
            "\n",
            "==================================================\n",
            "Generating recipe for: philly cheesesteak  the way i remember it\n",
            "==================================================\n"
          ]
        },
        {
          "output_type": "stream",
          "name": "stderr",
          "text": [
            "\r 40%|████      | 200/500 [46:43<1:10:40, 14.13s/it]"
          ]
        },
        {
          "output_type": "stream",
          "name": "stdout",
          "text": [
            "rib eye steaks, bermuda onion, american cheese, hoagie rolls, ketchup, peanut oil, salt\n",
            "\n",
            "=== Allergen Substitutions Made ===\n",
            "Replaced 'salt' with 'coconut yogurt'\n",
            "\n",
            "Progress saved to generated_recipes_temp_200.json\n",
            "\n",
            "==================================================\n",
            "Generating recipe for: roasted tomatillo sauce\n",
            "==================================================\n"
          ]
        },
        {
          "output_type": "stream",
          "name": "stderr",
          "text": [
            "\r 40%|████      | 201/500 [46:58<1:10:31, 14.15s/it]"
          ]
        },
        {
          "output_type": "stream",
          "name": "stdout",
          "text": [
            "tomatillo, poblano chiles, onion, garlic, cilantro leaf, lime juice, ground cumin, salt, unbleached cane sugar\n",
            "\n",
            "=== Allergen Substitutions Made ===\n",
            "Replaced 'tomatillo' with 'king oyster mushrooms'\n",
            "\n",
            "==================================================\n",
            "Generating recipe for: chilled fruit and champagne soup\n",
            "==================================================\n"
          ]
        },
        {
          "output_type": "stream",
          "name": "stderr",
          "text": [
            "\r 40%|████      | 202/500 [47:13<1:11:37, 14.42s/it]"
          ]
        },
        {
          "output_type": "stream",
          "name": "stdout",
          "text": [
            "peaches, berries, champagne\n",
            "\n",
            "=== Allergen Substitutions Made ===\n",
            "Replaced 'berries' with 'coconut aminos'\n",
            "\n",
            "==================================================\n",
            "Generating recipe for: skillet pasta dinner\n",
            "==================================================\n"
          ]
        },
        {
          "output_type": "stream",
          "name": "stderr",
          "text": [
            "\r 41%|████      | 203/500 [47:27<1:10:46, 14.30s/it]"
          ]
        },
        {
          "output_type": "stream",
          "name": "stdout",
          "text": [
            "ground beef, pasta sauce, rotini pasta, cheddar cheese, chili powder\n",
            "\n",
            "==================================================\n",
            "Generating recipe for: mutton masala\n",
            "==================================================\n"
          ]
        },
        {
          "output_type": "stream",
          "name": "stderr",
          "text": [
            "\r 41%|████      | 204/500 [47:38<1:05:54, 13.36s/it]"
          ]
        },
        {
          "output_type": "stream",
          "name": "stdout",
          "text": [
            "mutton, water, turmeric powder, peppercorns, cloves, cinnamon sticks, ginger paste, garlic paste, onion, tomatoes, coriander powder, chili powder, cumin powder, garam masala, oil, salt, green coriander\n",
            "\n",
            "=== Allergen Substitutions Made ===\n",
            "Replaced 'mutton' with 'coconut yogurt'\n",
            "Replaced 'oil' with 'coconut oil'\n",
            "Replaced 'salt' with 'coconut yogurt'\n",
            "\n",
            "==================================================\n",
            "Generating recipe for: siesta fiesta salad\n",
            "==================================================\n"
          ]
        },
        {
          "output_type": "stream",
          "name": "stderr",
          "text": [
            "\r 41%|████      | 205/500 [47:52<1:06:42, 13.57s/it]"
          ]
        },
        {
          "output_type": "stream",
          "name": "stdout",
          "text": [
            "black beans, sweet corn, sweet red pepper, red onion, red wine vinegar, olive oil, fresh parsley, fresh cilantro, fresh dill, fresh ground black pepper\n",
            "\n",
            "==================================================\n",
            "Generating recipe for: pumpkin   gingerbread streusel cake\n",
            "==================================================\n"
          ]
        },
        {
          "output_type": "stream",
          "name": "stderr",
          "text": [
            "\r 41%|████      | 206/500 [48:06<1:07:21, 13.75s/it]"
          ]
        },
        {
          "output_type": "stream",
          "name": "stdout",
          "text": [
            "brown sugar, all-purpose flour, pecans, butter, sugar, canned pumpkin, milk, dark molasses, eggs, pumpkin pie spice, baking soda, baking powder, salt, caramel ice cream topping\n",
            "\n",
            "=== Allergen Substitutions Made ===\n",
            "Replaced 'butter' with 'coconut oil'\n",
            "Replaced 'sugar' with 'coconut yogurt'\n",
            "Replaced 'salt' with 'coconut yogurt'\n",
            "\n",
            "==================================================\n",
            "Generating recipe for: pumpkin and ginger soup\n",
            "==================================================\n"
          ]
        },
        {
          "output_type": "stream",
          "name": "stderr",
          "text": [
            "\r 41%|████▏     | 207/500 [48:20<1:07:48, 13.89s/it]"
          ]
        },
        {
          "output_type": "stream",
          "name": "stdout",
          "text": [
            "butter, sunflower oil, fresh ginger, pumpkin, parsnips, onion, carrots, celery leaves, curry powder, dried chili pepper flakes, nutmeg, cornflour, homemade chicken stock, milk, salt, black pepper, cream\n",
            "\n",
            "=== Allergen Substitutions Made ===\n",
            "Replaced 'pumpkin' with 'poppy seeds'\n",
            "\n",
            "==================================================\n",
            "Generating recipe for: tex mex chicken n rice\n",
            "==================================================\n"
          ]
        },
        {
          "output_type": "stream",
          "name": "stderr",
          "text": [
            "\r 42%|████▏     | 208/500 [48:35<1:08:23, 14.05s/it]"
          ]
        },
        {
          "output_type": "stream",
          "name": "stdout",
          "text": [
            "onion, jalapenos, garlic clove, olive oil, chicken broth, lime, juice of, diced tomatoes with green chilies, long grain rice, boneless skinless chicken breasts, salt, pepper, ground cumin, cheddar cheese\n",
            "\n",
            "=== Allergen Substitutions Made ===\n",
            "Replaced 'onion' with 'seeds'\n",
            "Replaced 'olive oil' with 'coconut oil'\n",
            "Replaced 'pepper' with 'flax eggs'\n",
            "\n",
            "==================================================\n",
            "Generating recipe for: tofu parmesan\n",
            "==================================================\n"
          ]
        },
        {
          "output_type": "stream",
          "name": "stderr",
          "text": [
            "\r 42%|████▏     | 209/500 [48:49<1:08:23, 14.10s/it]"
          ]
        },
        {
          "output_type": "stream",
          "name": "stdout",
          "text": [
            "olive oil, firm tofu, onion, garlic, tomatoes, oregano, rosemary, low-fat cheese, parmesan cheese, salt and pepper\n",
            "\n",
            "=== Allergen Substitutions Made ===\n",
            "Replaced 'olive oil' with 'coconut oil'\n",
            "Replaced 'onion' with 'seeds'\n",
            "Replaced 'garlic' with 'coconut oil'\n",
            "Replaced 'oregano' with 'coconut cream'\n",
            "\n",
            "==================================================\n",
            "Generating recipe for: hot herbed pretzels\n",
            "==================================================\n"
          ]
        },
        {
          "output_type": "stream",
          "name": "stderr",
          "text": [
            "\r 42%|████▏     | 210/500 [49:03<1:08:09, 14.10s/it]"
          ]
        },
        {
          "output_type": "stream",
          "name": "stdout",
          "text": [
            "butter, tarragon, parsley flakes, celery salt, onion powder, pretzels\n",
            "\n",
            "==================================================\n",
            "Generating recipe for: cape cod portuguese kale soup\n",
            "==================================================\n"
          ]
        },
        {
          "output_type": "stream",
          "name": "stderr",
          "text": [
            "\r 42%|████▏     | 211/500 [49:17<1:08:10, 14.15s/it]"
          ]
        },
        {
          "output_type": "stream",
          "name": "stdout",
          "text": [
            "dried red kidney beans, beef broth, water, kale, onion, chorizo sausage, linguica sausage, red wine vinegar, pepper, salt, potatoes\n",
            "\n",
            "=== Allergen Substitutions Made ===\n",
            "Replaced 'onion' with 'seeds'\n",
            "Replaced 'pepper' with 'flax eggs'\n",
            "Replaced 'salt' with 'coconut yogurt'\n",
            "\n",
            "==================================================\n",
            "Generating recipe for: cherry crisp   from scratch\n",
            "==================================================\n"
          ]
        },
        {
          "output_type": "stream",
          "name": "stderr",
          "text": [
            "\r 42%|████▏     | 212/500 [49:32<1:07:56, 14.16s/it]"
          ]
        },
        {
          "output_type": "stream",
          "name": "stdout",
          "text": [
            "sweet cherries, sugar, cornstarch, fresh lemon juice, almond extract, brown sugar, flour, granola cereal, butter, cinnamon, ground nutmeg\n",
            "\n",
            "=== Allergen Substitutions Made ===\n",
            "Replaced 'flour' with 'almond flour'\n",
            "Replaced 'butter' with 'coconut oil'\n",
            "\n",
            "==================================================\n",
            "Generating recipe for: mr  food s pizza pasta salad\n",
            "==================================================\n"
          ]
        },
        {
          "output_type": "stream",
          "name": "stderr",
          "text": [
            "\r 43%|████▎     | 213/500 [49:38<56:17, 11.77s/it]  "
          ]
        },
        {
          "output_type": "stream",
          "name": "stdout",
          "text": [
            "pasta, roma tomatoes, cheddar cheese, scallions, pepperoni, vegetable oil, red wine vinegar, parmesan cheese, italian seasoning, garlic powder, salt, pepper\n",
            "\n",
            "=== Allergen Substitutions Made ===\n",
            "Replaced 'cheddar cheese' with 'coconut cream'\n",
            "\n",
            "==================================================\n",
            "Generating recipe for: best ever fluffy sugar cookies\n",
            "==================================================\n"
          ]
        },
        {
          "output_type": "stream",
          "name": "stderr",
          "text": [
            "\r 43%|████▎     | 214/500 [49:53<1:00:33, 12.70s/it]"
          ]
        },
        {
          "output_type": "stream",
          "name": "stdout",
          "text": [
            "butter, sugar, eggs, vanilla, lemon extract, almond extract, flour, cream of tartar, salt, baking soda, nutmeg\n",
            "\n",
            "=== Allergen Substitutions Made ===\n",
            "Replaced 'butter' with 'coconut oil'\n",
            "Replaced 'sugar' with 'coconut yogurt'\n",
            "\n",
            "==================================================\n",
            "Generating recipe for: hot artichoke   spinach spread\n",
            "==================================================\n"
          ]
        },
        {
          "output_type": "stream",
          "name": "stderr",
          "text": [
            "\r 43%|████▎     | 215/500 [50:07<1:02:26, 13.15s/it]"
          ]
        },
        {
          "output_type": "stream",
          "name": "stdout",
          "text": [
            "cream cheese, mayonnaise, mrs. grass homestyle vegetable recipe, frozen spinach, artichoke hearts, mozzarella cheese, parmesan cheese\n",
            "\n",
            "=== Allergen Substitutions Made ===\n",
            "Replaced 'cream cheese' with 'coconut cream'\n",
            "\n",
            "==================================================\n",
            "Generating recipe for: strawberry nut pinwheel cookies\n",
            "==================================================\n"
          ]
        },
        {
          "output_type": "stream",
          "name": "stderr",
          "text": [
            "\r 43%|████▎     | 216/500 [50:21<1:03:54, 13.50s/it]"
          ]
        },
        {
          "output_type": "stream",
          "name": "stdout",
          "text": [
            "butter, sugar, egg, vanilla extract, all-purpose flour, baking powder, strawberry jam, walnuts\n",
            "\n",
            "=== Allergen Substitutions Made ===\n",
            "Replaced 'butter' with 'coconut oil'\n",
            "Replaced 'sugar' with 'coconut yogurt'\n",
            "Replaced 'egg' with 'flax eggs'\n",
            "Replaced 'vanilla extract' with 'coconut cream'\n",
            "\n",
            "==================================================\n",
            "Generating recipe for: mixed seafood saute\n",
            "==================================================\n"
          ]
        },
        {
          "output_type": "stream",
          "name": "stderr",
          "text": [
            "\r 43%|████▎     | 217/500 [50:35<1:04:36, 13.70s/it]"
          ]
        },
        {
          "output_type": "stream",
          "name": "stdout",
          "text": [
            "butter, vegetable oil, shrimp, scallops, crabmeat, salt, garlic, thyme, red pepper flakes, basil, heavy cream, cooking sherry, parmesan cheese\n",
            "\n",
            "==================================================\n",
            "Generating recipe for: scallops and cauliflower\n",
            "==================================================\n"
          ]
        },
        {
          "output_type": "stream",
          "name": "stderr",
          "text": [
            "\r 44%|████▎     | 218/500 [50:50<1:05:14, 13.88s/it]"
          ]
        },
        {
          "output_type": "stream",
          "name": "stdout",
          "text": [
            "cauliflower, sea scallops, olive oil, shallots, capers, sun-dried tomato, sherry wine vinegar, parsley, pine nuts\n",
            "\n",
            "=== Allergen Substitutions Made ===\n",
            "Replaced 'cauliflower' with 'flax eggs'\n",
            "Replaced 'olive oil' with 'coconut oil'\n",
            "Replaced 'parsley' with 'poppy seeds'\n",
            "\n",
            "==================================================\n",
            "Generating recipe for: mushroom onion quiche\n",
            "==================================================\n"
          ]
        },
        {
          "output_type": "stream",
          "name": "stderr",
          "text": [
            "\r 44%|████▍     | 219/500 [51:04<1:05:28, 13.98s/it]"
          ]
        },
        {
          "output_type": "stream",
          "name": "stdout",
          "text": [
            "pie crusts, margarine, onions, mushroom, non-dairy milk substitute, egg, flour, dry wine, salt and pepper\n",
            "\n",
            "=== Allergen Substitutions Made ===\n",
            "Replaced 'mushroom' with 'king oyster mushrooms'\n",
            "Replaced 'egg' with 'flax eggs'\n",
            "\n",
            "==================================================\n",
            "Generating recipe for: low fat creole style black eyed peas\n",
            "==================================================\n"
          ]
        },
        {
          "output_type": "stream",
          "name": "stderr",
          "text": [
            "\r 44%|████▍     | 220/500 [51:18<1:05:35, 14.06s/it]"
          ]
        },
        {
          "output_type": "stream",
          "name": "stdout",
          "text": [
            "black-eyed peas, water, low sodium chicken broth, diced tomatoes with juice, celery, onion, garlic cloves, chili powder, ginger, bay leaves, parsley, black pepper\n",
            "\n",
            "=== Allergen Substitutions Made ===\n",
            "Replaced 'water' with 'flax eggs'\n",
            "\n",
            "==================================================\n",
            "Generating recipe for: easiest campfire  or grill or oven  breakfast\n",
            "==================================================\n"
          ]
        },
        {
          "output_type": "stream",
          "name": "stderr",
          "text": [
            "\r 44%|████▍     | 221/500 [51:32<1:05:27, 14.08s/it]"
          ]
        },
        {
          "output_type": "stream",
          "name": "stdout",
          "text": [
            "baking potato, egg, butter, cheese, bacon\n",
            "\n",
            "=== Allergen Substitutions Made ===\n",
            "Replaced 'egg' with 'flax eggs'\n",
            "Replaced 'butter' with 'coconut oil'\n",
            "Replaced 'cheese' with 'nutritional yeast'\n",
            "\n",
            "==================================================\n",
            "Generating recipe for: peanut butter beef stir fry\n",
            "==================================================\n"
          ]
        },
        {
          "output_type": "stream",
          "name": "stderr",
          "text": [
            "\r 44%|████▍     | 222/500 [51:46<1:05:34, 14.15s/it]"
          ]
        },
        {
          "output_type": "stream",
          "name": "stdout",
          "text": [
            "cornstarch, beef broth, soy sauce, creamy peanut butter, sugar, pepper, top sirloin steak, onion, celery, canola oil, garlic\n",
            "\n",
            "=== Allergen Substitutions Made ===\n",
            "Replaced 'soy sauce' with 'coconut aminos'\n",
            "Replaced 'pepper' with 'flax eggs'\n",
            "Replaced 'onion' with 'seeds'\n",
            "\n",
            "==================================================\n",
            "Generating recipe for: thai style crab cakes\n",
            "==================================================\n"
          ]
        },
        {
          "output_type": "stream",
          "name": "stderr",
          "text": [
            "\r 45%|████▍     | 223/500 [52:01<1:05:44, 14.24s/it]"
          ]
        },
        {
          "output_type": "stream",
          "name": "stdout",
          "text": [
            "lump crabmeat, lemon juice, ginger, green onions, red bell pepper, garlic cloves, vegetable oil, crushed red pepper flakes, fresh parsley, mayonnaise, egg, fresh breadcrumb, sweet chili sauce\n",
            "\n",
            "==================================================\n",
            "Generating recipe for: raspberry banana mango smoothie\n",
            "==================================================\n"
          ]
        },
        {
          "output_type": "stream",
          "name": "stderr",
          "text": [
            "\r 45%|████▍     | 224/500 [52:13<1:02:45, 13.64s/it]"
          ]
        },
        {
          "output_type": "stream",
          "name": "stdout",
          "text": [
            "raspberries, banana, mango, yogurt\n",
            "\n",
            "=== Allergen Substitutions Made ===\n",
            "Replaced 'banana' with 'flax eggs'\n",
            "Replaced 'mango' with 'oat milk'\n",
            "\n",
            "==================================================\n",
            "Generating recipe for: apple crisp a la mode\n",
            "==================================================\n"
          ]
        },
        {
          "output_type": "stream",
          "name": "stderr",
          "text": [
            "\r 45%|████▌     | 225/500 [52:28<1:04:40, 14.11s/it]"
          ]
        },
        {
          "output_type": "stream",
          "name": "stdout",
          "text": [
            "apples, rolled oats, brown sugar, flour, cinnamon, nutmeg, salt, butter, whipped cream\n",
            "\n",
            "=== Allergen Substitutions Made ===\n",
            "Replaced 'butter' with 'coconut oil'\n",
            "\n",
            "==================================================\n",
            "Generating recipe for: great garlic beer steaks\n",
            "==================================================\n"
          ]
        },
        {
          "output_type": "stream",
          "name": "stderr",
          "text": [
            "\r 45%|████▌     | 226/500 [52:43<1:05:11, 14.27s/it]"
          ]
        },
        {
          "output_type": "stream",
          "name": "stdout",
          "text": [
            "steaks, beer, oyster sauce, lemon, juice of, garlic cloves, black pepper, seasoning\n",
            "\n",
            "=== Allergen Substitutions Made ===\n",
            "Replaced 'black pepper' with 'hearts of palm'\n",
            "Replaced 'seasoning' with 'oat milk'\n",
            "\n",
            "==================================================\n",
            "Generating recipe for: ofelia s apple snack\n",
            "==================================================\n"
          ]
        },
        {
          "output_type": "stream",
          "name": "stderr",
          "text": [
            "\r 45%|████▌     | 227/500 [52:57<1:04:52, 14.26s/it]"
          ]
        },
        {
          "output_type": "stream",
          "name": "stdout",
          "text": [
            "apple, peanut butter, raisins\n",
            "\n",
            "=== Allergen Substitutions Made ===\n",
            "Replaced 'apple' with 'coconut oil'\n",
            "\n",
            "==================================================\n",
            "Generating recipe for: zucchini cheese patties\n",
            "==================================================\n"
          ]
        },
        {
          "output_type": "stream",
          "name": "stderr",
          "text": [
            "\r 46%|████▌     | 228/500 [53:12<1:04:43, 14.28s/it]"
          ]
        },
        {
          "output_type": "stream",
          "name": "stdout",
          "text": [
            "bisquick baking mix, cheddar cheese, salt, pepper, eggs, carrot, onions, zucchini, vegetable oil\n",
            "\n",
            "=== Allergen Substitutions Made ===\n",
            "Replaced 'salt' with 'coconut yogurt'\n",
            "Replaced 'pepper' with 'flax eggs'\n",
            "\n",
            "==================================================\n",
            "Generating recipe for: bacon wrapped potato bites  sp5\n",
            "==================================================\n"
          ]
        },
        {
          "output_type": "stream",
          "name": "stderr",
          "text": [
            "\r 46%|████▌     | 229/500 [53:26<1:04:39, 14.32s/it]"
          ]
        },
        {
          "output_type": "stream",
          "name": "stdout",
          "text": [
            "simply potatoes red potato wedges, bacon, sour cream, hot sauce, flat leaf parsley\n",
            "\n",
            "==================================================\n",
            "Generating recipe for: zip sauce  from a very popular restaurant in michigan  excellent\n",
            "==================================================\n"
          ]
        },
        {
          "output_type": "stream",
          "name": "stderr",
          "text": [
            "\r 46%|████▌     | 230/500 [53:40<1:04:34, 14.35s/it]"
          ]
        },
        {
          "output_type": "stream",
          "name": "stdout",
          "text": [
            "clarified butter, maggi seasoning, fresh mushrooms\n",
            "\n",
            "==================================================\n",
            "Generating recipe for: raspberry currant jam\n",
            "==================================================\n"
          ]
        },
        {
          "output_type": "stream",
          "name": "stderr",
          "text": [
            "\r 46%|████▌     | 231/500 [53:55<1:04:18, 14.34s/it]"
          ]
        },
        {
          "output_type": "stream",
          "name": "stdout",
          "text": [
            "red currants, water, red raspberries, sugar\n",
            "\n",
            "=== Allergen Substitutions Made ===\n",
            "Replaced 'water' with 'flax eggs'\n",
            "\n",
            "==================================================\n",
            "Generating recipe for: roast chicken legs with basil and garlic core ww friendly\n",
            "==================================================\n"
          ]
        },
        {
          "output_type": "stream",
          "name": "stderr",
          "text": [
            "\r 46%|████▋     | 232/500 [54:09<1:04:04, 14.35s/it]"
          ]
        },
        {
          "output_type": "stream",
          "name": "stdout",
          "text": [
            "chicken legs, basil leaves, garlic cloves, lemon, baking potatoes, olive oil, ground black pepper, paprika\n",
            "\n",
            "=== Allergen Substitutions Made ===\n",
            "Replaced 'olive oil' with 'coconut oil'\n",
            "\n",
            "==================================================\n",
            "Generating recipe for: msg free ranch dressing\n",
            "==================================================\n"
          ]
        },
        {
          "output_type": "stream",
          "name": "stderr",
          "text": [
            "\r 47%|████▋     | 233/500 [54:21<1:00:05, 13.50s/it]"
          ]
        },
        {
          "output_type": "stream",
          "name": "stdout",
          "text": [
            "sour cream, heavy cream, lemon juice, garlic powder, dill weed, sugar, kosher salt, fresh ground black pepper\n",
            "\n",
            "==================================================\n",
            "Generating recipe for: moo shu pork\n",
            "==================================================\n"
          ]
        },
        {
          "output_type": "stream",
          "name": "stderr",
          "text": [
            "\r 47%|████▋     | 234/500 [54:35<1:00:55, 13.74s/it]"
          ]
        },
        {
          "output_type": "stream",
          "name": "stdout",
          "text": [
            "pork, garlic, ginger, shiitake mushroom, white cabbage, bamboo shoot, wood ear mushrooms, dried lily buds, hoisin sauce, dry sherry, eggs, scallion, chinese pancakes, kosher salt, black pepper, canola oil\n",
            "\n",
            "=== Allergen Substitutions Made ===\n",
            "Replaced 'garlic' with 'coconut oil'\n",
            "Replaced 'ginger' with 'poppy seeds'\n",
            "\n",
            "==================================================\n",
            "Generating recipe for: garlic infused chicken  eggplant and roasted red peppers stacks\n",
            "==================================================\n"
          ]
        },
        {
          "output_type": "stream",
          "name": "stderr",
          "text": [
            "\r 47%|████▋     | 235/500 [54:49<1:01:27, 13.91s/it]"
          ]
        },
        {
          "output_type": "stream",
          "name": "stdout",
          "text": [
            "olive oil, garlic cloves, diced tomatoes, tomato paste, black olives, honey, dried oregano, dried parsley, basil leaves, red pepper flakes, black pepper, salt, eggplant, chicken breasts, roasted red peppers, fresh mozzarella cheese, parmesan cheese\n",
            "\n",
            "=== Allergen Substitutions Made ===\n",
            "Replaced 'salt' with 'coconut yogurt'\n",
            "\n",
            "==================================================\n",
            "Generating recipe for: ginger carrot soup\n",
            "==================================================\n"
          ]
        },
        {
          "output_type": "stream",
          "name": "stderr",
          "text": [
            "\r 47%|████▋     | 236/500 [55:04<1:02:53, 14.29s/it]"
          ]
        },
        {
          "output_type": "stream",
          "name": "stdout",
          "text": [
            "cooking oil, onions, brown sugar, black pepper, fresh ginger, carrots, sweet potato, chicken stock, sherry wine, reduced-fat half-and-half, salt and pepper\n",
            "\n",
            "==================================================\n",
            "Generating recipe for: super easy chocolatey chip cookies\n",
            "==================================================\n"
          ]
        },
        {
          "output_type": "stream",
          "name": "stderr",
          "text": [
            "\r 47%|████▋     | 237/500 [55:19<1:02:34, 14.28s/it]"
          ]
        },
        {
          "output_type": "stream",
          "name": "stdout",
          "text": [
            "white cake mix, water, milk chocolate chips, white chocolate chips\n",
            "\n",
            "==================================================\n",
            "Generating recipe for: get your groove on punch\n",
            "==================================================\n"
          ]
        },
        {
          "output_type": "stream",
          "name": "stderr",
          "text": [
            "\r 48%|████▊     | 238/500 [55:26<53:46, 12.31s/it]  "
          ]
        },
        {
          "output_type": "stream",
          "name": "stdout",
          "text": [
            "orange juice, pineapple juice, coco lopez, seltzer water, rum\n",
            "\n",
            "=== Allergen Substitutions Made ===\n",
            "Replaced 'rum' with 'coconut yogurt'\n",
            "\n",
            "==================================================\n",
            "Generating recipe for: old fashioned peach preserves\n",
            "==================================================\n"
          ]
        },
        {
          "output_type": "stream",
          "name": "stderr",
          "text": [
            "\r 48%|████▊     | 239/500 [55:41<55:56, 12.86s/it]"
          ]
        },
        {
          "output_type": "stream",
          "name": "stdout",
          "text": [
            "peaches, sugar\n",
            "\n",
            "=== Allergen Substitutions Made ===\n",
            "Replaced 'peaches' with 'seeds'\n",
            "Replaced 'sugar' with 'coconut yogurt'\n",
            "\n",
            "==================================================\n",
            "Generating recipe for: younger  healthier you smoothieeee\n",
            "==================================================\n"
          ]
        },
        {
          "output_type": "stream",
          "name": "stderr",
          "text": [
            "\r 48%|████▊     | 240/500 [55:55<57:32, 13.28s/it]"
          ]
        },
        {
          "output_type": "stream",
          "name": "stdout",
          "text": [
            "flax seed, banana, berries, orange juice, wheat grass powder\n",
            "\n",
            "=== Allergen Substitutions Made ===\n",
            "Replaced 'banana' with 'flax eggs'\n",
            "Replaced 'berries' with 'coconut aminos'\n",
            "\n",
            "==================================================\n",
            "Generating recipe for: ramen noodle chicken seasoning packet substitute\n",
            "==================================================\n"
          ]
        },
        {
          "output_type": "stream",
          "name": "stderr",
          "text": [
            "\r 48%|████▊     | 241/500 [56:09<58:27, 13.54s/it]"
          ]
        },
        {
          "output_type": "stream",
          "name": "stdout",
          "text": [
            "onion powder, garlic powder, poultry seasoning, black pepper, chicken\n",
            "\n",
            "=== Allergen Substitutions Made ===\n",
            "Replaced 'black pepper' with 'hearts of palm'\n",
            "\n",
            "==================================================\n",
            "Generating recipe for: bagels   fresh\n",
            "==================================================\n"
          ]
        },
        {
          "output_type": "stream",
          "name": "stderr",
          "text": [
            "\r 48%|████▊     | 242/500 [56:23<59:00, 13.72s/it]"
          ]
        },
        {
          "output_type": "stream",
          "name": "stdout",
          "text": [
            "active dry yeast, sugar, milk, vegetable oil, salt, eggs, white flour, egg white\n",
            "\n",
            "==================================================\n",
            "Generating recipe for: herbed lemon spareribs\n",
            "==================================================\n"
          ]
        },
        {
          "output_type": "stream",
          "name": "stderr",
          "text": [
            "\r 49%|████▊     | 243/500 [56:37<59:40, 13.93s/it]"
          ]
        },
        {
          "output_type": "stream",
          "name": "stdout",
          "text": [
            "pork spareribs, vegetable oil, garlic, fresh parsley, fresh lemon rind, lemon juice, dried thyme, dried rosemary, dried sage, savory, marjoram, black pepper, dried mint, ground allspice, ground cumin, cayenne pepper, salt, lemons, thyme\n",
            "\n",
            "==================================================\n",
            "Generating recipe for: flounder italiano\n",
            "==================================================\n"
          ]
        },
        {
          "output_type": "stream",
          "name": "stderr",
          "text": [
            "\r 49%|████▉     | 244/500 [56:52<59:59, 14.06s/it]"
          ]
        },
        {
          "output_type": "stream",
          "name": "stdout",
          "text": [
            "flounder fillets, extra virgin olive oil, diced tomatoes, thyme, black olives, parsley, fresh basil, garlic cloves, vidalia onion, fresh lemon juice, lemon slices\n",
            "\n",
            "==================================================\n",
            "Generating recipe for: copycat kit kat bars\n",
            "==================================================\n"
          ]
        },
        {
          "output_type": "stream",
          "name": "stderr",
          "text": [
            "\r 49%|████▉     | 245/500 [57:06<1:00:00, 14.12s/it]"
          ]
        },
        {
          "output_type": "stream",
          "name": "stdout",
          "text": [
            "club crackers, butter, graham cracker crumbs, brown sugar, whole milk, sugar, creamy peanut butter, semisweet chocolate morsel, nestl toll house butterscotch flavored morsels\n",
            "\n",
            "=== Allergen Substitutions Made ===\n",
            "Replaced 'butter' with 'coconut oil'\n",
            "\n",
            "==================================================\n",
            "Generating recipe for: fried potatoes with onion and kielbasa\n",
            "==================================================\n"
          ]
        },
        {
          "output_type": "stream",
          "name": "stderr",
          "text": [
            "\r 49%|████▉     | 246/500 [57:20<1:00:00, 14.17s/it]"
          ]
        },
        {
          "output_type": "stream",
          "name": "stdout",
          "text": [
            "potatoes, onions, oil, garlic cloves, paprika, kielbasa\n",
            "\n",
            "=== Allergen Substitutions Made ===\n",
            "Replaced 'potatoes' with 'hearts of palm'\n",
            "Replaced 'oil' with 'coconut oil'\n",
            "\n",
            "==================================================\n",
            "Generating recipe for: nana s spinach gnocchi\n",
            "==================================================\n"
          ]
        },
        {
          "output_type": "stream",
          "name": "stderr",
          "text": [
            "\r 49%|████▉     | 247/500 [57:35<1:00:18, 14.30s/it]"
          ]
        },
        {
          "output_type": "stream",
          "name": "stdout",
          "text": [
            "spinach, potatoes, egg yolks, parmesan cheese, salt, flour, boiling water, butter\n",
            "\n",
            "=== Allergen Substitutions Made ===\n",
            "Replaced 'spinach' with 'seeds'\n",
            "Replaced 'salt' with 'coconut yogurt'\n",
            "Replaced 'butter' with 'coconut oil'\n",
            "\n",
            "==================================================\n",
            "Generating recipe for: savory chicken and broth\n",
            "==================================================\n"
          ]
        },
        {
          "output_type": "stream",
          "name": "stderr",
          "text": [
            "\r 50%|████▉     | 248/500 [57:50<1:00:21, 14.37s/it]"
          ]
        },
        {
          "output_type": "stream",
          "name": "stdout",
          "text": [
            "chicken thighs, chicken broth, beer, thyme leaves, mccormick's montreal brand steak seasoning, seasoning salt, celery seed, poultry seasoning\n",
            "\n",
            "==================================================\n",
            "Generating recipe for: orange coffee topped with honey nougat chocolate and orange peel\n",
            "==================================================\n"
          ]
        },
        {
          "output_type": "stream",
          "name": "stderr",
          "text": [
            "\r 50%|████▉     | 249/500 [58:04<59:57, 14.33s/it]  "
          ]
        },
        {
          "output_type": "stream",
          "name": "stdout",
          "text": [
            "cream, sugar, toblerone chocolate bars, orange, brewed coffee, orange rind\n",
            "\n",
            "=== Allergen Substitutions Made ===\n",
            "Replaced 'cream' with 'coconut cream'\n",
            "\n",
            "==================================================\n",
            "Generating recipe for: sloppy joe s on cornbread\n",
            "==================================================\n"
          ]
        },
        {
          "output_type": "stream",
          "name": "stderr",
          "text": [
            "\r 50%|█████     | 250/500 [58:18<59:32, 14.29s/it]"
          ]
        },
        {
          "output_type": "stream",
          "name": "stdout",
          "text": [
            "ground beef, onion, sweet pepper, celery, carrot, canned whole tomatoes, tomato puree, black pepper, salt\n",
            "\n",
            "=== Allergen Substitutions Made ===\n",
            "Replaced 'onion' with 'seeds'\n",
            "Replaced 'carrot' with 'hearts of palm'\n",
            "\n",
            "Progress saved to generated_recipes_temp_250.json\n",
            "\n",
            "==================================================\n",
            "Generating recipe for: romaine  apple  and gorgonzola salad\n",
            "==================================================\n"
          ]
        },
        {
          "output_type": "stream",
          "name": "stderr",
          "text": [
            "\r 50%|█████     | 251/500 [58:32<59:18, 14.29s/it]"
          ]
        },
        {
          "output_type": "stream",
          "name": "stdout",
          "text": [
            "sugar, white wine vinegar, red wine vinegar, dijon mustard, extra virgin olive oil, shallot, dried tarragon, salt, fresh ground black pepper, romaine lettuce, butter, walnuts, granny smith apple, gorgonzola\n",
            "\n",
            "=== Allergen Substitutions Made ===\n",
            "Replaced 'sugar' with 'coconut yogurt'\n",
            "Replaced 'salt' with 'coconut yogurt'\n",
            "\n",
            "==================================================\n",
            "Generating recipe for: tequila honey glazed chicken with jalapeno\n",
            "==================================================\n"
          ]
        },
        {
          "output_type": "stream",
          "name": "stderr",
          "text": [
            "\r 50%|█████     | 252/500 [58:46<58:57, 14.27s/it]"
          ]
        },
        {
          "output_type": "stream",
          "name": "stdout",
          "text": [
            "ground coriander, kosher salt, red pepper, boneless skinless chicken breast halves, orange juice, tequila, brown sugar, honey, jalapeno pepper, diced onion\n",
            "\n",
            "==================================================\n",
            "Generating recipe for: hot salty nuts\n",
            "==================================================\n"
          ]
        },
        {
          "output_type": "stream",
          "name": "stderr",
          "text": [
            "\r 51%|█████     | 253/500 [59:01<58:40, 14.25s/it]"
          ]
        },
        {
          "output_type": "stream",
          "name": "stdout",
          "text": [
            "unsalted nuts, egg white, kosher salt, sugar, red pepper flakes, cumin, oregano, cayenne pepper\n",
            "\n",
            "==================================================\n",
            "Generating recipe for: chicken on a warm lentil salad\n",
            "==================================================\n"
          ]
        },
        {
          "output_type": "stream",
          "name": "stderr",
          "text": [
            "\r 51%|█████     | 254/500 [59:15<58:23, 14.24s/it]"
          ]
        },
        {
          "output_type": "stream",
          "name": "stdout",
          "text": [
            "chicken breast fillets, olive oil, brown onion, rindless bacon, garlic cloves, dry white wine, chicken stock, lentils, cherry tomatoes, flat leaf parsley\n",
            "\n",
            "=== Allergen Substitutions Made ===\n",
            "Replaced 'olive oil' with 'coconut oil'\n",
            "Replaced 'lentils' with 'hearts of palm'\n",
            "\n",
            "==================================================\n",
            "Generating recipe for: chili dog pie\n",
            "==================================================\n"
          ]
        },
        {
          "output_type": "stream",
          "name": "stderr",
          "text": [
            "\r 51%|█████     | 255/500 [59:29<57:57, 14.19s/it]"
          ]
        },
        {
          "output_type": "stream",
          "name": "stdout",
          "text": [
            "bisquick baking mix, yellow mustard, water, hot dogs, chili, cheddar cheese\n",
            "\n",
            "==================================================\n",
            "Generating recipe for: strawberry pineapple breakfast protein shake\n",
            "==================================================\n"
          ]
        },
        {
          "output_type": "stream",
          "name": "stderr",
          "text": [
            "\r 51%|█████     | 256/500 [59:39<52:14, 12.84s/it]"
          ]
        },
        {
          "output_type": "stream",
          "name": "stdout",
          "text": [
            "frozen strawberries, vanilla protein powder, flax seed oil, lemon, buttermilk, pineapple juice\n",
            "\n",
            "==================================================\n",
            "Generating recipe for: baked tomatoes w broccoli stuffing\n",
            "==================================================\n"
          ]
        },
        {
          "output_type": "stream",
          "name": "stderr",
          "text": [
            "\r 51%|█████▏    | 257/500 [59:53<53:32, 13.22s/it]"
          ]
        },
        {
          "output_type": "stream",
          "name": "stdout",
          "text": [
            "tomatoes, broccoli, cracker crumb, accent seasoning, salt, pepper, onions, cooked bacon, butter\n",
            "\n",
            "==================================================\n",
            "Generating recipe for: brothy chinese noodles\n",
            "==================================================\n"
          ]
        },
        {
          "output_type": "stream",
          "name": "stderr",
          "text": [
            "\r 52%|█████▏    | 258/500 [59:57<42:13, 10.47s/it]"
          ]
        },
        {
          "output_type": "stream",
          "name": "stdout",
          "text": [
            "sesame oil, lean ground turkey, scallion, garlic cloves, fresh ginger, reduced-sodium chicken broth, water, bok choy, chinese noodles, reduced sodium soy sauce, rice vinegar, cucumber\n",
            "\n",
            "==================================================\n",
            "Generating recipe for: the realtor s chocolate surprise\n",
            "==================================================\n"
          ]
        },
        {
          "output_type": "stream",
          "name": "stderr",
          "text": [
            "\r 52%|█████▏    | 259/500 [1:00:11<46:33, 11.59s/it]"
          ]
        },
        {
          "output_type": "stream",
          "name": "stdout",
          "text": [
            "butter, flour, nuts, cream cheese, powdered sugar, cool whip, chocolate instant pudding, milk\n",
            "\n",
            "=== Allergen Substitutions Made ===\n",
            "Replaced 'butter' with 'coconut oil'\n",
            "Replaced 'flour' with 'almond flour'\n",
            "Replaced 'nuts' with 'seeds'\n",
            "Replaced 'milk' with 'oat milk'\n",
            "\n",
            "==================================================\n",
            "Generating recipe for: african chicken in spicy red sauce\n",
            "==================================================\n"
          ]
        },
        {
          "output_type": "stream",
          "name": "stderr",
          "text": [
            "\r 52%|█████▏    | 260/500 [1:00:26<50:09, 12.54s/it]"
          ]
        },
        {
          "output_type": "stream",
          "name": "stdout",
          "text": [
            "boneless chicken breasts, fresh lemon juice, salt, olive oil, onions, garlic, butter, minced ginger, ground nutmeg, ground cardamom, dry red wine, chicken broth, tomato paste, fresh cilantro, lemon wedges, ground red pepper, fresh ground black pepper, ground ginger, ground cinnamon, ground cloves\n",
            "\n",
            "=== Allergen Substitutions Made ===\n",
            "Replaced 'garlic' with 'coconut oil'\n",
            "Replaced 'butter' with 'coconut oil'\n",
            "\n",
            "==================================================\n",
            "Generating recipe for: metzger s spaghetti sauce\n",
            "==================================================\n"
          ]
        },
        {
          "output_type": "stream",
          "name": "stderr",
          "text": [
            "\r 52%|█████▏    | 261/500 [1:00:40<51:47, 13.00s/it]"
          ]
        },
        {
          "output_type": "stream",
          "name": "stdout",
          "text": [
            "crushed tomatoes, tomato paste, garlic cloves, extra virgin olive oil, oregano, basil, italian seasoning, bay leaves, onion, italian sausage, black pepper\n",
            "\n",
            "=== Allergen Substitutions Made ===\n",
            "Replaced 'onion' with 'seeds'\n",
            "Replaced 'italian sausage' with 'nutritional yeast'\n",
            "\n",
            "==================================================\n",
            "Generating recipe for: artichoke  mushroom and parma ham tart\n",
            "==================================================\n"
          ]
        },
        {
          "output_type": "stream",
          "name": "stderr",
          "text": [
            "\r 52%|█████▏    | 262/500 [1:00:54<53:04, 13.38s/it]"
          ]
        },
        {
          "output_type": "stream",
          "name": "stdout",
          "text": [
            "all-purpose flour, parmesan cheese, butter, egg, olive oil, fresh mushrooms, parma ham, artichoke hearts, creme fraiche, eggs, flat leaf parsley, milk, salt, ground black pepper\n",
            "\n",
            "=== Allergen Substitutions Made ===\n",
            "Replaced 'butter' with 'coconut oil'\n",
            "Replaced 'salt' with 'coconut yogurt'\n",
            "\n",
            "==================================================\n",
            "Generating recipe for: navajo fry bread   traditional\n",
            "==================================================\n"
          ]
        },
        {
          "output_type": "stream",
          "name": "stderr",
          "text": [
            "\r 53%|█████▎    | 263/500 [1:01:08<53:40, 13.59s/it]"
          ]
        },
        {
          "output_type": "stream",
          "name": "stdout",
          "text": [
            "flour, baking powder, salt, warm water, shortening, onions, cheddar cheese, lettuce, tomatoes, chilies, hot chili beans, sour cream\n",
            "\n",
            "=== Allergen Substitutions Made ===\n",
            "Replaced 'flour' with 'almond flour'\n",
            "Replaced 'salt' with 'coconut yogurt'\n",
            "\n",
            "==================================================\n",
            "Generating recipe for: lassie\n",
            "==================================================\n"
          ]
        },
        {
          "output_type": "stream",
          "name": "stderr",
          "text": [
            "\r 53%|█████▎    | 264/500 [1:01:22<54:10, 13.77s/it]"
          ]
        },
        {
          "output_type": "stream",
          "name": "stdout",
          "text": [
            "mascarpone cheese, cream, saffron, banana, frozen blueberries, sparkling water, splenda sugar substitute, cardamom, lemon juice, ice cubes, puffed rice cereal\n",
            "\n",
            "=== Allergen Substitutions Made ===\n",
            "Replaced 'cream' with 'coconut cream'\n",
            "Replaced 'saffron' with 'coconut cream'\n",
            "Replaced 'banana' with 'flax eggs'\n",
            "\n",
            "==================================================\n",
            "Generating recipe for: crock pot parmesan potatoes\n",
            "==================================================\n"
          ]
        },
        {
          "output_type": "stream",
          "name": "stderr",
          "text": [
            "\r 53%|█████▎    | 265/500 [1:01:36<54:17, 13.86s/it]"
          ]
        },
        {
          "output_type": "stream",
          "name": "stdout",
          "text": [
            "potatoes, bacon, parmesan cheese, cream of mushroom soup, salt and pepper\n",
            "\n",
            "=== Allergen Substitutions Made ===\n",
            "Replaced 'potatoes' with 'hearts of palm'\n",
            "Replaced 'bacon' with 'oat milk'\n",
            "\n",
            "==================================================\n",
            "Generating recipe for: peanut butter  peanut butter chip or chocolate peanut squares\n",
            "==================================================\n"
          ]
        },
        {
          "output_type": "stream",
          "name": "stderr",
          "text": [
            "\r 53%|█████▎    | 266/500 [1:01:51<54:27, 13.96s/it]"
          ]
        },
        {
          "output_type": "stream",
          "name": "stdout",
          "text": [
            "shortening, peanut butter, sugar, egg, salt, vanilla, baking soda, all-purpose flour, butter, powdered sugar, milk, unsweetened chocolate, chocolate chips, chocolate wafers\n",
            "\n",
            "=== Allergen Substitutions Made ===\n",
            "Replaced 'sugar' with 'coconut yogurt'\n",
            "Replaced 'egg' with 'flax eggs'\n",
            "Replaced 'salt' with 'coconut yogurt'\n",
            "Replaced 'butter' with 'coconut oil'\n",
            "\n",
            "==================================================\n",
            "Generating recipe for: creamy cheddar vegetable sauce\n",
            "==================================================\n"
          ]
        },
        {
          "output_type": "stream",
          "name": "stderr",
          "text": [
            "\r 53%|█████▎    | 267/500 [1:02:05<54:30, 14.04s/it]"
          ]
        },
        {
          "output_type": "stream",
          "name": "stdout",
          "text": [
            "fresh mushrooms, butter, flour, salt, milk, sour cream, cheddar cheese, worcestershire sauce, dry mustard\n",
            "\n",
            "=== Allergen Substitutions Made ===\n",
            "Replaced 'butter' with 'coconut oil'\n",
            "Replaced 'salt' with 'coconut yogurt'\n",
            "\n",
            "==================================================\n",
            "Generating recipe for: brie leek tartlets\n",
            "==================================================\n"
          ]
        },
        {
          "output_type": "stream",
          "name": "stderr",
          "text": [
            "\r 54%|█████▎    | 268/500 [1:02:19<54:26, 14.08s/it]"
          ]
        },
        {
          "output_type": "stream",
          "name": "stdout",
          "text": [
            "leek, garlic clove, butter, heavy whipping cream, salt, white pepper, ground nutmeg, frozen miniature phyllo tart shells, brie cheese\n",
            "\n",
            "=== Allergen Substitutions Made ===\n",
            "Replaced 'salt' with 'coconut yogurt'\n",
            "\n",
            "==================================================\n",
            "Generating recipe for: honduran mango avocado salsa\n",
            "==================================================\n"
          ]
        },
        {
          "output_type": "stream",
          "name": "stderr",
          "text": [
            "\r 54%|█████▍    | 269/500 [1:02:33<54:20, 14.12s/it]"
          ]
        },
        {
          "output_type": "stream",
          "name": "stdout",
          "text": [
            "mango, avocados, tomatoes, red onion, red pepper, garlic powder, lime juice\n",
            "\n",
            "=== Allergen Substitutions Made ===\n",
            "Replaced 'mango' with 'oat milk'\n",
            "Replaced 'avocados' with 'hearts of palm'\n",
            "\n",
            "==================================================\n",
            "Generating recipe for: deviled eggs with bacon\n",
            "==================================================\n"
          ]
        },
        {
          "output_type": "stream",
          "name": "stderr",
          "text": [
            "\r 54%|█████▍    | 270/500 [1:02:47<54:11, 14.14s/it]"
          ]
        },
        {
          "output_type": "stream",
          "name": "stdout",
          "text": [
            "hard-boiled eggs, bacon, green onion, prepared mustard, mayonnaise, salt, ground black pepper, paprika\n",
            "\n",
            "==================================================\n",
            "Generating recipe for: cheese and ham pockets\n",
            "==================================================\n"
          ]
        },
        {
          "output_type": "stream",
          "name": "stderr",
          "text": [
            "\r 54%|█████▍    | 271/500 [1:03:03<55:26, 14.53s/it]"
          ]
        },
        {
          "output_type": "stream",
          "name": "stdout",
          "text": [
            "refrigerated biscuits, cubed ham, cheese\n",
            "\n",
            "=== Allergen Substitutions Made ===\n",
            "Replaced 'cheese' with 'nutritional yeast'\n",
            "\n",
            "==================================================\n",
            "Generating recipe for: strawberry mango exotic smoothie\n",
            "==================================================\n"
          ]
        },
        {
          "output_type": "stream",
          "name": "stderr",
          "text": [
            "\r 54%|█████▍    | 272/500 [1:03:17<54:45, 14.41s/it]"
          ]
        },
        {
          "output_type": "stream",
          "name": "stdout",
          "text": [
            "mangoes, frozen strawberries, orange juice, mango sherbet, honey\n",
            "\n",
            "=== Allergen Substitutions Made ===\n",
            "Replaced 'mangoes' with 'seeds'\n",
            "\n",
            "==================================================\n",
            "Generating recipe for: green goddess crab salad\n",
            "==================================================\n"
          ]
        },
        {
          "output_type": "stream",
          "name": "stderr",
          "text": [
            "\r 55%|█████▍    | 273/500 [1:03:31<54:14, 14.34s/it]"
          ]
        },
        {
          "output_type": "stream",
          "name": "stdout",
          "text": [
            "imitation crabmeat, shell pasta, grape tomatoes, cucumber, nonfat sour cream, light mayonnaise, skim milk, green goddess salad dressing mix, 2% cheddar cheese\n",
            "\n",
            "==================================================\n",
            "Generating recipe for: carrot haters casserole\n",
            "==================================================\n"
          ]
        },
        {
          "output_type": "stream",
          "name": "stderr",
          "text": [
            "\r 55%|█████▍    | 274/500 [1:03:45<53:49, 14.29s/it]"
          ]
        },
        {
          "output_type": "stream",
          "name": "stdout",
          "text": [
            "carrots, mayonnaise, onions, prepared horseradish, cheddar cheese, buttered bread crumbs\n",
            "\n",
            "==================================================\n",
            "Generating recipe for: kid friendly mediterranean turkey burgers\n",
            "==================================================\n"
          ]
        },
        {
          "output_type": "stream",
          "name": "stderr",
          "text": [
            "\r 55%|█████▌    | 275/500 [1:04:00<53:24, 14.24s/it]"
          ]
        },
        {
          "output_type": "stream",
          "name": "stdout",
          "text": [
            "ground turkey, bosc pear, egg, panko breadcrumbs, fresh flat-leaf parsley, garlic cloves, fresh sage, fresh rosemary leaves, ground allspice, coarse salt, fresh ground pepper\n",
            "\n",
            "=== Allergen Substitutions Made ===\n",
            "Replaced 'egg' with 'flax eggs'\n",
            "\n",
            "==================================================\n",
            "Generating recipe for: super  spinach salad\n",
            "==================================================\n"
          ]
        },
        {
          "output_type": "stream",
          "name": "stderr",
          "text": [
            "\r 55%|█████▌    | 276/500 [1:04:14<53:05, 14.22s/it]"
          ]
        },
        {
          "output_type": "stream",
          "name": "stdout",
          "text": [
            "vegetable oil, onion, brown sugar, red wine vinegar, catsup, worcestershire sauce, dry mustard, bacon, spinach, bean sprouts, mushrooms, green onions, water chestnut, hard-boiled eggs, dry roasted sunflower seeds\n",
            "\n",
            "==================================================\n",
            "Generating recipe for: seafood dressing\n",
            "==================================================\n"
          ]
        },
        {
          "output_type": "stream",
          "name": "stderr",
          "text": [
            "\r 55%|█████▌    | 277/500 [1:04:28<52:47, 14.20s/it]"
          ]
        },
        {
          "output_type": "stream",
          "name": "stdout",
          "text": [
            "mayonnaise, french dressing, mango chutney, lime juice, curry powder, salt and pepper\n",
            "\n",
            "==================================================\n",
            "Generating recipe for: flaming green dragon\n",
            "==================================================\n"
          ]
        },
        {
          "output_type": "stream",
          "name": "stderr",
          "text": [
            "\r 56%|█████▌    | 278/500 [1:04:42<52:17, 14.13s/it]"
          ]
        },
        {
          "output_type": "stream",
          "name": "stdout",
          "text": [
            "midori melon liqueur, bacardi 151 rum\n",
            "\n",
            "==================================================\n",
            "Generating recipe for: chocolate banana muffin\n",
            "==================================================\n"
          ]
        },
        {
          "output_type": "stream",
          "name": "stderr",
          "text": [
            "\r 56%|█████▌    | 279/500 [1:04:56<52:02, 14.13s/it]"
          ]
        },
        {
          "output_type": "stream",
          "name": "stdout",
          "text": [
            "unsalted butter, whole milk, eggs, egg yolks, vanilla extract, all-purpose flour, brown sugar, cocoa powder, baking powder, salt, bananas\n",
            "\n",
            "==================================================\n",
            "Generating recipe for: spicy cocoa chicken\n",
            "==================================================\n"
          ]
        },
        {
          "output_type": "stream",
          "name": "stderr",
          "text": [
            "\r 56%|█████▌    | 280/500 [1:05:10<51:50, 14.14s/it]"
          ]
        },
        {
          "output_type": "stream",
          "name": "stdout",
          "text": [
            "chicken drumsticks, corn flakes, cayenne pepper, baking cocoa, sea salt, extra virgin olive oil, artificial sweetener\n",
            "\n",
            "==================================================\n",
            "Generating recipe for: braised leeks with mustard cream\n",
            "==================================================\n"
          ]
        },
        {
          "output_type": "stream",
          "name": "stderr",
          "text": [
            "\r 56%|█████▌    | 281/500 [1:05:24<51:34, 14.13s/it]"
          ]
        },
        {
          "output_type": "stream",
          "name": "stdout",
          "text": [
            "unsalted butter, olive oil, leeks, chicken stock, shallots, dry white wine, cream, dijon mustard, sea salt, fresh ground black pepper\n",
            "\n",
            "=== Allergen Substitutions Made ===\n",
            "Replaced 'olive oil' with 'coconut oil'\n",
            "\n",
            "==================================================\n",
            "Generating recipe for: marinated peppers and mozzarella\n",
            "==================================================\n"
          ]
        },
        {
          "output_type": "stream",
          "name": "stderr",
          "text": [
            "\r 56%|█████▋    | 282/500 [1:05:40<52:51, 14.55s/it]"
          ]
        },
        {
          "output_type": "stream",
          "name": "stdout",
          "text": [
            "sweet peppers, olive oil, garlic cloves, lemon rind, crushed red pepper flakes, salt, mozzarella cheese, basil leaves, fresh lemon juice\n",
            "\n",
            "=== Allergen Substitutions Made ===\n",
            "Replaced 'salt' with 'coconut yogurt'\n",
            "\n",
            "==================================================\n",
            "Generating recipe for: southern cornbread salad\n",
            "==================================================\n"
          ]
        },
        {
          "output_type": "stream",
          "name": "stderr",
          "text": [
            "\r 57%|█████▋    | 283/500 [1:05:54<52:11, 14.43s/it]"
          ]
        },
        {
          "output_type": "stream",
          "name": "stdout",
          "text": [
            "cornbread, red kidney beans, corn niblets, vidalia onion, green bell pepper, tomatoes, sharp cheddar cheese, ranch dressing, fresh parsley\n",
            "\n",
            "==================================================\n",
            "Generating recipe for: hashwe  arabian stuffed vegetables\n",
            "==================================================\n"
          ]
        },
        {
          "output_type": "stream",
          "name": "stderr",
          "text": [
            "\r 57%|█████▋    | 284/500 [1:06:08<51:39, 14.35s/it]"
          ]
        },
        {
          "output_type": "stream",
          "name": "stdout",
          "text": [
            "water, long-grain rice, garlic cloves, lamb, beef, ground cinnamon, nutmeg, ground allspice, salt & freshly ground black pepper, butter, tomatoes, zucchini, bell peppers, canned tomato sauce, lemon, juice of\n",
            "\n",
            "=== Allergen Substitutions Made ===\n",
            "Replaced 'water' with 'flax eggs'\n",
            "\n",
            "==================================================\n",
            "Generating recipe for: smores krispie treats\n",
            "==================================================\n"
          ]
        },
        {
          "output_type": "stream",
          "name": "stderr",
          "text": [
            "\r 57%|█████▋    | 285/500 [1:06:22<51:10, 14.28s/it]"
          ]
        },
        {
          "output_type": "stream",
          "name": "stdout",
          "text": [
            "butter, mini marshmallows, salt, pure vanilla extract, rice krispies, graham crackers, milk chocolate chips\n",
            "\n",
            "=== Allergen Substitutions Made ===\n",
            "Replaced 'butter' with 'coconut oil'\n",
            "Replaced 'salt' with 'coconut yogurt'\n",
            "\n",
            "==================================================\n",
            "Generating recipe for: peanut butter cheese fudge\n",
            "==================================================\n"
          ]
        },
        {
          "output_type": "stream",
          "name": "stderr",
          "text": [
            "\r 57%|█████▋    | 286/500 [1:06:36<50:50, 14.26s/it]"
          ]
        },
        {
          "output_type": "stream",
          "name": "stdout",
          "text": [
            "velveeta cheese, butter, creamy peanut butter, vanilla extract, nuts, confectioners' sugar\n",
            "\n",
            "=== Allergen Substitutions Made ===\n",
            "Replaced 'butter' with 'coconut oil'\n",
            "Replaced 'nuts' with 'seeds'\n",
            "\n",
            "==================================================\n",
            "Generating recipe for: bacon cheeseburger dinner\n",
            "==================================================\n"
          ]
        },
        {
          "output_type": "stream",
          "name": "stderr",
          "text": [
            "\r 57%|█████▋    | 287/500 [1:06:50<50:27, 14.21s/it]"
          ]
        },
        {
          "output_type": "stream",
          "name": "stdout",
          "text": [
            "ground beef, onion, hot water, milk, hamburger helper cheeseburger macaroni, barbecue sauce, cheddar cheese, bacon\n",
            "\n",
            "==================================================\n",
            "Generating recipe for: fresh mushroom soup\n",
            "==================================================\n"
          ]
        },
        {
          "output_type": "stream",
          "name": "stderr",
          "text": [
            "\r 58%|█████▊    | 288/500 [1:07:05<50:12, 14.21s/it]"
          ]
        },
        {
          "output_type": "stream",
          "name": "stdout",
          "text": [
            "low sodium chicken broth, nonfat dry milk powder, margarine, onion, garlic cloves, mushrooms, flour, dry sherry, lemon rind, fresh parsley, fresh lemon juice\n",
            "\n",
            "=== Allergen Substitutions Made ===\n",
            "Replaced 'onion' with 'seeds'\n",
            "Replaced 'flour' with 'almond flour'\n",
            "\n",
            "==================================================\n",
            "Generating recipe for: humble hash browns casserole\n",
            "==================================================\n"
          ]
        },
        {
          "output_type": "stream",
          "name": "stderr",
          "text": [
            "\r 58%|█████▊    | 289/500 [1:07:19<49:53, 14.19s/it]"
          ]
        },
        {
          "output_type": "stream",
          "name": "stdout",
          "text": [
            "frozen hash browns, extra lean ground beef, cream of mushroom soup, beef bouillon granules, onion, milk, cheddar cheese, green beans, seasoning\n",
            "\n",
            "==================================================\n",
            "Generating recipe for: grammie bea s blueberry feather cake\n",
            "==================================================\n"
          ]
        },
        {
          "output_type": "stream",
          "name": "stderr",
          "text": [
            "\r 58%|█████▊    | 290/500 [1:07:33<49:39, 14.19s/it]"
          ]
        },
        {
          "output_type": "stream",
          "name": "stdout",
          "text": [
            "shortening, sugar, eggs, vanilla, cake flour, salt, baking powder, milk, blueberries\n",
            "\n",
            "=== Allergen Substitutions Made ===\n",
            "Replaced 'sugar' with 'coconut yogurt'\n",
            "\n",
            "==================================================\n",
            "Generating recipe for: triple lemon ripple cake\n",
            "==================================================\n"
          ]
        },
        {
          "output_type": "stream",
          "name": "stderr",
          "text": [
            "\r 58%|█████▊    | 291/500 [1:07:47<49:25, 14.19s/it]"
          ]
        },
        {
          "output_type": "stream",
          "name": "stdout",
          "text": [
            "cream cheese, sugar, egg, all-purpose flour, lemon juice, butter, eggs, baking powder, salt, milk, nonstick cooking spray, confectioners' sugar\n",
            "\n",
            "==================================================\n",
            "Generating recipe for: crab salad  imitation crab\n",
            "==================================================\n"
          ]
        },
        {
          "output_type": "stream",
          "name": "stderr",
          "text": [
            "\r 58%|█████▊    | 292/500 [1:08:01<49:13, 14.20s/it]"
          ]
        },
        {
          "output_type": "stream",
          "name": "stdout",
          "text": [
            "imitation crabmeat, celery, water chestnuts, olive, capers, worcestershire sauce, fresh lemon juice, mayonnaise, herb seasoning mix\n",
            "\n",
            "==================================================\n",
            "Generating recipe for: pork with braised cabbage\n",
            "==================================================\n"
          ]
        },
        {
          "output_type": "stream",
          "name": "stderr",
          "text": [
            "\r 59%|█████▊    | 293/500 [1:08:17<49:57, 14.48s/it]"
          ]
        },
        {
          "output_type": "stream",
          "name": "stdout",
          "text": [
            "pork, salt & fresh ground pepper, butter, canola oil, balsamic vinegar, dry sherry, homemade chicken stock, bacon, cabbage, dijon mustard, plum tomato, chives\n",
            "\n",
            "=== Allergen Substitutions Made ===\n",
            "Replaced 'pork' with 'oat milk'\n",
            "Replaced 'bacon' with 'oat milk'\n",
            "Replaced 'cabbage' with 'king oyster mushrooms'\n",
            "\n",
            "==================================================\n",
            "Generating recipe for: red snapper with basil vinaigrette\n",
            "==================================================\n"
          ]
        },
        {
          "output_type": "stream",
          "name": "stderr",
          "text": [
            "\r 59%|█████▉    | 294/500 [1:08:31<49:23, 14.39s/it]"
          ]
        },
        {
          "output_type": "stream",
          "name": "stdout",
          "text": [
            "red snapper fillets, salt, black pepper, fresh lemon juice, extra virgin olive oil, fresh basil\n",
            "\n",
            "=== Allergen Substitutions Made ===\n",
            "Replaced 'salt' with 'coconut yogurt'\n",
            "\n",
            "==================================================\n",
            "Generating recipe for: ada s peanut butter fudge\n",
            "==================================================\n"
          ]
        },
        {
          "output_type": "stream",
          "name": "stderr",
          "text": [
            "\r 59%|█████▉    | 295/500 [1:08:45<48:53, 14.31s/it]"
          ]
        },
        {
          "output_type": "stream",
          "name": "stdout",
          "text": [
            "brown sugar, granulated sugar, butter, vanilla, evaporated milk, peanut butter, marshmallow cream\n",
            "\n",
            "=== Allergen Substitutions Made ===\n",
            "Replaced 'butter' with 'coconut oil'\n",
            "\n",
            "==================================================\n",
            "Generating recipe for: white snowflake cookies\n",
            "==================================================\n"
          ]
        },
        {
          "output_type": "stream",
          "name": "stderr",
          "text": [
            "\r 59%|█████▉    | 296/500 [1:08:59<48:30, 14.27s/it]"
          ]
        },
        {
          "output_type": "stream",
          "name": "stdout",
          "text": [
            "butter, sugar, vanilla, egg, flour, baking soda, sweetened flaked coconut, white chocolate chips, powdered sugar\n",
            "\n",
            "=== Allergen Substitutions Made ===\n",
            "Replaced 'butter' with 'coconut oil'\n",
            "Replaced 'sugar' with 'coconut yogurt'\n",
            "Replaced 'flour' with 'almond flour'\n",
            "\n",
            "==================================================\n",
            "Generating recipe for: cream cheese apple cake\n",
            "==================================================\n"
          ]
        },
        {
          "output_type": "stream",
          "name": "stderr",
          "text": [
            "\r 59%|█████▉    | 297/500 [1:09:13<48:05, 14.21s/it]"
          ]
        },
        {
          "output_type": "stream",
          "name": "stdout",
          "text": [
            "butter, eggs, vanilla, cream cheese, sugar, apples, flour, baking powder, salt, cinnamon\n",
            "\n",
            "=== Allergen Substitutions Made ===\n",
            "Replaced 'butter' with 'coconut oil'\n",
            "\n",
            "==================================================\n",
            "Generating recipe for: crispy baked chicken made with instant potatoes\n",
            "==================================================\n"
          ]
        },
        {
          "output_type": "stream",
          "name": "stderr",
          "text": [
            "\r 60%|█████▉    | 298/500 [1:09:27<47:41, 14.17s/it]"
          ]
        },
        {
          "output_type": "stream",
          "name": "stdout",
          "text": [
            "instant potato flakes, parmesan cheese, garlic salt, frying chickens, butter\n",
            "\n",
            "=== Allergen Substitutions Made ===\n",
            "Replaced 'butter' with 'coconut oil'\n",
            "\n",
            "==================================================\n",
            "Generating recipe for: mimi s  barbecue   sloppy joes\n",
            "==================================================\n"
          ]
        },
        {
          "output_type": "stream",
          "name": "stderr",
          "text": [
            "\r 60%|█████▉    | 299/500 [1:09:41<47:22, 14.14s/it]"
          ]
        },
        {
          "output_type": "stream",
          "name": "stdout",
          "text": [
            "ground beef, chili sauce, ketchup, yellow mustard, worcestershire sauce, hamburger buns\n",
            "\n",
            "==================================================\n",
            "Generating recipe for: green beans in tomato salsa\n",
            "==================================================\n"
          ]
        },
        {
          "output_type": "stream",
          "name": "stderr",
          "text": [
            "\r 60%|██████    | 300/500 [1:09:55<47:08, 14.14s/it]"
          ]
        },
        {
          "output_type": "stream",
          "name": "stdout",
          "text": [
            "olive oil, garlic, fresh green beans, tomatoes, onion, tomato paste, salt and pepper\n",
            "\n",
            "=== Allergen Substitutions Made ===\n",
            "Replaced 'olive oil' with 'coconut oil'\n",
            "Replaced 'garlic' with 'coconut oil'\n",
            "Replaced 'tomatoes' with 'coconut aminos'\n",
            "Replaced 'onion' with 'seeds'\n",
            "\n",
            "Progress saved to generated_recipes_temp_300.json\n",
            "\n",
            "==================================================\n",
            "Generating recipe for: beef roast with golden mushroom gravy\n",
            "==================================================\n"
          ]
        },
        {
          "output_type": "stream",
          "name": "stderr",
          "text": [
            "\r 60%|██████    | 301/500 [1:10:10<46:53, 14.14s/it]"
          ]
        },
        {
          "output_type": "stream",
          "name": "stdout",
          "text": [
            "beef eye round, campbell's golden mushroom soup, lipton onion soup mix, olive oil, garlic cloves, salt, pepper\n",
            "\n",
            "=== Allergen Substitutions Made ===\n",
            "Replaced 'salt' with 'coconut yogurt'\n",
            "Replaced 'pepper' with 'flax eggs'\n",
            "\n",
            "==================================================\n",
            "Generating recipe for: tangy caesar salad\n",
            "==================================================\n"
          ]
        },
        {
          "output_type": "stream",
          "name": "stderr",
          "text": [
            "\r 60%|██████    | 302/500 [1:10:24<46:40, 14.14s/it]"
          ]
        },
        {
          "output_type": "stream",
          "name": "stdout",
          "text": [
            "romaine lettuce, caesar salad dressing, lemon juice, black pepper, parmesan cheese, caesar-flavor croutons\n",
            "\n",
            "==================================================\n",
            "Generating recipe for: guilt free west coast cheese sauce\n",
            "==================================================\n"
          ]
        },
        {
          "output_type": "stream",
          "name": "stderr",
          "text": [
            "\r 61%|██████    | 303/500 [1:10:28<37:09, 11.32s/it]"
          ]
        },
        {
          "output_type": "stream",
          "name": "stdout",
          "text": [
            "nonfat sour cream, parmesan cheese, butter buds, evaporated skim milk\n",
            "\n",
            "==================================================\n",
            "Generating recipe for: louisiana roasted pecan pie\n",
            "==================================================\n"
          ]
        },
        {
          "output_type": "stream",
          "name": "stderr",
          "text": [
            "\r 61%|██████    | 304/500 [1:10:43<39:43, 12.16s/it]"
          ]
        },
        {
          "output_type": "stream",
          "name": "stdout",
          "text": [
            "unbaked pie shell, pecan pieces, eggs, sugar, brown sugar, corn syrup, butter, vanilla extract, bourbon, salt, pecan halves\n",
            "\n",
            "=== Allergen Substitutions Made ===\n",
            "Replaced 'pecan halves' with 'hearts of palm'\n",
            "\n",
            "==================================================\n",
            "Generating recipe for: linda s seasoned italian baked pork chops\n",
            "==================================================\n"
          ]
        },
        {
          "output_type": "stream",
          "name": "stderr",
          "text": [
            "\r 61%|██████    | 305/500 [1:10:57<41:55, 12.90s/it]"
          ]
        },
        {
          "output_type": "stream",
          "name": "stdout",
          "text": [
            "lean pork chops, italian seasoned breadcrumbs, italian seasoning, garlic powder, dried rosemary, salt and pepper, pam cooking spray\n",
            "\n",
            "==================================================\n",
            "Generating recipe for: purple waldorf salad\n",
            "==================================================\n"
          ]
        },
        {
          "output_type": "stream",
          "name": "stderr",
          "text": [
            "\r 61%|██████    | 306/500 [1:11:11<42:48, 13.24s/it]"
          ]
        },
        {
          "output_type": "stream",
          "name": "stdout",
          "text": [
            "cabbage, pecans, raisins, apple, mayonnaise, apple cider vinegar, sugar\n",
            "\n",
            "=== Allergen Substitutions Made ===\n",
            "Replaced 'cabbage' with 'king oyster mushrooms'\n",
            "\n",
            "==================================================\n",
            "Generating recipe for: spicy yellow rice\n",
            "==================================================\n"
          ]
        },
        {
          "output_type": "stream",
          "name": "stderr",
          "text": [
            "\r 61%|██████▏   | 307/500 [1:11:25<43:23, 13.49s/it]"
          ]
        },
        {
          "output_type": "stream",
          "name": "stdout",
          "text": [
            "butter, onion, green pepper, garlic cloves, long grain rice, water, bouillon cube, bay leaf, hot sauce, turmeric, oregano, salt, pepper\n",
            "\n",
            "=== Allergen Substitutions Made ===\n",
            "Replaced 'onion' with 'seeds'\n",
            "Replaced 'pepper' with 'flax eggs'\n",
            "\n",
            "==================================================\n",
            "Generating recipe for: mahogany chicken wings\n",
            "==================================================\n"
          ]
        },
        {
          "output_type": "stream",
          "name": "stderr",
          "text": [
            "\r 62%|██████▏   | 308/500 [1:11:39<43:41, 13.65s/it]"
          ]
        },
        {
          "output_type": "stream",
          "name": "stdout",
          "text": [
            "plum sauce, hoisin sauce, soy sauce, apple cider vinegar, dry sherry, honey, scallions, garlic cloves, chicken wings\n",
            "\n",
            "=== Allergen Substitutions Made ===\n",
            "Replaced 'plum sauce' with 'coconut aminos'\n",
            "Replaced 'hoisin sauce' with 'coconut aminos'\n",
            "\n",
            "==================================================\n",
            "Generating recipe for: the realtor s party potatoes\n",
            "==================================================\n"
          ]
        },
        {
          "output_type": "stream",
          "name": "stderr",
          "text": [
            "\r 62%|██████▏   | 309/500 [1:11:53<43:49, 13.77s/it]"
          ]
        },
        {
          "output_type": "stream",
          "name": "stdout",
          "text": [
            "potatoes, butter, cream cheese, sour cream, parmesan cheese, green onions, salt, pepper\n",
            "\n",
            "=== Allergen Substitutions Made ===\n",
            "Replaced 'potatoes' with 'hearts of palm'\n",
            "Replaced 'butter' with 'coconut oil'\n",
            "\n",
            "==================================================\n",
            "Generating recipe for: broccoli ritz casserole\n",
            "==================================================\n"
          ]
        },
        {
          "output_type": "stream",
          "name": "stderr",
          "text": [
            "\r 62%|██████▏   | 310/500 [1:12:07<43:58, 13.89s/it]"
          ]
        },
        {
          "output_type": "stream",
          "name": "stdout",
          "text": [
            "broccoli, fresh mushrooms, cheddar cheese, sliced water chestnuts, ritz cracker, butter\n",
            "\n",
            "=== Allergen Substitutions Made ===\n",
            "Replaced 'broccoli' with 'almond flour'\n",
            "\n",
            "==================================================\n",
            "Generating recipe for: lentil soup with andouille sausage\n",
            "==================================================\n"
          ]
        },
        {
          "output_type": "stream",
          "name": "stderr",
          "text": [
            "\r 62%|██████▏   | 311/500 [1:12:22<44:00, 13.97s/it]"
          ]
        },
        {
          "output_type": "stream",
          "name": "stdout",
          "text": [
            "chicken stock, beef stock, dried lentils, fennel seeds, olive oil, celery, carrot, onion, andouille sausage, dried thyme, creole seasoning, salt and pepper\n",
            "\n",
            "==================================================\n",
            "Generating recipe for: mini quiche\n",
            "==================================================\n"
          ]
        },
        {
          "output_type": "stream",
          "name": "stderr",
          "text": [
            "\r 62%|██████▏   | 312/500 [1:12:36<43:58, 14.04s/it]"
          ]
        },
        {
          "output_type": "stream",
          "name": "stdout",
          "text": [
            "eggs, milk, cream, nutmeg, plain flour, frozen puff pastry, dried chives, bacon, mozzarella cheese\n",
            "\n",
            "==================================================\n",
            "Generating recipe for: paula dean s ooey gooey chocolate chip cake\n",
            "==================================================\n"
          ]
        },
        {
          "output_type": "stream",
          "name": "stderr",
          "text": [
            "\r 63%|██████▎   | 313/500 [1:12:50<43:59, 14.11s/it]"
          ]
        },
        {
          "output_type": "stream",
          "name": "stdout",
          "text": [
            "yellow cake mix, egg, butter, cream cheese, eggs, pure vanilla extract, confectioners' sugar, chocolate chips\n",
            "\n",
            "=== Allergen Substitutions Made ===\n",
            "Replaced 'yellow cake mix' with 'flax eggs'\n",
            "Replaced 'butter' with 'coconut oil'\n",
            "\n",
            "==================================================\n",
            "Generating recipe for: cinnamon basmati rice with raisins\n",
            "==================================================\n"
          ]
        },
        {
          "output_type": "stream",
          "name": "stderr",
          "text": [
            "\r 63%|██████▎   | 314/500 [1:13:04<43:46, 14.12s/it]"
          ]
        },
        {
          "output_type": "stream",
          "name": "stdout",
          "text": [
            "butter, onion, ground cloves, cinnamon, basmati rice, golden raisin, salt, pepper\n",
            "\n",
            "=== Allergen Substitutions Made ===\n",
            "Replaced 'butter' with 'coconut oil'\n",
            "Replaced 'onion' with 'seeds'\n",
            "\n",
            "==================================================\n",
            "Generating recipe for: mix and match bundt cake\n",
            "==================================================\n"
          ]
        },
        {
          "output_type": "stream",
          "name": "stderr",
          "text": [
            "\r 63%|██████▎   | 315/500 [1:13:18<43:22, 14.07s/it]"
          ]
        },
        {
          "output_type": "stream",
          "name": "stdout",
          "text": [
            "cake mix, extract, eggs, pie filling\n",
            "\n",
            "=== Allergen Substitutions Made ===\n",
            "Replaced 'extract' with 'coconut cream'\n",
            "Replaced 'eggs' with 'flax eggs'\n",
            "\n",
            "==================================================\n",
            "Generating recipe for: xochipilli s carne guisada\n",
            "==================================================\n"
          ]
        },
        {
          "output_type": "stream",
          "name": "stderr",
          "text": [
            "\r 63%|██████▎   | 316/500 [1:13:32<43:08, 14.07s/it]"
          ]
        },
        {
          "output_type": "stream",
          "name": "stdout",
          "text": [
            "beef, green bell pepper, onion, tomatoes, garlic, whole cumin seeds, fresh ground black pepper, water, cornstarch, salt\n",
            "\n",
            "=== Allergen Substitutions Made ===\n",
            "Replaced 'beef' with 'coconut aminos'\n",
            "Replaced 'green bell pepper' with 'flax eggs'\n",
            "Replaced 'onion' with 'seeds'\n",
            "Replaced 'garlic' with 'coconut oil'\n",
            "\n",
            "==================================================\n",
            "Generating recipe for: oven pancake puff\n",
            "==================================================\n"
          ]
        },
        {
          "output_type": "stream",
          "name": "stderr",
          "text": [
            "\r 63%|██████▎   | 317/500 [1:13:47<43:41, 14.33s/it]"
          ]
        },
        {
          "output_type": "stream",
          "name": "stdout",
          "text": [
            "eggs, flour, milk, salt, butter\n",
            "\n",
            "==================================================\n",
            "Generating recipe for: green tomato casserole\n",
            "==================================================\n"
          ]
        },
        {
          "output_type": "stream",
          "name": "stderr",
          "text": [
            "\r 64%|██████▎   | 318/500 [1:14:01<43:17, 14.27s/it]"
          ]
        },
        {
          "output_type": "stream",
          "name": "stdout",
          "text": [
            "green tomatoes, sugar, salt, pepper, soft breadcrumbs, sharp cheddar cheese, butter\n",
            "\n",
            "=== Allergen Substitutions Made ===\n",
            "Replaced 'salt' with 'coconut yogurt'\n",
            "Replaced 'pepper' with 'flax eggs'\n",
            "\n",
            "==================================================\n",
            "Generating recipe for: mandelbroit\n",
            "==================================================\n"
          ]
        },
        {
          "output_type": "stream",
          "name": "stderr",
          "text": [
            "\r 64%|██████▍   | 319/500 [1:14:15<42:55, 14.23s/it]"
          ]
        },
        {
          "output_type": "stream",
          "name": "stdout",
          "text": [
            "eggs, oil, sugar, vanilla, salt, flour, baking powder, natural almonds, lemons, zest of, cocoa, nuts, almond extract, cinnamon sugar\n",
            "\n",
            "=== Allergen Substitutions Made ===\n",
            "Replaced 'sugar' with 'coconut yogurt'\n",
            "Replaced 'vanilla' with 'coconut cream'\n",
            "\n",
            "==================================================\n",
            "Generating recipe for: moroccan chicken stew  crock pot\n",
            "==================================================\n"
          ]
        },
        {
          "output_type": "stream",
          "name": "stderr",
          "text": [
            "\r 64%|██████▍   | 320/500 [1:14:30<42:38, 14.22s/it]"
          ]
        },
        {
          "output_type": "stream",
          "name": "stdout",
          "text": [
            "carrots, onions, skinless chicken pieces, raisins, dried apricot, chicken broth, tomato paste, all-purpose flour, lemon juice, garlic cloves, ground cumin, ground ginger, ground cinnamon, ground black pepper, cooked couscous, pine nuts, fresh cilantro\n",
            "\n",
            "=== Allergen Substitutions Made ===\n",
            "Replaced 'ground cumin' with 'flax eggs'\n",
            "\n",
            "==================================================\n",
            "Generating recipe for: maple salad dressing\n",
            "==================================================\n"
          ]
        },
        {
          "output_type": "stream",
          "name": "stderr",
          "text": [
            "\r 64%|██████▍   | 321/500 [1:14:44<42:20, 14.19s/it]"
          ]
        },
        {
          "output_type": "stream",
          "name": "stdout",
          "text": [
            "pure maple syrup, vegetable oil, lemon juice, paprika, celery seed, salt, onion powder, mustard\n",
            "\n",
            "=== Allergen Substitutions Made ===\n",
            "Replaced 'salt' with 'coconut yogurt'\n",
            "Replaced 'mustard' with 'poppy seeds'\n",
            "\n",
            "==================================================\n",
            "Generating recipe for: chinese bourbon tofu\n",
            "==================================================\n"
          ]
        },
        {
          "output_type": "stream",
          "name": "stderr",
          "text": [
            "\r 64%|██████▍   | 322/500 [1:14:58<42:05, 14.19s/it]"
          ]
        },
        {
          "output_type": "stream",
          "name": "stdout",
          "text": [
            "extra firm tofu, garlic, ground ginger, crushed red pepper flakes, apple juice, brown sugar, ketchup, apple cider vinegar, water, low sodium soy sauce, flour, olive oil\n",
            "\n",
            "==================================================\n",
            "Generating recipe for: jjs ultimate sloppy joes\n",
            "==================================================\n"
          ]
        },
        {
          "output_type": "stream",
          "name": "stderr",
          "text": [
            "\r 65%|██████▍   | 323/500 [1:15:12<41:53, 14.20s/it]"
          ]
        },
        {
          "output_type": "stream",
          "name": "stdout",
          "text": [
            "ground beef, yellow sweet onion, red bell pepper, tomato sauce, garlic cloves, dried ancho chile powder, sweet hungarian paprika, unsweetened cocoa, dry mustard, apple cider vinegar, worcestershire sauce, molasses, honey, celery salt, kosher salt, ground black pepper\n",
            "\n",
            "==================================================\n",
            "Generating recipe for: cheddar baked potato slices\n",
            "==================================================\n"
          ]
        },
        {
          "output_type": "stream",
          "name": "stderr",
          "text": [
            "\r 65%|██████▍   | 324/500 [1:15:26<41:35, 14.18s/it]"
          ]
        },
        {
          "output_type": "stream",
          "name": "stdout",
          "text": [
            "campbell's cream of mushroom soup, paprika, pepper, potatoes, cheddar cheese\n",
            "\n",
            "==================================================\n",
            "Generating recipe for: homestyle meatloaf\n",
            "==================================================\n"
          ]
        },
        {
          "output_type": "stream",
          "name": "stderr",
          "text": [
            "\r 65%|██████▌   | 325/500 [1:15:40<41:16, 14.15s/it]"
          ]
        },
        {
          "output_type": "stream",
          "name": "stdout",
          "text": [
            "cooked ground beef, eggs, plain breadcrumbs, parmesan cheese, onion, italian seasoning, marinara sauce\n",
            "\n",
            "=== Allergen Substitutions Made ===\n",
            "Replaced 'onion' with 'seeds'\n",
            "\n",
            "==================================================\n",
            "Generating recipe for: greek cookies with confectioners  sugar  kourabiedes\n",
            "==================================================\n"
          ]
        },
        {
          "output_type": "stream",
          "name": "stderr",
          "text": [
            "\r 65%|██████▌   | 326/500 [1:15:55<41:02, 14.15s/it]"
          ]
        },
        {
          "output_type": "stream",
          "name": "stdout",
          "text": [
            "whipped butter, confectioners' sugar, vanilla extract, brandy, all-purpose flour, almonds\n",
            "\n",
            "==================================================\n",
            "Generating recipe for: banana graham cracker pudding\n",
            "==================================================\n"
          ]
        },
        {
          "output_type": "stream",
          "name": "stderr",
          "text": [
            "\r 65%|██████▌   | 327/500 [1:16:09<40:42, 14.12s/it]"
          ]
        },
        {
          "output_type": "stream",
          "name": "stdout",
          "text": [
            "sugar, cornstarch, salt, milk, egg yolks, butter, vanilla, bananas, graham crackers\n",
            "\n",
            "=== Allergen Substitutions Made ===\n",
            "Replaced 'salt' with 'coconut yogurt'\n",
            "Replaced 'butter' with 'coconut oil'\n",
            "\n",
            "==================================================\n",
            "Generating recipe for: chicken breast stuffed with feta cheese  sun dried tomato\n",
            "==================================================\n"
          ]
        },
        {
          "output_type": "stream",
          "name": "stderr",
          "text": [
            "\r 66%|██████▌   | 328/500 [1:16:24<41:06, 14.34s/it]"
          ]
        },
        {
          "output_type": "stream",
          "name": "stdout",
          "text": [
            "boneless skinless chicken breasts, red bell pepper, garlic cloves, sun-dried tomatoes, thyme, feta cheese, breadcrumbs, olive oil, salt, pepper, toothpick, green onion\n",
            "\n",
            "=== Allergen Substitutions Made ===\n",
            "Replaced 'thyme' with 'coconut aminos'\n",
            "Replaced 'olive oil' with 'coconut oil'\n",
            "Replaced 'salt' with 'coconut yogurt'\n",
            "Replaced 'pepper' with 'flax eggs'\n",
            "\n",
            "==================================================\n",
            "Generating recipe for: pastry puffs w sweet cheese filling\n",
            "==================================================\n"
          ]
        },
        {
          "output_type": "stream",
          "name": "stderr",
          "text": [
            "\r 66%|██████▌   | 329/500 [1:16:38<40:37, 14.25s/it]"
          ]
        },
        {
          "output_type": "stream",
          "name": "stdout",
          "text": [
            "flour, butter, sour cream, egg yolk, powdered sugar, cream cheese, egg, sugar, vanilla extract, lemon juice\n",
            "\n",
            "=== Allergen Substitutions Made ===\n",
            "Replaced 'flour' with 'almond flour'\n",
            "Replaced 'sugar' with 'coconut yogurt'\n",
            "\n",
            "==================================================\n",
            "Generating recipe for: breakfast bake oamc\n",
            "==================================================\n"
          ]
        },
        {
          "output_type": "stream",
          "name": "stderr",
          "text": [
            "\r 66%|██████▌   | 330/500 [1:16:52<40:14, 14.20s/it]"
          ]
        },
        {
          "output_type": "stream",
          "name": "stdout",
          "text": [
            "seasoned croutons, cheddar cheese, onion, sweet red pepper, green pepper, sliced mushrooms, eggs, milk, salt, ground mustard, pepper, cooked bacon\n",
            "\n",
            "=== Allergen Substitutions Made ===\n",
            "Replaced 'pepper' with 'flax eggs'\n",
            "\n",
            "==================================================\n",
            "Generating recipe for: fluffy maple frosting\n",
            "==================================================\n"
          ]
        },
        {
          "output_type": "stream",
          "name": "stderr",
          "text": [
            "\r 66%|██████▌   | 331/500 [1:17:06<39:50, 14.14s/it]"
          ]
        },
        {
          "output_type": "stream",
          "name": "stdout",
          "text": [
            "pure maple syrup, granulated sugar, egg whites, salt, vanilla extract\n",
            "\n",
            "=== Allergen Substitutions Made ===\n",
            "Replaced 'egg whites' with 'flax eggs'\n",
            "Replaced 'salt' with 'coconut yogurt'\n",
            "\n",
            "==================================================\n",
            "Generating recipe for: easy gingerbread\n",
            "==================================================\n"
          ]
        },
        {
          "output_type": "stream",
          "name": "stderr",
          "text": [
            "\r 66%|██████▋   | 332/500 [1:17:20<39:38, 14.16s/it]"
          ]
        },
        {
          "output_type": "stream",
          "name": "stdout",
          "text": [
            "flour, baking soda, ginger powder, cinnamon, allspice, salt, vegetable oil, sugar, egg, molasses, hot water, whipped cream\n",
            "\n",
            "=== Allergen Substitutions Made ===\n",
            "Replaced 'flour' with 'almond flour'\n",
            "Replaced 'salt' with 'coconut yogurt'\n",
            "Replaced 'sugar' with 'coconut yogurt'\n",
            "Replaced 'egg' with 'flax eggs'\n",
            "\n",
            "==================================================\n",
            "Generating recipe for: dad s clam dip\n",
            "==================================================\n"
          ]
        },
        {
          "output_type": "stream",
          "name": "stderr",
          "text": [
            "\r 67%|██████▋   | 333/500 [1:17:34<39:19, 14.13s/it]"
          ]
        },
        {
          "output_type": "stream",
          "name": "stdout",
          "text": [
            "minced clams, cream cheese, onions, horseradish, worcestershire sauce, tabasco sauce, garlic salt, pepper, potato chips\n",
            "\n",
            "==================================================\n",
            "Generating recipe for: easy turtle snack cake\n",
            "==================================================\n"
          ]
        },
        {
          "output_type": "stream",
          "name": "stderr",
          "text": [
            "\r 67%|██████▋   | 334/500 [1:17:48<39:07, 14.14s/it]"
          ]
        },
        {
          "output_type": "stream",
          "name": "stdout",
          "text": [
            "fudge cake mix, water, eggs, vegetable oil, pecans, chocolate chips, vanilla, caramel ice cream topping\n",
            "\n",
            "==================================================\n",
            "Generating recipe for: curry barbecued chicken\n",
            "==================================================\n"
          ]
        },
        {
          "output_type": "stream",
          "name": "stderr",
          "text": [
            "\r 67%|██████▋   | 335/500 [1:18:02<38:58, 14.17s/it]"
          ]
        },
        {
          "output_type": "stream",
          "name": "stdout",
          "text": [
            "broiler-fryer chickens, cooking oil, lime zest, lime juice, onion, garlic clove, curry powder, salt, ground cumin, ground coriander, cinnamon, pepper, lime slice, parsley\n",
            "\n",
            "=== Allergen Substitutions Made ===\n",
            "Replaced 'salt' with 'coconut yogurt'\n",
            "Replaced 'pepper' with 'flax eggs'\n",
            "\n",
            "==================================================\n",
            "Generating recipe for: la becasse celery seed dressing\n",
            "==================================================\n"
          ]
        },
        {
          "output_type": "stream",
          "name": "stderr",
          "text": [
            "\r 67%|██████▋   | 336/500 [1:18:16<38:44, 14.17s/it]"
          ]
        },
        {
          "output_type": "stream",
          "name": "stdout",
          "text": [
            "sugar, celery seeds, salt, mayonnaise, garlic, dijon mustard, cider vinegar, vegetable oil\n",
            "\n",
            "=== Allergen Substitutions Made ===\n",
            "Replaced 'sugar' with 'coconut yogurt'\n",
            "Replaced 'celery seeds' with 'poppy seeds'\n",
            "Replaced 'salt' with 'coconut yogurt'\n",
            "\n",
            "==================================================\n",
            "Generating recipe for: lamb   potato stew\n",
            "==================================================\n"
          ]
        },
        {
          "output_type": "stream",
          "name": "stderr",
          "text": [
            "\r 67%|██████▋   | 337/500 [1:18:31<38:29, 14.17s/it]"
          ]
        },
        {
          "output_type": "stream",
          "name": "stdout",
          "text": [
            "vegetable oil, lamb stew meat, onions, green pepper, garlic cloves, paprika, ground cumin, tomatoes, potatoes, parsley, salt, pepper, green beans\n",
            "\n",
            "=== Allergen Substitutions Made ===\n",
            "Replaced 'paprika' with 'hearts of palm'\n",
            "\n",
            "==================================================\n",
            "Generating recipe for: market day casserole revisited\n",
            "==================================================\n"
          ]
        },
        {
          "output_type": "stream",
          "name": "stderr",
          "text": [
            "\r 68%|██████▊   | 338/500 [1:18:43<36:37, 13.56s/it]"
          ]
        },
        {
          "output_type": "stream",
          "name": "stdout",
          "text": [
            "hamburger patties, frozen mixed vegetables, onion, fat free beef gravy, roma tomatoes, tater tots, reduced-fat cheddar cheese\n",
            "\n",
            "=== Allergen Substitutions Made ===\n",
            "Replaced 'onion' with 'seeds'\n",
            "\n",
            "==================================================\n",
            "Generating recipe for: pecan classic cookies\n",
            "==================================================\n"
          ]
        },
        {
          "output_type": "stream",
          "name": "stderr",
          "text": [
            "\r 68%|██████▊   | 339/500 [1:18:57<36:52, 13.74s/it]"
          ]
        },
        {
          "output_type": "stream",
          "name": "stdout",
          "text": [
            "shortening, sugar, brown sugar, eggs, vanilla extract, all-purpose flour, baking soda, salt, oats, pecans, sour cream\n",
            "\n",
            "=== Allergen Substitutions Made ===\n",
            "Replaced 'sugar' with 'coconut yogurt'\n",
            "Replaced 'brown sugar' with 'xanthan gum'\n",
            "Replaced 'vanilla extract' with 'coconut cream'\n",
            "Replaced 'salt' with 'coconut yogurt'\n",
            "\n",
            "==================================================\n",
            "Generating recipe for: oat rolls\n",
            "==================================================\n"
          ]
        },
        {
          "output_type": "stream",
          "name": "stderr",
          "text": [
            "\r 68%|██████▊   | 340/500 [1:19:12<38:02, 14.26s/it]"
          ]
        },
        {
          "output_type": "stream",
          "name": "stdout",
          "text": [
            "water, orange juice, canola oil, honey, old fashioned oats, whole wheat flour, unbleached all-purpose flour, salt, potato flour, oat bran, nonfat dry milk powder, instant yeast\n",
            "\n",
            "=== Allergen Substitutions Made ===\n",
            "Replaced 'water' with 'flax eggs'\n",
            "Replaced 'salt' with 'coconut yogurt'\n",
            "\n",
            "==================================================\n",
            "Generating recipe for: chicken simmered in beer\n",
            "==================================================\n"
          ]
        },
        {
          "output_type": "stream",
          "name": "stderr",
          "text": [
            "\r 68%|██████▊   | 341/500 [1:19:27<37:41, 14.23s/it]"
          ]
        },
        {
          "output_type": "stream",
          "name": "stdout",
          "text": [
            "whole chicken, beer, lipton onion soup mix, olive oil, garlic cloves, fresh ground pepper, fresh parsley, fresh mushrooms\n",
            "\n",
            "==================================================\n",
            "Generating recipe for: the best mocha buttercream frosting   icing\n",
            "==================================================\n"
          ]
        },
        {
          "output_type": "stream",
          "name": "stderr",
          "text": [
            "\r 68%|██████▊   | 342/500 [1:19:41<37:19, 14.18s/it]"
          ]
        },
        {
          "output_type": "stream",
          "name": "stdout",
          "text": [
            "butter, powdered sugar, cocoa powder, vanilla extract, instant coffee\n",
            "\n",
            "=== Allergen Substitutions Made ===\n",
            "Replaced 'butter' with 'coconut oil'\n",
            "\n",
            "==================================================\n",
            "Generating recipe for: peanut butter rocky road fudge\n",
            "==================================================\n"
          ]
        },
        {
          "output_type": "stream",
          "name": "stderr",
          "text": [
            "\r 69%|██████▊   | 343/500 [1:19:55<37:01, 14.15s/it]"
          ]
        },
        {
          "output_type": "stream",
          "name": "stdout",
          "text": [
            "mini marshmallows, semi-sweet chocolate chips, peanuts, smooth peanut butter\n",
            "\n",
            "==================================================\n",
            "Generating recipe for: walley s shrimp scampi\n",
            "==================================================\n"
          ]
        },
        {
          "output_type": "stream",
          "name": "stderr",
          "text": [
            "\r 69%|██████▉   | 344/500 [1:20:09<36:44, 14.13s/it]"
          ]
        },
        {
          "output_type": "stream",
          "name": "stdout",
          "text": [
            "shrimp, olive oil, cajun-louisiana seasoning blend, unsalted butter, garlic cloves, shallots, dry white wine, fresh lemon juice, linguine, scallion\n",
            "\n",
            "=== Allergen Substitutions Made ===\n",
            "Replaced 'shrimp' with 'hearts of palm'\n",
            "Replaced 'olive oil' with 'coconut oil'\n",
            "\n",
            "==================================================\n",
            "Generating recipe for: parmesan  grapes\n",
            "==================================================\n"
          ]
        },
        {
          "output_type": "stream",
          "name": "stderr",
          "text": [
            "\r 69%|██████▉   | 345/500 [1:20:23<36:31, 14.14s/it]"
          ]
        },
        {
          "output_type": "stream",
          "name": "stdout",
          "text": [
            "whipping cream, garlic, ground nutmeg, ground pepper, parmesan cheese\n",
            "\n",
            "=== Allergen Substitutions Made ===\n",
            "Replaced 'whipping cream' with 'coconut cream'\n",
            "\n",
            "==================================================\n",
            "Generating recipe for: cheesy garlic parmesan chicken\n",
            "==================================================\n"
          ]
        },
        {
          "output_type": "stream",
          "name": "stderr",
          "text": [
            "\r 69%|██████▉   | 346/500 [1:20:37<36:20, 14.16s/it]"
          ]
        },
        {
          "output_type": "stream",
          "name": "stdout",
          "text": [
            "chicken breasts, parmesan cheese, garlic powder, dried italian salad dressing mix, mozzarella cheese\n",
            "\n",
            "==================================================\n",
            "Generating recipe for: crock pot dressing\n",
            "==================================================\n"
          ]
        },
        {
          "output_type": "stream",
          "name": "stderr",
          "text": [
            "\r 69%|██████▉   | 347/500 [1:20:51<36:10, 14.19s/it]"
          ]
        },
        {
          "output_type": "stream",
          "name": "stdout",
          "text": [
            "dry bread, celery, onion, butter, eggs, chicken broth, cream of chicken soup, salt\n",
            "\n",
            "=== Allergen Substitutions Made ===\n",
            "Replaced 'onion' with 'seeds'\n",
            "\n",
            "==================================================\n",
            "Generating recipe for: grilled zucchini   fig salad with a yogurt dressing\n",
            "==================================================\n"
          ]
        },
        {
          "output_type": "stream",
          "name": "stderr",
          "text": [
            "\r 70%|██████▉   | 348/500 [1:21:06<35:55, 14.18s/it]"
          ]
        },
        {
          "output_type": "stream",
          "name": "stdout",
          "text": [
            "zucchini, olive oil, figs, greek yogurt, sugar, milk, spring onion, baby spinach, lemon juice, mint\n",
            "\n",
            "=== Allergen Substitutions Made ===\n",
            "Replaced 'zucchini' with 'flax eggs'\n",
            "Replaced 'olive oil' with 'coconut oil'\n",
            "Replaced 'sugar' with 'coconut yogurt'\n",
            "\n",
            "==================================================\n",
            "Generating recipe for: roquefort cheesecake with pecans\n",
            "==================================================\n"
          ]
        },
        {
          "output_type": "stream",
          "name": "stderr",
          "text": [
            "\r 70%|██████▉   | 349/500 [1:21:20<35:41, 14.19s/it]"
          ]
        },
        {
          "output_type": "stream",
          "name": "stdout",
          "text": [
            "unsalted butter, fresh breadcrumb, parmesan cheese, low-fat cream cheese, low-fat sour cream, eggs, tabasco sauce, pecans, roquefort cheese\n",
            "\n",
            "==================================================\n",
            "Generating recipe for: reduced fat   doesn t taste like it  shrimp   rice casserole\n",
            "==================================================\n"
          ]
        },
        {
          "output_type": "stream",
          "name": "stderr",
          "text": [
            "\r 70%|███████   | 350/500 [1:21:34<35:28, 14.19s/it]"
          ]
        },
        {
          "output_type": "stream",
          "name": "stdout",
          "text": [
            "shrimp, butter, mushrooms, green pepper, onion, flour, salt, cayenne pepper, skim milk, cooked brown rice, reduced-fat cheddar cheese\n",
            "\n",
            "=== Allergen Substitutions Made ===\n",
            "Replaced 'butter' with 'coconut oil'\n",
            "Replaced 'onion' with 'seeds'\n",
            "\n",
            "Progress saved to generated_recipes_temp_350.json\n",
            "\n",
            "==================================================\n",
            "Generating recipe for: souper fast ham and bean soup\n",
            "==================================================\n"
          ]
        },
        {
          "output_type": "stream",
          "name": "stderr",
          "text": [
            "\r 70%|███████   | 351/500 [1:21:48<35:14, 14.19s/it]"
          ]
        },
        {
          "output_type": "stream",
          "name": "stdout",
          "text": [
            "cannellini beans, mixed vegetables, diced tomatoes, water, tomato sauce, onion, cooked ham, salt, bay leaf, garlic salt, celery salt, thyme, black pepper\n",
            "\n",
            "==================================================\n",
            "Generating recipe for: pizza meatballs\n",
            "==================================================\n"
          ]
        },
        {
          "output_type": "stream",
          "name": "stderr",
          "text": [
            "\r 70%|███████   | 352/500 [1:22:03<35:30, 14.39s/it]"
          ]
        },
        {
          "output_type": "stream",
          "name": "stdout",
          "text": [
            "ground beef, onion powder, egg, seasoned bread crumbs, garlic, worcestershire sauce, salt and pepper, italian seasoning, mozzarella cheese, tomato sauce, crushed tomatoes, onion\n",
            "\n",
            "==================================================\n",
            "Generating recipe for: honey mustard dressing dip for one\n",
            "==================================================\n"
          ]
        },
        {
          "output_type": "stream",
          "name": "stderr",
          "text": [
            "\r 71%|███████   | 353/500 [1:22:17<34:58, 14.27s/it]"
          ]
        },
        {
          "output_type": "stream",
          "name": "stdout",
          "text": [
            "mayonnaise, dijon mustard, honey\n",
            "\n",
            "=== Allergen Substitutions Made ===\n",
            "Replaced 'dijon mustard' with 'coconut aminos'\n",
            "Replaced 'honey' with 'coconut cream'\n",
            "\n",
            "==================================================\n",
            "Generating recipe for: forty clove dutch oven brisket\n",
            "==================================================\n"
          ]
        },
        {
          "output_type": "stream",
          "name": "stderr",
          "text": [
            "\r 71%|███████   | 354/500 [1:22:31<34:41, 14.26s/it]"
          ]
        },
        {
          "output_type": "stream",
          "name": "stdout",
          "text": [
            "beef brisket, salt, fresh ground pepper, olive oil, garlic cloves, sweet onion, red wine, beef stock, tomato paste, bay leaves, dried basil, oregano\n",
            "\n",
            "=== Allergen Substitutions Made ===\n",
            "Replaced 'salt' with 'coconut yogurt'\n",
            "\n",
            "==================================================\n",
            "Generating recipe for: grammy s apple pie\n",
            "==================================================\n"
          ]
        },
        {
          "output_type": "stream",
          "name": "stderr",
          "text": [
            "\r 71%|███████   | 355/500 [1:22:45<34:21, 14.22s/it]"
          ]
        },
        {
          "output_type": "stream",
          "name": "stdout",
          "text": [
            "double crust pie crust, red apples, granny smith apples, sugar, butter, cinnamon\n",
            "\n",
            "=== Allergen Substitutions Made ===\n",
            "Replaced 'sugar' with 'coconut yogurt'\n",
            "Replaced 'butter' with 'coconut oil'\n",
            "\n",
            "==================================================\n",
            "Generating recipe for: kenny rogers  country chicken salad\n",
            "==================================================\n"
          ]
        },
        {
          "output_type": "stream",
          "name": "stderr",
          "text": [
            "\r 71%|███████   | 356/500 [1:23:00<34:05, 14.21s/it]"
          ]
        },
        {
          "output_type": "stream",
          "name": "stdout",
          "text": [
            "chicken, apple, eggs, mayonnaise, sweet pickle relish, slivered almonds\n",
            "\n",
            "==================================================\n",
            "Generating recipe for: miss a s pulled pork shoulder\n",
            "==================================================\n"
          ]
        },
        {
          "output_type": "stream",
          "name": "stderr",
          "text": [
            "\r 71%|███████▏  | 357/500 [1:23:14<33:50, 14.20s/it]"
          ]
        },
        {
          "output_type": "stream",
          "name": "stdout",
          "text": [
            "apple cider vinegar, shallots, yellow mustard seeds, fresh ground black pepper, cayenne pepper, fresh sage, garlic, pork shoulder\n",
            "\n",
            "==================================================\n",
            "Generating recipe for: apricot   blueberry crumble cake\n",
            "==================================================\n"
          ]
        },
        {
          "output_type": "stream",
          "name": "stderr",
          "text": [
            "\r 72%|███████▏  | 358/500 [1:23:28<33:35, 14.20s/it]"
          ]
        },
        {
          "output_type": "stream",
          "name": "stdout",
          "text": [
            "butter, superfine sugar, self-raising flour, baking powder, eggs, milk, vanilla yogurt, apricots, blueberries, brown sugar, ground cinnamon\n",
            "\n",
            "=== Allergen Substitutions Made ===\n",
            "Replaced 'butter' with 'coconut oil'\n",
            "\n",
            "==================================================\n",
            "Generating recipe for: aunt agnes  chewies\n",
            "==================================================\n"
          ]
        },
        {
          "output_type": "stream",
          "name": "stderr",
          "text": [
            "\r 72%|███████▏  | 359/500 [1:23:42<33:14, 14.15s/it]"
          ]
        },
        {
          "output_type": "stream",
          "name": "stdout",
          "text": [
            "special k cereal, sugar, karo syrup, peanut butter\n",
            "\n",
            "=== Allergen Substitutions Made ===\n",
            "Replaced 'sugar' with 'coconut yogurt'\n",
            "\n",
            "==================================================\n",
            "Generating recipe for: crock pot creamy new orleans chicken\n",
            "==================================================\n"
          ]
        },
        {
          "output_type": "stream",
          "name": "stderr",
          "text": [
            "\r 72%|███████▏  | 360/500 [1:23:56<33:03, 14.17s/it]"
          ]
        },
        {
          "output_type": "stream",
          "name": "stdout",
          "text": [
            "boneless skinless chicken breasts, water, cream cheese, cream of chicken soup, sliced mushrooms, chili powder, paprika, cayenne, cumin, ground coriander, garlic powder, cracked black pepper\n",
            "\n",
            "=== Allergen Substitutions Made ===\n",
            "Replaced 'water' with 'flax eggs'\n",
            "\n",
            "==================================================\n",
            "Generating recipe for: onion squares\n",
            "==================================================\n"
          ]
        },
        {
          "output_type": "stream",
          "name": "stderr",
          "text": [
            "\r 72%|███████▏  | 361/500 [1:24:10<32:50, 14.18s/it]"
          ]
        },
        {
          "output_type": "stream",
          "name": "stdout",
          "text": [
            "sweet onion, low-fat yogurt, dill weed, salt, whole wheat pastry flour, cornmeal, sugar, baking powder, oil, nonfat milk, eggs, creamed corn, tabasco sauce, parmesan cheese\n",
            "\n",
            "=== Allergen Substitutions Made ===\n",
            "Replaced 'salt' with 'coconut yogurt'\n",
            "Replaced 'sugar' with 'coconut yogurt'\n",
            "\n",
            "==================================================\n",
            "Generating recipe for: easy jello salad\n",
            "==================================================\n"
          ]
        },
        {
          "output_type": "stream",
          "name": "stderr",
          "text": [
            "\r 72%|███████▏  | 362/500 [1:24:25<32:37, 14.18s/it]"
          ]
        },
        {
          "output_type": "stream",
          "name": "stdout",
          "text": [
            "strawberry-banana gelatin, banana, mixed fruit, cool whip, pecans, coconut\n",
            "\n",
            "=== Allergen Substitutions Made ===\n",
            "Replaced 'banana' with 'flax eggs'\n",
            "\n",
            "==================================================\n",
            "Generating recipe for: two layered birthday cake\n",
            "==================================================\n"
          ]
        },
        {
          "output_type": "stream",
          "name": "stderr",
          "text": [
            "\r 73%|███████▎  | 363/500 [1:24:39<32:36, 14.28s/it]"
          ]
        },
        {
          "output_type": "stream",
          "name": "stdout",
          "text": [
            "all-purpose flour, sugar, butter, baking cocoa, water, baking soda, salt, vanilla, baking powder, eggs, strawberry, chocolate fudge frosting, chocolate\n",
            "\n",
            "=== Allergen Substitutions Made ===\n",
            "Replaced 'strawberry' with 'coconut yogurt'\n",
            "Replaced 'chocolate' with 'oat milk'\n",
            "\n",
            "==================================================\n",
            "Generating recipe for: poinsettia cocktail\n",
            "==================================================\n"
          ]
        },
        {
          "output_type": "stream",
          "name": "stderr",
          "text": [
            "\r 73%|███████▎  | 364/500 [1:24:53<32:25, 14.30s/it]"
          ]
        },
        {
          "output_type": "stream",
          "name": "stdout",
          "text": [
            "cranberry juice, simple syrup, orange liqueur, champagne, fresh cranberries\n",
            "\n",
            "=== Allergen Substitutions Made ===\n",
            "Replaced 'cranberry juice' with 'coconut aminos'\n",
            "\n",
            "==================================================\n",
            "Generating recipe for: ginger peach freeze\n",
            "==================================================\n"
          ]
        },
        {
          "output_type": "stream",
          "name": "stderr",
          "text": [
            "\r 73%|███████▎  | 365/500 [1:25:08<32:05, 14.26s/it]"
          ]
        },
        {
          "output_type": "stream",
          "name": "stdout",
          "text": [
            "water, sugar, lemon juice, ground ginger, unsweetened frozen sliced peaches, peach slices\n",
            "\n",
            "=== Allergen Substitutions Made ===\n",
            "Replaced 'sugar' with 'coconut yogurt'\n",
            "\n",
            "==================================================\n",
            "Generating recipe for: black   white bean   corn salad\n",
            "==================================================\n"
          ]
        },
        {
          "output_type": "stream",
          "name": "stderr",
          "text": [
            "\r 73%|███████▎  | 366/500 [1:25:22<31:45, 14.22s/it]"
          ]
        },
        {
          "output_type": "stream",
          "name": "stdout",
          "text": [
            "great northern beans, black beans, whole kernel corn, tomatoes, onions, celery, fresh parsley, yellow pepper, extra virgin olive oil, salt, pepper, sugar, balsamic vinegar, onion powder\n",
            "\n",
            "=== Allergen Substitutions Made ===\n",
            "Replaced 'salt' with 'coconut yogurt'\n",
            "Replaced 'pepper' with 'flax eggs'\n",
            "\n",
            "==================================================\n",
            "Generating recipe for: spicy pork stir fry\n",
            "==================================================\n"
          ]
        },
        {
          "output_type": "stream",
          "name": "stderr",
          "text": [
            "\r 73%|███████▎  | 367/500 [1:25:36<31:27, 14.19s/it]"
          ]
        },
        {
          "output_type": "stream",
          "name": "stdout",
          "text": [
            "soy sauce, cornstarch, water, pork tenderloin, lime, rice vinegar, dark sesame oil, peanut oil, fresh gingerroot, green chili peppers, carrot, sugar snap pea, chili oil, green onion, peanuts\n",
            "\n",
            "=== Allergen Substitutions Made ===\n",
            "Replaced 'carrot' with 'hearts of palm'\n",
            "\n",
            "==================================================\n",
            "Generating recipe for: bread machine brown bread\n",
            "==================================================\n"
          ]
        },
        {
          "output_type": "stream",
          "name": "stderr",
          "text": [
            "\r 74%|███████▎  | 368/500 [1:25:50<31:09, 14.16s/it]"
          ]
        },
        {
          "output_type": "stream",
          "name": "stdout",
          "text": [
            "water, powdered milk, salt, molasses, oats, flour, butter, yeast\n",
            "\n",
            "=== Allergen Substitutions Made ===\n",
            "Replaced 'water' with 'flax eggs'\n",
            "Replaced 'yeast' with 'nutritional yeast'\n",
            "\n",
            "==================================================\n",
            "Generating recipe for: super simple clam chowder\n",
            "==================================================\n"
          ]
        },
        {
          "output_type": "stream",
          "name": "stderr",
          "text": [
            "\r 74%|███████▍  | 369/500 [1:26:04<30:54, 14.16s/it]"
          ]
        },
        {
          "output_type": "stream",
          "name": "stdout",
          "text": [
            "butter, garlic, onion, chicken broth, clams, cream of potato soup, pepper, half-and-half\n",
            "\n",
            "=== Allergen Substitutions Made ===\n",
            "Replaced 'butter' with 'coconut oil'\n",
            "Replaced 'onion' with 'seeds'\n",
            "Replaced 'pepper' with 'flax eggs'\n",
            "\n",
            "==================================================\n",
            "Generating recipe for: this is gluten free   our favorite pizza crust\n",
            "==================================================\n"
          ]
        },
        {
          "output_type": "stream",
          "name": "stderr",
          "text": [
            "\r 74%|███████▍  | 370/500 [1:26:18<30:38, 14.14s/it]"
          ]
        },
        {
          "output_type": "stream",
          "name": "stdout",
          "text": [
            "yeast, milk, sugar, brown rice flour, cornstarch, xanthan gum, salt, rosemary, garlic powder, oregano, olive oil, cider vinegar\n",
            "\n",
            "==================================================\n",
            "Generating recipe for: asian style crab cakes with wasabi caper sauce\n",
            "==================================================\n"
          ]
        },
        {
          "output_type": "stream",
          "name": "stderr",
          "text": [
            "\r 74%|███████▍  | 371/500 [1:26:32<30:25, 14.15s/it]"
          ]
        },
        {
          "output_type": "stream",
          "name": "stdout",
          "text": [
            "mayonnaise, capers, wasabi paste, leeks, egg, egg yolk, chinese mustard, red bell pepper, fresh ginger, panko breadcrumbs, lump crabmeat, vegetable oil\n",
            "\n",
            "==================================================\n",
            "Generating recipe for: beet risotto\n",
            "==================================================\n"
          ]
        },
        {
          "output_type": "stream",
          "name": "stderr",
          "text": [
            "\r 74%|███████▍  | 372/500 [1:26:46<30:08, 14.13s/it]"
          ]
        },
        {
          "output_type": "stream",
          "name": "stdout",
          "text": [
            "chicken broth, extra virgin olive oil, arborio rice, red beets, onion, garlic, dry red wine, salt and pepper\n",
            "\n",
            "=== Allergen Substitutions Made ===\n",
            "Replaced 'garlic' with 'coconut oil'\n",
            "\n",
            "==================================================\n",
            "Generating recipe for: aubergines in a spicy honey sauce\n",
            "==================================================\n"
          ]
        },
        {
          "output_type": "stream",
          "name": "stderr",
          "text": [
            "\r 75%|███████▍  | 373/500 [1:27:01<29:54, 14.13s/it]"
          ]
        },
        {
          "output_type": "stream",
          "name": "stdout",
          "text": [
            "aubergines, olive oil, garlic cloves, fresh gingerroot, ground cumin, cayenne, liquid honey, lemon, juice of, water\n",
            "\n",
            "=== Allergen Substitutions Made ===\n",
            "Replaced 'aubergines' with 'flax eggs'\n",
            "Replaced 'olive oil' with 'coconut oil'\n",
            "Replaced 'lemon' with 'coconut cream'\n",
            "\n",
            "==================================================\n",
            "Generating recipe for: sarah season s sandwich for a crowd\n",
            "==================================================\n"
          ]
        },
        {
          "output_type": "stream",
          "name": "stderr",
          "text": [
            "\r 75%|███████▍  | 374/500 [1:27:15<29:42, 14.15s/it]"
          ]
        },
        {
          "output_type": "stream",
          "name": "stdout",
          "text": [
            "french bread, cream cheese, cheddar cheese, green onion, mayonnaise, worcestershire sauce, ham, roast beef, dill pickle\n",
            "\n",
            "=== Allergen Substitutions Made ===\n",
            "Replaced 'cream cheese' with 'coconut cream'\n",
            "\n",
            "==================================================\n",
            "Generating recipe for: pioneer woman chicken parmigiana\n",
            "==================================================\n"
          ]
        },
        {
          "output_type": "stream",
          "name": "stderr",
          "text": [
            "\r 75%|███████▌  | 375/500 [1:27:30<29:53, 14.35s/it]"
          ]
        },
        {
          "output_type": "stream",
          "name": "stdout",
          "text": [
            "skinless chicken breast, all-purpose flour, salt & pepper, olive oil, butter, onion, garlic cloves, white wine, crushed tomatoes, sugar, fresh parsley, parmesan cheese\n",
            "\n",
            "=== Allergen Substitutions Made ===\n",
            "Replaced 'butter' with 'coconut oil'\n",
            "Replaced 'onion' with 'seeds'\n",
            "Replaced 'garlic cloves' with 'coconut oil'\n",
            "\n",
            "==================================================\n",
            "Generating recipe for: continental chicken\n",
            "==================================================\n"
          ]
        },
        {
          "output_type": "stream",
          "name": "stderr",
          "text": [
            "\r 75%|███████▌  | 376/500 [1:27:44<29:31, 14.29s/it]"
          ]
        },
        {
          "output_type": "stream",
          "name": "stdout",
          "text": [
            "dried beef, boneless skinless chicken breasts, lean bacon, all-purpose flour, cream of chicken soup, sliced mushrooms, red onion, sour cream, cooked pasta\n",
            "\n",
            "==================================================\n",
            "Generating recipe for: korean salad\n",
            "==================================================\n"
          ]
        },
        {
          "output_type": "stream",
          "name": "stderr",
          "text": [
            "\r 75%|███████▌  | 377/500 [1:27:58<29:12, 14.25s/it]"
          ]
        },
        {
          "output_type": "stream",
          "name": "stdout",
          "text": [
            "spinach, sliced water chestnuts, bean sprouts, bacon, hard-boiled eggs, oil, sugar, vinegar, worcestershire sauce, onion, ketchup\n",
            "\n",
            "=== Allergen Substitutions Made ===\n",
            "Replaced 'bacon' with 'oat milk'\n",
            "Replaced 'oil' with 'coconut oil'\n",
            "Replaced 'vinegar' with 'coconut oil'\n",
            "\n",
            "==================================================\n",
            "Generating recipe for: smooth and creamy apple treat\n",
            "==================================================\n"
          ]
        },
        {
          "output_type": "stream",
          "name": "stderr",
          "text": [
            "\r 76%|███████▌  | 378/500 [1:28:12<28:49, 14.18s/it]"
          ]
        },
        {
          "output_type": "stream",
          "name": "stdout",
          "text": [
            "applesauce, non-fat vanilla yogurt\n",
            "\n",
            "==================================================\n",
            "Generating recipe for: pappardelle with lemon  baby artichokes  and asparagus\n",
            "==================================================\n"
          ]
        },
        {
          "output_type": "stream",
          "name": "stderr",
          "text": [
            "\r 76%|███████▌  | 379/500 [1:28:26<28:36, 14.19s/it]"
          ]
        },
        {
          "output_type": "stream",
          "name": "stdout",
          "text": [
            "pappardelle pasta, cold water, fresh lemon juice, baby artichokes, extra virgin olive oil, asparagus, fresh flat-leaf parsley, lemon rind, fresh thyme, salt, black pepper, parmigiano-reggiano cheese\n",
            "\n",
            "=== Allergen Substitutions Made ===\n",
            "Replaced 'salt' with 'coconut yogurt'\n",
            "\n",
            "==================================================\n",
            "Generating recipe for: cake mix cake that tastes homemade\n",
            "==================================================\n"
          ]
        },
        {
          "output_type": "stream",
          "name": "stderr",
          "text": [
            "\r 76%|███████▌  | 380/500 [1:28:40<28:05, 14.04s/it]"
          ]
        },
        {
          "output_type": "stream",
          "name": "stdout",
          "text": [
            "cake mix, water, butter, eggs\n",
            "\n",
            "=== Allergen Substitutions Made ===\n",
            "Replaced 'butter' with 'coconut oil'\n",
            "\n",
            "==================================================\n",
            "Generating recipe for: eggplant  aubergine  patties\n",
            "==================================================\n"
          ]
        },
        {
          "output_type": "stream",
          "name": "stderr",
          "text": [
            "\r 76%|███████▌  | 381/500 [1:28:54<27:56, 14.08s/it]"
          ]
        },
        {
          "output_type": "stream",
          "name": "stdout",
          "text": [
            "eggplants, eggs, pepper, salt, oregano, fresh mint leaves, breadcrumbs, cheese, garlic, onion, flour\n",
            "\n",
            "=== Allergen Substitutions Made ===\n",
            "Replaced 'pepper' with 'flax eggs'\n",
            "Replaced 'salt' with 'coconut yogurt'\n",
            "Replaced 'cheese' with 'nutritional yeast'\n",
            "Replaced 'onion' with 'seeds'\n",
            "\n",
            "==================================================\n",
            "Generating recipe for: paneer   indian cottage cheese\n",
            "==================================================\n"
          ]
        },
        {
          "output_type": "stream",
          "name": "stderr",
          "text": [
            "\r 76%|███████▋  | 382/500 [1:29:08<27:36, 14.04s/it]"
          ]
        },
        {
          "output_type": "stream",
          "name": "stdout",
          "text": [
            "milk, vinegar\n",
            "\n",
            "==================================================\n",
            "Generating recipe for: cream cheese scrambled eggs in toast cups\n",
            "==================================================\n"
          ]
        },
        {
          "output_type": "stream",
          "name": "stderr",
          "text": [
            "\r 77%|███████▋  | 383/500 [1:29:22<27:26, 14.08s/it]"
          ]
        },
        {
          "output_type": "stream",
          "name": "stdout",
          "text": [
            "cream cheese, milk, eggs, chives, salt, butter, bread\n",
            "\n",
            "=== Allergen Substitutions Made ===\n",
            "Replaced 'cream cheese' with 'coconut cream'\n",
            "Replaced 'salt' with 'coconut yogurt'\n",
            "Replaced 'butter' with 'coconut oil'\n",
            "\n",
            "==================================================\n",
            "Generating recipe for: baked chicken drumsticks\n",
            "==================================================\n"
          ]
        },
        {
          "output_type": "stream",
          "name": "stderr",
          "text": [
            "\r 77%|███████▋  | 384/500 [1:29:36<27:08, 14.04s/it]"
          ]
        },
        {
          "output_type": "stream",
          "name": "stdout",
          "text": [
            "chicken drumsticks, salt, ground pepper, hot sauce, mayonnaise\n",
            "\n",
            "=== Allergen Substitutions Made ===\n",
            "Replaced 'hot sauce' with 'coconut aminos'\n",
            "\n",
            "==================================================\n",
            "Generating recipe for: peanut butter fantasy brownies\n",
            "==================================================\n"
          ]
        },
        {
          "output_type": "stream",
          "name": "stderr",
          "text": [
            "\r 77%|███████▋  | 385/500 [1:29:50<26:56, 14.06s/it]"
          ]
        },
        {
          "output_type": "stream",
          "name": "stdout",
          "text": [
            "pillsbury fudge brownie mix, extra large egg, applesauce, walnuts, milk chocolate chips, cream cheese, powdered sugar, creamy peanut butter, chocolate chips\n",
            "\n",
            "==================================================\n",
            "Generating recipe for: barbecue ham\n",
            "==================================================\n"
          ]
        },
        {
          "output_type": "stream",
          "name": "stderr",
          "text": [
            "\r 77%|███████▋  | 386/500 [1:30:04<26:43, 14.06s/it]"
          ]
        },
        {
          "output_type": "stream",
          "name": "stdout",
          "text": [
            "onions, ketchup, water, vinegar, prepared mustard, brown sugar, worcestershire sauce, cooked ham\n",
            "\n",
            "==================================================\n",
            "Generating recipe for: garlic   horseradish crusted steaks\n",
            "==================================================\n"
          ]
        },
        {
          "output_type": "stream",
          "name": "stderr",
          "text": [
            "\r 77%|███████▋  | 387/500 [1:30:19<26:37, 14.13s/it]"
          ]
        },
        {
          "output_type": "stream",
          "name": "stdout",
          "text": [
            "prepared non-creamy horseradish, creole mustard, garlic, olive oil, cracked black pepper, new york strip steaks, kosher salt\n",
            "\n",
            "=== Allergen Substitutions Made ===\n",
            "Replaced 'garlic' with 'coconut oil'\n",
            "\n",
            "==================================================\n",
            "Generating recipe for: japanese stir fry\n",
            "==================================================\n"
          ]
        },
        {
          "output_type": "stream",
          "name": "stderr",
          "text": [
            "\r 78%|███████▊  | 388/500 [1:30:33<26:36, 14.25s/it]"
          ]
        },
        {
          "output_type": "stream",
          "name": "stdout",
          "text": [
            "boneless skinless chicken breasts, green bell pepper, white onion, carrots, red bell pepper, broccoli, sesame oil, shoyu, rice vinegar, mirin, sugar, ginger, garlic cloves\n",
            "\n",
            "==================================================\n",
            "Generating recipe for: pastry cheesecake crust\n",
            "==================================================\n"
          ]
        },
        {
          "output_type": "stream",
          "name": "stderr",
          "text": [
            "\r 78%|███████▊  | 389/500 [1:30:47<26:14, 14.18s/it]"
          ]
        },
        {
          "output_type": "stream",
          "name": "stdout",
          "text": [
            "butter, egg, sugar, flour, salt\n",
            "\n",
            "=== Allergen Substitutions Made ===\n",
            "Replaced 'butter' with 'coconut oil'\n",
            "Replaced 'egg' with 'flax eggs'\n",
            "Replaced 'sugar' with 'coconut yogurt'\n",
            "\n",
            "==================================================\n",
            "Generating recipe for: ww 5 points   fajita salad with salsa vinaigrette\n",
            "==================================================\n"
          ]
        },
        {
          "output_type": "stream",
          "name": "stderr",
          "text": [
            "\r 78%|███████▊  | 390/500 [1:31:01<26:02, 14.20s/it]"
          ]
        },
        {
          "output_type": "stream",
          "name": "stdout",
          "text": [
            "salsa, red onion, fresh cilantro, fresh lime juice, balsamic vinegar, dijon mustard, salt, boneless skinless chicken breast, cajun seasoning, olive oil, mixed salad greens, red bell pepper, tomatoes, avocado\n",
            "\n",
            "=== Allergen Substitutions Made ===\n",
            "Replaced 'salsa' with 'coconut aminos'\n",
            "Replaced 'olive oil' with 'coconut oil'\n",
            "\n",
            "==================================================\n",
            "Generating recipe for: chicharrones de pollo\n",
            "==================================================\n"
          ]
        },
        {
          "output_type": "stream",
          "name": "stderr",
          "text": [
            "\r 78%|███████▊  | 391/500 [1:31:15<25:43, 14.16s/it]"
          ]
        },
        {
          "output_type": "stream",
          "name": "stdout",
          "text": [
            "dark rum, fresh lime juice, soy sauce, sugar, boneless skinless chicken thighs, oil, flour, paprika\n",
            "\n",
            "=== Allergen Substitutions Made ===\n",
            "Replaced 'soy sauce' with 'coconut aminos'\n",
            "Replaced 'sugar' with 'coconut yogurt'\n",
            "Replaced 'flour' with 'almond flour'\n",
            "\n",
            "==================================================\n",
            "Generating recipe for: cerino s italian pie  5fix\n",
            "==================================================\n"
          ]
        },
        {
          "output_type": "stream",
          "name": "stderr",
          "text": [
            "\r 78%|███████▊  | 392/500 [1:31:30<25:27, 14.15s/it]"
          ]
        },
        {
          "output_type": "stream",
          "name": "stdout",
          "text": [
            "simply potatoes traditional mashed potatoes, egg, mozzarella cheese, prosciutto ham, ready-made pie crust\n",
            "\n",
            "=== Allergen Substitutions Made ===\n",
            "Replaced 'egg' with 'flax eggs'\n",
            "\n",
            "==================================================\n",
            "Generating recipe for: yogurt vanilla cupcakes w  chocolate frosting\n",
            "==================================================\n"
          ]
        },
        {
          "output_type": "stream",
          "name": "stderr",
          "text": [
            "\r 79%|███████▊  | 393/500 [1:31:44<25:11, 14.13s/it]"
          ]
        },
        {
          "output_type": "stream",
          "name": "stdout",
          "text": [
            "sugar, unsweetened cocoa, skim milk, vanilla extract, chocolate chips, flour, baking powder, baking soda, salt, butter, eggs, nonfat yogurt\n",
            "\n",
            "==================================================\n",
            "Generating recipe for: fried pies\n",
            "==================================================\n"
          ]
        },
        {
          "output_type": "stream",
          "name": "stderr",
          "text": [
            "\r 79%|███████▉  | 394/500 [1:31:58<24:53, 14.09s/it]"
          ]
        },
        {
          "output_type": "stream",
          "name": "stdout",
          "text": [
            "butter, flour, milk, egg yolk, oil, powdered sugar\n",
            "\n",
            "=== Allergen Substitutions Made ===\n",
            "Replaced 'butter' with 'coconut oil'\n",
            "Replaced 'flour' with 'almond flour'\n",
            "Replaced 'oil' with 'coconut oil'\n",
            "\n",
            "==================================================\n",
            "Generating recipe for: grilled cheese with bacon  apple and mustard\n",
            "==================================================\n"
          ]
        },
        {
          "output_type": "stream",
          "name": "stderr",
          "text": [
            "\r 79%|███████▉  | 395/500 [1:32:12<24:39, 14.09s/it]"
          ]
        },
        {
          "output_type": "stream",
          "name": "stdout",
          "text": [
            "white bread, old cheddar cheese, dijon mustard, granny smith apples, cooked bacon, butter\n",
            "\n",
            "=== Allergen Substitutions Made ===\n",
            "Replaced 'butter' with 'coconut oil'\n",
            "\n",
            "==================================================\n",
            "Generating recipe for: vegan veggie lasagna\n",
            "==================================================\n"
          ]
        },
        {
          "output_type": "stream",
          "name": "stderr",
          "text": [
            "\r 79%|███████▉  | 396/500 [1:32:26<24:26, 14.10s/it]"
          ]
        },
        {
          "output_type": "stream",
          "name": "stdout",
          "text": [
            "lasagna noodles, tomato sauce, extra firm tofu, soymilk, dried oregano, dried basil, salt, lemon juice, garlic cloves, onion, spinach, olive oil, sweet red pepper, fresh mushrooms, zucchini, carrots, water\n",
            "\n",
            "==================================================\n",
            "Generating recipe for: can can canaps  boursin baguette bruschetta\n",
            "==================================================\n"
          ]
        },
        {
          "output_type": "stream",
          "name": "stderr",
          "text": [
            "\r 79%|███████▉  | 397/500 [1:32:40<24:14, 14.12s/it]"
          ]
        },
        {
          "output_type": "stream",
          "name": "stdout",
          "text": [
            "baguette, garlic clove, extra virgin olive oil, cream cheese with herbs, cherry tomatoes, fresh basil leaf, salt and pepper\n",
            "\n",
            "==================================================\n",
            "Generating recipe for: sweet potato pancakes with caramel sauce\n",
            "==================================================\n"
          ]
        },
        {
          "output_type": "stream",
          "name": "stderr",
          "text": [
            "\r 80%|███████▉  | 398/500 [1:32:54<24:01, 14.14s/it]"
          ]
        },
        {
          "output_type": "stream",
          "name": "stdout",
          "text": [
            "all-purpose flour, brown sugar, baking powder, salt, ground ginger, ground allspice, ground cinnamon, ground nutmeg, egg, 2% low-fat milk, canned sweet potatoes, butter, caramel ice cream topping, unsalted cashews, whipped butter\n",
            "\n",
            "=== Allergen Substitutions Made ===\n",
            "Replaced 'egg' with 'flax eggs'\n",
            "Replaced 'butter' with 'coconut oil'\n",
            "\n",
            "==================================================\n",
            "Generating recipe for: high fiber prune bread\n",
            "==================================================\n"
          ]
        },
        {
          "output_type": "stream",
          "name": "stderr",
          "text": [
            "\r 80%|███████▉  | 399/500 [1:33:08<23:49, 14.15s/it]"
          ]
        },
        {
          "output_type": "stream",
          "name": "stdout",
          "text": [
            "all-bran cereal, prune juice, buttermilk, sugar, prune, egg, flour, salt, baking soda, butter, nuts\n",
            "\n",
            "=== Allergen Substitutions Made ===\n",
            "Replaced 'egg' with 'flax eggs'\n",
            "\n",
            "==================================================\n",
            "Generating recipe for: simple tapioca pudding\n",
            "==================================================\n"
          ]
        },
        {
          "output_type": "stream",
          "name": "stderr",
          "text": [
            "\r 80%|████████  | 400/500 [1:33:23<23:48, 14.29s/it]"
          ]
        },
        {
          "output_type": "stream",
          "name": "stdout",
          "text": [
            "tapioca, 2% low-fat milk, salt, sugar, eggs, vanilla\n",
            "\n",
            "=== Allergen Substitutions Made ===\n",
            "Replaced 'tapioca' with 'almond flour'\n",
            "\n",
            "Progress saved to generated_recipes_temp_400.json\n",
            "\n",
            "==================================================\n",
            "Generating recipe for: diabetic  low fat jalapeno pepper spread\n",
            "==================================================\n"
          ]
        },
        {
          "output_type": "stream",
          "name": "stderr",
          "text": [
            "\r 80%|████████  | 401/500 [1:33:37<23:27, 14.22s/it]"
          ]
        },
        {
          "output_type": "stream",
          "name": "stdout",
          "text": [
            "low-fat cream cheese, jalapeno jelly\n",
            "\n",
            "==================================================\n",
            "Generating recipe for: deceptively delicious blueberry oatmeal bars  with spinach\n",
            "==================================================\n"
          ]
        },
        {
          "output_type": "stream",
          "name": "stderr",
          "text": [
            "\r 80%|████████  | 402/500 [1:33:51<23:10, 14.18s/it]"
          ]
        },
        {
          "output_type": "stream",
          "name": "stdout",
          "text": [
            "nonstick cooking spray, old fashioned oats, all-purpose flour, sugar, cinnamon, baking powder, salt, pure vanilla extract, trans-fat free margarine, no-sugar-added blueberry spread, spinach\n",
            "\n",
            "==================================================\n",
            "Generating recipe for: tangy bang n mango salsa\n",
            "==================================================\n"
          ]
        },
        {
          "output_type": "stream",
          "name": "stderr",
          "text": [
            "\r 81%|████████  | 403/500 [1:34:05<22:53, 14.16s/it]"
          ]
        },
        {
          "output_type": "stream",
          "name": "stdout",
          "text": [
            "mango, roma tomatoes, jalapeno pepper, red onion, spinach leaves, cilantro, garlic clove, lemon juice, vinegar, salt\n",
            "\n",
            "=== Allergen Substitutions Made ===\n",
            "Replaced 'mango' with 'oat milk'\n",
            "Replaced 'salt' with 'coconut yogurt'\n",
            "\n",
            "==================================================\n",
            "Generating recipe for: tex mex spice\n",
            "==================================================\n"
          ]
        },
        {
          "output_type": "stream",
          "name": "stderr",
          "text": [
            "\r 81%|████████  | 404/500 [1:34:19<22:37, 14.14s/it]"
          ]
        },
        {
          "output_type": "stream",
          "name": "stdout",
          "text": [
            "chili powder, paprika, salt, ground ginger, black pepper, ground cumin, onion powder, garlic powder, ground thyme, cayenne pepper\n",
            "\n",
            "=== Allergen Substitutions Made ===\n",
            "Replaced 'salt' with 'coconut yogurt'\n",
            "Replaced 'black pepper' with 'hearts of palm'\n",
            "\n",
            "==================================================\n",
            "Generating recipe for: corn lightbread\n",
            "==================================================\n"
          ]
        },
        {
          "output_type": "stream",
          "name": "stderr",
          "text": [
            "\r 81%|████████  | 405/500 [1:34:33<22:22, 14.13s/it]"
          ]
        },
        {
          "output_type": "stream",
          "name": "stdout",
          "text": [
            "cornmeal, all-purpose flour, sugar, baking soda, salt, buttermilk, oil\n",
            "\n",
            "==================================================\n",
            "Generating recipe for: toms oven made chicken jerky\n",
            "==================================================\n"
          ]
        },
        {
          "output_type": "stream",
          "name": "stderr",
          "text": [
            "\r 81%|████████  | 406/500 [1:34:47<22:05, 14.11s/it]"
          ]
        },
        {
          "output_type": "stream",
          "name": "stdout",
          "text": [
            "boneless skinless chicken breast, salt, pickling salt, garlic powder, pepper, onion powder, seasoning salt, cayenne pepper\n",
            "\n",
            "=== Allergen Substitutions Made ===\n",
            "Replaced 'salt' with 'coconut yogurt'\n",
            "Replaced 'pepper' with 'flax eggs'\n",
            "\n",
            "==================================================\n",
            "Generating recipe for: moonstruck eggs\n",
            "==================================================\n"
          ]
        },
        {
          "output_type": "stream",
          "name": "stderr",
          "text": [
            "\r 81%|████████▏ | 407/500 [1:35:02<21:52, 14.11s/it]"
          ]
        },
        {
          "output_type": "stream",
          "name": "stdout",
          "text": [
            "italian bread, eggs, red bell pepper, onion, salt, fresh ground pepper, extra virgin olive oil, garlic\n",
            "\n",
            "==================================================\n",
            "Generating recipe for: red cabbage coleslaw  rotkohlsalat\n",
            "==================================================\n"
          ]
        },
        {
          "output_type": "stream",
          "name": "stderr",
          "text": [
            "\r 82%|████████▏ | 408/500 [1:35:16<21:37, 14.11s/it]"
          ]
        },
        {
          "output_type": "stream",
          "name": "stdout",
          "text": [
            "red cabbage, salt, white balsamic vinegar, apple, sugar, oil\n",
            "\n",
            "=== Allergen Substitutions Made ===\n",
            "Replaced 'salt' with 'coconut yogurt'\n",
            "Replaced 'apple' with 'coconut oil'\n",
            "Replaced 'sugar' with 'coconut yogurt'\n",
            "Replaced 'oil' with 'coconut oil'\n",
            "\n",
            "==================================================\n",
            "Generating recipe for: texas homemade bbq sauce\n",
            "==================================================\n"
          ]
        },
        {
          "output_type": "stream",
          "name": "stderr",
          "text": [
            "\r 82%|████████▏ | 409/500 [1:35:30<21:24, 14.12s/it]"
          ]
        },
        {
          "output_type": "stream",
          "name": "stdout",
          "text": [
            "butter, onion, ketchup, tomato sauce, salt, seasoning salt, pepper, garlic cloves, sugar, chili powder, worcestershire sauce, lemon juice, jalapeno\n",
            "\n",
            "=== Allergen Substitutions Made ===\n",
            "Replaced 'butter' with 'coconut oil'\n",
            "Replaced 'onion' with 'seeds'\n",
            "\n",
            "==================================================\n",
            "Generating recipe for: oxtail bourguignonne\n",
            "==================================================\n"
          ]
        },
        {
          "output_type": "stream",
          "name": "stderr",
          "text": [
            "\r 82%|████████▏ | 410/500 [1:35:44<21:13, 14.15s/it]"
          ]
        },
        {
          "output_type": "stream",
          "name": "stdout",
          "text": [
            "fatty bacon, olive oil, parsley sprigs, fresh thyme sprigs, fresh bay leaves, all-purpose flour, butter, ground nutmeg, fat, onions, carrot, garlic cloves, beef broth, red burgundy wine, cremini mushroom, shallots\n",
            "\n",
            "==================================================\n",
            "Generating recipe for: old mexican inn dip  serve with tortilla chips\n",
            "==================================================\n"
          ]
        },
        {
          "output_type": "stream",
          "name": "stderr",
          "text": [
            "\r 82%|████████▏ | 411/500 [1:35:58<21:00, 14.16s/it]"
          ]
        },
        {
          "output_type": "stream",
          "name": "stdout",
          "text": [
            "mayonnaise, vinegar, garlic powder, paprika, lemon juice\n",
            "\n",
            "==================================================\n",
            "Generating recipe for: sarah s choco peanut cheesecake\n",
            "==================================================\n"
          ]
        },
        {
          "output_type": "stream",
          "name": "stderr",
          "text": [
            "\r 82%|████████▏ | 412/500 [1:36:13<21:06, 14.40s/it]"
          ]
        },
        {
          "output_type": "stream",
          "name": "stdout",
          "text": [
            "graham cracker crumbs, peanuts, ground cinnamon, butter, cream cheese, peanut butter, white sugar, all-purpose flour, vanilla extract, eggs, egg yolk, half-and-half cream, semi-sweet chocolate chips\n",
            "\n",
            "=== Allergen Substitutions Made ===\n",
            "Replaced 'peanuts' with 'sunflower seed butter'\n",
            "Replaced 'butter' with 'coconut oil'\n",
            "\n",
            "==================================================\n",
            "Generating recipe for: bhutanese cheese curry  ema daji\n",
            "==================================================\n"
          ]
        },
        {
          "output_type": "stream",
          "name": "stderr",
          "text": [
            "\r 83%|████████▎ | 413/500 [1:36:27<20:45, 14.31s/it]"
          ]
        },
        {
          "output_type": "stream",
          "name": "stdout",
          "text": [
            "chilies, onion, vegetable oil, tomatoes, garlic cloves, feta cheese, coriander leaves\n",
            "\n",
            "=== Allergen Substitutions Made ===\n",
            "Replaced 'onion' with 'seeds'\n",
            "Replaced 'feta cheese' with 'nutritional yeast'\n",
            "\n",
            "==================================================\n",
            "Generating recipe for: spanish style clams\n",
            "==================================================\n"
          ]
        },
        {
          "output_type": "stream",
          "name": "stderr",
          "text": [
            "\r 83%|████████▎ | 414/500 [1:36:41<20:25, 14.25s/it]"
          ]
        },
        {
          "output_type": "stream",
          "name": "stdout",
          "text": [
            "olive oil, sweet onions, green bell peppers, red bell peppers, garlic cloves, bay leaves, crushed tomatoes in puree, dry white wine, littleneck clams, hot pepper\n",
            "\n",
            "=== Allergen Substitutions Made ===\n",
            "Replaced 'olive oil' with 'coconut oil'\n",
            "\n",
            "==================================================\n",
            "Generating recipe for: orange chili chicken with black beans\n",
            "==================================================\n"
          ]
        },
        {
          "output_type": "stream",
          "name": "stderr",
          "text": [
            "\r 83%|████████▎ | 415/500 [1:36:56<20:10, 14.24s/it]"
          ]
        },
        {
          "output_type": "stream",
          "name": "stdout",
          "text": [
            "boneless skinless chicken thighs, red onion, red bell pepper, garlic cloves, orange juice, chili sauce, black beans, dark rum, cumin, black pepper, salt, fresh cilantro\n",
            "\n",
            "=== Allergen Substitutions Made ===\n",
            "Replaced 'red bell pepper' with 'flax eggs'\n",
            "\n",
            "==================================================\n",
            "Generating recipe for: mae mortensen s butter pecan cookies\n",
            "==================================================\n"
          ]
        },
        {
          "output_type": "stream",
          "name": "stderr",
          "text": [
            "\r 83%|████████▎ | 416/500 [1:37:10<19:53, 14.21s/it]"
          ]
        },
        {
          "output_type": "stream",
          "name": "stdout",
          "text": [
            "butter, margarine, sugar, cold water, vanilla extract, all-purpose flour, ground pecans\n",
            "\n",
            "=== Allergen Substitutions Made ===\n",
            "Replaced 'butter' with 'coconut oil'\n",
            "\n",
            "==================================================\n",
            "Generating recipe for: sweet   sticky chicken breasts\n",
            "==================================================\n"
          ]
        },
        {
          "output_type": "stream",
          "name": "stderr",
          "text": [
            "\r 83%|████████▎ | 417/500 [1:37:24<19:38, 14.19s/it]"
          ]
        },
        {
          "output_type": "stream",
          "name": "stdout",
          "text": [
            "balsamic vinegar, honey, light brown sugar, soy sauce, rosemary sprigs, garlic cloves, chicken breasts, sesame seeds, parsley\n",
            "\n",
            "==================================================\n",
            "Generating recipe for: easy creamy chicken ole\n",
            "==================================================\n"
          ]
        },
        {
          "output_type": "stream",
          "name": "stderr",
          "text": [
            "\r 84%|████████▎ | 418/500 [1:37:38<19:25, 14.21s/it]"
          ]
        },
        {
          "output_type": "stream",
          "name": "stdout",
          "text": [
            "boneless skinless chicken breasts, enchilada sauce, heavy cream, fresh cilantro, garlic cloves\n",
            "\n",
            "==================================================\n",
            "Generating recipe for: mint and cottage cheese samosas\n",
            "==================================================\n"
          ]
        },
        {
          "output_type": "stream",
          "name": "stderr",
          "text": [
            "\r 84%|████████▍ | 419/500 [1:37:52<19:07, 14.17s/it]"
          ]
        },
        {
          "output_type": "stream",
          "name": "stdout",
          "text": [
            "cottage cheese, green chili, egg yolk, mint, salt, black pepper\n",
            "\n",
            "=== Allergen Substitutions Made ===\n",
            "Replaced 'salt' with 'coconut yogurt'\n",
            "Replaced 'black pepper' with 'hearts of palm'\n",
            "\n",
            "==================================================\n",
            "Generating recipe for: hawaiian chicken cordon bleu pizza\n",
            "==================================================\n"
          ]
        },
        {
          "output_type": "stream",
          "name": "stderr",
          "text": [
            "\r 84%|████████▍ | 420/500 [1:38:06<18:52, 14.15s/it]"
          ]
        },
        {
          "output_type": "stream",
          "name": "stdout",
          "text": [
            "pineapple chunks, honey, boneless skinless chicken breasts, crescent rolls, laughing cow cheese, deli ham, salt & fresh ground pepper\n",
            "\n",
            "==================================================\n",
            "Generating recipe for: rib roast au jus\n",
            "==================================================\n"
          ]
        },
        {
          "output_type": "stream",
          "name": "stderr",
          "text": [
            "\r 84%|████████▍ | 421/500 [1:38:20<18:35, 14.12s/it]"
          ]
        },
        {
          "output_type": "stream",
          "name": "stdout",
          "text": [
            "rib roast, garlic cloves, salt, fresh ground black pepper, red wine, beef broth\n",
            "\n",
            "=== Allergen Substitutions Made ===\n",
            "Replaced 'rib roast' with 'seeds'\n",
            "Replaced 'salt' with 'coconut yogurt'\n",
            "\n",
            "==================================================\n",
            "Generating recipe for: sticky rice with mango thai dessert\n",
            "==================================================\n"
          ]
        },
        {
          "output_type": "stream",
          "name": "stderr",
          "text": [
            "\r 84%|████████▍ | 422/500 [1:38:35<18:22, 14.14s/it]"
          ]
        },
        {
          "output_type": "stream",
          "name": "stdout",
          "text": [
            "glutinous rice, water, coconut milk, sugar, salt, cornstarch, mangoes\n",
            "\n",
            "=== Allergen Substitutions Made ===\n",
            "Replaced 'water' with 'flax eggs'\n",
            "\n",
            "==================================================\n",
            "Generating recipe for: cinnamon twigs\n",
            "==================================================\n"
          ]
        },
        {
          "output_type": "stream",
          "name": "stderr",
          "text": [
            "\r 85%|████████▍ | 423/500 [1:38:49<18:05, 14.10s/it]"
          ]
        },
        {
          "output_type": "stream",
          "name": "stdout",
          "text": [
            "caster sugar, ground cinnamon, puff pastry, egg white\n",
            "\n",
            "==================================================\n",
            "Generating recipe for: grapefruit  orange and avocado salad\n",
            "==================================================\n"
          ]
        },
        {
          "output_type": "stream",
          "name": "stderr",
          "text": [
            "\r 85%|████████▍ | 424/500 [1:39:04<18:24, 14.53s/it]"
          ]
        },
        {
          "output_type": "stream",
          "name": "stdout",
          "text": [
            "ruby grapefruits, navel oranges, avocados, butter lettuce leaves\n",
            "\n",
            "==================================================\n",
            "Generating recipe for: home style pear sauce\n",
            "==================================================\n"
          ]
        },
        {
          "output_type": "stream",
          "name": "stderr",
          "text": [
            "\r 85%|████████▌ | 425/500 [1:39:18<18:00, 14.41s/it]"
          ]
        },
        {
          "output_type": "stream",
          "name": "stdout",
          "text": [
            "bartlett pears, water, sugar, lemon juice, ground cinnamon\n",
            "\n",
            "=== Allergen Substitutions Made ===\n",
            "Replaced 'water' with 'flax eggs'\n",
            "\n",
            "==================================================\n",
            "Generating recipe for: puff pastry chicken bundles\n",
            "==================================================\n"
          ]
        },
        {
          "output_type": "stream",
          "name": "stderr",
          "text": [
            "\r 85%|████████▌ | 426/500 [1:39:32<17:41, 14.34s/it]"
          ]
        },
        {
          "output_type": "stream",
          "name": "stdout",
          "text": [
            "boneless skinless chicken breasts, salt, pepper, spinach leaves, chive & onion cream cheese, walnuts, frozen puff pastry, egg, cold water\n",
            "\n",
            "==================================================\n",
            "Generating recipe for: christmas cherry chews\n",
            "==================================================\n"
          ]
        },
        {
          "output_type": "stream",
          "name": "stderr",
          "text": [
            "\r 85%|████████▌ | 427/500 [1:39:47<17:23, 14.30s/it]"
          ]
        },
        {
          "output_type": "stream",
          "name": "stdout",
          "text": [
            "rolled oats, flour, brown sugar, baking soda, salt, butter, eggs, baking powder, almond extract, coconut, red maraschino cherry, pecan halves\n",
            "\n",
            "=== Allergen Substitutions Made ===\n",
            "Replaced 'flour' with 'almond flour'\n",
            "Replaced 'salt' with 'coconut yogurt'\n",
            "Replaced 'butter' with 'coconut oil'\n",
            "\n",
            "==================================================\n",
            "Generating recipe for: lightly spiced vegetable couscous\n",
            "==================================================\n"
          ]
        },
        {
          "output_type": "stream",
          "name": "stderr",
          "text": [
            "\r 86%|████████▌ | 428/500 [1:40:01<17:08, 14.29s/it]"
          ]
        },
        {
          "output_type": "stream",
          "name": "stdout",
          "text": [
            "vegetable stock, shallots, carrot, garlic powder, ground cumin, couscous, low-fat margarine\n",
            "\n",
            "=== Allergen Substitutions Made ===\n",
            "Replaced 'carrot' with 'hearts of palm'\n",
            "Replaced 'couscous' with 'coconut cream'\n",
            "\n",
            "==================================================\n",
            "Generating recipe for: spinach  garlic and rosemary griddlecakes\n",
            "==================================================\n"
          ]
        },
        {
          "output_type": "stream",
          "name": "stderr",
          "text": [
            "\r 86%|████████▌ | 429/500 [1:40:15<16:50, 14.24s/it]"
          ]
        },
        {
          "output_type": "stream",
          "name": "stdout",
          "text": [
            "idaho potato, olive oil, onion, garlic cloves, fresh rosemary, frozen chopped spinach, feta cheese, parmesan cheese, egg, dried oregano, salt, fresh ground pepper, dried breadcrumbs\n",
            "\n",
            "=== Allergen Substitutions Made ===\n",
            "Replaced 'olive oil' with 'coconut oil'\n",
            "Replaced 'onion' with 'seeds'\n",
            "Replaced 'egg' with 'flax eggs'\n",
            "Replaced 'salt' with 'coconut yogurt'\n",
            "\n",
            "==================================================\n",
            "Generating recipe for: pink lassies\n",
            "==================================================\n"
          ]
        },
        {
          "output_type": "stream",
          "name": "stderr",
          "text": [
            "\r 86%|████████▌ | 430/500 [1:40:29<16:32, 14.18s/it]"
          ]
        },
        {
          "output_type": "stream",
          "name": "stdout",
          "text": [
            "cranberry juice, orange juice, vanilla ice cream\n",
            "\n",
            "==================================================\n",
            "Generating recipe for: 100  authentic vietnamese dipping sauce  nuoc cham\n",
            "==================================================\n"
          ]
        },
        {
          "output_type": "stream",
          "name": "stderr",
          "text": [
            "\r 86%|████████▌ | 431/500 [1:40:43<16:17, 14.16s/it]"
          ]
        },
        {
          "output_type": "stream",
          "name": "stdout",
          "text": [
            "garlic, limes, juice of, white vinegar, fish sauce, white sugar, chili-garlic sauce, cold water\n",
            "\n",
            "=== Allergen Substitutions Made ===\n",
            "Replaced 'garlic' with 'coconut oil'\n",
            "\n",
            "==================================================\n",
            "Generating recipe for: prize nut cookies  ice box cookies\n",
            "==================================================\n"
          ]
        },
        {
          "output_type": "stream",
          "name": "stderr",
          "text": [
            "\r 86%|████████▋ | 432/500 [1:40:57<16:03, 14.17s/it]"
          ]
        },
        {
          "output_type": "stream",
          "name": "stdout",
          "text": [
            "brown sugar, eggs, white sugar, cinnamon, crisco, salt, flour, walnuts\n",
            "\n",
            "=== Allergen Substitutions Made ===\n",
            "Replaced 'salt' with 'coconut yogurt'\n",
            "Replaced 'flour' with 'almond flour'\n",
            "\n",
            "==================================================\n",
            "Generating recipe for: buttermilk mac  n  cheese\n",
            "==================================================\n"
          ]
        },
        {
          "output_type": "stream",
          "name": "stderr",
          "text": [
            "\r 87%|████████▋ | 433/500 [1:41:11<15:32, 13.92s/it]"
          ]
        },
        {
          "output_type": "stream",
          "name": "stdout",
          "text": [
            "eggs, cheddar cheese, buttermilk, butter, salt, elbow macaroni\n",
            "\n",
            "=== Allergen Substitutions Made ===\n",
            "Replaced 'butter' with 'coconut oil'\n",
            "\n",
            "==================================================\n",
            "Generating recipe for: saucy fudge pudding cake\n",
            "==================================================\n"
          ]
        },
        {
          "output_type": "stream",
          "name": "stderr",
          "text": [
            "\r 87%|████████▋ | 434/500 [1:41:25<15:24, 14.01s/it]"
          ]
        },
        {
          "output_type": "stream",
          "name": "stdout",
          "text": [
            "spelt flour, cocoa, baking powder, salt, milk, vegetable oil, honey, nuts, demerara sugar, hot water\n",
            "\n",
            "==================================================\n",
            "Generating recipe for: whole wheat pasta arrabbiata with arugula\n",
            "==================================================\n"
          ]
        },
        {
          "output_type": "stream",
          "name": "stderr",
          "text": [
            "\r 87%|████████▋ | 435/500 [1:41:39<15:18, 14.13s/it]"
          ]
        },
        {
          "output_type": "stream",
          "name": "stdout",
          "text": [
            "salt, whole wheat penne rigate, extra virgin olive oil, red onion, garlic cloves, crushed red pepper flakes, balsamic vinegar, diced fire-roasted tomatoes, black pepper, pecorino romano cheese, arugula\n",
            "\n",
            "=== Allergen Substitutions Made ===\n",
            "Replaced 'salt' with 'coconut yogurt'\n",
            "\n",
            "==================================================\n",
            "Generating recipe for: easy chicken broccoli casserole\n",
            "==================================================\n"
          ]
        },
        {
          "output_type": "stream",
          "name": "stderr",
          "text": [
            "\r 87%|████████▋ | 436/500 [1:41:55<15:26, 14.47s/it]"
          ]
        },
        {
          "output_type": "stream",
          "name": "stdout",
          "text": [
            "chicken breasts, frozen broccoli, cream of chicken soup, cream of mushroom soup, cream of celery soup, milk, dried onion flakes, mushrooms, sliced water chestnuts, cheddar cheese\n",
            "\n",
            "==================================================\n",
            "Generating recipe for: moroccan chicken and raisins for 2\n",
            "==================================================\n"
          ]
        },
        {
          "output_type": "stream",
          "name": "stderr",
          "text": [
            "\r 87%|████████▋ | 437/500 [1:42:09<15:06, 14.38s/it]"
          ]
        },
        {
          "output_type": "stream",
          "name": "stdout",
          "text": [
            "oil, onion, garlic clove, salt and pepper, ground ginger, coriander, cumin, cinnamon, nutmeg, cayenne, vanilla extract, tomatoes, raisins, almonds, chickpeas, boneless skinless chicken breast\n",
            "\n",
            "=== Allergen Substitutions Made ===\n",
            "Replaced 'oil' with 'coconut oil'\n",
            "\n",
            "==================================================\n",
            "Generating recipe for: tropical passion\n",
            "==================================================\n"
          ]
        },
        {
          "output_type": "stream",
          "name": "stderr",
          "text": [
            "\r 88%|████████▊ | 438/500 [1:42:23<14:46, 14.30s/it]"
          ]
        },
        {
          "output_type": "stream",
          "name": "stdout",
          "text": [
            "peach schnapps, rum, sloe gin, triple sec, orange juice\n",
            "\n",
            "==================================================\n",
            "Generating recipe for: persian butter cookies\n",
            "==================================================\n"
          ]
        },
        {
          "output_type": "stream",
          "name": "stderr",
          "text": [
            "\r 88%|████████▊ | 439/500 [1:42:37<14:33, 14.32s/it]"
          ]
        },
        {
          "output_type": "stream",
          "name": "stdout",
          "text": [
            "butter, egg yolks, lemon juice, sugar, lemon, rind of, vanilla, flour\n",
            "\n",
            "=== Allergen Substitutions Made ===\n",
            "Replaced 'butter' with 'coconut oil'\n",
            "Replaced 'lemon juice' with 'oat milk'\n",
            "Replaced 'sugar' with 'coconut yogurt'\n",
            "Replaced 'lemon' with 'coconut cream'\n",
            "Replaced 'flour' with 'almond flour'\n",
            "\n",
            "==================================================\n",
            "Generating recipe for: pollo asado\n",
            "==================================================\n"
          ]
        },
        {
          "output_type": "stream",
          "name": "stderr",
          "text": [
            "\r 88%|████████▊ | 440/500 [1:42:51<14:16, 14.28s/it]"
          ]
        },
        {
          "output_type": "stream",
          "name": "stdout",
          "text": [
            "olive oil, ground cumin, salt, dried oregano, garlic, lime juice, orange juice, achiote powder, whole boneless chicken breasts\n",
            "\n",
            "=== Allergen Substitutions Made ===\n",
            "Replaced 'olive oil' with 'coconut oil'\n",
            "Replaced 'salt' with 'coconut yogurt'\n",
            "\n",
            "==================================================\n",
            "Generating recipe for: jammin  vegetable jambalaya\n",
            "==================================================\n"
          ]
        },
        {
          "output_type": "stream",
          "name": "stderr",
          "text": [
            "\r 88%|████████▊ | 441/500 [1:43:06<14:00, 14.25s/it]"
          ]
        },
        {
          "output_type": "stream",
          "name": "stdout",
          "text": [
            "olive oil, yellow onion, celery, red bell pepper, garlic cloves, diced tomatoes, fresh thyme leaves, fresh marjoram, tabasco sauce, salt, water, vegetarian sausage links, dark red kidney beans, fresh parsley, cooked long-grain rice\n",
            "\n",
            "==================================================\n",
            "Generating recipe for: ranch cupcake meatloaf with hidden gems  rsc\n",
            "==================================================\n"
          ]
        },
        {
          "output_type": "stream",
          "name": "stderr",
          "text": [
            "\r 88%|████████▊ | 442/500 [1:43:20<13:43, 14.20s/it]"
          ]
        },
        {
          "output_type": "stream",
          "name": "stdout",
          "text": [
            "butter, baby carrots, button mushrooms, onions, garlic cloves, tomato paste, fresh thyme leave, frozen corn, ground pork, ground beef, eggs, breadcrumbs, worcestershire sauce, hot sauce, hidden valley original ranch dressing and seasoning mix, mozzarella cheese, shallot, brown sugar\n",
            "\n",
            "==================================================\n",
            "Generating recipe for: crispy jalapeno popper dip\n",
            "==================================================\n"
          ]
        },
        {
          "output_type": "stream",
          "name": "stderr",
          "text": [
            "\r 89%|████████▊ | 443/500 [1:43:34<13:27, 14.17s/it]"
          ]
        },
        {
          "output_type": "stream",
          "name": "stdout",
          "text": [
            "cream cheese, mayonnaise, green chilies, jalapeno peppers, mexican blend cheese, mozzarella cheese, panko breadcrumbs, parmesan cheese\n",
            "\n",
            "==================================================\n",
            "Generating recipe for: chicken  shrimp  and sausage stew\n",
            "==================================================\n"
          ]
        },
        {
          "output_type": "stream",
          "name": "stderr",
          "text": [
            "\r 89%|████████▉ | 444/500 [1:43:48<13:13, 14.17s/it]"
          ]
        },
        {
          "output_type": "stream",
          "name": "stdout",
          "text": [
            "andouille sausage, chicken thighs, onions, green bell peppers, red bell peppers, garlic, dried oregano, dried thyme, paprika, diced tomatoes with juice, chicken broth, dry white wine, large shrimp, salt and pepper\n",
            "\n",
            "==================================================\n",
            "Generating recipe for: chicken paprika with egg noodles\n",
            "==================================================\n"
          ]
        },
        {
          "output_type": "stream",
          "name": "stderr",
          "text": [
            "\r 89%|████████▉ | 445/500 [1:44:02<12:59, 14.16s/it]"
          ]
        },
        {
          "output_type": "stream",
          "name": "stdout",
          "text": [
            "chicken legs, seasoning salt, black pepper, onions, garlic, dried chili pepper flakes, oil, paprika, tomato sauce, water, sour cream, red bell pepper, egg noodles\n",
            "\n",
            "=== Allergen Substitutions Made ===\n",
            "Replaced 'oil' with 'coconut oil'\n",
            "Replaced 'water' with 'flax eggs'\n",
            "\n",
            "==================================================\n",
            "Generating recipe for: italian chicken\n",
            "==================================================\n"
          ]
        },
        {
          "output_type": "stream",
          "name": "stderr",
          "text": [
            "\r 89%|████████▉ | 446/500 [1:44:16<12:41, 14.11s/it]"
          ]
        },
        {
          "output_type": "stream",
          "name": "stdout",
          "text": [
            "boneless chicken breasts, italian dressing, breadcrumbs\n",
            "\n",
            "==================================================\n",
            "Generating recipe for: homemade texas chips with guacamole spread\n",
            "==================================================\n"
          ]
        },
        {
          "output_type": "stream",
          "name": "stderr",
          "text": [
            "\r 89%|████████▉ | 447/500 [1:44:30<12:26, 14.09s/it]"
          ]
        },
        {
          "output_type": "stream",
          "name": "stdout",
          "text": [
            "biscuit mix, water, cornmeal, vegetable oil, avocado, lime juice, mayonnaise, green chilies, onion, worcestershire sauce, ground cumin, hot sauce, tomatoes, garlic clove, bacon bits\n",
            "\n",
            "=== Allergen Substitutions Made ===\n",
            "Replaced 'avocado' with 'hearts of palm'\n",
            "\n",
            "==================================================\n",
            "Generating recipe for: corn and coriander soup\n",
            "==================================================\n"
          ]
        },
        {
          "output_type": "stream",
          "name": "stderr",
          "text": [
            "\r 90%|████████▉ | 448/500 [1:44:45<12:30, 14.42s/it]"
          ]
        },
        {
          "output_type": "stream",
          "name": "stdout",
          "text": [
            "corn on the cob, red capsicum, oil, onion, garlic cloves, chicken stock, lime juice, fresh coriander leaves\n",
            "\n",
            "=== Allergen Substitutions Made ===\n",
            "Replaced 'oil' with 'coconut oil'\n",
            "Replaced 'onion' with 'seeds'\n",
            "\n",
            "==================================================\n",
            "Generating recipe for: chicken and mushroom bake\n",
            "==================================================\n"
          ]
        },
        {
          "output_type": "stream",
          "name": "stderr",
          "text": [
            "\r 90%|████████▉ | 449/500 [1:44:59<12:10, 14.32s/it]"
          ]
        },
        {
          "output_type": "stream",
          "name": "stdout",
          "text": [
            "boneless skinless chicken breasts, olive oil, onion, red bell pepper, green bell pepper, garlic cloves, mushroom, ketchup, chicken broth, worcestershire sauce, ground black pepper, salt\n",
            "\n",
            "=== Allergen Substitutions Made ===\n",
            "Replaced 'mushroom' with 'king oyster mushrooms'\n",
            "Replaced 'salt' with 'coconut yogurt'\n",
            "\n",
            "==================================================\n",
            "Generating recipe for: potato chive dip\n",
            "==================================================\n"
          ]
        },
        {
          "output_type": "stream",
          "name": "stderr",
          "text": [
            "\r 90%|█████████ | 450/500 [1:45:13<11:51, 14.23s/it]"
          ]
        },
        {
          "output_type": "stream",
          "name": "stdout",
          "text": [
            "sour cream, mayonnaise, potato, fresh chives, worcestershire sauce, salt, pepper\n",
            "\n",
            "=== Allergen Substitutions Made ===\n",
            "Replaced 'sour cream' with 'coconut cream'\n",
            "Replaced 'potato' with 'hearts of palm'\n",
            "Replaced 'pepper' with 'flax eggs'\n",
            "\n",
            "Progress saved to generated_recipes_temp_450.json\n",
            "\n",
            "==================================================\n",
            "Generating recipe for: roasted green beans with shallots   asiago cheese\n",
            "==================================================\n"
          ]
        },
        {
          "output_type": "stream",
          "name": "stderr",
          "text": [
            "\r 90%|█████████ | 451/500 [1:45:27<11:33, 14.16s/it]"
          ]
        },
        {
          "output_type": "stream",
          "name": "stdout",
          "text": [
            "green beans, shallot, oil, flavored oil, asiago cheese, sea salt, black pepper\n",
            "\n",
            "=== Allergen Substitutions Made ===\n",
            "Replaced 'oil' with 'coconut oil'\n",
            "\n",
            "==================================================\n",
            "Generating recipe for: butternut squash creme flan  with caramel sauce\n",
            "==================================================\n"
          ]
        },
        {
          "output_type": "stream",
          "name": "stderr",
          "text": [
            "\r 90%|█████████ | 452/500 [1:45:42<11:18, 14.13s/it]"
          ]
        },
        {
          "output_type": "stream",
          "name": "stdout",
          "text": [
            "sugar, water, butternut squash, eggs, egg yolks, brown sugar, salt, ginger, cinnamon, milk, whipping cream\n",
            "\n",
            "=== Allergen Substitutions Made ===\n",
            "Replaced 'sugar' with 'coconut yogurt'\n",
            "Replaced 'eggs' with 'flax eggs'\n",
            "Replaced 'salt' with 'coconut yogurt'\n",
            "Replaced 'milk' with 'oat milk'\n",
            "Replaced 'whipping cream' with 'coconut cream'\n",
            "\n",
            "==================================================\n",
            "Generating recipe for: avocado gelatin\n",
            "==================================================\n"
          ]
        },
        {
          "output_type": "stream",
          "name": "stderr",
          "text": [
            "\r 91%|█████████ | 453/500 [1:45:53<10:21, 13.22s/it]"
          ]
        },
        {
          "output_type": "stream",
          "name": "stdout",
          "text": [
            "avocado, mayonnaise, cream, sugar, lime jell-o gelatin, gelatin, water, hot water\n",
            "\n",
            "=== Allergen Substitutions Made ===\n",
            "Replaced 'avocado' with 'hearts of palm'\n",
            "Replaced 'cream' with 'coconut cream'\n",
            "\n",
            "==================================================\n",
            "Generating recipe for: south carolina smoked pork shoulder with mustard sauce\n",
            "==================================================\n"
          ]
        },
        {
          "output_type": "stream",
          "name": "stderr",
          "text": [
            "\r 91%|█████████ | 454/500 [1:46:07<10:23, 13.55s/it]"
          ]
        },
        {
          "output_type": "stream",
          "name": "stdout",
          "text": [
            "dry mustard, sweet paprika, salt, fresh ground black pepper, white pepper, garlic powder, onion powder, cayenne pepper, boston butt, distilled white vinegar, dijon mustard, butter, onion, garlic clove, brown sugar, hot sauce, coarse salt, hamburger buns, sweet pickles, wood chips\n",
            "\n",
            "=== Allergen Substitutions Made ===\n",
            "Replaced 'dry mustard' with 'coconut cream'\n",
            "Replaced 'sweet paprika' with 'poppy seeds'\n",
            "Replaced 'salt' with 'coconut yogurt'\n",
            "Replaced 'garlic clove' with 'coconut oil'\n",
            "\n",
            "==================================================\n",
            "Generating recipe for: apple and pear bundt cake\n",
            "==================================================\n"
          ]
        },
        {
          "output_type": "stream",
          "name": "stderr",
          "text": [
            "\r 91%|█████████ | 455/500 [1:46:21<10:19, 13.77s/it]"
          ]
        },
        {
          "output_type": "stream",
          "name": "stdout",
          "text": [
            "apples, pears, raisins, white sugar, all-purpose flour, baking powder, salt, cinnamon, clove, nutmeg, eggs, vegetable oil, vanilla, pecans, powdered sugar\n",
            "\n",
            "=== Allergen Substitutions Made ===\n",
            "Replaced 'apples' with 'flax eggs'\n",
            "\n",
            "==================================================\n",
            "Generating recipe for: soy delicious strawberry banana shake or smoothie\n",
            "==================================================\n"
          ]
        },
        {
          "output_type": "stream",
          "name": "stderr",
          "text": [
            "\r 91%|█████████ | 456/500 [1:46:34<09:47, 13.35s/it]"
          ]
        },
        {
          "output_type": "stream",
          "name": "stdout",
          "text": [
            "vanilla-flavored soymilk, strawberries, banana, splenda sugar substitute, ice cubes\n",
            "\n",
            "=== Allergen Substitutions Made ===\n",
            "Replaced 'strawberries' with 'coconut aminos'\n",
            "Replaced 'banana' with 'flax eggs'\n",
            "\n",
            "==================================================\n",
            "Generating recipe for: slow cooker  tangy steak supper\n",
            "==================================================\n"
          ]
        },
        {
          "output_type": "stream",
          "name": "stderr",
          "text": [
            "\r 91%|█████████▏| 457/500 [1:46:48<09:45, 13.61s/it]"
          ]
        },
        {
          "output_type": "stream",
          "name": "stdout",
          "text": [
            "beef round steak, all-purpose flour, french dressing, salt and pepper, onion, green pepper, pineapple chunks, cooked rice\n",
            "\n",
            "==================================================\n",
            "Generating recipe for: cheesy bacon dip\n",
            "==================================================\n"
          ]
        },
        {
          "output_type": "stream",
          "name": "stderr",
          "text": [
            "\r 92%|█████████▏| 458/500 [1:47:02<09:40, 13.82s/it]"
          ]
        },
        {
          "output_type": "stream",
          "name": "stdout",
          "text": [
            "cream cheese, colby cheese, prepared mustard, white worcestershire sauce, green onions with tops, salt, bacon\n",
            "\n",
            "==================================================\n",
            "Generating recipe for: raisin pecan pie   diabetic\n",
            "==================================================\n"
          ]
        },
        {
          "output_type": "stream",
          "name": "stderr",
          "text": [
            "\r 92%|█████████▏| 459/500 [1:47:16<09:31, 13.93s/it]"
          ]
        },
        {
          "output_type": "stream",
          "name": "stdout",
          "text": [
            "unbaked pie shell, evaporated skim milk, sugar substitute, butter, eggs, cornstarch, salt, pecans, vanilla, raisins\n",
            "\n",
            "=== Allergen Substitutions Made ===\n",
            "Replaced 'salt' with 'coconut yogurt'\n",
            "\n",
            "==================================================\n",
            "Generating recipe for: vegetable lasagna rolls\n",
            "==================================================\n"
          ]
        },
        {
          "output_type": "stream",
          "name": "stderr",
          "text": [
            "\r 92%|█████████▏| 460/500 [1:47:30<09:20, 14.00s/it]"
          ]
        },
        {
          "output_type": "stream",
          "name": "stdout",
          "text": [
            "olive oil, carrots, onion, frozen broccoli, salt, pepper, lasagna noodles, provolone cheese, ricotta cheese, egg\n",
            "\n",
            "=== Allergen Substitutions Made ===\n",
            "Replaced 'olive oil' with 'coconut oil'\n",
            "Replaced 'onion' with 'seeds'\n",
            "Replaced 'egg' with 'flax eggs'\n",
            "\n",
            "==================================================\n",
            "Generating recipe for: greek chickens in togas\n",
            "==================================================\n"
          ]
        },
        {
          "output_type": "stream",
          "name": "stderr",
          "text": [
            "\r 92%|█████████▏| 461/500 [1:47:46<09:19, 14.36s/it]"
          ]
        },
        {
          "output_type": "stream",
          "name": "stdout",
          "text": [
            "boneless skinless chicken breasts, feta cheese, yellow onion, black olives, ricotta cheese, all purpose greek seasoning, crescent rolls\n",
            "\n",
            "==================================================\n",
            "Generating recipe for: hash browns breakfast  quiche\n",
            "==================================================\n"
          ]
        },
        {
          "output_type": "stream",
          "name": "stderr",
          "text": [
            "\r 92%|█████████▏| 462/500 [1:48:00<09:03, 14.30s/it]"
          ]
        },
        {
          "output_type": "stream",
          "name": "stdout",
          "text": [
            "hash brown patties, butter, breakfast sausage, monterey jack cheese, eggs, milk, cream, salt, pepper\n",
            "\n",
            "==================================================\n",
            "Generating recipe for: oven style pizza fries\n",
            "==================================================\n"
          ]
        },
        {
          "output_type": "stream",
          "name": "stderr",
          "text": [
            "\r 93%|█████████▎| 463/500 [1:48:14<08:46, 14.24s/it]"
          ]
        },
        {
          "output_type": "stream",
          "name": "stdout",
          "text": [
            "potatoes, tomato paste, vegetable oil, dried oregano, fennel seeds, mild paprika, dried basil, garlic powder, salt, sugar, parmesan cheese\n",
            "\n",
            "=== Allergen Substitutions Made ===\n",
            "Replaced 'salt' with 'coconut yogurt'\n",
            "\n",
            "==================================================\n",
            "Generating recipe for: sour cream fruit dip\n",
            "==================================================\n"
          ]
        },
        {
          "output_type": "stream",
          "name": "stderr",
          "text": [
            "\r 93%|█████████▎| 464/500 [1:48:28<08:30, 14.17s/it]"
          ]
        },
        {
          "output_type": "stream",
          "name": "stdout",
          "text": [
            "sour cream, brown sugar, vanilla extract\n",
            "\n",
            "==================================================\n",
            "Generating recipe for: peanutty rainbow cookies  gift mix in a jar\n",
            "==================================================\n"
          ]
        },
        {
          "output_type": "stream",
          "name": "stderr",
          "text": [
            "\r 93%|█████████▎| 465/500 [1:48:42<08:15, 14.16s/it]"
          ]
        },
        {
          "output_type": "stream",
          "name": "stdout",
          "text": [
            "flour, baking soda, salt, oatmeal, miniature m&m's chocolate candies, brown sugar, sugar, salted peanuts, butter, egg, vanilla extract\n",
            "\n",
            "=== Allergen Substitutions Made ===\n",
            "Replaced 'flour' with 'almond flour'\n",
            "Replaced 'salt' with 'coconut yogurt'\n",
            "Replaced 'sugar' with 'coconut yogurt'\n",
            "Replaced 'egg' with 'flax eggs'\n",
            "\n",
            "==================================================\n",
            "Generating recipe for: chocolate pillows\n",
            "==================================================\n"
          ]
        },
        {
          "output_type": "stream",
          "name": "stderr",
          "text": [
            "\r 93%|█████████▎| 466/500 [1:48:56<07:57, 14.05s/it]"
          ]
        },
        {
          "output_type": "stream",
          "name": "stdout",
          "text": [
            "port wine, sugar, dried tart cherry, butter, oil, wonton wrappers, egg, chocolate\n",
            "\n",
            "=== Allergen Substitutions Made ===\n",
            "Replaced 'sugar' with 'coconut yogurt'\n",
            "Replaced 'butter' with 'coconut oil'\n",
            "\n",
            "==================================================\n",
            "Generating recipe for: buttery red bliss potatoes\n",
            "==================================================\n"
          ]
        },
        {
          "output_type": "stream",
          "name": "stderr",
          "text": [
            "\r 93%|█████████▎| 467/500 [1:49:10<07:43, 14.05s/it]"
          ]
        },
        {
          "output_type": "stream",
          "name": "stdout",
          "text": [
            "red bliss potatoes, butter, fresh marjoram, salt, black pepper\n",
            "\n",
            "=== Allergen Substitutions Made ===\n",
            "Replaced 'butter' with 'coconut oil'\n",
            "Replaced 'salt' with 'coconut yogurt'\n",
            "\n",
            "==================================================\n",
            "Generating recipe for: chilled peach pie\n",
            "==================================================\n"
          ]
        },
        {
          "output_type": "stream",
          "name": "stderr",
          "text": [
            "\r 94%|█████████▎| 468/500 [1:49:24<07:30, 14.09s/it]"
          ]
        },
        {
          "output_type": "stream",
          "name": "stdout",
          "text": [
            "graham crackers, butter, peaches, fresh lime juice, unflavored gelatin, low-fat cream cheese, fat free cream cheese, fat-free sweetened condensed milk\n",
            "\n",
            "==================================================\n",
            "Generating recipe for: feta dill bread\n",
            "==================================================\n"
          ]
        },
        {
          "output_type": "stream",
          "name": "stderr",
          "text": [
            "\r 94%|█████████▍| 469/500 [1:49:38<07:17, 14.12s/it]"
          ]
        },
        {
          "output_type": "stream",
          "name": "stdout",
          "text": [
            "water, feta cheese, egg, butter, bread flour, instant potato flakes, nonfat dry milk powder, sugar, dried dill, salt, active dry yeast\n",
            "\n",
            "=== Allergen Substitutions Made ===\n",
            "Replaced 'water' with 'flax eggs'\n",
            "Replaced 'egg' with 'flax eggs'\n",
            "Replaced 'butter' with 'coconut oil'\n",
            "Replaced 'sugar' with 'coconut yogurt'\n",
            "Replaced 'salt' with 'coconut yogurt'\n",
            "\n",
            "==================================================\n",
            "Generating recipe for: lighter guacamole\n",
            "==================================================\n"
          ]
        },
        {
          "output_type": "stream",
          "name": "stderr",
          "text": [
            "\r 94%|█████████▍| 470/500 [1:49:53<07:04, 14.16s/it]"
          ]
        },
        {
          "output_type": "stream",
          "name": "stdout",
          "text": [
            "green peas, water, hass avocadoes, green onions, cilantro, lime juice, garlic clove, hot red pepper sauce, salt\n",
            "\n",
            "=== Allergen Substitutions Made ===\n",
            "Replaced 'water' with 'flax eggs'\n",
            "Replaced 'salt' with 'coconut yogurt'\n",
            "\n",
            "==================================================\n",
            "Generating recipe for: make ahead breakfast sandwiches\n",
            "==================================================\n"
          ]
        },
        {
          "output_type": "stream",
          "name": "stderr",
          "text": [
            "\r 94%|█████████▍| 471/500 [1:50:07<06:51, 14.19s/it]"
          ]
        },
        {
          "output_type": "stream",
          "name": "stdout",
          "text": [
            "refrigerated buttermilk biscuits, eggs, ground sausage, sharp cheddar cheese, dry mustard, pepper, garlic salt, butter\n",
            "\n",
            "==================================================\n",
            "Generating recipe for: peanut butter chocolate no bake bars\n",
            "==================================================\n"
          ]
        },
        {
          "output_type": "stream",
          "name": "stderr",
          "text": [
            "\r 94%|█████████▍| 472/500 [1:50:21<06:37, 14.21s/it]"
          ]
        },
        {
          "output_type": "stream",
          "name": "stdout",
          "text": [
            "peanut butter, light corn syrup, powdered sugar, margarine, quaker oats, semisweet chocolate piece, peanuts\n",
            "\n",
            "==================================================\n",
            "Generating recipe for: scrumptious lemon bars\n",
            "==================================================\n"
          ]
        },
        {
          "output_type": "stream",
          "name": "stderr",
          "text": [
            "\r 95%|█████████▍| 473/500 [1:50:36<06:32, 14.55s/it]"
          ]
        },
        {
          "output_type": "stream",
          "name": "stdout",
          "text": [
            "all-purpose flour, powdered sugar, butter, eggs, sugar, lemon juice, baking powder\n",
            "\n",
            "=== Allergen Substitutions Made ===\n",
            "Replaced 'butter' with 'coconut oil'\n",
            "Replaced 'sugar' with 'coconut yogurt'\n",
            "\n",
            "==================================================\n",
            "Generating recipe for: blackberry grunt\n",
            "==================================================\n"
          ]
        },
        {
          "output_type": "stream",
          "name": "stderr",
          "text": [
            "\r 95%|█████████▍| 474/500 [1:50:51<06:16, 14.48s/it]"
          ]
        },
        {
          "output_type": "stream",
          "name": "stdout",
          "text": [
            "all-purpose flour, baking powder, kosher salt, baking soda, unsalted butter, buttermilk, blackberries, sugar, water, ground ginger\n",
            "\n",
            "=== Allergen Substitutions Made ===\n",
            "Replaced 'sugar' with 'coconut yogurt'\n",
            "Replaced 'water' with 'flax eggs'\n",
            "\n",
            "==================================================\n",
            "Generating recipe for: healthy peanut butter banana muffins\n",
            "==================================================\n"
          ]
        },
        {
          "output_type": "stream",
          "name": "stderr",
          "text": [
            "\r 95%|█████████▌| 475/500 [1:51:05<06:00, 14.42s/it]"
          ]
        },
        {
          "output_type": "stream",
          "name": "stdout",
          "text": [
            "wheat bran, milk, all-purpose flour, sugar, baking powder, salt, banana, crunchy peanut butter, vegetable oil, egg, light brown sugar, butter, peanut butter\n",
            "\n",
            "=== Allergen Substitutions Made ===\n",
            "Replaced 'banana' with 'flax eggs'\n",
            "Replaced 'butter' with 'coconut oil'\n",
            "Replaced 'peanut butter' with 'sunflower seed butter'\n",
            "\n",
            "==================================================\n",
            "Generating recipe for: swedish meatballs  or kottbullar\n",
            "==================================================\n"
          ]
        },
        {
          "output_type": "stream",
          "name": "stderr",
          "text": [
            "\r 95%|█████████▌| 476/500 [1:51:19<05:45, 14.39s/it]"
          ]
        },
        {
          "output_type": "stream",
          "name": "stdout",
          "text": [
            "90% lean ground beef, ground pork, white bread, yellow onion, egg, worcestershire sauce, butter, canola oil, lemon, nutmeg, allspice, beef stock, campbell's cream of mushroom soup, button mushroom, heavy cream\n",
            "\n",
            "=== Allergen Substitutions Made ===\n",
            "Replaced 'egg' with 'flax eggs'\n",
            "Replaced 'butter' with 'coconut oil'\n",
            "\n",
            "==================================================\n",
            "Generating recipe for: gourmet zucchini fritters  no cheese\n",
            "==================================================\n"
          ]
        },
        {
          "output_type": "stream",
          "name": "stderr",
          "text": [
            "\r 95%|█████████▌| 477/500 [1:51:34<05:30, 14.36s/it]"
          ]
        },
        {
          "output_type": "stream",
          "name": "stdout",
          "text": [
            "yellow zucchini, kosher salt, water, fresh parsley, fresh garlic clove, lemon zest, table salt, black peppercorns, eggs, all-purpose flour, olive oil, lemon wedges\n",
            "\n",
            "=== Allergen Substitutions Made ===\n",
            "Replaced 'kosher salt' with 'seeds'\n",
            "Replaced 'olive oil' with 'coconut oil'\n",
            "\n",
            "==================================================\n",
            "Generating recipe for: healthy pork on the bbq\n",
            "==================================================\n"
          ]
        },
        {
          "output_type": "stream",
          "name": "stderr",
          "text": [
            "\r 96%|█████████▌| 478/500 [1:51:48<05:15, 14.34s/it]"
          ]
        },
        {
          "output_type": "stream",
          "name": "stdout",
          "text": [
            "soy sauce, olive oil, garlic powder, brown sugar, powdered ginger, pepper, boneless pork chops\n",
            "\n",
            "=== Allergen Substitutions Made ===\n",
            "Replaced 'olive oil' with 'coconut oil'\n",
            "Replaced 'pepper' with 'flax eggs'\n",
            "\n",
            "==================================================\n",
            "Generating recipe for: tasty fried apples\n",
            "==================================================\n"
          ]
        },
        {
          "output_type": "stream",
          "name": "stderr",
          "text": [
            "\r 96%|█████████▌| 479/500 [1:52:02<05:00, 14.30s/it]"
          ]
        },
        {
          "output_type": "stream",
          "name": "stdout",
          "text": [
            "tart cooking apples, sugar, margarine\n",
            "\n",
            "==================================================\n",
            "Generating recipe for: frozen bloody mary\n",
            "==================================================\n"
          ]
        },
        {
          "output_type": "stream",
          "name": "stderr",
          "text": [
            "\r 96%|█████████▌| 480/500 [1:52:16<04:45, 14.29s/it]"
          ]
        },
        {
          "output_type": "stream",
          "name": "stdout",
          "text": [
            "tomato juice, fresh lemon juice, fresh tomato, worcestershire sauce, hot pepper sauce, vodka, salt, ice cubes, fresh ground black pepper\n",
            "\n",
            "==================================================\n",
            "Generating recipe for: mini hot dogs\n",
            "==================================================\n"
          ]
        },
        {
          "output_type": "stream",
          "name": "stderr",
          "text": [
            "\r 96%|█████████▌| 481/500 [1:52:30<04:30, 14.25s/it]"
          ]
        },
        {
          "output_type": "stream",
          "name": "stdout",
          "text": [
            "rolls, cocktail frankfurters, cheese, tomato sauce\n",
            "\n",
            "=== Allergen Substitutions Made ===\n",
            "Replaced 'cheese' with 'nutritional yeast'\n",
            "\n",
            "==================================================\n",
            "Generating recipe for: mashed garlic carrots\n",
            "==================================================\n"
          ]
        },
        {
          "output_type": "stream",
          "name": "stderr",
          "text": [
            "\r 96%|█████████▋| 482/500 [1:52:44<04:15, 14.17s/it]"
          ]
        },
        {
          "output_type": "stream",
          "name": "stdout",
          "text": [
            "carrots, garlic, vegetable stock, dried thyme, salt and pepper\n",
            "\n",
            "=== Allergen Substitutions Made ===\n",
            "Replaced 'garlic' with 'coconut oil'\n",
            "\n",
            "==================================================\n",
            "Generating recipe for: sour cream and apple coffee cake\n",
            "==================================================\n"
          ]
        },
        {
          "output_type": "stream",
          "name": "stderr",
          "text": [
            "\r 97%|█████████▋| 483/500 [1:52:59<04:00, 14.15s/it]"
          ]
        },
        {
          "output_type": "stream",
          "name": "stdout",
          "text": [
            "walnuts, brown sugar, all-purpose flour, cinnamon, unsalted butter, granny smith apples, sugar, lemon juice, sour cream, buttermilk, baking powder, baking soda, salt, butter, eggs, vanilla extract\n",
            "\n",
            "=== Allergen Substitutions Made ===\n",
            "Replaced 'sugar' with 'coconut yogurt'\n",
            "Replaced 'butter' with 'coconut oil'\n",
            "\n",
            "==================================================\n",
            "Generating recipe for: sweet tamarind chutney\n",
            "==================================================\n"
          ]
        },
        {
          "output_type": "stream",
          "name": "stderr",
          "text": [
            "\r 97%|█████████▋| 484/500 [1:53:13<03:46, 14.14s/it]"
          ]
        },
        {
          "output_type": "stream",
          "name": "stdout",
          "text": [
            "tamarind pulp, hot water, cumin seed, coriander seed, red chili powder, sea salt, sugar, dates\n",
            "\n",
            "==================================================\n",
            "Generating recipe for: slow cooker chive and onion creamed corn\n",
            "==================================================\n"
          ]
        },
        {
          "output_type": "stream",
          "name": "stderr",
          "text": [
            "\r 97%|█████████▋| 485/500 [1:53:28<03:35, 14.38s/it]"
          ]
        },
        {
          "output_type": "stream",
          "name": "stdout",
          "text": [
            "bacon, frozen whole kernel corn, red bell pepper, milk, butter, sugar, salt, pepper, philadelphia chive & onion 1/3 less fat than cream cheese\n",
            "\n",
            "=== Allergen Substitutions Made ===\n",
            "Replaced 'butter' with 'coconut oil'\n",
            "Replaced 'salt' with 'coconut yogurt'\n",
            "Replaced 'pepper' with 'flax eggs'\n",
            "\n",
            "==================================================\n",
            "Generating recipe for: easy no knead bread\n",
            "==================================================\n"
          ]
        },
        {
          "output_type": "stream",
          "name": "stderr",
          "text": [
            "\r 97%|█████████▋| 486/500 [1:53:42<03:20, 14.35s/it]"
          ]
        },
        {
          "output_type": "stream",
          "name": "stdout",
          "text": [
            "flour, sugar, salt, dry yeast, warm water\n",
            "\n",
            "=== Allergen Substitutions Made ===\n",
            "Replaced 'flour' with 'almond flour'\n",
            "Replaced 'dry yeast' with 'nutritional yeast'\n",
            "Replaced 'warm water' with 'oat milk'\n",
            "\n",
            "==================================================\n",
            "Generating recipe for: rosemary satin dinner rolls\n",
            "==================================================\n"
          ]
        },
        {
          "output_type": "stream",
          "name": "stderr",
          "text": [
            "\r 97%|█████████▋| 487/500 [1:53:56<03:05, 14.28s/it]"
          ]
        },
        {
          "output_type": "stream",
          "name": "stdout",
          "text": [
            "all-purpose flour, active dry yeast, cream-style cottage cheese, water, butter, onions, salt, dried rosemary, egg, egg yolk\n",
            "\n",
            "==================================================\n",
            "Generating recipe for: ocean perch with white  wine sauce\n",
            "==================================================\n"
          ]
        },
        {
          "output_type": "stream",
          "name": "stderr",
          "text": [
            "\r 98%|█████████▊| 488/500 [1:54:10<02:50, 14.25s/it]"
          ]
        },
        {
          "output_type": "stream",
          "name": "stdout",
          "text": [
            "ocean perch fillets, flour, eggs, butter, onion, shallots, dry white wine, lemon juice, ground ginger, chives\n",
            "\n",
            "=== Allergen Substitutions Made ===\n",
            "Replaced 'flour' with 'almond flour'\n",
            "Replaced 'butter' with 'coconut oil'\n",
            "Replaced 'onion' with 'seeds'\n",
            "\n",
            "==================================================\n",
            "Generating recipe for: ancho chile and citrus ketchup\n",
            "==================================================\n"
          ]
        },
        {
          "output_type": "stream",
          "name": "stderr",
          "text": [
            "\r 98%|█████████▊| 489/500 [1:54:24<02:36, 14.20s/it]"
          ]
        },
        {
          "output_type": "stream",
          "name": "stdout",
          "text": [
            "ketchup, dried ancho chile powder, lemon, zest of, orange zest\n",
            "\n",
            "=== Allergen Substitutions Made ===\n",
            "Replaced 'ketchup' with 'coconut cream'\n",
            "Replaced 'lemon' with 'coconut cream'\n",
            "\n",
            "==================================================\n",
            "Generating recipe for: jello salad\n",
            "==================================================\n"
          ]
        },
        {
          "output_type": "stream",
          "name": "stderr",
          "text": [
            "\r 98%|█████████▊| 490/500 [1:54:38<02:21, 14.17s/it]"
          ]
        },
        {
          "output_type": "stream",
          "name": "stdout",
          "text": [
            "sugar-free strawberry gelatin, water, light non-dairy whipped topping, canned pineapple, banana\n",
            "\n",
            "=== Allergen Substitutions Made ===\n",
            "Replaced 'water' with 'flax eggs'\n",
            "Replaced 'banana' with 'flax eggs'\n",
            "\n",
            "==================================================\n",
            "Generating recipe for: sausage potato bake\n",
            "==================================================\n"
          ]
        },
        {
          "output_type": "stream",
          "name": "stderr",
          "text": [
            "\r 98%|█████████▊| 491/500 [1:54:52<02:07, 14.14s/it]"
          ]
        },
        {
          "output_type": "stream",
          "name": "stdout",
          "text": [
            "pork sausage, potatoes, apples, sugar, flour, cinnamon, salt, water\n",
            "\n",
            "=== Allergen Substitutions Made ===\n",
            "Replaced 'potatoes' with 'hearts of palm'\n",
            "Replaced 'salt' with 'coconut yogurt'\n",
            "Replaced 'water' with 'flax eggs'\n",
            "\n",
            "==================================================\n",
            "Generating recipe for: million dollar fudge\n",
            "==================================================\n"
          ]
        },
        {
          "output_type": "stream",
          "name": "stderr",
          "text": [
            "\r 98%|█████████▊| 492/500 [1:55:07<01:53, 14.16s/it]"
          ]
        },
        {
          "output_type": "stream",
          "name": "stdout",
          "text": [
            "white sugar, salt, butter, evaporated milk, nuts, semi-sweet chocolate chips, chocolate bars, marshmallow cream\n",
            "\n",
            "=== Allergen Substitutions Made ===\n",
            "Replaced 'salt' with 'coconut yogurt'\n",
            "Replaced 'butter' with 'coconut oil'\n",
            "\n",
            "==================================================\n",
            "Generating recipe for: world s fastest tomato sauce pasta\n",
            "==================================================\n"
          ]
        },
        {
          "output_type": "stream",
          "name": "stderr",
          "text": [
            "\r 99%|█████████▊| 493/500 [1:55:21<01:39, 14.15s/it]"
          ]
        },
        {
          "output_type": "stream",
          "name": "stdout",
          "text": [
            "tomato sauce, unsalted butter, dried oregano, salt, crushed red pepper flakes, parmesan cheese, pasta, basil leaves\n",
            "\n",
            "==================================================\n",
            "Generating recipe for: honey whole wheat rolls\n",
            "==================================================\n"
          ]
        },
        {
          "output_type": "stream",
          "name": "stderr",
          "text": [
            "\r 99%|█████████▉| 494/500 [1:55:35<01:24, 14.13s/it]"
          ]
        },
        {
          "output_type": "stream",
          "name": "stdout",
          "text": [
            "warm water, yeast, salt, honey, spelt flour, olive oil\n",
            "\n",
            "=== Allergen Substitutions Made ===\n",
            "Replaced 'warm water' with 'oat milk'\n",
            "Replaced 'yeast' with 'nutritional yeast'\n",
            "\n",
            "==================================================\n",
            "Generating recipe for: rosie s spiked wedding punch\n",
            "==================================================\n"
          ]
        },
        {
          "output_type": "stream",
          "name": "stderr",
          "text": [
            "\r 99%|█████████▉| 495/500 [1:55:49<01:10, 14.17s/it]"
          ]
        },
        {
          "output_type": "stream",
          "name": "stdout",
          "text": [
            "pineapple juice, iced tea, apple juice, vodka, lemonade concentrate, orange juice concentrate, ginger ale, mixed fruit\n",
            "\n",
            "==================================================\n",
            "Generating recipe for: maple   mustard glazed pork roast\n",
            "==================================================\n"
          ]
        },
        {
          "output_type": "stream",
          "name": "stderr",
          "text": [
            "\r 99%|█████████▉| 496/500 [1:56:03<00:56, 14.21s/it]"
          ]
        },
        {
          "output_type": "stream",
          "name": "stdout",
          "text": [
            "boneless pork loin roast, maple syrup, dijon mustard, cider vinegar, soy sauce\n",
            "\n",
            "=== Allergen Substitutions Made ===\n",
            "Replaced 'maple syrup' with 'coconut yogurt'\n",
            "Replaced 'dijon mustard' with 'coconut aminos'\n",
            "\n",
            "==================================================\n",
            "Generating recipe for: garlic and egg fried rice\n",
            "==================================================\n"
          ]
        },
        {
          "output_type": "stream",
          "name": "stderr",
          "text": [
            "\r 99%|█████████▉| 497/500 [1:56:18<00:42, 14.20s/it]"
          ]
        },
        {
          "output_type": "stream",
          "name": "stdout",
          "text": [
            "eggs, fish sauce, sesame oil, vegetable oil, garlic cloves, cooked rice, oyster sauce\n",
            "\n",
            "=== Allergen Substitutions Made ===\n",
            "Replaced 'eggs' with 'flax eggs'\n",
            "\n",
            "==================================================\n",
            "Generating recipe for: tropical rice pudding\n",
            "==================================================\n"
          ]
        },
        {
          "output_type": "stream",
          "name": "stderr",
          "text": [
            "\r100%|█████████▉| 498/500 [1:56:32<00:28, 14.37s/it]"
          ]
        },
        {
          "output_type": "stream",
          "name": "stdout",
          "text": [
            "light rum, currants, cooked white rice, milk, coconut milk, turbinado sugar, crystallized ginger, salt, fresh mango, papaya, shredded coconut\n",
            "\n",
            "=== Allergen Substitutions Made ===\n",
            "Replaced 'salt' with 'coconut yogurt'\n",
            "\n",
            "==================================================\n",
            "Generating recipe for: catfish or any firm white fish with pecan sauce\n",
            "==================================================\n"
          ]
        },
        {
          "output_type": "stream",
          "name": "stderr",
          "text": [
            "\r100%|█████████▉| 499/500 [1:56:47<00:14, 14.31s/it]"
          ]
        },
        {
          "output_type": "stream",
          "name": "stdout",
          "text": [
            "catfish fillets, milk, pecans, butter, green onion, all-purpose flour, paprika, salt, garlic powder, onion powder, ground red pepper, white pepper, black pepper, dried thyme, dried oregano, fresh lime juice\n",
            "\n",
            "=== Allergen Substitutions Made ===\n",
            "Replaced 'butter' with 'coconut oil'\n",
            "Replaced 'paprika' with 'hearts of palm'\n",
            "Replaced 'salt' with 'coconut yogurt'\n",
            "Replaced 'black pepper' with 'hearts of palm'\n",
            "\n",
            "==================================================\n",
            "Generating recipe for: rosemary polenta pound cake\n",
            "==================================================\n"
          ]
        },
        {
          "output_type": "stream",
          "name": "stderr",
          "text": [
            "100%|██████████| 500/500 [1:57:01<00:00, 14.04s/it]"
          ]
        },
        {
          "output_type": "stream",
          "name": "stdout",
          "text": [
            "buttermilk, polenta, flour, baking powder, baking soda, salt, fresh rosemary leaves, unsalted butter, sugar, eggs\n",
            "\n",
            "Progress saved to generated_recipes_temp_500.json\n",
            "\n",
            "All recipes generated and saved to generated_recipes_500.json\n"
          ]
        },
        {
          "output_type": "stream",
          "name": "stderr",
          "text": [
            "\n"
          ]
        }
      ],
      "source": [
        "import torch\n",
        "import json\n",
        "import pandas as pd\n",
        "import ast\n",
        "from transformers import AutoModelForCausalLM, AutoTokenizer\n",
        "from tqdm import tqdm\n",
        "from langchain_community.vectorstores import FAISS\n",
        "from peft import PeftModel, PeftConfig\n",
        "from langchain.text_splitter import RecursiveCharacterTextSplitter\n",
        "from langchain_community.embeddings import HuggingFaceEmbeddings\n",
        "from langchain.chains import LLMChain\n",
        "from langchain_community.llms import HuggingFaceEndpoint\n",
        "import re\n",
        "import logging\n",
        "from sklearn.model_selection import train_test_split\n",
        "\n",
        "MODEL_NAME = \"microsoft/phi-2\"\n",
        "MAX_LENGTH = 512\n",
        "NUM_SAMPLES = 1\n",
        "FINETUNED_PATH = \"final_model\"\n",
        "EMBEDDINGS_MODEL = \"sentence-transformers/all-MiniLM-L6-v2\"\n",
        "ALLERGEN_DB_PATH = \"allergen_substitutes.json\"\n",
        "CHUNK_SIZE = 1000\n",
        "CHUNK_OVERLAP = 200\n",
        "\n",
        "def load_recipes():\n",
        "    print(\"Loading recipe dataset...\")\n",
        "    recipes = pd.read_csv('RAW_recipes.csv', encoding='utf8')\n",
        "    recipes = recipes[['name', 'ingredients', 'steps']]\n",
        "    recipes['name'] = recipes['name'].apply(lambda x: [x] if isinstance(x, str) else x)\n",
        "    recipes['steps'] = recipes['steps'].apply(ast.literal_eval)\n",
        "    recipes['ingredients'] = recipes['ingredients'].apply(ast.literal_eval)\n",
        "    subsample_size = len(recipes)\n",
        "    recipes = recipes.sample(n=subsample_size, random_state=42)\n",
        "    logging.info(f\"Using a subsample of {len(recipes)} recipes\")\n",
        "\n",
        "    def format_recipe(row):\n",
        "        try:\n",
        "            name = row['name']\n",
        "            if isinstance(name, list):\n",
        "                name = ' '.join(map(str, name))  # Join list elements into a single string\n",
        "            else:\n",
        "                name = str(name)  # If it's not a list, just convert it to a string\n",
        "\n",
        "            # Handle 'ingredients' field (ensure it's a list or convert to a string if it's not)\n",
        "            ingredients = row['ingredients']\n",
        "            if isinstance(ingredients, list):\n",
        "                ingredients = ', '.join(map(str, ingredients))  # Join list elements into a single string\n",
        "            else:\n",
        "                ingredients = str(ingredients)  # If it's not a list, just convert it to a string\n",
        "\n",
        "            # Handle 'steps' field (ensure it's a list or convert to a string if it's not)\n",
        "            steps = row['steps']\n",
        "            if isinstance(steps, list):\n",
        "                steps = '\\n'.join(map(str, steps))  # Join list elements into a single string with newlines\n",
        "            else:\n",
        "                steps = str(steps)  # If it's not a list, just convert it to a string\n",
        "\n",
        "            # Format the recipe as a string\n",
        "            prompt = f\"Name: {name}\\nIngredients: {ingredients}\\nInstructions:\"\n",
        "            completion = steps  # Instructions are joined by newlines\n",
        "\n",
        "            return prompt + completion\n",
        "        except Exception as e:\n",
        "            logging.warning(f\"Error processing recipe: {str(e)}\")\n",
        "            return None\n",
        "\n",
        "    formatted_data = recipes.apply(format_recipe, axis=1)\n",
        "    formatted_data = formatted_data[formatted_data.notna()].tolist()\n",
        "    copy_formatted_data = formatted_data.copy()\n",
        "    train_val_text, test_texts = train_test_split(copy_formatted_data, test_size=0.1, random_state=42)\n",
        "    train_texts, val_texts = train_test_split(train_val_text, test_size=1/9, random_state=42)\n",
        "\n",
        "    logging.info(f\"Split dataset into {len(train_texts)} training, {len(val_texts)} validation samples and {len(test_texts)} test samples\")\n",
        "    return train_texts, val_texts, test_texts\n",
        "\n",
        "def load_allergen_database():\n",
        "    \"\"\"Load and prepare the allergen substitution database for RAG\"\"\"\n",
        "    with open(ALLERGEN_DB_PATH, 'r') as f:\n",
        "        allergen_data = json.load(f)\n",
        "\n",
        "    documents = []\n",
        "    for allergen, info in allergen_data.items():\n",
        "        doc = f\"Allergen: {allergen}\\nSubstitutes: {', '.join(info['substitutes'])}\\nNotes: {info['notes']}\"\n",
        "        documents.append(doc)\n",
        "\n",
        "    text_splitter = RecursiveCharacterTextSplitter(\n",
        "        chunk_size=CHUNK_SIZE,\n",
        "        chunk_overlap=CHUNK_OVERLAP\n",
        "    )\n",
        "    texts = text_splitter.create_documents(documents)\n",
        "\n",
        "    embeddings = HuggingFaceEmbeddings(model_name=EMBEDDINGS_MODEL)\n",
        "    vectorstore = FAISS.from_documents(texts, embeddings)\n",
        "\n",
        "    return vectorstore\n",
        "\n",
        "def substitute_allergens(recipe_text, vectorstore,ingredients):\n",
        "    \"\"\"Use RAG to identify and substitute allergens in the recipe\"\"\"\n",
        "    #ingredients_match = re.search(r\"Ingredients:(.*?)Instructions:\", recipe_text, re.DOTALL)\n",
        "    ingredients_list=ingredients.split(', ')\n",
        "    ingredients_match=[]\n",
        "    for ingredient in ingredients_list:\n",
        "      if ingredient in recipe_text:\n",
        "        ingredients_match.append(ingredient)\n",
        "    #ingredients_text = ingredients_match.group(1).strip()\n",
        "    #ingredients_list = [i.strip() for i in ingredients_text.split('\\n') if i.strip()]\n",
        "    print(ingredients)\n",
        "    if not ingredients_match:\n",
        "      return recipe_text,[]\n",
        "\n",
        "    substitutions_made = []\n",
        "    modified_recipe = recipe_text\n",
        "\n",
        "    for ingredient in ingredients_match:\n",
        "        results = vectorstore.similarity_search(\n",
        "            f\"What are substitutes for {ingredient}?\",\n",
        "            k=1\n",
        "        )\n",
        "\n",
        "        if results and \"Substitutes:\" in results[0].page_content:\n",
        "            substitute_info = results[0].page_content.split(\"Substitutes:\")[1].split(\"Notes:\")[0].strip()\n",
        "            substitutes = substitute_info.split(', ')[0]\n",
        "\n",
        "            modified_recipe = modified_recipe.replace(ingredient, f\"{substitutes} (substitute for {ingredient})\")\n",
        "            substitutions_made.append({\n",
        "                \"original\": ingredient,\n",
        "                \"substitute\": substitutes\n",
        "            })\n",
        "\n",
        "    return modified_recipe, substitutions_made\n",
        "\n",
        "def generate_recipe(model, tokenizer, ingredients, name, vectorstore):\n",
        "    prompt = f\"\"\"You are an expert chef and recipe writer. Given a recipe name and a list of ingredients, create a high-quality, detailed recipe.\n",
        "\n",
        "Create a detailed recipe for: {name}\n",
        "Using these ingredients: {ingredients}\n",
        "\n",
        "Recipe:\"\"\"\n",
        "\n",
        "    inputs = tokenizer(prompt, return_tensors=\"pt\", truncation=True, max_length=MAX_LENGTH)\n",
        "    inputs = {k: v.to(device=model.device) for k, v in inputs.items()}\n",
        "\n",
        "    outputs = model.generate(\n",
        "        **inputs,\n",
        "        max_new_tokens=256,\n",
        "        temperature=0.75,\n",
        "        top_p=0.8,\n",
        "        do_sample=True,\n",
        "        no_repeat_ngram_size=4,\n",
        "        repetition_penalty=1.3,\n",
        "        pad_token_id=tokenizer.pad_token_id\n",
        "    )\n",
        "\n",
        "    generated_recipe = tokenizer.decode(outputs[0], skip_special_tokens=True)\n",
        "    original_recipe = generated_recipe.replace(prompt, \"\").strip()\n",
        "\n",
        "    #print(\"\\n=== Original Recipe ===\")\n",
        "    #print(original_recipe)\n",
        "\n",
        "    modified_recipe, substitutions = substitute_allergens(original_recipe, vectorstore,ingredients)\n",
        "\n",
        "    if substitutions:\n",
        "        print(\"\\n=== Allergen Substitutions Made ===\")\n",
        "        for sub in substitutions:\n",
        "            print(f\"Replaced '{sub['original']}' with '{sub['substitute']}'\")\n",
        "\n",
        "    #print(\"\\n=== Modified Recipe ===\")\n",
        "    #print(modified_recipe)\n",
        "\n",
        "    return {\n",
        "        \"original_recipe\": original_recipe,\n",
        "        \"modified_recipe\": modified_recipe,\n",
        "        \"substitutions\": substitutions\n",
        "    }\n",
        "\n",
        "def main():\n",
        "    device = torch.device(\"cuda\" if torch.cuda.is_available() else \"cpu\")\n",
        "    print(f\"Using device: {device}\")\n",
        "\n",
        "    print(\"Loading model and tokenizer...\")\n",
        "    tokenizer = AutoTokenizer.from_pretrained(MODEL_NAME)\n",
        "    model = AutoModelForCausalLM.from_pretrained(MODEL_NAME)\n",
        "    model.to(device)\n",
        "\n",
        "    print(\"Loading PEFT model...\")\n",
        "    finetuned_model = PeftModel.from_pretrained(model, FINETUNED_PATH)\n",
        "    finetuned_model.eval()\n",
        "\n",
        "\n",
        "    if tokenizer.pad_token is None:\n",
        "        tokenizer.pad_token = tokenizer.eos_token\n",
        "        model.config.pad_token_id = tokenizer.pad_token_id\n",
        "\n",
        "    print(\"Loading allergen database and creating vector store...\")\n",
        "    vectorstore = load_allergen_database()\n",
        "    train_text,val_text,test_text=load_recipes()\n",
        "    recipe_data =test_text[:500]\n",
        "\n",
        "    print(f\"Generating {NUM_SAMPLES} recipes with allergen substitutions...\")\n",
        "    recipes = []\n",
        "    for recipe in tqdm(recipe_data):\n",
        "        parts = recipe.split(\"\\nInstructions:\")\n",
        "        header = parts[0].split(\"\\nIngredients: \")\n",
        "        name = header[0].replace(\"Name: \", \"\")\n",
        "        ingredients = header[1]\n",
        "        reference_instructions = parts[1] if len(parts) > 1 else \"\"\n",
        "        print(\"\\n\" + \"=\"*50)\n",
        "        print(f\"Generating recipe for: {name}\")\n",
        "        print(\"=\"*50)\n",
        "        generated_recipe = generate_recipe(finetuned_model, tokenizer, ingredients,name,vectorstore)\n",
        "        #print(\"\\n=== Complete Recipe Information ===\")\n",
        "        #print(\"Original Recipe:\", generated_recipe['original_recipe'])\n",
        "        #print(\"\\nSubstitutions Made:\", generated_recipe['substitutions'])\n",
        "        #print(\"\\nModified Recipe:\", generated_recipe['modified_recipe'])\n",
        "        recipe_dict = {\n",
        "            \"name\": name,\n",
        "            \"ingredients\": ingredients,\n",
        "            \"modified\": generated_recipe['modified_recipe'],\n",
        "            \"reference_instructions\": reference_instructions\n",
        "\n",
        "        }\n",
        "        recipes.append(recipe_dict)\n",
        "        if len(recipes) % 50 == 0:\n",
        "            temp_file = f\"generated_recipes_temp_{len(recipes)}.json\"\n",
        "            with open(temp_file, \"w\") as f:\n",
        "                json.dump(recipes, f, indent=4)\n",
        "            print(f\"\\nProgress saved to {temp_file}\")\n",
        "\n",
        "    output_file = \"generated_recipes_500.json\"\n",
        "    with open(output_file, \"w\") as f:\n",
        "        json.dump(recipes, f, indent=4)\n",
        "\n",
        "    print(f\"\\nAll recipes generated and saved to {output_file}\")\n",
        "\n",
        "if __name__ == \"__main__\":\n",
        "    main()"
      ]
    },
    {
      "cell_type": "code",
      "source": [],
      "metadata": {
        "id": "_feBpACuHRhq"
      },
      "execution_count": null,
      "outputs": []
    }
  ]
}